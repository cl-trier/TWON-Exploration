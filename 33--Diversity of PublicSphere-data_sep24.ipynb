{
 "cells": [
  {
   "cell_type": "code",
   "execution_count": 1,
   "metadata": {},
   "outputs": [
    {
     "name": "stderr",
     "output_type": "stream",
     "text": [
      "[nltk_data] Downloading package stopwords to\n",
      "[nltk_data]     C:\\Users\\sstolwi\\AppData\\Roaming\\nltk_data...\n",
      "[nltk_data]   Package stopwords is already up-to-date!\n",
      "[nltk_data] Downloading package wordnet to\n",
      "[nltk_data]     C:\\Users\\sstolwi\\AppData\\Roaming\\nltk_data...\n",
      "[nltk_data]   Package wordnet is already up-to-date!\n",
      "\n",
      "A module that was compiled using NumPy 1.x cannot be run in\n",
      "NumPy 2.1.1 as it may crash. To support both 1.x and 2.x\n",
      "versions of NumPy, modules must be compiled with NumPy 2.0.\n",
      "Some module may need to rebuild instead e.g. with 'pybind11>=2.12'.\n",
      "\n",
      "If you are a user of the module, the easiest solution will be to\n",
      "downgrade to 'numpy<2' or try to upgrade the affected module.\n",
      "We expect that some modules will need time to support NumPy 2.\n",
      "\n",
      "Traceback (most recent call last):  File \"<frozen runpy>\", line 198, in _run_module_as_main\n",
      "  File \"<frozen runpy>\", line 88, in _run_code\n",
      "  File \"c:\\Users\\sstolwi\\Github\\llmdiv\\Lib\\site-packages\\ipykernel_launcher.py\", line 18, in <module>\n",
      "    app.launch_new_instance()\n",
      "  File \"c:\\Users\\sstolwi\\Github\\llmdiv\\Lib\\site-packages\\traitlets\\config\\application.py\", line 1075, in launch_instance\n",
      "    app.start()\n",
      "  File \"c:\\Users\\sstolwi\\Github\\llmdiv\\Lib\\site-packages\\ipykernel\\kernelapp.py\", line 739, in start\n",
      "    self.io_loop.start()\n",
      "  File \"c:\\Users\\sstolwi\\Github\\llmdiv\\Lib\\site-packages\\tornado\\platform\\asyncio.py\", line 205, in start\n",
      "    self.asyncio_loop.run_forever()\n",
      "  File \"C:\\Program Files\\WindowsApps\\PythonSoftwareFoundation.Python.3.12_3.12.2032.0_x64__qbz5n2kfra8p0\\Lib\\asyncio\\base_events.py\", line 641, in run_forever\n",
      "    self._run_once()\n",
      "  File \"C:\\Program Files\\WindowsApps\\PythonSoftwareFoundation.Python.3.12_3.12.2032.0_x64__qbz5n2kfra8p0\\Lib\\asyncio\\base_events.py\", line 1986, in _run_once\n",
      "    handle._run()\n",
      "  File \"C:\\Program Files\\WindowsApps\\PythonSoftwareFoundation.Python.3.12_3.12.2032.0_x64__qbz5n2kfra8p0\\Lib\\asyncio\\events.py\", line 88, in _run\n",
      "    self._context.run(self._callback, *self._args)\n",
      "  File \"c:\\Users\\sstolwi\\Github\\llmdiv\\Lib\\site-packages\\ipykernel\\kernelbase.py\", line 545, in dispatch_queue\n",
      "    await self.process_one()\n",
      "  File \"c:\\Users\\sstolwi\\Github\\llmdiv\\Lib\\site-packages\\ipykernel\\kernelbase.py\", line 534, in process_one\n",
      "    await dispatch(*args)\n",
      "  File \"c:\\Users\\sstolwi\\Github\\llmdiv\\Lib\\site-packages\\ipykernel\\kernelbase.py\", line 437, in dispatch_shell\n",
      "    await result\n",
      "  File \"c:\\Users\\sstolwi\\Github\\llmdiv\\Lib\\site-packages\\ipykernel\\ipkernel.py\", line 362, in execute_request\n",
      "    await super().execute_request(stream, ident, parent)\n",
      "  File \"c:\\Users\\sstolwi\\Github\\llmdiv\\Lib\\site-packages\\ipykernel\\kernelbase.py\", line 778, in execute_request\n",
      "    reply_content = await reply_content\n",
      "  File \"c:\\Users\\sstolwi\\Github\\llmdiv\\Lib\\site-packages\\ipykernel\\ipkernel.py\", line 449, in do_execute\n",
      "    res = shell.run_cell(\n",
      "  File \"c:\\Users\\sstolwi\\Github\\llmdiv\\Lib\\site-packages\\ipykernel\\zmqshell.py\", line 549, in run_cell\n",
      "    return super().run_cell(*args, **kwargs)\n",
      "  File \"c:\\Users\\sstolwi\\Github\\llmdiv\\Lib\\site-packages\\IPython\\core\\interactiveshell.py\", line 3075, in run_cell\n",
      "    result = self._run_cell(\n",
      "  File \"c:\\Users\\sstolwi\\Github\\llmdiv\\Lib\\site-packages\\IPython\\core\\interactiveshell.py\", line 3130, in _run_cell\n",
      "    result = runner(coro)\n",
      "  File \"c:\\Users\\sstolwi\\Github\\llmdiv\\Lib\\site-packages\\IPython\\core\\async_helpers.py\", line 128, in _pseudo_sync_runner\n",
      "    coro.send(None)\n",
      "  File \"c:\\Users\\sstolwi\\Github\\llmdiv\\Lib\\site-packages\\IPython\\core\\interactiveshell.py\", line 3334, in run_cell_async\n",
      "    has_raised = await self.run_ast_nodes(code_ast.body, cell_name,\n",
      "  File \"c:\\Users\\sstolwi\\Github\\llmdiv\\Lib\\site-packages\\IPython\\core\\interactiveshell.py\", line 3517, in run_ast_nodes\n",
      "    if await self.run_code(code, result, async_=asy):\n",
      "  File \"c:\\Users\\sstolwi\\Github\\llmdiv\\Lib\\site-packages\\IPython\\core\\interactiveshell.py\", line 3577, in run_code\n",
      "    exec(code_obj, self.user_global_ns, self.user_ns)\n",
      "  File \"C:\\Users\\sstolwi\\AppData\\Local\\Temp\\ipykernel_16988\\795284061.py\", line 16, in <module>\n",
      "    import src\n",
      "  File \"c:\\Users\\sstolwi\\Github\\TWON-Metrics\\src\\__init__.py\", line 1, in <module>\n",
      "    from .hf_classify import HFClassify\n",
      "  File \"c:\\Users\\sstolwi\\Github\\TWON-Metrics\\src\\hf_classify.py\", line 5, in <module>\n",
      "    import torch\n",
      "  File \"c:\\Users\\sstolwi\\Github\\llmdiv\\Lib\\site-packages\\torch\\__init__.py\", line 1477, in <module>\n",
      "    from .functional import *  # noqa: F403\n",
      "  File \"c:\\Users\\sstolwi\\Github\\llmdiv\\Lib\\site-packages\\torch\\functional.py\", line 9, in <module>\n",
      "    import torch.nn.functional as F\n",
      "  File \"c:\\Users\\sstolwi\\Github\\llmdiv\\Lib\\site-packages\\torch\\nn\\__init__.py\", line 1, in <module>\n",
      "    from .modules import *  # noqa: F403\n",
      "  File \"c:\\Users\\sstolwi\\Github\\llmdiv\\Lib\\site-packages\\torch\\nn\\modules\\__init__.py\", line 35, in <module>\n",
      "    from .transformer import TransformerEncoder, TransformerDecoder, \\\n",
      "  File \"c:\\Users\\sstolwi\\Github\\llmdiv\\Lib\\site-packages\\torch\\nn\\modules\\transformer.py\", line 20, in <module>\n",
      "    device: torch.device = torch.device(torch._C._get_default_device()),  # torch.device('cpu'),\n",
      "c:\\Users\\sstolwi\\Github\\llmdiv\\Lib\\site-packages\\torch\\nn\\modules\\transformer.py:20: UserWarning: Failed to initialize NumPy: _ARRAY_API not found (Triggered internally at ..\\torch\\csrc\\utils\\tensor_numpy.cpp:84.)\n",
      "  device: torch.device = torch.device(torch._C._get_default_device()),  # torch.device('cpu'),\n",
      "c:\\Users\\sstolwi\\Github\\llmdiv\\Lib\\site-packages\\tqdm\\auto.py:21: TqdmWarning: IProgress not found. Please update jupyter and ipywidgets. See https://ipywidgets.readthedocs.io/en/stable/user_install.html\n",
      "  from .autonotebook import tqdm as notebook_tqdm\n"
     ]
    }
   ],
   "source": [
    "import typing\n",
    "\n",
    "import pandas as pd\n",
    "import nltk\n",
    "from nltk.corpus import stopwords\n",
    "from nltk.stem import WordNetLemmatizer\n",
    "from tqdm import tqdm\n",
    "import re\n",
    "\n",
    "from sklearn.feature_extraction.text import TfidfVectorizer\n",
    "nltk.download('stopwords')\n",
    "nltk.download('wordnet')\n",
    "\n",
    "from sklearn.metrics.pairwise import cosine_similarity\n",
    "import config\n",
    "import src\n",
    "import requests\n",
    "import tqdm\n",
    "import json\n",
    "import numpy as np\n",
    "import logging\n",
    "import torch\n",
    "device = torch.device('cpu')\n",
    "from transformers import AutoTokenizer, AutoModel\n",
    "#import cltrier_lib as lib\n",
    "\n",
    "import yaml\n",
    "import matplotlib.pyplot as plt"
   ]
  },
  {
   "cell_type": "code",
   "execution_count": 2,
   "metadata": {},
   "outputs": [],
   "source": [
    "CFG = config.Config()"
   ]
  },
  {
   "cell_type": "code",
   "execution_count": 4,
   "metadata": {},
   "outputs": [
    {
     "data": {
      "text/html": [
       "<div>\n",
       "<style scoped>\n",
       "    .dataframe tbody tr th:only-of-type {\n",
       "        vertical-align: middle;\n",
       "    }\n",
       "\n",
       "    .dataframe tbody tr th {\n",
       "        vertical-align: top;\n",
       "    }\n",
       "\n",
       "    .dataframe thead th {\n",
       "        text-align: right;\n",
       "    }\n",
       "</style>\n",
       "<table border=\"1\" class=\"dataframe\">\n",
       "  <thead>\n",
       "    <tr style=\"text-align: right;\">\n",
       "      <th></th>\n",
       "      <th>StartDate</th>\n",
       "      <th>RecordedDate</th>\n",
       "      <th>IPAddress</th>\n",
       "      <th>Finished</th>\n",
       "      <th>Coder</th>\n",
       "      <th>ID</th>\n",
       "      <th>Mark_ID</th>\n",
       "      <th>Genre</th>\n",
       "      <th>topiccode</th>\n",
       "      <th>Platform</th>\n",
       "      <th>...</th>\n",
       "      <th>dislikeCount_video</th>\n",
       "      <th>likeCount_video</th>\n",
       "      <th>date_difference</th>\n",
       "      <th>commentCount_video</th>\n",
       "      <th>replyCount_comment</th>\n",
       "      <th>topic</th>\n",
       "      <th>subscribers</th>\n",
       "      <th>HATELIST_FOCUSED_DUMMY</th>\n",
       "      <th>Time_comment_year</th>\n",
       "      <th>Time_video_year</th>\n",
       "    </tr>\n",
       "  </thead>\n",
       "  <tbody>\n",
       "    <tr>\n",
       "      <th>0</th>\n",
       "      <td>5/30/2021 13:03:17</td>\n",
       "      <td>5/30/2021 13:04:17</td>\n",
       "      <td>62.194.51.29</td>\n",
       "      <td>1</td>\n",
       "      <td>6</td>\n",
       "      <td>UgyPHwv8G0cDE6-wEgl4AaABAg.8_0ZjJKSJty8_0kXGkAd2U</td>\n",
       "      <td>119</td>\n",
       "      <td>0</td>\n",
       "      <td>0</td>\n",
       "      <td>1</td>\n",
       "      <td>...</td>\n",
       "      <td>NaN</td>\n",
       "      <td>NaN</td>\n",
       "      <td>NaN</td>\n",
       "      <td>NaN</td>\n",
       "      <td>NaN</td>\n",
       "      <td>NaN</td>\n",
       "      <td>NaN</td>\n",
       "      <td>0</td>\n",
       "      <td>2017</td>\n",
       "      <td>2017.0</td>\n",
       "    </tr>\n",
       "    <tr>\n",
       "      <th>1</th>\n",
       "      <td>10/11/2021 10:34:05</td>\n",
       "      <td>10/11/2021 10:36:46</td>\n",
       "      <td>213.127.109.191</td>\n",
       "      <td>1</td>\n",
       "      <td>6</td>\n",
       "      <td>Ugx2WXq9UdV8mPPjejJ4AaABAg.8yHCKV0Boe58yYRxEQEF45</td>\n",
       "      <td>282</td>\n",
       "      <td>1</td>\n",
       "      <td>2</td>\n",
       "      <td>1</td>\n",
       "      <td>...</td>\n",
       "      <td>195.0</td>\n",
       "      <td>3817.0</td>\n",
       "      <td>743.0</td>\n",
       "      <td>1748.0</td>\n",
       "      <td>NaN</td>\n",
       "      <td>economy</td>\n",
       "      <td>3630000.0</td>\n",
       "      <td>0</td>\n",
       "      <td>2019</td>\n",
       "      <td>2019.0</td>\n",
       "    </tr>\n",
       "    <tr>\n",
       "      <th>2</th>\n",
       "      <td>9/9/2021 18:49:48</td>\n",
       "      <td>9/9/2021 18:51:32</td>\n",
       "      <td>213.127.110.0</td>\n",
       "      <td>1</td>\n",
       "      <td>6</td>\n",
       "      <td>1110578710648890000</td>\n",
       "      <td>372</td>\n",
       "      <td>2</td>\n",
       "      <td>4</td>\n",
       "      <td>2</td>\n",
       "      <td>...</td>\n",
       "      <td>NaN</td>\n",
       "      <td>NaN</td>\n",
       "      <td>NaN</td>\n",
       "      <td>NaN</td>\n",
       "      <td>NaN</td>\n",
       "      <td>NaN</td>\n",
       "      <td>NaN</td>\n",
       "      <td>0</td>\n",
       "      <td>2019</td>\n",
       "      <td>NaN</td>\n",
       "    </tr>\n",
       "    <tr>\n",
       "      <th>3</th>\n",
       "      <td>6/6/2021 16:12:46</td>\n",
       "      <td>6/6/2021 16:16:16</td>\n",
       "      <td>213.127.76.145</td>\n",
       "      <td>1</td>\n",
       "      <td>6</td>\n",
       "      <td>UgwUPFScjJ0MCeaP2F54AaABAg.8lvp3fc9Euf8lvvgsUgEgV</td>\n",
       "      <td>769</td>\n",
       "      <td>0</td>\n",
       "      <td>0</td>\n",
       "      <td>1</td>\n",
       "      <td>...</td>\n",
       "      <td>NaN</td>\n",
       "      <td>NaN</td>\n",
       "      <td>NaN</td>\n",
       "      <td>NaN</td>\n",
       "      <td>NaN</td>\n",
       "      <td>NaN</td>\n",
       "      <td>NaN</td>\n",
       "      <td>0</td>\n",
       "      <td>2018</td>\n",
       "      <td>2018.0</td>\n",
       "    </tr>\n",
       "    <tr>\n",
       "      <th>4</th>\n",
       "      <td>6/13/2021 13:25:49</td>\n",
       "      <td>6/13/2021 13:27:28</td>\n",
       "      <td>213.127.82.232</td>\n",
       "      <td>1</td>\n",
       "      <td>6</td>\n",
       "      <td>UgwWKCWtSJdFvjGHvTp4AaABAg.8kUC5dGrQ2H8kUDRihE2f3</td>\n",
       "      <td>1206</td>\n",
       "      <td>0</td>\n",
       "      <td>0</td>\n",
       "      <td>1</td>\n",
       "      <td>...</td>\n",
       "      <td>NaN</td>\n",
       "      <td>NaN</td>\n",
       "      <td>NaN</td>\n",
       "      <td>NaN</td>\n",
       "      <td>NaN</td>\n",
       "      <td>NaN</td>\n",
       "      <td>NaN</td>\n",
       "      <td>0</td>\n",
       "      <td>2018</td>\n",
       "      <td>2018.0</td>\n",
       "    </tr>\n",
       "    <tr>\n",
       "      <th>...</th>\n",
       "      <td>...</td>\n",
       "      <td>...</td>\n",
       "      <td>...</td>\n",
       "      <td>...</td>\n",
       "      <td>...</td>\n",
       "      <td>...</td>\n",
       "      <td>...</td>\n",
       "      <td>...</td>\n",
       "      <td>...</td>\n",
       "      <td>...</td>\n",
       "      <td>...</td>\n",
       "      <td>...</td>\n",
       "      <td>...</td>\n",
       "      <td>...</td>\n",
       "      <td>...</td>\n",
       "      <td>...</td>\n",
       "      <td>...</td>\n",
       "      <td>...</td>\n",
       "      <td>...</td>\n",
       "      <td>...</td>\n",
       "      <td>...</td>\n",
       "    </tr>\n",
       "    <tr>\n",
       "      <th>3857</th>\n",
       "      <td>8/19/2021 14:50:13</td>\n",
       "      <td>8/19/2021 14:54:28</td>\n",
       "      <td>62.194.51.29</td>\n",
       "      <td>1</td>\n",
       "      <td>6</td>\n",
       "      <td>1152219467579100000</td>\n",
       "      <td>10000695</td>\n",
       "      <td>0</td>\n",
       "      <td>4</td>\n",
       "      <td>2</td>\n",
       "      <td>...</td>\n",
       "      <td>NaN</td>\n",
       "      <td>NaN</td>\n",
       "      <td>NaN</td>\n",
       "      <td>NaN</td>\n",
       "      <td>NaN</td>\n",
       "      <td>NaN</td>\n",
       "      <td>NaN</td>\n",
       "      <td>0</td>\n",
       "      <td>2019</td>\n",
       "      <td>NaN</td>\n",
       "    </tr>\n",
       "    <tr>\n",
       "      <th>3858</th>\n",
       "      <td>8/19/2021 15:10:27</td>\n",
       "      <td>8/19/2021 15:12:21</td>\n",
       "      <td>62.194.51.29</td>\n",
       "      <td>1</td>\n",
       "      <td>6</td>\n",
       "      <td>1085362296472430000</td>\n",
       "      <td>10007008</td>\n",
       "      <td>1</td>\n",
       "      <td>4</td>\n",
       "      <td>2</td>\n",
       "      <td>...</td>\n",
       "      <td>NaN</td>\n",
       "      <td>NaN</td>\n",
       "      <td>NaN</td>\n",
       "      <td>NaN</td>\n",
       "      <td>NaN</td>\n",
       "      <td>NaN</td>\n",
       "      <td>NaN</td>\n",
       "      <td>0</td>\n",
       "      <td>2019</td>\n",
       "      <td>NaN</td>\n",
       "    </tr>\n",
       "    <tr>\n",
       "      <th>3859</th>\n",
       "      <td>10/6/2021 16:08:39</td>\n",
       "      <td>10/6/2021 16:10:42</td>\n",
       "      <td>213.127.113.113</td>\n",
       "      <td>1</td>\n",
       "      <td>6</td>\n",
       "      <td>UghFY3QJ6nmT_ngCoAEC.7-H0Z7--wxd8goqpaPs-bl</td>\n",
       "      <td>20000102</td>\n",
       "      <td>0</td>\n",
       "      <td>3</td>\n",
       "      <td>1</td>\n",
       "      <td>...</td>\n",
       "      <td>2820.0</td>\n",
       "      <td>12475.0</td>\n",
       "      <td>3803.0</td>\n",
       "      <td>4785.0</td>\n",
       "      <td>NaN</td>\n",
       "      <td>east</td>\n",
       "      <td>6740000.0</td>\n",
       "      <td>0</td>\n",
       "      <td>2018</td>\n",
       "      <td>2010.0</td>\n",
       "    </tr>\n",
       "    <tr>\n",
       "      <th>3860</th>\n",
       "      <td>10/15/2021 18:30:04</td>\n",
       "      <td>10/15/2021 18:35:40</td>\n",
       "      <td>213.127.109.191</td>\n",
       "      <td>1</td>\n",
       "      <td>6</td>\n",
       "      <td>UgyWabsmmnq3zam4DgZ4AaABAg</td>\n",
       "      <td>20000418</td>\n",
       "      <td>2</td>\n",
       "      <td>3</td>\n",
       "      <td>1</td>\n",
       "      <td>...</td>\n",
       "      <td>118.0</td>\n",
       "      <td>31761.0</td>\n",
       "      <td>1531.0</td>\n",
       "      <td>2206.0</td>\n",
       "      <td>0.0</td>\n",
       "      <td>east</td>\n",
       "      <td>6800000.0</td>\n",
       "      <td>0</td>\n",
       "      <td>2018</td>\n",
       "      <td>2015.0</td>\n",
       "    </tr>\n",
       "    <tr>\n",
       "      <th>3861</th>\n",
       "      <td>11/19/2021 17:49:17</td>\n",
       "      <td>11/19/2021 17:51:04</td>\n",
       "      <td>213.127.109.191</td>\n",
       "      <td>1</td>\n",
       "      <td>6</td>\n",
       "      <td>UgwPOHIDyICm10k0Mvx4AaABAg</td>\n",
       "      <td>20001003</td>\n",
       "      <td>0</td>\n",
       "      <td>3</td>\n",
       "      <td>1</td>\n",
       "      <td>...</td>\n",
       "      <td>1358.0</td>\n",
       "      <td>5740.0</td>\n",
       "      <td>2276.0</td>\n",
       "      <td>2887.0</td>\n",
       "      <td>1.0</td>\n",
       "      <td>east</td>\n",
       "      <td>549000.0</td>\n",
       "      <td>0</td>\n",
       "      <td>2018</td>\n",
       "      <td>2018.0</td>\n",
       "    </tr>\n",
       "  </tbody>\n",
       "</table>\n",
       "<p>3862 rows × 79 columns</p>\n",
       "</div>"
      ],
      "text/plain": [
       "                StartDate         RecordedDate        IPAddress  Finished  \\\n",
       "0      5/30/2021 13:03:17   5/30/2021 13:04:17     62.194.51.29         1   \n",
       "1     10/11/2021 10:34:05  10/11/2021 10:36:46  213.127.109.191         1   \n",
       "2       9/9/2021 18:49:48    9/9/2021 18:51:32    213.127.110.0         1   \n",
       "3       6/6/2021 16:12:46    6/6/2021 16:16:16   213.127.76.145         1   \n",
       "4      6/13/2021 13:25:49   6/13/2021 13:27:28   213.127.82.232         1   \n",
       "...                   ...                  ...              ...       ...   \n",
       "3857   8/19/2021 14:50:13   8/19/2021 14:54:28     62.194.51.29         1   \n",
       "3858   8/19/2021 15:10:27   8/19/2021 15:12:21     62.194.51.29         1   \n",
       "3859   10/6/2021 16:08:39   10/6/2021 16:10:42  213.127.113.113         1   \n",
       "3860  10/15/2021 18:30:04  10/15/2021 18:35:40  213.127.109.191         1   \n",
       "3861  11/19/2021 17:49:17  11/19/2021 17:51:04  213.127.109.191         1   \n",
       "\n",
       "      Coder                                                 ID   Mark_ID  \\\n",
       "0         6  UgyPHwv8G0cDE6-wEgl4AaABAg.8_0ZjJKSJty8_0kXGkAd2U       119   \n",
       "1         6  Ugx2WXq9UdV8mPPjejJ4AaABAg.8yHCKV0Boe58yYRxEQEF45       282   \n",
       "2         6                                1110578710648890000       372   \n",
       "3         6  UgwUPFScjJ0MCeaP2F54AaABAg.8lvp3fc9Euf8lvvgsUgEgV       769   \n",
       "4         6  UgwWKCWtSJdFvjGHvTp4AaABAg.8kUC5dGrQ2H8kUDRihE2f3      1206   \n",
       "...     ...                                                ...       ...   \n",
       "3857      6                                1152219467579100000  10000695   \n",
       "3858      6                                1085362296472430000  10007008   \n",
       "3859      6        UghFY3QJ6nmT_ngCoAEC.7-H0Z7--wxd8goqpaPs-bl  20000102   \n",
       "3860      6                         UgyWabsmmnq3zam4DgZ4AaABAg  20000418   \n",
       "3861      6                         UgwPOHIDyICm10k0Mvx4AaABAg  20001003   \n",
       "\n",
       "      Genre  topiccode  Platform  ...  dislikeCount_video likeCount_video  \\\n",
       "0         0          0         1  ...                 NaN             NaN   \n",
       "1         1          2         1  ...               195.0          3817.0   \n",
       "2         2          4         2  ...                 NaN             NaN   \n",
       "3         0          0         1  ...                 NaN             NaN   \n",
       "4         0          0         1  ...                 NaN             NaN   \n",
       "...     ...        ...       ...  ...                 ...             ...   \n",
       "3857      0          4         2  ...                 NaN             NaN   \n",
       "3858      1          4         2  ...                 NaN             NaN   \n",
       "3859      0          3         1  ...              2820.0         12475.0   \n",
       "3860      2          3         1  ...               118.0         31761.0   \n",
       "3861      0          3         1  ...              1358.0          5740.0   \n",
       "\n",
       "      date_difference  commentCount_video  replyCount_comment    topic  \\\n",
       "0                 NaN                 NaN                 NaN      NaN   \n",
       "1               743.0              1748.0                 NaN  economy   \n",
       "2                 NaN                 NaN                 NaN      NaN   \n",
       "3                 NaN                 NaN                 NaN      NaN   \n",
       "4                 NaN                 NaN                 NaN      NaN   \n",
       "...               ...                 ...                 ...      ...   \n",
       "3857              NaN                 NaN                 NaN      NaN   \n",
       "3858              NaN                 NaN                 NaN      NaN   \n",
       "3859           3803.0              4785.0                 NaN     east   \n",
       "3860           1531.0              2206.0                 0.0     east   \n",
       "3861           2276.0              2887.0                 1.0     east   \n",
       "\n",
       "      subscribers  HATELIST_FOCUSED_DUMMY  Time_comment_year Time_video_year  \n",
       "0             NaN                       0               2017          2017.0  \n",
       "1       3630000.0                       0               2019          2019.0  \n",
       "2             NaN                       0               2019             NaN  \n",
       "3             NaN                       0               2018          2018.0  \n",
       "4             NaN                       0               2018          2018.0  \n",
       "...           ...                     ...                ...             ...  \n",
       "3857          NaN                       0               2019             NaN  \n",
       "3858          NaN                       0               2019             NaN  \n",
       "3859    6740000.0                       0               2018          2010.0  \n",
       "3860    6800000.0                       0               2018          2015.0  \n",
       "3861     549000.0                       0               2018          2018.0  \n",
       "\n",
       "[3862 rows x 79 columns]"
      ]
     },
     "execution_count": 4,
     "metadata": {},
     "output_type": "execute_result"
    }
   ],
   "source": [
    "dataset: pd.DataFrame = pd.read_csv('data/publicsphere/full_data.csv')\n",
    "dataset"
   ]
  },
  {
   "cell_type": "code",
   "execution_count": 5,
   "metadata": {},
   "outputs": [],
   "source": [
    "#first just try pre-processing and a simple tf-ivf:\n",
    "lemmatizer = WordNetLemmatizer()\n",
    "stop_words = stopwords.words('english')"
   ]
  },
  {
   "cell_type": "code",
   "execution_count": 35,
   "metadata": {},
   "outputs": [],
   "source": [
    "def preprocess(texts):\n",
    "    x_train = []\n",
    "    for sent in tqdm.tqdm(texts):\n",
    "        sent = re.sub(r'@[^ ]+', '', sent)  #remove all usernames\n",
    "        sent = re.sub(r'https?://[^ ]+', '', sent) #remove all hyperlinks\n",
    "        sent = re.sub(r'#', '', sent) #remove all hashtags\n",
    "        sent = re.sub(r'([A-Za-z])\\1{2,}', r'\\1', sent) #normalize language use by replacing duplicate letters by single letters\n",
    "        sent = re.sub(\"[^a-zA-Z ]\", \"\", sent) #remove all non-words\n",
    "        sent = sent.lower().split()\n",
    "        sent = [lemmatizer.lemmatize(word) for word in sent if word not in set(stop_words)]\n",
    "        sent = ' '.join(sent)\n",
    "        x_train.append(sent)\n",
    "    return x_train"
   ]
  },
  {
   "cell_type": "code",
   "execution_count": 36,
   "metadata": {},
   "outputs": [
    {
     "name": "stderr",
     "output_type": "stream",
     "text": [
      "100%|██████████| 3862/3862 [00:05<00:00, 654.85it/s] \n"
     ]
    }
   ],
   "source": [
    "X = preprocess(dataset[\"commentText\"])"
   ]
  },
  {
   "cell_type": "code",
   "execution_count": 37,
   "metadata": {},
   "outputs": [],
   "source": [
    "tfidf = TfidfVectorizer(max_features=5000, analyzer='word', ngram_range=(1,2), stop_words='english')\n",
    "X_tfidf = tfidf.fit_transform(X).toarray()"
   ]
  },
  {
   "cell_type": "code",
   "execution_count": 12,
   "metadata": {},
   "outputs": [
    {
     "data": {
      "text/plain": [
       "array([[0., 0., 0., ..., 0., 0., 0.],\n",
       "       [0., 0., 0., ..., 0., 0., 0.],\n",
       "       [0., 0., 0., ..., 0., 0., 0.],\n",
       "       ...,\n",
       "       [0., 0., 0., ..., 0., 0., 0.],\n",
       "       [0., 0., 0., ..., 0., 0., 0.],\n",
       "       [0., 0., 0., ..., 0., 0., 0.]])"
      ]
     },
     "execution_count": 12,
     "metadata": {},
     "output_type": "execute_result"
    }
   ],
   "source": [
    "X_tfidf[:10]"
   ]
  },
  {
   "cell_type": "code",
   "execution_count": 73,
   "metadata": {},
   "outputs": [],
   "source": [
    "dataset['tfidf_embedding'] = [torch.tensor(X_tfidf[i], dtype=torch.float32).flatten().tolist() for i in range(X_tfidf.shape[0])]\n"
   ]
  },
  {
   "cell_type": "code",
   "execution_count": null,
   "metadata": {},
   "outputs": [],
   "source": [
    "dataset['tfidf_embedding']"
   ]
  },
  {
   "cell_type": "code",
   "execution_count": 38,
   "metadata": {},
   "outputs": [
    {
     "data": {
      "text/plain": [
       "array([[1.        , 0.        , 0.        , ..., 0.        , 0.        ,\n",
       "        0.        ],\n",
       "       [0.        , 1.        , 0.        , ..., 0.0110684 , 0.06654491,\n",
       "        0.        ],\n",
       "       [0.        , 0.        , 1.        , ..., 0.08009685, 0.        ,\n",
       "        0.        ],\n",
       "       ...,\n",
       "       [0.        , 0.0110684 , 0.08009685, ..., 1.        , 0.        ,\n",
       "        0.        ],\n",
       "       [0.        , 0.06654491, 0.        , ..., 0.        , 1.        ,\n",
       "        0.        ],\n",
       "       [0.        , 0.        , 0.        , ..., 0.        , 0.        ,\n",
       "        1.        ]])"
      ]
     },
     "execution_count": 38,
     "metadata": {},
     "output_type": "execute_result"
    }
   ],
   "source": [
    "cosine_similarities = cosine_similarity(X_tfidf)\n",
    "cosine_similarities"
   ]
  },
  {
   "cell_type": "code",
   "execution_count": 54,
   "metadata": {},
   "outputs": [],
   "source": [
    "num_documents = len(cosine_similarities)\n",
    "\n",
    "# Initialize a list to store the most similar document pairs\n",
    "top_similar_pairs = []\n",
    "\n",
    "# Iterate through all document pairs\n",
    "for i in range(num_documents):\n",
    "    for j in range(i + 1, num_documents):\n",
    "        similarity = cosine_similarities[i][j]\n",
    "        \n",
    "        # Check if the similarity is NaN or zero\n",
    "        if not np.isnan(similarity) and similarity >= 1:\n",
    "            pair = (i, j)\n",
    "            top_similar_pairs.append((similarity, pair))\n",
    "            \n",
    "# Sort the list based on similarity in descending order\n",
    "top_similar_pairs.sort(key=lambda x: x[0], reverse=True)\n",
    "            \n"
   ]
  },
  {
   "cell_type": "code",
   "execution_count": null,
   "metadata": {},
   "outputs": [],
   "source": [
    "top_similar_pairs"
   ]
  },
  {
   "cell_type": "code",
   "execution_count": 55,
   "metadata": {},
   "outputs": [
    {
     "name": "stdout",
     "output_type": "stream",
     "text": [
      "[(139, 1990), (246, 1179), (362, 736), (722, 739), (21, 1856), (75, 366), (75, 1022), (75, 2122), (75, 2421), (75, 2946), (101, 850), (133, 1057), (141, 3838), (164, 1240), (164, 2182), (198, 3213), (242, 2779), (242, 3278), (259, 490), (313, 2607), (341, 352), (366, 1022), (366, 2122), (366, 2421), (366, 2946), (395, 3340), (400, 585), (400, 877), (400, 962), (400, 2099), (400, 2848), (400, 3752), (436, 3211), (487, 936), (487, 2484), (546, 911), (559, 3708), (585, 877), (585, 962), (585, 2099), (585, 2848), (585, 3752), (643, 1401), (673, 1743), (678, 2244), (678, 2481), (678, 2843), (678, 2856), (678, 2971), (702, 1392), (709, 1800), (753, 930), (753, 1564), (753, 1887), (753, 2728), (793, 2935), (813, 1872), (816, 1088), (877, 962), (877, 2099), (877, 2848), (877, 3752), (894, 1060), (914, 2707), (914, 2914), (919, 3578), (930, 1564), (930, 1887), (930, 2728), (936, 2484), (937, 1005), (937, 1192), (955, 1404), (962, 2099), (962, 2848), (962, 3752), (969, 1196), (969, 1449), (969, 1690), (969, 2245), (969, 2591), (969, 2708), (969, 2840), (969, 3368), (969, 3405), (969, 3703), (1005, 1192), (1022, 2122), (1022, 2421), (1022, 2946), (1028, 1311), (1029, 2658), (1030, 2518), (1030, 2740), (1049, 2407), (1055, 1348), (1084, 1244), (1084, 1262), (1145, 2380), (1166, 1304), (1166, 1626), (1166, 1918), (1166, 2634), (1166, 2835), (1166, 3725), (1174, 3564), (1196, 1449), (1196, 1690), (1196, 2245), (1196, 2591), (1196, 2708), (1196, 2840), (1196, 3368), (1196, 3405), (1196, 3703), (1197, 1560), (1206, 3432), (1240, 2182), (1244, 1262), (1260, 3628), (1304, 1626), (1304, 1918), (1304, 2634), (1304, 2835), (1304, 3725), (1449, 1690), (1449, 2245), (1449, 2591), (1449, 2708), (1449, 2840), (1449, 3368), (1449, 3405), (1449, 3703), (1564, 1887), (1564, 2728), (1626, 1918), (1626, 2634), (1626, 2835), (1626, 3725), (1674, 1903), (1690, 2245), (1690, 2591), (1690, 2708), (1690, 2840), (1690, 3368), (1690, 3405), (1690, 3703), (1695, 2082), (1887, 2728), (1918, 2634), (1918, 2835), (1918, 3725), (2060, 2908), (2090, 2233), (2099, 2848), (2099, 3752), (2122, 2421), (2122, 2946), (2222, 3697), (2244, 2481), (2244, 2843), (2244, 2856), (2244, 2971), (2245, 2591), (2245, 2708), (2245, 2840), (2245, 3368), (2245, 3405), (2245, 3703), (2421, 2946), (2481, 2843), (2481, 2856), (2481, 2971), (2518, 2740), (2591, 2708), (2591, 2840), (2591, 3368), (2591, 3405), (2591, 3703), (2634, 2835), (2634, 3725), (2707, 2914), (2708, 2840), (2708, 3368), (2708, 3405), (2708, 3703), (2779, 3278), (2835, 3725), (2840, 3368), (2840, 3405), (2840, 3703), (2843, 2856), (2843, 2971), (2848, 3752), (2856, 2971), (2972, 3289), (3235, 3475), (3235, 3766), (3368, 3405), (3368, 3703), (3405, 3703), (3475, 3766), (3537, 3572)]\n"
     ]
    }
   ],
   "source": [
    "result = [pair for value, pair in top_similar_pairs if value >= 1]\n",
    "print(result)"
   ]
  },
  {
   "cell_type": "code",
   "execution_count": null,
   "metadata": {},
   "outputs": [],
   "source": [
    "for first, second in result:\n",
    "    print(dataset[\"commentText\"][[first, second]])\n",
    "    print()"
   ]
  },
  {
   "cell_type": "code",
   "execution_count": 61,
   "metadata": {},
   "outputs": [
    {
     "name": "stdout",
     "output_type": "stream",
     "text": [
      "hell yeah fam\n",
      "hell yeah\n",
      "vote trump\n",
      "vote trump\n",
      "mika low iq\n",
      "still low iq\n",
      "good grief\n",
      "opinionlol good grief\n",
      "persinger apple orange\n",
      "apple orange\n"
     ]
    }
   ],
   "source": [
    "print(X[246])\n",
    "print(X[1179])\n",
    "print(X[139])\n",
    "print(X[1990])\n",
    "print(X[21])\n",
    "print(X[1856])\n",
    "print(X[722])\n",
    "print(X[739])\n",
    "print(X[362])\n",
    "print(X[736])"
   ]
  },
  {
   "cell_type": "code",
   "execution_count": 74,
   "metadata": {},
   "outputs": [
    {
     "ename": "KeyboardInterrupt",
     "evalue": "",
     "output_type": "error",
     "traceback": [
      "\u001b[0;31m---------------------------------------------------------------------------\u001b[0m",
      "\u001b[0;31mKeyboardInterrupt\u001b[0m                         Traceback (most recent call last)",
      "Cell \u001b[0;32mIn[74], line 16\u001b[0m\n\u001b[1;32m      7\u001b[0m \u001b[38;5;28;01mif\u001b[39;00m (\n\u001b[1;32m      8\u001b[0m     (model_1, model_2) \u001b[38;5;129;01min\u001b[39;00m resultsplatform\u001b[38;5;241m.\u001b[39mkeys() \u001b[38;5;129;01mor\u001b[39;00m \n\u001b[1;32m      9\u001b[0m     (model_2, model_1) \u001b[38;5;129;01min\u001b[39;00m resultsplatform\u001b[38;5;241m.\u001b[39mkeys()\n\u001b[1;32m     10\u001b[0m ):\n\u001b[1;32m     11\u001b[0m     \u001b[38;5;28;01mcontinue\u001b[39;00m\n\u001b[1;32m     13\u001b[0m res \u001b[38;5;241m=\u001b[39m \u001b[38;5;28msum\u001b[39m([\n\u001b[1;32m     14\u001b[0m     \u001b[38;5;28msum\u001b[39m(dist(\n\u001b[1;32m     15\u001b[0m         torch\u001b[38;5;241m.\u001b[39mtensor(np\u001b[38;5;241m.\u001b[39marray(v_1)), \n\u001b[0;32m---> 16\u001b[0m         torch\u001b[38;5;241m.\u001b[39mtensor(np\u001b[38;5;241m.\u001b[39marray(c_2\u001b[38;5;241m.\u001b[39mtolist()))\n\u001b[1;32m     17\u001b[0m         )) \u001b[38;5;241m/\u001b[39m \u001b[38;5;28mlen\u001b[39m(c_2)\n\u001b[1;32m     18\u001b[0m     \u001b[38;5;28;01mfor\u001b[39;00m v_1 \u001b[38;5;129;01min\u001b[39;00m c_1\n\u001b[1;32m     19\u001b[0m ]) \u001b[38;5;241m/\u001b[39m \u001b[38;5;28mlen\u001b[39m(c_1)\n\u001b[1;32m     21\u001b[0m resultsplatform[(model_1, model_2)] \u001b[38;5;241m=\u001b[39m res\n\u001b[1;32m     23\u001b[0m \u001b[38;5;28mprint\u001b[39m(\u001b[38;5;124mf\u001b[39m\u001b[38;5;124m'\u001b[39m\u001b[38;5;132;01m{\u001b[39;00mmodel_1\u001b[38;5;132;01m}\u001b[39;00m\u001b[38;5;124m:\u001b[39m\u001b[38;5;132;01m{\u001b[39;00mmodel_2\u001b[38;5;132;01m}\u001b[39;00m\u001b[38;5;124m:\u001b[39m\u001b[38;5;132;01m{\u001b[39;00mres\u001b[38;5;241m.\u001b[39mitem()\u001b[38;5;132;01m}\u001b[39;00m\u001b[38;5;124m'\u001b[39m)\n",
      "\u001b[0;31mKeyboardInterrupt\u001b[0m: "
     ]
    }
   ],
   "source": [
    "grouped_data = dataset.groupby(\"Platform\")\n",
    "dist = torch.nn.PairwiseDistance()\n",
    "resultsplatform: typing.Dict[typing.Tuple[str, str], float] = {}\n",
    "for model_1, c_1 in tqdm.tqdm(grouped_data['tfidf_embedding'], total=grouped_data.ngroups):\n",
    "    for model_2, c_2 in tqdm.tqdm(grouped_data['tfidf_embedding'], total=grouped_data.ngroups):\n",
    "\n",
    "        if (\n",
    "            (model_1, model_2) in resultsplatform.keys() or \n",
    "            (model_2, model_1) in resultsplatform.keys()\n",
    "        ):\n",
    "            continue\n",
    "\n",
    "        res = sum([\n",
    "            sum(dist(\n",
    "                torch.tensor(np.array(v_1)), \n",
    "                torch.tensor(np.array(c_2.tolist()))\n",
    "                )) / len(c_2)\n",
    "            for v_1 in c_1\n",
    "        ]) / len(c_1)\n",
    "\n",
    "        resultsplatform[(model_1, model_2)] = res\n",
    "\n",
    "        print(f'{model_1}:{model_2}:{res.item()}')"
   ]
  },
  {
   "cell_type": "code",
   "execution_count": null,
   "metadata": {},
   "outputs": [],
   "source": [
    "grouped_data = dataset.groupby(\"topiccode\")\n",
    "dist = torch.nn.PairwiseDistance()\n",
    "resultstopic: typing.Dict[typing.Tuple[str, str], float] = {}\n",
    "for model_1, c_1 in tqdm.tqdm(grouped_data['tfidf_embedding'], total=grouped_data.ngroups):\n",
    "    for model_2, c_2 in tqdm.tqdm(grouped_data['tfidf_embedding'], total=grouped_data.ngroups):\n",
    "\n",
    "        if (\n",
    "            (model_1, model_2) in resultstopic.keys() or \n",
    "            (model_2, model_1) in resultstopic.keys()\n",
    "        ):\n",
    "            continue\n",
    "\n",
    "        res = sum([\n",
    "            sum(dist(\n",
    "                torch.tensor(np.array(v_1)), \n",
    "                torch.tensor(np.array(c_2.tolist()))\n",
    "                )) / len(c_2)\n",
    "            for v_1 in c_1\n",
    "        ]) / len(c_1)\n",
    "\n",
    "        resultstopic[(model_1, model_2)] = res\n",
    "\n",
    "        print(f'{model_1}:{model_2}:{res.item()}')"
   ]
  },
  {
   "cell_type": "code",
   "execution_count": null,
   "metadata": {},
   "outputs": [],
   "source": [
    "grouped_data = dataset.groupby(\"Genre\")\n",
    "dist = torch.nn.PairwiseDistance()\n",
    "resultsgenre: typing.Dict[typing.Tuple[str, str], float] = {}\n",
    "for model_1, c_1 in tqdm.tqdm(grouped_data['tfidf_embedding'], total=grouped_data.ngroups):\n",
    "    for model_2, c_2 in tqdm.tqdm(grouped_data['tfidf_embedding'], total=grouped_data.ngroups):\n",
    "\n",
    "        if (\n",
    "            (model_1, model_2) in resultsgenre.keys() or \n",
    "            (model_2, model_1) in resultsgenre.keys()\n",
    "        ):\n",
    "            continue\n",
    "\n",
    "        res = sum([\n",
    "            sum(dist(\n",
    "                torch.tensor(np.array(v_1)), \n",
    "                torch.tensor(np.array(c_2.tolist()))\n",
    "                )) / len(c_2)\n",
    "            for v_1 in c_1\n",
    "        ]) / len(c_1)\n",
    "\n",
    "        resultsgenre[(model_1, model_2)] = res\n",
    "\n",
    "        print(f'{model_1}:{model_2}:{res.item()}')"
   ]
  },
  {
   "cell_type": "code",
   "execution_count": 3,
   "metadata": {},
   "outputs": [],
   "source": [
    "MODEL: str = 'llama3.1:8b-instruct-q6_K' # options: 'gemma:7b-instruct-q6_K', 'gemma2:27b-instruct-q6_K', 'llama3.1:8b-instruct-q6_K', 'llama3.1:70b-instruct-q6_K', 'mistral:7b-instruct-v0.3-q6_K', 'mistral-large:123b-instruct-2407-q6_K', 'mixtral:8x7b-instruct-v0.1-q6_K', 'mixtral:8x22b-instruct-v0.1-q6_K', 'phi3:14b-medium-128k-instruct-q6_K' or 'qwen2:72b-instruct-q6_K'\n"
   ]
  },
  {
   "cell_type": "code",
   "execution_count": 5,
   "metadata": {},
   "outputs": [],
   "source": [
    "embed_MXBAI: typing.Dict[str, np.ndarray] = {}"
   ]
  },
  {
   "cell_type": "code",
   "execution_count": 10,
   "metadata": {},
   "outputs": [
    {
     "name": "stderr",
     "output_type": "stream",
     "text": [
      "  3%|▎         | 123/3862 [04:58<2:31:24,  2.43s/it]\n"
     ]
    },
    {
     "ename": "KeyboardInterrupt",
     "evalue": "",
     "output_type": "error",
     "traceback": [
      "\u001b[0;31m---------------------------------------------------------------------------\u001b[0m",
      "\u001b[0;31mKeyboardInterrupt\u001b[0m                         Traceback (most recent call last)",
      "Cell \u001b[0;32mIn[10], line 4\u001b[0m\n\u001b[1;32m      2\u001b[0m \u001b[38;5;28;01mfor\u001b[39;00m index, row \u001b[38;5;129;01min\u001b[39;00m tqdm\u001b[38;5;241m.\u001b[39mtqdm(dataset[\u001b[38;5;124m\"\u001b[39m\u001b[38;5;124mcommentText\u001b[39m\u001b[38;5;124m\"\u001b[39m]\u001b[38;5;241m.\u001b[39mitems(), total\u001b[38;5;241m=\u001b[39m\u001b[38;5;28mlen\u001b[39m(dataset)):\n\u001b[1;32m      3\u001b[0m     \u001b[38;5;28;01mtry\u001b[39;00m: \n\u001b[0;32m----> 4\u001b[0m         embed \u001b[38;5;241m=\u001b[39m np\u001b[38;5;241m.\u001b[39marray(requests\u001b[38;5;241m.\u001b[39mpost(\n\u001b[1;32m      5\u001b[0m             \u001b[38;5;124m'\u001b[39m\u001b[38;5;124mhttps://inf.cl.uni-trier.de/embed/\u001b[39m\u001b[38;5;124m'\u001b[39m,\n\u001b[1;32m      6\u001b[0m             json\u001b[38;5;241m=\u001b[39m{\u001b[38;5;124m'\u001b[39m\u001b[38;5;124mmodel\u001b[39m\u001b[38;5;124m'\u001b[39m: MODEL, \n\u001b[1;32m      7\u001b[0m                   \u001b[38;5;124m'\u001b[39m\u001b[38;5;124mprompt\u001b[39m\u001b[38;5;124m'\u001b[39m: \u001b[38;5;124m'\u001b[39m\u001b[38;5;124mYou help me get embeddings for a sentence. I provide you a with a context and a sentence and you reply only with that exact sentence. Context = \u001b[39m\u001b[38;5;124m'\u001b[39m \u001b[38;5;241m+\u001b[39m context \u001b[38;5;241m+\u001b[39m \u001b[38;5;124m'\u001b[39m\u001b[38;5;124m; Sentence: \u001b[39m\u001b[38;5;124m'\u001b[39m \u001b[38;5;241m+\u001b[39m row}\n\u001b[1;32m      8\u001b[0m             )\u001b[38;5;241m.\u001b[39mjson()[\u001b[38;5;124m\"\u001b[39m\u001b[38;5;124mresponse\u001b[39m\u001b[38;5;124m\"\u001b[39m])\n\u001b[1;32m      9\u001b[0m     \u001b[38;5;28;01mexcept\u001b[39;00m \u001b[38;5;167;01mException\u001b[39;00m \u001b[38;5;28;01mas\u001b[39;00m _e:\n\u001b[1;32m     10\u001b[0m         logging\u001b[38;5;241m.\u001b[39mwarning(_e)\n",
      "File \u001b[0;32m/Users/SjoerdStolwijk/anaconda3/envs/DefiningDebateQuality/lib/python3.12/site-packages/requests/api.py:115\u001b[0m, in \u001b[0;36mpost\u001b[0;34m(url, data, json, **kwargs)\u001b[0m\n\u001b[1;32m    103\u001b[0m \u001b[38;5;28;01mdef\u001b[39;00m \u001b[38;5;21mpost\u001b[39m(url, data\u001b[38;5;241m=\u001b[39m\u001b[38;5;28;01mNone\u001b[39;00m, json\u001b[38;5;241m=\u001b[39m\u001b[38;5;28;01mNone\u001b[39;00m, \u001b[38;5;241m*\u001b[39m\u001b[38;5;241m*\u001b[39mkwargs):\n\u001b[1;32m    104\u001b[0m \u001b[38;5;250m    \u001b[39m\u001b[38;5;124mr\u001b[39m\u001b[38;5;124;03m\"\"\"Sends a POST request.\u001b[39;00m\n\u001b[1;32m    105\u001b[0m \n\u001b[1;32m    106\u001b[0m \u001b[38;5;124;03m    :param url: URL for the new :class:`Request` object.\u001b[39;00m\n\u001b[0;32m   (...)\u001b[0m\n\u001b[1;32m    112\u001b[0m \u001b[38;5;124;03m    :rtype: requests.Response\u001b[39;00m\n\u001b[1;32m    113\u001b[0m \u001b[38;5;124;03m    \"\"\"\u001b[39;00m\n\u001b[0;32m--> 115\u001b[0m     \u001b[38;5;28;01mreturn\u001b[39;00m request(\u001b[38;5;124m\"\u001b[39m\u001b[38;5;124mpost\u001b[39m\u001b[38;5;124m\"\u001b[39m, url, data\u001b[38;5;241m=\u001b[39mdata, json\u001b[38;5;241m=\u001b[39mjson, \u001b[38;5;241m*\u001b[39m\u001b[38;5;241m*\u001b[39mkwargs)\n",
      "File \u001b[0;32m/Users/SjoerdStolwijk/anaconda3/envs/DefiningDebateQuality/lib/python3.12/site-packages/requests/api.py:59\u001b[0m, in \u001b[0;36mrequest\u001b[0;34m(method, url, **kwargs)\u001b[0m\n\u001b[1;32m     55\u001b[0m \u001b[38;5;66;03m# By using the 'with' statement we are sure the session is closed, thus we\u001b[39;00m\n\u001b[1;32m     56\u001b[0m \u001b[38;5;66;03m# avoid leaving sockets open which can trigger a ResourceWarning in some\u001b[39;00m\n\u001b[1;32m     57\u001b[0m \u001b[38;5;66;03m# cases, and look like a memory leak in others.\u001b[39;00m\n\u001b[1;32m     58\u001b[0m \u001b[38;5;28;01mwith\u001b[39;00m sessions\u001b[38;5;241m.\u001b[39mSession() \u001b[38;5;28;01mas\u001b[39;00m session:\n\u001b[0;32m---> 59\u001b[0m     \u001b[38;5;28;01mreturn\u001b[39;00m session\u001b[38;5;241m.\u001b[39mrequest(method\u001b[38;5;241m=\u001b[39mmethod, url\u001b[38;5;241m=\u001b[39murl, \u001b[38;5;241m*\u001b[39m\u001b[38;5;241m*\u001b[39mkwargs)\n",
      "File \u001b[0;32m/Users/SjoerdStolwijk/anaconda3/envs/DefiningDebateQuality/lib/python3.12/site-packages/requests/sessions.py:589\u001b[0m, in \u001b[0;36mSession.request\u001b[0;34m(self, method, url, params, data, headers, cookies, files, auth, timeout, allow_redirects, proxies, hooks, stream, verify, cert, json)\u001b[0m\n\u001b[1;32m    584\u001b[0m send_kwargs \u001b[38;5;241m=\u001b[39m {\n\u001b[1;32m    585\u001b[0m     \u001b[38;5;124m\"\u001b[39m\u001b[38;5;124mtimeout\u001b[39m\u001b[38;5;124m\"\u001b[39m: timeout,\n\u001b[1;32m    586\u001b[0m     \u001b[38;5;124m\"\u001b[39m\u001b[38;5;124mallow_redirects\u001b[39m\u001b[38;5;124m\"\u001b[39m: allow_redirects,\n\u001b[1;32m    587\u001b[0m }\n\u001b[1;32m    588\u001b[0m send_kwargs\u001b[38;5;241m.\u001b[39mupdate(settings)\n\u001b[0;32m--> 589\u001b[0m resp \u001b[38;5;241m=\u001b[39m \u001b[38;5;28mself\u001b[39m\u001b[38;5;241m.\u001b[39msend(prep, \u001b[38;5;241m*\u001b[39m\u001b[38;5;241m*\u001b[39msend_kwargs)\n\u001b[1;32m    591\u001b[0m \u001b[38;5;28;01mreturn\u001b[39;00m resp\n",
      "File \u001b[0;32m/Users/SjoerdStolwijk/anaconda3/envs/DefiningDebateQuality/lib/python3.12/site-packages/requests/sessions.py:703\u001b[0m, in \u001b[0;36mSession.send\u001b[0;34m(self, request, **kwargs)\u001b[0m\n\u001b[1;32m    700\u001b[0m start \u001b[38;5;241m=\u001b[39m preferred_clock()\n\u001b[1;32m    702\u001b[0m \u001b[38;5;66;03m# Send the request\u001b[39;00m\n\u001b[0;32m--> 703\u001b[0m r \u001b[38;5;241m=\u001b[39m adapter\u001b[38;5;241m.\u001b[39msend(request, \u001b[38;5;241m*\u001b[39m\u001b[38;5;241m*\u001b[39mkwargs)\n\u001b[1;32m    705\u001b[0m \u001b[38;5;66;03m# Total elapsed time of the request (approximately)\u001b[39;00m\n\u001b[1;32m    706\u001b[0m elapsed \u001b[38;5;241m=\u001b[39m preferred_clock() \u001b[38;5;241m-\u001b[39m start\n",
      "File \u001b[0;32m/Users/SjoerdStolwijk/anaconda3/envs/DefiningDebateQuality/lib/python3.12/site-packages/requests/adapters.py:589\u001b[0m, in \u001b[0;36mHTTPAdapter.send\u001b[0;34m(self, request, stream, timeout, verify, cert, proxies)\u001b[0m\n\u001b[1;32m    586\u001b[0m     timeout \u001b[38;5;241m=\u001b[39m TimeoutSauce(connect\u001b[38;5;241m=\u001b[39mtimeout, read\u001b[38;5;241m=\u001b[39mtimeout)\n\u001b[1;32m    588\u001b[0m \u001b[38;5;28;01mtry\u001b[39;00m:\n\u001b[0;32m--> 589\u001b[0m     resp \u001b[38;5;241m=\u001b[39m conn\u001b[38;5;241m.\u001b[39murlopen(\n\u001b[1;32m    590\u001b[0m         method\u001b[38;5;241m=\u001b[39mrequest\u001b[38;5;241m.\u001b[39mmethod,\n\u001b[1;32m    591\u001b[0m         url\u001b[38;5;241m=\u001b[39murl,\n\u001b[1;32m    592\u001b[0m         body\u001b[38;5;241m=\u001b[39mrequest\u001b[38;5;241m.\u001b[39mbody,\n\u001b[1;32m    593\u001b[0m         headers\u001b[38;5;241m=\u001b[39mrequest\u001b[38;5;241m.\u001b[39mheaders,\n\u001b[1;32m    594\u001b[0m         redirect\u001b[38;5;241m=\u001b[39m\u001b[38;5;28;01mFalse\u001b[39;00m,\n\u001b[1;32m    595\u001b[0m         assert_same_host\u001b[38;5;241m=\u001b[39m\u001b[38;5;28;01mFalse\u001b[39;00m,\n\u001b[1;32m    596\u001b[0m         preload_content\u001b[38;5;241m=\u001b[39m\u001b[38;5;28;01mFalse\u001b[39;00m,\n\u001b[1;32m    597\u001b[0m         decode_content\u001b[38;5;241m=\u001b[39m\u001b[38;5;28;01mFalse\u001b[39;00m,\n\u001b[1;32m    598\u001b[0m         retries\u001b[38;5;241m=\u001b[39m\u001b[38;5;28mself\u001b[39m\u001b[38;5;241m.\u001b[39mmax_retries,\n\u001b[1;32m    599\u001b[0m         timeout\u001b[38;5;241m=\u001b[39mtimeout,\n\u001b[1;32m    600\u001b[0m         chunked\u001b[38;5;241m=\u001b[39mchunked,\n\u001b[1;32m    601\u001b[0m     )\n\u001b[1;32m    603\u001b[0m \u001b[38;5;28;01mexcept\u001b[39;00m (ProtocolError, \u001b[38;5;167;01mOSError\u001b[39;00m) \u001b[38;5;28;01mas\u001b[39;00m err:\n\u001b[1;32m    604\u001b[0m     \u001b[38;5;28;01mraise\u001b[39;00m \u001b[38;5;167;01mConnectionError\u001b[39;00m(err, request\u001b[38;5;241m=\u001b[39mrequest)\n",
      "File \u001b[0;32m/Users/SjoerdStolwijk/anaconda3/envs/DefiningDebateQuality/lib/python3.12/site-packages/urllib3/connectionpool.py:789\u001b[0m, in \u001b[0;36mHTTPConnectionPool.urlopen\u001b[0;34m(self, method, url, body, headers, retries, redirect, assert_same_host, timeout, pool_timeout, release_conn, chunked, body_pos, preload_content, decode_content, **response_kw)\u001b[0m\n\u001b[1;32m    786\u001b[0m response_conn \u001b[38;5;241m=\u001b[39m conn \u001b[38;5;28;01mif\u001b[39;00m \u001b[38;5;129;01mnot\u001b[39;00m release_conn \u001b[38;5;28;01melse\u001b[39;00m \u001b[38;5;28;01mNone\u001b[39;00m\n\u001b[1;32m    788\u001b[0m \u001b[38;5;66;03m# Make the request on the HTTPConnection object\u001b[39;00m\n\u001b[0;32m--> 789\u001b[0m response \u001b[38;5;241m=\u001b[39m \u001b[38;5;28mself\u001b[39m\u001b[38;5;241m.\u001b[39m_make_request(\n\u001b[1;32m    790\u001b[0m     conn,\n\u001b[1;32m    791\u001b[0m     method,\n\u001b[1;32m    792\u001b[0m     url,\n\u001b[1;32m    793\u001b[0m     timeout\u001b[38;5;241m=\u001b[39mtimeout_obj,\n\u001b[1;32m    794\u001b[0m     body\u001b[38;5;241m=\u001b[39mbody,\n\u001b[1;32m    795\u001b[0m     headers\u001b[38;5;241m=\u001b[39mheaders,\n\u001b[1;32m    796\u001b[0m     chunked\u001b[38;5;241m=\u001b[39mchunked,\n\u001b[1;32m    797\u001b[0m     retries\u001b[38;5;241m=\u001b[39mretries,\n\u001b[1;32m    798\u001b[0m     response_conn\u001b[38;5;241m=\u001b[39mresponse_conn,\n\u001b[1;32m    799\u001b[0m     preload_content\u001b[38;5;241m=\u001b[39mpreload_content,\n\u001b[1;32m    800\u001b[0m     decode_content\u001b[38;5;241m=\u001b[39mdecode_content,\n\u001b[1;32m    801\u001b[0m     \u001b[38;5;241m*\u001b[39m\u001b[38;5;241m*\u001b[39mresponse_kw,\n\u001b[1;32m    802\u001b[0m )\n\u001b[1;32m    804\u001b[0m \u001b[38;5;66;03m# Everything went great!\u001b[39;00m\n\u001b[1;32m    805\u001b[0m clean_exit \u001b[38;5;241m=\u001b[39m \u001b[38;5;28;01mTrue\u001b[39;00m\n",
      "File \u001b[0;32m/Users/SjoerdStolwijk/anaconda3/envs/DefiningDebateQuality/lib/python3.12/site-packages/urllib3/connectionpool.py:536\u001b[0m, in \u001b[0;36mHTTPConnectionPool._make_request\u001b[0;34m(self, conn, method, url, body, headers, retries, timeout, chunked, response_conn, preload_content, decode_content, enforce_content_length)\u001b[0m\n\u001b[1;32m    534\u001b[0m \u001b[38;5;66;03m# Receive the response from the server\u001b[39;00m\n\u001b[1;32m    535\u001b[0m \u001b[38;5;28;01mtry\u001b[39;00m:\n\u001b[0;32m--> 536\u001b[0m     response \u001b[38;5;241m=\u001b[39m conn\u001b[38;5;241m.\u001b[39mgetresponse()\n\u001b[1;32m    537\u001b[0m \u001b[38;5;28;01mexcept\u001b[39;00m (BaseSSLError, \u001b[38;5;167;01mOSError\u001b[39;00m) \u001b[38;5;28;01mas\u001b[39;00m e:\n\u001b[1;32m    538\u001b[0m     \u001b[38;5;28mself\u001b[39m\u001b[38;5;241m.\u001b[39m_raise_timeout(err\u001b[38;5;241m=\u001b[39me, url\u001b[38;5;241m=\u001b[39murl, timeout_value\u001b[38;5;241m=\u001b[39mread_timeout)\n",
      "File \u001b[0;32m/Users/SjoerdStolwijk/anaconda3/envs/DefiningDebateQuality/lib/python3.12/site-packages/urllib3/connection.py:464\u001b[0m, in \u001b[0;36mHTTPConnection.getresponse\u001b[0;34m(self)\u001b[0m\n\u001b[1;32m    461\u001b[0m \u001b[38;5;28;01mfrom\u001b[39;00m \u001b[38;5;21;01m.\u001b[39;00m\u001b[38;5;21;01mresponse\u001b[39;00m \u001b[38;5;28;01mimport\u001b[39;00m HTTPResponse\n\u001b[1;32m    463\u001b[0m \u001b[38;5;66;03m# Get the response from http.client.HTTPConnection\u001b[39;00m\n\u001b[0;32m--> 464\u001b[0m httplib_response \u001b[38;5;241m=\u001b[39m \u001b[38;5;28msuper\u001b[39m()\u001b[38;5;241m.\u001b[39mgetresponse()\n\u001b[1;32m    466\u001b[0m \u001b[38;5;28;01mtry\u001b[39;00m:\n\u001b[1;32m    467\u001b[0m     assert_header_parsing(httplib_response\u001b[38;5;241m.\u001b[39mmsg)\n",
      "File \u001b[0;32m/Users/SjoerdStolwijk/anaconda3/envs/DefiningDebateQuality/lib/python3.12/http/client.py:1428\u001b[0m, in \u001b[0;36mHTTPConnection.getresponse\u001b[0;34m(self)\u001b[0m\n\u001b[1;32m   1426\u001b[0m \u001b[38;5;28;01mtry\u001b[39;00m:\n\u001b[1;32m   1427\u001b[0m     \u001b[38;5;28;01mtry\u001b[39;00m:\n\u001b[0;32m-> 1428\u001b[0m         response\u001b[38;5;241m.\u001b[39mbegin()\n\u001b[1;32m   1429\u001b[0m     \u001b[38;5;28;01mexcept\u001b[39;00m \u001b[38;5;167;01mConnectionError\u001b[39;00m:\n\u001b[1;32m   1430\u001b[0m         \u001b[38;5;28mself\u001b[39m\u001b[38;5;241m.\u001b[39mclose()\n",
      "File \u001b[0;32m/Users/SjoerdStolwijk/anaconda3/envs/DefiningDebateQuality/lib/python3.12/http/client.py:331\u001b[0m, in \u001b[0;36mHTTPResponse.begin\u001b[0;34m(self)\u001b[0m\n\u001b[1;32m    329\u001b[0m \u001b[38;5;66;03m# read until we get a non-100 response\u001b[39;00m\n\u001b[1;32m    330\u001b[0m \u001b[38;5;28;01mwhile\u001b[39;00m \u001b[38;5;28;01mTrue\u001b[39;00m:\n\u001b[0;32m--> 331\u001b[0m     version, status, reason \u001b[38;5;241m=\u001b[39m \u001b[38;5;28mself\u001b[39m\u001b[38;5;241m.\u001b[39m_read_status()\n\u001b[1;32m    332\u001b[0m     \u001b[38;5;28;01mif\u001b[39;00m status \u001b[38;5;241m!=\u001b[39m CONTINUE:\n\u001b[1;32m    333\u001b[0m         \u001b[38;5;28;01mbreak\u001b[39;00m\n",
      "File \u001b[0;32m/Users/SjoerdStolwijk/anaconda3/envs/DefiningDebateQuality/lib/python3.12/http/client.py:292\u001b[0m, in \u001b[0;36mHTTPResponse._read_status\u001b[0;34m(self)\u001b[0m\n\u001b[1;32m    291\u001b[0m \u001b[38;5;28;01mdef\u001b[39;00m \u001b[38;5;21m_read_status\u001b[39m(\u001b[38;5;28mself\u001b[39m):\n\u001b[0;32m--> 292\u001b[0m     line \u001b[38;5;241m=\u001b[39m \u001b[38;5;28mstr\u001b[39m(\u001b[38;5;28mself\u001b[39m\u001b[38;5;241m.\u001b[39mfp\u001b[38;5;241m.\u001b[39mreadline(_MAXLINE \u001b[38;5;241m+\u001b[39m \u001b[38;5;241m1\u001b[39m), \u001b[38;5;124m\"\u001b[39m\u001b[38;5;124miso-8859-1\u001b[39m\u001b[38;5;124m\"\u001b[39m)\n\u001b[1;32m    293\u001b[0m     \u001b[38;5;28;01mif\u001b[39;00m \u001b[38;5;28mlen\u001b[39m(line) \u001b[38;5;241m>\u001b[39m _MAXLINE:\n\u001b[1;32m    294\u001b[0m         \u001b[38;5;28;01mraise\u001b[39;00m LineTooLong(\u001b[38;5;124m\"\u001b[39m\u001b[38;5;124mstatus line\u001b[39m\u001b[38;5;124m\"\u001b[39m)\n",
      "File \u001b[0;32m/Users/SjoerdStolwijk/anaconda3/envs/DefiningDebateQuality/lib/python3.12/socket.py:708\u001b[0m, in \u001b[0;36mSocketIO.readinto\u001b[0;34m(self, b)\u001b[0m\n\u001b[1;32m    706\u001b[0m \u001b[38;5;28;01mwhile\u001b[39;00m \u001b[38;5;28;01mTrue\u001b[39;00m:\n\u001b[1;32m    707\u001b[0m     \u001b[38;5;28;01mtry\u001b[39;00m:\n\u001b[0;32m--> 708\u001b[0m         \u001b[38;5;28;01mreturn\u001b[39;00m \u001b[38;5;28mself\u001b[39m\u001b[38;5;241m.\u001b[39m_sock\u001b[38;5;241m.\u001b[39mrecv_into(b)\n\u001b[1;32m    709\u001b[0m     \u001b[38;5;28;01mexcept\u001b[39;00m timeout:\n\u001b[1;32m    710\u001b[0m         \u001b[38;5;28mself\u001b[39m\u001b[38;5;241m.\u001b[39m_timeout_occurred \u001b[38;5;241m=\u001b[39m \u001b[38;5;28;01mTrue\u001b[39;00m\n",
      "File \u001b[0;32m/Users/SjoerdStolwijk/anaconda3/envs/DefiningDebateQuality/lib/python3.12/ssl.py:1252\u001b[0m, in \u001b[0;36mSSLSocket.recv_into\u001b[0;34m(self, buffer, nbytes, flags)\u001b[0m\n\u001b[1;32m   1248\u001b[0m     \u001b[38;5;28;01mif\u001b[39;00m flags \u001b[38;5;241m!=\u001b[39m \u001b[38;5;241m0\u001b[39m:\n\u001b[1;32m   1249\u001b[0m         \u001b[38;5;28;01mraise\u001b[39;00m \u001b[38;5;167;01mValueError\u001b[39;00m(\n\u001b[1;32m   1250\u001b[0m           \u001b[38;5;124m\"\u001b[39m\u001b[38;5;124mnon-zero flags not allowed in calls to recv_into() on \u001b[39m\u001b[38;5;132;01m%s\u001b[39;00m\u001b[38;5;124m\"\u001b[39m \u001b[38;5;241m%\u001b[39m\n\u001b[1;32m   1251\u001b[0m           \u001b[38;5;28mself\u001b[39m\u001b[38;5;241m.\u001b[39m\u001b[38;5;18m__class__\u001b[39m)\n\u001b[0;32m-> 1252\u001b[0m     \u001b[38;5;28;01mreturn\u001b[39;00m \u001b[38;5;28mself\u001b[39m\u001b[38;5;241m.\u001b[39mread(nbytes, buffer)\n\u001b[1;32m   1253\u001b[0m \u001b[38;5;28;01melse\u001b[39;00m:\n\u001b[1;32m   1254\u001b[0m     \u001b[38;5;28;01mreturn\u001b[39;00m \u001b[38;5;28msuper\u001b[39m()\u001b[38;5;241m.\u001b[39mrecv_into(buffer, nbytes, flags)\n",
      "File \u001b[0;32m/Users/SjoerdStolwijk/anaconda3/envs/DefiningDebateQuality/lib/python3.12/ssl.py:1104\u001b[0m, in \u001b[0;36mSSLSocket.read\u001b[0;34m(self, len, buffer)\u001b[0m\n\u001b[1;32m   1102\u001b[0m \u001b[38;5;28;01mtry\u001b[39;00m:\n\u001b[1;32m   1103\u001b[0m     \u001b[38;5;28;01mif\u001b[39;00m buffer \u001b[38;5;129;01mis\u001b[39;00m \u001b[38;5;129;01mnot\u001b[39;00m \u001b[38;5;28;01mNone\u001b[39;00m:\n\u001b[0;32m-> 1104\u001b[0m         \u001b[38;5;28;01mreturn\u001b[39;00m \u001b[38;5;28mself\u001b[39m\u001b[38;5;241m.\u001b[39m_sslobj\u001b[38;5;241m.\u001b[39mread(\u001b[38;5;28mlen\u001b[39m, buffer)\n\u001b[1;32m   1105\u001b[0m     \u001b[38;5;28;01melse\u001b[39;00m:\n\u001b[1;32m   1106\u001b[0m         \u001b[38;5;28;01mreturn\u001b[39;00m \u001b[38;5;28mself\u001b[39m\u001b[38;5;241m.\u001b[39m_sslobj\u001b[38;5;241m.\u001b[39mread(\u001b[38;5;28mlen\u001b[39m)\n",
      "\u001b[0;31mKeyboardInterrupt\u001b[0m: "
     ]
    }
   ],
   "source": [
    "context = 'social media replies to a news- or infotainment-post'\n",
    "for index, row in tqdm.tqdm(dataset[\"commentText\"].items(), total=len(dataset)):\n",
    "    try: \n",
    "        embed = np.array(requests.post(\n",
    "            'https://inf.cl.uni-trier.de/embed/',\n",
    "            json={'model': MODEL, \n",
    "                  'prompt': 'You help me get embeddings for a sentence. I provide you with a context and a sentence and you reply only with that exact sentence. Context = ' + context + '; Sentence: ' + row}\n",
    "            ).json()[\"response\"])\n",
    "    except Exception as _e:\n",
    "        logging.warning(_e)\n",
    "        embed = None\n",
    "    \n",
    "    embed_MXBAI[index] = embed"
   ]
  },
  {
   "cell_type": "code",
   "execution_count": null,
   "metadata": {},
   "outputs": [],
   "source": [
    "dataset_w_embeds = dataset.join(pd.Series(embed_MXBAI, name=\"embed_MXBAI\"))\n",
    "dataset_w_embeds.to_parquet(f'{CFG.report_dir}/pubsphere.MXBAIembeds.parquet')\n",
    "dataset_w_embeds.head()"
   ]
  },
  {
   "cell_type": "code",
   "execution_count": 6,
   "metadata": {},
   "outputs": [],
   "source": [
    "#load datasets:\n",
    "dataset_w_embeds = pd.read_parquet(f'{CFG.report_dir}/pubsphere.MXBAIembeds.parquet')\n",
    "#dataset_prompt = pd.read_parquet(f'{CFG.report_dir}\\publicsphere.cardiff_prompt_classify_s.parquet')\n",
    "dataset_claim_embeds = pd.read_parquet(f'{CFG.report_dir}/pubsphere.claim_embed.parquet')\n",
    "\n"
   ]
  },
  {
   "cell_type": "code",
   "execution_count": null,
   "metadata": {},
   "outputs": [],
   "source": [
    "#create BERT-base embeddings for each word:\n",
    "\n",
    "model_name = \"google-bert/bert-base-uncased\"\n",
    "tokenizer = AutoTokenizer.from_pretrained(model_name)\n",
    "model = AutoModel.from_pretrained(model_name)"
   ]
  },
  {
   "cell_type": "code",
   "execution_count": null,
   "metadata": {},
   "outputs": [],
   "source": [
    "#create Twhin-BERT-base embeddings for each word:\n",
    "model_name = \"Twitter/twhin-bert-base\"\n",
    "tokenizer = AutoTokenizer.from_pretrained(model_name)\n",
    "model = AutoModel.from_pretrained(model_name)"
   ]
  },
  {
   "cell_type": "code",
   "execution_count": 12,
   "metadata": {},
   "outputs": [
    {
     "name": "stderr",
     "output_type": "stream",
     "text": [
      "/Users/SjoerdStolwijk/anaconda3/envs/DefiningDebateQuality/lib/python3.12/site-packages/huggingface_hub/file_download.py:1132: FutureWarning: `resume_download` is deprecated and will be removed in version 1.0.0. Downloads always resume when possible. If you want to force a new download, use `force_download=True`.\n",
      "  warnings.warn(\n",
      "Some weights of the model checkpoint at voidism/diffcse-roberta-base-sts were not used when initializing RobertaModel: ['aux_bert.embeddings.LayerNorm.bias', 'aux_bert.embeddings.LayerNorm.weight', 'aux_bert.embeddings.position_embeddings.weight', 'aux_bert.embeddings.position_ids', 'aux_bert.embeddings.token_type_embeddings.weight', 'aux_bert.embeddings.word_embeddings.weight', 'aux_bert.encoder.layer.0.attention.output.LayerNorm.bias', 'aux_bert.encoder.layer.0.attention.output.LayerNorm.weight', 'aux_bert.encoder.layer.0.attention.output.dense.bias', 'aux_bert.encoder.layer.0.attention.output.dense.weight', 'aux_bert.encoder.layer.0.attention.self.key.bias', 'aux_bert.encoder.layer.0.attention.self.key.weight', 'aux_bert.encoder.layer.0.attention.self.query.bias', 'aux_bert.encoder.layer.0.attention.self.query.weight', 'aux_bert.encoder.layer.0.attention.self.value.bias', 'aux_bert.encoder.layer.0.attention.self.value.weight', 'aux_bert.encoder.layer.0.intermediate.dense.bias', 'aux_bert.encoder.layer.0.intermediate.dense.weight', 'aux_bert.encoder.layer.0.output.LayerNorm.bias', 'aux_bert.encoder.layer.0.output.LayerNorm.weight', 'aux_bert.encoder.layer.0.output.dense.bias', 'aux_bert.encoder.layer.0.output.dense.weight', 'aux_bert.encoder.layer.1.attention.output.LayerNorm.bias', 'aux_bert.encoder.layer.1.attention.output.LayerNorm.weight', 'aux_bert.encoder.layer.1.attention.output.dense.bias', 'aux_bert.encoder.layer.1.attention.output.dense.weight', 'aux_bert.encoder.layer.1.attention.self.key.bias', 'aux_bert.encoder.layer.1.attention.self.key.weight', 'aux_bert.encoder.layer.1.attention.self.query.bias', 'aux_bert.encoder.layer.1.attention.self.query.weight', 'aux_bert.encoder.layer.1.attention.self.value.bias', 'aux_bert.encoder.layer.1.attention.self.value.weight', 'aux_bert.encoder.layer.1.intermediate.dense.bias', 'aux_bert.encoder.layer.1.intermediate.dense.weight', 'aux_bert.encoder.layer.1.output.LayerNorm.bias', 'aux_bert.encoder.layer.1.output.LayerNorm.weight', 'aux_bert.encoder.layer.1.output.dense.bias', 'aux_bert.encoder.layer.1.output.dense.weight', 'aux_bert.encoder.layer.10.attention.output.LayerNorm.bias', 'aux_bert.encoder.layer.10.attention.output.LayerNorm.weight', 'aux_bert.encoder.layer.10.attention.output.dense.bias', 'aux_bert.encoder.layer.10.attention.output.dense.weight', 'aux_bert.encoder.layer.10.attention.self.key.bias', 'aux_bert.encoder.layer.10.attention.self.key.weight', 'aux_bert.encoder.layer.10.attention.self.query.bias', 'aux_bert.encoder.layer.10.attention.self.query.weight', 'aux_bert.encoder.layer.10.attention.self.value.bias', 'aux_bert.encoder.layer.10.attention.self.value.weight', 'aux_bert.encoder.layer.10.intermediate.dense.bias', 'aux_bert.encoder.layer.10.intermediate.dense.weight', 'aux_bert.encoder.layer.10.output.LayerNorm.bias', 'aux_bert.encoder.layer.10.output.LayerNorm.weight', 'aux_bert.encoder.layer.10.output.dense.bias', 'aux_bert.encoder.layer.10.output.dense.weight', 'aux_bert.encoder.layer.11.attention.output.LayerNorm.bias', 'aux_bert.encoder.layer.11.attention.output.LayerNorm.weight', 'aux_bert.encoder.layer.11.attention.output.dense.bias', 'aux_bert.encoder.layer.11.attention.output.dense.weight', 'aux_bert.encoder.layer.11.attention.self.key.bias', 'aux_bert.encoder.layer.11.attention.self.key.weight', 'aux_bert.encoder.layer.11.attention.self.query.bias', 'aux_bert.encoder.layer.11.attention.self.query.weight', 'aux_bert.encoder.layer.11.attention.self.value.bias', 'aux_bert.encoder.layer.11.attention.self.value.weight', 'aux_bert.encoder.layer.11.intermediate.dense.bias', 'aux_bert.encoder.layer.11.intermediate.dense.weight', 'aux_bert.encoder.layer.11.output.LayerNorm.bias', 'aux_bert.encoder.layer.11.output.LayerNorm.weight', 'aux_bert.encoder.layer.11.output.dense.bias', 'aux_bert.encoder.layer.11.output.dense.weight', 'aux_bert.encoder.layer.2.attention.output.LayerNorm.bias', 'aux_bert.encoder.layer.2.attention.output.LayerNorm.weight', 'aux_bert.encoder.layer.2.attention.output.dense.bias', 'aux_bert.encoder.layer.2.attention.output.dense.weight', 'aux_bert.encoder.layer.2.attention.self.key.bias', 'aux_bert.encoder.layer.2.attention.self.key.weight', 'aux_bert.encoder.layer.2.attention.self.query.bias', 'aux_bert.encoder.layer.2.attention.self.query.weight', 'aux_bert.encoder.layer.2.attention.self.value.bias', 'aux_bert.encoder.layer.2.attention.self.value.weight', 'aux_bert.encoder.layer.2.intermediate.dense.bias', 'aux_bert.encoder.layer.2.intermediate.dense.weight', 'aux_bert.encoder.layer.2.output.LayerNorm.bias', 'aux_bert.encoder.layer.2.output.LayerNorm.weight', 'aux_bert.encoder.layer.2.output.dense.bias', 'aux_bert.encoder.layer.2.output.dense.weight', 'aux_bert.encoder.layer.3.attention.output.LayerNorm.bias', 'aux_bert.encoder.layer.3.attention.output.LayerNorm.weight', 'aux_bert.encoder.layer.3.attention.output.dense.bias', 'aux_bert.encoder.layer.3.attention.output.dense.weight', 'aux_bert.encoder.layer.3.attention.self.key.bias', 'aux_bert.encoder.layer.3.attention.self.key.weight', 'aux_bert.encoder.layer.3.attention.self.query.bias', 'aux_bert.encoder.layer.3.attention.self.query.weight', 'aux_bert.encoder.layer.3.attention.self.value.bias', 'aux_bert.encoder.layer.3.attention.self.value.weight', 'aux_bert.encoder.layer.3.intermediate.dense.bias', 'aux_bert.encoder.layer.3.intermediate.dense.weight', 'aux_bert.encoder.layer.3.output.LayerNorm.bias', 'aux_bert.encoder.layer.3.output.LayerNorm.weight', 'aux_bert.encoder.layer.3.output.dense.bias', 'aux_bert.encoder.layer.3.output.dense.weight', 'aux_bert.encoder.layer.4.attention.output.LayerNorm.bias', 'aux_bert.encoder.layer.4.attention.output.LayerNorm.weight', 'aux_bert.encoder.layer.4.attention.output.dense.bias', 'aux_bert.encoder.layer.4.attention.output.dense.weight', 'aux_bert.encoder.layer.4.attention.self.key.bias', 'aux_bert.encoder.layer.4.attention.self.key.weight', 'aux_bert.encoder.layer.4.attention.self.query.bias', 'aux_bert.encoder.layer.4.attention.self.query.weight', 'aux_bert.encoder.layer.4.attention.self.value.bias', 'aux_bert.encoder.layer.4.attention.self.value.weight', 'aux_bert.encoder.layer.4.intermediate.dense.bias', 'aux_bert.encoder.layer.4.intermediate.dense.weight', 'aux_bert.encoder.layer.4.output.LayerNorm.bias', 'aux_bert.encoder.layer.4.output.LayerNorm.weight', 'aux_bert.encoder.layer.4.output.dense.bias', 'aux_bert.encoder.layer.4.output.dense.weight', 'aux_bert.encoder.layer.5.attention.output.LayerNorm.bias', 'aux_bert.encoder.layer.5.attention.output.LayerNorm.weight', 'aux_bert.encoder.layer.5.attention.output.dense.bias', 'aux_bert.encoder.layer.5.attention.output.dense.weight', 'aux_bert.encoder.layer.5.attention.self.key.bias', 'aux_bert.encoder.layer.5.attention.self.key.weight', 'aux_bert.encoder.layer.5.attention.self.query.bias', 'aux_bert.encoder.layer.5.attention.self.query.weight', 'aux_bert.encoder.layer.5.attention.self.value.bias', 'aux_bert.encoder.layer.5.attention.self.value.weight', 'aux_bert.encoder.layer.5.intermediate.dense.bias', 'aux_bert.encoder.layer.5.intermediate.dense.weight', 'aux_bert.encoder.layer.5.output.LayerNorm.bias', 'aux_bert.encoder.layer.5.output.LayerNorm.weight', 'aux_bert.encoder.layer.5.output.dense.bias', 'aux_bert.encoder.layer.5.output.dense.weight', 'aux_bert.encoder.layer.6.attention.output.LayerNorm.bias', 'aux_bert.encoder.layer.6.attention.output.LayerNorm.weight', 'aux_bert.encoder.layer.6.attention.output.dense.bias', 'aux_bert.encoder.layer.6.attention.output.dense.weight', 'aux_bert.encoder.layer.6.attention.self.key.bias', 'aux_bert.encoder.layer.6.attention.self.key.weight', 'aux_bert.encoder.layer.6.attention.self.query.bias', 'aux_bert.encoder.layer.6.attention.self.query.weight', 'aux_bert.encoder.layer.6.attention.self.value.bias', 'aux_bert.encoder.layer.6.attention.self.value.weight', 'aux_bert.encoder.layer.6.intermediate.dense.bias', 'aux_bert.encoder.layer.6.intermediate.dense.weight', 'aux_bert.encoder.layer.6.output.LayerNorm.bias', 'aux_bert.encoder.layer.6.output.LayerNorm.weight', 'aux_bert.encoder.layer.6.output.dense.bias', 'aux_bert.encoder.layer.6.output.dense.weight', 'aux_bert.encoder.layer.7.attention.output.LayerNorm.bias', 'aux_bert.encoder.layer.7.attention.output.LayerNorm.weight', 'aux_bert.encoder.layer.7.attention.output.dense.bias', 'aux_bert.encoder.layer.7.attention.output.dense.weight', 'aux_bert.encoder.layer.7.attention.self.key.bias', 'aux_bert.encoder.layer.7.attention.self.key.weight', 'aux_bert.encoder.layer.7.attention.self.query.bias', 'aux_bert.encoder.layer.7.attention.self.query.weight', 'aux_bert.encoder.layer.7.attention.self.value.bias', 'aux_bert.encoder.layer.7.attention.self.value.weight', 'aux_bert.encoder.layer.7.intermediate.dense.bias', 'aux_bert.encoder.layer.7.intermediate.dense.weight', 'aux_bert.encoder.layer.7.output.LayerNorm.bias', 'aux_bert.encoder.layer.7.output.LayerNorm.weight', 'aux_bert.encoder.layer.7.output.dense.bias', 'aux_bert.encoder.layer.7.output.dense.weight', 'aux_bert.encoder.layer.8.attention.output.LayerNorm.bias', 'aux_bert.encoder.layer.8.attention.output.LayerNorm.weight', 'aux_bert.encoder.layer.8.attention.output.dense.bias', 'aux_bert.encoder.layer.8.attention.output.dense.weight', 'aux_bert.encoder.layer.8.attention.self.key.bias', 'aux_bert.encoder.layer.8.attention.self.key.weight', 'aux_bert.encoder.layer.8.attention.self.query.bias', 'aux_bert.encoder.layer.8.attention.self.query.weight', 'aux_bert.encoder.layer.8.attention.self.value.bias', 'aux_bert.encoder.layer.8.attention.self.value.weight', 'aux_bert.encoder.layer.8.intermediate.dense.bias', 'aux_bert.encoder.layer.8.intermediate.dense.weight', 'aux_bert.encoder.layer.8.output.LayerNorm.bias', 'aux_bert.encoder.layer.8.output.LayerNorm.weight', 'aux_bert.encoder.layer.8.output.dense.bias', 'aux_bert.encoder.layer.8.output.dense.weight', 'aux_bert.encoder.layer.9.attention.output.LayerNorm.bias', 'aux_bert.encoder.layer.9.attention.output.LayerNorm.weight', 'aux_bert.encoder.layer.9.attention.output.dense.bias', 'aux_bert.encoder.layer.9.attention.output.dense.weight', 'aux_bert.encoder.layer.9.attention.self.key.bias', 'aux_bert.encoder.layer.9.attention.self.key.weight', 'aux_bert.encoder.layer.9.attention.self.query.bias', 'aux_bert.encoder.layer.9.attention.self.query.weight', 'aux_bert.encoder.layer.9.attention.self.value.bias', 'aux_bert.encoder.layer.9.attention.self.value.weight', 'aux_bert.encoder.layer.9.intermediate.dense.bias', 'aux_bert.encoder.layer.9.intermediate.dense.weight', 'aux_bert.encoder.layer.9.output.LayerNorm.bias', 'aux_bert.encoder.layer.9.output.LayerNorm.weight', 'aux_bert.encoder.layer.9.output.dense.bias', 'aux_bert.encoder.layer.9.output.dense.weight', 'generator.lm_head.bias', 'generator.lm_head.decoder.bias', 'generator.lm_head.decoder.weight', 'generator.lm_head.dense.bias', 'generator.lm_head.dense.weight', 'generator.lm_head.layer_norm.bias', 'generator.lm_head.layer_norm.weight', 'generator.roberta.embeddings.LayerNorm.bias', 'generator.roberta.embeddings.LayerNorm.weight', 'generator.roberta.embeddings.position_embeddings.weight', 'generator.roberta.embeddings.position_ids', 'generator.roberta.embeddings.token_type_embeddings.weight', 'generator.roberta.embeddings.word_embeddings.weight', 'generator.roberta.encoder.layer.0.attention.output.LayerNorm.bias', 'generator.roberta.encoder.layer.0.attention.output.LayerNorm.weight', 'generator.roberta.encoder.layer.0.attention.output.dense.bias', 'generator.roberta.encoder.layer.0.attention.output.dense.weight', 'generator.roberta.encoder.layer.0.attention.self.key.bias', 'generator.roberta.encoder.layer.0.attention.self.key.weight', 'generator.roberta.encoder.layer.0.attention.self.query.bias', 'generator.roberta.encoder.layer.0.attention.self.query.weight', 'generator.roberta.encoder.layer.0.attention.self.value.bias', 'generator.roberta.encoder.layer.0.attention.self.value.weight', 'generator.roberta.encoder.layer.0.intermediate.dense.bias', 'generator.roberta.encoder.layer.0.intermediate.dense.weight', 'generator.roberta.encoder.layer.0.output.LayerNorm.bias', 'generator.roberta.encoder.layer.0.output.LayerNorm.weight', 'generator.roberta.encoder.layer.0.output.dense.bias', 'generator.roberta.encoder.layer.0.output.dense.weight', 'generator.roberta.encoder.layer.1.attention.output.LayerNorm.bias', 'generator.roberta.encoder.layer.1.attention.output.LayerNorm.weight', 'generator.roberta.encoder.layer.1.attention.output.dense.bias', 'generator.roberta.encoder.layer.1.attention.output.dense.weight', 'generator.roberta.encoder.layer.1.attention.self.key.bias', 'generator.roberta.encoder.layer.1.attention.self.key.weight', 'generator.roberta.encoder.layer.1.attention.self.query.bias', 'generator.roberta.encoder.layer.1.attention.self.query.weight', 'generator.roberta.encoder.layer.1.attention.self.value.bias', 'generator.roberta.encoder.layer.1.attention.self.value.weight', 'generator.roberta.encoder.layer.1.intermediate.dense.bias', 'generator.roberta.encoder.layer.1.intermediate.dense.weight', 'generator.roberta.encoder.layer.1.output.LayerNorm.bias', 'generator.roberta.encoder.layer.1.output.LayerNorm.weight', 'generator.roberta.encoder.layer.1.output.dense.bias', 'generator.roberta.encoder.layer.1.output.dense.weight', 'generator.roberta.encoder.layer.2.attention.output.LayerNorm.bias', 'generator.roberta.encoder.layer.2.attention.output.LayerNorm.weight', 'generator.roberta.encoder.layer.2.attention.output.dense.bias', 'generator.roberta.encoder.layer.2.attention.output.dense.weight', 'generator.roberta.encoder.layer.2.attention.self.key.bias', 'generator.roberta.encoder.layer.2.attention.self.key.weight', 'generator.roberta.encoder.layer.2.attention.self.query.bias', 'generator.roberta.encoder.layer.2.attention.self.query.weight', 'generator.roberta.encoder.layer.2.attention.self.value.bias', 'generator.roberta.encoder.layer.2.attention.self.value.weight', 'generator.roberta.encoder.layer.2.intermediate.dense.bias', 'generator.roberta.encoder.layer.2.intermediate.dense.weight', 'generator.roberta.encoder.layer.2.output.LayerNorm.bias', 'generator.roberta.encoder.layer.2.output.LayerNorm.weight', 'generator.roberta.encoder.layer.2.output.dense.bias', 'generator.roberta.encoder.layer.2.output.dense.weight', 'generator.roberta.encoder.layer.3.attention.output.LayerNorm.bias', 'generator.roberta.encoder.layer.3.attention.output.LayerNorm.weight', 'generator.roberta.encoder.layer.3.attention.output.dense.bias', 'generator.roberta.encoder.layer.3.attention.output.dense.weight', 'generator.roberta.encoder.layer.3.attention.self.key.bias', 'generator.roberta.encoder.layer.3.attention.self.key.weight', 'generator.roberta.encoder.layer.3.attention.self.query.bias', 'generator.roberta.encoder.layer.3.attention.self.query.weight', 'generator.roberta.encoder.layer.3.attention.self.value.bias', 'generator.roberta.encoder.layer.3.attention.self.value.weight', 'generator.roberta.encoder.layer.3.intermediate.dense.bias', 'generator.roberta.encoder.layer.3.intermediate.dense.weight', 'generator.roberta.encoder.layer.3.output.LayerNorm.bias', 'generator.roberta.encoder.layer.3.output.LayerNorm.weight', 'generator.roberta.encoder.layer.3.output.dense.bias', 'generator.roberta.encoder.layer.3.output.dense.weight', 'generator.roberta.encoder.layer.4.attention.output.LayerNorm.bias', 'generator.roberta.encoder.layer.4.attention.output.LayerNorm.weight', 'generator.roberta.encoder.layer.4.attention.output.dense.bias', 'generator.roberta.encoder.layer.4.attention.output.dense.weight', 'generator.roberta.encoder.layer.4.attention.self.key.bias', 'generator.roberta.encoder.layer.4.attention.self.key.weight', 'generator.roberta.encoder.layer.4.attention.self.query.bias', 'generator.roberta.encoder.layer.4.attention.self.query.weight', 'generator.roberta.encoder.layer.4.attention.self.value.bias', 'generator.roberta.encoder.layer.4.attention.self.value.weight', 'generator.roberta.encoder.layer.4.intermediate.dense.bias', 'generator.roberta.encoder.layer.4.intermediate.dense.weight', 'generator.roberta.encoder.layer.4.output.LayerNorm.bias', 'generator.roberta.encoder.layer.4.output.LayerNorm.weight', 'generator.roberta.encoder.layer.4.output.dense.bias', 'generator.roberta.encoder.layer.4.output.dense.weight', 'generator.roberta.encoder.layer.5.attention.output.LayerNorm.bias', 'generator.roberta.encoder.layer.5.attention.output.LayerNorm.weight', 'generator.roberta.encoder.layer.5.attention.output.dense.bias', 'generator.roberta.encoder.layer.5.attention.output.dense.weight', 'generator.roberta.encoder.layer.5.attention.self.key.bias', 'generator.roberta.encoder.layer.5.attention.self.key.weight', 'generator.roberta.encoder.layer.5.attention.self.query.bias', 'generator.roberta.encoder.layer.5.attention.self.query.weight', 'generator.roberta.encoder.layer.5.attention.self.value.bias', 'generator.roberta.encoder.layer.5.attention.self.value.weight', 'generator.roberta.encoder.layer.5.intermediate.dense.bias', 'generator.roberta.encoder.layer.5.intermediate.dense.weight', 'generator.roberta.encoder.layer.5.output.LayerNorm.bias', 'generator.roberta.encoder.layer.5.output.LayerNorm.weight', 'generator.roberta.encoder.layer.5.output.dense.bias', 'generator.roberta.encoder.layer.5.output.dense.weight', 'lm_head.bias', 'lm_head.decoder.bias', 'lm_head.decoder.weight', 'lm_head.dense.bias', 'lm_head.dense.weight', 'lm_head.layer_norm.bias', 'lm_head.layer_norm.weight', 'mlp.net.0.weight', 'mlp.net.1.bias', 'mlp.net.1.num_batches_tracked', 'mlp.net.1.running_mean', 'mlp.net.1.running_var', 'mlp.net.1.weight', 'mlp.net.3.weight', 'mlp.net.4.num_batches_tracked', 'mlp.net.4.running_mean', 'mlp.net.4.running_var']\n",
      "- This IS expected if you are initializing RobertaModel from the checkpoint of a model trained on another task or with another architecture (e.g. initializing a BertForSequenceClassification model from a BertForPreTraining model).\n",
      "- This IS NOT expected if you are initializing RobertaModel from the checkpoint of a model that you expect to be exactly identical (initializing a BertForSequenceClassification model from a BertForSequenceClassification model).\n",
      "Some weights of RobertaModel were not initialized from the model checkpoint at voidism/diffcse-roberta-base-sts and are newly initialized: ['roberta.pooler.dense.bias', 'roberta.pooler.dense.weight']\n",
      "You should probably TRAIN this model on a down-stream task to be able to use it for predictions and inference.\n"
     ]
    }
   ],
   "source": [
    "#calculate DiffCSE embeddings:\n",
    "model_name = \"voidism/diffcse-roberta-base-sts\"\n",
    "tokenizer = AutoTokenizer.from_pretrained(model_name)\n",
    "model = AutoModel.from_pretrained(model_name)"
   ]
  },
  {
   "cell_type": "code",
   "execution_count": 13,
   "metadata": {},
   "outputs": [],
   "source": [
    "#function for encoding sentence embeddings based on the DiffCSE approach which is based on (and refers to) SimCSE/evaluation.py \n",
    "def encode_sentence(sentence):\n",
    "    input_ids = tokenizer.encode(sentence, add_special_tokens=True, truncation=True, max_length=512, padding='max_length')\n",
    "    input_ids_tensor = torch.tensor(input_ids).unsqueeze(0)  # Add batch dimension\n",
    "    attention_mask = torch.ones_like(input_ids_tensor)  # Creating attention mask \n",
    "    with torch.no_grad():\n",
    "            outputs = model(input_ids_tensor, output_hidden_states=True, return_dict=True, attention_mask=attention_mask)\n",
    "            sentence_embedding = outputs.last_hidden_state[:, 0].cpu()\n",
    "            return sentence_embedding.tolist()"
   ]
  },
  {
   "cell_type": "code",
   "execution_count": null,
   "metadata": {},
   "outputs": [],
   "source": [
    "#for DiffCSE: Create embeddings for each argument and store them in a new column\n",
    "dataset.loc[:, 'DiffCSE_embedding'] = dataset[\"commentText\"].apply(encode_sentence)"
   ]
  },
  {
   "cell_type": "code",
   "execution_count": 7,
   "metadata": {},
   "outputs": [],
   "source": [
    "#claim mine the publicsphere data\n",
    "#first add system prompt\n"
   ]
  },
  {
   "cell_type": "code",
   "execution_count": 5,
   "metadata": {},
   "outputs": [],
   "source": [
    "SYSTEM_claim: str = \\\n",
    "    \"\"\"\n",
    "        Instruction:\n",
    "\n",
    "        You are a text annotation assitant. Analyze a collection of social media comments enclosed in chevrons <..>. Identify and list the claims within these comments. Claims can be related to events, issues, opinions or concerns in relation to the specified topic.\n",
    "        Claims are defined as the main assertion or conclusion of an argument.\n",
    "        You summarize each claim into a short simple sentence.\n",
    "\n",
    "        Response format:\n",
    "\n",
    "        You provide only the list of claims, separated by commas, without any additional text or explanations. If no claims can be identified, return an empty list [].\n",
    "\n",
    "        Response format template:\n",
    "        \n",
    "        [\"claim 1\", \"claim 2\", ... \"claim x\"]\n",
    "\t\"\"\""
   ]
  },
  {
   "cell_type": "code",
   "execution_count": 6,
   "metadata": {},
   "outputs": [],
   "source": [
    "MODEL: str = 'llama3.1:70b-instruct-q6_K'  # options: 'gemma:7b-instruct-q6_K', 'gemma2:27b-instruct-q6_K', 'llama3.1:8b-instruct-q6_K', 'llama3.1:70b-instruct-q6_K', 'mistral:7b-instruct-v0.3-q6_K', 'mistral-large:123b-instruct-2407-q6_K', 'mixtral:8x7b-instruct-v0.1-q6_K', 'mixtral:8x22b-instruct-v0.1-q6_K', 'phi3:14b-medium-128k-instruct-q6_K' or 'qwen2:72b-instruct-q6_K'\n"
   ]
  },
  {
   "cell_type": "code",
   "execution_count": 9,
   "metadata": {},
   "outputs": [
    {
     "data": {
      "text/plain": [
       "Index(['StartDate', 'RecordedDate', 'IPAddress', 'Finished', 'Coder', 'ID',\n",
       "       'Mark_ID', 'Genre', 'topiccode', 'Platform', 'Anonymity',\n",
       "       'Anonymity_9_TEXT', 'codable', 'Interaction', 'Acknowledgement',\n",
       "       'TopicRelevance', 'Reasoning', 'BackgroundInfo', 'ExternalEvidence',\n",
       "       'ExternalEvidence_1_TEXT', 'Opinion', 'disagreement',\n",
       "       'Ideologicaldirection', 'Name_calling', 'Vulgarity',\n",
       "       'Attack_reputation', 'Question_Intelligenc', 'All_caps_function',\n",
       "       'Sarcasm_to_criticize', 'Individual_right', 'discrimination',\n",
       "       'Invoke_violence', 'Tone', 'INTERACTIVITY_DUMMY', 'RATIONALITY_DUMMY',\n",
       "       'HAS_OPINION_DUMMY', 'LIBERAL_NEUTRAL_CONSERVATIVE', 'LIBERAL_DUMMY',\n",
       "       'CONSERVATIVE_DUMMY', 'NAMECALLING_DUMMY', 'VULGAR_DUMMY',\n",
       "       'NAMECALLING_VULGAR_DUMMY', 'INCIVILITY_ORDINAL', 'INCIVILITY_DUMMY',\n",
       "       'INTOLERANCE_DUMMY', 'filter_$', 'IMPOLITENESS_DUMMY', 'commentText',\n",
       "       'showName', 'genre', 'Time_comment', 'likeCount_comment', 'entities',\n",
       "       'place', 'retweet_count', 'platform', 'retweeted', 'language', 'source',\n",
       "       'in_reply_to_status_id_str', 'in_reply_to_user_id_str',\n",
       "       'in_reply_to_screen_name', 'is_quote_status', 'videoTitle',\n",
       "       'description', 'Time_video', 'channelTitle', 'channelId', 'viewCount',\n",
       "       'dislikeCount_video', 'likeCount_video', 'date_difference',\n",
       "       'commentCount_video', 'replyCount_comment', 'topic', 'subscribers',\n",
       "       'HATELIST_FOCUSED_DUMMY', 'Time_comment_year', 'Time_video_year',\n",
       "       'tfidf_embedding', 'embed_MXP'],\n",
       "      dtype='object')"
      ]
     },
     "execution_count": 9,
     "metadata": {},
     "output_type": "execute_result"
    }
   ],
   "source": [
    "dataset_w_embeds.columns"
   ]
  },
  {
   "cell_type": "markdown",
   "metadata": {},
   "source": [
    "topiccode staat voor:\n",
    "0 : YouTube general\n",
    "1 : YT Mueller/Comy investigation\n",
    "2 : YT: Economy\n",
    "3 : YT: Middle East\n",
    "4 : Twitter:general"
   ]
  },
  {
   "cell_type": "code",
   "execution_count": 10,
   "metadata": {},
   "outputs": [],
   "source": [
    "topicdict = {0 : 'YTgen', \n",
    "1 : 'YT_investigation',\n",
    "2 : 'YT_Econ',\n",
    "3 : 'YT_ME',\n",
    "4 : 'Twitgen'}\n",
    "\n",
    "dataset_w_embeds.loc[:,'topiccodeSTR']= dataset_w_embeds.topiccode.map(topicdict)"
   ]
  },
  {
   "cell_type": "code",
   "execution_count": null,
   "metadata": {},
   "outputs": [],
   "source": [
    "#dataset_prompt.loc[:,'topiccodeSTR']= dataset_prompt.topiccode.map(topicdict)"
   ]
  },
  {
   "cell_type": "code",
   "execution_count": 12,
   "metadata": {},
   "outputs": [],
   "source": [
    "options_str = \"\"\"\n",
    "seed: 42\n",
    "temperature: 0.8\n",
    "num_predict: 128\n",
    "\"\"\"\n",
    "\n",
    "options = yaml.safe_load(options_str)"
   ]
  },
  {
   "cell_type": "code",
   "execution_count": 13,
   "metadata": {},
   "outputs": [
    {
     "data": {
      "text/plain": [
       "{'id': 'f1348f82-7a48-11ef-8a91-0d8e6fdd3d4b',\n",
       " 'timestamp': '2024-09-24T07:45:17.476415',\n",
       " 'model': 'llama3.1:70b-instruct-q6_K',\n",
       " 'prompt': [{'role': 'system',\n",
       "   'content': '\\n        Instruction:\\n\\n        You are a text annotation assitant. Analyze a collection of social media comments enclosed in chevrons <..>. Identify and list the claims within these comments. Claims can be related to events, issues, opinions or concerns in relation to the specified topic.\\n        Claims are defined as the main assertion or conclusion of an argument.\\n        You summarize each claim into a short simple sentence.\\n\\n        Response format:\\n\\n        You provide only the list of claims, separated by commas, without any additional text or explanations. If no claims can be identified, return an empty list [].\\n\\n        Response format template:\\n        \\n        [\"claim 1\", \"claim 2\", ... \"claim x\"]\\n\\t'},\n",
       "  {'role': 'user',\n",
       "   'content': 'The following set of social media posts are replies to a news- or infotainment-post. Check whether your answer only consists of a list of claims. \\n\"Posts\":\\n<[\\'sad\\', \"That\\'s a vicious insult!!! What did a box of rocks ever do to you that you would slander it like that? I represent the coalition for mineral rights. Minerals have rights to.\", \\'@colbertlateshow The question has always been if he was compromised. We never knew if he was aware of the trump tow… https://t.co/J7oTDPZcM9\\', \\'Goya Solidar.  So there are a few of us left.  Try reading the comments on both Fox News and The Daily Show clips.  The death of free and civil dialogue has never been painted so well.\\', \\'hello hello \\\\nNo-one else will hug him.\\']>'}],\n",
       " 'response': '[\"Minerals have rights\", \"The question has always been if he was compromised\", \"The death of free and civil dialogue has occurred\"]'}"
      ]
     },
     "execution_count": 13,
     "metadata": {},
     "output_type": "execute_result"
    }
   ],
   "source": [
    "\n",
    "requests.post(\n",
    "                            'https://inf.cl.uni-trier.de/',\n",
    "                            json={\n",
    "                                'model': MODEL,\n",
    "                                'system': SYSTEM_claim,\n",
    "                                'prompt': f'The following set of social media posts are replies to a news- or infotainment-post. '\n",
    "                                        + f'Check whether your answer only consists of a list of claims. \\n\"Posts\":\\n<{dataset_w_embeds[\"commentText\"][:5].to_list()}>',\n",
    "                                'options': options_low\n",
    "                                }).json()"
   ]
  },
  {
   "cell_type": "code",
   "execution_count": 52,
   "metadata": {},
   "outputs": [
    {
     "name": "stderr",
     "output_type": "stream",
     "text": [
      "3862it [2:05:28,  1.95s/it]\n"
     ]
    }
   ],
   "source": [
    "#get a list of claims per comment:\n",
    "chunked_result: typing.List[pd.DataFrame] = []\n",
    "for index, row in tqdm.tqdm(dataset_prompt.iterrows()):\n",
    "    try: \n",
    "        chunked_result.append(\n",
    "            pd.DataFrame(\n",
    "                data=[\n",
    "                    requests.post(\n",
    "                        'https://inf.cl.uni-trier.de/',\n",
    "                        json={\n",
    "                            'model': MODEL,\n",
    "                            'system': SYSTEM_claim,\n",
    "                            'prompt': f'The following set of social media posts are replies to a news- or infotainment-post. '\n",
    "                                    + f'Check whether your answer strictly adheres to the specified format. \\n\"Posts\":\\n<{row[\"commentText\"]}>',\n",
    "                            'options': options\n",
    "                            }).json()['response']                       \n",
    "                ],\n",
    "                columns=['claims']\n",
    "            )\n",
    "        )\n",
    "        \n",
    "    except json.JSONDecodeError:\n",
    "        print(\"invalid json response, skipping to next batch\")"
   ]
  },
  {
   "cell_type": "code",
   "execution_count": 27,
   "metadata": {},
   "outputs": [
    {
     "name": "stderr",
     "output_type": "stream",
     "text": [
      "0it [00:00, ?it/s]"
     ]
    },
    {
     "name": "stderr",
     "output_type": "stream",
     "text": [
      "1it [00:16, 16.55s/it]\n",
      "1it [00:02,  2.04s/it]\n",
      "3it [00:04,  1.40s/it]\n"
     ]
    }
   ],
   "source": [
    "#apply generalized claim mining to get a list of claims:\n",
    "chunked_result: typing.List[pd.DataFrame] = []\n",
    "for label, group in dataset_prompt[:5].groupby('topiccodeSTR'):\n",
    "    for index, row in tqdm.tqdm(group.iterrows()):\n",
    "        try: \n",
    "            chunked_result.append(\n",
    "                pd.DataFrame(\n",
    "                    data=[\n",
    "                        requests.post(\n",
    "                            'https://inf.cl.uni-trier.de/',\n",
    "                            json={\n",
    "                                'model': MODEL,\n",
    "                                'system': SYSTEM_claim,\n",
    "                                'prompt': f'The following set of social media posts are replies to a news- or infotainment-post. '\n",
    "                                        + f'Check whether your answer strictly adheres to the specified format. \\n\"Posts\":\\n<{row[\"commentText\"]}>'\n",
    "                                }).json()['response']                       \n",
    "                    ],\n",
    "                    columns=['claims']\n",
    "                )\n",
    "                .assign(label=label)\n",
    "            )\n",
    "            \n",
    "        except json.JSONDecodeError:\n",
    "            print(\"invalid json response, skipping to next batch\")"
   ]
  },
  {
   "cell_type": "code",
   "execution_count": 54,
   "metadata": {},
   "outputs": [
    {
     "name": "stdout",
     "output_type": "stream",
     "text": [
      "                                                 claims\n",
      "0                                                    []\n",
      "1     [\"Minerals have rights too\", \"A box of rocks w...\n",
      "2     [\"There is a question about whether Trump was ...\n",
      "3     [\"The death of free and civil dialogue is evid...\n",
      "4                         [\"Nobody else will hug him.\"]\n",
      "...                                                 ...\n",
      "3857  [\"They can't afford chemical peels and facelif...\n",
      "3858                           [\"He will be confirmed\"]\n",
      "3859  [\"They knew all about the cameras.\", \"The susp...\n",
      "3860  [\"Troops are waiting in the fields\", \"Men will...\n",
      "3861  [\"Russia and the US are both against ISIS\", \"T...\n",
      "\n",
      "[3862 rows x 1 columns]\n"
     ]
    }
   ],
   "source": [
    "claim_df = pd.concat(chunked_result, ignore_index=True)\n",
    "print(claim_df)"
   ]
  },
  {
   "cell_type": "code",
   "execution_count": null,
   "metadata": {},
   "outputs": [],
   "source": [
    "claim_df.claims.to_list()"
   ]
  },
  {
   "cell_type": "code",
   "execution_count": 49,
   "metadata": {},
   "outputs": [
    {
     "data": {
      "text/plain": [
       "955                                                   []\n",
       "956    [\"Democrats support Dan in 2020\", \"Someone nam...\n",
       "957    [\"There is a recording that has not been relea...\n",
       "958                                  [\"He had dementia\"]\n",
       "959    [\"Only Red States are prone to natural disaste...\n",
       "Name: claim_run1, dtype: object"
      ]
     },
     "execution_count": 49,
     "metadata": {},
     "output_type": "execute_result"
    }
   ],
   "source": [
    "dataset_prompt.claim_run1[:960].tail()"
   ]
  },
  {
   "cell_type": "code",
   "execution_count": 16,
   "metadata": {},
   "outputs": [],
   "source": [
    "dataset_claim = pd.read_parquet(f'{CFG.report_dir}/pubsphere.claim.parquet')\n"
   ]
  },
  {
   "cell_type": "code",
   "execution_count": 4,
   "metadata": {},
   "outputs": [],
   "source": [
    "#change options to low temperature (0,1) and compare result:\n",
    "options_low = \"\"\"\n",
    "seed: 42\n",
    "temperature: 0.1\n",
    "\"\"\"\n",
    "\n",
    "options_low = yaml.safe_load(options_low)"
   ]
  },
  {
   "cell_type": "code",
   "execution_count": 41,
   "metadata": {},
   "outputs": [
    {
     "data": {
      "text/plain": [
       "{'id': 'eba29042-7a60-11ef-8a91-0d8e6fdd3d4b',\n",
       " 'timestamp': '2024-09-24T10:36:56.052522',\n",
       " 'model': 'llama3.1:70b-instruct-q6_K',\n",
       " 'prompt': [{'role': 'system',\n",
       "   'content': '\\n        Instruction:\\n\\n        You are a text annotation assitant. Analyze a collection of social media comments enclosed in chevrons <..>. Identify and list the claims within these comments. Claims can be related to events, issues, opinions or concerns in relation to the specified topic.\\n        Claims are defined as the main assertion or conclusion of an argument.\\n        You summarize each claim into a short simple sentence.\\n\\n        Response format:\\n\\n        You provide only the list of claims, separated by commas, without any additional text or explanations. If no claims can be identified, return an empty list [].\\n\\n        Response format template:\\n        \\n        [\"claim 1\", \"claim 2\", ... \"claim x\"]\\n\\t'},\n",
       "  {'role': 'user',\n",
       "   'content': 'The following set of social media posts are replies to a news- or infotainment-post. Check whether your answer only consists of a list of claims. \\n\"Posts\":\\n<[\\'sad\\', \"That\\'s a vicious insult!!! What did a box of rocks ever do to you that you would slander it like that? I represent the coalition for mineral rights. Minerals have rights to.\", \\'@colbertlateshow The question has always been if he was compromised. We never knew if he was aware of the trump tow… https://t.co/J7oTDPZcM9\\', \\'Goya Solidar.  So there are a few of us left.  Try reading the comments on both Fox News and The Daily Show clips.  The death of free and civil dialogue has never been painted so well.\\', \\'hello hello \\\\nNo-one else will hug him.\\']>'}],\n",
       " 'response': '[\"'}"
      ]
     },
     "execution_count": 41,
     "metadata": {},
     "output_type": "execute_result"
    }
   ],
   "source": [
    "requests.post(\n",
    "                            'https://inf.cl.uni-trier.de/',\n",
    "                            json={\n",
    "                                'model': MODEL,\n",
    "                                'system': SYSTEM_claim,\n",
    "                                'prompt': f'The following set of social media posts are replies to a news- or infotainment-post. '\n",
    "                                        + f'Check whether your answer only consists of a list of claims. \\n\"Posts\":\\n<{dataset_claim[\"commentText\"][:5].to_list()}>',\n",
    "                                'options': options_low\n",
    "                                }).json()"
   ]
  },
  {
   "cell_type": "code",
   "execution_count": 50,
   "metadata": {},
   "outputs": [
    {
     "name": "stderr",
     "output_type": "stream",
     "text": [
      "3862it [2:00:19,  1.87s/it]\n"
     ]
    }
   ],
   "source": [
    "#test low temperature claims per comment:\n",
    "chunked_result: typing.List[pd.DataFrame] = []\n",
    "for index, row in tqdm.tqdm(dataset_claim.iterrows()):\n",
    "    try: \n",
    "        chunked_result.append(\n",
    "            pd.DataFrame(\n",
    "                data=[\n",
    "                    requests.post(\n",
    "                        'https://inf.cl.uni-trier.de/',\n",
    "                        json={\n",
    "                            'model': MODEL,\n",
    "                            'system': SYSTEM_claim,\n",
    "                            'prompt': f'The following set of social media posts are replies to a news- or infotainment-post. '\n",
    "                                    + f'Check whether your answer strictly adheres to the specified format. \\n\"Posts\":\\n<{row[\"commentText\"]}>',\n",
    "                            'options': options_low\n",
    "                            }).json()['response']                       \n",
    "                ],\n",
    "                columns=['claims']\n",
    "            )\n",
    "        )\n",
    "        \n",
    "    except json.JSONDecodeError:\n",
    "        print(\"invalid json response, skipping to next batch\")"
   ]
  },
  {
   "cell_type": "code",
   "execution_count": 51,
   "metadata": {},
   "outputs": [
    {
     "data": {
      "text/plain": [
       "[  claims\n",
       " 0     [],\n",
       "                           claims\n",
       " 0  [\"Minerals have rights too.\"],\n",
       "                                               claims\n",
       " 0  [\"The question has always been if Trump was co...,\n",
       "                                               claims\n",
       " 0  [\"There are only a few people left who value f...,\n",
       "                     claims\n",
       " 0  [\"No one will hug him\"]]"
      ]
     },
     "execution_count": 51,
     "metadata": {},
     "output_type": "execute_result"
    }
   ],
   "source": [
    "chunked_result[:5]"
   ]
  },
  {
   "cell_type": "code",
   "execution_count": 52,
   "metadata": {},
   "outputs": [
    {
     "name": "stdout",
     "output_type": "stream",
     "text": [
      "                                                 claims\n",
      "0                                                    []\n",
      "1                         [\"Minerals have rights too.\"]\n",
      "2     [\"The question has always been if Trump was co...\n",
      "3     [\"There are only a few people left who value f...\n",
      "4                               [\"No one will hug him\"]\n",
      "...                                                 ...\n",
      "3857  [\"Some women cannot afford beauty treatments w...\n",
      "3858                           [\"He will be confirmed\"]\n",
      "3859  [\"The individuals in question knew about the c...\n",
      "3860  [\"Troops are waiting in the fields\", \"Joining ...\n",
      "3861  [\"The Syrian crisis has strange components\", \"...\n",
      "\n",
      "[3862 rows x 1 columns]\n"
     ]
    }
   ],
   "source": [
    "claim_low = pd.concat(chunked_result, ignore_index=True)\n",
    "print(claim_low)"
   ]
  },
  {
   "cell_type": "code",
   "execution_count": null,
   "metadata": {},
   "outputs": [],
   "source": []
  },
  {
   "cell_type": "code",
   "execution_count": 53,
   "metadata": {},
   "outputs": [
    {
     "name": "stdout",
     "output_type": "stream",
     "text": [
      "                                                 claims  original_index\n",
      "0                                                    []               0\n",
      "1                                [\"Minerals have rights               1\n",
      "2      \"The post is a vicious insult to boxes of roc...               1\n",
      "3                     [\"Trump may have been compromised               2\n",
      "4      \"The extent of Trump's awareness about his ow...               2\n",
      "...                                                 ...             ...\n",
      "1408                    [\"Democrats support Dan in 2020             956\n",
      "1409          \"Someone named Mica should be destroyed\"]             956\n",
      "1410  [\"There is a recording that has not been relea...             957\n",
      "1411                                [\"He had dementia\"]             958\n",
      "1412  [\"Only Red States are prone to natural disaste...             959\n",
      "\n",
      "[1413 rows x 2 columns]\n"
     ]
    }
   ],
   "source": [
    "#list the claims in a way that links them to the original post, so we can group the claims according to any grouper, while still being able to find unique embeddings per claim: \n",
    "claim_df = claim_low\n",
    "claim_df['original_index'] = claim_df.index\n",
    "claim_df['claims'] = claim_df['claims'].str.split('\",')\n",
    "claim_df = claim_df.explode('claims')\n",
    "claim_df = claim_df.reset_index(drop=True)\n",
    "claim_df = claim_df.drop_duplicates()\n",
    "print(claim_df)"
   ]
  },
  {
   "cell_type": "code",
   "execution_count": 66,
   "metadata": {},
   "outputs": [],
   "source": [
    "dataset_claim_embeds.loc[:, \"claim_optlow\"]=claim_low"
   ]
  },
  {
   "cell_type": "code",
   "execution_count": 29,
   "metadata": {},
   "outputs": [],
   "source": [
    "dataset_claim_embeds.to_parquet(f'{CFG.report_dir}/pubsphere.claim_embed.parquet')"
   ]
  },
  {
   "cell_type": "code",
   "execution_count": 75,
   "metadata": {},
   "outputs": [
    {
     "name": "stderr",
     "output_type": "stream",
     "text": [
      "100%|██████████| 3862/3862 [13:49<00:00,  4.66it/s]\n"
     ]
    },
    {
     "data": {
      "text/plain": [
       "0       [0.3085225224494934, 0.0025453902781009674, -0...\n",
       "1       [0.34888750314712524, -0.01314709335565567, -0...\n",
       "2       [0.4851573407649994, -0.06400042772293091, -0....\n",
       "3       [0.31287914514541626, -0.15600241720676422, -0...\n",
       "4       [0.5331375598907471, -0.04385572671890259, -0....\n",
       "                              ...                        \n",
       "3857    [0.2503626346588135, -0.3144466280937195, -0.7...\n",
       "3858    [0.5046452283859253, -0.13685280084609985, -0....\n",
       "3859    [0.6014363765716553, -0.26543501019477844, -0....\n",
       "3860    [0.43446165323257446, -0.1825677752494812, -0....\n",
       "3861    [0.3531288206577301, -0.019186511635780334, -0...\n",
       "Name: claim_optlow_MXBAI, Length: 3862, dtype: object"
      ]
     },
     "execution_count": 75,
     "metadata": {},
     "output_type": "execute_result"
    }
   ],
   "source": [
    "#get MXBAI embeddings for the claims:\n",
    "context = 'claims made in social media replies to a news- or infotainment-post'\n",
    "claim_optlow_MXBAI: typing.Dict[str, np.ndarray] = (\n",
    "    pd.Series(src.SentenceEmbedder()(dataset_claim_embeds[\"claim_optlow\"], prefix= 'You help me get embeddings for a sentence. I provide you with a context and a sentence and you reply only with that exact sentence. Context = ' + context + '; Sentence: '), name=\"claim_optlow_MXBAI\")\n",
    "    .rename_axis(index=dataset_claim_embeds.index.names)\n",
    ")\n",
    "claim_optlow_MXBAI"
   ]
  },
  {
   "cell_type": "code",
   "execution_count": 3,
   "metadata": {},
   "outputs": [],
   "source": [
    "dataset_claim_embeds = pd.read_parquet(f'{CFG.report_dir}/pubsphere.claim_embed.parquet')"
   ]
  },
  {
   "cell_type": "code",
   "execution_count": 7,
   "metadata": {},
   "outputs": [
    {
     "data": {
      "text/html": [
       "<div>\n",
       "<style scoped>\n",
       "    .dataframe tbody tr th:only-of-type {\n",
       "        vertical-align: middle;\n",
       "    }\n",
       "\n",
       "    .dataframe tbody tr th {\n",
       "        vertical-align: top;\n",
       "    }\n",
       "\n",
       "    .dataframe thead th {\n",
       "        text-align: right;\n",
       "    }\n",
       "</style>\n",
       "<table border=\"1\" class=\"dataframe\">\n",
       "  <thead>\n",
       "    <tr style=\"text-align: right;\">\n",
       "      <th></th>\n",
       "      <th>StartDate</th>\n",
       "      <th>RecordedDate</th>\n",
       "      <th>IPAddress</th>\n",
       "      <th>Finished</th>\n",
       "      <th>Coder</th>\n",
       "      <th>ID</th>\n",
       "      <th>Mark_ID</th>\n",
       "      <th>Genre</th>\n",
       "      <th>topiccode</th>\n",
       "      <th>Platform</th>\n",
       "      <th>...</th>\n",
       "      <th>irony</th>\n",
       "      <th>hate</th>\n",
       "      <th>topiccodeSTR</th>\n",
       "      <th>claim_run1</th>\n",
       "      <th>claim_optdef</th>\n",
       "      <th>claim_optdef_embed_MXBAI</th>\n",
       "      <th>claim_optlow</th>\n",
       "      <th>claim_optlow_MXBAI</th>\n",
       "      <th>tfidf_embed_post</th>\n",
       "      <th>embed_MXBAI_post</th>\n",
       "    </tr>\n",
       "  </thead>\n",
       "  <tbody>\n",
       "    <tr>\n",
       "      <th>0</th>\n",
       "      <td>5/30/2021 13:03:17</td>\n",
       "      <td>5/30/2021 13:04:17</td>\n",
       "      <td>62.194.51.29</td>\n",
       "      <td>1</td>\n",
       "      <td>6</td>\n",
       "      <td>UgyPHwv8G0cDE6-wEgl4AaABAg.8_0ZjJKSJty8_0kXGkAd2U</td>\n",
       "      <td>119</td>\n",
       "      <td>0</td>\n",
       "      <td>0</td>\n",
       "      <td>1</td>\n",
       "      <td>...</td>\n",
       "      <td>{'non_irony', 'irony'}</td>\n",
       "      <td>{'NOT-HATE'}</td>\n",
       "      <td>YTgen</td>\n",
       "      <td>[]</td>\n",
       "      <td>[]</td>\n",
       "      <td>[0.3085225224494934, 0.0025453902781009674, -0...</td>\n",
       "      <td>[]</td>\n",
       "      <td>[0.3085225224494934, 0.0025453902781009674, -0...</td>\n",
       "      <td>[0.0, 0.0, 0.0, 0.0, 0.0, 0.0, 0.0, 0.0, 0.0, ...</td>\n",
       "      <td>[0.40566757321357727, -0.032418690621852875, -...</td>\n",
       "    </tr>\n",
       "    <tr>\n",
       "      <th>1</th>\n",
       "      <td>10/11/2021 10:34:05</td>\n",
       "      <td>10/11/2021 10:36:46</td>\n",
       "      <td>213.127.109.191</td>\n",
       "      <td>1</td>\n",
       "      <td>6</td>\n",
       "      <td>Ugx2WXq9UdV8mPPjejJ4AaABAg.8yHCKV0Boe58yYRxEQEF45</td>\n",
       "      <td>282</td>\n",
       "      <td>1</td>\n",
       "      <td>2</td>\n",
       "      <td>1</td>\n",
       "      <td>...</td>\n",
       "      <td>{'non_irony'}</td>\n",
       "      <td>{'NOT-HATE'}</td>\n",
       "      <td>YT_Econ</td>\n",
       "      <td>[\"Minerals have rights\", \"The post is a viciou...</td>\n",
       "      <td>[\"Minerals have rights too\", \"A box of rocks w...</td>\n",
       "      <td>[0.3428829610347748, 0.03502892702817917, -0.5...</td>\n",
       "      <td>[\"Minerals have rights too.\"]</td>\n",
       "      <td>[0.34888750314712524, -0.01314709335565567, -0...</td>\n",
       "      <td>[0.0, 0.0, 0.0, 0.0, 0.0, 0.0, 0.0, 0.0, 0.0, ...</td>\n",
       "      <td>[0.49942252039909363, -0.22240903973579407, -0...</td>\n",
       "    </tr>\n",
       "    <tr>\n",
       "      <th>2</th>\n",
       "      <td>9/9/2021 18:49:48</td>\n",
       "      <td>9/9/2021 18:51:32</td>\n",
       "      <td>213.127.110.0</td>\n",
       "      <td>1</td>\n",
       "      <td>6</td>\n",
       "      <td>1110578710648890000</td>\n",
       "      <td>372</td>\n",
       "      <td>2</td>\n",
       "      <td>4</td>\n",
       "      <td>2</td>\n",
       "      <td>...</td>\n",
       "      <td>{'non_irony'}</td>\n",
       "      <td>{'NOT-HATE'}</td>\n",
       "      <td>Twitgen</td>\n",
       "      <td>[\"Trump may have been compromised\", \"The exten...</td>\n",
       "      <td>[\"There is a question about whether Trump was ...</td>\n",
       "      <td>[0.5012139081954956, -0.1079118549823761, -0.6...</td>\n",
       "      <td>[\"The question has always been if Trump was co...</td>\n",
       "      <td>[0.4851573407649994, -0.06400042772293091, -0....</td>\n",
       "      <td>[0.0, 0.0, 0.0, 0.0, 0.0, 0.0, 0.0, 0.0, 0.0, ...</td>\n",
       "      <td>[0.6132397651672363, -0.3024018704891205, -0.6...</td>\n",
       "    </tr>\n",
       "    <tr>\n",
       "      <th>3</th>\n",
       "      <td>6/6/2021 16:12:46</td>\n",
       "      <td>6/6/2021 16:16:16</td>\n",
       "      <td>213.127.76.145</td>\n",
       "      <td>1</td>\n",
       "      <td>6</td>\n",
       "      <td>UgwUPFScjJ0MCeaP2F54AaABAg.8lvp3fc9Euf8lvvgsUgEgV</td>\n",
       "      <td>769</td>\n",
       "      <td>0</td>\n",
       "      <td>0</td>\n",
       "      <td>1</td>\n",
       "      <td>...</td>\n",
       "      <td>{'irony'}</td>\n",
       "      <td>{'NOT-HATE'}</td>\n",
       "      <td>YTgen</td>\n",
       "      <td>[\"There are only a few people left who value c...</td>\n",
       "      <td>[\"The death of free and civil dialogue is evid...</td>\n",
       "      <td>[0.21832342445850372, -0.13364076614379883, -0...</td>\n",
       "      <td>[\"There are only a few people left who value f...</td>\n",
       "      <td>[0.31287914514541626, -0.15600241720676422, -0...</td>\n",
       "      <td>[0.0, 0.0, 0.0, 0.0, 0.0, 0.0, 0.0, 0.0, 0.0, ...</td>\n",
       "      <td>[0.27884048223495483, -0.3008716404438019, -0....</td>\n",
       "    </tr>\n",
       "    <tr>\n",
       "      <th>4</th>\n",
       "      <td>6/13/2021 13:25:49</td>\n",
       "      <td>6/13/2021 13:27:28</td>\n",
       "      <td>213.127.82.232</td>\n",
       "      <td>1</td>\n",
       "      <td>6</td>\n",
       "      <td>UgwWKCWtSJdFvjGHvTp4AaABAg.8kUC5dGrQ2H8kUDRihE2f3</td>\n",
       "      <td>1206</td>\n",
       "      <td>0</td>\n",
       "      <td>0</td>\n",
       "      <td>1</td>\n",
       "      <td>...</td>\n",
       "      <td>{'non_irony', 'irony'}</td>\n",
       "      <td>{'NOT-HATE'}</td>\n",
       "      <td>YTgen</td>\n",
       "      <td>[\"Nobody wants to hug him\"]</td>\n",
       "      <td>[\"Nobody else will hug him.\"]</td>\n",
       "      <td>[0.49281346797943115, -0.11275702714920044, -0...</td>\n",
       "      <td>[\"No one will hug him\"]</td>\n",
       "      <td>[0.5331375598907471, -0.04385572671890259, -0....</td>\n",
       "      <td>[0.0, 0.0, 0.0, 0.0, 0.0, 0.0, 0.0, 0.0, 0.0, ...</td>\n",
       "      <td>[0.5210463404655457, 0.03200243413448334, -0.3...</td>\n",
       "    </tr>\n",
       "  </tbody>\n",
       "</table>\n",
       "<p>5 rows × 100 columns</p>\n",
       "</div>"
      ],
      "text/plain": [
       "             StartDate         RecordedDate        IPAddress  Finished  Coder  \\\n",
       "0   5/30/2021 13:03:17   5/30/2021 13:04:17     62.194.51.29         1      6   \n",
       "1  10/11/2021 10:34:05  10/11/2021 10:36:46  213.127.109.191         1      6   \n",
       "2    9/9/2021 18:49:48    9/9/2021 18:51:32    213.127.110.0         1      6   \n",
       "3    6/6/2021 16:12:46    6/6/2021 16:16:16   213.127.76.145         1      6   \n",
       "4   6/13/2021 13:25:49   6/13/2021 13:27:28   213.127.82.232         1      6   \n",
       "\n",
       "                                                  ID  Mark_ID  Genre  \\\n",
       "0  UgyPHwv8G0cDE6-wEgl4AaABAg.8_0ZjJKSJty8_0kXGkAd2U      119      0   \n",
       "1  Ugx2WXq9UdV8mPPjejJ4AaABAg.8yHCKV0Boe58yYRxEQEF45      282      1   \n",
       "2                                1110578710648890000      372      2   \n",
       "3  UgwUPFScjJ0MCeaP2F54AaABAg.8lvp3fc9Euf8lvvgsUgEgV      769      0   \n",
       "4  UgwWKCWtSJdFvjGHvTp4AaABAg.8kUC5dGrQ2H8kUDRihE2f3     1206      0   \n",
       "\n",
       "   topiccode  Platform  ...                   irony          hate  \\\n",
       "0          0         1  ...  {'non_irony', 'irony'}  {'NOT-HATE'}   \n",
       "1          2         1  ...           {'non_irony'}  {'NOT-HATE'}   \n",
       "2          4         2  ...           {'non_irony'}  {'NOT-HATE'}   \n",
       "3          0         1  ...               {'irony'}  {'NOT-HATE'}   \n",
       "4          0         1  ...  {'non_irony', 'irony'}  {'NOT-HATE'}   \n",
       "\n",
       "   topiccodeSTR                                         claim_run1  \\\n",
       "0         YTgen                                                 []   \n",
       "1       YT_Econ  [\"Minerals have rights\", \"The post is a viciou...   \n",
       "2       Twitgen  [\"Trump may have been compromised\", \"The exten...   \n",
       "3         YTgen  [\"There are only a few people left who value c...   \n",
       "4         YTgen                        [\"Nobody wants to hug him\"]   \n",
       "\n",
       "                                        claim_optdef  \\\n",
       "0                                                 []   \n",
       "1  [\"Minerals have rights too\", \"A box of rocks w...   \n",
       "2  [\"There is a question about whether Trump was ...   \n",
       "3  [\"The death of free and civil dialogue is evid...   \n",
       "4                      [\"Nobody else will hug him.\"]   \n",
       "\n",
       "                            claim_optdef_embed_MXBAI  \\\n",
       "0  [0.3085225224494934, 0.0025453902781009674, -0...   \n",
       "1  [0.3428829610347748, 0.03502892702817917, -0.5...   \n",
       "2  [0.5012139081954956, -0.1079118549823761, -0.6...   \n",
       "3  [0.21832342445850372, -0.13364076614379883, -0...   \n",
       "4  [0.49281346797943115, -0.11275702714920044, -0...   \n",
       "\n",
       "                                        claim_optlow  \\\n",
       "0                                                 []   \n",
       "1                      [\"Minerals have rights too.\"]   \n",
       "2  [\"The question has always been if Trump was co...   \n",
       "3  [\"There are only a few people left who value f...   \n",
       "4                            [\"No one will hug him\"]   \n",
       "\n",
       "                                  claim_optlow_MXBAI  \\\n",
       "0  [0.3085225224494934, 0.0025453902781009674, -0...   \n",
       "1  [0.34888750314712524, -0.01314709335565567, -0...   \n",
       "2  [0.4851573407649994, -0.06400042772293091, -0....   \n",
       "3  [0.31287914514541626, -0.15600241720676422, -0...   \n",
       "4  [0.5331375598907471, -0.04385572671890259, -0....   \n",
       "\n",
       "                                    tfidf_embed_post  \\\n",
       "0  [0.0, 0.0, 0.0, 0.0, 0.0, 0.0, 0.0, 0.0, 0.0, ...   \n",
       "1  [0.0, 0.0, 0.0, 0.0, 0.0, 0.0, 0.0, 0.0, 0.0, ...   \n",
       "2  [0.0, 0.0, 0.0, 0.0, 0.0, 0.0, 0.0, 0.0, 0.0, ...   \n",
       "3  [0.0, 0.0, 0.0, 0.0, 0.0, 0.0, 0.0, 0.0, 0.0, ...   \n",
       "4  [0.0, 0.0, 0.0, 0.0, 0.0, 0.0, 0.0, 0.0, 0.0, ...   \n",
       "\n",
       "                                    embed_MXBAI_post  \n",
       "0  [0.40566757321357727, -0.032418690621852875, -...  \n",
       "1  [0.49942252039909363, -0.22240903973579407, -0...  \n",
       "2  [0.6132397651672363, -0.3024018704891205, -0.6...  \n",
       "3  [0.27884048223495483, -0.3008716404438019, -0....  \n",
       "4  [0.5210463404655457, 0.03200243413448334, -0.3...  \n",
       "\n",
       "[5 rows x 100 columns]"
      ]
     },
     "execution_count": 7,
     "metadata": {},
     "output_type": "execute_result"
    }
   ],
   "source": [
    "dataset_claim_embeds.head()"
   ]
  },
  {
   "cell_type": "code",
   "execution_count": 89,
   "metadata": {},
   "outputs": [
    {
     "data": {
      "text/html": [
       "<div>\n",
       "<style scoped>\n",
       "    .dataframe tbody tr th:only-of-type {\n",
       "        vertical-align: middle;\n",
       "    }\n",
       "\n",
       "    .dataframe tbody tr th {\n",
       "        vertical-align: top;\n",
       "    }\n",
       "\n",
       "    .dataframe thead th {\n",
       "        text-align: right;\n",
       "    }\n",
       "</style>\n",
       "<table border=\"1\" class=\"dataframe\">\n",
       "  <thead>\n",
       "    <tr style=\"text-align: right;\">\n",
       "      <th></th>\n",
       "      <th>StartDate</th>\n",
       "      <th>RecordedDate</th>\n",
       "      <th>IPAddress</th>\n",
       "      <th>Finished</th>\n",
       "      <th>Coder</th>\n",
       "      <th>ID</th>\n",
       "      <th>Mark_ID</th>\n",
       "      <th>Genre</th>\n",
       "      <th>topiccode</th>\n",
       "      <th>Platform</th>\n",
       "      <th>...</th>\n",
       "      <th>irony</th>\n",
       "      <th>hate</th>\n",
       "      <th>topiccodeSTR</th>\n",
       "      <th>claim_run1</th>\n",
       "      <th>claim_optdef</th>\n",
       "      <th>claim_optdef_embed_MXBAI</th>\n",
       "      <th>claim_optlow</th>\n",
       "      <th>claim_optlow_MXBAI</th>\n",
       "      <th>tfidf_embed_post</th>\n",
       "      <th>embed_MXBAI_post</th>\n",
       "    </tr>\n",
       "  </thead>\n",
       "  <tbody>\n",
       "    <tr>\n",
       "      <th>0</th>\n",
       "      <td>5/30/2021 13:03:17</td>\n",
       "      <td>5/30/2021 13:04:17</td>\n",
       "      <td>62.194.51.29</td>\n",
       "      <td>1</td>\n",
       "      <td>6</td>\n",
       "      <td>UgyPHwv8G0cDE6-wEgl4AaABAg.8_0ZjJKSJty8_0kXGkAd2U</td>\n",
       "      <td>119</td>\n",
       "      <td>0</td>\n",
       "      <td>0</td>\n",
       "      <td>1</td>\n",
       "      <td>...</td>\n",
       "      <td>{'non_irony', 'irony'}</td>\n",
       "      <td>{'NOT-HATE'}</td>\n",
       "      <td>YTgen</td>\n",
       "      <td>[]</td>\n",
       "      <td>[]</td>\n",
       "      <td>[0.3085225224494934, 0.0025453902781009674, -0...</td>\n",
       "      <td>[]</td>\n",
       "      <td>[0.3085225224494934, 0.0025453902781009674, -0...</td>\n",
       "      <td>[0.0, 0.0, 0.0, 0.0, 0.0, 0.0, 0.0, 0.0, 0.0, ...</td>\n",
       "      <td>[0.40566757321357727, -0.032418690621852875, -...</td>\n",
       "    </tr>\n",
       "    <tr>\n",
       "      <th>1</th>\n",
       "      <td>10/11/2021 10:34:05</td>\n",
       "      <td>10/11/2021 10:36:46</td>\n",
       "      <td>213.127.109.191</td>\n",
       "      <td>1</td>\n",
       "      <td>6</td>\n",
       "      <td>Ugx2WXq9UdV8mPPjejJ4AaABAg.8yHCKV0Boe58yYRxEQEF45</td>\n",
       "      <td>282</td>\n",
       "      <td>1</td>\n",
       "      <td>2</td>\n",
       "      <td>1</td>\n",
       "      <td>...</td>\n",
       "      <td>{'non_irony'}</td>\n",
       "      <td>{'NOT-HATE'}</td>\n",
       "      <td>YT_Econ</td>\n",
       "      <td>[\"Minerals have rights\", \"The post is a viciou...</td>\n",
       "      <td>[\"Minerals have rights too\", \"A box of rocks w...</td>\n",
       "      <td>[0.3428829610347748, 0.03502892702817917, -0.5...</td>\n",
       "      <td>[\"Minerals have rights too.\"]</td>\n",
       "      <td>[0.34888750314712524, -0.01314709335565567, -0...</td>\n",
       "      <td>[0.0, 0.0, 0.0, 0.0, 0.0, 0.0, 0.0, 0.0, 0.0, ...</td>\n",
       "      <td>[0.49942252039909363, -0.22240903973579407, -0...</td>\n",
       "    </tr>\n",
       "    <tr>\n",
       "      <th>2</th>\n",
       "      <td>9/9/2021 18:49:48</td>\n",
       "      <td>9/9/2021 18:51:32</td>\n",
       "      <td>213.127.110.0</td>\n",
       "      <td>1</td>\n",
       "      <td>6</td>\n",
       "      <td>1110578710648890000</td>\n",
       "      <td>372</td>\n",
       "      <td>2</td>\n",
       "      <td>4</td>\n",
       "      <td>2</td>\n",
       "      <td>...</td>\n",
       "      <td>{'non_irony'}</td>\n",
       "      <td>{'NOT-HATE'}</td>\n",
       "      <td>Twitgen</td>\n",
       "      <td>[\"Trump may have been compromised\", \"The exten...</td>\n",
       "      <td>[\"There is a question about whether Trump was ...</td>\n",
       "      <td>[0.5012139081954956, -0.1079118549823761, -0.6...</td>\n",
       "      <td>[\"The question has always been if Trump was co...</td>\n",
       "      <td>[0.4851573407649994, -0.06400042772293091, -0....</td>\n",
       "      <td>[0.0, 0.0, 0.0, 0.0, 0.0, 0.0, 0.0, 0.0, 0.0, ...</td>\n",
       "      <td>[0.6132397651672363, -0.3024018704891205, -0.6...</td>\n",
       "    </tr>\n",
       "    <tr>\n",
       "      <th>3</th>\n",
       "      <td>6/6/2021 16:12:46</td>\n",
       "      <td>6/6/2021 16:16:16</td>\n",
       "      <td>213.127.76.145</td>\n",
       "      <td>1</td>\n",
       "      <td>6</td>\n",
       "      <td>UgwUPFScjJ0MCeaP2F54AaABAg.8lvp3fc9Euf8lvvgsUgEgV</td>\n",
       "      <td>769</td>\n",
       "      <td>0</td>\n",
       "      <td>0</td>\n",
       "      <td>1</td>\n",
       "      <td>...</td>\n",
       "      <td>{'irony'}</td>\n",
       "      <td>{'NOT-HATE'}</td>\n",
       "      <td>YTgen</td>\n",
       "      <td>[\"There are only a few people left who value c...</td>\n",
       "      <td>[\"The death of free and civil dialogue is evid...</td>\n",
       "      <td>[0.21832342445850372, -0.13364076614379883, -0...</td>\n",
       "      <td>[\"There are only a few people left who value f...</td>\n",
       "      <td>[0.31287914514541626, -0.15600241720676422, -0...</td>\n",
       "      <td>[0.0, 0.0, 0.0, 0.0, 0.0, 0.0, 0.0, 0.0, 0.0, ...</td>\n",
       "      <td>[0.27884048223495483, -0.3008716404438019, -0....</td>\n",
       "    </tr>\n",
       "    <tr>\n",
       "      <th>4</th>\n",
       "      <td>6/13/2021 13:25:49</td>\n",
       "      <td>6/13/2021 13:27:28</td>\n",
       "      <td>213.127.82.232</td>\n",
       "      <td>1</td>\n",
       "      <td>6</td>\n",
       "      <td>UgwWKCWtSJdFvjGHvTp4AaABAg.8kUC5dGrQ2H8kUDRihE2f3</td>\n",
       "      <td>1206</td>\n",
       "      <td>0</td>\n",
       "      <td>0</td>\n",
       "      <td>1</td>\n",
       "      <td>...</td>\n",
       "      <td>{'non_irony', 'irony'}</td>\n",
       "      <td>{'NOT-HATE'}</td>\n",
       "      <td>YTgen</td>\n",
       "      <td>[\"Nobody wants to hug him\"]</td>\n",
       "      <td>[\"Nobody else will hug him.\"]</td>\n",
       "      <td>[0.49281346797943115, -0.11275702714920044, -0...</td>\n",
       "      <td>[\"No one will hug him\"]</td>\n",
       "      <td>[0.5331375598907471, -0.04385572671890259, -0....</td>\n",
       "      <td>[0.0, 0.0, 0.0, 0.0, 0.0, 0.0, 0.0, 0.0, 0.0, ...</td>\n",
       "      <td>[0.5210463404655457, 0.03200243413448334, -0.3...</td>\n",
       "    </tr>\n",
       "  </tbody>\n",
       "</table>\n",
       "<p>5 rows × 100 columns</p>\n",
       "</div>"
      ],
      "text/plain": [
       "             StartDate         RecordedDate        IPAddress  Finished  Coder  \\\n",
       "0   5/30/2021 13:03:17   5/30/2021 13:04:17     62.194.51.29         1      6   \n",
       "1  10/11/2021 10:34:05  10/11/2021 10:36:46  213.127.109.191         1      6   \n",
       "2    9/9/2021 18:49:48    9/9/2021 18:51:32    213.127.110.0         1      6   \n",
       "3    6/6/2021 16:12:46    6/6/2021 16:16:16   213.127.76.145         1      6   \n",
       "4   6/13/2021 13:25:49   6/13/2021 13:27:28   213.127.82.232         1      6   \n",
       "\n",
       "                                                  ID  Mark_ID  Genre  \\\n",
       "0  UgyPHwv8G0cDE6-wEgl4AaABAg.8_0ZjJKSJty8_0kXGkAd2U      119      0   \n",
       "1  Ugx2WXq9UdV8mPPjejJ4AaABAg.8yHCKV0Boe58yYRxEQEF45      282      1   \n",
       "2                                1110578710648890000      372      2   \n",
       "3  UgwUPFScjJ0MCeaP2F54AaABAg.8lvp3fc9Euf8lvvgsUgEgV      769      0   \n",
       "4  UgwWKCWtSJdFvjGHvTp4AaABAg.8kUC5dGrQ2H8kUDRihE2f3     1206      0   \n",
       "\n",
       "   topiccode  Platform  ...                   irony          hate  \\\n",
       "0          0         1  ...  {'non_irony', 'irony'}  {'NOT-HATE'}   \n",
       "1          2         1  ...           {'non_irony'}  {'NOT-HATE'}   \n",
       "2          4         2  ...           {'non_irony'}  {'NOT-HATE'}   \n",
       "3          0         1  ...               {'irony'}  {'NOT-HATE'}   \n",
       "4          0         1  ...  {'non_irony', 'irony'}  {'NOT-HATE'}   \n",
       "\n",
       "   topiccodeSTR                                         claim_run1  \\\n",
       "0         YTgen                                                 []   \n",
       "1       YT_Econ  [\"Minerals have rights\", \"The post is a viciou...   \n",
       "2       Twitgen  [\"Trump may have been compromised\", \"The exten...   \n",
       "3         YTgen  [\"There are only a few people left who value c...   \n",
       "4         YTgen                        [\"Nobody wants to hug him\"]   \n",
       "\n",
       "                                        claim_optdef  \\\n",
       "0                                                 []   \n",
       "1  [\"Minerals have rights too\", \"A box of rocks w...   \n",
       "2  [\"There is a question about whether Trump was ...   \n",
       "3  [\"The death of free and civil dialogue is evid...   \n",
       "4                      [\"Nobody else will hug him.\"]   \n",
       "\n",
       "                            claim_optdef_embed_MXBAI  \\\n",
       "0  [0.3085225224494934, 0.0025453902781009674, -0...   \n",
       "1  [0.3428829610347748, 0.03502892702817917, -0.5...   \n",
       "2  [0.5012139081954956, -0.1079118549823761, -0.6...   \n",
       "3  [0.21832342445850372, -0.13364076614379883, -0...   \n",
       "4  [0.49281346797943115, -0.11275702714920044, -0...   \n",
       "\n",
       "                                        claim_optlow  \\\n",
       "0                                                 []   \n",
       "1                      [\"Minerals have rights too.\"]   \n",
       "2  [\"The question has always been if Trump was co...   \n",
       "3  [\"There are only a few people left who value f...   \n",
       "4                            [\"No one will hug him\"]   \n",
       "\n",
       "                                  claim_optlow_MXBAI  \\\n",
       "0  [0.3085225224494934, 0.0025453902781009674, -0...   \n",
       "1  [0.34888750314712524, -0.01314709335565567, -0...   \n",
       "2  [0.4851573407649994, -0.06400042772293091, -0....   \n",
       "3  [0.31287914514541626, -0.15600241720676422, -0...   \n",
       "4  [0.5331375598907471, -0.04385572671890259, -0....   \n",
       "\n",
       "                                    tfidf_embed_post  \\\n",
       "0  [0.0, 0.0, 0.0, 0.0, 0.0, 0.0, 0.0, 0.0, 0.0, ...   \n",
       "1  [0.0, 0.0, 0.0, 0.0, 0.0, 0.0, 0.0, 0.0, 0.0, ...   \n",
       "2  [0.0, 0.0, 0.0, 0.0, 0.0, 0.0, 0.0, 0.0, 0.0, ...   \n",
       "3  [0.0, 0.0, 0.0, 0.0, 0.0, 0.0, 0.0, 0.0, 0.0, ...   \n",
       "4  [0.0, 0.0, 0.0, 0.0, 0.0, 0.0, 0.0, 0.0, 0.0, ...   \n",
       "\n",
       "                                    embed_MXBAI_post  \n",
       "0  [0.40566757321357727, -0.032418690621852875, -...  \n",
       "1  [0.49942252039909363, -0.22240903973579407, -0...  \n",
       "2  [0.6132397651672363, -0.3024018704891205, -0.6...  \n",
       "3  [0.27884048223495483, -0.3008716404438019, -0....  \n",
       "4  [0.5210463404655457, 0.03200243413448334, -0.3...  \n",
       "\n",
       "[5 rows x 100 columns]"
      ]
     },
     "execution_count": 89,
     "metadata": {},
     "output_type": "execute_result"
    }
   ],
   "source": [
    "#dataset_claim_embeds = dataset_claim_embeds.join(claim_optlow_MXBAI)\n",
    "dataset_claim_embeds.to_parquet(f'{CFG.report_dir}/pubsphere.claim_embed.parquet')\n",
    "dataset_claim_embeds.head()"
   ]
  },
  {
   "cell_type": "code",
   "execution_count": 90,
   "metadata": {},
   "outputs": [
    {
     "name": "stderr",
     "output_type": "stream",
     "text": [
      "  0%|          | 0/2 [00:00<?, ?it/s]\n",
      "  0%|          | 0/2 [00:00<?, ?it/s]\u001b[A\n",
      " 50%|█████     | 1/2 [01:05<01:05, 65.16s/it]\u001b[A"
     ]
    },
    {
     "name": "stdout",
     "output_type": "stream",
     "text": [
      "1:1:6.125518614334823\n"
     ]
    },
    {
     "name": "stderr",
     "output_type": "stream",
     "text": [
      "\n",
      "100%|██████████| 2/2 [01:20<00:00, 40.47s/it]\u001b[A\n",
      " 50%|█████     | 1/2 [01:20<01:20, 80.95s/it]"
     ]
    },
    {
     "name": "stdout",
     "output_type": "stream",
     "text": [
      "1:2:5.835719833714432\n"
     ]
    },
    {
     "name": "stderr",
     "output_type": "stream",
     "text": [
      "\n",
      "  0%|          | 0/2 [00:00<?, ?it/s]\u001b[A\n",
      "100%|██████████| 2/2 [00:03<00:00,  1.84s/it]\u001b[A\n",
      "100%|██████████| 2/2 [01:24<00:00, 42.31s/it]"
     ]
    },
    {
     "name": "stdout",
     "output_type": "stream",
     "text": [
      "2:2:5.4614455199460945\n"
     ]
    },
    {
     "name": "stderr",
     "output_type": "stream",
     "text": [
      "\n"
     ]
    }
   ],
   "source": [
    "grouped_data = dataset_claim_embeds.groupby(\"Platform\")\n",
    "dist = torch.nn.PairwiseDistance()\n",
    "resultstopic: typing.Dict[typing.Tuple[str, str], float] = {}\n",
    "for model_1, c_1 in tqdm.tqdm(grouped_data['claim_optlow_MXBAI'], total=grouped_data.ngroups):\n",
    "    for model_2, c_2 in tqdm.tqdm(grouped_data['claim_optdef_embed_MXBAI'], total=grouped_data.ngroups):\n",
    "\n",
    "        if (\n",
    "            (model_1, model_2) in resultstopic.keys() or \n",
    "            (model_2, model_1) in resultstopic.keys()\n",
    "        ):\n",
    "            continue\n",
    "\n",
    "        res = sum([\n",
    "            sum(dist(\n",
    "                torch.tensor(np.array(v_1)), \n",
    "                torch.tensor(np.array(c_2.tolist()))\n",
    "                )) / len(c_2)\n",
    "            for v_1 in c_1\n",
    "        ]) / len(c_1)\n",
    "\n",
    "        resultstopic[(model_1, model_2)] = res\n",
    "\n",
    "        print(f'{model_1}:{model_2}:{res.item()}')"
   ]
  },
  {
   "cell_type": "code",
   "execution_count": 91,
   "metadata": {},
   "outputs": [
    {
     "name": "stderr",
     "output_type": "stream",
     "text": [
      "  0%|          | 0/5 [00:00<?, ?it/s]\n",
      "  0%|          | 0/5 [00:00<?, ?it/s]\u001b[A\n",
      " 20%|██        | 1/5 [00:03<00:12,  3.00s/it]\u001b[A"
     ]
    },
    {
     "name": "stdout",
     "output_type": "stream",
     "text": [
      "0:0:5.831282414579743\n"
     ]
    },
    {
     "name": "stderr",
     "output_type": "stream",
     "text": [
      "\n",
      " 40%|████      | 2/5 [00:06<00:10,  3.57s/it]\u001b[A"
     ]
    },
    {
     "name": "stdout",
     "output_type": "stream",
     "text": [
      "0:1:5.920362972968086\n"
     ]
    },
    {
     "name": "stderr",
     "output_type": "stream",
     "text": [
      "\n",
      " 60%|██████    | 3/5 [00:10<00:07,  3.77s/it]\u001b[A"
     ]
    },
    {
     "name": "stdout",
     "output_type": "stream",
     "text": [
      "0:2:6.015851318005866\n"
     ]
    },
    {
     "name": "stderr",
     "output_type": "stream",
     "text": [
      "\n",
      " 80%|████████  | 4/5 [00:14<00:03,  3.83s/it]\u001b[A"
     ]
    },
    {
     "name": "stdout",
     "output_type": "stream",
     "text": [
      "0:3:6.222147868105969\n"
     ]
    },
    {
     "name": "stderr",
     "output_type": "stream",
     "text": [
      "\n",
      "100%|██████████| 5/5 [00:18<00:00,  3.65s/it]\u001b[A\n",
      " 20%|██        | 1/5 [00:18<01:13, 18.26s/it]"
     ]
    },
    {
     "name": "stdout",
     "output_type": "stream",
     "text": [
      "0:4:5.659812135038041\n"
     ]
    },
    {
     "name": "stderr",
     "output_type": "stream",
     "text": [
      "\n",
      "  0%|          | 0/5 [00:00<?, ?it/s]\u001b[A\n",
      " 40%|████      | 2/5 [00:04<00:07,  2.44s/it]\u001b[A"
     ]
    },
    {
     "name": "stdout",
     "output_type": "stream",
     "text": [
      "1:1:5.8479445110207\n"
     ]
    },
    {
     "name": "stderr",
     "output_type": "stream",
     "text": [
      "\n",
      " 60%|██████    | 3/5 [00:09<00:06,  3.34s/it]\u001b[A"
     ]
    },
    {
     "name": "stdout",
     "output_type": "stream",
     "text": [
      "1:2:6.095491385661948\n"
     ]
    },
    {
     "name": "stderr",
     "output_type": "stream",
     "text": [
      "\n",
      " 80%|████████  | 4/5 [00:14<00:04,  4.03s/it]\u001b[A"
     ]
    },
    {
     "name": "stdout",
     "output_type": "stream",
     "text": [
      "1:3:6.264403699945341\n"
     ]
    },
    {
     "name": "stderr",
     "output_type": "stream",
     "text": [
      "\n",
      "100%|██████████| 5/5 [00:18<00:00,  3.80s/it]\u001b[A\n",
      " 40%|████      | 2/5 [00:37<00:56, 18.70s/it]"
     ]
    },
    {
     "name": "stdout",
     "output_type": "stream",
     "text": [
      "1:4:5.773747895813895\n"
     ]
    },
    {
     "name": "stderr",
     "output_type": "stream",
     "text": [
      "\n",
      "  0%|          | 0/5 [00:00<?, ?it/s]\u001b[A\n",
      " 60%|██████    | 3/5 [00:04<00:03,  1.55s/it]\u001b[A"
     ]
    },
    {
     "name": "stdout",
     "output_type": "stream",
     "text": [
      "2:2:6.129187475207363\n"
     ]
    },
    {
     "name": "stderr",
     "output_type": "stream",
     "text": [
      "\n",
      " 80%|████████  | 4/5 [00:09<00:02,  2.51s/it]\u001b[A"
     ]
    },
    {
     "name": "stdout",
     "output_type": "stream",
     "text": [
      "2:3:6.3361580320710065\n"
     ]
    },
    {
     "name": "stderr",
     "output_type": "stream",
     "text": [
      "\n",
      "100%|██████████| 5/5 [00:13<00:00,  2.62s/it]\u001b[A\n",
      " 60%|██████    | 3/5 [00:50<00:32, 16.14s/it]"
     ]
    },
    {
     "name": "stdout",
     "output_type": "stream",
     "text": [
      "2:4:5.815060098598764\n"
     ]
    },
    {
     "name": "stderr",
     "output_type": "stream",
     "text": [
      "\n",
      "  0%|          | 0/5 [00:00<?, ?it/s]\u001b[A\n",
      " 80%|████████  | 4/5 [00:04<00:01,  1.22s/it]\u001b[A"
     ]
    },
    {
     "name": "stdout",
     "output_type": "stream",
     "text": [
      "3:3:6.409761093320357\n"
     ]
    },
    {
     "name": "stderr",
     "output_type": "stream",
     "text": [
      "\n",
      "100%|██████████| 5/5 [00:08<00:00,  1.79s/it]\u001b[A\n",
      " 80%|████████  | 4/5 [00:59<00:13, 13.30s/it]"
     ]
    },
    {
     "name": "stdout",
     "output_type": "stream",
     "text": [
      "3:4:6.062728173199805\n"
     ]
    },
    {
     "name": "stderr",
     "output_type": "stream",
     "text": [
      "\n",
      "  0%|          | 0/5 [00:00<?, ?it/s]\u001b[A\n",
      "100%|██████████| 5/5 [00:03<00:00,  1.39it/s]\u001b[A\n",
      "100%|██████████| 5/5 [01:02<00:00, 12.58s/it]"
     ]
    },
    {
     "name": "stdout",
     "output_type": "stream",
     "text": [
      "4:4:5.4614455199460945\n"
     ]
    },
    {
     "name": "stderr",
     "output_type": "stream",
     "text": [
      "\n"
     ]
    }
   ],
   "source": [
    "grouped_data = dataset_claim_embeds.groupby(\"topiccode\")\n",
    "dist = torch.nn.PairwiseDistance()\n",
    "resultstopic: typing.Dict[typing.Tuple[str, str], float] = {}\n",
    "for model_1, c_1 in tqdm.tqdm(grouped_data['claim_optlow_MXBAI'], total=grouped_data.ngroups):\n",
    "    for model_2, c_2 in tqdm.tqdm(grouped_data['claim_optdef_embed_MXBAI'], total=grouped_data.ngroups):\n",
    "\n",
    "        if (\n",
    "            (model_1, model_2) in resultstopic.keys() or \n",
    "            (model_2, model_1) in resultstopic.keys()\n",
    "        ):\n",
    "            continue\n",
    "\n",
    "        res = sum([\n",
    "            sum(dist(\n",
    "                torch.tensor(np.array(v_1)), \n",
    "                torch.tensor(np.array(c_2.tolist()))\n",
    "                )) / len(c_2)\n",
    "            for v_1 in c_1\n",
    "        ]) / len(c_1)\n",
    "\n",
    "        resultstopic[(model_1, model_2)] = res\n",
    "\n",
    "        print(f'{model_1}:{model_2}:{res.item()}')"
   ]
  },
  {
   "cell_type": "code",
   "execution_count": 92,
   "metadata": {},
   "outputs": [
    {
     "name": "stderr",
     "output_type": "stream",
     "text": [
      "  0%|          | 0/3 [00:00<?, ?it/s]\n",
      "  0%|          | 0/3 [00:00<?, ?it/s]\u001b[A\n",
      " 33%|███▎      | 1/3 [00:09<00:19,  9.89s/it]\u001b[A"
     ]
    },
    {
     "name": "stdout",
     "output_type": "stream",
     "text": [
      "0:0:6.139832128175419\n"
     ]
    },
    {
     "name": "stderr",
     "output_type": "stream",
     "text": [
      "\n",
      " 67%|██████▋   | 2/3 [00:20<00:10, 10.56s/it]\u001b[A"
     ]
    },
    {
     "name": "stdout",
     "output_type": "stream",
     "text": [
      "0:1:6.050286088259377\n"
     ]
    },
    {
     "name": "stderr",
     "output_type": "stream",
     "text": [
      "\n",
      "100%|██████████| 3/3 [00:32<00:00, 10.77s/it]\u001b[A\n",
      " 33%|███▎      | 1/3 [00:32<01:04, 32.31s/it]"
     ]
    },
    {
     "name": "stdout",
     "output_type": "stream",
     "text": [
      "0:2:6.079192128171097\n"
     ]
    },
    {
     "name": "stderr",
     "output_type": "stream",
     "text": [
      "\n",
      "  0%|          | 0/3 [00:00<?, ?it/s]\u001b[A\n",
      " 67%|██████▋   | 2/3 [00:12<00:06,  6.18s/it]\u001b[A"
     ]
    },
    {
     "name": "stdout",
     "output_type": "stream",
     "text": [
      "1:1:5.901646628177281\n"
     ]
    },
    {
     "name": "stderr",
     "output_type": "stream",
     "text": [
      "\n",
      "100%|██████████| 3/3 [00:24<00:00,  8.15s/it]\u001b[A\n",
      " 67%|██████▋   | 2/3 [00:56<00:27, 27.69s/it]"
     ]
    },
    {
     "name": "stdout",
     "output_type": "stream",
     "text": [
      "1:2:5.999880257555608\n"
     ]
    },
    {
     "name": "stderr",
     "output_type": "stream",
     "text": [
      "\n",
      "  0%|          | 0/3 [00:00<?, ?it/s]\u001b[A\n",
      "100%|██████████| 3/3 [00:11<00:00,  3.92s/it]\u001b[A\n",
      "100%|██████████| 3/3 [01:08<00:00, 22.84s/it]"
     ]
    },
    {
     "name": "stdout",
     "output_type": "stream",
     "text": [
      "2:2:5.934913205862561\n"
     ]
    },
    {
     "name": "stderr",
     "output_type": "stream",
     "text": [
      "\n"
     ]
    }
   ],
   "source": [
    "grouped_data = dataset_claim_embeds.groupby(\"Genre\")\n",
    "dist = torch.nn.PairwiseDistance()\n",
    "resultstopic: typing.Dict[typing.Tuple[str, str], float] = {}\n",
    "for model_1, c_1 in tqdm.tqdm(grouped_data['claim_optlow_MXBAI'], total=grouped_data.ngroups):\n",
    "    for model_2, c_2 in tqdm.tqdm(grouped_data['claim_optdef_embed_MXBAI'], total=grouped_data.ngroups):\n",
    "\n",
    "        if (\n",
    "            (model_1, model_2) in resultstopic.keys() or \n",
    "            (model_2, model_1) in resultstopic.keys()\n",
    "        ):\n",
    "            continue\n",
    "\n",
    "        res = sum([\n",
    "            sum(dist(\n",
    "                torch.tensor(np.array(v_1)), \n",
    "                torch.tensor(np.array(c_2.tolist()))\n",
    "                )) / len(c_2)\n",
    "            for v_1 in c_1\n",
    "        ]) / len(c_1)\n",
    "\n",
    "        resultstopic[(model_1, model_2)] = res\n",
    "\n",
    "        print(f'{model_1}:{model_2}:{res.item()}')"
   ]
  },
  {
   "cell_type": "code",
   "execution_count": 94,
   "metadata": {},
   "outputs": [
    {
     "name": "stderr",
     "output_type": "stream",
     "text": [
      "  0%|          | 0/5 [00:00<?, ?it/s]\n",
      "  0%|          | 0/5 [00:00<?, ?it/s]\u001b[A\n",
      " 20%|██        | 1/5 [00:03<00:12,  3.03s/it]\u001b[A"
     ]
    },
    {
     "name": "stdout",
     "output_type": "stream",
     "text": [
      "0:0:7.761249318601641\n"
     ]
    },
    {
     "name": "stderr",
     "output_type": "stream",
     "text": [
      "\n",
      " 40%|████      | 2/5 [00:06<00:10,  3.55s/it]\u001b[A"
     ]
    },
    {
     "name": "stdout",
     "output_type": "stream",
     "text": [
      "0:1:8.075305272859095\n"
     ]
    },
    {
     "name": "stderr",
     "output_type": "stream",
     "text": [
      "\n",
      " 60%|██████    | 3/5 [00:10<00:07,  3.75s/it]\u001b[A"
     ]
    },
    {
     "name": "stdout",
     "output_type": "stream",
     "text": [
      "0:2:8.07396665341206\n"
     ]
    },
    {
     "name": "stderr",
     "output_type": "stream",
     "text": [
      "\n",
      " 80%|████████  | 4/5 [00:14<00:03,  3.81s/it]\u001b[A"
     ]
    },
    {
     "name": "stdout",
     "output_type": "stream",
     "text": [
      "0:3:8.237471193061861\n"
     ]
    },
    {
     "name": "stderr",
     "output_type": "stream",
     "text": [
      "\n",
      "100%|██████████| 5/5 [00:18<00:00,  3.64s/it]\u001b[A\n",
      " 20%|██        | 1/5 [00:18<01:12, 18.21s/it]"
     ]
    },
    {
     "name": "stdout",
     "output_type": "stream",
     "text": [
      "0:4:7.179062944907428\n"
     ]
    },
    {
     "name": "stderr",
     "output_type": "stream",
     "text": [
      "\n",
      "  0%|          | 0/5 [00:00<?, ?it/s]\u001b[A\n",
      " 40%|████      | 2/5 [00:04<00:07,  2.47s/it]\u001b[A"
     ]
    },
    {
     "name": "stdout",
     "output_type": "stream",
     "text": [
      "1:1:8.163760056540308\n"
     ]
    },
    {
     "name": "stderr",
     "output_type": "stream",
     "text": [
      "\n",
      " 60%|██████    | 3/5 [00:09<00:06,  3.29s/it]\u001b[A"
     ]
    },
    {
     "name": "stdout",
     "output_type": "stream",
     "text": [
      "1:2:8.329572974140778\n"
     ]
    },
    {
     "name": "stderr",
     "output_type": "stream",
     "text": [
      "\n",
      " 80%|████████  | 4/5 [00:13<00:03,  3.77s/it]\u001b[A"
     ]
    },
    {
     "name": "stdout",
     "output_type": "stream",
     "text": [
      "1:3:8.455668083965353\n"
     ]
    },
    {
     "name": "stderr",
     "output_type": "stream",
     "text": [
      "\n",
      "100%|██████████| 5/5 [00:18<00:00,  3.61s/it]\u001b[A\n",
      " 40%|████      | 2/5 [00:36<00:54, 18.11s/it]"
     ]
    },
    {
     "name": "stdout",
     "output_type": "stream",
     "text": [
      "1:4:7.544355677259935\n"
     ]
    },
    {
     "name": "stderr",
     "output_type": "stream",
     "text": [
      "\n",
      "  0%|          | 0/5 [00:00<?, ?it/s]\u001b[A\n",
      " 60%|██████    | 3/5 [00:04<00:02,  1.47s/it]\u001b[A"
     ]
    },
    {
     "name": "stdout",
     "output_type": "stream",
     "text": [
      "2:2:8.325426316232779\n"
     ]
    },
    {
     "name": "stderr",
     "output_type": "stream",
     "text": [
      "\n",
      " 80%|████████  | 4/5 [00:09<00:02,  2.48s/it]\u001b[A"
     ]
    },
    {
     "name": "stdout",
     "output_type": "stream",
     "text": [
      "2:3:8.492055501452159\n"
     ]
    },
    {
     "name": "stderr",
     "output_type": "stream",
     "text": [
      "\n",
      "100%|██████████| 5/5 [00:13<00:00,  2.60s/it]\u001b[A\n",
      " 60%|██████    | 3/5 [00:49<00:31, 15.79s/it]"
     ]
    },
    {
     "name": "stdout",
     "output_type": "stream",
     "text": [
      "2:4:7.542171685709668\n"
     ]
    },
    {
     "name": "stderr",
     "output_type": "stream",
     "text": [
      "\n",
      "  0%|          | 0/5 [00:00<?, ?it/s]\u001b[A\n",
      " 80%|████████  | 4/5 [00:05<00:01,  1.37s/it]\u001b[A"
     ]
    },
    {
     "name": "stdout",
     "output_type": "stream",
     "text": [
      "3:3:8.510271797717213\n"
     ]
    },
    {
     "name": "stderr",
     "output_type": "stream",
     "text": [
      "\n",
      "100%|██████████| 5/5 [00:09<00:00,  1.96s/it]\u001b[A\n",
      " 80%|████████  | 4/5 [00:59<00:13, 13.42s/it]"
     ]
    },
    {
     "name": "stdout",
     "output_type": "stream",
     "text": [
      "3:4:7.7297440062986515\n"
     ]
    },
    {
     "name": "stderr",
     "output_type": "stream",
     "text": [
      "\n",
      "  0%|          | 0/5 [00:00<?, ?it/s]\u001b[A\n",
      "100%|██████████| 5/5 [00:03<00:00,  1.37it/s]\u001b[A\n",
      "100%|██████████| 5/5 [01:02<00:00, 12.54s/it]"
     ]
    },
    {
     "name": "stdout",
     "output_type": "stream",
     "text": [
      "4:4:6.060459538546106\n"
     ]
    },
    {
     "name": "stderr",
     "output_type": "stream",
     "text": [
      "\n"
     ]
    }
   ],
   "source": [
    "#need to calculate topiccode distances for embed_MXBAI_post\n",
    "grouped_data = dataset_claim_embeds.groupby(\"topiccode\")\n",
    "dist = torch.nn.PairwiseDistance()\n",
    "resultstopic: typing.Dict[typing.Tuple[str, str], float] = {}\n",
    "for model_1, c_1 in tqdm.tqdm(grouped_data['embed_MXBAI_post'], total=grouped_data.ngroups):\n",
    "    for model_2, c_2 in tqdm.tqdm(grouped_data['embed_MXBAI_post'], total=grouped_data.ngroups):\n",
    "\n",
    "        if (\n",
    "            (model_1, model_2) in resultstopic.keys() or \n",
    "            (model_2, model_1) in resultstopic.keys()\n",
    "        ):\n",
    "            continue\n",
    "\n",
    "        res = sum([\n",
    "            sum(dist(\n",
    "                torch.tensor(np.array(v_1)), \n",
    "                torch.tensor(np.array(c_2.tolist()))\n",
    "                )) / len(c_2)\n",
    "            for v_1 in c_1\n",
    "        ]) / len(c_1)\n",
    "\n",
    "        resultstopic[(model_1, model_2)] = res\n",
    "\n",
    "        print(f'{model_1}:{model_2}:{res.item()}')"
   ]
  },
  {
   "cell_type": "code",
   "execution_count": 96,
   "metadata": {},
   "outputs": [
    {
     "name": "stderr",
     "output_type": "stream",
     "text": [
      "  0%|          | 0/2 [00:00<?, ?it/s]\n",
      "  0%|          | 0/2 [00:00<?, ?it/s]\u001b[A\n",
      " 50%|█████     | 1/2 [01:05<01:05, 65.32s/it]\u001b[A"
     ]
    },
    {
     "name": "stdout",
     "output_type": "stream",
     "text": [
      "1:1:6.112787954076878\n"
     ]
    },
    {
     "name": "stderr",
     "output_type": "stream",
     "text": [
      "\n",
      "100%|██████████| 2/2 [01:21<00:00, 40.57s/it]\u001b[A\n",
      " 50%|█████     | 1/2 [01:21<01:21, 81.14s/it]"
     ]
    },
    {
     "name": "stdout",
     "output_type": "stream",
     "text": [
      "1:2:5.8210101945485855\n"
     ]
    },
    {
     "name": "stderr",
     "output_type": "stream",
     "text": [
      "\n",
      "  0%|          | 0/2 [00:00<?, ?it/s]\u001b[A\n",
      "100%|██████████| 2/2 [00:03<00:00,  1.99s/it]\u001b[A\n",
      "100%|██████████| 2/2 [01:25<00:00, 42.56s/it]"
     ]
    },
    {
     "name": "stdout",
     "output_type": "stream",
     "text": [
      "2:2:5.417416421769363\n"
     ]
    },
    {
     "name": "stderr",
     "output_type": "stream",
     "text": [
      "\n"
     ]
    }
   ],
   "source": [
    "#do we find differences between platforms, topics and genres in the claims made, based on the embeddings of the claims?\n",
    "grouped_data = dataset_claim_embeds.groupby(\"Platform\")\n",
    "dist = torch.nn.PairwiseDistance()\n",
    "resultsplatform: typing.Dict[typing.Tuple[str, str], float] = {}\n",
    "for model_1, c_1 in tqdm.tqdm(grouped_data['claim_optdef_embed_MXBAI'], total=grouped_data.ngroups):\n",
    "    for model_2, c_2 in tqdm.tqdm(grouped_data['claim_optdef_embed_MXBAI'], total=grouped_data.ngroups):\n",
    "\n",
    "        if (\n",
    "            (model_1, model_2) in resultsplatform.keys() or \n",
    "            (model_2, model_1) in resultsplatform.keys()\n",
    "        ):\n",
    "            continue\n",
    "\n",
    "        res = sum([\n",
    "            sum(dist(\n",
    "                torch.tensor(np.array(v_1)), \n",
    "                torch.tensor(np.array(c_2.tolist()))\n",
    "                )) / len(c_2)\n",
    "            for v_1 in c_1\n",
    "        ]) / len(c_1)\n",
    "\n",
    "        resultsplatform[(model_1, model_2)] = res\n",
    "\n",
    "        print(f'{model_1}:{model_2}:{res.item()}')"
   ]
  },
  {
   "cell_type": "code",
   "execution_count": 97,
   "metadata": {},
   "outputs": [
    {
     "name": "stderr",
     "output_type": "stream",
     "text": [
      "  0%|          | 0/5 [00:00<?, ?it/s]\n",
      "  0%|          | 0/5 [00:00<?, ?it/s]\u001b[A\n",
      " 20%|██        | 1/5 [00:02<00:11,  2.93s/it]\u001b[A"
     ]
    },
    {
     "name": "stdout",
     "output_type": "stream",
     "text": [
      "0:0:5.80059499908139\n"
     ]
    },
    {
     "name": "stderr",
     "output_type": "stream",
     "text": [
      "\n",
      " 40%|████      | 2/5 [00:06<00:10,  3.52s/it]\u001b[A"
     ]
    },
    {
     "name": "stdout",
     "output_type": "stream",
     "text": [
      "0:1:5.900279711960953\n"
     ]
    },
    {
     "name": "stderr",
     "output_type": "stream",
     "text": [
      "\n",
      " 60%|██████    | 3/5 [00:10<00:07,  3.57s/it]\u001b[A"
     ]
    },
    {
     "name": "stdout",
     "output_type": "stream",
     "text": [
      "0:2:5.992076177622596\n"
     ]
    },
    {
     "name": "stderr",
     "output_type": "stream",
     "text": [
      "\n",
      " 80%|████████  | 4/5 [00:14<00:03,  3.64s/it]\u001b[A"
     ]
    },
    {
     "name": "stdout",
     "output_type": "stream",
     "text": [
      "0:3:6.203130360847965\n"
     ]
    },
    {
     "name": "stderr",
     "output_type": "stream",
     "text": [
      "\n",
      "100%|██████████| 5/5 [00:17<00:00,  3.55s/it]\u001b[A\n",
      " 20%|██        | 1/5 [00:17<01:10, 17.75s/it]"
     ]
    },
    {
     "name": "stdout",
     "output_type": "stream",
     "text": [
      "0:4:5.632203214788899\n"
     ]
    },
    {
     "name": "stderr",
     "output_type": "stream",
     "text": [
      "\n",
      "  0%|          | 0/5 [00:00<?, ?it/s]\u001b[A\n",
      " 40%|████      | 2/5 [00:04<00:07,  2.39s/it]\u001b[A"
     ]
    },
    {
     "name": "stdout",
     "output_type": "stream",
     "text": [
      "1:1:5.813485586464339\n"
     ]
    },
    {
     "name": "stderr",
     "output_type": "stream",
     "text": [
      "\n",
      " 60%|██████    | 3/5 [00:09<00:06,  3.21s/it]\u001b[A"
     ]
    },
    {
     "name": "stdout",
     "output_type": "stream",
     "text": [
      "1:2:6.060596128056555\n"
     ]
    },
    {
     "name": "stderr",
     "output_type": "stream",
     "text": [
      "\n",
      " 80%|████████  | 4/5 [00:13<00:03,  3.78s/it]\u001b[A"
     ]
    },
    {
     "name": "stdout",
     "output_type": "stream",
     "text": [
      "1:3:6.2308320380587805\n"
     ]
    },
    {
     "name": "stderr",
     "output_type": "stream",
     "text": [
      "\n",
      "100%|██████████| 5/5 [00:17<00:00,  3.59s/it]\u001b[A\n",
      " 40%|████      | 2/5 [00:35<00:53, 17.87s/it]"
     ]
    },
    {
     "name": "stdout",
     "output_type": "stream",
     "text": [
      "1:4:5.734344506808891\n"
     ]
    },
    {
     "name": "stderr",
     "output_type": "stream",
     "text": [
      "\n",
      "  0%|          | 0/5 [00:00<?, ?it/s]\u001b[A\n",
      " 60%|██████    | 3/5 [00:04<00:02,  1.42s/it]\u001b[A"
     ]
    },
    {
     "name": "stdout",
     "output_type": "stream",
     "text": [
      "2:2:6.140560283136451\n"
     ]
    },
    {
     "name": "stderr",
     "output_type": "stream",
     "text": [
      "\n",
      " 80%|████████  | 4/5 [00:08<00:02,  2.42s/it]\u001b[A"
     ]
    },
    {
     "name": "stdout",
     "output_type": "stream",
     "text": [
      "2:3:6.348134756360314\n"
     ]
    },
    {
     "name": "stderr",
     "output_type": "stream",
     "text": [
      "\n",
      "100%|██████████| 5/5 [00:12<00:00,  2.55s/it]\u001b[A\n",
      " 60%|██████    | 3/5 [00:48<00:31, 15.53s/it]"
     ]
    },
    {
     "name": "stdout",
     "output_type": "stream",
     "text": [
      "2:4:5.828895198672338\n"
     ]
    },
    {
     "name": "stderr",
     "output_type": "stream",
     "text": [
      "\n",
      "  0%|          | 0/5 [00:00<?, ?it/s]\u001b[A\n",
      " 80%|████████  | 4/5 [00:04<00:01,  1.23s/it]\u001b[A"
     ]
    },
    {
     "name": "stdout",
     "output_type": "stream",
     "text": [
      "3:3:6.402883091006114\n"
     ]
    },
    {
     "name": "stderr",
     "output_type": "stream",
     "text": [
      "\n",
      "100%|██████████| 5/5 [00:09<00:00,  1.90s/it]\u001b[A\n",
      " 80%|████████  | 4/5 [00:57<00:13, 13.16s/it]"
     ]
    },
    {
     "name": "stdout",
     "output_type": "stream",
     "text": [
      "3:4:6.055738831404659\n"
     ]
    },
    {
     "name": "stderr",
     "output_type": "stream",
     "text": [
      "\n",
      "  0%|          | 0/5 [00:00<?, ?it/s]\u001b[A\n",
      "100%|██████████| 5/5 [00:03<00:00,  1.32it/s]\u001b[A\n",
      "100%|██████████| 5/5 [01:01<00:00, 12.35s/it]"
     ]
    },
    {
     "name": "stdout",
     "output_type": "stream",
     "text": [
      "4:4:5.417416421769363\n"
     ]
    },
    {
     "name": "stderr",
     "output_type": "stream",
     "text": [
      "\n"
     ]
    }
   ],
   "source": [
    "grouped_data = dataset_claim_embeds.groupby(\"topiccode\")\n",
    "dist = torch.nn.PairwiseDistance()\n",
    "resultstopic: typing.Dict[typing.Tuple[str, str], float] = {}\n",
    "for model_1, c_1 in tqdm.tqdm(grouped_data['claim_optdef_embed_MXBAI'], total=grouped_data.ngroups):\n",
    "    for model_2, c_2 in tqdm.tqdm(grouped_data['claim_optdef_embed_MXBAI'], total=grouped_data.ngroups):\n",
    "\n",
    "        if (\n",
    "            (model_1, model_2) in resultstopic.keys() or \n",
    "            (model_2, model_1) in resultstopic.keys()\n",
    "        ):\n",
    "            continue\n",
    "\n",
    "        res = sum([\n",
    "            sum(dist(\n",
    "                torch.tensor(np.array(v_1)), \n",
    "                torch.tensor(np.array(c_2.tolist()))\n",
    "                )) / len(c_2)\n",
    "            for v_1 in c_1\n",
    "        ]) / len(c_1)\n",
    "\n",
    "        resultstopic[(model_1, model_2)] = res\n",
    "\n",
    "        print(f'{model_1}:{model_2}:{res.item()}')"
   ]
  },
  {
   "cell_type": "code",
   "execution_count": 98,
   "metadata": {},
   "outputs": [
    {
     "name": "stderr",
     "output_type": "stream",
     "text": [
      "  0%|          | 0/3 [00:00<?, ?it/s]\n",
      "  0%|          | 0/3 [00:00<?, ?it/s]\u001b[A\n",
      " 33%|███▎      | 1/3 [00:09<00:19,  9.82s/it]\u001b[A"
     ]
    },
    {
     "name": "stdout",
     "output_type": "stream",
     "text": [
      "0:0:6.11314946623261\n"
     ]
    },
    {
     "name": "stderr",
     "output_type": "stream",
     "text": [
      "\n",
      " 67%|██████▋   | 2/3 [00:21<00:10, 10.74s/it]\u001b[A"
     ]
    },
    {
     "name": "stdout",
     "output_type": "stream",
     "text": [
      "0:1:6.028297805057824\n"
     ]
    },
    {
     "name": "stderr",
     "output_type": "stream",
     "text": [
      "\n",
      "100%|██████████| 3/3 [00:32<00:00, 10.68s/it]\u001b[A\n",
      " 33%|███▎      | 1/3 [00:32<01:04, 32.05s/it]"
     ]
    },
    {
     "name": "stdout",
     "output_type": "stream",
     "text": [
      "0:2:6.048096584932368\n"
     ]
    },
    {
     "name": "stderr",
     "output_type": "stream",
     "text": [
      "\n",
      "  0%|          | 0/3 [00:00<?, ?it/s]\u001b[A\n",
      " 67%|██████▋   | 2/3 [00:12<00:06,  6.31s/it]\u001b[A"
     ]
    },
    {
     "name": "stdout",
     "output_type": "stream",
     "text": [
      "1:1:5.882587146370895\n"
     ]
    },
    {
     "name": "stderr",
     "output_type": "stream",
     "text": [
      "\n",
      "100%|██████████| 3/3 [00:25<00:00,  8.45s/it]\u001b[A\n",
      " 67%|██████▋   | 2/3 [00:57<00:28, 28.11s/it]"
     ]
    },
    {
     "name": "stdout",
     "output_type": "stream",
     "text": [
      "1:2:5.973207174447018\n"
     ]
    },
    {
     "name": "stderr",
     "output_type": "stream",
     "text": [
      "\n",
      "  0%|          | 0/3 [00:00<?, ?it/s]\u001b[A\n",
      "100%|██████████| 3/3 [00:12<00:00,  4.02s/it]\u001b[A\n",
      "100%|██████████| 3/3 [01:09<00:00, 23.16s/it]"
     ]
    },
    {
     "name": "stdout",
     "output_type": "stream",
     "text": [
      "2:2:5.930496000256655\n"
     ]
    },
    {
     "name": "stderr",
     "output_type": "stream",
     "text": [
      "\n"
     ]
    }
   ],
   "source": [
    "grouped_data = dataset_claim_embeds.groupby(\"Genre\")\n",
    "dist = torch.nn.PairwiseDistance()\n",
    "resultstopic: typing.Dict[typing.Tuple[str, str], float] = {}\n",
    "for model_1, c_1 in tqdm.tqdm(grouped_data['claim_optdef_embed_MXBAI'], total=grouped_data.ngroups):\n",
    "    for model_2, c_2 in tqdm.tqdm(grouped_data['claim_optdef_embed_MXBAI'], total=grouped_data.ngroups):\n",
    "\n",
    "        if (\n",
    "            (model_1, model_2) in resultstopic.keys() or \n",
    "            (model_2, model_1) in resultstopic.keys()\n",
    "        ):\n",
    "            continue\n",
    "\n",
    "        res = sum([\n",
    "            sum(dist(\n",
    "                torch.tensor(np.array(v_1)), \n",
    "                torch.tensor(np.array(c_2.tolist()))\n",
    "                )) / len(c_2)\n",
    "            for v_1 in c_1\n",
    "        ]) / len(c_1)\n",
    "\n",
    "        resultstopic[(model_1, model_2)] = res\n",
    "\n",
    "        print(f'{model_1}:{model_2}:{res.item()}')"
   ]
  },
  {
   "cell_type": "code",
   "execution_count": 10,
   "metadata": {},
   "outputs": [],
   "source": [
    "#try to find out whether embeddings differ significantly between posts and claims using MXBAI embeddings:\n",
    "# calculate cosine similarity\n",
    "cosine_sim = cosine_similarity(dataset_claim_embeds['embed_MXBAI_post'].tolist(), dataset_claim_embeds['claim_optlow_MXBAI'].tolist())\n",
    "dataset_claim_embeds['cosine_similarity_post_claim_MXBAI'] = cosine_sim.diagonal()"
   ]
  },
  {
   "cell_type": "code",
   "execution_count": 6,
   "metadata": {},
   "outputs": [
    {
     "data": {
      "image/png": "[encoded data removed]",
      "text/plain": [
       "<Figure size 640x480 with 1 Axes>"
      ]
     },
     "metadata": {},
     "output_type": "display_data"
    }
   ],
   "source": [
    "#try to find out whether embeddings differ significantly between posts and claims using MXBAI embeddings:\n",
    "dataset_claim_embeds['cosine_similarity_post_claim_MXBAI'].hist(bins=100)\n",
    "plt.title('Distribution of differences between embeddings')\n",
    "plt.xlabel('Difference')\n",
    "plt.ylabel('Frequency')\n",
    "plt.savefig(f'{CFG.report_dir}/claim_vs_post_embeddings.png')\n",
    "plt.show()\n"
   ]
  },
  {
   "cell_type": "code",
   "execution_count": 14,
   "metadata": {},
   "outputs": [
    {
     "data": {
      "image/png": "[encoded data removed]",
      "text/plain": [
       "<Figure size 640x480 with 1 Axes>"
      ]
     },
     "metadata": {},
     "output_type": "display_data"
    }
   ],
   "source": [
    "#compare to differences between claims low temperature and claims high temperature:\n",
    "cosine_low_high_MXBAI = cosine_similarity(dataset_claim_embeds['claim_optdef_embed_MXBAI'].tolist(), dataset_claim_embeds['claim_optlow_MXBAI'].tolist())\n",
    "dataset_claim_embeds['cosine_low_high_MXBAI'] = cosine_low_high_MXBAI.diagonal()\n",
    "dataset_claim_embeds['cosine_low_high_MXBAI'].hist(bins=100)\n",
    "plt.title('Distribution of differences between embeddings')\n",
    "plt.xlabel('Difference')\n",
    "plt.ylabel('Frequency')\n",
    "plt.show()\n"
   ]
  },
  {
   "cell_type": "code",
   "execution_count": null,
   "metadata": {},
   "outputs": [],
   "source": [
    "#compare to differences between post MXBAI and post TF-IDF:\n",
    "cosine_post_TFIDF_MXBAI = cosine_similarity(dataset_claim_embeds['embed_MXBAI_post'].tolist(), dataset_claim_embeds['tfidf_embed_post'].tolist())\n",
    "dataset_claim_embeds['cosine_post_TFIDF_MXBAI'] = cosine_post_TFIDF_MXBAI.diagonal()\n",
    "dataset_claim_embeds['cosine_post_TFIDF_MXBAI'].hist(bins=100)\n",
    "plt.title('Distribution of differences between embeddings')\n",
    "plt.xlabel('Difference')\n",
    "plt.ylabel('Frequency')\n",
    "plt.show()\n"
   ]
  },
  {
   "cell_type": "code",
   "execution_count": null,
   "metadata": {},
   "outputs": [],
   "source": [
    "#can't be done due to differences in dimensions of the embeddings, use pca to reduce dimensions:\n",
    "from sklearn.decomposition import TruncatedSVD\n",
    "\n",
    "def truncated_svd_transform(vector, n_components):\n",
    "    svd = TruncatedSVD(n_components=n_components)\n",
    "    return svd.fit_transform([vector])[0]\n",
    "\n",
    "dataset_claim_embeds['tfidf_embed_post_svd'] = dataset_claim_embeds['tfidf_embed_post'].apply(lambda x: truncated_svd_transform(x, n_components=1024))"
   ]
  },
  {
   "cell_type": "markdown",
   "metadata": {},
   "source": [
    "comparing these svd embeddings to MXBAI embeddings still fails though..."
   ]
  },
  {
   "cell_type": "code",
   "execution_count": 10,
   "metadata": {},
   "outputs": [
    {
     "name": "stdout",
     "output_type": "stream",
     "text": [
      "[None\n",
      " '<a href=\"https://mobile.twitter.com\" rel=\"nofollow\">Twitter Web App</a>'\n",
      " '<a href=\"http://twitter.com/download/iphone\" rel=\"nofollow\">Twitter for iPhone</a>'\n",
      " '<a href=\"http://twitter.com/#!/download/ipad\" rel=\"nofollow\">Twitter for iPad</a>'\n",
      " '<a href=\"http://twitter.com/download/android\" rel=\"nofollow\">Twitter for Android</a>'\n",
      " '<a href=\"http://twitter.com\" rel=\"nofollow\">Twitter Web Client</a>'\n",
      " '<a href=\"http://mvilla.it/fenix\" rel=\"nofollow\">Fenix 2</a>'\n",
      " '<a href=\"https://www.radioandpodcast.com\" rel=\"nofollow\">Malliard to #Malliard</a>'\n",
      " '<a href=\"https://about.twitter.com/products/tweetdeck\" rel=\"nofollow\">TweetDeck</a>'\n",
      " '<a href=\"http://www.tweetcaster.com\" rel=\"nofollow\">TweetCaster for Android</a>'\n",
      " '<a href=\"http://www.echofon.com/\" rel=\"nofollow\">Echofon</a>'\n",
      " '<a href=\"http://tapbots.com/tweetbot\" rel=\"nofollow\">Tweetbot for iΟS</a>']\n",
      "['The 11th Hour' 'Hannity' 'colbertlateshow' 'Fox News'\n",
      " 'Late Show with Colbert' 'Daily Show' 'ABC Nightline ' 'NBC News'\n",
      " 'Face the Nation' 'Full Frontal with Samantha Bee ' 'Last week Tonight'\n",
      " 'Hardball with Chris Matthews (MSNBC)' 'Real Time with Bill Maher '\n",
      " 'Anderson Cooper 360 (CNN)' 'CBS Evening News ' '60 Minutes'\n",
      " 'FullFrontalSamB' 'Late Night with Seth Meyers ' 'Hannity (FoxNews)'\n",
      " 'World News Tonight With David Muir' 'Tucker Carlson Tonight (FoxNews)'\n",
      " 'Patriot Act with Hasan Minhaj' 'LastWeekTonight'\n",
      " 'Tucker Carlson Tonight' 'hardball' 'NightLine' '60Minutes'\n",
      " 'MeetThePress' 'patriotact' 'TheDailyShow' '11thHour' 'CBSEveningNews'\n",
      " 'TuckerCarlson' 'RealTimers' 'LateNightSeth' 'NewsHour' 'AC360'\n",
      " 'FaceTheNation' 'NBCNews' 'ABCWorldNews' 'Anderson Cooper 360'\n",
      " 'Late Night with Seth Meyers' 'Real Time with Bill Maher'\n",
      " 'Meet The Press' 'Hardball with Chris Matthews'\n",
      " 'The Daily Show with Trevor Noah' 'The Late Show with Stephen Colbert'\n",
      " 'CNN' 'ABC News' 'CBS Evening News' 'World News Tonight'\n",
      " 'Full Frontal with Samantha Bee' 'MSNBC' 'Patriot Act']\n",
      "['After Mocking Rubio, President Donald Trump Has A Water Bottle Moment | The 11th Hour | MSNBC'\n",
      " \"AOC's chief of staff resigns amid multiple controversies\" None ...\n",
      " \"Stephen Colbert's Thanksgiving Turkey Tips (Part 1)\"\n",
      " \"Audra McDonald Talks 'Lady Day', 'Shuffle Along' & Diversity\"\n",
      " 'Bombing Both Sides | Real Time with Bill Maher (HBO)']\n",
      "[           nan 1.16185698e+18 1.16503102e+18 1.18423582e+18\n",
      " 1.17446061e+18 1.08339693e+18 1.17284259e+18 1.17626447e+18\n",
      " 1.14881155e+18 1.14533975e+18 1.19172460e+18 1.16358225e+18\n",
      " 1.19222659e+18 1.14952355e+18 1.17117695e+18 1.11998674e+18\n",
      " 1.18934749e+18 1.18534427e+18 1.12416149e+18 1.18061372e+18\n",
      " 1.08358095e+18 1.17112864e+18 1.15296116e+18 1.18302704e+18\n",
      " 1.17506738e+18 1.19468016e+18 1.18156744e+18 1.06895079e+18\n",
      " 1.09572554e+18 9.42566813e+17 1.18714638e+18 1.09215077e+18\n",
      " 1.17996880e+18 1.17227530e+18 1.17971270e+18 1.18353271e+18\n",
      " 1.18992896e+18 1.19293047e+18 1.18339641e+18 1.05857578e+18\n",
      " 1.18451877e+18 1.18858822e+18 1.17074365e+18 9.85666826e+17\n",
      " 1.19372255e+18 1.17735188e+18 1.18301949e+18 1.17181606e+18\n",
      " 1.09072932e+18 1.06436084e+18 1.19368503e+18 1.18505034e+18\n",
      " 1.11867232e+18 1.16509646e+18 1.19113221e+18 1.17116962e+18\n",
      " 1.09662776e+18 1.12453020e+18 1.15200656e+18 1.16756902e+18\n",
      " 1.17832458e+18 1.13530140e+18 1.18749012e+18 1.18967616e+18\n",
      " 1.18352182e+18 1.19076251e+18 1.16573637e+18 1.18280845e+18\n",
      " 1.18963652e+18 1.04506268e+18 1.18902032e+18 1.16358470e+18\n",
      " 1.17780177e+18 1.17246494e+18 1.18086440e+18 1.18496167e+18\n",
      " 1.07561957e+18 1.07195087e+18 1.16358292e+18 1.18394926e+18\n",
      " 1.19536651e+18 1.10742579e+18 9.37483403e+17 1.16057464e+18\n",
      " 1.18844694e+18 1.17837466e+18 1.13263247e+18 1.19354427e+18\n",
      " 1.11241441e+18 1.11997490e+18 9.62849259e+17 1.09572659e+18\n",
      " 1.10488409e+18 1.10768438e+18 9.72975272e+17 1.17686620e+18\n",
      " 1.18386604e+18 1.17617220e+18 1.16564772e+18 1.17885213e+18\n",
      " 1.08310623e+18 1.17654278e+18 1.05916598e+18 1.15812436e+18\n",
      " 1.12504752e+18 1.18463514e+18 9.40015026e+17 1.17195156e+18\n",
      " 1.11503400e+18 1.17679942e+18 1.17996689e+18 1.19474067e+18\n",
      " 1.16439133e+18 1.17085738e+18 1.05923768e+18 1.17881355e+18\n",
      " 1.10728896e+18 1.13901439e+18 1.18099229e+18 1.17898792e+18\n",
      " 1.17952032e+18 1.19115500e+18 1.18395566e+18 1.12513562e+18\n",
      " 1.19116456e+18 1.17987671e+18 1.17769167e+18 1.16914306e+18\n",
      " 1.18138885e+18 1.11098002e+18 1.09325939e+18 1.17407328e+18\n",
      " 1.18083988e+18 1.08347612e+18 1.17443214e+18 1.18607321e+18\n",
      " 1.17186096e+18 1.17977187e+18 1.09969590e+18 1.05153304e+18\n",
      " 1.12261783e+18 9.72979439e+17 1.17044747e+18 1.11835551e+18\n",
      " 1.17232695e+18 1.09970067e+18 1.16831513e+18 1.17837643e+18\n",
      " 1.18032444e+18 1.04941766e+18 1.18452326e+18 1.19243706e+18\n",
      " 1.09982373e+18 1.18162031e+18 1.16402842e+18 1.09109096e+18\n",
      " 1.06256204e+18 1.13026040e+18 1.04515265e+18 1.10351986e+18\n",
      " 1.19295915e+18 1.18240294e+18 1.06938525e+18 9.37474106e+17\n",
      " 1.11674225e+18 1.19219998e+18 1.04505798e+18 1.18685932e+18\n",
      " 1.18667933e+18 1.12367534e+18 1.19537130e+18 1.11997618e+18\n",
      " 1.17518399e+18 9.34949841e+17 1.16652344e+18 1.08413922e+18\n",
      " 1.18452999e+18 1.15042792e+18 1.18279951e+18 1.17233431e+18\n",
      " 1.10118409e+18 1.18892853e+18 1.09010843e+18 1.16659828e+18\n",
      " 1.04588160e+18 1.10742361e+18 1.17698088e+18 1.09642773e+18\n",
      " 1.10476937e+18 1.18084796e+18 9.88193313e+17 1.19258055e+18\n",
      " 1.13468025e+18 1.08299316e+18 1.12397543e+18 1.18240032e+18\n",
      " 1.10236899e+18 1.13775116e+18 1.17920263e+18 1.17071680e+18\n",
      " 1.17071678e+18 1.18381370e+18 1.17671508e+18 1.16056342e+18\n",
      " 1.18240908e+18 1.17261900e+18 1.17369320e+18 1.19287545e+18\n",
      " 9.67914994e+17 1.06547755e+18 1.13025017e+18 1.08830703e+18\n",
      " 1.18639328e+18 1.12705550e+18 1.18625078e+18 1.18718701e+18\n",
      " 1.09644284e+18 1.13057898e+18 1.17959190e+18 9.72993953e+17\n",
      " 1.05203916e+18 1.17270654e+18 1.12010925e+18 1.07596996e+18\n",
      " 1.09970080e+18 1.17155532e+18 1.11998268e+18 1.18971623e+18\n",
      " 1.17732392e+18 1.17656897e+18 1.09155417e+18 1.11904386e+18\n",
      " 1.19476233e+18 1.11250772e+18 1.18123029e+18 1.17662821e+18\n",
      " 1.14103226e+18 1.08338555e+18 1.18461372e+18 1.16570796e+18\n",
      " 1.18170047e+18 1.17335254e+18 1.16500966e+18 1.15388154e+18\n",
      " 1.18432038e+18 1.17721517e+18 1.18035456e+18 1.10488321e+18\n",
      " 1.13520763e+18 1.16346442e+18 1.17358282e+18 1.10388466e+18\n",
      " 1.08209245e+18 1.18379342e+18 1.08194891e+18 1.10278661e+18\n",
      " 1.08128990e+18 1.17907961e+18 1.19300607e+18 1.16430796e+18\n",
      " 1.17155924e+18 1.17409017e+18 1.18132892e+18 1.05668742e+18\n",
      " 1.09718271e+18 1.08447388e+18 1.13265724e+18 1.15205832e+18\n",
      " 1.17481595e+18 1.16720614e+18 1.14535002e+18 1.18966171e+18\n",
      " 1.17230049e+18 1.18487200e+18 1.18092070e+18 1.04400303e+18\n",
      " 1.17331060e+18 1.18846794e+18 1.16436421e+18 1.19548641e+18\n",
      " 1.18639571e+18 9.42556483e+17 1.09155235e+18 1.17080786e+18\n",
      " 9.95826774e+17 1.15098150e+18 1.19537078e+18 1.15931840e+18\n",
      " 1.04400481e+18 1.05949982e+18 1.18939794e+18 1.12338134e+18\n",
      " 1.17777252e+18 1.10725774e+18 1.18426532e+18 1.17406709e+18\n",
      " 1.15049159e+18 1.11075410e+18 1.17379382e+18 1.12125421e+18\n",
      " 1.18879656e+18 1.18093214e+18 1.06728438e+18 1.07948124e+18\n",
      " 1.17043272e+18 1.18491315e+18 1.09683543e+18 1.18957575e+18\n",
      " 1.17114345e+18 9.50161347e+17 1.17836786e+18 1.19474699e+18\n",
      " 1.13648852e+18 1.10223952e+18 1.17829908e+18 1.18309046e+18\n",
      " 1.16612823e+18 1.05923757e+18 1.06036824e+18 1.15969004e+18\n",
      " 1.17941843e+18 1.18337715e+18 1.14191091e+18 1.17839543e+18\n",
      " 1.17039768e+18 1.19184323e+18 1.08649067e+18 1.05566375e+18\n",
      " 1.07236129e+18 1.17960816e+18 1.13089988e+18 1.17082793e+18\n",
      " 1.18099195e+18 1.08460653e+18 1.11691039e+18 1.12306780e+18\n",
      " 1.18339752e+18 1.09301512e+18 1.17228496e+18 1.11723606e+18\n",
      " 1.17227871e+18 1.19259033e+18 1.18085576e+18 1.05241554e+18\n",
      " 1.05162962e+18 1.16249574e+18 1.12886597e+18 1.19197344e+18\n",
      " 1.17536415e+18 1.18336942e+18 1.18594196e+18 1.19512618e+18\n",
      " 1.17996939e+18 1.15295968e+18 1.15224673e+18]\n",
      "[           nan 7.71388593e+17 4.29588290e+07 1.18568920e+07\n",
      " 8.61413420e+07 2.05392468e+08 1.88125720e+07 1.41733150e+07]\n",
      "[None '11thHour' 'CBSEveningNews' 'MeetThePress' 'ABCWorldNews'\n",
      " 'FaceTheNation' '60Minutes' 'NBCNews']\n",
      "[nan  0.  1.]\n",
      "[\"After mercilessly mocking 'Little Marco' and his water bottle moment of 2013, Trump had one of his own during a White House speech on his Asia trip. MSNBC's Brian Williams share the details.\\nÂ» Subscribe to MSNBC: http://on.msnbc.com/SubscribeTomsnbc\\n\\nAbout: MSNBC is the premier destination for in-depth analysis of daily headlines, insightful political commentary and informed perspectives. Reaching more than 95 million households worldwide, MSNBC offers a full schedule of live news coverage, political opinions and award-winning documentary programming -- 24 hours a day, 7 days a week.\\n\\nConnect with MSNBC Online\\nVisit msnbc.com: http://on.msnbc.com/Readmsnbc\\nFind MSNBC on Facebook: http://on.msnbc.com/Likemsnbc\\nFollow MSNBC on Twitter: http://on.msnbc.com/Followmsnbc\\nFollow MSNBC on Google+: http://on.msnbc.com/Plusmsnbc\\nFollow MSNBC on Instagram: http://on.msnbc.com/Instamsnbc\\nFollow MSNBC on Tumblr: http://on.msnbc.com/LeanWithmsnbc\\n\\nAfter Mocking Rubio, President Donald Trump Has A Water Bottle Moment | The 11th Hour | MSNBC\"\n",
      " 'Former Ocasio-Cortez chief of staff Saikat Chakrabarti is under investigation for alleged campaign finance misconduct; Trace Gallagher has the details. #Hannity #FoxNews\\n\\nFOX News operates the FOX News Channel (FNC), FOX Business Network (FBN), FOX News Radio, FOX News Headlines 24/7, FOXNews.com and the direct-to-consumer streaming service, FOX Nation. FOX News also produces FOX News Sunday on FOX Broadcasting Company and FOX News Edge. A top five-cable network, FNC has been the most watched news channel in the country for 17 consecutive years. According to a 2018 Research Intelligencer study by Brand Keys, FOX News ranks as the second most trusted television brand in the country. Additionally, a Suffolk University/USA Today survey states Fox News is the most trusted source for television news or commentary in the country, while a 2017 Gallup/Knight Foundation survey found that among Americans who could name an objective news source, FOX News is the top-cited outlet. FNC is available in nearly 90 million homes and dominates the cable news landscape while routinely notching the top ten programs in the genre.\\n \\nSubscribe to Fox News!  https://bit.ly/2vBUvAS\\nWatch more Fox News Video: http://video.foxnews.com\\nWatch Fox News Channel Live: http://www.foxnewsgo.com/\\n\\nWatch full episodes of your favorite shows\\nThe Five: http://video.foxnews.com/playlist/longform-the-five/\\nSpecial Report with Bret Baier: http://video.foxnews.com/playlist/longform-special-report/\\nThe Story with Martha Maccallum: http://video.foxnews.com/playlist/longform-the-story-with-martha-maccallum/\\nTucker Carlson Tonight: http://video.foxnews.com/playlist/longform-tucker-carlson-tonight/\\nHannity:  http://video.foxnews.com/playlist/longform-hannity/\\nThe Ingraham Angle: http://video.foxnews.com/playlist/longform-the-ingraham-angle/\\nFox News @ Night: http://video.foxnews.com/playlist/longform-fox-news-night/\\n \\nFollow Fox News on Facebook: https://www.facebook.com/FoxNews/\\nFollow Fox News on Twitter: https://twitter.com/FoxNews/\\nFollow Fox News on Instagram: https://www.instagram.com/foxnews/'\n",
      " None ...\n",
      " 'It\\'s important to get accurate information on turkey preparation this time of year, so Stephen volunteered to man the phones at the Butterball Turkey Talk-Line.\\n\\nSubscribe To \"The Late Show\" Channel HERE: http://bit.ly/ColbertYouTube\\nFor more content from \"The Late Show with Stephen Colbert\", click HERE: http://bit.ly/1AKISnR\\nWatch full episodes of \"The Late Show\" HERE: http://bit.ly/1Puei40\\nLike \"The Late Show\" on Facebook HERE: http://on.fb.me/1df139Y\\nFollow \"The Late Show\" on Twitter HERE: http://bit.ly/1dMzZzG\\nFollow \"The Late Show\" on Google+ HERE: http://bit.ly/1JlGgzw\\nFollow \"The Late Show\" on Instagram HERE: http://bit.ly/29wfREj\\nFollow \"The Late Show\" on Tumblr HERE: http://bit.ly/29DVvtR\\n\\nWatch The Late Show with Stephen Colbert weeknights at 11:35 PM ET/10:35 PM CT. Only on CBS.\\n\\nGet the CBS app for iPhone & iPad! Click HERE: http://bit.ly/12rLxge\\n\\nGet new episodes of shows you love across devices the next day, stream live TV, and watch full seasons of CBS fan favorites anytime, anywhere with CBS All Access. Try it free! http://bit.ly/1OQA29B\\n\\n---\\nThe Late Show with Stephen Colbert is the premier late night talk show on CBS, airing at 11:35pm EST, streaming online via CBS All Access, and delivered to the International Space Station on a USB drive taped to a weather balloon. Every night, viewers can expect: Comedy, humor, funny moments, witty interviews, celebrities, famous people, movie stars, bits, humorous celebrities doing bits, funny celebs, big group photos of every star from Hollywood, even the reclusive ones, plus also jokes.'\n",
      " '6-time Tony award winner Audra McDonald explains how she prepared for playing Billie Holiday, and the important role her new musical \"Shuffle Along\" played in the history of African-Americans on Broadway.\\n\\n\"Subscribe To \"\"The Late Show\"\" Channel HERE: http://bit.ly/ColbertYouTube\\nFor more content from \"\"The Late Show with Stephen Colbert\"\", click HERE: http://bit.ly/1AKISnR\\nWatch full episodes of \"\"The Late Show\"\" HERE: http://bit.ly/1Puei40\\nDownload the Colbert App HERE: http://apple.co/1Qqgwk4\\nLike \"\"The Late Show\"\" on Facebook HERE: http://on.fb.me/1df139Y\\nFollow \"\"The Late Show\"\" on Twitter HERE: http://bit.ly/1dMzZzG\\nFollow \"\"The Late Show\"\" on Google+ HERE: http://bit.ly/1JlGgzw\\n\\nWatch The Late Show with Stephen Colbert weeknights at 11:35 PM ET/10:35 PM CT. Only on CBS.\\n\\nGet the CBS app for iPhone & iPad! Click HERE: http://bit.ly/12rLxge\\n\\nGet new episodes of shows you love across devices the next day, stream live TV, and watch full seasons of CBS fan favorites anytime, anywhere with CBS All Access. Try it free! http://bit.ly/1OQA29B\\n\\n---\\nStephen Colbert took over as host of The Late Show on Tuesday, Sept. 8, 2015. Colbert is best known for his work as a television host, writer, actor, and producer, and best known for his charity work teaching English as a second language on Tunisian date farms. Prior to joining the CBS family -- and being officially adopted by network president Les Moonves -- Colbert helmed “The Colbert Report,” which aired nearly 1,500 episodes and required Stephen to wear nearly 1,500 different neckties. The program received two Peabody Awards, two Grammy Awards, and several unwelcome shoulder massages. It won two Emmys for Outstanding Variety Series in 2013 and 2014, both of which appear to have been lost in the move. Colbert is pronounced koʊlˈbɛər, according to Wikipedia. His understudy is William Cavanaugh, who will be hosting The Late Show approximately one third of the time. Good luck, Bill!\"'\n",
      " \"Subscribe to the Real Time YouTube: http://itsh.bo/10r5A1B\\n\\nBill and his guests - Rep. Ted Lieu (D-CA), Ana Navarro, and Evan McMullin - discuss the U.S. bombing of Syria and President Trump's past comments on military intervention.\\n\\nConnect with Real Time Online:\\nFind Real Time on Facebook: https://www.facebook.com/Maher\\nFind Real Time on Twitter: https://twitter.com/RealTimers\\nFind Real Time with Bill Maher Official Site: http://itsh.bo/HttKcM.\\nFind Real Time with Bill Maher on HBO GO® http://itsh.bo/iioY87.\\nFind Real Time with Bill Maher on Connect: http://connect.hbo.com/real-time-bill-maher\\nFind Real Time on Instagram: http://instagram.com/realtimers\\nThe Real Time blog: http://www.real-time-with-bill-maher-blog.com/\\n\\nIt's HBO.\\n\\nConnect with HBO Online\\nFind HBO on Facebook: http://Facebook.com/HBO\\nFollow @HBO on Twitter: http://Twitter.com/HBO\\nFind HBO on Youtube: http://Youtube.com/HBO\\nFind HBO Official Site: http://HBO.com\\nFind HBO Connect: http://Connect.hbo.com\\nFind HBO GO: http://HBOGO.com\\nFind HBO on Instagram: http://Instagram.com/hbo\\nFind HBO on Foursquare: http://Foursquare.com/hbo\\n\\nCheck out other HBO Channels\\nHBO: http://www.youtube.com/hbo\\nGame of Thrones: http://www.youtube.com/GameofThrones \\nTrue Blood: http://www.youtube.com/trueblood \\nHBO Sports: http://www.youtube.com/HBOsports \\nHBO Documentary Films: http://www.youtube.com/HBODocs \\nCinemax: http://www.youtube.com/Cinemax \\nHBO Latino: http://www.youtube.com/HBOLatino\"]\n",
      "['2017-11-16 00:00:00' '2019-08-06 02:34:50+00:00' None ...\n",
      " '2016-11-23 08:35:00+00:00' '2016-03-12 08:35:00+00:00'\n",
      " '2017-04-08 05:28:15+00:00']\n",
      "[None 'Fox News' 'LastWeekTonight' '60 Minutes' 'NBC News' 'CNN'\n",
      " 'Late Night with Seth Meyers' 'Real Time with Bill Maher' 'MSNBC'\n",
      " 'The Daily Show with Trevor Noah' 'The Late Show with Stephen Colbert'\n",
      " 'Face the Nation' 'ABC News' 'CBS Evening News'\n",
      " 'Full Frontal with Samantha Bee' 'Patriot Act']\n"
     ]
    }
   ],
   "source": [
    "#try to find out whether we can group comments by source:\n",
    "print(dataset_claim_embeds['source'].unique())\n",
    "print(dataset_claim_embeds['showName'].unique())\n",
    "print(dataset_claim_embeds['videoTitle'].unique())\n",
    "print(dataset_claim_embeds['in_reply_to_screen_name'].unique())\n",
    "print(dataset_claim_embeds['channelTitle'].unique())\n"
   ]
  },
  {
   "cell_type": "code",
   "execution_count": 12,
   "metadata": {},
   "outputs": [
    {
     "name": "stdout",
     "output_type": "stream",
     "text": [
      "0                            The 11th Hour\n",
      "1                                  Hannity\n",
      "2                          colbertlateshow\n",
      "3                            The 11th Hour\n",
      "4                            The 11th Hour\n",
      "                       ...                \n",
      "3857                       FullFrontalSamB\n",
      "3858                                 AC360\n",
      "3859                              ABC News\n",
      "3860    The Late Show with Stephen Colbert\n",
      "3861                      CBS Evening News\n",
      "Name: showName, Length: 3862, dtype: object\n",
      "0       After Mocking Rubio, President Donald Trump Ha...\n",
      "1       AOC's chief of staff resigns amid multiple con...\n",
      "2                                                    None\n",
      "3       Fmr. Prosecutor On Donald Trump Mocking Kavana...\n",
      "4       Nicolle Wallace: John McCain In Death Was Able...\n",
      "                              ...                        \n",
      "3857                                                 None\n",
      "3858                                                 None\n",
      "3859    Assassination of Top Commander of Hamas Caught...\n",
      "3860    Lin-Manuel Miranda Can Forge Hamilton's Signature\n",
      "3861    \"Haley: Airstrikes \"\"crippled\"\" Syria’s chemic...\n",
      "Name: videoTitle, Length: 3862, dtype: object\n",
      "0                None\n",
      "1                None\n",
      "2            11thHour\n",
      "3                None\n",
      "4                None\n",
      "            ...      \n",
      "3857     ABCWorldNews\n",
      "3858    FaceTheNation\n",
      "3859             None\n",
      "3860             None\n",
      "3861             None\n",
      "Name: in_reply_to_screen_name, Length: 3862, dtype: object\n",
      "0                                     None\n",
      "1                                 Fox News\n",
      "2                                     None\n",
      "3                                     None\n",
      "4                                     None\n",
      "                       ...                \n",
      "3857                                  None\n",
      "3858                                  None\n",
      "3859                              ABC News\n",
      "3860    The Late Show with Stephen Colbert\n",
      "3861                      CBS Evening News\n",
      "Name: channelTitle, Length: 3862, dtype: object\n"
     ]
    }
   ],
   "source": [
    "print(dataset_claim_embeds['showName'])\n",
    "print(dataset_claim_embeds['videoTitle'])\n",
    "print(dataset_claim_embeds['in_reply_to_screen_name'])\n",
    "print(dataset_claim_embeds['channelTitle'])"
   ]
  },
  {
   "cell_type": "code",
   "execution_count": 11,
   "metadata": {},
   "outputs": [
    {
     "name": "stdout",
     "output_type": "stream",
     "text": [
      "showName\n",
      "NBC News                                201\n",
      "The Daily Show with Trevor Noah         188\n",
      "The Late Show with Stephen Colbert      186\n",
      "Hardball with Chris Matthews            177\n",
      "Real Time with Bill Maher               172\n",
      "Hannity                                 171\n",
      "Tucker Carlson Tonight                  155\n",
      "Fox News                                152\n",
      "Late Night with Seth Meyers             148\n",
      "Face the Nation                         128\n",
      "60 Minutes                              125\n",
      "CBS Evening News                        116\n",
      "ABC News                                109\n",
      "LastWeekTonight                         106\n",
      "The 11th Hour                           101\n",
      "CNN                                      94\n",
      "Anderson Cooper 360                      89\n",
      "TuckerCarlson                            82\n",
      "hardball                                 81\n",
      "AC360                                    79\n",
      "Hardball with Chris Matthews (MSNBC)     59\n",
      "Tucker Carlson Tonight (FoxNews)         58\n",
      "Full Frontal with Samantha Bee           57\n",
      "Hannity (FoxNews)                        57\n",
      "Anderson Cooper 360 (CNN)                54\n",
      "World News Tonight                       51\n",
      "RealTimers                               39\n",
      "MSNBC                                    37\n",
      "ABC Nightline                            36\n",
      "World News Tonight With David Muir       35\n",
      "LateNightSeth                            35\n",
      "TheDailyShow                             34\n",
      "patriotact                               34\n",
      "Full Frontal with Samantha Bee           34\n",
      "colbertlateshow                          33\n",
      "Late Night with Seth Meyers              33\n",
      "FullFrontalSamB                          33\n",
      "Patriot Act with Hasan Minhaj            32\n",
      "Daily Show                               32\n",
      "Late Show with Colbert                   32\n",
      "ABCWorldNews                             31\n",
      "Real Time with Bill Maher                31\n",
      "NewsHour                                 30\n",
      "Last week Tonight                        30\n",
      "NBCNews                                  29\n",
      "CBSEveningNews                           27\n",
      "NightLine                                27\n",
      "FaceTheNation                            27\n",
      "CBS Evening News                         27\n",
      "MeetThePress                             26\n",
      "11thHour                                 26\n",
      "Patriot Act                              26\n",
      "Meet The Press                           25\n",
      "60Minutes                                25\n",
      "Name: count, dtype: int64\n",
      "videoTitle\n",
      "'Hannity' panel on the important questions Mueller needs to answer               23\n",
      "Anderson Cooper lays out questions surrounding Mueller report                    23\n",
      "Sanders: Bolton is a guy who likes war                                           22\n",
      "John Berman: Is it even news when the President lies?                            20\n",
      "Teacher who said she was fired over topless selfie says she 'lost everything'    20\n",
      "                                                                                 ..\n",
      "Is it too easy to become a tax preparer?                                          1\n",
      "Putin says he's not a \"czar\"                                                      1\n",
      "Pelley to Fed Chair: Are American banks safe today?                               1\n",
      "2014: The aftermath of the Fukushima disaster                                     1\n",
      "Bombing Both Sides | Real Time with Bill Maher (HBO)                              1\n",
      "Name: count, Length: 1137, dtype: int64\n"
     ]
    }
   ],
   "source": [
    "#showname and videoTitle make most sense to group by:\n",
    "print(dataset_claim_embeds['showName'].value_counts())\n",
    "print(dataset_claim_embeds['videoTitle'].value_counts())"
   ]
  },
  {
   "cell_type": "code",
   "execution_count": 22,
   "metadata": {},
   "outputs": [],
   "source": [
    "#select the rows in the dataset that have the a showName with more than 100 comments:   \n",
    "selectedshows = dataset_claim_embeds[dataset_claim_embeds['showName'].isin(dataset_claim_embeds['showName'].value_counts()[dataset_claim_embeds['showName'].value_counts() >= 100].index)]"
   ]
  },
  {
   "cell_type": "code",
   "execution_count": 23,
   "metadata": {},
   "outputs": [
    {
     "data": {
      "text/plain": [
       "showName\n",
       "NBC News                              201\n",
       "The Daily Show with Trevor Noah       188\n",
       "The Late Show with Stephen Colbert    186\n",
       "Hardball with Chris Matthews          177\n",
       "Real Time with Bill Maher             172\n",
       "Hannity                               171\n",
       "Tucker Carlson Tonight                155\n",
       "Fox News                              152\n",
       "Late Night with Seth Meyers           148\n",
       "Face the Nation                       128\n",
       "60 Minutes                            125\n",
       "CBS Evening News                      116\n",
       "ABC News                              109\n",
       "LastWeekTonight                       106\n",
       "The 11th Hour                         101\n",
       "Name: count, dtype: int64"
      ]
     },
     "execution_count": 23,
     "metadata": {},
     "output_type": "execute_result"
    }
   ],
   "source": [
    "selectedshows.showName.value_counts()"
   ]
  },
  {
   "cell_type": "code",
   "execution_count": 14,
   "metadata": {},
   "outputs": [
    {
     "name": "stderr",
     "output_type": "stream",
     "text": [
      "  0%|          | 0/15 [00:00<?, ?it/s]\n",
      "  0%|          | 0/15 [00:00<?, ?it/s]\u001b[A\n",
      " 13%|█▎        | 2/15 [00:00<00:01, 10.92it/s]\u001b[A"
     ]
    },
    {
     "name": "stdout",
     "output_type": "stream",
     "text": [
      "60 Minutes:60 Minutes:6.699946598692885\n",
      "60 Minutes:ABC News:6.549319579763909\n",
      "60 Minutes:CBS Evening News:6.623362289152729\n"
     ]
    },
    {
     "name": "stderr",
     "output_type": "stream",
     "text": [
      "\n",
      " 27%|██▋       | 4/15 [00:00<00:01, 10.14it/s]\u001b[A"
     ]
    },
    {
     "name": "stdout",
     "output_type": "stream",
     "text": [
      "60 Minutes:Face the Nation:6.589000684984429\n",
      "60 Minutes:Fox News:6.553924448381198\n"
     ]
    },
    {
     "name": "stderr",
     "output_type": "stream",
     "text": [
      "\n",
      " 40%|████      | 6/15 [00:00<00:01,  8.71it/s]\u001b[A\n",
      " 47%|████▋     | 7/15 [00:00<00:00,  8.12it/s]\u001b[A"
     ]
    },
    {
     "name": "stdout",
     "output_type": "stream",
     "text": [
      "60 Minutes:Hannity:6.567656437591391\n",
      "60 Minutes:Hardball with Chris Matthews:6.533941577190496\n"
     ]
    },
    {
     "name": "stderr",
     "output_type": "stream",
     "text": [
      "\n",
      " 60%|██████    | 9/15 [00:01<00:00,  8.58it/s]\u001b[A"
     ]
    },
    {
     "name": "stdout",
     "output_type": "stream",
     "text": [
      "60 Minutes:LastWeekTonight:6.47099217990759\n",
      "60 Minutes:Late Night with Seth Meyers:6.401327347354272\n"
     ]
    },
    {
     "name": "stderr",
     "output_type": "stream",
     "text": [
      "\n",
      " 67%|██████▋   | 10/15 [00:01<00:00,  7.85it/s]\u001b[A\n",
      " 73%|███████▎  | 11/15 [00:01<00:00,  7.60it/s]\u001b[A"
     ]
    },
    {
     "name": "stdout",
     "output_type": "stream",
     "text": [
      "60 Minutes:NBC News:6.461630916999484\n",
      "60 Minutes:Real Time with Bill Maher:6.588453145092005\n"
     ]
    },
    {
     "name": "stderr",
     "output_type": "stream",
     "text": [
      "\n",
      " 87%|████████▋ | 13/15 [00:01<00:00,  7.88it/s]\u001b[A"
     ]
    },
    {
     "name": "stdout",
     "output_type": "stream",
     "text": [
      "60 Minutes:The 11th Hour:6.48982317247386\n",
      "60 Minutes:The Daily Show with Trevor Noah:6.4959834351562105\n"
     ]
    },
    {
     "name": "stderr",
     "output_type": "stream",
     "text": [
      "\n",
      " 93%|█████████▎| 14/15 [00:01<00:00,  7.52it/s]\u001b[A\n",
      "100%|██████████| 15/15 [00:01<00:00,  8.07it/s]\u001b[A\n",
      "  7%|▋         | 1/15 [00:01<00:26,  1.86s/it]"
     ]
    },
    {
     "name": "stdout",
     "output_type": "stream",
     "text": [
      "60 Minutes:The Late Show with Stephen Colbert:6.422629063336613\n",
      "60 Minutes:Tucker Carlson Tonight:6.50066205423483\n"
     ]
    },
    {
     "name": "stderr",
     "output_type": "stream",
     "text": [
      "\n",
      "  0%|          | 0/15 [00:00<?, ?it/s]\u001b[A\n",
      " 20%|██        | 3/15 [00:00<00:00, 16.96it/s]\u001b[A"
     ]
    },
    {
     "name": "stdout",
     "output_type": "stream",
     "text": [
      "ABC News:ABC News:6.2195879212516765\n",
      "ABC News:CBS Evening News:6.4063730363364595\n",
      "ABC News:Face the Nation:6.414296737914172\n"
     ]
    },
    {
     "name": "stderr",
     "output_type": "stream",
     "text": [
      "\n",
      " 33%|███▎      | 5/15 [00:00<00:00, 12.51it/s]\u001b[A"
     ]
    },
    {
     "name": "stdout",
     "output_type": "stream",
     "text": [
      "ABC News:Fox News:6.380807895598997\n",
      "ABC News:Hannity:6.379816875529999\n"
     ]
    },
    {
     "name": "stderr",
     "output_type": "stream",
     "text": [
      "\n",
      " 47%|████▋     | 7/15 [00:00<00:00, 10.07it/s]\u001b[A\n",
      " 60%|██████    | 9/15 [00:00<00:00, 10.29it/s]\u001b[A"
     ]
    },
    {
     "name": "stdout",
     "output_type": "stream",
     "text": [
      "ABC News:Hardball with Chris Matthews:6.380469035453538\n",
      "ABC News:LastWeekTonight:6.237530736835464\n",
      "ABC News:Late Night with Seth Meyers:6.201791050272182\n"
     ]
    },
    {
     "name": "stderr",
     "output_type": "stream",
     "text": [
      "\n",
      " 73%|███████▎  | 11/15 [00:01<00:00,  9.13it/s]\u001b[A"
     ]
    },
    {
     "name": "stdout",
     "output_type": "stream",
     "text": [
      "ABC News:NBC News:6.2448033655784965\n",
      "ABC News:Real Time with Bill Maher:6.398878835252548\n"
     ]
    },
    {
     "name": "stderr",
     "output_type": "stream",
     "text": [
      "\n",
      " 87%|████████▋ | 13/15 [00:01<00:00,  9.07it/s]\u001b[A"
     ]
    },
    {
     "name": "stdout",
     "output_type": "stream",
     "text": [
      "ABC News:The 11th Hour:6.317485681019367\n",
      "ABC News:The Daily Show with Trevor Noah:6.282352443298999\n"
     ]
    },
    {
     "name": "stderr",
     "output_type": "stream",
     "text": [
      "\n",
      " 93%|█████████▎| 14/15 [00:01<00:00,  8.68it/s]\u001b[A\n",
      "100%|██████████| 15/15 [00:01<00:00,  9.60it/s]\u001b[A\n",
      " 13%|█▎        | 2/15 [00:03<00:21,  1.69s/it]"
     ]
    },
    {
     "name": "stdout",
     "output_type": "stream",
     "text": [
      "ABC News:The Late Show with Stephen Colbert:6.2051469937436705\n",
      "ABC News:Tucker Carlson Tonight:6.305092850611651\n"
     ]
    },
    {
     "name": "stderr",
     "output_type": "stream",
     "text": [
      "\n",
      "  0%|          | 0/15 [00:00<?, ?it/s]\u001b[A\n",
      " 27%|██▋       | 4/15 [00:00<00:00, 21.45it/s]\u001b[A"
     ]
    },
    {
     "name": "stdout",
     "output_type": "stream",
     "text": [
      "CBS Evening News:CBS Evening News:6.348578764251924\n",
      "CBS Evening News:Face the Nation:6.403009185321105\n",
      "CBS Evening News:Fox News:6.36933235357251\n",
      "CBS Evening News:Hannity:6.374377465473281\n"
     ]
    },
    {
     "name": "stderr",
     "output_type": "stream",
     "text": [
      "\n",
      " 47%|████▋     | 7/15 [00:00<00:00, 11.20it/s]\u001b[A"
     ]
    },
    {
     "name": "stdout",
     "output_type": "stream",
     "text": [
      "CBS Evening News:Hardball with Chris Matthews:6.358857702782433\n",
      "CBS Evening News:LastWeekTonight:6.3273110335979466\n"
     ]
    },
    {
     "name": "stderr",
     "output_type": "stream",
     "text": [
      "\n",
      " 60%|██████    | 9/15 [00:00<00:00, 10.43it/s]\u001b[A"
     ]
    },
    {
     "name": "stdout",
     "output_type": "stream",
     "text": [
      "CBS Evening News:Late Night with Seth Meyers:6.25908800543423\n",
      "CBS Evening News:NBC News:6.28086396096831\n"
     ]
    },
    {
     "name": "stderr",
     "output_type": "stream",
     "text": [
      "\n",
      " 73%|███████▎  | 11/15 [00:01<00:00,  9.04it/s]\u001b[A"
     ]
    },
    {
     "name": "stdout",
     "output_type": "stream",
     "text": [
      "CBS Evening News:Real Time with Bill Maher:6.4310086826956665\n",
      "CBS Evening News:The 11th Hour:6.33260039356323\n"
     ]
    },
    {
     "name": "stderr",
     "output_type": "stream",
     "text": [
      "\n",
      " 87%|████████▋ | 13/15 [00:01<00:00,  9.01it/s]\u001b[A\n",
      " 93%|█████████▎| 14/15 [00:01<00:00,  8.54it/s]\u001b[A"
     ]
    },
    {
     "name": "stdout",
     "output_type": "stream",
     "text": [
      "CBS Evening News:The Daily Show with Trevor Noah:6.346909360196532\n",
      "CBS Evening News:The Late Show with Stephen Colbert:6.278736277014221\n"
     ]
    },
    {
     "name": "stderr",
     "output_type": "stream",
     "text": [
      "\n",
      "100%|██████████| 15/15 [00:01<00:00,  9.54it/s]\u001b[A\n",
      " 20%|██        | 3/15 [00:05<00:19,  1.64s/it]"
     ]
    },
    {
     "name": "stdout",
     "output_type": "stream",
     "text": [
      "CBS Evening News:Tucker Carlson Tonight:6.315227721428547\n"
     ]
    },
    {
     "name": "stderr",
     "output_type": "stream",
     "text": [
      "\n",
      "  0%|          | 0/15 [00:00<?, ?it/s]\u001b[A\n",
      " 27%|██▋       | 4/15 [00:00<00:00, 36.82it/s]\u001b[A"
     ]
    },
    {
     "name": "stdout",
     "output_type": "stream",
     "text": [
      "Face the Nation:Face the Nation:6.167854376350992\n",
      "Face the Nation:Fox News:6.186634445977847\n",
      "Face the Nation:Hannity:6.234462770538287\n",
      "Face the Nation:Hardball with Chris Matthews:6.124618642212895\n"
     ]
    },
    {
     "name": "stderr",
     "output_type": "stream",
     "text": [
      "\n",
      " 53%|█████▎    | 8/15 [00:00<00:00, 11.39it/s]\u001b[A"
     ]
    },
    {
     "name": "stdout",
     "output_type": "stream",
     "text": [
      "Face the Nation:LastWeekTonight:6.356244197852768\n",
      "Face the Nation:Late Night with Seth Meyers:6.0834936658728855\n"
     ]
    },
    {
     "name": "stderr",
     "output_type": "stream",
     "text": [
      "\n",
      " 67%|██████▋   | 10/15 [00:00<00:00,  9.53it/s]\u001b[A"
     ]
    },
    {
     "name": "stdout",
     "output_type": "stream",
     "text": [
      "Face the Nation:NBC News:6.236679036763175\n",
      "Face the Nation:Real Time with Bill Maher:6.305479166653474\n"
     ]
    },
    {
     "name": "stderr",
     "output_type": "stream",
     "text": [
      "\n",
      " 80%|████████  | 12/15 [00:01<00:00,  9.18it/s]\u001b[A"
     ]
    },
    {
     "name": "stdout",
     "output_type": "stream",
     "text": [
      "Face the Nation:The 11th Hour:6.117328855596019\n",
      "Face the Nation:The Daily Show with Trevor Noah:6.268308249810536\n"
     ]
    },
    {
     "name": "stderr",
     "output_type": "stream",
     "text": [
      "\n",
      " 93%|█████████▎| 14/15 [00:01<00:00,  8.11it/s]\u001b[A"
     ]
    },
    {
     "name": "stdout",
     "output_type": "stream",
     "text": [
      "Face the Nation:The Late Show with Stephen Colbert:6.174776949641233\n"
     ]
    },
    {
     "name": "stderr",
     "output_type": "stream",
     "text": [
      "\n",
      "100%|██████████| 15/15 [00:01<00:00,  9.32it/s]\u001b[A\n",
      " 27%|██▋       | 4/15 [00:06<00:17,  1.63s/it]"
     ]
    },
    {
     "name": "stdout",
     "output_type": "stream",
     "text": [
      "Face the Nation:Tucker Carlson Tonight:6.172835590388605\n"
     ]
    },
    {
     "name": "stderr",
     "output_type": "stream",
     "text": [
      "\n",
      "  0%|          | 0/15 [00:00<?, ?it/s]\u001b[A\n",
      " 33%|███▎      | 5/15 [00:00<00:00, 33.26it/s]\u001b[A"
     ]
    },
    {
     "name": "stdout",
     "output_type": "stream",
     "text": [
      "Fox News:Fox News:6.109993843334379\n",
      "Fox News:Hannity:6.189977196245456\n",
      "Fox News:Hardball with Chris Matthews:6.100322006222233\n",
      "Fox News:LastWeekTonight:6.3268642098652395\n"
     ]
    },
    {
     "name": "stderr",
     "output_type": "stream",
     "text": [
      "\n",
      " 60%|██████    | 9/15 [00:00<00:00, 10.53it/s]\u001b[A"
     ]
    },
    {
     "name": "stdout",
     "output_type": "stream",
     "text": [
      "Fox News:Late Night with Seth Meyers:6.066768299147256\n"
     ]
    },
    {
     "name": "stderr",
     "output_type": "stream",
     "text": [
      "\n",
      " 73%|███████▎  | 11/15 [00:01<00:00,  8.32it/s]\u001b[A"
     ]
    },
    {
     "name": "stdout",
     "output_type": "stream",
     "text": [
      "Fox News:NBC News:6.202840569695053\n",
      "Fox News:Real Time with Bill Maher:6.277800341251318\n"
     ]
    },
    {
     "name": "stderr",
     "output_type": "stream",
     "text": [
      "\n",
      " 87%|████████▋ | 13/15 [00:01<00:00,  7.84it/s]\u001b[A"
     ]
    },
    {
     "name": "stdout",
     "output_type": "stream",
     "text": [
      "Fox News:The 11th Hour:6.066652295184708\n",
      "Fox News:The Daily Show with Trevor Noah:6.236842690354632\n"
     ]
    },
    {
     "name": "stderr",
     "output_type": "stream",
     "text": [
      "\n",
      " 93%|█████████▎| 14/15 [00:01<00:00,  7.28it/s]\u001b[A\n",
      "100%|██████████| 15/15 [00:01<00:00,  8.48it/s]\u001b[A\n",
      " 33%|███▎      | 5/15 [00:08<00:16,  1.68s/it]"
     ]
    },
    {
     "name": "stdout",
     "output_type": "stream",
     "text": [
      "Fox News:The Late Show with Stephen Colbert:6.150798960131536\n",
      "Fox News:Tucker Carlson Tonight:6.130502958024187\n"
     ]
    },
    {
     "name": "stderr",
     "output_type": "stream",
     "text": [
      "\n",
      "  0%|          | 0/15 [00:00<?, ?it/s]\u001b[A\n",
      " 40%|████      | 6/15 [00:00<00:00, 31.60it/s]\u001b[A"
     ]
    },
    {
     "name": "stdout",
     "output_type": "stream",
     "text": [
      "Hannity:Hannity:6.190097044546794\n",
      "Hannity:Hardball with Chris Matthews:6.154932829371362\n",
      "Hannity:LastWeekTonight:6.331090562295479\n",
      "Hannity:Late Night with Seth Meyers:6.111573170093029\n"
     ]
    },
    {
     "name": "stderr",
     "output_type": "stream",
     "text": [
      "\n",
      " 67%|██████▋   | 10/15 [00:00<00:00,  9.76it/s]\u001b[A"
     ]
    },
    {
     "name": "stdout",
     "output_type": "stream",
     "text": [
      "Hannity:NBC News:6.223618791532965\n",
      "Hannity:Real Time with Bill Maher:6.311944211970443\n"
     ]
    },
    {
     "name": "stderr",
     "output_type": "stream",
     "text": [
      "\n",
      " 80%|████████  | 12/15 [00:01<00:00,  8.59it/s]\u001b[A"
     ]
    },
    {
     "name": "stdout",
     "output_type": "stream",
     "text": [
      "Hannity:The 11th Hour:6.124372275363518\n",
      "Hannity:The Daily Show with Trevor Noah:6.266290392744368\n"
     ]
    },
    {
     "name": "stderr",
     "output_type": "stream",
     "text": [
      "\n",
      " 93%|█████████▎| 14/15 [00:01<00:00,  7.08it/s]\u001b[A\n",
      "100%|██████████| 15/15 [00:01<00:00,  8.31it/s]\u001b[A\n",
      " 40%|████      | 6/15 [00:10<00:15,  1.73s/it]"
     ]
    },
    {
     "name": "stdout",
     "output_type": "stream",
     "text": [
      "Hannity:The Late Show with Stephen Colbert:6.1837879928818955\n",
      "Hannity:Tucker Carlson Tonight:6.169378977559263\n"
     ]
    },
    {
     "name": "stderr",
     "output_type": "stream",
     "text": [
      "\n",
      "  0%|          | 0/15 [00:00<?, ?it/s]\u001b[A\n",
      " 47%|████▋     | 7/15 [00:00<00:00, 33.64it/s]\u001b[A"
     ]
    },
    {
     "name": "stdout",
     "output_type": "stream",
     "text": [
      "Hardball with Chris Matthews:Hardball with Chris Matthews:5.989572626779053\n",
      "Hardball with Chris Matthews:LastWeekTonight:6.329946024914842\n",
      "Hardball with Chris Matthews:Late Night with Seth Meyers:6.005685585585151\n"
     ]
    },
    {
     "name": "stderr",
     "output_type": "stream",
     "text": [
      "\n",
      " 73%|███████▎  | 11/15 [00:00<00:00, 10.20it/s]\u001b[A"
     ]
    },
    {
     "name": "stdout",
     "output_type": "stream",
     "text": [
      "Hardball with Chris Matthews:NBC News:6.181771467998242\n",
      "Hardball with Chris Matthews:Real Time with Bill Maher:6.238137732510912\n",
      "Hardball with Chris Matthews:The 11th Hour:6.009412947880339\n"
     ]
    },
    {
     "name": "stderr",
     "output_type": "stream",
     "text": [
      "\n",
      " 87%|████████▋ | 13/15 [00:01<00:00,  8.66it/s]\u001b[A"
     ]
    },
    {
     "name": "stdout",
     "output_type": "stream",
     "text": [
      "Hardball with Chris Matthews:The Daily Show with Trevor Noah:6.206652512063726\n"
     ]
    },
    {
     "name": "stderr",
     "output_type": "stream",
     "text": [
      "\n",
      "100%|██████████| 15/15 [00:01<00:00,  8.87it/s]\u001b[A\n",
      " 47%|████▋     | 7/15 [00:11<00:13,  1.72s/it]"
     ]
    },
    {
     "name": "stdout",
     "output_type": "stream",
     "text": [
      "Hardball with Chris Matthews:The Late Show with Stephen Colbert:6.107964266518964\n",
      "Hardball with Chris Matthews:Tucker Carlson Tonight:6.10003174718449\n"
     ]
    },
    {
     "name": "stderr",
     "output_type": "stream",
     "text": [
      "\n",
      "  0%|          | 0/15 [00:00<?, ?it/s]\u001b[A\n",
      " 60%|██████    | 9/15 [00:00<00:00, 50.77it/s]\u001b[A"
     ]
    },
    {
     "name": "stdout",
     "output_type": "stream",
     "text": [
      "LastWeekTonight:LastWeekTonight:5.965610164057077\n",
      "LastWeekTonight:Late Night with Seth Meyers:6.106066497247096\n",
      "LastWeekTonight:NBC News:6.153020485600537\n",
      "LastWeekTonight:Real Time with Bill Maher:6.3103949312379095\n",
      "LastWeekTonight:The 11th Hour:6.272723895890553\n",
      "LastWeekTonight:The Daily Show with Trevor Noah:6.186095643121395\n",
      "LastWeekTonight:The Late Show with Stephen Colbert:6.090688326501274\n"
     ]
    },
    {
     "name": "stderr",
     "output_type": "stream",
     "text": [
      "\n",
      "100%|██████████| 15/15 [00:00<00:00, 17.18it/s]\u001b[A\n",
      " 53%|█████▎    | 8/15 [00:12<00:10,  1.45s/it]"
     ]
    },
    {
     "name": "stdout",
     "output_type": "stream",
     "text": [
      "LastWeekTonight:Tucker Carlson Tonight:6.250244194345567\n"
     ]
    },
    {
     "name": "stderr",
     "output_type": "stream",
     "text": [
      "\n",
      "  0%|          | 0/15 [00:00<?, ?it/s]\u001b[A\n",
      " 60%|██████    | 9/15 [00:00<00:00, 63.68it/s]\u001b[A"
     ]
    },
    {
     "name": "stdout",
     "output_type": "stream",
     "text": [
      "Late Night with Seth Meyers:Late Night with Seth Meyers:5.852580516843409\n",
      "Late Night with Seth Meyers:NBC News:6.0534647528516485\n",
      "Late Night with Seth Meyers:Real Time with Bill Maher:6.133647815945153\n",
      "Late Night with Seth Meyers:The 11th Hour:5.982819357531834\n",
      "Late Night with Seth Meyers:The Daily Show with Trevor Noah:6.066113066897822\n",
      "Late Night with Seth Meyers:The Late Show with Stephen Colbert:5.955971758035118\n"
     ]
    },
    {
     "name": "stderr",
     "output_type": "stream",
     "text": [
      "100%|██████████| 15/15 [00:01<00:00, 13.34it/s]\n",
      " 60%|██████    | 9/15 [00:13<00:08,  1.35s/it]"
     ]
    },
    {
     "name": "stdout",
     "output_type": "stream",
     "text": [
      "Late Night with Seth Meyers:Tucker Carlson Tonight:6.037102015861383\n"
     ]
    },
    {
     "name": "stderr",
     "output_type": "stream",
     "text": [
      "\n",
      "  0%|          | 0/15 [00:00<?, ?it/s]\u001b[A\n",
      " 67%|██████▋   | 10/15 [00:00<00:00, 39.02it/s]\u001b[A"
     ]
    },
    {
     "name": "stdout",
     "output_type": "stream",
     "text": [
      "NBC News:NBC News:6.1002176756911535\n",
      "NBC News:Real Time with Bill Maher:6.253853005869702\n",
      "NBC News:The 11th Hour:6.146676253186102\n",
      "NBC News:The Daily Show with Trevor Noah:6.166812216461162\n"
     ]
    },
    {
     "name": "stderr",
     "output_type": "stream",
     "text": [
      "\n",
      " 93%|█████████▎| 14/15 [00:01<00:00, 10.43it/s]\u001b[A"
     ]
    },
    {
     "name": "stdout",
     "output_type": "stream",
     "text": [
      "NBC News:The Late Show with Stephen Colbert:6.084216852018901\n"
     ]
    },
    {
     "name": "stderr",
     "output_type": "stream",
     "text": [
      "100%|██████████| 15/15 [00:01<00:00, 11.19it/s]\n",
      " 67%|██████▋   | 10/15 [00:15<00:06,  1.35s/it]"
     ]
    },
    {
     "name": "stdout",
     "output_type": "stream",
     "text": [
      "NBC News:Tucker Carlson Tonight:6.1520449662193055\n"
     ]
    },
    {
     "name": "stderr",
     "output_type": "stream",
     "text": [
      "\n",
      "  0%|          | 0/15 [00:00<?, ?it/s]\u001b[A\n"
     ]
    },
    {
     "name": "stdout",
     "output_type": "stream",
     "text": [
      "Real Time with Bill Maher:Real Time with Bill Maher:6.318750176538892\n"
     ]
    },
    {
     "name": "stderr",
     "output_type": "stream",
     "text": [
      " 73%|███████▎  | 11/15 [00:00<00:00, 57.03it/s]\u001b[A"
     ]
    },
    {
     "name": "stdout",
     "output_type": "stream",
     "text": [
      "Real Time with Bill Maher:The 11th Hour:6.211579681939899\n",
      "Real Time with Bill Maher:The Daily Show with Trevor Noah:6.286455853512634\n"
     ]
    },
    {
     "name": "stderr",
     "output_type": "stream",
     "text": [
      "100%|██████████| 15/15 [00:00<00:00, 16.40it/s]\n",
      " 73%|███████▎  | 11/15 [00:16<00:04,  1.22s/it]"
     ]
    },
    {
     "name": "stdout",
     "output_type": "stream",
     "text": [
      "Real Time with Bill Maher:The Late Show with Stephen Colbert:6.194738461114224\n",
      "Real Time with Bill Maher:Tucker Carlson Tonight:6.242984349138239\n"
     ]
    },
    {
     "name": "stderr",
     "output_type": "stream",
     "text": [
      "\n",
      "  0%|          | 0/15 [00:00<?, ?it/s]\u001b[A"
     ]
    },
    {
     "name": "stdout",
     "output_type": "stream",
     "text": [
      "The 11th Hour:The 11th Hour:5.8971207297941675\n"
     ]
    },
    {
     "name": "stderr",
     "output_type": "stream",
     "text": [
      "\n",
      " 87%|████████▋ | 13/15 [00:00<00:00, 33.50it/s]\u001b[A"
     ]
    },
    {
     "name": "stdout",
     "output_type": "stream",
     "text": [
      "The 11th Hour:The Daily Show with Trevor Noah:6.177883661573091\n",
      "The 11th Hour:The Late Show with Stephen Colbert:6.070393504853004\n"
     ]
    },
    {
     "name": "stderr",
     "output_type": "stream",
     "text": [
      "100%|██████████| 15/15 [00:00<00:00, 24.13it/s]\n",
      " 80%|████████  | 12/15 [00:16<00:03,  1.04s/it]"
     ]
    },
    {
     "name": "stdout",
     "output_type": "stream",
     "text": [
      "The 11th Hour:Tucker Carlson Tonight:6.067526528277279\n"
     ]
    },
    {
     "name": "stderr",
     "output_type": "stream",
     "text": [
      "\n",
      "  0%|          | 0/15 [00:00<?, ?it/s]\u001b[A\n",
      " 87%|████████▋ | 13/15 [00:00<00:00, 57.62it/s]\u001b[A"
     ]
    },
    {
     "name": "stdout",
     "output_type": "stream",
     "text": [
      "The Daily Show with Trevor Noah:The Daily Show with Trevor Noah:6.162680646239894\n"
     ]
    },
    {
     "name": "stderr",
     "output_type": "stream",
     "text": [
      "100%|██████████| 15/15 [00:00<00:00, 23.33it/s]\n",
      " 87%|████████▋ | 13/15 [00:17<00:01,  1.09it/s]"
     ]
    },
    {
     "name": "stdout",
     "output_type": "stream",
     "text": [
      "The Daily Show with Trevor Noah:The Late Show with Stephen Colbert:6.104607541319869\n",
      "The Daily Show with Trevor Noah:Tucker Carlson Tonight:6.19589153073852\n"
     ]
    },
    {
     "name": "stderr",
     "output_type": "stream",
     "text": [
      "\n",
      "  0%|          | 0/15 [00:00<?, ?it/s]\u001b[A\n",
      "100%|██████████| 15/15 [00:00<00:00, 36.29it/s]\u001b[A\n",
      " 93%|█████████▎| 14/15 [00:17<00:00,  1.30it/s]"
     ]
    },
    {
     "name": "stdout",
     "output_type": "stream",
     "text": [
      "The Late Show with Stephen Colbert:The Late Show with Stephen Colbert:5.974502913617009\n",
      "The Late Show with Stephen Colbert:Tucker Carlson Tonight:6.111457572700038\n"
     ]
    },
    {
     "name": "stderr",
     "output_type": "stream",
     "text": [
      "\n",
      "  0%|          | 0/15 [00:00<?, ?it/s]\u001b[A\n",
      "100%|██████████| 15/15 [00:00<00:00, 48.22it/s]\u001b[A\n",
      "100%|██████████| 15/15 [00:18<00:00,  1.21s/it]"
     ]
    },
    {
     "name": "stdout",
     "output_type": "stream",
     "text": [
      "Tucker Carlson Tonight:Tucker Carlson Tonight:6.06691014805205\n"
     ]
    },
    {
     "name": "stderr",
     "output_type": "stream",
     "text": [
      "\n"
     ]
    }
   ],
   "source": [
    "grouped_data = selectedshows.groupby(\"showName\")\n",
    "dist = torch.nn.PairwiseDistance()\n",
    "resultstopic: typing.Dict[typing.Tuple[str, str], float] = {}\n",
    "for model_1, c_1 in tqdm.tqdm(grouped_data['claim_optlow_MXBAI'], total=grouped_data.ngroups):\n",
    "    for model_2, c_2 in tqdm.tqdm(grouped_data['claim_optlow_MXBAI'], total=grouped_data.ngroups):\n",
    "\n",
    "        if (\n",
    "            (model_1, model_2) in resultstopic.keys() or \n",
    "            (model_2, model_1) in resultstopic.keys()\n",
    "        ):\n",
    "            continue\n",
    "\n",
    "        res = sum([\n",
    "            sum(dist(\n",
    "                torch.tensor(np.array(v_1)), \n",
    "                torch.tensor(np.array(c_2.tolist()))\n",
    "                )) / len(c_2)\n",
    "            for v_1 in c_1\n",
    "        ]) / len(c_1)\n",
    "\n",
    "        resultstopic[(model_1, model_2)] = res\n",
    "\n",
    "        print(f'{model_1}:{model_2}:{res.item()}')"
   ]
  },
  {
   "cell_type": "code",
   "execution_count": 19,
   "metadata": {},
   "outputs": [],
   "source": [
    "#select the rows in the dataset that have the a videoTitle with more than 20 comments:   \n",
    "selectedvideos = dataset_claim_embeds[dataset_claim_embeds['videoTitle'].isin(dataset_claim_embeds['videoTitle'].value_counts()[dataset_claim_embeds['videoTitle'].value_counts() >= 20].index)]"
   ]
  },
  {
   "cell_type": "code",
   "execution_count": 20,
   "metadata": {},
   "outputs": [
    {
     "data": {
      "text/plain": [
       "videoTitle\n",
       "Anderson Cooper lays out questions surrounding Mueller report                        23\n",
       "'Hannity' panel on the important questions Mueller needs to answer                   23\n",
       "Sanders: Bolton is a guy who likes war                                               22\n",
       "AOC's chief of staff resigns amid multiple controversies                             20\n",
       "'Duck Dynasty' stars on dangers of the 'liberal left'                                20\n",
       "Hannity: Trump puts Iran on notice after drone shot down                             20\n",
       "Monologue: Trump's \"Got Away with Treason\" Tour | Real Time with Bill Maher (HBO)    20\n",
       "Teacher who said she was fired over topless selfie says she 'lost everything'        20\n",
       "Trump talks race, football, foreign policy and more ahead of the Super Bowl          20\n",
       "\"Haley: Airstrikes \"\"crippled\"\" Syria’s chemical weapons program  \"                  20\n",
       "John Berman: Is it even news when the President lies?                                20\n",
       "Trump: US, France and UK launch strikes on Syria                                     20\n",
       "Source: Trump attended 2015 hush money meeting                                       20\n",
       "Name: count, dtype: int64"
      ]
     },
     "execution_count": 20,
     "metadata": {},
     "output_type": "execute_result"
    }
   ],
   "source": [
    "selectedvideos.videoTitle.value_counts()"
   ]
  },
  {
   "cell_type": "code",
   "execution_count": 21,
   "metadata": {},
   "outputs": [
    {
     "name": "stderr",
     "output_type": "stream",
     "text": [
      "  0%|          | 0/13 [00:00<?, ?it/s]\n",
      "100%|██████████| 13/13 [00:00<00:00, 271.79it/s]\n"
     ]
    },
    {
     "name": "stdout",
     "output_type": "stream",
     "text": [
      "\"Haley: Airstrikes \"\"crippled\"\" Syria’s chemical weapons program  \":\"Haley: Airstrikes \"\"crippled\"\" Syria’s chemical weapons program  \":5.507587212302954\n",
      "\"Haley: Airstrikes \"\"crippled\"\" Syria’s chemical weapons program  \":'Duck Dynasty' stars on dangers of the 'liberal left':6.6593553970305255\n",
      "\"Haley: Airstrikes \"\"crippled\"\" Syria’s chemical weapons program  \":'Hannity' panel on the important questions Mueller needs to answer:6.30640356431548\n",
      "\"Haley: Airstrikes \"\"crippled\"\" Syria’s chemical weapons program  \":AOC's chief of staff resigns amid multiple controversies:5.990400713169619\n",
      "\"Haley: Airstrikes \"\"crippled\"\" Syria’s chemical weapons program  \":Anderson Cooper lays out questions surrounding Mueller report:5.889747964556231\n",
      "\"Haley: Airstrikes \"\"crippled\"\" Syria’s chemical weapons program  \":Hannity: Trump puts Iran on notice after drone shot down:6.2360586797670745\n",
      "\"Haley: Airstrikes \"\"crippled\"\" Syria’s chemical weapons program  \":John Berman: Is it even news when the President lies?:5.903812924461998\n",
      "\"Haley: Airstrikes \"\"crippled\"\" Syria’s chemical weapons program  \":Monologue: Trump's \"Got Away with Treason\" Tour | Real Time with Bill Maher (HBO):6.089998153277586\n",
      "\"Haley: Airstrikes \"\"crippled\"\" Syria’s chemical weapons program  \":Sanders: Bolton is a guy who likes war:6.289066476921117\n",
      "\"Haley: Airstrikes \"\"crippled\"\" Syria’s chemical weapons program  \":Source: Trump attended 2015 hush money meeting:6.145571858032062\n",
      "\"Haley: Airstrikes \"\"crippled\"\" Syria’s chemical weapons program  \":Teacher who said she was fired over topless selfie says she 'lost everything':6.618391454026311\n",
      "\"Haley: Airstrikes \"\"crippled\"\" Syria’s chemical weapons program  \":Trump talks race, football, foreign policy and more ahead of the Super Bowl:6.066078695873922\n",
      "\"Haley: Airstrikes \"\"crippled\"\" Syria’s chemical weapons program  \":Trump: US, France and UK launch strikes on Syria:5.963410905984562\n"
     ]
    },
    {
     "name": "stderr",
     "output_type": "stream",
     "text": [
      "\n",
      "100%|██████████| 13/13 [00:00<00:00, 287.06it/s]\n"
     ]
    },
    {
     "name": "stdout",
     "output_type": "stream",
     "text": [
      "'Duck Dynasty' stars on dangers of the 'liberal left':'Duck Dynasty' stars on dangers of the 'liberal left':6.2181070314796925\n",
      "'Duck Dynasty' stars on dangers of the 'liberal left':'Hannity' panel on the important questions Mueller needs to answer:6.624843075544652\n",
      "'Duck Dynasty' stars on dangers of the 'liberal left':AOC's chief of staff resigns amid multiple controversies:6.418154471733319\n",
      "'Duck Dynasty' stars on dangers of the 'liberal left':Anderson Cooper lays out questions surrounding Mueller report:6.280648226672438\n",
      "'Duck Dynasty' stars on dangers of the 'liberal left':Hannity: Trump puts Iran on notice after drone shot down:6.882039431676444\n",
      "'Duck Dynasty' stars on dangers of the 'liberal left':John Berman: Is it even news when the President lies?:6.313817184930936\n",
      "'Duck Dynasty' stars on dangers of the 'liberal left':Monologue: Trump's \"Got Away with Treason\" Tour | Real Time with Bill Maher (HBO):6.369269571164606\n",
      "'Duck Dynasty' stars on dangers of the 'liberal left':Sanders: Bolton is a guy who likes war:6.72779434476436\n",
      "'Duck Dynasty' stars on dangers of the 'liberal left':Source: Trump attended 2015 hush money meeting:6.495939793707892\n",
      "'Duck Dynasty' stars on dangers of the 'liberal left':Teacher who said she was fired over topless selfie says she 'lost everything':6.678639913265549\n",
      "'Duck Dynasty' stars on dangers of the 'liberal left':Trump talks race, football, foreign policy and more ahead of the Super Bowl:6.408766407228431\n",
      "'Duck Dynasty' stars on dangers of the 'liberal left':Trump: US, France and UK launch strikes on Syria:6.168783885005583\n"
     ]
    },
    {
     "name": "stderr",
     "output_type": "stream",
     "text": [
      "\n",
      "100%|██████████| 13/13 [00:00<00:00, 283.66it/s]\n",
      " 23%|██▎       | 3/13 [00:00<00:00, 20.39it/s]"
     ]
    },
    {
     "name": "stdout",
     "output_type": "stream",
     "text": [
      "'Hannity' panel on the important questions Mueller needs to answer:'Hannity' panel on the important questions Mueller needs to answer:5.9050547989597115\n",
      "'Hannity' panel on the important questions Mueller needs to answer:AOC's chief of staff resigns amid multiple controversies:5.921784692324922\n",
      "'Hannity' panel on the important questions Mueller needs to answer:Anderson Cooper lays out questions surrounding Mueller report:5.784096417744665\n",
      "'Hannity' panel on the important questions Mueller needs to answer:Hannity: Trump puts Iran on notice after drone shot down:6.385437385710106\n",
      "'Hannity' panel on the important questions Mueller needs to answer:John Berman: Is it even news when the President lies?:5.694389962015134\n",
      "'Hannity' panel on the important questions Mueller needs to answer:Monologue: Trump's \"Got Away with Treason\" Tour | Real Time with Bill Maher (HBO):5.891511636101881\n",
      "'Hannity' panel on the important questions Mueller needs to answer:Sanders: Bolton is a guy who likes war:6.314234083196721\n",
      "'Hannity' panel on the important questions Mueller needs to answer:Source: Trump attended 2015 hush money meeting:5.961686762087014\n",
      "'Hannity' panel on the important questions Mueller needs to answer:Teacher who said she was fired over topless selfie says she 'lost everything':6.559014367396152\n",
      "'Hannity' panel on the important questions Mueller needs to answer:Trump talks race, football, foreign policy and more ahead of the Super Bowl:6.001490823327117\n",
      "'Hannity' panel on the important questions Mueller needs to answer:Trump: US, France and UK launch strikes on Syria:6.212110847399934\n"
     ]
    },
    {
     "name": "stderr",
     "output_type": "stream",
     "text": [
      "\n",
      "100%|██████████| 13/13 [00:00<00:00, 363.83it/s]\n"
     ]
    },
    {
     "name": "stdout",
     "output_type": "stream",
     "text": [
      "AOC's chief of staff resigns amid multiple controversies:AOC's chief of staff resigns amid multiple controversies:5.3845631436046\n",
      "AOC's chief of staff resigns amid multiple controversies:Anderson Cooper lays out questions surrounding Mueller report:5.592954584086895\n",
      "AOC's chief of staff resigns amid multiple controversies:Hannity: Trump puts Iran on notice after drone shot down:6.126327857577474\n",
      "AOC's chief of staff resigns amid multiple controversies:John Berman: Is it even news when the President lies?:5.43802816319102\n",
      "AOC's chief of staff resigns amid multiple controversies:Monologue: Trump's \"Got Away with Treason\" Tour | Real Time with Bill Maher (HBO):5.661561195448241\n",
      "AOC's chief of staff resigns amid multiple controversies:Sanders: Bolton is a guy who likes war:6.036138703054792\n",
      "AOC's chief of staff resigns amid multiple controversies:Source: Trump attended 2015 hush money meeting:5.7045861918613205\n",
      "AOC's chief of staff resigns amid multiple controversies:Teacher who said she was fired over topless selfie says she 'lost everything':6.372884983434583\n",
      "AOC's chief of staff resigns amid multiple controversies:Trump talks race, football, foreign policy and more ahead of the Super Bowl:5.757209947402467\n",
      "AOC's chief of staff resigns amid multiple controversies:Trump: US, France and UK launch strikes on Syria:5.957987003080001\n"
     ]
    },
    {
     "name": "stderr",
     "output_type": "stream",
     "text": [
      "\n",
      "  0%|          | 0/13 [00:00<?, ?it/s]\u001b[A"
     ]
    },
    {
     "name": "stdout",
     "output_type": "stream",
     "text": [
      "Anderson Cooper lays out questions surrounding Mueller report:Anderson Cooper lays out questions surrounding Mueller report:5.0361208058139475\n",
      "Anderson Cooper lays out questions surrounding Mueller report:Hannity: Trump puts Iran on notice after drone shot down:6.062048666946851\n",
      "Anderson Cooper lays out questions surrounding Mueller report:John Berman: Is it even news when the President lies?:5.165187785587677\n",
      "Anderson Cooper lays out questions surrounding Mueller report:Monologue: Trump's \"Got Away with Treason\" Tour | Real Time with Bill Maher (HBO):5.517039234469161\n"
     ]
    },
    {
     "name": "stderr",
     "output_type": "stream",
     "text": [
      "100%|██████████| 13/13 [00:00<00:00, 340.92it/s]\n"
     ]
    },
    {
     "name": "stdout",
     "output_type": "stream",
     "text": [
      "Anderson Cooper lays out questions surrounding Mueller report:Sanders: Bolton is a guy who likes war:5.969532567882393\n",
      "Anderson Cooper lays out questions surrounding Mueller report:Source: Trump attended 2015 hush money meeting:5.5436449620044534\n",
      "Anderson Cooper lays out questions surrounding Mueller report:Teacher who said she was fired over topless selfie says she 'lost everything':6.184007964449741\n",
      "Anderson Cooper lays out questions surrounding Mueller report:Trump talks race, football, foreign policy and more ahead of the Super Bowl:5.547957497724658\n",
      "Anderson Cooper lays out questions surrounding Mueller report:Trump: US, France and UK launch strikes on Syria:5.7750179316480486\n"
     ]
    },
    {
     "name": "stderr",
     "output_type": "stream",
     "text": [
      "\n",
      "  0%|          | 0/13 [00:00<?, ?it/s]\u001b[A"
     ]
    },
    {
     "name": "stdout",
     "output_type": "stream",
     "text": [
      "Hannity: Trump puts Iran on notice after drone shot down:Hannity: Trump puts Iran on notice after drone shot down:6.044318600383173\n",
      "Hannity: Trump puts Iran on notice after drone shot down:John Berman: Is it even news when the President lies?:5.8998398003745445\n",
      "Hannity: Trump puts Iran on notice after drone shot down:Monologue: Trump's \"Got Away with Treason\" Tour | Real Time with Bill Maher (HBO):6.14553678192052\n",
      "Hannity: Trump puts Iran on notice after drone shot down:Sanders: Bolton is a guy who likes war:6.34613831502392\n",
      "Hannity: Trump puts Iran on notice after drone shot down:Source: Trump attended 2015 hush money meeting:6.211632376931067\n",
      "Hannity: Trump puts Iran on notice after drone shot down:Teacher who said she was fired over topless selfie says she 'lost everything':6.945918808004881\n",
      "Hannity: Trump puts Iran on notice after drone shot down:Trump talks race, football, foreign policy and more ahead of the Super Bowl:6.163429775209616\n"
     ]
    },
    {
     "name": "stderr",
     "output_type": "stream",
     "text": [
      "100%|██████████| 13/13 [00:00<00:00, 444.03it/s]\n",
      " 46%|████▌     | 6/13 [00:00<00:00, 23.81it/s]"
     ]
    },
    {
     "name": "stdout",
     "output_type": "stream",
     "text": [
      "Hannity: Trump puts Iran on notice after drone shot down:Trump: US, France and UK launch strikes on Syria:6.443570562407369\n"
     ]
    },
    {
     "name": "stderr",
     "output_type": "stream",
     "text": [
      "\n",
      "100%|██████████| 13/13 [00:00<00:00, 520.36it/s]\n"
     ]
    },
    {
     "name": "stdout",
     "output_type": "stream",
     "text": [
      "John Berman: Is it even news when the President lies?:John Berman: Is it even news when the President lies?:4.684106252965498\n",
      "John Berman: Is it even news when the President lies?:Monologue: Trump's \"Got Away with Treason\" Tour | Real Time with Bill Maher (HBO):5.33071456616141\n",
      "John Berman: Is it even news when the President lies?:Sanders: Bolton is a guy who likes war:5.845374036752955\n",
      "John Berman: Is it even news when the President lies?:Source: Trump attended 2015 hush money meeting:5.369528692549277\n",
      "John Berman: Is it even news when the President lies?:Teacher who said she was fired over topless selfie says she 'lost everything':6.255946394116749\n",
      "John Berman: Is it even news when the President lies?:Trump talks race, football, foreign policy and more ahead of the Super Bowl:5.435187812538009\n",
      "John Berman: Is it even news when the President lies?:Trump: US, France and UK launch strikes on Syria:5.80540257832684\n"
     ]
    },
    {
     "name": "stderr",
     "output_type": "stream",
     "text": [
      "\n",
      "  0%|          | 0/13 [00:00<?, ?it/s]\u001b[A"
     ]
    },
    {
     "name": "stdout",
     "output_type": "stream",
     "text": [
      "Monologue: Trump's \"Got Away with Treason\" Tour | Real Time with Bill Maher (HBO):Monologue: Trump's \"Got Away with Treason\" Tour | Real Time with Bill Maher (HBO):5.278842591857321\n",
      "Monologue: Trump's \"Got Away with Treason\" Tour | Real Time with Bill Maher (HBO):Sanders: Bolton is a guy who likes war:6.018878696982894\n",
      "Monologue: Trump's \"Got Away with Treason\" Tour | Real Time with Bill Maher (HBO):Source: Trump attended 2015 hush money meeting:5.704677591790893\n",
      "Monologue: Trump's \"Got Away with Treason\" Tour | Real Time with Bill Maher (HBO):Teacher who said she was fired over topless selfie says she 'lost everything':6.33609570632735\n"
     ]
    },
    {
     "name": "stderr",
     "output_type": "stream",
     "text": [
      "100%|██████████| 13/13 [00:00<00:00, 579.33it/s]\n"
     ]
    },
    {
     "name": "stdout",
     "output_type": "stream",
     "text": [
      "Monologue: Trump's \"Got Away with Treason\" Tour | Real Time with Bill Maher (HBO):Trump talks race, football, foreign policy and more ahead of the Super Bowl:5.600608716055669\n",
      "Monologue: Trump's \"Got Away with Treason\" Tour | Real Time with Bill Maher (HBO):Trump: US, France and UK launch strikes on Syria:5.814774626063519\n"
     ]
    },
    {
     "name": "stderr",
     "output_type": "stream",
     "text": [
      "\n",
      "100%|██████████| 13/13 [00:00<00:00, 658.44it/s]\n"
     ]
    },
    {
     "name": "stdout",
     "output_type": "stream",
     "text": [
      "Sanders: Bolton is a guy who likes war:Sanders: Bolton is a guy who likes war:5.948851404228827\n",
      "Sanders: Bolton is a guy who likes war:Source: Trump attended 2015 hush money meeting:6.121279288939343\n",
      "Sanders: Bolton is a guy who likes war:Teacher who said she was fired over topless selfie says she 'lost everything':6.769637777534063\n",
      "Sanders: Bolton is a guy who likes war:Trump talks race, football, foreign policy and more ahead of the Super Bowl:6.0803442136291315\n",
      "Sanders: Bolton is a guy who likes war:Trump: US, France and UK launch strikes on Syria:6.238429399471386\n"
     ]
    },
    {
     "name": "stderr",
     "output_type": "stream",
     "text": [
      "\n",
      "100%|██████████| 13/13 [00:00<00:00, 884.63it/s]\n"
     ]
    },
    {
     "name": "stdout",
     "output_type": "stream",
     "text": [
      "Source: Trump attended 2015 hush money meeting:Source: Trump attended 2015 hush money meeting:5.481919618026874\n",
      "Source: Trump attended 2015 hush money meeting:Teacher who said she was fired over topless selfie says she 'lost everything':6.399491769895586\n",
      "Source: Trump attended 2015 hush money meeting:Trump talks race, football, foreign policy and more ahead of the Super Bowl:5.81730271318534\n",
      "Source: Trump attended 2015 hush money meeting:Trump: US, France and UK launch strikes on Syria:6.059340417205097\n"
     ]
    },
    {
     "name": "stderr",
     "output_type": "stream",
     "text": [
      "\n",
      "100%|██████████| 13/13 [00:00<00:00, 1148.54it/s]\n",
      " 85%|████████▍ | 11/13 [00:00<00:00, 33.59it/s]"
     ]
    },
    {
     "name": "stdout",
     "output_type": "stream",
     "text": [
      "Teacher who said she was fired over topless selfie says she 'lost everything':Teacher who said she was fired over topless selfie says she 'lost everything':5.73652882795008\n",
      "Teacher who said she was fired over topless selfie says she 'lost everything':Trump talks race, football, foreign policy and more ahead of the Super Bowl:6.367238435455738\n",
      "Teacher who said she was fired over topless selfie says she 'lost everything':Trump: US, France and UK launch strikes on Syria:6.164541887853593\n"
     ]
    },
    {
     "name": "stderr",
     "output_type": "stream",
     "text": [
      "\n",
      "100%|██████████| 13/13 [00:00<00:00, 1710.99it/s]\n"
     ]
    },
    {
     "name": "stdout",
     "output_type": "stream",
     "text": [
      "Trump talks race, football, foreign policy and more ahead of the Super Bowl:Trump talks race, football, foreign policy and more ahead of the Super Bowl:5.363053949546176\n",
      "Trump talks race, football, foreign policy and more ahead of the Super Bowl:Trump: US, France and UK launch strikes on Syria:5.856155241849135\n"
     ]
    },
    {
     "name": "stderr",
     "output_type": "stream",
     "text": [
      "\n",
      "100%|██████████| 13/13 [00:00<00:00, 3185.30it/s]\n",
      "100%|██████████| 13/13 [00:00<00:00, 34.20it/s]"
     ]
    },
    {
     "name": "stdout",
     "output_type": "stream",
     "text": [
      "Trump: US, France and UK launch strikes on Syria:Trump: US, France and UK launch strikes on Syria:5.302273179853221\n"
     ]
    },
    {
     "name": "stderr",
     "output_type": "stream",
     "text": [
      "\n"
     ]
    }
   ],
   "source": [
    "grouped_data = selectedvideos.groupby(\"videoTitle\")\n",
    "dist = torch.nn.PairwiseDistance()\n",
    "resultstopic: typing.Dict[typing.Tuple[str, str], float] = {}\n",
    "for model_1, c_1 in tqdm.tqdm(grouped_data['claim_optlow_MXBAI'], total=grouped_data.ngroups):\n",
    "    for model_2, c_2 in tqdm.tqdm(grouped_data['claim_optlow_MXBAI'], total=grouped_data.ngroups):\n",
    "\n",
    "        if (\n",
    "            (model_1, model_2) in resultstopic.keys() or \n",
    "            (model_2, model_1) in resultstopic.keys()\n",
    "        ):\n",
    "            continue\n",
    "\n",
    "        res = sum([\n",
    "            sum(dist(\n",
    "                torch.tensor(np.array(v_1)), \n",
    "                torch.tensor(np.array(c_2.tolist()))\n",
    "                )) / len(c_2)\n",
    "            for v_1 in c_1\n",
    "        ]) / len(c_1)\n",
    "\n",
    "        resultstopic[(model_1, model_2)] = res\n",
    "\n",
    "        print(f'{model_1}:{model_2}:{res.item()}')"
   ]
  },
  {
   "cell_type": "code",
   "execution_count": 24,
   "metadata": {},
   "outputs": [],
   "source": [
    "#so what do the most and least diverse video threads look like?\n",
    "#lowest: John Berman: Is it even news when the President lies?:John Berman: Is it even news when the President lies?:4.684106252965498\n",
    "#highest: 'Duck Dynasty' stars on dangers of the 'liberal left':'Duck Dynasty' stars on dangers of the 'liberal left':6.2181070314796925"
   ]
  },
  {
   "cell_type": "code",
   "execution_count": 27,
   "metadata": {},
   "outputs": [
    {
     "data": {
      "text/plain": [
       "['Chuck the schmuck Schumer, a creep all day long, news all day long!!! And Nancy pa crazy,!! She looks like the Crypt Keeper!!',\n",
       " \"That's all TRUMP DOES, is LIE!\",\n",
       " \"@Trump's a pathological liar Prove me wrong < Mmmmm. Are you stupid because you're liberal or are you liberal because you're stupid?\",\n",
       " 'So you want to talk about lies?? LMAO. \"OOOK\" you attack his poor grasp of communication and exploit it. Meanwhile causing ACTUAL divide and real problems with BIG lies.... Trying to get us to care and take notice about some pointless Symantecs. You created more hate and violence in leftist fenatisicm by insisting he is some evil racist, than he ever did trying do promote boarder security.... Hes a bit of a fuk up ih a few ways for sure....but nothing on the mass scale of manipulation and social division that you and the rest of the George Orwell, erm i mean Soros media, have brought to fruition.',\n",
       " 'Is it News if CNN reports it???',\n",
       " \"@David tinch No. Like I said in three original comment.  CNN and their fascist followers call them lies.  Normal people understand he exaggerates to make a point.  Like everybody does in the real world.  You lost.  Get over it.  Or don't.  Whatever.\",\n",
       " 'First Unindited felon president in history a new record',\n",
       " \"THIS IS FAKE NEWS.\\nTHERE WERE THOUSANDS OF PEOPLE IN LONDON WHO MARCHED IN HIS FAVOUR. THERE WERE ONLY SMALL GROUPS PROTESTING WHO WERE ORGANIZED.\\nTHE CAMERAS ZOOMED IN TO MAKE IT LOOK BIGGER THAN IT ACTUALLY WAS.\\nONE BUSINESSMAN EVEN CHANGED HIS PUB'S NAME TO TRUMPS ARMS.\\nCNN IS WELL KNOWN TO BRING FAKE ANTI TRUMP PROPAGANDA.\\nTRUMP RULES\",\n",
       " 'I find it funny that CNN is calling some a liar. Trump said that he only saw a small crowd of protesters. Which could be true because the British Royalty has been keeping Trump way from the protest. CNN doesn’t show video of the supporters',\n",
       " \"B Bhima: You do know better than to say that. I know you do, and you know you do. CNN doesn't lie at anything like the pace, or with anything near the contempt, that Trump does. \\nYou do know this. \\nYou're disgusting. Anyone who supports Trump is a disgusting subhuman. There's simply no way to objectively defend Trump. It's impossible to do it. He's a menace-- a sociopath. \\nYou really should consider yourself.\",\n",
       " 'Trump is the American version of Wallace Souza',\n",
       " '5000 people protested... pathetic',\n",
       " \"James Dyer No it wasn't. Don't lie.\",\n",
       " 'Care to give some examples?',\n",
       " 'Yes he had lied 10000+times. Boy',\n",
       " \"Wow Memo, nobody cares about CNN? That's been a fact since the witch hunt faceplanted. The right wing comes here during commercials!!!!! You whining asshats are extra laughs after we get real news during PRIME TIME!!!!!!! How's your little circle jerk politiclub doing these days? Still slaying the tweenies online? ROFFLMFAO@UUUU!\",\n",
       " 'CNN never lies. LOL. His visit to the UK was a success. The protest against him was not huge, just people who do not work.',\n",
       " \"YOU WANT TO TALK ABOUT LIARS...?\\xa0\\xa0\\xa0 CNN IS THE BIGGEST LYING ASS PROPAGANDA\\xa0 NETWORK IN THIS COUNTRY.... CNN WILL CEASE TO EXIST SOON AFTER WILLIAM H BARR KO'S HILLARY CLINTON AND HER COMEY CABAL...BHAHAHAHAHAHAHAHAHAHAHAHAHAHAHAHAHAHA\\xa0\\xa0 ....BHAHAHAHAHAHAHAHAHAHA\\xa0\\xa0 BHAHAHAHAHAHAHAHAHA\",\n",
       " 'Fuck you cnn soon you will be gone.',\n",
       " 'Lies lies lies are from cnn ???']"
      ]
     },
     "execution_count": 27,
     "metadata": {},
     "output_type": "execute_result"
    }
   ],
   "source": [
    "selectedvideos.loc[selectedvideos.videoTitle=='John Berman: Is it even news when the President lies?', :]['commentText'].to_list()"
   ]
  },
  {
   "cell_type": "code",
   "execution_count": 33,
   "metadata": {},
   "outputs": [
    {
     "data": {
      "text/plain": [
       "['Duck Dynasty?! Seriously, Hannity? No wonder youâ€™re Trumpy the unexonerated clownâ€™s concubine. You have such a low bar. \\nðŸ¤£ðŸ¤£ What a moron.',\n",
       " 'religion and the belief in \"god\" is whats wrong with this country',\n",
       " 'Knowing that there are still God fearing men (and women) like this out there is comforting. There is still hope.',\n",
       " 'OMG!! So true! So refreshing! ❤ Jesus!',\n",
       " 'I just love Phil. He tells ya like it is.',\n",
       " 'Mike Jameson Oh there is a God the one true God and you will be held accountable when your time comes. Seek Jesus he is waiting for you with open arms I love you my friend God Bless you.',\n",
       " \"Love the Robertsons. I miss them. It's like not seeing a family member for a really long time.\",\n",
       " 'Okay but am I the only one that thinks Al looks like Alex Jones.',\n",
       " 'I can tolerate Ignorance.\\nI can tolerate Arrogance.\\nBut put both together and you have a typical Democrat.\\nThey seem to be suffering from a Mental Illness called Cognitive Dissonance.\\nThat means they simply cannot accept new ideas that question their perspective of reality.\\nThe only cure is to \"grow some balls\". \\nHowever, that\\'s not likely do to the nature of this mental illness.\\n\\nMany of these people become very angry when presented with facts that question their view of reality.\\nSome are clearly a danger to others and should be locked up for our protection.\\nPeople who support our elected President are being physically attacked. by these mentally ill individuals.\\n\\nI believe we need to expose this Mental Illness because it is becoming a big problem and violates our First Amendment Right to Free Speech.\\n\\nSo, now we know exactly what we are dealing with and have identified the specific mental illness and it\\'s symptoms.\\nThe cure, is something we haven\\'t defined yet. If there is a cure.',\n",
       " 'Because it disclaims their beliefs.',\n",
       " \"@John Hasse \\n\\nWe are both John's... Are we the same people?\",\n",
       " 'Have mental health counseling for all students or just home school, those are simple ways to take care of mass shootings.',\n",
       " \"@Deb Well Grace by faith Deb. It's all about love. John 3:16. For God so Loved the world, that he gave his only begotten son.All who believe in him will have everlasting life. Romans 8:28. That in all things God works for the good of those that Love him. Deb, My pastor once said, Jesus Loves you, and I'm trying my best, but you all sure make it hard sometimes. May the peace of our Lord and Savior, Jesus Christ, be with you.\",\n",
       " \"@Deb Well Grace by faith. Yes we are all sinners, from the moment we are born. It is our nature to be sinful. By the grace(receiving what is unmerited) of God by faith and belief in His son, Jesus Christ, our Lord and Savior, we receive God's mercy(not receiving what is merited). Grace by faith. Receiving God's grace through faith in His son. This, of course, does not give us a blank check to do whatever we want. We must always try to grow in our faith, by living righteously, helping and loving others, abiding by the 10 commandants, and as what Jesus told us to do; live by the golden rule= Do unto others as you would have them do unto you. It is tough, at least for me. Many times, especially at work, I must stop a moment, take a deep breath, say to myself(or aloud), Jesus I trust you in all things, I pray for guidance and direction to do and say what pleases our Father, Your will be done, not mine. I fail daily and consistently. I pray for forgiveness and repent of my many sins to our heavenly Father through Jesus Christ. Grace through faith. Peace Deb.\",\n",
       " \"Keri Rae, 'true' Americans don't commit treason or cheat on their income tax.\",\n",
       " 'My brothers',\n",
       " 'Wow, such old school thinking here. It’s complete moronic!!!',\n",
       " 'God bless you guys.  Keep up the good work and keep spreading the word.',\n",
       " 'And testosterone',\n",
       " \"People don't realize how smart Phil is.\"]"
      ]
     },
     "execution_count": 33,
     "metadata": {},
     "output_type": "execute_result"
    }
   ],
   "source": [
    "selectedvideos.loc[selectedvideos.videoTitle==\"'Duck Dynasty' stars on dangers of the 'liberal left'\", :]['commentText'].to_list()"
   ]
  },
  {
   "cell_type": "code",
   "execution_count": null,
   "metadata": {},
   "outputs": [],
   "source": [
    "#I can't see any difference in the comments, except for the large degree of arguing and uncivil speech in both threads, no clear explanation stands out why the diversity in the embeddings is so different.....\n"
   ]
  }
 ],
 "metadata": {
  "kernelspec": {
   "display_name": "llmdiv",
   "language": "python",
   "name": "python3"
  },
  "language_info": {
   "codemirror_mode": {
    "name": "ipython",
    "version": 3
   },
   "file_extension": ".py",
   "mimetype": "text/x-python",
   "name": "python",
   "nbconvert_exporter": "python",
   "pygments_lexer": "ipython3",
   "version": "3.12.10"
  }
 },
 "nbformat": 4,
 "nbformat_minor": 4
}
