{
 "cells": [
  {
   "cell_type": "code",
   "execution_count": 1,
   "metadata": {},
   "outputs": [],
   "source": [
    "import typing\n",
    "\n",
    "import pandas as pd\n",
    "import json\n",
    "from zipfile import ZipFile\n",
    "from itertools import chain\n",
    "import config\n",
    "import src\n",
    "import logging\n",
    "import tqdm\n",
    "import torch\n",
    "import numpy as np\n",
    "import requests"
   ]
  },
  {
   "cell_type": "code",
   "execution_count": 2,
   "metadata": {},
   "outputs": [],
   "source": [
    "CFG = config.Config()"
   ]
  },
  {
   "cell_type": "code",
   "execution_count": 3,
   "metadata": {},
   "outputs": [],
   "source": [
    "sentences = [\"I'm going to the bank.\", \"I need to visit the bank today.\", \"I'm heading to the bank to withdraw some cash.\", \"The bank is where I'm off to.\", \"I have an appointment at the bank.\", \"Let's spend the day by the river bank.\", \"The river bank is a peaceful place to relax.\", \"I enjoy walking along the river bank.\", \"We can have a picnic by the river bank.\",\n",
    "\"She has a cool job.\", \"Her job is really interesting and fun.\", \"She works in a creative field and loves it.\", \"That job of hers is so unique.\", \"She's lucky to have such a cool profession.\", \"Her workplace is always chilly.\", \"She works in a refrigerated environment.\", \"The temperature in her office is freezing.\", \"She needs to bundle up for her job.\",\n",
    "\"You need to check the trunk.\", \"Don't forget to look in the trunk of the car.\", \"There might be something important in the trunk.\", \"Make sure to verify the contents of the trunk.\", \"The trunk needs to be inspected for any damage.\", \"Take a look at the tree trunk for any damage.\", \"The trunk of the old tree might have some interesting carvings.\", \"Check if the tree trunk needs to be treated for pests.\", \"See if there are any unique patterns or textures on the tree trunk.\",\n",
    "\"I saw her duck.\", \"Her duck was waddling in the park.\", \"The duck she owns is so cute.\", \"I spotted her duck by the pond.\", \"Her duck was quacking loudly.\", \"She ducked to avoid the flying object.\", \"Her quick ducking saved her from the falling branch.\", \"I noticed her sudden ducking movement.\", \"She ducked and dodged the incoming ball.\",\n",
    "\"She has a great figure.\", \"Her body shape is very flattering.\", \"She carries herself with grace and confidence.\", \"Her figure is well-proportioned and attractive.\", \"She knows how to dress to highlight her figure.\", \"The numerical figure she presented was impressive.\", \"Her calculations yielded a significant figure.\", \"The data supports a substantial figure.\", \"The figure she quoted was accurate and reliable.\"]\n",
    "\n",
    "context = [\"bank-base\", \"bank-money\", \"bank-money\", \"bank-money\", \"bank-money\", \"bank-river\", \"bank-river\", \"bank-river\", \"bank-river\", \"cool-base\", \"cool-nice\", \"cool-nice\", \"cool-nice\", \"cool-nice\", \"cool-cold\", \"cool-cold\", \"cool-cold\", \"cool-cold\", \"trunk-base\", \"trunk-car\", \"trunk-car\", \"trunk-car\", \"trunk-car\", \"trunk-tree\", \"trunk-tree\", \"trunk-tree\", \"trunk-tree\", \n",
    "           \"duck-base\", \"duck-animal\", \"duck-animal\", \"duck-animal\", \"duck-animal\", \"duck-down\", \"duck-down\", \"duck-down\", \"duck-down\", \"figure-base\", \"figure-body\", \"figure-body\", \"figure-body\", \"figure-body\", \"figure-number\", \"figure-number\", \"figure-number\", \"figure-number\"]\n",
    "\n",
    "dataset = pd.DataFrame({'Sentence': sentences, 'Context': context})"
   ]
  },
  {
   "cell_type": "code",
   "execution_count": null,
   "metadata": {},
   "outputs": [],
   "source": [
    "dataset.head()"
   ]
  },
  {
   "cell_type": "code",
   "execution_count": 4,
   "metadata": {},
   "outputs": [
    {
     "data": {
      "text/plain": [
       "dict_keys(['political_ideology', 'embedding_semantic_rich', 'political_negativity', 'embedding_finance', 'embedding_base', 'embedding_river', 'argument'])"
      ]
     },
     "execution_count": 4,
     "metadata": {},
     "output_type": "execute_result"
    }
   ],
   "source": [
    "MODEL: str = \"llama3:70b-instruct-q6_K\" # \"mixtral:8x7b-instruct-v0.1-q6_K\"\n",
    "CFG.prompt_files.keys()"
   ]
  },
  {
   "cell_type": "code",
   "execution_count": 5,
   "metadata": {},
   "outputs": [
    {
     "data": {
      "text/plain": [
       "{'embedding_semantic_rich': PosixPath('data/prompts/embedding_semantic_rich'),\n",
       " 'embedding_finance': PosixPath('data/prompts/embedding_finance.json'),\n",
       " 'embedding_base': PosixPath('data/prompts/embedding_base.json'),\n",
       " 'embedding_river': PosixPath('data/prompts/embedding_river.json')}"
      ]
     },
     "execution_count": 5,
     "metadata": {},
     "output_type": "execute_result"
    }
   ],
   "source": [
    "keys_to_include = ['embedding_semantic_rich', 'embedding_finance', 'embedding_base', 'embedding_river']\n",
    "subset_dict = {k: CFG.prompt_files[k] for k in keys_to_include if k in CFG.prompt_files}\n",
    "subset_dict"
   ]
  },
  {
   "cell_type": "code",
   "execution_count": 6,
   "metadata": {},
   "outputs": [
    {
     "data": {
      "text/plain": [
       "dict_values([PosixPath('data/prompts/embedding_semantic_rich'), PosixPath('data/prompts/embedding_finance.json'), PosixPath('data/prompts/embedding_base.json'), PosixPath('data/prompts/embedding_river.json')])"
      ]
     },
     "execution_count": 6,
     "metadata": {},
     "output_type": "execute_result"
    }
   ],
   "source": [
    "subset_dict.values()"
   ]
  },
  {
   "cell_type": "code",
   "execution_count": 55,
   "metadata": {},
   "outputs": [],
   "source": [
    "templates = [\n",
    "    {\"name\": \"embed_base\", \"template\": 'Please consider the following sentence in the context of a story and find sentence level embeddings. Only answer with the sentence and nothing else./n'},\n",
    "    {\"name\": \"embed_rich\", \"template\": 'Please consider the following sentence in the context of a story and find semantically rich sentence level embeddings. Only answer with the sentence and nothing else./n'},\n",
    "    {\"name\": \"embed_money\", \"template\": 'Please consider the following sentence in the context of a story about finance and find semantically rich sentence level embeddings. Only answer with the sentence and nothing else./n'},\n",
    "    {\"name\": \"embed_river\", \"template\": 'Please consider the following sentence in the context of a story about a river and find semantically rich sentence level embeddings. Only answer with the sentence and nothing else./n'}\n",
    "]\n",
    "\n",
    "template_dict = pd.DataFrame(templates).to_dict(orient='records')"
   ]
  },
  {
   "cell_type": "code",
   "execution_count": 30,
   "metadata": {},
   "outputs": [
    {
     "name": "stdout",
     "output_type": "stream",
     "text": [
      "embed_base\n",
      "embed_rich\n",
      "embed_money\n",
      "embed_river\n"
     ]
    }
   ],
   "source": [
    "for item in template_dict:\n",
    "    name = item['name']\n",
    "    print(name)"
   ]
  },
  {
   "cell_type": "code",
   "execution_count": 61,
   "metadata": {},
   "outputs": [],
   "source": [
    "embed_rich: typing.Dict[str, np.ndarray] = {}\n",
    "embed_money: typing.Dict[str, np.ndarray] = {}\n",
    "embed_river: typing.Dict[str, np.ndarray] = {}\n",
    "embed_base: typing.Dict[str, np.ndarray] = {}"
   ]
  },
  {
   "cell_type": "code",
   "execution_count": 62,
   "metadata": {},
   "outputs": [
    {
     "name": "stderr",
     "output_type": "stream",
     "text": [
      "  0%|          | 0/45 [00:00<?, ?it/s]"
     ]
    },
    {
     "name": "stderr",
     "output_type": "stream",
     "text": [
      "100%|██████████| 45/45 [00:08<00:00,  5.22it/s]\n",
      "100%|██████████| 45/45 [00:08<00:00,  5.18it/s]\n",
      "100%|██████████| 45/45 [00:08<00:00,  5.29it/s]\n",
      "100%|██████████| 45/45 [00:08<00:00,  5.24it/s]\n"
     ]
    }
   ],
   "source": [
    "for item in template_dict:\n",
    "    name = item['name']\n",
    "    template = item['template']\n",
    "    for index, value in tqdm.tqdm(dataset[\"Sentence\"].items(), total=len(dataset)):\n",
    "        try: \n",
    "            embed = np.array(requests.post(\n",
    "                'https://inf.cl.uni-trier.de/embed/',\n",
    "                json={'model': MODEL, 'prompt': template + value}\n",
    "                ).json()[\"response\"])\n",
    "        except Exception as _e:\n",
    "            logging.warning(_e)\n",
    "            embed = None\n",
    "        \n",
    "        if name=='embed_rich':\n",
    "            embed_rich[index] = embed\n",
    "        if name=='embed_base':\n",
    "            embed_base[index] = embed\n",
    "        if name=='embed_river':\n",
    "            embed_river[index] = embed\n",
    "        if name=='embed_money':\n",
    "            embed_money[index] = embed\n",
    "\n",
    "       "
   ]
  },
  {
   "cell_type": "code",
   "execution_count": 64,
   "metadata": {},
   "outputs": [
    {
     "data": {
      "text/html": [
       "<div>\n",
       "<style scoped>\n",
       "    .dataframe tbody tr th:only-of-type {\n",
       "        vertical-align: middle;\n",
       "    }\n",
       "\n",
       "    .dataframe tbody tr th {\n",
       "        vertical-align: top;\n",
       "    }\n",
       "\n",
       "    .dataframe thead th {\n",
       "        text-align: right;\n",
       "    }\n",
       "</style>\n",
       "<table border=\"1\" class=\"dataframe\">\n",
       "  <thead>\n",
       "    <tr style=\"text-align: right;\">\n",
       "      <th></th>\n",
       "      <th>Sentence</th>\n",
       "      <th>Context</th>\n",
       "      <th>embed_rich</th>\n",
       "      <th>embed_base</th>\n",
       "      <th>embed_money</th>\n",
       "      <th>embed_river</th>\n",
       "    </tr>\n",
       "  </thead>\n",
       "  <tbody>\n",
       "    <tr>\n",
       "      <th>0</th>\n",
       "      <td>I'm going to the bank.</td>\n",
       "      <td>bank-base</td>\n",
       "      <td>[0.0007291287183761597, -0.13166683912277222, ...</td>\n",
       "      <td>[0.18572592735290527, -0.297760933637619, -0.0...</td>\n",
       "      <td>[0.2104983925819397, -0.05846552550792694, 0.1...</td>\n",
       "      <td>[0.23099350929260254, -0.20068785548210144, 0....</td>\n",
       "    </tr>\n",
       "    <tr>\n",
       "      <th>1</th>\n",
       "      <td>I need to visit the bank today.</td>\n",
       "      <td>bank-money</td>\n",
       "      <td>[0.6171398758888245, -0.12135252356529236, -0....</td>\n",
       "      <td>[0.10708608478307724, -0.3206588923931122, -0....</td>\n",
       "      <td>[0.5208940505981445, 0.1724483221769333, -0.11...</td>\n",
       "      <td>[0.39583635330200195, 0.2690700888633728, 0.19...</td>\n",
       "    </tr>\n",
       "    <tr>\n",
       "      <th>2</th>\n",
       "      <td>I'm heading to the bank to withdraw some cash.</td>\n",
       "      <td>bank-money</td>\n",
       "      <td>[0.34433573484420776, -0.06507916003465652, -0...</td>\n",
       "      <td>[0.3088618516921997, -0.019220836460590363, 0....</td>\n",
       "      <td>[0.6007224917411804, 0.1417076140642166, 0.068...</td>\n",
       "      <td>[0.42295312881469727, 0.11269190907478333, 0.1...</td>\n",
       "    </tr>\n",
       "    <tr>\n",
       "      <th>3</th>\n",
       "      <td>The bank is where I'm off to.</td>\n",
       "      <td>bank-money</td>\n",
       "      <td>[-0.13297878205776215, -0.0911918580532074, -0...</td>\n",
       "      <td>[0.19968175888061523, -0.26484861969947815, -0...</td>\n",
       "      <td>[0.05104644224047661, -0.08790059387683868, -0...</td>\n",
       "      <td>[-0.11331242322921753, -0.04678422957658768, 0...</td>\n",
       "    </tr>\n",
       "    <tr>\n",
       "      <th>4</th>\n",
       "      <td>I have an appointment at the bank.</td>\n",
       "      <td>bank-money</td>\n",
       "      <td>[0.2728506922721863, -0.2755275070667267, -0.2...</td>\n",
       "      <td>[-0.055613771080970764, -0.39524802565574646, ...</td>\n",
       "      <td>[0.3922412693500519, -0.22213643789291382, -0....</td>\n",
       "      <td>[0.2372683882713318, -0.21723666787147522, -0....</td>\n",
       "    </tr>\n",
       "  </tbody>\n",
       "</table>\n",
       "</div>"
      ],
      "text/plain": [
       "                                         Sentence     Context  \\\n",
       "0                          I'm going to the bank.   bank-base   \n",
       "1                 I need to visit the bank today.  bank-money   \n",
       "2  I'm heading to the bank to withdraw some cash.  bank-money   \n",
       "3                   The bank is where I'm off to.  bank-money   \n",
       "4              I have an appointment at the bank.  bank-money   \n",
       "\n",
       "                                          embed_rich  \\\n",
       "0  [0.0007291287183761597, -0.13166683912277222, ...   \n",
       "1  [0.6171398758888245, -0.12135252356529236, -0....   \n",
       "2  [0.34433573484420776, -0.06507916003465652, -0...   \n",
       "3  [-0.13297878205776215, -0.0911918580532074, -0...   \n",
       "4  [0.2728506922721863, -0.2755275070667267, -0.2...   \n",
       "\n",
       "                                          embed_base  \\\n",
       "0  [0.18572592735290527, -0.297760933637619, -0.0...   \n",
       "1  [0.10708608478307724, -0.3206588923931122, -0....   \n",
       "2  [0.3088618516921997, -0.019220836460590363, 0....   \n",
       "3  [0.19968175888061523, -0.26484861969947815, -0...   \n",
       "4  [-0.055613771080970764, -0.39524802565574646, ...   \n",
       "\n",
       "                                         embed_money  \\\n",
       "0  [0.2104983925819397, -0.05846552550792694, 0.1...   \n",
       "1  [0.5208940505981445, 0.1724483221769333, -0.11...   \n",
       "2  [0.6007224917411804, 0.1417076140642166, 0.068...   \n",
       "3  [0.05104644224047661, -0.08790059387683868, -0...   \n",
       "4  [0.3922412693500519, -0.22213643789291382, -0....   \n",
       "\n",
       "                                         embed_river  \n",
       "0  [0.23099350929260254, -0.20068785548210144, 0....  \n",
       "1  [0.39583635330200195, 0.2690700888633728, 0.19...  \n",
       "2  [0.42295312881469727, 0.11269190907478333, 0.1...  \n",
       "3  [-0.11331242322921753, -0.04678422957658768, 0...  \n",
       "4  [0.2372683882713318, -0.21723666787147522, -0....  "
      ]
     },
     "execution_count": 64,
     "metadata": {},
     "output_type": "execute_result"
    }
   ],
   "source": [
    "dataset_w_embeds = dataset.join(pd.Series(embed_rich, name=\"embed_rich\")).join(pd.Series(embed_base, name=\"embed_base\")).join(pd.Series(embed_money, name=\"embed_money\")).join(pd.Series(embed_river, name=\"embed_river\"))\n",
    "#dataset_w_embeds.to_parquet(f'{CFG.report_dir}/dataset.embeds.parquet')\n",
    "dataset_w_embeds.head()"
   ]
  },
  {
   "cell_type": "code",
   "execution_count": 66,
   "metadata": {},
   "outputs": [],
   "source": [
    "groups = {\n",
    "    \"base\": dataset_w_embeds[dataset_w_embeds[\"Context\"] == \"bank-base\"][\"embed_base\"],\n",
    "    \"river\": dataset_w_embeds[dataset_w_embeds[\"Context\"] == \"bank-river\"][\"embed_base\"],\n",
    "    \"money\": dataset_w_embeds[dataset_w_embeds[\"Context\"] == \"bank-money\"][\"embed_base\"],\n",
    "}"
   ]
  },
  {
   "cell_type": "code",
   "execution_count": 67,
   "metadata": {},
   "outputs": [
    {
     "name": "stdout",
     "output_type": "stream",
     "text": [
      "base:base:3.1999999999999965e-05\n",
      "base:river:9.081911016181294\n",
      "base:money:6.908000575729087\n",
      "river:river:5.967878145050999\n",
      "river:money:10.10194802753676\n",
      "money:money:6.2836831508767395\n"
     ]
    }
   ],
   "source": [
    "dist = torch.nn.PairwiseDistance()\n",
    "\n",
    "results: typing.Dict[typing.Tuple[str, str], float] = {}\n",
    "\n",
    "for label_1, c_1 in groups.items():\n",
    "    for label_2, c_2 in groups.items():\n",
    "\n",
    "        if (\n",
    "            (label_1, label_2) in results.keys() or \n",
    "            (label_2, label_1) in results.keys()\n",
    "        ):\n",
    "            continue\n",
    "\n",
    "        res = sum([\n",
    "            sum(dist(\n",
    "                torch.tensor(np.array(v_1)), \n",
    "                torch.tensor(np.array(c_2.tolist()))\n",
    "                )) / len(c_2)\n",
    "            for v_1 in c_1\n",
    "        ]) / len(c_1)\n",
    "\n",
    "        results[(label_1, label_2)] = res\n",
    "\n",
    "        print(f'{label_1}:{label_2}:{res.item()}')"
   ]
  }
 ],
 "metadata": {
  "kernelspec": {
   "display_name": "DefiningDebateQuality",
   "language": "python",
   "name": "python3"
  },
  "language_info": {
   "codemirror_mode": {
    "name": "ipython",
    "version": 3
   },
   "file_extension": ".py",
   "mimetype": "text/x-python",
   "name": "python",
   "nbconvert_exporter": "python",
   "pygments_lexer": "ipython3",
   "version": "3.10.11"
  }
 },
 "nbformat": 4,
 "nbformat_minor": 2
}
