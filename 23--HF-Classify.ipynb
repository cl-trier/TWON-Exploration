{
 "cells": [
  {
   "cell_type": "code",
   "execution_count": 15,
   "id": "initial_id",
   "metadata": {
    "ExecuteTime": {
     "end_time": "2024-05-27T09:22:24.475146Z",
     "start_time": "2024-05-27T09:22:22.209399Z"
    },
    "collapsed": true
   },
   "outputs": [],
   "source": [
    "import typing\n",
    "\n",
    "import pandas as pd\n",
    "\n",
    "import config\n",
    "import src"
   ]
  },
  {
   "cell_type": "code",
   "execution_count": 16,
   "id": "8aba1d21",
   "metadata": {},
   "outputs": [],
   "source": [
    "MODELS: typing.Tuple[str, str] = [\n",
    "    (\"topics\", \"cardiffnlp/tweet-topic-21-multi\"),\n",
    "    (\"emotions\", \"cardiffnlp/twitter-roberta-base-emotion-multilabel-latest\"),\n",
    "    (\"sentiment\", \"cardiffnlp/twitter-roberta-base-sentiment-latest\"),\n",
    "    (\"irony\", \"cardiffnlp/twitter-roberta-base-irony\"),\n",
    "    (\"offensive\",  \"cardiffnlp/twitter-roberta-base-offensive\"),\n",
    "    (\"hate\", \"cardiffnlp/twitter-roberta-base-hate-latest\")\n",
    "]"
   ]
  },
  {
   "cell_type": "code",
   "execution_count": 17,
   "id": "1103d6f9dcd9396f",
   "metadata": {
    "ExecuteTime": {
     "end_time": "2024-05-27T09:22:24.480330Z",
     "start_time": "2024-05-27T09:22:24.476951Z"
    }
   },
   "outputs": [],
   "source": [
    "CFG = config.Config()"
   ]
  },
  {
   "cell_type": "code",
   "execution_count": 18,
   "id": "98258fe3cc6d04c1",
   "metadata": {
    "ExecuteTime": {
     "end_time": "2024-05-27T09:22:24.600423Z",
     "start_time": "2024-05-27T09:22:24.481613Z"
    }
   },
   "outputs": [
    {
     "data": {
      "text/html": [
       "<div>\n",
       "<style scoped>\n",
       "    .dataframe tbody tr th:only-of-type {\n",
       "        vertical-align: middle;\n",
       "    }\n",
       "\n",
       "    .dataframe tbody tr th {\n",
       "        vertical-align: top;\n",
       "    }\n",
       "\n",
       "    .dataframe thead th {\n",
       "        text-align: right;\n",
       "    }\n",
       "</style>\n",
       "<table border=\"1\" class=\"dataframe\">\n",
       "  <thead>\n",
       "    <tr style=\"text-align: right;\">\n",
       "      <th></th>\n",
       "      <th>postId</th>\n",
       "      <th>content</th>\n",
       "      <th>userId</th>\n",
       "      <th>createdAt</th>\n",
       "      <th>type</th>\n",
       "      <th>userType</th>\n",
       "    </tr>\n",
       "    <tr>\n",
       "      <th>id</th>\n",
       "      <th></th>\n",
       "      <th></th>\n",
       "      <th></th>\n",
       "      <th></th>\n",
       "      <th></th>\n",
       "      <th></th>\n",
       "    </tr>\n",
       "  </thead>\n",
       "  <tbody>\n",
       "    <tr>\n",
       "      <th>66261d9883ad1b524033b95f</th>\n",
       "      <td>66226af08c2024fabb3cc44c</td>\n",
       "      <td>Gut gesagt! Vergesst nicht, dass auch wirtscha...</td>\n",
       "      <td>661d163cb8beabb58229451c</td>\n",
       "      <td>2024-04-22 08:19:36.535</td>\n",
       "      <td>comment</td>\n",
       "      <td>bot</td>\n",
       "    </tr>\n",
       "    <tr>\n",
       "      <th>66261fac83ad1b524033b9b7</th>\n",
       "      <td>662296c6616a4cb7061eaae7</td>\n",
       "      <td>Richtig gesagt, @Gelber Roboter! Eine ausgewog...</td>\n",
       "      <td>661d1646b8beabb582294522</td>\n",
       "      <td>2024-04-22 08:28:28.538</td>\n",
       "      <td>comment</td>\n",
       "      <td>bot</td>\n",
       "    </tr>\n",
       "    <tr>\n",
       "      <th>66261cda83ad1b524033b93b</th>\n",
       "      <td>6622a4d5616a4cb7061ead43</td>\n",
       "      <td>@Gelber Roboter, @Blaues Siegel, @Weißer Hase,...</td>\n",
       "      <td>66256b0f7adfe044bf82ae9b</td>\n",
       "      <td>2024-04-22 08:16:26.028</td>\n",
       "      <td>comment</td>\n",
       "      <td>bot</td>\n",
       "    </tr>\n",
       "    <tr>\n",
       "      <th>66261f0c83ad1b524033b993</th>\n",
       "      <td>6622a983616a4cb7061eae17</td>\n",
       "      <td>Couldn't agree more! Global connections and co...</td>\n",
       "      <td>66256b0f7adfe044bf82ae9b</td>\n",
       "      <td>2024-04-22 08:25:48.181</td>\n",
       "      <td>comment</td>\n",
       "      <td>bot</td>\n",
       "    </tr>\n",
       "    <tr>\n",
       "      <th>6626211283ad1b524033b9f2</th>\n",
       "      <td>6622bc44616a4cb7061eb0f2</td>\n",
       "      <td>„Ganz meiner Meinung, @Lila Walross und @Blaue...</td>\n",
       "      <td>66256a827adfe044bf82ae97</td>\n",
       "      <td>2024-04-22 08:34:26.209</td>\n",
       "      <td>comment</td>\n",
       "      <td>bot</td>\n",
       "    </tr>\n",
       "    <tr>\n",
       "      <th>...</th>\n",
       "      <td>...</td>\n",
       "      <td>...</td>\n",
       "      <td>...</td>\n",
       "      <td>...</td>\n",
       "      <td>...</td>\n",
       "      <td>...</td>\n",
       "    </tr>\n",
       "    <tr>\n",
       "      <th>662a070537d6395f42ca7bfd</th>\n",
       "      <td>None</td>\n",
       "      <td>Kleiner vermieter Junge noch nicht gefunden</td>\n",
       "      <td>662a070537d6395f42ca7bf9</td>\n",
       "      <td>2024-04-25 07:32:21.584</td>\n",
       "      <td>post</td>\n",
       "      <td>human</td>\n",
       "    </tr>\n",
       "    <tr>\n",
       "      <th>662a12fa37d6395f42ca87fe</th>\n",
       "      <td>None</td>\n",
       "      <td>Lok Leipzig holt Jochen Seitz als Trainer</td>\n",
       "      <td>662a12fa37d6395f42ca87fa</td>\n",
       "      <td>2024-04-25 08:23:22.984</td>\n",
       "      <td>post</td>\n",
       "      <td>human</td>\n",
       "    </tr>\n",
       "    <tr>\n",
       "      <th>662a30f137d6395f42ca99c6</th>\n",
       "      <td>None</td>\n",
       "      <td>Russland droht der USA</td>\n",
       "      <td>662a30f137d6395f42ca99c2</td>\n",
       "      <td>2024-04-25 10:31:13.258</td>\n",
       "      <td>post</td>\n",
       "      <td>human</td>\n",
       "    </tr>\n",
       "    <tr>\n",
       "      <th>662e892b3ae8346ce92c8e85</th>\n",
       "      <td>None</td>\n",
       "      <td>Arian wird vermisst</td>\n",
       "      <td>662e892b3ae8346ce92c8e81</td>\n",
       "      <td>2024-04-28 17:36:43.427</td>\n",
       "      <td>post</td>\n",
       "      <td>human</td>\n",
       "    </tr>\n",
       "    <tr>\n",
       "      <th>662f64083ae8346ce92c9d25</th>\n",
       "      <td>None</td>\n",
       "      <td>Zinsen</td>\n",
       "      <td>662f64073ae8346ce92c9d21</td>\n",
       "      <td>2024-04-29 09:10:32.138</td>\n",
       "      <td>post</td>\n",
       "      <td>human</td>\n",
       "    </tr>\n",
       "  </tbody>\n",
       "</table>\n",
       "<p>1953 rows × 6 columns</p>\n",
       "</div>"
      ],
      "text/plain": [
       "                                            postId  \\\n",
       "id                                                   \n",
       "66261d9883ad1b524033b95f  66226af08c2024fabb3cc44c   \n",
       "66261fac83ad1b524033b9b7  662296c6616a4cb7061eaae7   \n",
       "66261cda83ad1b524033b93b  6622a4d5616a4cb7061ead43   \n",
       "66261f0c83ad1b524033b993  6622a983616a4cb7061eae17   \n",
       "6626211283ad1b524033b9f2  6622bc44616a4cb7061eb0f2   \n",
       "...                                            ...   \n",
       "662a070537d6395f42ca7bfd                      None   \n",
       "662a12fa37d6395f42ca87fe                      None   \n",
       "662a30f137d6395f42ca99c6                      None   \n",
       "662e892b3ae8346ce92c8e85                      None   \n",
       "662f64083ae8346ce92c9d25                      None   \n",
       "\n",
       "                                                                    content  \\\n",
       "id                                                                            \n",
       "66261d9883ad1b524033b95f  Gut gesagt! Vergesst nicht, dass auch wirtscha...   \n",
       "66261fac83ad1b524033b9b7  Richtig gesagt, @Gelber Roboter! Eine ausgewog...   \n",
       "66261cda83ad1b524033b93b  @Gelber Roboter, @Blaues Siegel, @Weißer Hase,...   \n",
       "66261f0c83ad1b524033b993  Couldn't agree more! Global connections and co...   \n",
       "6626211283ad1b524033b9f2  „Ganz meiner Meinung, @Lila Walross und @Blaue...   \n",
       "...                                                                     ...   \n",
       "662a070537d6395f42ca7bfd       Kleiner vermieter Junge noch nicht gefunden    \n",
       "662a12fa37d6395f42ca87fe         Lok Leipzig holt Jochen Seitz als Trainer    \n",
       "662a30f137d6395f42ca99c6                             Russland droht der USA   \n",
       "662e892b3ae8346ce92c8e85                               Arian wird vermisst    \n",
       "662f64083ae8346ce92c9d25                                            Zinsen    \n",
       "\n",
       "                                            userId                createdAt  \\\n",
       "id                                                                            \n",
       "66261d9883ad1b524033b95f  661d163cb8beabb58229451c  2024-04-22 08:19:36.535   \n",
       "66261fac83ad1b524033b9b7  661d1646b8beabb582294522  2024-04-22 08:28:28.538   \n",
       "66261cda83ad1b524033b93b  66256b0f7adfe044bf82ae9b  2024-04-22 08:16:26.028   \n",
       "66261f0c83ad1b524033b993  66256b0f7adfe044bf82ae9b  2024-04-22 08:25:48.181   \n",
       "6626211283ad1b524033b9f2  66256a827adfe044bf82ae97  2024-04-22 08:34:26.209   \n",
       "...                                            ...                      ...   \n",
       "662a070537d6395f42ca7bfd  662a070537d6395f42ca7bf9  2024-04-25 07:32:21.584   \n",
       "662a12fa37d6395f42ca87fe  662a12fa37d6395f42ca87fa  2024-04-25 08:23:22.984   \n",
       "662a30f137d6395f42ca99c6  662a30f137d6395f42ca99c2  2024-04-25 10:31:13.258   \n",
       "662e892b3ae8346ce92c8e85  662e892b3ae8346ce92c8e81  2024-04-28 17:36:43.427   \n",
       "662f64083ae8346ce92c9d25  662f64073ae8346ce92c9d21  2024-04-29 09:10:32.138   \n",
       "\n",
       "                             type userType  \n",
       "id                                          \n",
       "66261d9883ad1b524033b95f  comment      bot  \n",
       "66261fac83ad1b524033b9b7  comment      bot  \n",
       "66261cda83ad1b524033b93b  comment      bot  \n",
       "66261f0c83ad1b524033b993  comment      bot  \n",
       "6626211283ad1b524033b9f2  comment      bot  \n",
       "...                           ...      ...  \n",
       "662a070537d6395f42ca7bfd     post    human  \n",
       "662a12fa37d6395f42ca87fe     post    human  \n",
       "662a30f137d6395f42ca99c6     post    human  \n",
       "662e892b3ae8346ce92c8e85     post    human  \n",
       "662f64083ae8346ce92c9d25     post    human  \n",
       "\n",
       "[1953 rows x 6 columns]"
      ]
     },
     "execution_count": 18,
     "metadata": {},
     "output_type": "execute_result"
    }
   ],
   "source": [
    "dataset: pd.DataFrame = pd.read_parquet(CFG.final_data_files[\"user_content\"])\n",
    "dataset"
   ]
  },
  {
   "cell_type": "code",
   "execution_count": 5,
   "id": "52e7b7a96142ca60",
   "metadata": {
    "ExecuteTime": {
     "end_time": "2024-05-27T09:22:26.028418Z",
     "start_time": "2024-05-27T09:22:24.601957Z"
    }
   },
   "outputs": [
    {
     "data": {
      "application/vnd.jupyter.widget-view+json": {
       "model_id": "f4216faf02fd4cb3b8655513e5ad29e1",
       "version_major": 2,
       "version_minor": 0
      },
      "text/plain": [
       "tokenizer_config.json:   0%|          | 0.00/1.30k [00:00<?, ?B/s]"
      ]
     },
     "metadata": {},
     "output_type": "display_data"
    },
    {
     "data": {
      "application/vnd.jupyter.widget-view+json": {
       "model_id": "2879c8f09edc41cc813fdd4423fa2f38",
       "version_major": 2,
       "version_minor": 0
      },
      "text/plain": [
       "vocab.json:   0%|          | 0.00/798k [00:00<?, ?B/s]"
      ]
     },
     "metadata": {},
     "output_type": "display_data"
    },
    {
     "data": {
      "application/vnd.jupyter.widget-view+json": {
       "model_id": "d29a1f282e64494b9be50d18543991a3",
       "version_major": 2,
       "version_minor": 0
      },
      "text/plain": [
       "merges.txt:   0%|          | 0.00/456k [00:00<?, ?B/s]"
      ]
     },
     "metadata": {},
     "output_type": "display_data"
    },
    {
     "data": {
      "application/vnd.jupyter.widget-view+json": {
       "model_id": "622b03bee6464cecad64968f94c102d7",
       "version_major": 2,
       "version_minor": 0
      },
      "text/plain": [
       "tokenizer.json:   0%|          | 0.00/1.36M [00:00<?, ?B/s]"
      ]
     },
     "metadata": {},
     "output_type": "display_data"
    },
    {
     "data": {
      "application/vnd.jupyter.widget-view+json": {
       "model_id": "df85aeeec9aa46c7a5f8bb27b2c43059",
       "version_major": 2,
       "version_minor": 0
      },
      "text/plain": [
       "special_tokens_map.json:   0%|          | 0.00/239 [00:00<?, ?B/s]"
      ]
     },
     "metadata": {},
     "output_type": "display_data"
    },
    {
     "data": {
      "application/vnd.jupyter.widget-view+json": {
       "model_id": "d7d64b7c18bd4916878dd0e914729218",
       "version_major": 2,
       "version_minor": 0
      },
      "text/plain": [
       "config.json:   0%|          | 0.00/1.88k [00:00<?, ?B/s]"
      ]
     },
     "metadata": {},
     "output_type": "display_data"
    },
    {
     "data": {
      "application/vnd.jupyter.widget-view+json": {
       "model_id": "5e769ed690c444f8b74f3ba967c1b75c",
       "version_major": 2,
       "version_minor": 0
      },
      "text/plain": [
       "pytorch_model.bin:   0%|          | 0.00/499M [00:00<?, ?B/s]"
      ]
     },
     "metadata": {},
     "output_type": "display_data"
    }
   ],
   "source": []
  },
  {
   "cell_type": "code",
   "execution_count": 19,
   "id": "3cb3194d1486b58a",
   "metadata": {
    "ExecuteTime": {
     "end_time": "2024-05-27T09:34:14.673525Z",
     "start_time": "2024-05-27T09:22:26.031137Z"
    }
   },
   "outputs": [],
   "source": [
    "predictions: typing.Dict[str, pd.Series] = {}"
   ]
  },
  {
   "cell_type": "code",
   "execution_count": 20,
   "id": "763e6837",
   "metadata": {},
   "outputs": [
    {
     "name": "stderr",
     "output_type": "stream",
     "text": [
      "100%|██████████| 62/62 [01:26<00:00,  1.40s/it]\n"
     ]
    },
    {
     "data": {
      "application/vnd.jupyter.widget-view+json": {
       "model_id": "c61da1e4c9b04548a95e955712b53a87",
       "version_major": 2,
       "version_minor": 0
      },
      "text/plain": [
       "tokenizer_config.json:   0%|          | 0.00/409 [00:00<?, ?B/s]"
      ]
     },
     "metadata": {},
     "output_type": "display_data"
    },
    {
     "data": {
      "application/vnd.jupyter.widget-view+json": {
       "model_id": "62e6b1c9f5c34bc5a64b96448a1dca0e",
       "version_major": 2,
       "version_minor": 0
      },
      "text/plain": [
       "vocab.json:   0%|          | 0.00/798k [00:00<?, ?B/s]"
      ]
     },
     "metadata": {},
     "output_type": "display_data"
    },
    {
     "data": {
      "application/vnd.jupyter.widget-view+json": {
       "model_id": "f3cb99b45fd24469a0e9d77cac622ccc",
       "version_major": 2,
       "version_minor": 0
      },
      "text/plain": [
       "merges.txt:   0%|          | 0.00/456k [00:00<?, ?B/s]"
      ]
     },
     "metadata": {},
     "output_type": "display_data"
    },
    {
     "data": {
      "application/vnd.jupyter.widget-view+json": {
       "model_id": "d767e79c6e8d450cb1c7516f3349193d",
       "version_major": 2,
       "version_minor": 0
      },
      "text/plain": [
       "tokenizer.json:   0%|          | 0.00/2.11M [00:00<?, ?B/s]"
      ]
     },
     "metadata": {},
     "output_type": "display_data"
    },
    {
     "data": {
      "application/vnd.jupyter.widget-view+json": {
       "model_id": "c74ee81ce2f846fc8b0d654453203d69",
       "version_major": 2,
       "version_minor": 0
      },
      "text/plain": [
       "special_tokens_map.json:   0%|          | 0.00/280 [00:00<?, ?B/s]"
      ]
     },
     "metadata": {},
     "output_type": "display_data"
    },
    {
     "data": {
      "application/vnd.jupyter.widget-view+json": {
       "model_id": "c8ec0367fcb847e7b144203aff70f8c2",
       "version_major": 2,
       "version_minor": 0
      },
      "text/plain": [
       "config.json:   0%|          | 0.00/1.20k [00:00<?, ?B/s]"
      ]
     },
     "metadata": {},
     "output_type": "display_data"
    },
    {
     "data": {
      "application/vnd.jupyter.widget-view+json": {
       "model_id": "9fe531f0c36d41549230dd4422626d8d",
       "version_major": 2,
       "version_minor": 0
      },
      "text/plain": [
       "pytorch_model.bin:   0%|          | 0.00/499M [00:00<?, ?B/s]"
      ]
     },
     "metadata": {},
     "output_type": "display_data"
    },
    {
     "name": "stderr",
     "output_type": "stream",
     "text": [
      "100%|██████████| 62/62 [01:25<00:00,  1.39s/it]\n",
      "/Users/simon/Library/Caches/pypoetry/virtualenvs/non-package-mode-EkkoOtlv-py3.12/lib/python3.12/site-packages/huggingface_hub/file_download.py:1132: FutureWarning: `resume_download` is deprecated and will be removed in version 1.0.0. Downloads always resume when possible. If you want to force a new download, use `force_download=True`.\n",
      "  warnings.warn(\n"
     ]
    },
    {
     "data": {
      "application/vnd.jupyter.widget-view+json": {
       "model_id": "2801ba3f1a0941fa905b9607f35b0955",
       "version_major": 2,
       "version_minor": 0
      },
      "text/plain": [
       "config.json:   0%|          | 0.00/929 [00:00<?, ?B/s]"
      ]
     },
     "metadata": {},
     "output_type": "display_data"
    },
    {
     "data": {
      "application/vnd.jupyter.widget-view+json": {
       "model_id": "8ddaa2cd8a6d45738ce33448e5dc5711",
       "version_major": 2,
       "version_minor": 0
      },
      "text/plain": [
       "vocab.json:   0%|          | 0.00/899k [00:00<?, ?B/s]"
      ]
     },
     "metadata": {},
     "output_type": "display_data"
    },
    {
     "data": {
      "application/vnd.jupyter.widget-view+json": {
       "model_id": "041c3b593f554ff5a85e2d07dd9071c1",
       "version_major": 2,
       "version_minor": 0
      },
      "text/plain": [
       "merges.txt:   0%|          | 0.00/456k [00:00<?, ?B/s]"
      ]
     },
     "metadata": {},
     "output_type": "display_data"
    },
    {
     "data": {
      "application/vnd.jupyter.widget-view+json": {
       "model_id": "cd590717ff38445991ae4ee399c25c00",
       "version_major": 2,
       "version_minor": 0
      },
      "text/plain": [
       "special_tokens_map.json:   0%|          | 0.00/239 [00:00<?, ?B/s]"
      ]
     },
     "metadata": {},
     "output_type": "display_data"
    },
    {
     "data": {
      "application/vnd.jupyter.widget-view+json": {
       "model_id": "f5b68108228a49fd87b00c4b4ddb433f",
       "version_major": 2,
       "version_minor": 0
      },
      "text/plain": [
       "pytorch_model.bin:   0%|          | 0.00/501M [00:00<?, ?B/s]"
      ]
     },
     "metadata": {},
     "output_type": "display_data"
    },
    {
     "name": "stderr",
     "output_type": "stream",
     "text": [
      "Some weights of the model checkpoint at cardiffnlp/twitter-roberta-base-sentiment-latest were not used when initializing RobertaForSequenceClassification: ['roberta.pooler.dense.bias', 'roberta.pooler.dense.weight']\n",
      "- This IS expected if you are initializing RobertaForSequenceClassification from the checkpoint of a model trained on another task or with another architecture (e.g. initializing a BertForSequenceClassification model from a BertForPreTraining model).\n",
      "- This IS NOT expected if you are initializing RobertaForSequenceClassification from the checkpoint of a model that you expect to be exactly identical (initializing a BertForSequenceClassification model from a BertForSequenceClassification model).\n",
      "100%|██████████| 62/62 [01:24<00:00,  1.37s/it]\n",
      "/Users/simon/Library/Caches/pypoetry/virtualenvs/non-package-mode-EkkoOtlv-py3.12/lib/python3.12/site-packages/huggingface_hub/file_download.py:1132: FutureWarning: `resume_download` is deprecated and will be removed in version 1.0.0. Downloads always resume when possible. If you want to force a new download, use `force_download=True`.\n",
      "  warnings.warn(\n"
     ]
    },
    {
     "data": {
      "application/vnd.jupyter.widget-view+json": {
       "model_id": "19289ba9e96c44a1802fed25465e39af",
       "version_major": 2,
       "version_minor": 0
      },
      "text/plain": [
       "config.json:   0%|          | 0.00/705 [00:00<?, ?B/s]"
      ]
     },
     "metadata": {},
     "output_type": "display_data"
    },
    {
     "data": {
      "application/vnd.jupyter.widget-view+json": {
       "model_id": "c2f7be670e234064b3b6ba6537aa5d9e",
       "version_major": 2,
       "version_minor": 0
      },
      "text/plain": [
       "vocab.json:   0%|          | 0.00/899k [00:00<?, ?B/s]"
      ]
     },
     "metadata": {},
     "output_type": "display_data"
    },
    {
     "data": {
      "application/vnd.jupyter.widget-view+json": {
       "model_id": "2e9ccea20afa408a825b69354644b718",
       "version_major": 2,
       "version_minor": 0
      },
      "text/plain": [
       "merges.txt:   0%|          | 0.00/456k [00:00<?, ?B/s]"
      ]
     },
     "metadata": {},
     "output_type": "display_data"
    },
    {
     "data": {
      "application/vnd.jupyter.widget-view+json": {
       "model_id": "499664eac88649cf99104eb53441364d",
       "version_major": 2,
       "version_minor": 0
      },
      "text/plain": [
       "special_tokens_map.json:   0%|          | 0.00/150 [00:00<?, ?B/s]"
      ]
     },
     "metadata": {},
     "output_type": "display_data"
    },
    {
     "data": {
      "application/vnd.jupyter.widget-view+json": {
       "model_id": "ada3d024c95a4482a6dad1ea105df8c1",
       "version_major": 2,
       "version_minor": 0
      },
      "text/plain": [
       "pytorch_model.bin:   0%|          | 0.00/499M [00:00<?, ?B/s]"
      ]
     },
     "metadata": {},
     "output_type": "display_data"
    },
    {
     "name": "stderr",
     "output_type": "stream",
     "text": [
      "100%|██████████| 62/62 [01:25<00:00,  1.39s/it]\n",
      "/Users/simon/Library/Caches/pypoetry/virtualenvs/non-package-mode-EkkoOtlv-py3.12/lib/python3.12/site-packages/huggingface_hub/file_download.py:1132: FutureWarning: `resume_download` is deprecated and will be removed in version 1.0.0. Downloads always resume when possible. If you want to force a new download, use `force_download=True`.\n",
      "  warnings.warn(\n"
     ]
    },
    {
     "data": {
      "application/vnd.jupyter.widget-view+json": {
       "model_id": "c556a0a6fe5a48c89432caa893a20002",
       "version_major": 2,
       "version_minor": 0
      },
      "text/plain": [
       "config.json:   0%|          | 0.00/725 [00:00<?, ?B/s]"
      ]
     },
     "metadata": {},
     "output_type": "display_data"
    },
    {
     "data": {
      "application/vnd.jupyter.widget-view+json": {
       "model_id": "596b33b8c95d495485cc442b5c5c5119",
       "version_major": 2,
       "version_minor": 0
      },
      "text/plain": [
       "vocab.json:   0%|          | 0.00/899k [00:00<?, ?B/s]"
      ]
     },
     "metadata": {},
     "output_type": "display_data"
    },
    {
     "data": {
      "application/vnd.jupyter.widget-view+json": {
       "model_id": "0a8174dbe55f4e809515167e9587961c",
       "version_major": 2,
       "version_minor": 0
      },
      "text/plain": [
       "merges.txt:   0%|          | 0.00/456k [00:00<?, ?B/s]"
      ]
     },
     "metadata": {},
     "output_type": "display_data"
    },
    {
     "data": {
      "application/vnd.jupyter.widget-view+json": {
       "model_id": "c35c74fdcb364bda985301593983cb9b",
       "version_major": 2,
       "version_minor": 0
      },
      "text/plain": [
       "special_tokens_map.json:   0%|          | 0.00/150 [00:00<?, ?B/s]"
      ]
     },
     "metadata": {},
     "output_type": "display_data"
    },
    {
     "data": {
      "application/vnd.jupyter.widget-view+json": {
       "model_id": "0fd579106fa84492b4e43ad0d6f03eea",
       "version_major": 2,
       "version_minor": 0
      },
      "text/plain": [
       "pytorch_model.bin:   0%|          | 0.00/499M [00:00<?, ?B/s]"
      ]
     },
     "metadata": {},
     "output_type": "display_data"
    },
    {
     "name": "stderr",
     "output_type": "stream",
     "text": [
      "100%|██████████| 62/62 [01:24<00:00,  1.36s/it]\n"
     ]
    },
    {
     "data": {
      "application/vnd.jupyter.widget-view+json": {
       "model_id": "324b419144e64cff9f350b696a36a299",
       "version_major": 2,
       "version_minor": 0
      },
      "text/plain": [
       "tokenizer_config.json:   0%|          | 0.00/351 [00:00<?, ?B/s]"
      ]
     },
     "metadata": {},
     "output_type": "display_data"
    },
    {
     "data": {
      "application/vnd.jupyter.widget-view+json": {
       "model_id": "7b13058e98f14ca9bd0671059d929f8f",
       "version_major": 2,
       "version_minor": 0
      },
      "text/plain": [
       "vocab.json:   0%|          | 0.00/798k [00:00<?, ?B/s]"
      ]
     },
     "metadata": {},
     "output_type": "display_data"
    },
    {
     "data": {
      "application/vnd.jupyter.widget-view+json": {
       "model_id": "ff04d793ce304247840dfb91cb4d35e9",
       "version_major": 2,
       "version_minor": 0
      },
      "text/plain": [
       "merges.txt:   0%|          | 0.00/456k [00:00<?, ?B/s]"
      ]
     },
     "metadata": {},
     "output_type": "display_data"
    },
    {
     "data": {
      "application/vnd.jupyter.widget-view+json": {
       "model_id": "c66ee3fc7586421d87b43ae04f8f71f4",
       "version_major": 2,
       "version_minor": 0
      },
      "text/plain": [
       "tokenizer.json:   0%|          | 0.00/2.11M [00:00<?, ?B/s]"
      ]
     },
     "metadata": {},
     "output_type": "display_data"
    },
    {
     "data": {
      "application/vnd.jupyter.widget-view+json": {
       "model_id": "5bc55b3b547544e6ac9a90eb0275f0d4",
       "version_major": 2,
       "version_minor": 0
      },
      "text/plain": [
       "special_tokens_map.json:   0%|          | 0.00/280 [00:00<?, ?B/s]"
      ]
     },
     "metadata": {},
     "output_type": "display_data"
    },
    {
     "data": {
      "application/vnd.jupyter.widget-view+json": {
       "model_id": "56765113e0734b95886d3ef6429c2f64",
       "version_major": 2,
       "version_minor": 0
      },
      "text/plain": [
       "config.json:   0%|          | 0.00/888 [00:00<?, ?B/s]"
      ]
     },
     "metadata": {},
     "output_type": "display_data"
    },
    {
     "data": {
      "application/vnd.jupyter.widget-view+json": {
       "model_id": "bb7f9288cfa84e94be5b107b4076f9d0",
       "version_major": 2,
       "version_minor": 0
      },
      "text/plain": [
       "pytorch_model.bin:   0%|          | 0.00/499M [00:00<?, ?B/s]"
      ]
     },
     "metadata": {},
     "output_type": "display_data"
    },
    {
     "name": "stderr",
     "output_type": "stream",
     "text": [
      "100%|██████████| 62/62 [01:25<00:00,  1.38s/it]\n"
     ]
    }
   ],
   "source": [
    "for label, model in MODELS:\n",
    "    classifier = src.HFClassify(slug=model)\n",
    "    predictions[label] = pd.Series(classifier(dataset[\"content\"], theta=0.4))"
   ]
  },
  {
   "cell_type": "code",
   "execution_count": 21,
   "id": "7e1219af",
   "metadata": {},
   "outputs": [
    {
     "data": {
      "text/plain": [
       "{'topics': id\n",
       " 66261d9883ad1b524033b95f                              {news_&_social_concern}\n",
       " 66261fac83ad1b524033b9b7                              {news_&_social_concern}\n",
       " 66261cda83ad1b524033b93b                                      {other_hobbies}\n",
       " 66261f0c83ad1b524033b993                              {news_&_social_concern}\n",
       " 6626211283ad1b524033b9f2    {other_hobbies, news_&_social_concern, arts_&_...\n",
       "                                                   ...                        \n",
       " 662a070537d6395f42ca7bfd                {other_hobbies, diaries_&_daily_life}\n",
       " 662a12fa37d6395f42ca87fe                                             {sports}\n",
       " 662a30f137d6395f42ca99c6                                             {sports}\n",
       " 662e892b3ae8346ce92c8e85                            {celebrity_&_pop_culture}\n",
       " 662f64083ae8346ce92c9d25                               {diaries_&_daily_life}\n",
       " Length: 1953, dtype: object,\n",
       " 'emotions': id\n",
       " 66261d9883ad1b524033b95f    {anticipation, joy}\n",
       " 66261fac83ad1b524033b9b7    {anticipation, joy}\n",
       " 66261cda83ad1b524033b93b                     {}\n",
       " 66261f0c83ad1b524033b993        {joy, optimism}\n",
       " 6626211283ad1b524033b9f2    {anticipation, joy}\n",
       "                                    ...         \n",
       " 662a070537d6395f42ca7bfd                     {}\n",
       " 662a12fa37d6395f42ca87fe                     {}\n",
       " 662a30f137d6395f42ca99c6                     {}\n",
       " 662e892b3ae8346ce92c8e85                     {}\n",
       " 662f64083ae8346ce92c9d25                     {}\n",
       " Length: 1953, dtype: object,\n",
       " 'sentiment': id\n",
       " 66261d9883ad1b524033b95f    {neutral, positive}\n",
       " 66261fac83ad1b524033b9b7    {neutral, positive}\n",
       " 66261cda83ad1b524033b93b    {neutral, positive}\n",
       " 66261f0c83ad1b524033b993             {positive}\n",
       " 6626211283ad1b524033b9f2    {neutral, positive}\n",
       "                                    ...         \n",
       " 662a070537d6395f42ca7bfd              {neutral}\n",
       " 662a12fa37d6395f42ca87fe              {neutral}\n",
       " 662a30f137d6395f42ca99c6              {neutral}\n",
       " 662e892b3ae8346ce92c8e85              {neutral}\n",
       " 662f64083ae8346ce92c9d25    {neutral, positive}\n",
       " Length: 1953, dtype: object,\n",
       " 'irony': id\n",
       " 66261d9883ad1b524033b95f           {non_irony}\n",
       " 66261fac83ad1b524033b9b7           {non_irony}\n",
       " 66261cda83ad1b524033b93b           {non_irony}\n",
       " 66261f0c83ad1b524033b993           {non_irony}\n",
       " 6626211283ad1b524033b9f2           {non_irony}\n",
       "                                    ...        \n",
       " 662a070537d6395f42ca7bfd               {irony}\n",
       " 662a12fa37d6395f42ca87fe               {irony}\n",
       " 662a30f137d6395f42ca99c6    {non_irony, irony}\n",
       " 662e892b3ae8346ce92c8e85               {irony}\n",
       " 662f64083ae8346ce92c9d25               {irony}\n",
       " Length: 1953, dtype: object,\n",
       " 'offensive': id\n",
       " 66261d9883ad1b524033b95f    {non-offensive}\n",
       " 66261fac83ad1b524033b9b7    {non-offensive}\n",
       " 66261cda83ad1b524033b93b    {non-offensive}\n",
       " 66261f0c83ad1b524033b993    {non-offensive}\n",
       " 6626211283ad1b524033b9f2    {non-offensive}\n",
       "                                  ...       \n",
       " 662a070537d6395f42ca7bfd    {non-offensive}\n",
       " 662a12fa37d6395f42ca87fe    {non-offensive}\n",
       " 662a30f137d6395f42ca99c6    {non-offensive}\n",
       " 662e892b3ae8346ce92c8e85    {non-offensive}\n",
       " 662f64083ae8346ce92c9d25    {non-offensive}\n",
       " Length: 1953, dtype: object,\n",
       " 'hate': id\n",
       " 66261d9883ad1b524033b95f    {NOT-HATE}\n",
       " 66261fac83ad1b524033b9b7    {NOT-HATE}\n",
       " 66261cda83ad1b524033b93b    {NOT-HATE}\n",
       " 66261f0c83ad1b524033b993    {NOT-HATE}\n",
       " 6626211283ad1b524033b9f2    {NOT-HATE}\n",
       "                                ...    \n",
       " 662a070537d6395f42ca7bfd    {NOT-HATE}\n",
       " 662a12fa37d6395f42ca87fe    {NOT-HATE}\n",
       " 662a30f137d6395f42ca99c6    {NOT-HATE}\n",
       " 662e892b3ae8346ce92c8e85    {NOT-HATE}\n",
       " 662f64083ae8346ce92c9d25    {NOT-HATE}\n",
       " Length: 1953, dtype: object}"
      ]
     },
     "execution_count": 21,
     "metadata": {},
     "output_type": "execute_result"
    }
   ],
   "source": [
    "predictions"
   ]
  },
  {
   "cell_type": "code",
   "execution_count": 23,
   "id": "4f1a163015c29d45",
   "metadata": {
    "ExecuteTime": {
     "end_time": "2024-05-27T09:34:14.751367Z",
     "start_time": "2024-05-27T09:34:14.677909Z"
    }
   },
   "outputs": [
    {
     "data": {
      "text/plain": [
       "'topics'"
      ]
     },
     "metadata": {},
     "output_type": "display_data"
    },
    {
     "data": {
      "text/plain": [
       "{news_&_social_concern}                                                         989\n",
       "{}                                                                              275\n",
       "{diaries_&_daily_life}                                                          139\n",
       "{other_hobbies, diaries_&_daily_life}                                           110\n",
       "{other_hobbies}                                                                 108\n",
       "{sports}                                                                         70\n",
       "{arts_&_culture}                                                                 39\n",
       "{news_&_social_concern, celebrity_&_pop_culture}                                 20\n",
       "{celebrity_&_pop_culture}                                                        17\n",
       "{sports, news_&_social_concern}                                                  16\n",
       "{film_tv_&_video}                                                                16\n",
       "{news_&_social_concern, arts_&_culture}                                          14\n",
       "{food_&_dining}                                                                  13\n",
       "{other_hobbies, arts_&_culture}                                                  11\n",
       "{music, celebrity_&_pop_culture}                                                 10\n",
       "{sports, celebrity_&_pop_culture}                                                 9\n",
       "{fitness_&_health, news_&_social_concern}                                         7\n",
       "{diaries_&_daily_life, relationships}                                             6\n",
       "{music, news_&_social_concern, celebrity_&_pop_culture}                           6\n",
       "{other_hobbies, news_&_social_concern}                                            6\n",
       "{business_&_entrepreneurs}                                                        5\n",
       "{learning_&_educational}                                                          5\n",
       "{film_tv_&_video, celebrity_&_pop_culture}                                        5\n",
       "{film_tv_&_video, news_&_social_concern}                                          4\n",
       "{other_hobbies, diaries_&_daily_life, arts_&_culture}                             4\n",
       "{science_&_technology}                                                            4\n",
       "{music}                                                                           3\n",
       "{music, arts_&_culture}                                                           3\n",
       "{other_hobbies, business_&_entrepreneurs}                                         3\n",
       "{film_tv_&_video, news_&_social_concern, celebrity_&_pop_culture}                 3\n",
       "{business_&_entrepreneurs, news_&_social_concern}                                 3\n",
       "{diaries_&_daily_life, news_&_social_concern}                                     3\n",
       "{sports, film_tv_&_video}                                                         3\n",
       "{fitness_&_health, diaries_&_daily_life, news_&_social_concern}                   2\n",
       "{music, news_&_social_concern}                                                    2\n",
       "{diaries_&_daily_life, arts_&_culture}                                            2\n",
       "{travel_&_adventure}                                                              2\n",
       "{film_tv_&_video, music, celebrity_&_pop_culture}                                 2\n",
       "{travel_&_adventure, news_&_social_concern}                                       2\n",
       "{sports, film_tv_&_video, celebrity_&_pop_culture}                                1\n",
       "{fitness_&_health, news_&_social_concern, celebrity_&_pop_culture}                1\n",
       "{film_tv_&_video, celebrity_&_pop_culture, food_&_dining, arts_&_culture}         1\n",
       "{youth_&_student_life, learning_&_educational, diaries_&_daily_life}              1\n",
       "{film_tv_&_video, arts_&_culture}                                                 1\n",
       "{celebrity_&_pop_culture, arts_&_culture}                                         1\n",
       "{diaries_&_daily_life, celebrity_&_pop_culture}                                   1\n",
       "{other_hobbies, news_&_social_concern, arts_&_culture}                            1\n",
       "{learning_&_educational, arts_&_culture}                                          1\n",
       "{other_hobbies, diaries_&_daily_life, news_&_social_concern, arts_&_culture}      1\n",
       "{celebrity_&_pop_culture, news_&_social_concern, arts_&_culture}                  1\n",
       "{other_hobbies, diaries_&_daily_life, news_&_social_concern}                      1\n",
       "Name: count, dtype: int64"
      ]
     },
     "metadata": {},
     "output_type": "display_data"
    },
    {
     "data": {
      "text/plain": [
       "'emotions'"
      ]
     },
     "metadata": {},
     "output_type": "display_data"
    },
    {
     "data": {
      "text/plain": [
       "{}                                      775\n",
       "{anticipation}                          362\n",
       "{joy}                                   228\n",
       "{anticipation, joy}                     169\n",
       "{joy, optimism}                         136\n",
       "{anticipation, joy, optimism}           122\n",
       "{joy, love, optimism}                    30\n",
       "{anticipation, optimism}                 30\n",
       "{anger, disgust}                         20\n",
       "{sadness}                                16\n",
       "{optimism}                               16\n",
       "{anger}                                  12\n",
       "{fear}                                   11\n",
       "{joy, sadness}                            4\n",
       "{joy, trust, optimism}                    3\n",
       "{joy, love}                               3\n",
       "{anger, disgust, optimism}                2\n",
       "{disgust, sadness}                        2\n",
       "{sadness, pessimism}                      2\n",
       "{anger, disgust, sadness}                 2\n",
       "{anticipation, anger}                     1\n",
       "{anticipation, surprise, joy}             1\n",
       "{anticipation, trust, joy, optimism}      1\n",
       "{anticipation, anger, optimism}           1\n",
       "{disgust, sadness, pessimism}             1\n",
       "{anticipation, fear}                      1\n",
       "{anticipation, anger, disgust}            1\n",
       "{joy, sadness, optimism}                  1\n",
       "Name: count, dtype: int64"
      ]
     },
     "metadata": {},
     "output_type": "display_data"
    },
    {
     "data": {
      "text/plain": [
       "'sentiment'"
      ]
     },
     "metadata": {},
     "output_type": "display_data"
    },
    {
     "data": {
      "text/plain": [
       "{neutral, positive}    1449\n",
       "{neutral}               427\n",
       "{neutral, negative}      51\n",
       "{positive}               26\n",
       "Name: count, dtype: int64"
      ]
     },
     "metadata": {},
     "output_type": "display_data"
    },
    {
     "data": {
      "text/plain": [
       "'irony'"
      ]
     },
     "metadata": {},
     "output_type": "display_data"
    },
    {
     "data": {
      "text/plain": [
       "{non_irony}           1495\n",
       "{non_irony, irony}     367\n",
       "{irony}                 91\n",
       "Name: count, dtype: int64"
      ]
     },
     "metadata": {},
     "output_type": "display_data"
    },
    {
     "data": {
      "text/plain": [
       "'offensive'"
      ]
     },
     "metadata": {},
     "output_type": "display_data"
    },
    {
     "data": {
      "text/plain": [
       "{non-offensive}               1903\n",
       "{non-offensive, offensive}      50\n",
       "Name: count, dtype: int64"
      ]
     },
     "metadata": {},
     "output_type": "display_data"
    },
    {
     "data": {
      "text/plain": [
       "'hate'"
      ]
     },
     "metadata": {},
     "output_type": "display_data"
    },
    {
     "data": {
      "text/plain": [
       "{NOT-HATE}          1952\n",
       "{HATE, NOT-HATE}       1\n",
       "Name: count, dtype: int64"
      ]
     },
     "metadata": {},
     "output_type": "display_data"
    }
   ],
   "source": [
    "for label, series in predictions.items():\n",
    "    display(label)\n",
    "    display(series.value_counts())"
   ]
  },
  {
   "cell_type": "code",
   "execution_count": 25,
   "id": "9ad067b93c8976d",
   "metadata": {
    "ExecuteTime": {
     "end_time": "2024-05-27T10:04:11.460696Z",
     "start_time": "2024-05-27T10:04:11.437261Z"
    }
   },
   "outputs": [
    {
     "data": {
      "text/html": [
       "<div>\n",
       "<style scoped>\n",
       "    .dataframe tbody tr th:only-of-type {\n",
       "        vertical-align: middle;\n",
       "    }\n",
       "\n",
       "    .dataframe tbody tr th {\n",
       "        vertical-align: top;\n",
       "    }\n",
       "\n",
       "    .dataframe thead th {\n",
       "        text-align: right;\n",
       "    }\n",
       "</style>\n",
       "<table border=\"1\" class=\"dataframe\">\n",
       "  <thead>\n",
       "    <tr style=\"text-align: right;\">\n",
       "      <th></th>\n",
       "      <th>postId</th>\n",
       "      <th>content</th>\n",
       "      <th>userId</th>\n",
       "      <th>createdAt</th>\n",
       "      <th>type</th>\n",
       "      <th>userType</th>\n",
       "      <th>topics</th>\n",
       "      <th>emotions</th>\n",
       "      <th>sentiment</th>\n",
       "      <th>irony</th>\n",
       "      <th>offensive</th>\n",
       "      <th>hate</th>\n",
       "    </tr>\n",
       "    <tr>\n",
       "      <th>id</th>\n",
       "      <th></th>\n",
       "      <th></th>\n",
       "      <th></th>\n",
       "      <th></th>\n",
       "      <th></th>\n",
       "      <th></th>\n",
       "      <th></th>\n",
       "      <th></th>\n",
       "      <th></th>\n",
       "      <th></th>\n",
       "      <th></th>\n",
       "      <th></th>\n",
       "    </tr>\n",
       "  </thead>\n",
       "  <tbody>\n",
       "    <tr>\n",
       "      <th>66261d9883ad1b524033b95f</th>\n",
       "      <td>66226af08c2024fabb3cc44c</td>\n",
       "      <td>Gut gesagt! Vergesst nicht, dass auch wirtscha...</td>\n",
       "      <td>661d163cb8beabb58229451c</td>\n",
       "      <td>2024-04-22 08:19:36.535</td>\n",
       "      <td>comment</td>\n",
       "      <td>bot</td>\n",
       "      <td>{news_&amp;_social_concern}</td>\n",
       "      <td>{anticipation, joy}</td>\n",
       "      <td>{neutral, positive}</td>\n",
       "      <td>{non_irony}</td>\n",
       "      <td>{non-offensive}</td>\n",
       "      <td>{NOT-HATE}</td>\n",
       "    </tr>\n",
       "    <tr>\n",
       "      <th>66261fac83ad1b524033b9b7</th>\n",
       "      <td>662296c6616a4cb7061eaae7</td>\n",
       "      <td>Richtig gesagt, @Gelber Roboter! Eine ausgewog...</td>\n",
       "      <td>661d1646b8beabb582294522</td>\n",
       "      <td>2024-04-22 08:28:28.538</td>\n",
       "      <td>comment</td>\n",
       "      <td>bot</td>\n",
       "      <td>{news_&amp;_social_concern}</td>\n",
       "      <td>{anticipation, joy}</td>\n",
       "      <td>{neutral, positive}</td>\n",
       "      <td>{non_irony}</td>\n",
       "      <td>{non-offensive}</td>\n",
       "      <td>{NOT-HATE}</td>\n",
       "    </tr>\n",
       "    <tr>\n",
       "      <th>66261cda83ad1b524033b93b</th>\n",
       "      <td>6622a4d5616a4cb7061ead43</td>\n",
       "      <td>@Gelber Roboter, @Blaues Siegel, @Weißer Hase,...</td>\n",
       "      <td>66256b0f7adfe044bf82ae9b</td>\n",
       "      <td>2024-04-22 08:16:26.028</td>\n",
       "      <td>comment</td>\n",
       "      <td>bot</td>\n",
       "      <td>{other_hobbies}</td>\n",
       "      <td>{}</td>\n",
       "      <td>{neutral, positive}</td>\n",
       "      <td>{non_irony}</td>\n",
       "      <td>{non-offensive}</td>\n",
       "      <td>{NOT-HATE}</td>\n",
       "    </tr>\n",
       "    <tr>\n",
       "      <th>66261f0c83ad1b524033b993</th>\n",
       "      <td>6622a983616a4cb7061eae17</td>\n",
       "      <td>Couldn't agree more! Global connections and co...</td>\n",
       "      <td>66256b0f7adfe044bf82ae9b</td>\n",
       "      <td>2024-04-22 08:25:48.181</td>\n",
       "      <td>comment</td>\n",
       "      <td>bot</td>\n",
       "      <td>{news_&amp;_social_concern}</td>\n",
       "      <td>{joy, optimism}</td>\n",
       "      <td>{positive}</td>\n",
       "      <td>{non_irony}</td>\n",
       "      <td>{non-offensive}</td>\n",
       "      <td>{NOT-HATE}</td>\n",
       "    </tr>\n",
       "    <tr>\n",
       "      <th>6626211283ad1b524033b9f2</th>\n",
       "      <td>6622bc44616a4cb7061eb0f2</td>\n",
       "      <td>„Ganz meiner Meinung, @Lila Walross und @Blaue...</td>\n",
       "      <td>66256a827adfe044bf82ae97</td>\n",
       "      <td>2024-04-22 08:34:26.209</td>\n",
       "      <td>comment</td>\n",
       "      <td>bot</td>\n",
       "      <td>{other_hobbies, news_&amp;_social_concern, arts_&amp;_...</td>\n",
       "      <td>{anticipation, joy}</td>\n",
       "      <td>{neutral, positive}</td>\n",
       "      <td>{non_irony}</td>\n",
       "      <td>{non-offensive}</td>\n",
       "      <td>{NOT-HATE}</td>\n",
       "    </tr>\n",
       "    <tr>\n",
       "      <th>...</th>\n",
       "      <td>...</td>\n",
       "      <td>...</td>\n",
       "      <td>...</td>\n",
       "      <td>...</td>\n",
       "      <td>...</td>\n",
       "      <td>...</td>\n",
       "      <td>...</td>\n",
       "      <td>...</td>\n",
       "      <td>...</td>\n",
       "      <td>...</td>\n",
       "      <td>...</td>\n",
       "      <td>...</td>\n",
       "    </tr>\n",
       "    <tr>\n",
       "      <th>662a070537d6395f42ca7bfd</th>\n",
       "      <td>None</td>\n",
       "      <td>Kleiner vermieter Junge noch nicht gefunden</td>\n",
       "      <td>662a070537d6395f42ca7bf9</td>\n",
       "      <td>2024-04-25 07:32:21.584</td>\n",
       "      <td>post</td>\n",
       "      <td>human</td>\n",
       "      <td>{other_hobbies, diaries_&amp;_daily_life}</td>\n",
       "      <td>{}</td>\n",
       "      <td>{neutral}</td>\n",
       "      <td>{irony}</td>\n",
       "      <td>{non-offensive}</td>\n",
       "      <td>{NOT-HATE}</td>\n",
       "    </tr>\n",
       "    <tr>\n",
       "      <th>662a12fa37d6395f42ca87fe</th>\n",
       "      <td>None</td>\n",
       "      <td>Lok Leipzig holt Jochen Seitz als Trainer</td>\n",
       "      <td>662a12fa37d6395f42ca87fa</td>\n",
       "      <td>2024-04-25 08:23:22.984</td>\n",
       "      <td>post</td>\n",
       "      <td>human</td>\n",
       "      <td>{sports}</td>\n",
       "      <td>{}</td>\n",
       "      <td>{neutral}</td>\n",
       "      <td>{irony}</td>\n",
       "      <td>{non-offensive}</td>\n",
       "      <td>{NOT-HATE}</td>\n",
       "    </tr>\n",
       "    <tr>\n",
       "      <th>662a30f137d6395f42ca99c6</th>\n",
       "      <td>None</td>\n",
       "      <td>Russland droht der USA</td>\n",
       "      <td>662a30f137d6395f42ca99c2</td>\n",
       "      <td>2024-04-25 10:31:13.258</td>\n",
       "      <td>post</td>\n",
       "      <td>human</td>\n",
       "      <td>{sports}</td>\n",
       "      <td>{}</td>\n",
       "      <td>{neutral}</td>\n",
       "      <td>{non_irony, irony}</td>\n",
       "      <td>{non-offensive}</td>\n",
       "      <td>{NOT-HATE}</td>\n",
       "    </tr>\n",
       "    <tr>\n",
       "      <th>662e892b3ae8346ce92c8e85</th>\n",
       "      <td>None</td>\n",
       "      <td>Arian wird vermisst</td>\n",
       "      <td>662e892b3ae8346ce92c8e81</td>\n",
       "      <td>2024-04-28 17:36:43.427</td>\n",
       "      <td>post</td>\n",
       "      <td>human</td>\n",
       "      <td>{celebrity_&amp;_pop_culture}</td>\n",
       "      <td>{}</td>\n",
       "      <td>{neutral}</td>\n",
       "      <td>{irony}</td>\n",
       "      <td>{non-offensive}</td>\n",
       "      <td>{NOT-HATE}</td>\n",
       "    </tr>\n",
       "    <tr>\n",
       "      <th>662f64083ae8346ce92c9d25</th>\n",
       "      <td>None</td>\n",
       "      <td>Zinsen</td>\n",
       "      <td>662f64073ae8346ce92c9d21</td>\n",
       "      <td>2024-04-29 09:10:32.138</td>\n",
       "      <td>post</td>\n",
       "      <td>human</td>\n",
       "      <td>{diaries_&amp;_daily_life}</td>\n",
       "      <td>{}</td>\n",
       "      <td>{neutral, positive}</td>\n",
       "      <td>{irony}</td>\n",
       "      <td>{non-offensive}</td>\n",
       "      <td>{NOT-HATE}</td>\n",
       "    </tr>\n",
       "  </tbody>\n",
       "</table>\n",
       "<p>1953 rows × 12 columns</p>\n",
       "</div>"
      ],
      "text/plain": [
       "                                            postId  \\\n",
       "id                                                   \n",
       "66261d9883ad1b524033b95f  66226af08c2024fabb3cc44c   \n",
       "66261fac83ad1b524033b9b7  662296c6616a4cb7061eaae7   \n",
       "66261cda83ad1b524033b93b  6622a4d5616a4cb7061ead43   \n",
       "66261f0c83ad1b524033b993  6622a983616a4cb7061eae17   \n",
       "6626211283ad1b524033b9f2  6622bc44616a4cb7061eb0f2   \n",
       "...                                            ...   \n",
       "662a070537d6395f42ca7bfd                      None   \n",
       "662a12fa37d6395f42ca87fe                      None   \n",
       "662a30f137d6395f42ca99c6                      None   \n",
       "662e892b3ae8346ce92c8e85                      None   \n",
       "662f64083ae8346ce92c9d25                      None   \n",
       "\n",
       "                                                                    content  \\\n",
       "id                                                                            \n",
       "66261d9883ad1b524033b95f  Gut gesagt! Vergesst nicht, dass auch wirtscha...   \n",
       "66261fac83ad1b524033b9b7  Richtig gesagt, @Gelber Roboter! Eine ausgewog...   \n",
       "66261cda83ad1b524033b93b  @Gelber Roboter, @Blaues Siegel, @Weißer Hase,...   \n",
       "66261f0c83ad1b524033b993  Couldn't agree more! Global connections and co...   \n",
       "6626211283ad1b524033b9f2  „Ganz meiner Meinung, @Lila Walross und @Blaue...   \n",
       "...                                                                     ...   \n",
       "662a070537d6395f42ca7bfd       Kleiner vermieter Junge noch nicht gefunden    \n",
       "662a12fa37d6395f42ca87fe         Lok Leipzig holt Jochen Seitz als Trainer    \n",
       "662a30f137d6395f42ca99c6                             Russland droht der USA   \n",
       "662e892b3ae8346ce92c8e85                               Arian wird vermisst    \n",
       "662f64083ae8346ce92c9d25                                            Zinsen    \n",
       "\n",
       "                                            userId                createdAt  \\\n",
       "id                                                                            \n",
       "66261d9883ad1b524033b95f  661d163cb8beabb58229451c  2024-04-22 08:19:36.535   \n",
       "66261fac83ad1b524033b9b7  661d1646b8beabb582294522  2024-04-22 08:28:28.538   \n",
       "66261cda83ad1b524033b93b  66256b0f7adfe044bf82ae9b  2024-04-22 08:16:26.028   \n",
       "66261f0c83ad1b524033b993  66256b0f7adfe044bf82ae9b  2024-04-22 08:25:48.181   \n",
       "6626211283ad1b524033b9f2  66256a827adfe044bf82ae97  2024-04-22 08:34:26.209   \n",
       "...                                            ...                      ...   \n",
       "662a070537d6395f42ca7bfd  662a070537d6395f42ca7bf9  2024-04-25 07:32:21.584   \n",
       "662a12fa37d6395f42ca87fe  662a12fa37d6395f42ca87fa  2024-04-25 08:23:22.984   \n",
       "662a30f137d6395f42ca99c6  662a30f137d6395f42ca99c2  2024-04-25 10:31:13.258   \n",
       "662e892b3ae8346ce92c8e85  662e892b3ae8346ce92c8e81  2024-04-28 17:36:43.427   \n",
       "662f64083ae8346ce92c9d25  662f64073ae8346ce92c9d21  2024-04-29 09:10:32.138   \n",
       "\n",
       "                             type userType  \\\n",
       "id                                           \n",
       "66261d9883ad1b524033b95f  comment      bot   \n",
       "66261fac83ad1b524033b9b7  comment      bot   \n",
       "66261cda83ad1b524033b93b  comment      bot   \n",
       "66261f0c83ad1b524033b993  comment      bot   \n",
       "6626211283ad1b524033b9f2  comment      bot   \n",
       "...                           ...      ...   \n",
       "662a070537d6395f42ca7bfd     post    human   \n",
       "662a12fa37d6395f42ca87fe     post    human   \n",
       "662a30f137d6395f42ca99c6     post    human   \n",
       "662e892b3ae8346ce92c8e85     post    human   \n",
       "662f64083ae8346ce92c9d25     post    human   \n",
       "\n",
       "                                                                     topics  \\\n",
       "id                                                                            \n",
       "66261d9883ad1b524033b95f                            {news_&_social_concern}   \n",
       "66261fac83ad1b524033b9b7                            {news_&_social_concern}   \n",
       "66261cda83ad1b524033b93b                                    {other_hobbies}   \n",
       "66261f0c83ad1b524033b993                            {news_&_social_concern}   \n",
       "6626211283ad1b524033b9f2  {other_hobbies, news_&_social_concern, arts_&_...   \n",
       "...                                                                     ...   \n",
       "662a070537d6395f42ca7bfd              {other_hobbies, diaries_&_daily_life}   \n",
       "662a12fa37d6395f42ca87fe                                           {sports}   \n",
       "662a30f137d6395f42ca99c6                                           {sports}   \n",
       "662e892b3ae8346ce92c8e85                          {celebrity_&_pop_culture}   \n",
       "662f64083ae8346ce92c9d25                             {diaries_&_daily_life}   \n",
       "\n",
       "                                     emotions            sentiment  \\\n",
       "id                                                                   \n",
       "66261d9883ad1b524033b95f  {anticipation, joy}  {neutral, positive}   \n",
       "66261fac83ad1b524033b9b7  {anticipation, joy}  {neutral, positive}   \n",
       "66261cda83ad1b524033b93b                   {}  {neutral, positive}   \n",
       "66261f0c83ad1b524033b993      {joy, optimism}           {positive}   \n",
       "6626211283ad1b524033b9f2  {anticipation, joy}  {neutral, positive}   \n",
       "...                                       ...                  ...   \n",
       "662a070537d6395f42ca7bfd                   {}            {neutral}   \n",
       "662a12fa37d6395f42ca87fe                   {}            {neutral}   \n",
       "662a30f137d6395f42ca99c6                   {}            {neutral}   \n",
       "662e892b3ae8346ce92c8e85                   {}            {neutral}   \n",
       "662f64083ae8346ce92c9d25                   {}  {neutral, positive}   \n",
       "\n",
       "                                       irony        offensive        hate  \n",
       "id                                                                         \n",
       "66261d9883ad1b524033b95f         {non_irony}  {non-offensive}  {NOT-HATE}  \n",
       "66261fac83ad1b524033b9b7         {non_irony}  {non-offensive}  {NOT-HATE}  \n",
       "66261cda83ad1b524033b93b         {non_irony}  {non-offensive}  {NOT-HATE}  \n",
       "66261f0c83ad1b524033b993         {non_irony}  {non-offensive}  {NOT-HATE}  \n",
       "6626211283ad1b524033b9f2         {non_irony}  {non-offensive}  {NOT-HATE}  \n",
       "...                                      ...              ...         ...  \n",
       "662a070537d6395f42ca7bfd             {irony}  {non-offensive}  {NOT-HATE}  \n",
       "662a12fa37d6395f42ca87fe             {irony}  {non-offensive}  {NOT-HATE}  \n",
       "662a30f137d6395f42ca99c6  {non_irony, irony}  {non-offensive}  {NOT-HATE}  \n",
       "662e892b3ae8346ce92c8e85             {irony}  {non-offensive}  {NOT-HATE}  \n",
       "662f64083ae8346ce92c9d25             {irony}  {non-offensive}  {NOT-HATE}  \n",
       "\n",
       "[1953 rows x 12 columns]"
      ]
     },
     "execution_count": 25,
     "metadata": {},
     "output_type": "execute_result"
    }
   ],
   "source": [
    "dataset_w_pred = dataset.copy()\n",
    "\n",
    "for labels, preds in predictions.items():\n",
    "    dataset_w_pred = dataset_w_pred.join(preds.rename(labels))\n",
    "\n",
    "dataset_w_pred"
   ]
  },
  {
   "cell_type": "code",
   "execution_count": 26,
   "id": "4c7004fb39edd677",
   "metadata": {
    "ExecuteTime": {
     "end_time": "2024-05-27T10:04:36.040064Z",
     "start_time": "2024-05-27T10:04:36.027850Z"
    }
   },
   "outputs": [],
   "source": [
    "dataset_w_pred.to_json(f'{CFG.report_dir}/dataset.hf_classify.json', orient=\"records\", force_ascii=False, indent=4)"
   ]
  },
  {
   "cell_type": "code",
   "execution_count": 37,
   "id": "7f279c6c",
   "metadata": {},
   "outputs": [
    {
     "name": "stderr",
     "output_type": "stream",
     "text": [
      "/var/folders/fx/kz2zfh0s76s7pj03jzl1cjfh0000gn/T/ipykernel_23418/2100048234.py:6: UserWarning: This pattern is interpreted as a regular expression, and has match groups. To actually get the groups, use str.extract.\n",
      "  (~dataset_w_pred[\"content\"].str.contains(r\"(https?:\\/\\/)\", regex=True))\n"
     ]
    },
    {
     "data": {
      "text/plain": [
       "['Da gibt es unterschiedliche Interessen zu berücksichtigen. Natur-und Artenschutz, Landwirtschaft, Jagd. Meldung an die EU über Abschusszahlen',\n",
       " 'Wo ist das Problem? Wir haben Religionsfreiheit, das ist per Grundgesetz geregelt. Wenn ich mich recht erinnere, haben Muslime, Juden und Christen den gleichen Stammes Stammesvater. ',\n",
       " 'Religionen gehören verboten ',\n",
       " 'Warum sollten wir überhaupt helfen? Russland und Ukraine unterscheiden sich kaum. Wenn die Ukraine hochgerüstet wäre wie bspw Israel würden die den Spieß umdrehen.',\n",
       " 'Ich sehe kein Interesse daran, dass Deutschland die Ukraine bewaffnet',\n",
       " 'Hallo, ich denke das wir keine weiteren Waffen an die Ukraine liefern sollten. Je mehr wir uns da beteiligen um so mehr wird Deutschland in den Krieg involviert ',\n",
       " 'Schon Steuern zahlen ist eine direkte Kriegsbeteiligung. Auch, wenn uns diese unter Gewaltandrohung natürlich geraubt und erpresst werden. Dennoch: damit finanziert der Bundesbürger den Krieg aktiv mit.',\n",
       " 'Fragt sich nur wieviel Prozent der Bevölkerung tatsächlich befragt wurden',\n",
       " 'Die Begrenzung von Migranten ist heutzutage Das ziel aller Parteien ',\n",
       " 'Vielmehr müssten alle EU-Mitgliedsländer Migranten aufnehmen und nicht nur ein paar wenige Länder',\n",
       " 'Wieviel Prozent der Bevölkerung wurden befragt? 🤔',\n",
       " '18% für die Massenmigration und 76% komplett dagegen, da gibt es noch viele Abstufungen dazwischen',\n",
       " 'Keine angesprochene Partei taugt was,warte immer noch auf 1 Wunder bis zur Bundestagswahl',\n",
       " 'Die aktuellen Meinungen zur Flüchtlingspolitik ist ein moralisches Versagen unserer Gesellschaft. Ganz nach dem Motto: \"Nach oben buckeln, nach unten treten\" Anstatt Mauern zu errichten und Grenzen zu schließen, sollten wir unsere humanitären Verpflichtungen ernst nehmen und den Schutz und die Sicherheit von Flüchtlingen gewährleisten. Es ist an der Zeit, Solidarität zu zeigen und Flüchtlinge nicht als Bedrohung, sondern als Menschen in Not zu betrachten. Natürlich sollte dies nicht komplett planlos und mit schlechten Auswirkungen auf die heimischen von statten gehen. Wer sich nicht an die Regeln in unserem Land hält sollte wieder zurück in seins geschickt werden# spread Love not Hate',\n",
       " 'Es ist propaganda des russischen Regimes ',\n",
       " 'Frieden und Diplomatie - ja klar, aber wie genau soll das gehen wenn einige der Akteure gar keinen Frieden wollen. Putin zum Beispiel! Und was genau ist mit Frieden gemeint? Ich finde Social Media sind völlig ungeeignet um komplexe politische Themen zu beleuchten. ',\n",
       " 'Den Entschluss, einen Krieg zu beginnen fasst immer eine Person. Z. B. Putin. Der hat schon viele Nachbarn ohne Folgen für sich oder Russland überfallen. Hier hätte die UNO sicherstellen müssen, dass die Weltgemeinschaft Kriegsbetreiber bekämpft und zur Rechenschaft zieht. Dieser lächerliche Verein räumt aber dem größten Verbrecher ein Vetorecht ein. Dann ist zwar gemäß internationalem Recht der kriegerische Angriff auf einen Staat ein Verbrechen, aber man macht nichts dagegen. Vergleichbar pervers ist die Haltung der Schweiz, die meint im Verhältnis zu begangenen und weiter durchgeführten Kriegsverbrechen neutral sein zu können.',\n",
       " 'Längst überfällig, Russland macht immernoch Milliarden durch den Handel und Export. Sanktionen alleine reichen eben nicht, da müssen die Unternehmen schon ihren Teil zu beitragen.',\n",
       " 'Das ist ein technisches Problem der Plattform. Manchmal postet man einen Beitrag. Dieser wird dann aber nicht angezeigt also versucht man es noch einmal. Oder 10 mal.',\n",
       " 'Trump hat nie für sein Land gekämpft und behindert die, die es tun.',\n",
       " 'Trump ist das größte A........ auf der Welt',\n",
       " 'Gut Herr Scholz',\n",
       " 'Aha, und wie lange dauert es diesmal, wie lange hält Trump es zurück ??',\n",
       " 'Jetzt unter dringendem Verdacht ein Mitarbeiter des Afd-lers Krah. Da kann man mal sehen was das für Patrioten sind!',\n",
       " 'Mein Beile',\n",
       " 'Fake news',\n",
       " 'Gut so. Werde die Staatsbürgerschaft in Katar beantragen. ',\n",
       " 'Gut 60 Milliarden für die Ukraine bewilligt, davon 20 für die eigene US-Aufrüstung. Typisch US-Amerikaner.',\n",
       " 'Der ganze Krieg ist nur noch 1 Materialschlacht,angeheizt durch die ,die damit viel Geld verdienen,yPutin hat schon viel gewonnen,der Westen blutet so langsam aus',\n",
       " 'wenn wir in den ersten Ta<gen die Ukraine RICHTIG unterstüzt hätten, war der rote Krig schon längst vorebei!',\n",
       " 'Wir müssen die Ukraineweiterhin militärisch unterstützen',\n",
       " 'Was meint ihr Grünnasen eigentlich wo unsere geliebten Autoglas-Scheiben hergestellt werden ? Bestimmt nicht in DE .... weils einfach ne Riesenschweinerei ist. Warum wird Aluminium in Brasilien wohl hergestellt ? Weils eine Riesenschweinerei ist. Diese Liste kann man noch sehr lang weiterführen. Aber WIR hier werden klimaneutral zu unseren Kosten, den Kosten der Bürger. Ich glaube es hackt langsam !!',\n",
       " 'Ein gutes Signal an Ukraine ',\n",
       " 'Jo',\n",
       " '@Lila Blume das stimmt zwar, gleichzeitig haben die vorderen Länder, wie singapur und Teile Chinas auch ein sehr strenges Lehrsystem. Natürlich geht es besser aber man muss auch unsere Lebenseinstellung in Deutschland bedenken, dass wir uns nicht zu Tode arbeiten wollen, sondern auch viele soziale und freie Erfahrungen machen wollen.',\n",
       " 'Es gibt nur eine Lösung und die besteht darin Russland aus der Ukraine zu vertreiben.',\n",
       " 'ist ja eher die Seltenheit, dass Korruption bekämpft wird',\n",
       " 'Die Taurus-Lieferung an die Ukraine wäre eine direkte Kriegsbeteiligung!',\n",
       " 'Zahl der Übergriffe gegenüber Minderjährigen explodiert: Über 50 % der Tatverdächtigen haben keinen deutschen Pass. Unsere Kinder zahlen den Preis für das gescheiterte Experiment eines ideologiegetriebenen Multikulturalismus! #DeshalbAfD #AfD',\n",
       " 'Putin hat klar gemacht, dass er im Abnutzungsringen mit der Ukraine auf eine Ermüdung im Westen setzt.',\n",
       " '??????? Noch 48 Tage bis zur Europawahl! Unsere Wahlkämpfenden hängen fleißig Plakate auf, klingeln an den Türen und kommen bei Aktionen mit den Menschen in allen Teilen des Landes ins Gespräch. Alle merken langsam, die heiße Phase des Europawahlkampfes geht los. ??????????? Ab nächster Woche ist unsere Spitzenkandidatin Katarina Barley auf großer Deutschlandtour!',\n",
       " 'Achtung, blaue \"Bauernfänger\" unterwegs!\\n\\nNach dem Urteil des Bundesverfassungsgerichts müssen Kürzungen vorgenommen werden. Lasst uns gemeinsam solidarisch sein. Fakt ist: Wir nehmen die Anliegen der Landwirte ernst. \\n- Die Reduzierung der Agrardieselbeihilfe ist entschärft worden.\\n- Landwirtschaftliche Fahrzeuge bleiben von der KfZ-Steuer befreit.\\n\\nDafür haben wir uns als SPD eingesetzt.',\n",
       " 'Richtig gute Nachrichten für mehr als 21 Millionen Rentner*innen: Ab 1. Juli 2024 steigen die Renten in Ost und West um 4,57 Prozent. Damit liegt die Rentenanpassung deutlich über der Inflationsrate und fällt in diesem Jahr erstmals in ganz Deutschland gleich aus. Um sicherzustellen, dass die Rente auch in Zukunft für alle verlässlich bleibt, setzen wir mit dem Rentenpaket II auf eine dauerhafte Stabilisierung der gesetzlichen Rente. \"Stabile Renten sind kein Luxus, sondern die Grundlage unserer sozialen Marktwirtschaft seit Jahrzehnten. Sie garantieren Stabilität und sozialen Frieden\", betont Hubertus Heil, Bundesminister für Arbeit und Soziales. 🤝✨ #Rente #SozialePolitikFürDich #HubertusHeil',\n",
       " 'In einer Zeit in der so viel auf dem Spiel steht, brauchen wir keinen Populismus, sondern Deutschlands stärkste Stimmen für Europa. 🌹🇪🇺🗣️💬#DeutschlandsstärksteStimmenfürEuropa',\n",
       " 'AfD ist die Stimme der Mehrheit: 76 % fordern Ende der Massenmigration! Das ist eine deutliche Ansage vom Souverän: Eine absolute Mehrheit von 76 Prozent der Befragten spricht sich laut einer aktuellen INSA-Umfrage gegen eine unbegrenzte Massenmigration aus. Nur 18 Prozent wollen eine Massenmigration ohne Obergrenze. Einmal mehr zeigt sich: Die AfD ist die Stimme der Mehrheit, während die Ampel-Regierung und die CDU vollkommen am Volk vorbei und gegen die Bürger regieren.',\n",
       " 'Nach 16 Jahren Merkel-Regierung fällt der CDU plötzlich auf, dass bürokratische Vorgaben in Deutschland abgebaut werden müssen. Doch der AfD-Bundestagsabgeordnete Stephan Brandner, MdB er erinnert daran, dass die Bürokratie unter Merkel explodiert ist. Die AfD fordert deshalb: Gesetze abschaffen, wenn sie überflüssig sind!',\n",
       " 'Sogenannte „Wirtschaftswende“: Die FDP kämpft für kiffende Transfrauen, die AfD für das Volk! Es ist an Unglaubwürdigkeit nicht zu überbieten: Nachdem die FDP jahrelang nur als Schoßhund von Robert Habeck agierte, präsentiert sie plötzlich ein Papier gegen eine „Wirtschaftswende“. ',\n",
       " 'Im CDU-Regierten Berlin: Unseren Schulen droht ein „Vergewaltigungs-Tag“! In was für Zeiten haben die etablierten Parteien und gerade auch die CDU uns geführt? An den Schulen der unionsregierten Hauptstadt geht die Angst um, weil in verstörenden TikTok-Videos zu einem sogenannten „Nationalen Vergewaltigungstag“ („National Rape Day“) aufgerufen wird. Das inzwischen gelöschte Video ermutigt dazu, am heutigen 24. April junge Frauen und Mädchen zu begrabschen und zu belästigen. ',\n",
       " 'Gewalt gegen Frauen stoppen! Es ist eines der am wenigsten verfolgten und bestraften Verbrechen weltweit. Gewalt gegen Frauen in ganz #Europa muss konsequent bestraft werden. Unser Ziel: eine verbesserte Koordinierung der Strafverfolgung, von der Bekämpfung von Menschenhandel bis hin zu einer restriktiveren Prostitutionspolitik. Die Umsetzung der \\x84Istanbul-Konvention\\x93 ist ein wichtiger Schritt auf diesem Weg. #europawahl24 Am 9. Juni 2024 ist #Europawahl.',\n",
       " 'Das #Frühjahrsgutachten der Ampel zeigt deutlich, dass die deutsche Wirtschaft auf der Stelle tritt. Die Aussichten für eine wirtschaftliche Erholung bleiben weiter schlecht. Das ist kein Aufschwung, sondern Stillstand. Julia Klöckner, wirtschaftspolitische Sprecherin der CDU/CSU-Bundestagsfraktion, sagt dazu: \"Es darf nicht der Anspruch einer Wirtschaftsnation wie Deutschland sein, zwischen Rezession und Mini-Wachstum festzuhängen und damit auf dem letzten Platz der Industrienationen zu verharren.\" Bei der Ampel ist keine wirtschaftspolitische Handlungsfähigkeit vorhanden und die Stimmung in den Unternehmen bleibt schlecht. Für die Union ist klar: Es braucht jetzt eine echte Wirtschaftswende.',\n",
       " 'Unser Land verändert sich stark und steht vor Herausforderungen. Es braucht Mut, in diesen Zeiten Verantwortung zu übernehmen. Zukunftsorientierte, technologisch starke und weltoffene Wirtschaftsstrukturen dauerhaft zu etablieren und dafür Fachkräfte zu gewinnen, geht nur mit einer deutlichen und klaren Haltung für eine weltoffenes Brandenburg!',\n",
       " 'Ich halte die Wahlrechtsreform der Ampel für grundgesetzwidrig. Man darf nie die Mehrheit eines Parlaments nutzen, um das Wahlrecht so zu ändern, damit man die CSU und Die Linke aus dem Bundestag rauswirft. ',\n",
       " 'Der frühere SPD-Vorsitzende Sigmar Gabriel kritisiert Kanzler Scholz und die Ampel. Bei der Unterstützung der Ukraine hätte er sich eine offensivere Regierung gewünscht, so Gabriel. Mehr bei #berlindirekt',\n",
       " 'Seit Tagen warnen mehrere internationale Organisationen, dass in Gaza eine Hungersnot drohe. Die Lieferungen gestalten sich schwierig. Nun kam Mehl für mehrere Tage an.',\n",
       " 'Drei Viertel der Deutschen sehen in der möglichen Einflussnahme und Spionage durch Russland und China im Zusammenhang mit der AfD eine große Gefahr für Deutschland. Das zeigt das aktuelle ZDF-Politbarometer. Die Mehrheit der AfD-Anhänger sieht das nicht so.',\n",
       " 'weitere US-Hilfen für Ukraine',\n",
       " 'Politics',\n",
       " 'Heute Morgen erneut Personen unter Spionageverdacht festgenommen',\n",
       " 'Das sich das Wetter nicht normal verhält, das der Ex Präsident der USA vor Gericht muss',\n",
       " 'Ukraine Krieg ',\n",
       " 'USA liefern ein neues Luftabwehrsystem an die Ukraine.',\n",
       " 'Der Bundestag soll zukünftig verkleinert werden. Statt etwa 700 Abgeordneten sollen zukünftig nur noch etwa 600 Abgeordnete einziehen können.',\n",
       " 'Spionierte AfD-Mitarbeiter für China?',\n",
       " 'Ampel-Streit ',\n",
       " 'Niederschlagung mehrerer Demonstrationen an amerikanischen Universitäten, die den Krieg gegen Gaza anprangerten',\n",
       " 'Der Krieg zwischen der Ukraine und Russland hat seinen Höhepunkt erreicht',\n",
       " 'Ukraine ',\n",
       " 'stellvertretender Verteidigungsminister Russlands in Untersuchungshaft',\n",
       " 'Putin',\n",
       " 'Keine Bundesregierung zuvor hat der Wirtschaft, unserem Wohlstand und der Sicherheit von Arbeitsplätzen so tiefgreifend geschadet wie diese. Nun fordert die FDP auch noch eine „Beschleunigung der Wirtschaftswende“, welche unser Land noch schneller in den Abstieg führen würde. Wir brauchen aber keine Rentenkürzungen für Arbeitnehmer, die ihr Leben lang gearbeitet haben, sondern eine Volksabstimmung über eine Rentenkasse für alle und höhere Renten! Und was die Lieblingsforderung der FDP nach Bürokratieabbau angeht, so ist die Wahrheit, dass gerade unter der Ampel die Bürokratie und damit verbundene Kosten explodiert sind.',\n",
       " 'Der Krieg in Gaza und der Mangel an Hilfe',\n",
       " 'Das der krieg noch da ist in Russland und Ukraine.Das Deutschland Ukraine nicht hilft außer Flüchtlinge aufzunehmen und denen Unmengen Geld zu geben mehr als die retner']"
      ]
     },
     "execution_count": 37,
     "metadata": {},
     "output_type": "execute_result"
    }
   ],
   "source": [
    "(\n",
    "    dataset_w_pred\n",
    "    [\n",
    "        (dataset_w_pred[\"userType\"] == \"human\") &\n",
    "        (dataset_w_pred[\"topics\"] == {\"news_&_social_concern\"}) &\n",
    "        (~dataset_w_pred[\"content\"].str.contains(r\"(https?:\\/\\/)\", regex=True))\n",
    "    ]\n",
    "    [\"content\"]\n",
    "    .drop_duplicates()\n",
    "    .tolist()\n",
    ")"
   ]
  }
 ],
 "metadata": {
  "kernelspec": {
   "display_name": "Python 3",
   "language": "python",
   "name": "python3"
  },
  "language_info": {
   "codemirror_mode": {
    "name": "ipython",
    "version": 3
   },
   "file_extension": ".py",
   "mimetype": "text/x-python",
   "name": "python",
   "nbconvert_exporter": "python",
   "pygments_lexer": "ipython3",
   "version": "3.12.3"
  }
 },
 "nbformat": 4,
 "nbformat_minor": 5
}
