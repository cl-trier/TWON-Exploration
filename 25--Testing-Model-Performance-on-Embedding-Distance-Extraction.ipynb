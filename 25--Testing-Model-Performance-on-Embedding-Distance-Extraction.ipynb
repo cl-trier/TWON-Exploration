{
 "cells": [
  {
   "cell_type": "code",
   "execution_count": null,
   "metadata": {},
   "outputs": [],
   "source": [
    "#this notebook compares the performance of embeddings extracted by Llama3 models on a sentence similarity task\n",
    "\n"
   ]
  }
 ],
 "metadata": {
  "language_info": {
   "name": "python"
  }
 },
 "nbformat": 4,
 "nbformat_minor": 2
}
