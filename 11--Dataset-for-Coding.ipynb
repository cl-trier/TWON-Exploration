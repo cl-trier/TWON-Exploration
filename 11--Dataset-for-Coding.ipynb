{
 "cells": [
  {
   "cell_type": "code",
   "execution_count": 11,
   "metadata": {},
   "outputs": [],
   "source": [
    "import pandas as pd\n",
    "\n",
    "import config"
   ]
  },
  {
   "cell_type": "code",
   "execution_count": 12,
   "metadata": {},
   "outputs": [],
   "source": [
    "CFG = config.Config()"
   ]
  },
  {
   "cell_type": "code",
   "execution_count": 122,
   "metadata": {},
   "outputs": [
    {
     "data": {
      "text/plain": [
       "id\n",
       "6627b209a6b56b19b4300284    Genau, @Gelber Roboter! Finanzielle Verantwort...\n",
       "662ca6e5889820447de178cd    @Grünes Kaninchen @Black Boxer Gut gesagt! Fin...\n",
       "662cb878889820447de17cfc    Ganz meiner Überzeugung! Balancierte Regulieru...\n",
       "662fdac1889820447de1ee68    Gut zu sehen, dass wir uns auf die Bedeutung v...\n",
       "662922b734f2081c5eaa925f    Der ganze Krieg ist nur noch 1 Materialschlach...\n",
       "                                                  ...                        \n",
       "662a95aa889820447de14569    Trotz anhaltender Konflikte: Diplomatie vor Ge...\n",
       "662cd8d0889820447de18479    Toll zu hören, @Weißer Hase! Fußball verbindet...\n",
       "66292970b8beabb5822948de    Spannende Studie. Klar ist zumindest: der sehr...\n",
       "662bb233889820447de163cf    @Blauer Biber, ganz meine Überzeugung! Konstru...\n",
       "6626308783ad1b524033bc19    Ganz in unserer Linie, @Grünes Kaninchen! Unei...\n",
       "Name: content, Length: 1841, dtype: object"
      ]
     },
     "execution_count": 122,
     "metadata": {},
     "output_type": "execute_result"
    }
   ],
   "source": [
    "dataset: pd.DataFrame = (\n",
    "    pd.read_parquet(CFG.final_data_files[\"user_content\"])\n",
    "    [\"content\"]\n",
    "    .drop_duplicates()\n",
    "    .pipe(lambda _se: _se[_se.str.len() >= 4])\n",
    "    .sample(frac=1.)\n",
    ")\n",
    "dataset"
   ]
  },
  {
   "cell_type": "code",
   "execution_count": 4,
   "metadata": {},
   "outputs": [],
   "source": [
    "dataset.to_csv(CFG.data_dir / \"final\" / \"dataset_for_annotation.csv\")"
   ]
  }
 ],
 "metadata": {
  "kernelspec": {
   "display_name": "non-package-mode-EkkoOtlv-py3.12",
   "language": "python",
   "name": "python3"
  },
  "language_info": {
   "codemirror_mode": {
    "name": "ipython",
    "version": 3
   },
   "file_extension": ".py",
   "mimetype": "text/x-python",
   "name": "python",
   "nbconvert_exporter": "python",
   "pygments_lexer": "ipython3",
   "version": "3.12.3"
  }
 },
 "nbformat": 4,
 "nbformat_minor": 2
}
