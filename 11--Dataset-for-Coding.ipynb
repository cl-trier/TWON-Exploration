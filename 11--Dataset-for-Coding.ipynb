{
 "cells": [
  {
   "cell_type": "code",
   "execution_count": 1,
   "metadata": {},
   "outputs": [],
   "source": [
    "import pandas as pd\n",
    "\n",
    "import config"
   ]
  },
  {
   "cell_type": "code",
   "execution_count": 2,
   "metadata": {},
   "outputs": [],
   "source": [
    "CFG = config.Config()"
   ]
  },
  {
   "cell_type": "code",
   "execution_count": 3,
   "metadata": {},
   "outputs": [
    {
     "data": {
      "text/plain": [
       "id\n",
       "662a389637d6395f42ca9e80    Ihr wart noch nicht in häufig in Frankfurt und...\n",
       "66292395889820447de113ee    @Gelber Roboter, während ich Russlands Bemühun...\n",
       "66291ead889820447de112d1    In #Russland wird ein hochrangiger Militärbeam...\n",
       "66252bb4616a4cb7061ee4c2    Schade, dass diplomatische Chancen auf Frieden...\n",
       "662623e283ad1b524033ba5a    Absolut großartig! Eine moderne Interpretation...\n",
       "                                                  ...                        \n",
       "66278754b8beabb5822948a9    Kiew gerät in der Ostukraine immer weiter unte...\n",
       "66284fa3810b4c35f2bb3d73                                                 Post\n",
       "6629f9f037d6395f42ca6d64                                                Ja ja\n",
       "6629392037d6395f42ca21b5             Wir haben alles dabei - so richtig April\n",
       "662678a9d4ec55a25b931049    @LilaBlume, guter Punkt. Wahre Solidarität erf...\n",
       "Name: content, Length: 1841, dtype: object"
      ]
     },
     "execution_count": 3,
     "metadata": {},
     "output_type": "execute_result"
    }
   ],
   "source": [
    "dataset: pd.DataFrame = (\n",
    "    pd.read_parquet(CFG.final_data_files[\"user_content\"])\n",
    "    [\"content\"]\n",
    "    .drop_duplicates()\n",
    "    .pipe(lambda _se: _se[_se.str.len() >= 4])\n",
    "    .sample(frac=1.)\n",
    ")\n",
    "dataset"
   ]
  },
  {
   "cell_type": "code",
   "execution_count": 127,
   "metadata": {},
   "outputs": [],
   "source": [
    "dataset.to_csv(CFG.data_dir / \"final\" / \"dataset_for_annotation.csv\")"
   ]
  },
  {
   "cell_type": "code",
   "execution_count": 19,
   "metadata": {},
   "outputs": [],
   "source": [
    "dataset = (\n",
    "    pd.read_csv(\n",
    "        CFG.data_dir / \"final\" / \"dataset_annotated.csv\", \n",
    "        index_col=[\"id\"]\n",
    "    )\n",
    "    .join(\n",
    "        pd.read_parquet(CFG.final_data_files[\"user_content\"])\n",
    "        .drop(columns=['content']),\n",
    "        how=\"inner\"\n",
    "    )\n",
    "    .dropna(subset=[\"feels_ai\"])\n",
    ")"
   ]
  },
  {
   "cell_type": "code",
   "execution_count": 22,
   "metadata": {},
   "outputs": [
    {
     "data": {
      "text/plain": [
       "userType  feels_ai\n",
       "bot       5.0         128\n",
       "          4.0           9\n",
       "          3.0           7\n",
       "          1.0           1\n",
       "human     1.0          33\n",
       "          3.0           9\n",
       "          2.0           7\n",
       "          5.0           4\n",
       "Name: count, dtype: int64"
      ]
     },
     "execution_count": 22,
     "metadata": {},
     "output_type": "execute_result"
    }
   ],
   "source": [
    "dataset.groupby(\"userType\")[\"feels_ai\"].value_counts()"
   ]
  },
  {
   "cell_type": "code",
   "execution_count": 27,
   "metadata": {},
   "outputs": [
    {
     "data": {
      "text/plain": [
       "['Klickbait.',\n",
       " 'Steinmeier in der Türkei',\n",
       " 'Das Wetter wird endlich wieder besser',\n",
       " 'Die deutsche Außenministerin steht unter Druck – sogar aus der eigenen Koalition 😨 https://www.bild.de/politik/ausland-und-internationales/riesen-kritik-an-baerbock-unglaublich-naiv-6624d45576790e1ca24f918d']"
      ]
     },
     "execution_count": 27,
     "metadata": {},
     "output_type": "execute_result"
    }
   ],
   "source": [
    "dataset[(dataset[\"userType\"] == \"human\") & (dataset[\"feels_ai\"] == 5.0)][\"content\"].tolist()"
   ]
  }
 ],
 "metadata": {
  "kernelspec": {
   "display_name": "non-package-mode-EkkoOtlv-py3.12",
   "language": "python",
   "name": "python3"
  },
  "language_info": {
   "codemirror_mode": {
    "name": "ipython",
    "version": 3
   },
   "file_extension": ".py",
   "mimetype": "text/x-python",
   "name": "python",
   "nbconvert_exporter": "python",
   "pygments_lexer": "ipython3",
   "version": "3.12.3"
  }
 },
 "nbformat": 4,
 "nbformat_minor": 2
}
