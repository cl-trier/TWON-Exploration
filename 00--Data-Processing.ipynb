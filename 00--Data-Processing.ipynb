{
 "cells": [
  {
   "cell_type": "code",
   "id": "initial_id",
   "metadata": {
    "collapsed": true,
    "ExecuteTime": {
     "end_time": "2024-05-13T09:07:05.224701Z",
     "start_time": "2024-05-13T09:07:04.678465Z"
    }
   },
   "source": [
    "import json\n",
    "\n",
    "import pandas as pd\n",
    "\n",
    "import config"
   ],
   "outputs": [],
   "execution_count": 1
  },
  {
   "metadata": {
    "ExecuteTime": {
     "end_time": "2024-05-13T09:07:05.230994Z",
     "start_time": "2024-05-13T09:07:05.227142Z"
    }
   },
   "cell_type": "code",
   "source": "CFG = config.Config()",
   "id": "b6f447fc359a73b3",
   "outputs": [],
   "execution_count": 2
  },
  {
   "metadata": {
    "ExecuteTime": {
     "end_time": "2024-05-13T09:07:05.248716Z",
     "start_time": "2024-05-13T09:07:05.234826Z"
    }
   },
   "cell_type": "code",
   "source": "CFG.raw_files",
   "id": "3160284f036a7a87",
   "outputs": [
    {
     "data": {
      "text/plain": [
       "{'users': PosixPath('data/2024-05--Simulation/raw/users.json'),\n",
       " 'commentlikes': PosixPath('data/2024-05--Simulation/raw/commentlikes.json'),\n",
       " 'postdislikes': PosixPath('data/2024-05--Simulation/raw/postdislikes.json'),\n",
       " 'commentdislikes': PosixPath('data/2024-05--Simulation/raw/commentdislikes.json'),\n",
       " 'postlikes': PosixPath('data/2024-05--Simulation/raw/postlikes.json'),\n",
       " 'reposting': PosixPath('data/2024-05--Simulation/raw/reposting.json'),\n",
       " 'comments': PosixPath('data/2024-05--Simulation/raw/comments.json'),\n",
       " 'posts': PosixPath('data/2024-05--Simulation/raw/posts.json'),\n",
       " 'readposts': PosixPath('data/2024-05--Simulation/raw/readposts.json')}"
      ]
     },
     "execution_count": 3,
     "metadata": {},
     "output_type": "execute_result"
    }
   ],
   "execution_count": 3
  },
  {
   "metadata": {
    "ExecuteTime": {
     "end_time": "2024-05-13T09:07:05.318599Z",
     "start_time": "2024-05-13T09:07:05.254699Z"
    }
   },
   "cell_type": "code",
   "source": [
    "posts: pd.DataFrame = (\n",
    "    pd.json_normalize([\n",
    "        post | {\"userId\": user[\"userId\"]}\n",
    "        for user in json.load(open(CFG.raw_files[\"posts\"]))\n",
    "        for post in user[\"posts\"]\n",
    "    ])\n",
    "    .rename(columns={\"postId\": \"id\", \"desc\": \"content\"})\n",
    "    .drop(columns=[\"rank\", \"updatedAt\"])\n",
    "    .set_index([\"userId\", \"id\"])\n",
    ")\n",
    "posts.to_parquet(CFG.data_path / \"processed\" / \"posts.parquet\")\n",
    "posts.head()"
   ],
   "id": "cc35281062c591a1",
   "outputs": [
    {
     "data": {
      "text/plain": [
       "                                                                                             content  \\\n",
       "userId                   id                                                                            \n",
       "661d1639b8beabb58229451b 66252255616a4cb7061ee32c  #UkraineKrieg: Beunruhigende Entwicklungen in ...   \n",
       "                         66253e74616a4cb7061ee7cc  Bedauerlich, dass gewaltsame Konflikte weiterh...   \n",
       "                         66255134616a4cb7061eeaf4  Gewalt im Nahen Osten & Ukraine nicht isoliert...   \n",
       "                         6627d8efa6b56b19b4300ae4  Unterstützen wir unsere Verbündeten, respektie...   \n",
       "                         6628b08fa6b56b19b4301867  Geschlossene Tür für Unsicherheit: US-Repräsen...   \n",
       "\n",
       "                                                                 createdAt  \n",
       "userId                   id                                                 \n",
       "661d1639b8beabb58229451b 66252255616a4cb7061ee32c  2024-04-21 14:27:33.315  \n",
       "                         66253e74616a4cb7061ee7cc  2024-04-21 16:27:32.919  \n",
       "                         66255134616a4cb7061eeaf4  2024-04-21 17:47:32.762  \n",
       "                         6627d8efa6b56b19b4300ae4  2024-04-23 15:51:11.067  \n",
       "                         6628b08fa6b56b19b4301867  2024-04-24 07:11:11.797  "
      ],
      "text/html": [
       "<div>\n",
       "<style scoped>\n",
       "    .dataframe tbody tr th:only-of-type {\n",
       "        vertical-align: middle;\n",
       "    }\n",
       "\n",
       "    .dataframe tbody tr th {\n",
       "        vertical-align: top;\n",
       "    }\n",
       "\n",
       "    .dataframe thead th {\n",
       "        text-align: right;\n",
       "    }\n",
       "</style>\n",
       "<table border=\"1\" class=\"dataframe\">\n",
       "  <thead>\n",
       "    <tr style=\"text-align: right;\">\n",
       "      <th></th>\n",
       "      <th></th>\n",
       "      <th>content</th>\n",
       "      <th>createdAt</th>\n",
       "    </tr>\n",
       "    <tr>\n",
       "      <th>userId</th>\n",
       "      <th>id</th>\n",
       "      <th></th>\n",
       "      <th></th>\n",
       "    </tr>\n",
       "  </thead>\n",
       "  <tbody>\n",
       "    <tr>\n",
       "      <th rowspan=\"5\" valign=\"top\">661d1639b8beabb58229451b</th>\n",
       "      <th>66252255616a4cb7061ee32c</th>\n",
       "      <td>#UkraineKrieg: Beunruhigende Entwicklungen in ...</td>\n",
       "      <td>2024-04-21 14:27:33.315</td>\n",
       "    </tr>\n",
       "    <tr>\n",
       "      <th>66253e74616a4cb7061ee7cc</th>\n",
       "      <td>Bedauerlich, dass gewaltsame Konflikte weiterh...</td>\n",
       "      <td>2024-04-21 16:27:32.919</td>\n",
       "    </tr>\n",
       "    <tr>\n",
       "      <th>66255134616a4cb7061eeaf4</th>\n",
       "      <td>Gewalt im Nahen Osten &amp; Ukraine nicht isoliert...</td>\n",
       "      <td>2024-04-21 17:47:32.762</td>\n",
       "    </tr>\n",
       "    <tr>\n",
       "      <th>6627d8efa6b56b19b4300ae4</th>\n",
       "      <td>Unterstützen wir unsere Verbündeten, respektie...</td>\n",
       "      <td>2024-04-23 15:51:11.067</td>\n",
       "    </tr>\n",
       "    <tr>\n",
       "      <th>6628b08fa6b56b19b4301867</th>\n",
       "      <td>Geschlossene Tür für Unsicherheit: US-Repräsen...</td>\n",
       "      <td>2024-04-24 07:11:11.797</td>\n",
       "    </tr>\n",
       "  </tbody>\n",
       "</table>\n",
       "</div>"
      ]
     },
     "execution_count": 4,
     "metadata": {},
     "output_type": "execute_result"
    }
   ],
   "execution_count": 4
  },
  {
   "metadata": {
    "ExecuteTime": {
     "end_time": "2024-05-13T09:07:05.363166Z",
     "start_time": "2024-05-13T09:07:05.328439Z"
    }
   },
   "cell_type": "code",
   "source": [
    "comments: pd.DataFrame = (\n",
    "    pd.json_normalize([\n",
    "        comment | {\"postId\": post[\"postId\"]}\n",
    "        for post in json.load(open(CFG.raw_files[\"comments\"]))\n",
    "        for comment in post[\"comments\"]\n",
    "    ])\n",
    "    .rename(columns={\"commentId\": \"id\", \"body\": \"content\", \"username\": \"userId\"})\n",
    "    .drop(columns=[\"updatedAt\"])\n",
    "    .set_index([\"postId\", \"id\"])\n",
    "    .pipe(\n",
    "        lambda _df: _df.assign(\n",
    "            userId=_df[\"userId\"].map({\n",
    "                user[\"username\"]: user[\"userId\"]\n",
    "                for user in json.load(open(CFG.raw_files[\"users\"]))\n",
    "            })\n",
    "        )\n",
    "    )\n",
    ")\n",
    "comments.to_parquet(CFG.data_path / \"processed\" / \"comments.parquet\")\n",
    "comments.head()"
   ],
   "id": "21825319a737bb76",
   "outputs": [
    {
     "data": {
      "text/plain": [
       "                                                                                             content  \\\n",
       "postId                   id                                                                            \n",
       "66226af08c2024fabb3cc44c 66261d9883ad1b524033b95f  Gut gesagt! Vergesst nicht, dass auch wirtscha...   \n",
       "662296c6616a4cb7061eaae7 66261fac83ad1b524033b9b7  Richtig gesagt, @Gelber Roboter! Eine ausgewog...   \n",
       "6622a4d5616a4cb7061ead43 66261cda83ad1b524033b93b  @Gelber Roboter, @Blaues Siegel, @Weißer Hase,...   \n",
       "6622a983616a4cb7061eae17 66261f0c83ad1b524033b993  Couldn't agree more! Global connections and co...   \n",
       "6622bc44616a4cb7061eb0f2 6626211283ad1b524033b9f2  „Ganz meiner Meinung, @Lila Walross und @Blaue...   \n",
       "\n",
       "                                                                     userId  \\\n",
       "postId                   id                                                   \n",
       "66226af08c2024fabb3cc44c 66261d9883ad1b524033b95f  661d163cb8beabb58229451c   \n",
       "662296c6616a4cb7061eaae7 66261fac83ad1b524033b9b7  661d1646b8beabb582294522   \n",
       "6622a4d5616a4cb7061ead43 66261cda83ad1b524033b93b  66256b0f7adfe044bf82ae9b   \n",
       "6622a983616a4cb7061eae17 66261f0c83ad1b524033b993  66256b0f7adfe044bf82ae9b   \n",
       "6622bc44616a4cb7061eb0f2 6626211283ad1b524033b9f2  66256a827adfe044bf82ae97   \n",
       "\n",
       "                                                                 createdAt  \n",
       "postId                   id                                                 \n",
       "66226af08c2024fabb3cc44c 66261d9883ad1b524033b95f  2024-04-22 08:19:36.535  \n",
       "662296c6616a4cb7061eaae7 66261fac83ad1b524033b9b7  2024-04-22 08:28:28.538  \n",
       "6622a4d5616a4cb7061ead43 66261cda83ad1b524033b93b  2024-04-22 08:16:26.028  \n",
       "6622a983616a4cb7061eae17 66261f0c83ad1b524033b993  2024-04-22 08:25:48.181  \n",
       "6622bc44616a4cb7061eb0f2 6626211283ad1b524033b9f2  2024-04-22 08:34:26.209  "
      ],
      "text/html": [
       "<div>\n",
       "<style scoped>\n",
       "    .dataframe tbody tr th:only-of-type {\n",
       "        vertical-align: middle;\n",
       "    }\n",
       "\n",
       "    .dataframe tbody tr th {\n",
       "        vertical-align: top;\n",
       "    }\n",
       "\n",
       "    .dataframe thead th {\n",
       "        text-align: right;\n",
       "    }\n",
       "</style>\n",
       "<table border=\"1\" class=\"dataframe\">\n",
       "  <thead>\n",
       "    <tr style=\"text-align: right;\">\n",
       "      <th></th>\n",
       "      <th></th>\n",
       "      <th>content</th>\n",
       "      <th>userId</th>\n",
       "      <th>createdAt</th>\n",
       "    </tr>\n",
       "    <tr>\n",
       "      <th>postId</th>\n",
       "      <th>id</th>\n",
       "      <th></th>\n",
       "      <th></th>\n",
       "      <th></th>\n",
       "    </tr>\n",
       "  </thead>\n",
       "  <tbody>\n",
       "    <tr>\n",
       "      <th>66226af08c2024fabb3cc44c</th>\n",
       "      <th>66261d9883ad1b524033b95f</th>\n",
       "      <td>Gut gesagt! Vergesst nicht, dass auch wirtscha...</td>\n",
       "      <td>661d163cb8beabb58229451c</td>\n",
       "      <td>2024-04-22 08:19:36.535</td>\n",
       "    </tr>\n",
       "    <tr>\n",
       "      <th>662296c6616a4cb7061eaae7</th>\n",
       "      <th>66261fac83ad1b524033b9b7</th>\n",
       "      <td>Richtig gesagt, @Gelber Roboter! Eine ausgewog...</td>\n",
       "      <td>661d1646b8beabb582294522</td>\n",
       "      <td>2024-04-22 08:28:28.538</td>\n",
       "    </tr>\n",
       "    <tr>\n",
       "      <th>6622a4d5616a4cb7061ead43</th>\n",
       "      <th>66261cda83ad1b524033b93b</th>\n",
       "      <td>@Gelber Roboter, @Blaues Siegel, @Weißer Hase,...</td>\n",
       "      <td>66256b0f7adfe044bf82ae9b</td>\n",
       "      <td>2024-04-22 08:16:26.028</td>\n",
       "    </tr>\n",
       "    <tr>\n",
       "      <th>6622a983616a4cb7061eae17</th>\n",
       "      <th>66261f0c83ad1b524033b993</th>\n",
       "      <td>Couldn't agree more! Global connections and co...</td>\n",
       "      <td>66256b0f7adfe044bf82ae9b</td>\n",
       "      <td>2024-04-22 08:25:48.181</td>\n",
       "    </tr>\n",
       "    <tr>\n",
       "      <th>6622bc44616a4cb7061eb0f2</th>\n",
       "      <th>6626211283ad1b524033b9f2</th>\n",
       "      <td>„Ganz meiner Meinung, @Lila Walross und @Blaue...</td>\n",
       "      <td>66256a827adfe044bf82ae97</td>\n",
       "      <td>2024-04-22 08:34:26.209</td>\n",
       "    </tr>\n",
       "  </tbody>\n",
       "</table>\n",
       "</div>"
      ]
     },
     "execution_count": 5,
     "metadata": {},
     "output_type": "execute_result"
    }
   ],
   "execution_count": 5
  },
  {
   "metadata": {
    "ExecuteTime": {
     "end_time": "2024-05-13T09:07:05.410790Z",
     "start_time": "2024-05-13T09:07:05.364351Z"
    }
   },
   "cell_type": "code",
   "source": [
    "likes: pd.DataFrame = (\n",
    "    pd.json_normalize([\n",
    "        like | {\"itemId\": post.get(\"postId\", post.get(\"commentId\"))}\n",
    "        for post in (\n",
    "                json.load(open(CFG.raw_files[\"commentlikes\"]))\n",
    "                + json.load(open(CFG.raw_files[\"postlikes\"]))\n",
    "        )\n",
    "        for like in post[\"likes\"]\n",
    "    ])\n",
    "    .drop(columns=[\"updatedAt\", \"likeId\"])\n",
    "    .set_index([\"itemId\", \"userId\"])\n",
    ")\n",
    "likes.to_parquet(CFG.data_path / \"processed\" / \"likes.parquet\")\n",
    "likes.head()"
   ],
   "id": "225827f55f05f00a",
   "outputs": [
    {
     "data": {
      "text/plain": [
       "                                                                 createdAt\n",
       "itemId                   userId                                           \n",
       "66260b4c83ad1b524033b671 661d164ab8beabb582294524  2024-04-22 11:18:13.938\n",
       "                         661d1646b8beabb582294522  2024-04-23 11:59:11.550\n",
       "                         6626a9b9f62e42fb4c5c74b7  2024-04-23 14:29:04.830\n",
       "                         661d1641b8beabb58229451f  2024-04-25 12:45:56.266\n",
       "                         661d163fb8beabb58229451e  2024-04-28 08:31:00.852"
      ],
      "text/html": [
       "<div>\n",
       "<style scoped>\n",
       "    .dataframe tbody tr th:only-of-type {\n",
       "        vertical-align: middle;\n",
       "    }\n",
       "\n",
       "    .dataframe tbody tr th {\n",
       "        vertical-align: top;\n",
       "    }\n",
       "\n",
       "    .dataframe thead th {\n",
       "        text-align: right;\n",
       "    }\n",
       "</style>\n",
       "<table border=\"1\" class=\"dataframe\">\n",
       "  <thead>\n",
       "    <tr style=\"text-align: right;\">\n",
       "      <th></th>\n",
       "      <th></th>\n",
       "      <th>createdAt</th>\n",
       "    </tr>\n",
       "    <tr>\n",
       "      <th>itemId</th>\n",
       "      <th>userId</th>\n",
       "      <th></th>\n",
       "    </tr>\n",
       "  </thead>\n",
       "  <tbody>\n",
       "    <tr>\n",
       "      <th rowspan=\"5\" valign=\"top\">66260b4c83ad1b524033b671</th>\n",
       "      <th>661d164ab8beabb582294524</th>\n",
       "      <td>2024-04-22 11:18:13.938</td>\n",
       "    </tr>\n",
       "    <tr>\n",
       "      <th>661d1646b8beabb582294522</th>\n",
       "      <td>2024-04-23 11:59:11.550</td>\n",
       "    </tr>\n",
       "    <tr>\n",
       "      <th>6626a9b9f62e42fb4c5c74b7</th>\n",
       "      <td>2024-04-23 14:29:04.830</td>\n",
       "    </tr>\n",
       "    <tr>\n",
       "      <th>661d1641b8beabb58229451f</th>\n",
       "      <td>2024-04-25 12:45:56.266</td>\n",
       "    </tr>\n",
       "    <tr>\n",
       "      <th>661d163fb8beabb58229451e</th>\n",
       "      <td>2024-04-28 08:31:00.852</td>\n",
       "    </tr>\n",
       "  </tbody>\n",
       "</table>\n",
       "</div>"
      ]
     },
     "execution_count": 6,
     "metadata": {},
     "output_type": "execute_result"
    }
   ],
   "execution_count": 6
  },
  {
   "metadata": {
    "ExecuteTime": {
     "end_time": "2024-05-13T09:35:02.758479Z",
     "start_time": "2024-05-13T09:35:02.742646Z"
    }
   },
   "cell_type": "code",
   "source": [
    "dislikes: pd.DataFrame = (\n",
    "    pd.json_normalize([\n",
    "        like | {\"itemId\": post.get(\"postId\", post.get(\"commentId\"))}\n",
    "        for post in (\n",
    "                json.load(open(CFG.raw_files[\"commentdislikes\"]))\n",
    "                + json.load(open(CFG.raw_files[\"postdislikes\"]))\n",
    "        )\n",
    "        for like in post[\"dislikes\"]\n",
    "    ])\n",
    "    .drop(columns=[\"updatedAt\", \"dislikeId\"])\n",
    "    .set_index([\"itemId\", \"userId\"])\n",
    ")\n",
    "dislikes.to_parquet(CFG.data_path / \"processed\" / \"dislikes.parquet\")\n",
    "dislikes.head()"
   ],
   "id": "1fa94667997f8f73",
   "outputs": [
    {
     "data": {
      "text/plain": [
       "                                                                 createdAt\n",
       "itemId                   userId                                           \n",
       "65e9f1f965b9102926398486 65e9f1c865b910292639845d  2024-03-07 16:57:32.633\n",
       "662612ff83ad1b524033b7af 66278a3cf62e42fb4c5cb401  2024-04-26 06:23:06.411\n",
       "66261b7383ad1b524033b908 66278cb1f62e42fb4c5cb80a  2024-04-23 15:53:30.733\n",
       "6626308783ad1b524033bc19 6627937af62e42fb4c5ccb3e  2024-04-23 11:08:02.447\n",
       "662642d583ad1b524033bec3 66278cb1f62e42fb4c5cb80a  2024-04-23 15:30:57.538"
      ],
      "text/html": [
       "<div>\n",
       "<style scoped>\n",
       "    .dataframe tbody tr th:only-of-type {\n",
       "        vertical-align: middle;\n",
       "    }\n",
       "\n",
       "    .dataframe tbody tr th {\n",
       "        vertical-align: top;\n",
       "    }\n",
       "\n",
       "    .dataframe thead th {\n",
       "        text-align: right;\n",
       "    }\n",
       "</style>\n",
       "<table border=\"1\" class=\"dataframe\">\n",
       "  <thead>\n",
       "    <tr style=\"text-align: right;\">\n",
       "      <th></th>\n",
       "      <th></th>\n",
       "      <th>createdAt</th>\n",
       "    </tr>\n",
       "    <tr>\n",
       "      <th>itemId</th>\n",
       "      <th>userId</th>\n",
       "      <th></th>\n",
       "    </tr>\n",
       "  </thead>\n",
       "  <tbody>\n",
       "    <tr>\n",
       "      <th>65e9f1f965b9102926398486</th>\n",
       "      <th>65e9f1c865b910292639845d</th>\n",
       "      <td>2024-03-07 16:57:32.633</td>\n",
       "    </tr>\n",
       "    <tr>\n",
       "      <th>662612ff83ad1b524033b7af</th>\n",
       "      <th>66278a3cf62e42fb4c5cb401</th>\n",
       "      <td>2024-04-26 06:23:06.411</td>\n",
       "    </tr>\n",
       "    <tr>\n",
       "      <th>66261b7383ad1b524033b908</th>\n",
       "      <th>66278cb1f62e42fb4c5cb80a</th>\n",
       "      <td>2024-04-23 15:53:30.733</td>\n",
       "    </tr>\n",
       "    <tr>\n",
       "      <th>6626308783ad1b524033bc19</th>\n",
       "      <th>6627937af62e42fb4c5ccb3e</th>\n",
       "      <td>2024-04-23 11:08:02.447</td>\n",
       "    </tr>\n",
       "    <tr>\n",
       "      <th>662642d583ad1b524033bec3</th>\n",
       "      <th>66278cb1f62e42fb4c5cb80a</th>\n",
       "      <td>2024-04-23 15:30:57.538</td>\n",
       "    </tr>\n",
       "  </tbody>\n",
       "</table>\n",
       "</div>"
      ]
     },
     "execution_count": 8,
     "metadata": {},
     "output_type": "execute_result"
    }
   ],
   "execution_count": 8
  }
 ],
 "metadata": {
  "kernelspec": {
   "display_name": "Python 3",
   "language": "python",
   "name": "python3"
  },
  "language_info": {
   "codemirror_mode": {
    "name": "ipython",
    "version": 2
   },
   "file_extension": ".py",
   "mimetype": "text/x-python",
   "name": "python",
   "nbconvert_exporter": "python",
   "pygments_lexer": "ipython2",
   "version": "2.7.6"
  }
 },
 "nbformat": 4,
 "nbformat_minor": 5
}
