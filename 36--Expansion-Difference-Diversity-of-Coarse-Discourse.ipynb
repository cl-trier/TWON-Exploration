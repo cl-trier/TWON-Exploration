{
 "cells": [
  {
   "cell_type": "code",
   "execution_count": 1,
   "metadata": {},
   "outputs": [
    {
     "name": "stderr",
     "output_type": "stream",
     "text": [
      "\n",
      "A module that was compiled using NumPy 1.x cannot be run in\n",
      "NumPy 2.1.1 as it may crash. To support both 1.x and 2.x\n",
      "versions of NumPy, modules must be compiled with NumPy 2.0.\n",
      "Some module may need to rebuild instead e.g. with 'pybind11>=2.12'.\n",
      "\n",
      "If you are a user of the module, the easiest solution will be to\n",
      "downgrade to 'numpy<2' or try to upgrade the affected module.\n",
      "We expect that some modules will need time to support NumPy 2.\n",
      "\n",
      "Traceback (most recent call last):  File \"<frozen runpy>\", line 198, in _run_module_as_main\n",
      "  File \"<frozen runpy>\", line 88, in _run_code\n",
      "  File \"c:\\Users\\sstolwi\\Github\\llmdiv\\Lib\\site-packages\\ipykernel_launcher.py\", line 18, in <module>\n",
      "    app.launch_new_instance()\n",
      "  File \"c:\\Users\\sstolwi\\Github\\llmdiv\\Lib\\site-packages\\traitlets\\config\\application.py\", line 1075, in launch_instance\n",
      "    app.start()\n",
      "  File \"c:\\Users\\sstolwi\\Github\\llmdiv\\Lib\\site-packages\\ipykernel\\kernelapp.py\", line 739, in start\n",
      "    self.io_loop.start()\n",
      "  File \"c:\\Users\\sstolwi\\Github\\llmdiv\\Lib\\site-packages\\tornado\\platform\\asyncio.py\", line 205, in start\n",
      "    self.asyncio_loop.run_forever()\n",
      "  File \"C:\\Program Files\\WindowsApps\\PythonSoftwareFoundation.Python.3.12_3.12.2032.0_x64__qbz5n2kfra8p0\\Lib\\asyncio\\base_events.py\", line 641, in run_forever\n",
      "    self._run_once()\n",
      "  File \"C:\\Program Files\\WindowsApps\\PythonSoftwareFoundation.Python.3.12_3.12.2032.0_x64__qbz5n2kfra8p0\\Lib\\asyncio\\base_events.py\", line 1986, in _run_once\n",
      "    handle._run()\n",
      "  File \"C:\\Program Files\\WindowsApps\\PythonSoftwareFoundation.Python.3.12_3.12.2032.0_x64__qbz5n2kfra8p0\\Lib\\asyncio\\events.py\", line 88, in _run\n",
      "    self._context.run(self._callback, *self._args)\n",
      "  File \"c:\\Users\\sstolwi\\Github\\llmdiv\\Lib\\site-packages\\ipykernel\\kernelbase.py\", line 545, in dispatch_queue\n",
      "    await self.process_one()\n",
      "  File \"c:\\Users\\sstolwi\\Github\\llmdiv\\Lib\\site-packages\\ipykernel\\kernelbase.py\", line 534, in process_one\n",
      "    await dispatch(*args)\n",
      "  File \"c:\\Users\\sstolwi\\Github\\llmdiv\\Lib\\site-packages\\ipykernel\\kernelbase.py\", line 437, in dispatch_shell\n",
      "    await result\n",
      "  File \"c:\\Users\\sstolwi\\Github\\llmdiv\\Lib\\site-packages\\ipykernel\\ipkernel.py\", line 362, in execute_request\n",
      "    await super().execute_request(stream, ident, parent)\n",
      "  File \"c:\\Users\\sstolwi\\Github\\llmdiv\\Lib\\site-packages\\ipykernel\\kernelbase.py\", line 778, in execute_request\n",
      "    reply_content = await reply_content\n",
      "  File \"c:\\Users\\sstolwi\\Github\\llmdiv\\Lib\\site-packages\\ipykernel\\ipkernel.py\", line 449, in do_execute\n",
      "    res = shell.run_cell(\n",
      "  File \"c:\\Users\\sstolwi\\Github\\llmdiv\\Lib\\site-packages\\ipykernel\\zmqshell.py\", line 549, in run_cell\n",
      "    return super().run_cell(*args, **kwargs)\n",
      "  File \"c:\\Users\\sstolwi\\Github\\llmdiv\\Lib\\site-packages\\IPython\\core\\interactiveshell.py\", line 3075, in run_cell\n",
      "    result = self._run_cell(\n",
      "  File \"c:\\Users\\sstolwi\\Github\\llmdiv\\Lib\\site-packages\\IPython\\core\\interactiveshell.py\", line 3130, in _run_cell\n",
      "    result = runner(coro)\n",
      "  File \"c:\\Users\\sstolwi\\Github\\llmdiv\\Lib\\site-packages\\IPython\\core\\async_helpers.py\", line 128, in _pseudo_sync_runner\n",
      "    coro.send(None)\n",
      "  File \"c:\\Users\\sstolwi\\Github\\llmdiv\\Lib\\site-packages\\IPython\\core\\interactiveshell.py\", line 3334, in run_cell_async\n",
      "    has_raised = await self.run_ast_nodes(code_ast.body, cell_name,\n",
      "  File \"c:\\Users\\sstolwi\\Github\\llmdiv\\Lib\\site-packages\\IPython\\core\\interactiveshell.py\", line 3517, in run_ast_nodes\n",
      "    if await self.run_code(code, result, async_=asy):\n",
      "  File \"c:\\Users\\sstolwi\\Github\\llmdiv\\Lib\\site-packages\\IPython\\core\\interactiveshell.py\", line 3577, in run_code\n",
      "    exec(code_obj, self.user_global_ns, self.user_ns)\n",
      "  File \"C:\\Users\\sstolwi\\AppData\\Local\\Temp\\ipykernel_26532\\147063960.py\", line 6, in <module>\n",
      "    import src\n",
      "  File \"c:\\Users\\sstolwi\\Github\\TWON-Metrics\\src\\__init__.py\", line 1, in <module>\n",
      "    from .hf_classify import HFClassify\n",
      "  File \"c:\\Users\\sstolwi\\Github\\TWON-Metrics\\src\\hf_classify.py\", line 5, in <module>\n",
      "    import torch\n",
      "  File \"c:\\Users\\sstolwi\\Github\\llmdiv\\Lib\\site-packages\\torch\\__init__.py\", line 1477, in <module>\n",
      "    from .functional import *  # noqa: F403\n",
      "  File \"c:\\Users\\sstolwi\\Github\\llmdiv\\Lib\\site-packages\\torch\\functional.py\", line 9, in <module>\n",
      "    import torch.nn.functional as F\n",
      "  File \"c:\\Users\\sstolwi\\Github\\llmdiv\\Lib\\site-packages\\torch\\nn\\__init__.py\", line 1, in <module>\n",
      "    from .modules import *  # noqa: F403\n",
      "  File \"c:\\Users\\sstolwi\\Github\\llmdiv\\Lib\\site-packages\\torch\\nn\\modules\\__init__.py\", line 35, in <module>\n",
      "    from .transformer import TransformerEncoder, TransformerDecoder, \\\n",
      "  File \"c:\\Users\\sstolwi\\Github\\llmdiv\\Lib\\site-packages\\torch\\nn\\modules\\transformer.py\", line 20, in <module>\n",
      "    device: torch.device = torch.device(torch._C._get_default_device()),  # torch.device('cpu'),\n",
      "c:\\Users\\sstolwi\\Github\\llmdiv\\Lib\\site-packages\\torch\\nn\\modules\\transformer.py:20: UserWarning: Failed to initialize NumPy: _ARRAY_API not found (Triggered internally at ..\\torch\\csrc\\utils\\tensor_numpy.cpp:84.)\n",
      "  device: torch.device = torch.device(torch._C._get_default_device()),  # torch.device('cpu'),\n",
      "c:\\Users\\sstolwi\\Github\\llmdiv\\Lib\\site-packages\\tqdm\\auto.py:21: TqdmWarning: IProgress not found. Please update jupyter and ipywidgets. See https://ipywidgets.readthedocs.io/en/stable/user_install.html\n",
      "  from .autonotebook import tqdm as notebook_tqdm\n"
     ]
    }
   ],
   "source": [
    "import typing\n",
    "\n",
    "import pandas as pd\n",
    "\n",
    "import config\n",
    "import src\n",
    "import requests\n",
    "import tqdm\n",
    "import json\n",
    "import numpy as np\n",
    "import logging\n",
    "\n",
    "#import cltrier_lib as lib\n",
    "\n",
    "import yaml\n",
    "pd.set_option('display.max_colwidth', 100) "
   ]
  },
  {
   "cell_type": "code",
   "execution_count": 2,
   "metadata": {},
   "outputs": [],
   "source": [
    "CFG = config.Config()"
   ]
  },
  {
   "cell_type": "code",
   "execution_count": 3,
   "metadata": {},
   "outputs": [
    {
     "data": {
      "text/html": [
       "<div>\n",
       "<style scoped>\n",
       "    .dataframe tbody tr th:only-of-type {\n",
       "        vertical-align: middle;\n",
       "    }\n",
       "\n",
       "    .dataframe tbody tr th {\n",
       "        vertical-align: top;\n",
       "    }\n",
       "\n",
       "    .dataframe thead th {\n",
       "        text-align: right;\n",
       "    }\n",
       "</style>\n",
       "<table border=\"1\" class=\"dataframe\">\n",
       "  <thead>\n",
       "    <tr style=\"text-align: right;\">\n",
       "      <th></th>\n",
       "      <th>id</th>\n",
       "      <th>body</th>\n",
       "      <th>subreddit</th>\n",
       "      <th>thread_title</th>\n",
       "      <th>majority_link</th>\n",
       "      <th>majority_type</th>\n",
       "      <th>is_first_post</th>\n",
       "      <th>post_depth</th>\n",
       "      <th>author</th>\n",
       "      <th>claim_oplow</th>\n",
       "      <th>claim_optlow_MXBAI</th>\n",
       "    </tr>\n",
       "  </thead>\n",
       "  <tbody>\n",
       "    <tr>\n",
       "      <th>0</th>\n",
       "      <td>t3_1bx6qw</td>\n",
       "      <td></td>\n",
       "      <td>100movies365days</td>\n",
       "      <td>DTX120: #87 - Nashville</td>\n",
       "      <td>none</td>\n",
       "      <td>announcement</td>\n",
       "      <td>True</td>\n",
       "      <td>NaN</td>\n",
       "      <td>None</td>\n",
       "      <td>[]</td>\n",
       "      <td>[0.3085225224494934, 0.0025453902781009674, -0.632075309753418, 0.29504382610321045, 0.351623713...</td>\n",
       "    </tr>\n",
       "    <tr>\n",
       "      <th>1</th>\n",
       "      <td>t1_c9b2nyd</td>\n",
       "      <td>I've wanted to watch this for a long time. I was also turned off by the country western aspect.</td>\n",
       "      <td>100movies365days</td>\n",
       "      <td>DTX120: #87 - Nashville</td>\n",
       "      <td>t3_1bx6qw</td>\n",
       "      <td>elaboration</td>\n",
       "      <td>None</td>\n",
       "      <td>1.0</td>\n",
       "      <td>mcgrewf10</td>\n",
       "      <td>[\"The user has wanted to watch something for a long time\", \"The country western aspect of someth...</td>\n",
       "      <td>[0.4254729151725769, -0.01032189279794693, -0.6786631941795349, 0.32541653513908386, 0.298534691...</td>\n",
       "    </tr>\n",
       "    <tr>\n",
       "      <th>2</th>\n",
       "      <td>t1_c9b30i1</td>\n",
       "      <td>You strike me as the type who would appreciate it. I would give it a go. This is also my first A...</td>\n",
       "      <td>100movies365days</td>\n",
       "      <td>DTX120: #87 - Nashville</td>\n",
       "      <td>t1_c9b2nyd</td>\n",
       "      <td>elaboration</td>\n",
       "      <td>None</td>\n",
       "      <td>2.0</td>\n",
       "      <td>None</td>\n",
       "      <td>[\"Magnolia has a similar structure to Altman's films with no lead character\", \"Boogie Nights and...</td>\n",
       "      <td>[0.7148110270500183, -0.15317122638225555, -0.5416110157966614, -0.1810915321111679, -0.36302334...</td>\n",
       "    </tr>\n",
       "    <tr>\n",
       "      <th>3</th>\n",
       "      <td>t1_c9b6sj0</td>\n",
       "      <td>Yeah, I've always heard that Altman was famous for his ensemble casts. But I, too, have never se...</td>\n",
       "      <td>100movies365days</td>\n",
       "      <td>DTX120: #87 - Nashville</td>\n",
       "      <td>t1_c9b30i1</td>\n",
       "      <td>elaboration</td>\n",
       "      <td>None</td>\n",
       "      <td>3.0</td>\n",
       "      <td>mcgrewf10</td>\n",
       "      <td>[\"Altman is famous for his ensemble casts\", \"The user has never seen an Altman film\"]</td>\n",
       "      <td>[0.7345885634422302, -0.177871972322464, -0.609611451625824, -0.0007055625319480896, -0.08616860...</td>\n",
       "    </tr>\n",
       "    <tr>\n",
       "      <th>4</th>\n",
       "      <td>t3_omv7p</td>\n",
       "      <td>Alright guys, little background about myself. I'm a good looking, 23 year old male, have had mod...</td>\n",
       "      <td>100sets</td>\n",
       "      <td>Male, 23 years old. Going for 100 sets!</td>\n",
       "      <td>none</td>\n",
       "      <td>announcement</td>\n",
       "      <td>True</td>\n",
       "      <td>NaN</td>\n",
       "      <td>Keatonus</td>\n",
       "      <td>[\"The writer has had modest success with women in the past\", \"The writer lacks killer instinct a...</td>\n",
       "      <td>[0.5479655265808105, -0.197927325963974, -0.4277328550815582, 0.18708674609661102, 0.06689110398...</td>\n",
       "    </tr>\n",
       "  </tbody>\n",
       "</table>\n",
       "</div>"
      ],
      "text/plain": [
       "           id  \\\n",
       "0   t3_1bx6qw   \n",
       "1  t1_c9b2nyd   \n",
       "2  t1_c9b30i1   \n",
       "3  t1_c9b6sj0   \n",
       "4    t3_omv7p   \n",
       "\n",
       "                                                                                                  body  \\\n",
       "0                                                                                                        \n",
       "1      I've wanted to watch this for a long time. I was also turned off by the country western aspect.   \n",
       "2  You strike me as the type who would appreciate it. I would give it a go. This is also my first A...   \n",
       "3  Yeah, I've always heard that Altman was famous for his ensemble casts. But I, too, have never se...   \n",
       "4  Alright guys, little background about myself. I'm a good looking, 23 year old male, have had mod...   \n",
       "\n",
       "          subreddit                             thread_title majority_link  \\\n",
       "0  100movies365days                  DTX120: #87 - Nashville          none   \n",
       "1  100movies365days                  DTX120: #87 - Nashville     t3_1bx6qw   \n",
       "2  100movies365days                  DTX120: #87 - Nashville    t1_c9b2nyd   \n",
       "3  100movies365days                  DTX120: #87 - Nashville    t1_c9b30i1   \n",
       "4           100sets  Male, 23 years old. Going for 100 sets!          none   \n",
       "\n",
       "  majority_type is_first_post  post_depth     author  \\\n",
       "0  announcement          True         NaN       None   \n",
       "1   elaboration          None         1.0  mcgrewf10   \n",
       "2   elaboration          None         2.0       None   \n",
       "3   elaboration          None         3.0  mcgrewf10   \n",
       "4  announcement          True         NaN   Keatonus   \n",
       "\n",
       "                                                                                           claim_oplow  \\\n",
       "0                                                                                                   []   \n",
       "1  [\"The user has wanted to watch something for a long time\", \"The country western aspect of someth...   \n",
       "2  [\"Magnolia has a similar structure to Altman's films with no lead character\", \"Boogie Nights and...   \n",
       "3                [\"Altman is famous for his ensemble casts\", \"The user has never seen an Altman film\"]   \n",
       "4  [\"The writer has had modest success with women in the past\", \"The writer lacks killer instinct a...   \n",
       "\n",
       "                                                                                    claim_optlow_MXBAI  \n",
       "0  [0.3085225224494934, 0.0025453902781009674, -0.632075309753418, 0.29504382610321045, 0.351623713...  \n",
       "1  [0.4254729151725769, -0.01032189279794693, -0.6786631941795349, 0.32541653513908386, 0.298534691...  \n",
       "2  [0.7148110270500183, -0.15317122638225555, -0.5416110157966614, -0.1810915321111679, -0.36302334...  \n",
       "3  [0.7345885634422302, -0.177871972322464, -0.609611451625824, -0.0007055625319480896, -0.08616860...  \n",
       "4  [0.5479655265808105, -0.197927325963974, -0.4277328550815582, 0.18708674609661102, 0.06689110398...  "
      ]
     },
     "execution_count": 3,
     "metadata": {},
     "output_type": "execute_result"
    }
   ],
   "source": [
    "#load data\n",
    "reddit3000: pd.DataFrame = pd.read_parquet(f'{CFG.report_dir}/reddit3000.parquet')\n",
    "reddit3000.head()"
   ]
  },
  {
   "cell_type": "code",
   "execution_count": 6,
   "metadata": {},
   "outputs": [],
   "source": [
    "#select the rows in the dataset that have the a showName with more than cutoff comments:   \n",
    "cutoff = 40\n",
    "selectedposts = reddit3000[reddit3000['thread_title'].isin(reddit3000['thread_title'].value_counts()[reddit3000['thread_title'].value_counts() >= cutoff].index)]"
   ]
  },
  {
   "cell_type": "code",
   "execution_count": 7,
   "metadata": {},
   "outputs": [
    {
     "data": {
      "text/html": [
       "<div>\n",
       "<style scoped>\n",
       "    .dataframe tbody tr th:only-of-type {\n",
       "        vertical-align: middle;\n",
       "    }\n",
       "\n",
       "    .dataframe tbody tr th {\n",
       "        vertical-align: top;\n",
       "    }\n",
       "\n",
       "    .dataframe thead th {\n",
       "        text-align: right;\n",
       "    }\n",
       "</style>\n",
       "<table border=\"1\" class=\"dataframe\">\n",
       "  <thead>\n",
       "    <tr style=\"text-align: right;\">\n",
       "      <th></th>\n",
       "      <th>id</th>\n",
       "      <th>body</th>\n",
       "      <th>subreddit</th>\n",
       "      <th>thread_title</th>\n",
       "      <th>majority_link</th>\n",
       "      <th>majority_type</th>\n",
       "      <th>is_first_post</th>\n",
       "      <th>post_depth</th>\n",
       "      <th>author</th>\n",
       "      <th>claim_oplow</th>\n",
       "      <th>claim_optlow_MXBAI</th>\n",
       "    </tr>\n",
       "  </thead>\n",
       "  <tbody>\n",
       "    <tr>\n",
       "      <th>1175</th>\n",
       "      <td>t3_17feeu</td>\n",
       "      <td>I'm rooted on an S3 and debating what ROM I'd like to flash, any and all opinions would be appre...</td>\n",
       "      <td>android</td>\n",
       "      <td>What ROM are you currently running and what do you like/dislike about it?</td>\n",
       "      <td>none</td>\n",
       "      <td>question</td>\n",
       "      <td>True</td>\n",
       "      <td>NaN</td>\n",
       "      <td>RipperDaVe</td>\n",
       "      <td>[]</td>\n",
       "      <td>[0.3085225224494934, 0.0025453902781009674, -0.632075309753418, 0.29504382610321045, 0.351623713...</td>\n",
       "    </tr>\n",
       "    <tr>\n",
       "      <th>1176</th>\n",
       "      <td>t1_c84zkny</td>\n",
       "      <td>ParanoidKANGdroid. Has AOKP paranoid android and CM10 combined. Absolutely genius. And it is sta...</td>\n",
       "      <td>android</td>\n",
       "      <td>What ROM are you currently running and what do you like/dislike about it?</td>\n",
       "      <td>t3_17feeu</td>\n",
       "      <td>answer</td>\n",
       "      <td>None</td>\n",
       "      <td>1.0</td>\n",
       "      <td>None</td>\n",
       "      <td>[\"AOKP paranoid android and CM10 can be combined\", \"The combination of AOKP paranoid android and...</td>\n",
       "      <td>[0.6152559518814087, -0.22806480526924133, -0.7964597344398499, 0.3017873466014862, 0.0959199368...</td>\n",
       "    </tr>\n",
       "    <tr>\n",
       "      <th>1177</th>\n",
       "      <td>t1_c84znti</td>\n",
       "      <td>Isn't this kind of like PAC (Paranoid/AOKP/CM)?</td>\n",
       "      <td>android</td>\n",
       "      <td>What ROM are you currently running and what do you like/dislike about it?</td>\n",
       "      <td>t1_c84zkny</td>\n",
       "      <td>question</td>\n",
       "      <td>None</td>\n",
       "      <td>2.0</td>\n",
       "      <td>OmegaVesko</td>\n",
       "      <td>[\"This is similar to PAC (Paranoid/AOKP/CM).\"]</td>\n",
       "      <td>[0.4787346422672272, -0.1805042177438736, -0.42209142446517944, 0.4346879720687866, 0.3241922259...</td>\n",
       "    </tr>\n",
       "    <tr>\n",
       "      <th>1178</th>\n",
       "      <td>t1_c850f55</td>\n",
       "      <td>Omg. That's what it should be called, way cooler than paranoidKANGdroid.</td>\n",
       "      <td>android</td>\n",
       "      <td>What ROM are you currently running and what do you like/dislike about it?</td>\n",
       "      <td>t1_c84znti</td>\n",
       "      <td>appreciation</td>\n",
       "      <td>None</td>\n",
       "      <td>3.0</td>\n",
       "      <td>None</td>\n",
       "      <td>[\"ParanoidKANGdroid is not as cool as the suggested name.\"]</td>\n",
       "      <td>[0.35291609168052673, -0.2874097526073456, -0.6045865416526794, 0.23958219587802887, 0.192347049...</td>\n",
       "    </tr>\n",
       "    <tr>\n",
       "      <th>1179</th>\n",
       "      <td>t1_c850if1</td>\n",
       "      <td>http://forum.xda-developers.com/showthread.php?t=2015607</td>\n",
       "      <td>android</td>\n",
       "      <td>What ROM are you currently running and what do you like/dislike about it?</td>\n",
       "      <td>t1_c850f55</td>\n",
       "      <td>elaboration</td>\n",
       "      <td>None</td>\n",
       "      <td>4.0</td>\n",
       "      <td>OmegaVesko</td>\n",
       "      <td>[]</td>\n",
       "      <td>[0.3085225224494934, 0.0025453902781009674, -0.632075309753418, 0.29504382610321045, 0.351623713...</td>\n",
       "    </tr>\n",
       "  </tbody>\n",
       "</table>\n",
       "</div>"
      ],
      "text/plain": [
       "              id  \\\n",
       "1175   t3_17feeu   \n",
       "1176  t1_c84zkny   \n",
       "1177  t1_c84znti   \n",
       "1178  t1_c850f55   \n",
       "1179  t1_c850if1   \n",
       "\n",
       "                                                                                                     body  \\\n",
       "1175  I'm rooted on an S3 and debating what ROM I'd like to flash, any and all opinions would be appre...   \n",
       "1176  ParanoidKANGdroid. Has AOKP paranoid android and CM10 combined. Absolutely genius. And it is sta...   \n",
       "1177                                                      Isn't this kind of like PAC (Paranoid/AOKP/CM)?   \n",
       "1178                             Omg. That's what it should be called, way cooler than paranoidKANGdroid.   \n",
       "1179                                             http://forum.xda-developers.com/showthread.php?t=2015607   \n",
       "\n",
       "     subreddit  \\\n",
       "1175   android   \n",
       "1176   android   \n",
       "1177   android   \n",
       "1178   android   \n",
       "1179   android   \n",
       "\n",
       "                                                                   thread_title  \\\n",
       "1175  What ROM are you currently running and what do you like/dislike about it?   \n",
       "1176  What ROM are you currently running and what do you like/dislike about it?   \n",
       "1177  What ROM are you currently running and what do you like/dislike about it?   \n",
       "1178  What ROM are you currently running and what do you like/dislike about it?   \n",
       "1179  What ROM are you currently running and what do you like/dislike about it?   \n",
       "\n",
       "     majority_link majority_type is_first_post  post_depth      author  \\\n",
       "1175          none      question          True         NaN  RipperDaVe   \n",
       "1176     t3_17feeu        answer          None         1.0        None   \n",
       "1177    t1_c84zkny      question          None         2.0  OmegaVesko   \n",
       "1178    t1_c84znti  appreciation          None         3.0        None   \n",
       "1179    t1_c850f55   elaboration          None         4.0  OmegaVesko   \n",
       "\n",
       "                                                                                              claim_oplow  \\\n",
       "1175                                                                                                   []   \n",
       "1176  [\"AOKP paranoid android and CM10 can be combined\", \"The combination of AOKP paranoid android and...   \n",
       "1177                                                       [\"This is similar to PAC (Paranoid/AOKP/CM).\"]   \n",
       "1178                                          [\"ParanoidKANGdroid is not as cool as the suggested name.\"]   \n",
       "1179                                                                                                   []   \n",
       "\n",
       "                                                                                       claim_optlow_MXBAI  \n",
       "1175  [0.3085225224494934, 0.0025453902781009674, -0.632075309753418, 0.29504382610321045, 0.351623713...  \n",
       "1176  [0.6152559518814087, -0.22806480526924133, -0.7964597344398499, 0.3017873466014862, 0.0959199368...  \n",
       "1177  [0.4787346422672272, -0.1805042177438736, -0.42209142446517944, 0.4346879720687866, 0.3241922259...  \n",
       "1178  [0.35291609168052673, -0.2874097526073456, -0.6045865416526794, 0.23958219587802887, 0.192347049...  \n",
       "1179  [0.3085225224494934, 0.0025453902781009674, -0.632075309753418, 0.29504382610321045, 0.351623713...  "
      ]
     },
     "execution_count": 7,
     "metadata": {},
     "output_type": "execute_result"
    }
   ],
   "source": [
    "selectedposts.head()"
   ]
  },
  {
   "cell_type": "code",
   "execution_count": 8,
   "metadata": {},
   "outputs": [
    {
     "data": {
      "text/plain": [
       "thread_title\n",
       "What ROM are you currently running and what do you like/dislike about it?          41\n",
       "Get rid of unwanted system apps (adb shell pm hide)                                41\n",
       "If your country has a 30-35 hour work week, what do you do with your free time?    41\n",
       "Name: count, dtype: int64"
      ]
     },
     "execution_count": 8,
     "metadata": {},
     "output_type": "execute_result"
    }
   ],
   "source": [
    "selectedposts['thread_title'].value_counts()"
   ]
  },
  {
   "cell_type": "code",
   "execution_count": 7,
   "metadata": {},
   "outputs": [],
   "source": [
    "#try new Achim approach of first expanding the meaning of the post based on context and then classifying the addition of new information per post:\n"
   ]
  },
  {
   "cell_type": "code",
   "execution_count": 24,
   "metadata": {},
   "outputs": [],
   "source": [
    "SYSTEM_expansion: str = \\\n",
    "    \"\"\"\n",
    "        Instruction:\\nYou verbalize the meaning of a social media post given the preceding comments in the thread. You will be provided with a thread of comments enclosed in chevrons  <..> and a target post enclosed in double chevrons <<...>>.\\nYou respond with the target reply-post, but, if it contains words alluding to information in the preceding post, you expand on these words so that their meaning is preserved without the preceding comments. Your response is worded as a social media post. If the meaning of the target reply-post is not affected by the context of the preceding posts, you reply with a verbatim copy of the target reply-post.\\\\n\\\\nText:\"\n",
    "\t\"\"\""
   ]
  },
  {
   "cell_type": "code",
   "execution_count": 64,
   "metadata": {},
   "outputs": [],
   "source": [
    "SYSTEM_expansion2: str = \\\n",
    "    \"\"\"\n",
    "# Instruction\\n\\nRephrase a social media post to reflect its meaning within the context of a conversation thread:\\n\\n1. You'll receive a thread in chevrons `<...>` and a target post in double chevrons `<<...>>`.\\n2. If the post is clear without context, repeat it as-is.\\n3. If the post depends on context, expand it to include necessary details.\\n4. Respond with only the expanded post. \\n5. If the post does not refer to context provided in the thread, or if in doubt, respond with the exactly repeating the target post as you received it. If no target post was presented reply with an empty list [] \\n\\n## Example\\n\\n**Input**:\\n- Thread: <'Comment 1', 'Comment 2', 'Comment 3'>\\n- Target reply: `<<This is so relatable!>>`\\n\\n**Output**:\\n- '[context from previous comments] is so relatable!'\\n\\n**Text:\n",
    "    \"\"\""
   ]
  },
  {
   "cell_type": "code",
   "execution_count": 5,
   "metadata": {},
   "outputs": [],
   "source": [
    "MODEL: str = 'llama3.1:8b-instruct-q6_K' # options: 'gemma:7b-instruct-q6_K', 'gemma2:27b-instruct-q6_K', 'llama3.1:8b-instruct-q6_K', 'llama3.1:70b-instruct-q6_K', 'mistral:7b-instruct-v0.3-q6_K', 'mistral-large:123b-instruct-2407-q6_K', 'mixtral:8x7b-instruct-v0.1-q6_K', 'mixtral:8x22b-instruct-v0.1-q6_K', 'phi3:14b-medium-128k-instruct-q6_K' or 'qwen2:72b-instruct-q6_K'\n"
   ]
  },
  {
   "cell_type": "code",
   "execution_count": 11,
   "metadata": {},
   "outputs": [],
   "source": [
    "options_zero = \"\"\"\n",
    "seed: 42\n",
    "temperature: 0\n",
    "\"\"\"\n",
    "\n",
    "options_zero = yaml.safe_load(options_zero)"
   ]
  },
  {
   "cell_type": "code",
   "execution_count": 65,
   "metadata": {},
   "outputs": [
    {
     "data": {
      "text/plain": [
       "{'id': '58c3719a-9ab5-11ef-b791-b5b8664f6fd3',\n",
       " 'timestamp': '2024-11-04T14:01:54.073846',\n",
       " 'model': 'llama3.1:8b-instruct-q6_K',\n",
       " 'prompt': [{'role': 'system',\n",
       "   'content': \"\\n# Instruction\\n\\nRephrase a social media post to reflect its meaning within the context of a conversation thread:\\n\\n1. You'll receive a thread in chevrons `<...>` and a target post in double chevrons `<<...>>`.\\n2. If the post is clear without context, repeat it as-is.\\n3. If the post depends on context, expand it to include necessary details.\\n4. Respond with only the expanded post. \\n5. If the post does not refer to context provided in the thread, or if in doubt, respond with the exactly repeating the target post as you received it. If no target post was presented reply with an empty list [] \\n\\n## Example\\n\\n**Input**:\\n- Thread: <'Comment 1', 'Comment 2', 'Comment 3'>\\n- Target reply: `<<This is so relatable!>>`\\n\\n**Output**:\\n- '[context from previous comments] is so relatable!'\\n\\n**Text:\\n    \"},\n",
       "  {'role': 'user',\n",
       "   'content': '\"Thread\":\\n<[\"I\\'m rooted on an S3 and debating what ROM I\\'d like to flash, any and all opinions would be appreciated, thanks!\\\\n\\\\nEdit: Happy to hear ideas from other phones as well, thanks for the input\", \\'ParanoidKANGdroid. Has AOKP paranoid android and CM10 combined. Absolutely genius. And it is stable! The customization is incredible. On jellybean too.\\\\n\\\\n**EDIT:** link for OP, on the I747 GS3 \\\\n\\\\nhttp://forum.xda-developers.com/showthread.php?t=1944523\\', \"Isn\\'t this kind of like PAC (Paranoid/AOKP/CM)?\", \"Omg. That\\'s what it should be called, way cooler than paranoidKANGdroid.\", \\'http://forum.xda-developers.com/showthread.php?t=2015607\\']>, \"Target reply\":<<[\\'Thanks this looks really good\\']>>'}],\n",
       " 'response': \"'Paranoid/AOKP/CM is exactly the kind of ROM I'm looking for, thanks for the suggestion!'\"}"
      ]
     },
     "execution_count": 65,
     "metadata": {},
     "output_type": "execute_result"
    }
   ],
   "source": [
    "requests.post(\n",
    "                            'https://inf.cl.uni-trier.de/',\n",
    "                            json={\n",
    "                                'model': MODEL,\n",
    "                                'system': SYSTEM_expansion2,\n",
    "                                'prompt': f'\"Thread\":\\n<{selectedposts[\"body\"][:5].to_list()}>, \"Target reply\":<<{selectedposts[\"body\"][5:6].to_list()}>>',\n",
    "                                'options': options_zero\n",
    "                                }).json()"
   ]
  },
  {
   "cell_type": "code",
   "execution_count": 22,
   "metadata": {},
   "outputs": [
    {
     "data": {
      "text/plain": [
       "[\"I'm rooted on an S3 and debating what ROM I'd like to flash, any and all opinions would be appreciated, thanks!\\n\\nEdit: Happy to hear ideas from other phones as well, thanks for the input\",\n",
       " 'ParanoidKANGdroid. Has AOKP paranoid android and CM10 combined. Absolutely genius. And it is stable! The customization is incredible. On jellybean too.\\n\\n**EDIT:** link for OP, on the I747 GS3 \\n\\nhttp://forum.xda-developers.com/showthread.php?t=1944523',\n",
       " \"Isn't this kind of like PAC (Paranoid/AOKP/CM)?\",\n",
       " \"Omg. That's what it should be called, way cooler than paranoidKANGdroid.\",\n",
       " 'http://forum.xda-developers.com/showthread.php?t=2015607']"
      ]
     },
     "execution_count": 22,
     "metadata": {},
     "output_type": "execute_result"
    }
   ],
   "source": [
    "selectedposts[\"body\"][:5].to_list()"
   ]
  },
  {
   "cell_type": "code",
   "execution_count": 21,
   "metadata": {},
   "outputs": [
    {
     "data": {
      "text/plain": [
       "['Thanks this looks really good']"
      ]
     },
     "execution_count": 21,
     "metadata": {},
     "output_type": "execute_result"
    }
   ],
   "source": [
    "selectedposts[\"body\"][5:6].to_list()"
   ]
  },
  {
   "cell_type": "code",
   "execution_count": 13,
   "metadata": {},
   "outputs": [
    {
     "name": "stderr",
     "output_type": "stream",
     "text": [
      "C:\\Users\\sstolwi\\AppData\\Local\\Temp\\ipykernel_26532\\1022245724.py:1: SettingWithCopyWarning: \n",
      "A value is trying to be set on a copy of a slice from a DataFrame.\n",
      "Try using .loc[row_indexer,col_indexer] = value instead\n",
      "\n",
      "See the caveats in the documentation: https://pandas.pydata.org/pandas-docs/stable/user_guide/indexing.html#returning-a-view-versus-a-copy\n",
      "  selectedposts['preceding_index'] = selectedposts.index.to_series().shift(1)\n"
     ]
    }
   ],
   "source": [
    "selectedposts['preceding_index'] = selectedposts.index.to_series().shift(1)"
   ]
  },
  {
   "cell_type": "code",
   "execution_count": 14,
   "metadata": {},
   "outputs": [
    {
     "data": {
      "text/plain": [
       "np.int64(1)"
      ]
     },
     "execution_count": 14,
     "metadata": {},
     "output_type": "execute_result"
    }
   ],
   "source": [
    "selectedposts['preceding_index'].isna().sum()"
   ]
  },
  {
   "cell_type": "code",
   "execution_count": 17,
   "metadata": {},
   "outputs": [
    {
     "name": "stderr",
     "output_type": "stream",
     "text": [
      "C:\\Users\\sstolwi\\AppData\\Local\\Temp\\ipykernel_26532\\714106042.py:1: SettingWithCopyWarning: \n",
      "A value is trying to be set on a copy of a slice from a DataFrame\n",
      "\n",
      "See the caveats in the documentation: https://pandas.pydata.org/pandas-docs/stable/user_guide/indexing.html#returning-a-view-versus-a-copy\n",
      "  selectedposts.drop(columns=['preceding_index'], inplace=True)\n"
     ]
    }
   ],
   "source": [
    "selectedposts.drop(columns=['preceding_index'], inplace=True)"
   ]
  },
  {
   "cell_type": "code",
   "execution_count": 79,
   "metadata": {},
   "outputs": [
    {
     "data": {
      "text/html": [
       "<div>\n",
       "<style scoped>\n",
       "    .dataframe tbody tr th:only-of-type {\n",
       "        vertical-align: middle;\n",
       "    }\n",
       "\n",
       "    .dataframe tbody tr th {\n",
       "        vertical-align: top;\n",
       "    }\n",
       "\n",
       "    .dataframe thead th {\n",
       "        text-align: right;\n",
       "    }\n",
       "</style>\n",
       "<table border=\"1\" class=\"dataframe\">\n",
       "  <thead>\n",
       "    <tr style=\"text-align: right;\">\n",
       "      <th></th>\n",
       "      <th>id</th>\n",
       "      <th>body</th>\n",
       "      <th>subreddit</th>\n",
       "      <th>thread_title</th>\n",
       "      <th>majority_link</th>\n",
       "      <th>majority_type</th>\n",
       "      <th>is_first_post</th>\n",
       "      <th>post_depth</th>\n",
       "      <th>author</th>\n",
       "      <th>claim_oplow</th>\n",
       "      <th>claim_optlow_MXBAI</th>\n",
       "    </tr>\n",
       "  </thead>\n",
       "  <tbody>\n",
       "    <tr>\n",
       "      <th>1175</th>\n",
       "      <td>t3_17feeu</td>\n",
       "      <td>I'm rooted on an S3 and debating what ROM I'd like to flash, any and all opinions would be appre...</td>\n",
       "      <td>android</td>\n",
       "      <td>What ROM are you currently running and what do you like/dislike about it?</td>\n",
       "      <td>none</td>\n",
       "      <td>question</td>\n",
       "      <td>True</td>\n",
       "      <td>NaN</td>\n",
       "      <td>RipperDaVe</td>\n",
       "      <td>[]</td>\n",
       "      <td>[0.3085225224494934, 0.0025453902781009674, -0.632075309753418, 0.29504382610321045, 0.351623713...</td>\n",
       "    </tr>\n",
       "    <tr>\n",
       "      <th>1176</th>\n",
       "      <td>t1_c84zkny</td>\n",
       "      <td>ParanoidKANGdroid. Has AOKP paranoid android and CM10 combined. Absolutely genius. And it is sta...</td>\n",
       "      <td>android</td>\n",
       "      <td>What ROM are you currently running and what do you like/dislike about it?</td>\n",
       "      <td>t3_17feeu</td>\n",
       "      <td>answer</td>\n",
       "      <td>None</td>\n",
       "      <td>1.0</td>\n",
       "      <td>None</td>\n",
       "      <td>[\"AOKP paranoid android and CM10 can be combined\", \"The combination of AOKP paranoid android and...</td>\n",
       "      <td>[0.6152559518814087, -0.22806480526924133, -0.7964597344398499, 0.3017873466014862, 0.0959199368...</td>\n",
       "    </tr>\n",
       "    <tr>\n",
       "      <th>1177</th>\n",
       "      <td>t1_c84znti</td>\n",
       "      <td>Isn't this kind of like PAC (Paranoid/AOKP/CM)?</td>\n",
       "      <td>android</td>\n",
       "      <td>What ROM are you currently running and what do you like/dislike about it?</td>\n",
       "      <td>t1_c84zkny</td>\n",
       "      <td>question</td>\n",
       "      <td>None</td>\n",
       "      <td>2.0</td>\n",
       "      <td>OmegaVesko</td>\n",
       "      <td>[\"This is similar to PAC (Paranoid/AOKP/CM).\"]</td>\n",
       "      <td>[0.4787346422672272, -0.1805042177438736, -0.42209142446517944, 0.4346879720687866, 0.3241922259...</td>\n",
       "    </tr>\n",
       "    <tr>\n",
       "      <th>1178</th>\n",
       "      <td>t1_c850f55</td>\n",
       "      <td>Omg. That's what it should be called, way cooler than paranoidKANGdroid.</td>\n",
       "      <td>android</td>\n",
       "      <td>What ROM are you currently running and what do you like/dislike about it?</td>\n",
       "      <td>t1_c84znti</td>\n",
       "      <td>appreciation</td>\n",
       "      <td>None</td>\n",
       "      <td>3.0</td>\n",
       "      <td>None</td>\n",
       "      <td>[\"ParanoidKANGdroid is not as cool as the suggested name.\"]</td>\n",
       "      <td>[0.35291609168052673, -0.2874097526073456, -0.6045865416526794, 0.23958219587802887, 0.192347049...</td>\n",
       "    </tr>\n",
       "    <tr>\n",
       "      <th>1179</th>\n",
       "      <td>t1_c850if1</td>\n",
       "      <td>http://forum.xda-developers.com/showthread.php?t=2015607</td>\n",
       "      <td>android</td>\n",
       "      <td>What ROM are you currently running and what do you like/dislike about it?</td>\n",
       "      <td>t1_c850f55</td>\n",
       "      <td>elaboration</td>\n",
       "      <td>None</td>\n",
       "      <td>4.0</td>\n",
       "      <td>OmegaVesko</td>\n",
       "      <td>[]</td>\n",
       "      <td>[0.3085225224494934, 0.0025453902781009674, -0.632075309753418, 0.29504382610321045, 0.351623713...</td>\n",
       "    </tr>\n",
       "    <tr>\n",
       "      <th>1180</th>\n",
       "      <td>t1_c854ao0</td>\n",
       "      <td>Thanks this looks really good</td>\n",
       "      <td>android</td>\n",
       "      <td>What ROM are you currently running and what do you like/dislike about it?</td>\n",
       "      <td>t1_c84zkny</td>\n",
       "      <td>appreciation</td>\n",
       "      <td>None</td>\n",
       "      <td>2.0</td>\n",
       "      <td>RipperDaVe</td>\n",
       "      <td>[\"This looks really good\"]</td>\n",
       "      <td>[0.34148475527763367, -0.018923237919807434, -0.6320880651473999, 0.2847198247909546, 0.26829630...</td>\n",
       "    </tr>\n",
       "    <tr>\n",
       "      <th>1181</th>\n",
       "      <td>t1_c854h9b</td>\n",
       "      <td>None</td>\n",
       "      <td>android</td>\n",
       "      <td>What ROM are you currently running and what do you like/dislike about it?</td>\n",
       "      <td>t1_c854ao0</td>\n",
       "      <td>elaboration</td>\n",
       "      <td>None</td>\n",
       "      <td>3.0</td>\n",
       "      <td>None</td>\n",
       "      <td>[]</td>\n",
       "      <td>[0.3085225224494934, 0.0025453902781009674, -0.632075309753418, 0.29504382610321045, 0.351623713...</td>\n",
       "    </tr>\n",
       "    <tr>\n",
       "      <th>1182</th>\n",
       "      <td>t1_c854nw3</td>\n",
       "      <td>None</td>\n",
       "      <td>android</td>\n",
       "      <td>What ROM are you currently running and what do you like/dislike about it?</td>\n",
       "      <td>t1_c854h9b</td>\n",
       "      <td>appreciation</td>\n",
       "      <td>None</td>\n",
       "      <td>4.0</td>\n",
       "      <td>None</td>\n",
       "      <td>[]</td>\n",
       "      <td>[0.3085225224494934, 0.0025453902781009674, -0.632075309753418, 0.29504382610321045, 0.351623713...</td>\n",
       "    </tr>\n",
       "    <tr>\n",
       "      <th>1183</th>\n",
       "      <td>t1_c854v6p</td>\n",
       "      <td>None</td>\n",
       "      <td>android</td>\n",
       "      <td>What ROM are you currently running and what do you like/dislike about it?</td>\n",
       "      <td>t1_c854ao0</td>\n",
       "      <td>None</td>\n",
       "      <td>None</td>\n",
       "      <td>3.0</td>\n",
       "      <td>None</td>\n",
       "      <td>[]</td>\n",
       "      <td>[0.3085225224494934, 0.0025453902781009674, -0.632075309753418, 0.29504382610321045, 0.351623713...</td>\n",
       "    </tr>\n",
       "    <tr>\n",
       "      <th>1184</th>\n",
       "      <td>t1_c84zrl0</td>\n",
       "      <td>This won't help you at all, but I jumped into this thread because I didn't realize you were talk...</td>\n",
       "      <td>android</td>\n",
       "      <td>What ROM are you currently running and what do you like/dislike about it?</td>\n",
       "      <td>t3_17feeu</td>\n",
       "      <td>None</td>\n",
       "      <td>None</td>\n",
       "      <td>1.0</td>\n",
       "      <td>autovonbismarck</td>\n",
       "      <td>[\"Hephappy's CM10 is super stable and everything works great\", \"There isn't enough support for 4...</td>\n",
       "      <td>[0.546505331993103, -0.19667872786521912, -0.7661574482917786, 0.044912151992321014, -0.11970678...</td>\n",
       "    </tr>\n",
       "  </tbody>\n",
       "</table>\n",
       "</div>"
      ],
      "text/plain": [
       "              id  \\\n",
       "1175   t3_17feeu   \n",
       "1176  t1_c84zkny   \n",
       "1177  t1_c84znti   \n",
       "1178  t1_c850f55   \n",
       "1179  t1_c850if1   \n",
       "1180  t1_c854ao0   \n",
       "1181  t1_c854h9b   \n",
       "1182  t1_c854nw3   \n",
       "1183  t1_c854v6p   \n",
       "1184  t1_c84zrl0   \n",
       "\n",
       "                                                                                                     body  \\\n",
       "1175  I'm rooted on an S3 and debating what ROM I'd like to flash, any and all opinions would be appre...   \n",
       "1176  ParanoidKANGdroid. Has AOKP paranoid android and CM10 combined. Absolutely genius. And it is sta...   \n",
       "1177                                                      Isn't this kind of like PAC (Paranoid/AOKP/CM)?   \n",
       "1178                             Omg. That's what it should be called, way cooler than paranoidKANGdroid.   \n",
       "1179                                             http://forum.xda-developers.com/showthread.php?t=2015607   \n",
       "1180                                                                        Thanks this looks really good   \n",
       "1181                                                                                                 None   \n",
       "1182                                                                                                 None   \n",
       "1183                                                                                                 None   \n",
       "1184  This won't help you at all, but I jumped into this thread because I didn't realize you were talk...   \n",
       "\n",
       "     subreddit  \\\n",
       "1175   android   \n",
       "1176   android   \n",
       "1177   android   \n",
       "1178   android   \n",
       "1179   android   \n",
       "1180   android   \n",
       "1181   android   \n",
       "1182   android   \n",
       "1183   android   \n",
       "1184   android   \n",
       "\n",
       "                                                                   thread_title  \\\n",
       "1175  What ROM are you currently running and what do you like/dislike about it?   \n",
       "1176  What ROM are you currently running and what do you like/dislike about it?   \n",
       "1177  What ROM are you currently running and what do you like/dislike about it?   \n",
       "1178  What ROM are you currently running and what do you like/dislike about it?   \n",
       "1179  What ROM are you currently running and what do you like/dislike about it?   \n",
       "1180  What ROM are you currently running and what do you like/dislike about it?   \n",
       "1181  What ROM are you currently running and what do you like/dislike about it?   \n",
       "1182  What ROM are you currently running and what do you like/dislike about it?   \n",
       "1183  What ROM are you currently running and what do you like/dislike about it?   \n",
       "1184  What ROM are you currently running and what do you like/dislike about it?   \n",
       "\n",
       "     majority_link majority_type is_first_post  post_depth           author  \\\n",
       "1175          none      question          True         NaN       RipperDaVe   \n",
       "1176     t3_17feeu        answer          None         1.0             None   \n",
       "1177    t1_c84zkny      question          None         2.0       OmegaVesko   \n",
       "1178    t1_c84znti  appreciation          None         3.0             None   \n",
       "1179    t1_c850f55   elaboration          None         4.0       OmegaVesko   \n",
       "1180    t1_c84zkny  appreciation          None         2.0       RipperDaVe   \n",
       "1181    t1_c854ao0   elaboration          None         3.0             None   \n",
       "1182    t1_c854h9b  appreciation          None         4.0             None   \n",
       "1183    t1_c854ao0          None          None         3.0             None   \n",
       "1184     t3_17feeu          None          None         1.0  autovonbismarck   \n",
       "\n",
       "                                                                                              claim_oplow  \\\n",
       "1175                                                                                                   []   \n",
       "1176  [\"AOKP paranoid android and CM10 can be combined\", \"The combination of AOKP paranoid android and...   \n",
       "1177                                                       [\"This is similar to PAC (Paranoid/AOKP/CM).\"]   \n",
       "1178                                          [\"ParanoidKANGdroid is not as cool as the suggested name.\"]   \n",
       "1179                                                                                                   []   \n",
       "1180                                                                           [\"This looks really good\"]   \n",
       "1181                                                                                                   []   \n",
       "1182                                                                                                   []   \n",
       "1183                                                                                                   []   \n",
       "1184  [\"Hephappy's CM10 is super stable and everything works great\", \"There isn't enough support for 4...   \n",
       "\n",
       "                                                                                       claim_optlow_MXBAI  \n",
       "1175  [0.3085225224494934, 0.0025453902781009674, -0.632075309753418, 0.29504382610321045, 0.351623713...  \n",
       "1176  [0.6152559518814087, -0.22806480526924133, -0.7964597344398499, 0.3017873466014862, 0.0959199368...  \n",
       "1177  [0.4787346422672272, -0.1805042177438736, -0.42209142446517944, 0.4346879720687866, 0.3241922259...  \n",
       "1178  [0.35291609168052673, -0.2874097526073456, -0.6045865416526794, 0.23958219587802887, 0.192347049...  \n",
       "1179  [0.3085225224494934, 0.0025453902781009674, -0.632075309753418, 0.29504382610321045, 0.351623713...  \n",
       "1180  [0.34148475527763367, -0.018923237919807434, -0.6320880651473999, 0.2847198247909546, 0.26829630...  \n",
       "1181  [0.3085225224494934, 0.0025453902781009674, -0.632075309753418, 0.29504382610321045, 0.351623713...  \n",
       "1182  [0.3085225224494934, 0.0025453902781009674, -0.632075309753418, 0.29504382610321045, 0.351623713...  \n",
       "1183  [0.3085225224494934, 0.0025453902781009674, -0.632075309753418, 0.29504382610321045, 0.351623713...  \n",
       "1184  [0.546505331993103, -0.19667872786521912, -0.7661574482917786, 0.044912151992321014, -0.11970678...  "
      ]
     },
     "execution_count": 79,
     "metadata": {},
     "output_type": "execute_result"
    }
   ],
   "source": [
    "selectedposts.head(10)"
   ]
  },
  {
   "cell_type": "code",
   "execution_count": 56,
   "metadata": {},
   "outputs": [
    {
     "name": "stderr",
     "output_type": "stream",
     "text": [
      "100%|██████████| 1/1 [00:00<00:00, 106.67it/s]"
     ]
    },
    {
     "name": "stdout",
     "output_type": "stream",
     "text": [
      "I'm rooted on an S3 and debating what ROM I'd like to flash, any and all opinions would be appreciated, thanks!\n",
      "\n",
      "Edit: Happy to hear ideas from other phones as well, thanks for the input\n",
      "threadset=1175\n",
      "index=1176\n",
      "prompt: \"Thread\":\n",
      "<[\"I'm rooted on an S3 and debating what ROM I'd like to flash, any and all opinions would be appreciated, thanks!\\n\\nEdit: Happy to hear ideas from other phones as well, thanks for the input\", 'ParanoidKANGdroid. Has AOKP paranoid android and CM10 combined. Absolutely genius. And it is stable! The customization is incredible. On jellybean too.\\n\\n**EDIT:** link for OP, on the I747 GS3 \\n\\nhttp://forum.xda-developers.com/showthread.php?t=1944523', \"Isn't this kind of like PAC (Paranoid/AOKP/CM)?\"]>, \"Target reply\":<<ParanoidKANGdroid. Has AOKP paranoid android and CM10 combined. Absolutely genius. And it is stable! The customization is incredible. On jellybean too.\n",
      "\n",
      "**EDIT:** link for OP, on the I747 GS3 \n",
      "\n",
      "http://forum.xda-developers.com/showthread.php?t=1944523>>\n",
      "threadset=1176\n",
      "index=1177\n",
      "prompt: \"Thread\":\n",
      "<[\"I'm rooted on an S3 and debating what ROM I'd like to flash, any and all opinions would be appreciated, thanks!\\n\\nEdit: Happy to hear ideas from other phones as well, thanks for the input\", 'ParanoidKANGdroid. Has AOKP paranoid android and CM10 combined. Absolutely genius. And it is stable! The customization is incredible. On jellybean too.\\n\\n**EDIT:** link for OP, on the I747 GS3 \\n\\nhttp://forum.xda-developers.com/showthread.php?t=1944523', \"Isn't this kind of like PAC (Paranoid/AOKP/CM)?\"]>, \"Target reply\":<<Isn't this kind of like PAC (Paranoid/AOKP/CM)?>>\n"
     ]
    },
    {
     "name": "stderr",
     "output_type": "stream",
     "text": [
      "\n"
     ]
    }
   ],
   "source": [
    "chunked_result: typing.List[pd.DataFrame] = []\n",
    "GROUPER='thread_title'\n",
    "groupeddata = selectedposts[:3].groupby(GROUPER)\n",
    "for group, df in tqdm.tqdm(groupeddata):\n",
    "    df['preceding_index'] = df.index.to_series().shift(1)\n",
    "    for index, row in df.iterrows():\n",
    "        if pd.isna(row['preceding_index']):\n",
    "            print(row['body'])\n",
    "        if pd.notna(row['preceding_index']):\n",
    "            threadset = int(row['preceding_index'])\n",
    "            print('threadset=' + str(threadset))\n",
    "            print('index=' + str(index))\n",
    "            print(f'prompt: \"Thread\":\\n<{df[\"body\"][:threadset].to_list()}>, \"Target reply\":<<{df[\"body\"][index]}>>')"
   ]
  },
  {
   "cell_type": "code",
   "execution_count": 55,
   "metadata": {},
   "outputs": [
    {
     "data": {
      "text/plain": [
       "\"Isn't this kind of like PAC (Paranoid/AOKP/CM)?\""
      ]
     },
     "execution_count": 55,
     "metadata": {},
     "output_type": "execute_result"
    }
   ],
   "source": [
    "df[\"body\"][1177]\n"
   ]
  },
  {
   "cell_type": "code",
   "execution_count": 66,
   "metadata": {},
   "outputs": [
    {
     "name": "stderr",
     "output_type": "stream",
     "text": [
      "100%|██████████| 1/1 [00:08<00:00,  8.95s/it]\n"
     ]
    }
   ],
   "source": [
    "#test low temperature claims per comment:\n",
    "chunked_result: typing.List[pd.DataFrame] = []\n",
    "GROUPER='thread_title'\n",
    "groupeddata = selectedposts[:10].groupby(GROUPER)\n",
    "for group, df in tqdm.tqdm(groupeddata):\n",
    "    df['preceding_index'] = df.index.to_series().shift(1)\n",
    "    for index, row in df.iterrows():\n",
    "        if pd.isna(row['preceding_index']):\n",
    "            chunked_result.append(\n",
    "                pd.DataFrame(\n",
    "                    data=[row['body']],\n",
    "                    columns=['post_expansion']\n",
    "                )\n",
    "            )\n",
    "        if pd.notna(row['preceding_index']):\n",
    "            threadset = int(row['preceding_index'])\n",
    "            try: \n",
    "                chunked_result.append(\n",
    "                    pd.DataFrame(\n",
    "                        data=[\n",
    "                            requests.post(\n",
    "                                'https://inf.cl.uni-trier.de/',\n",
    "                                json={\n",
    "                                    'model': MODEL,\n",
    "                                    'system': SYSTEM_expansion2,\n",
    "                                    'prompt': f'\"Thread\":\\n<{df[\"body\"][:threadset].to_list()}>, \"Target reply\":<<{df[\"body\"][index]}>>',\n",
    "                                    'options': options_zero\n",
    "                                    }).json()['response']                       \n",
    "                        ],\n",
    "                        columns=['post_expansion']\n",
    "                    )\n",
    "                )\n",
    "            except json.JSONDecodeError:\n",
    "                print(\"invalid json response, skipping to next batch\")\n",
    "    "
   ]
  },
  {
   "cell_type": "code",
   "execution_count": 67,
   "metadata": {},
   "outputs": [
    {
     "data": {
      "text/plain": [
       "[                                                                                        post_expansion\n",
       " 0  I'm rooted on an S3 and debating what ROM I'd like to flash, any and all opinions would be appre...,\n",
       "                                                                                         post_expansion\n",
       " 0  The user has found a ROM combination that they highly recommend: AOKP paranoid android and CM10 ...,\n",
       "                                                                                         post_expansion\n",
       " 0  The combination of Paranoid Android and AOKP with CM10 is similar to the concept of PAC, which c...,\n",
       "                                                                                         post_expansion\n",
       " 0  The person who suggested calling the combination of Paranoid Android, AOKP, and CM10 \"PAC\" think...,\n",
       "                                                                                         post_expansion\n",
       " 0  This won't help you at all, but I jumped into this thread because I didn't realize you were talk...,\n",
       "                                                                                         post_expansion\n",
       " 0  The ROM you're considering flashing seems promising, as ParanoidKANGdroid has combined AOKP para...,\n",
       "   post_expansion\n",
       " 0             [],\n",
       "   post_expansion\n",
       " 0             [],\n",
       "   post_expansion\n",
       " 0             [],\n",
       "                                                                                         post_expansion\n",
       " 0  This won't help you at all, but I jumped into this thread because I didn't realize you were talk...]"
      ]
     },
     "execution_count": 67,
     "metadata": {},
     "output_type": "execute_result"
    }
   ],
   "source": [
    "chunked_result"
   ]
  },
  {
   "cell_type": "code",
   "execution_count": 74,
   "metadata": {},
   "outputs": [
    {
     "name": "stdout",
     "output_type": "stream",
     "text": [
      "                                                                                        post_expansion\n",
      "0  I'm rooted on an S3 and debating what ROM I'd like to flash, any and all opinions would be appre...\n",
      "1  The user has found a ROM combination that they highly recommend: AOKP paranoid android and CM10 ...\n",
      "2  The combination of Paranoid Android and AOKP with CM10 is similar to the concept of PAC, which c...\n",
      "3  The person who suggested calling the combination of Paranoid Android, AOKP, and CM10 \"PAC\" think...\n",
      "4  This won't help you at all, but I jumped into this thread because I didn't realize you were talk...\n",
      "5  The ROM you're considering flashing seems promising, as ParanoidKANGdroid has combined AOKP para...\n",
      "6                                                                                                   []\n",
      "7                                                                                                   []\n",
      "8                                                                                                   []\n",
      "9  This won't help you at all, but I jumped into this thread because I didn't realize you were talk...\n"
     ]
    }
   ],
   "source": [
    "expanded_posts = pd.concat(chunked_result, ignore_index=True)\n",
    "print(expanded_posts)"
   ]
  },
  {
   "cell_type": "code",
   "execution_count": 81,
   "metadata": {},
   "outputs": [
    {
     "data": {
      "text/plain": [
       "[\"I'm rooted on an S3 and debating what ROM I'd like to flash, any and all opinions would be appreciated, thanks!\\n\\nEdit: Happy to hear ideas from other phones as well, thanks for the input\",\n",
       " \"The user has found a ROM combination that they highly recommend: AOKP paranoid android and CM10 combined. They consider it to be absolutely genius, stable, and incredibly customizable. It's even available on Jellybean for the I747 GS3 phone.\",\n",
       " 'The combination of Paranoid Android and AOKP with CM10 is similar to the concept of PAC, which combines Paranoid, AOKP, and CM.',\n",
       " 'The person who suggested calling the combination of Paranoid Android, AOKP, and CM10 \"PAC\" thinks that name is a great idea, and even better than the original suggestion of \"paranoidKANGdroid\".',\n",
       " 'This won\\'t help you at all, but I jumped into this thread because I didn\\'t realize you were talking about a specific phone.\\n\\nFor anybody who has an **LG Optimus One (P500)** try hephappy\\'s CM10. he his no longer developing (had a weird fit, claimed everyone in his dev thread at xda was both a \"know it all\" and asking too many \"noob questions\" - wtf?) anyway, doesn\\'t matter, his final build is super stable and *everything* works great.\\n\\nI would love to use a 4.2 based ROM but there just isn\\'t enough support for such old, cheap phone. Anyway, I\\'m pretty lucky to have ICS on such a chunk of junk, and using link2SD makes it feel like I have unlimited app memory. good times!',\n",
       " \"The ROM you're considering flashing seems promising, as ParanoidKANGdroid has combined AOKP paranoid android and CM10 with great results on a GS3. It's stable and offers incredible customization options even on Jellybean.\",\n",
       " '[]',\n",
       " '[]',\n",
       " '[]',\n",
       " \"This won't help you at all, but I jumped into this thread because I didn't realize you were talking about a specific phone.\\n\\nFor anybody who has an **S3** (since the OP mentioned they're rooted on an S3), try ParanoidKANGdroid. It's a combination of AOKP paranoid android and CM10, which is absolutely genius and stable. The customization is incredible, even on jellybean. \\n\\nI would love to use a 4.2 based ROM but there just isn't enough support for such old phones. Anyway, I'm pretty lucky to have ICS on my phone, and using link2SD makes it feel like I have unlimited app memory. good times!\"]"
      ]
     },
     "execution_count": 81,
     "metadata": {},
     "output_type": "execute_result"
    }
   ],
   "source": [
    "expanded_posts.post_expansion.to_list()"
   ]
  },
  {
   "cell_type": "code",
   "execution_count": 83,
   "metadata": {},
   "outputs": [
    {
     "data": {
      "text/plain": [
       "Index([1175, 1176, 1177, 1178, 1179, 1180, 1181, 1182, 1183, 1184], dtype='int64')"
      ]
     },
     "execution_count": 83,
     "metadata": {},
     "output_type": "execute_result"
    }
   ],
   "source": [
    "selectedpostshead.index"
   ]
  },
  {
   "cell_type": "code",
   "execution_count": 84,
   "metadata": {},
   "outputs": [
    {
     "data": {
      "text/plain": [
       "RangeIndex(start=0, stop=10, step=1)"
      ]
     },
     "execution_count": 84,
     "metadata": {},
     "output_type": "execute_result"
    }
   ],
   "source": [
    "expanded_posts.index"
   ]
  },
  {
   "cell_type": "code",
   "execution_count": 89,
   "metadata": {},
   "outputs": [],
   "source": [
    "selectedpostshead = selectedposts.head(10)\n",
    "expanded_posts.index = selectedpostshead.index\n",
    "selectedpostshead = selectedpostshead.join(expanded_posts)"
   ]
  },
  {
   "cell_type": "code",
   "execution_count": 91,
   "metadata": {},
   "outputs": [
    {
     "data": {
      "text/plain": [
       "Index(['id', 'body', 'subreddit', 'thread_title', 'majority_link',\n",
       "       'majority_type', 'is_first_post', 'post_depth', 'author', 'claim_oplow',\n",
       "       'claim_optlow_MXBAI', 'post_expansion'],\n",
       "      dtype='object')"
      ]
     },
     "execution_count": 91,
     "metadata": {},
     "output_type": "execute_result"
    }
   ],
   "source": [
    "selectedpostshead.columns"
   ]
  },
  {
   "cell_type": "code",
   "execution_count": 86,
   "metadata": {},
   "outputs": [],
   "source": [
    "SYSTEM_claim: str = \\\n",
    "    \"\"\"\n",
    "        Instruction:\n",
    "\n",
    "        You are a text annotation assistant. Analyze a collection of social media comments enclosed in chevrons <..>. Identify and list the claims within these comments. Claims can be related to events, issues, opinions or concerns in relation to the specified topic.\n",
    "        Claims are defined as the main assertion or conclusion of an argument.\n",
    "        You summarize each claim into a short simple sentence.\n",
    "\n",
    "        Response format:\n",
    "\n",
    "        You provide only the list of claims, separated by commas, without any additional text or explanations. If no claims can be identified, return an empty list [].\n",
    "\n",
    "        Response format template:\n",
    "        \n",
    "        [\"claim 1\", \"claim 2\", ... \"claim x\"]\n",
    "\t\"\"\""
   ]
  },
  {
   "cell_type": "code",
   "execution_count": 94,
   "metadata": {},
   "outputs": [
    {
     "data": {
      "text/plain": [
       "'The combination of Paranoid Android and AOKP with CM10 is similar to the concept of PAC, which combines Paranoid, AOKP, and CM.'"
      ]
     },
     "execution_count": 94,
     "metadata": {},
     "output_type": "execute_result"
    }
   ],
   "source": [
    "selectedpostshead['post_expansion'].iloc[2]"
   ]
  },
  {
   "cell_type": "code",
   "execution_count": 96,
   "metadata": {},
   "outputs": [
    {
     "data": {
      "text/plain": [
       "{'id': '5f3edfe4-9ab7-11ef-b791-b5b8664f6fd3',\n",
       " 'timestamp': '2024-11-04T14:16:23.942464',\n",
       " 'model': 'llama3.1:8b-instruct-q6_K',\n",
       " 'prompt': [{'role': 'system',\n",
       "   'content': '\\n        Instruction:\\n\\n        You are a text annotation assistant. Analyze a collection of social media comments enclosed in chevrons <..>. Identify and list the claims within these comments. Claims can be related to events, issues, opinions or concerns in relation to the specified topic.\\n        Claims are defined as the main assertion or conclusion of an argument.\\n        You summarize each claim into a short simple sentence.\\n\\n        Response format:\\n\\n        You provide only the list of claims, separated by commas, without any additional text or explanations. If no claims can be identified, return an empty list [].\\n\\n        Response format template:\\n        \\n        [\"claim 1\", \"claim 2\", ... \"claim x\"]\\n\\t'},\n",
       "  {'role': 'user',\n",
       "   'content': 'The following set of social media posts are replies to a news- or infotainment-post. Check whether your answer only consists of a list of claims. \\n\"Posts\":\\n<The combination of Paranoid Android and AOKP with CM10 is similar to the concept of PAC, which combines Paranoid, AOKP, and CM.>'}],\n",
       " 'response': '[\"The combination of Paranoid Android and AOKP with CM10 is similar to PAC.\"]'}"
      ]
     },
     "execution_count": 96,
     "metadata": {},
     "output_type": "execute_result"
    }
   ],
   "source": [
    "requests.post(\n",
    "                            'https://inf.cl.uni-trier.de/',\n",
    "                            json={\n",
    "                                'model': MODEL,\n",
    "                                'system': SYSTEM_claim,\n",
    "                                'prompt': f'The following set of social media posts are replies to a news- or infotainment-post. '\n",
    "                                        + f'Check whether your answer only consists of a list of claims. \\n\"Posts\":\\n<{selectedpostshead['post_expansion'].iloc[2]}>',\n",
    "                                'options': options_zero\n",
    "                                }).json()"
   ]
  },
  {
   "cell_type": "code",
   "execution_count": 97,
   "metadata": {},
   "outputs": [
    {
     "name": "stderr",
     "output_type": "stream",
     "text": [
      "10it [00:05,  1.71it/s]\n"
     ]
    }
   ],
   "source": [
    "#test low temperature claims per comment:\n",
    "chunked_result: typing.List[pd.DataFrame] = []\n",
    "for index, row in tqdm.tqdm(selectedpostshead.iterrows()):\n",
    "    try: \n",
    "        chunked_result.append(\n",
    "            pd.DataFrame(\n",
    "                data=[\n",
    "                    requests.post(\n",
    "                        'https://inf.cl.uni-trier.de/',\n",
    "                        json={\n",
    "                            'model': MODEL,\n",
    "                            'system': SYSTEM_claim,\n",
    "                            'prompt': f'The following set of social media posts are replies to a news- or infotainment-post. '\n",
    "                                    + f'Check whether your answer strictly adheres to the specified format. \\n\"Posts\":\\n<{row[\"post_expansion\"]}>',\n",
    "                            'options': options_zero\n",
    "                            }).json()['response']                       \n",
    "                ],\n",
    "                columns=['claims']\n",
    "            )\n",
    "        )\n",
    "        \n",
    "    except json.JSONDecodeError:\n",
    "        print(\"invalid json response, skipping to next batch\")"
   ]
  },
  {
   "cell_type": "code",
   "execution_count": 98,
   "metadata": {},
   "outputs": [
    {
     "name": "stdout",
     "output_type": "stream",
     "text": [
      "                                                                                                claims\n",
      "0                                                                                                   []\n",
      "1  [\"AOKP paranoid android and CM10 is a recommended ROM combination\", \"It is absolutely genius\", \"...\n",
      "2         [\"The combination of Paranoid Android and AOKP with CM10 is similar to the concept of PAC.\"]\n",
      "3                                                                                                   []\n",
      "4  [\"The LG Optimus One (P500) can run CM10\", \"CM10 is super stable for the LG Optimus One (P500)\",...\n",
      "5  [\"The ROM being considered is promising\", \"It combines AOKP paranoid android and CM10 with great...\n",
      "6                                                                                                   []\n",
      "7                                                                                                   []\n",
      "8                                                                                                   []\n",
      "9  [\"The S3 has limited support for 4.2 based ROMs\", \"ParanoidKANGdroid is a stable combination of ...\n"
     ]
    }
   ],
   "source": [
    "claims = pd.concat(chunked_result, ignore_index=True)\n",
    "print(claims)"
   ]
  },
  {
   "cell_type": "code",
   "execution_count": 101,
   "metadata": {},
   "outputs": [],
   "source": [
    "claims.index = selectedpostshead.index\n",
    "selectedpostshead.loc[:, \"claims\"] = claims"
   ]
  },
  {
   "cell_type": "code",
   "execution_count": 102,
   "metadata": {},
   "outputs": [
    {
     "data": {
      "text/html": [
       "<div>\n",
       "<style scoped>\n",
       "    .dataframe tbody tr th:only-of-type {\n",
       "        vertical-align: middle;\n",
       "    }\n",
       "\n",
       "    .dataframe tbody tr th {\n",
       "        vertical-align: top;\n",
       "    }\n",
       "\n",
       "    .dataframe thead th {\n",
       "        text-align: right;\n",
       "    }\n",
       "</style>\n",
       "<table border=\"1\" class=\"dataframe\">\n",
       "  <thead>\n",
       "    <tr style=\"text-align: right;\">\n",
       "      <th></th>\n",
       "      <th>id</th>\n",
       "      <th>body</th>\n",
       "      <th>subreddit</th>\n",
       "      <th>thread_title</th>\n",
       "      <th>majority_link</th>\n",
       "      <th>majority_type</th>\n",
       "      <th>is_first_post</th>\n",
       "      <th>post_depth</th>\n",
       "      <th>author</th>\n",
       "      <th>claim_oplow</th>\n",
       "      <th>claim_optlow_MXBAI</th>\n",
       "      <th>post_expansion</th>\n",
       "      <th>claims</th>\n",
       "    </tr>\n",
       "  </thead>\n",
       "  <tbody>\n",
       "    <tr>\n",
       "      <th>1175</th>\n",
       "      <td>t3_17feeu</td>\n",
       "      <td>I'm rooted on an S3 and debating what ROM I'd like to flash, any and all opinions would be appre...</td>\n",
       "      <td>android</td>\n",
       "      <td>What ROM are you currently running and what do you like/dislike about it?</td>\n",
       "      <td>none</td>\n",
       "      <td>question</td>\n",
       "      <td>True</td>\n",
       "      <td>NaN</td>\n",
       "      <td>RipperDaVe</td>\n",
       "      <td>[]</td>\n",
       "      <td>[0.3085225224494934, 0.0025453902781009674, -0.632075309753418, 0.29504382610321045, 0.351623713...</td>\n",
       "      <td>I'm rooted on an S3 and debating what ROM I'd like to flash, any and all opinions would be appre...</td>\n",
       "      <td>[]</td>\n",
       "    </tr>\n",
       "    <tr>\n",
       "      <th>1176</th>\n",
       "      <td>t1_c84zkny</td>\n",
       "      <td>ParanoidKANGdroid. Has AOKP paranoid android and CM10 combined. Absolutely genius. And it is sta...</td>\n",
       "      <td>android</td>\n",
       "      <td>What ROM are you currently running and what do you like/dislike about it?</td>\n",
       "      <td>t3_17feeu</td>\n",
       "      <td>answer</td>\n",
       "      <td>None</td>\n",
       "      <td>1.0</td>\n",
       "      <td>None</td>\n",
       "      <td>[\"AOKP paranoid android and CM10 can be combined\", \"The combination of AOKP paranoid android and...</td>\n",
       "      <td>[0.6152559518814087, -0.22806480526924133, -0.7964597344398499, 0.3017873466014862, 0.0959199368...</td>\n",
       "      <td>The user has found a ROM combination that they highly recommend: AOKP paranoid android and CM10 ...</td>\n",
       "      <td>[\"AOKP paranoid android and CM10 is a recommended ROM combination\", \"It is absolutely genius\", \"...</td>\n",
       "    </tr>\n",
       "    <tr>\n",
       "      <th>1177</th>\n",
       "      <td>t1_c84znti</td>\n",
       "      <td>Isn't this kind of like PAC (Paranoid/AOKP/CM)?</td>\n",
       "      <td>android</td>\n",
       "      <td>What ROM are you currently running and what do you like/dislike about it?</td>\n",
       "      <td>t1_c84zkny</td>\n",
       "      <td>question</td>\n",
       "      <td>None</td>\n",
       "      <td>2.0</td>\n",
       "      <td>OmegaVesko</td>\n",
       "      <td>[\"This is similar to PAC (Paranoid/AOKP/CM).\"]</td>\n",
       "      <td>[0.4787346422672272, -0.1805042177438736, -0.42209142446517944, 0.4346879720687866, 0.3241922259...</td>\n",
       "      <td>The combination of Paranoid Android and AOKP with CM10 is similar to the concept of PAC, which c...</td>\n",
       "      <td>[\"The combination of Paranoid Android and AOKP with CM10 is similar to the concept of PAC.\"]</td>\n",
       "    </tr>\n",
       "    <tr>\n",
       "      <th>1178</th>\n",
       "      <td>t1_c850f55</td>\n",
       "      <td>Omg. That's what it should be called, way cooler than paranoidKANGdroid.</td>\n",
       "      <td>android</td>\n",
       "      <td>What ROM are you currently running and what do you like/dislike about it?</td>\n",
       "      <td>t1_c84znti</td>\n",
       "      <td>appreciation</td>\n",
       "      <td>None</td>\n",
       "      <td>3.0</td>\n",
       "      <td>None</td>\n",
       "      <td>[\"ParanoidKANGdroid is not as cool as the suggested name.\"]</td>\n",
       "      <td>[0.35291609168052673, -0.2874097526073456, -0.6045865416526794, 0.23958219587802887, 0.192347049...</td>\n",
       "      <td>The person who suggested calling the combination of Paranoid Android, AOKP, and CM10 \"PAC\" think...</td>\n",
       "      <td>[]</td>\n",
       "    </tr>\n",
       "    <tr>\n",
       "      <th>1179</th>\n",
       "      <td>t1_c850if1</td>\n",
       "      <td>http://forum.xda-developers.com/showthread.php?t=2015607</td>\n",
       "      <td>android</td>\n",
       "      <td>What ROM are you currently running and what do you like/dislike about it?</td>\n",
       "      <td>t1_c850f55</td>\n",
       "      <td>elaboration</td>\n",
       "      <td>None</td>\n",
       "      <td>4.0</td>\n",
       "      <td>OmegaVesko</td>\n",
       "      <td>[]</td>\n",
       "      <td>[0.3085225224494934, 0.0025453902781009674, -0.632075309753418, 0.29504382610321045, 0.351623713...</td>\n",
       "      <td>This won't help you at all, but I jumped into this thread because I didn't realize you were talk...</td>\n",
       "      <td>[\"The LG Optimus One (P500) can run CM10\", \"CM10 is super stable for the LG Optimus One (P500)\",...</td>\n",
       "    </tr>\n",
       "    <tr>\n",
       "      <th>1180</th>\n",
       "      <td>t1_c854ao0</td>\n",
       "      <td>Thanks this looks really good</td>\n",
       "      <td>android</td>\n",
       "      <td>What ROM are you currently running and what do you like/dislike about it?</td>\n",
       "      <td>t1_c84zkny</td>\n",
       "      <td>appreciation</td>\n",
       "      <td>None</td>\n",
       "      <td>2.0</td>\n",
       "      <td>RipperDaVe</td>\n",
       "      <td>[\"This looks really good\"]</td>\n",
       "      <td>[0.34148475527763367, -0.018923237919807434, -0.6320880651473999, 0.2847198247909546, 0.26829630...</td>\n",
       "      <td>The ROM you're considering flashing seems promising, as ParanoidKANGdroid has combined AOKP para...</td>\n",
       "      <td>[\"The ROM being considered is promising\", \"It combines AOKP paranoid android and CM10 with great...</td>\n",
       "    </tr>\n",
       "    <tr>\n",
       "      <th>1181</th>\n",
       "      <td>t1_c854h9b</td>\n",
       "      <td>None</td>\n",
       "      <td>android</td>\n",
       "      <td>What ROM are you currently running and what do you like/dislike about it?</td>\n",
       "      <td>t1_c854ao0</td>\n",
       "      <td>elaboration</td>\n",
       "      <td>None</td>\n",
       "      <td>3.0</td>\n",
       "      <td>None</td>\n",
       "      <td>[]</td>\n",
       "      <td>[0.3085225224494934, 0.0025453902781009674, -0.632075309753418, 0.29504382610321045, 0.351623713...</td>\n",
       "      <td>[]</td>\n",
       "      <td>[]</td>\n",
       "    </tr>\n",
       "    <tr>\n",
       "      <th>1182</th>\n",
       "      <td>t1_c854nw3</td>\n",
       "      <td>None</td>\n",
       "      <td>android</td>\n",
       "      <td>What ROM are you currently running and what do you like/dislike about it?</td>\n",
       "      <td>t1_c854h9b</td>\n",
       "      <td>appreciation</td>\n",
       "      <td>None</td>\n",
       "      <td>4.0</td>\n",
       "      <td>None</td>\n",
       "      <td>[]</td>\n",
       "      <td>[0.3085225224494934, 0.0025453902781009674, -0.632075309753418, 0.29504382610321045, 0.351623713...</td>\n",
       "      <td>[]</td>\n",
       "      <td>[]</td>\n",
       "    </tr>\n",
       "    <tr>\n",
       "      <th>1183</th>\n",
       "      <td>t1_c854v6p</td>\n",
       "      <td>None</td>\n",
       "      <td>android</td>\n",
       "      <td>What ROM are you currently running and what do you like/dislike about it?</td>\n",
       "      <td>t1_c854ao0</td>\n",
       "      <td>None</td>\n",
       "      <td>None</td>\n",
       "      <td>3.0</td>\n",
       "      <td>None</td>\n",
       "      <td>[]</td>\n",
       "      <td>[0.3085225224494934, 0.0025453902781009674, -0.632075309753418, 0.29504382610321045, 0.351623713...</td>\n",
       "      <td>[]</td>\n",
       "      <td>[]</td>\n",
       "    </tr>\n",
       "    <tr>\n",
       "      <th>1184</th>\n",
       "      <td>t1_c84zrl0</td>\n",
       "      <td>This won't help you at all, but I jumped into this thread because I didn't realize you were talk...</td>\n",
       "      <td>android</td>\n",
       "      <td>What ROM are you currently running and what do you like/dislike about it?</td>\n",
       "      <td>t3_17feeu</td>\n",
       "      <td>None</td>\n",
       "      <td>None</td>\n",
       "      <td>1.0</td>\n",
       "      <td>autovonbismarck</td>\n",
       "      <td>[\"Hephappy's CM10 is super stable and everything works great\", \"There isn't enough support for 4...</td>\n",
       "      <td>[0.546505331993103, -0.19667872786521912, -0.7661574482917786, 0.044912151992321014, -0.11970678...</td>\n",
       "      <td>This won't help you at all, but I jumped into this thread because I didn't realize you were talk...</td>\n",
       "      <td>[\"The S3 has limited support for 4.2 based ROMs\", \"ParanoidKANGdroid is a stable combination of ...</td>\n",
       "    </tr>\n",
       "  </tbody>\n",
       "</table>\n",
       "</div>"
      ],
      "text/plain": [
       "              id  \\\n",
       "1175   t3_17feeu   \n",
       "1176  t1_c84zkny   \n",
       "1177  t1_c84znti   \n",
       "1178  t1_c850f55   \n",
       "1179  t1_c850if1   \n",
       "1180  t1_c854ao0   \n",
       "1181  t1_c854h9b   \n",
       "1182  t1_c854nw3   \n",
       "1183  t1_c854v6p   \n",
       "1184  t1_c84zrl0   \n",
       "\n",
       "                                                                                                     body  \\\n",
       "1175  I'm rooted on an S3 and debating what ROM I'd like to flash, any and all opinions would be appre...   \n",
       "1176  ParanoidKANGdroid. Has AOKP paranoid android and CM10 combined. Absolutely genius. And it is sta...   \n",
       "1177                                                      Isn't this kind of like PAC (Paranoid/AOKP/CM)?   \n",
       "1178                             Omg. That's what it should be called, way cooler than paranoidKANGdroid.   \n",
       "1179                                             http://forum.xda-developers.com/showthread.php?t=2015607   \n",
       "1180                                                                        Thanks this looks really good   \n",
       "1181                                                                                                 None   \n",
       "1182                                                                                                 None   \n",
       "1183                                                                                                 None   \n",
       "1184  This won't help you at all, but I jumped into this thread because I didn't realize you were talk...   \n",
       "\n",
       "     subreddit  \\\n",
       "1175   android   \n",
       "1176   android   \n",
       "1177   android   \n",
       "1178   android   \n",
       "1179   android   \n",
       "1180   android   \n",
       "1181   android   \n",
       "1182   android   \n",
       "1183   android   \n",
       "1184   android   \n",
       "\n",
       "                                                                   thread_title  \\\n",
       "1175  What ROM are you currently running and what do you like/dislike about it?   \n",
       "1176  What ROM are you currently running and what do you like/dislike about it?   \n",
       "1177  What ROM are you currently running and what do you like/dislike about it?   \n",
       "1178  What ROM are you currently running and what do you like/dislike about it?   \n",
       "1179  What ROM are you currently running and what do you like/dislike about it?   \n",
       "1180  What ROM are you currently running and what do you like/dislike about it?   \n",
       "1181  What ROM are you currently running and what do you like/dislike about it?   \n",
       "1182  What ROM are you currently running and what do you like/dislike about it?   \n",
       "1183  What ROM are you currently running and what do you like/dislike about it?   \n",
       "1184  What ROM are you currently running and what do you like/dislike about it?   \n",
       "\n",
       "     majority_link majority_type is_first_post  post_depth           author  \\\n",
       "1175          none      question          True         NaN       RipperDaVe   \n",
       "1176     t3_17feeu        answer          None         1.0             None   \n",
       "1177    t1_c84zkny      question          None         2.0       OmegaVesko   \n",
       "1178    t1_c84znti  appreciation          None         3.0             None   \n",
       "1179    t1_c850f55   elaboration          None         4.0       OmegaVesko   \n",
       "1180    t1_c84zkny  appreciation          None         2.0       RipperDaVe   \n",
       "1181    t1_c854ao0   elaboration          None         3.0             None   \n",
       "1182    t1_c854h9b  appreciation          None         4.0             None   \n",
       "1183    t1_c854ao0          None          None         3.0             None   \n",
       "1184     t3_17feeu          None          None         1.0  autovonbismarck   \n",
       "\n",
       "                                                                                              claim_oplow  \\\n",
       "1175                                                                                                   []   \n",
       "1176  [\"AOKP paranoid android and CM10 can be combined\", \"The combination of AOKP paranoid android and...   \n",
       "1177                                                       [\"This is similar to PAC (Paranoid/AOKP/CM).\"]   \n",
       "1178                                          [\"ParanoidKANGdroid is not as cool as the suggested name.\"]   \n",
       "1179                                                                                                   []   \n",
       "1180                                                                           [\"This looks really good\"]   \n",
       "1181                                                                                                   []   \n",
       "1182                                                                                                   []   \n",
       "1183                                                                                                   []   \n",
       "1184  [\"Hephappy's CM10 is super stable and everything works great\", \"There isn't enough support for 4...   \n",
       "\n",
       "                                                                                       claim_optlow_MXBAI  \\\n",
       "1175  [0.3085225224494934, 0.0025453902781009674, -0.632075309753418, 0.29504382610321045, 0.351623713...   \n",
       "1176  [0.6152559518814087, -0.22806480526924133, -0.7964597344398499, 0.3017873466014862, 0.0959199368...   \n",
       "1177  [0.4787346422672272, -0.1805042177438736, -0.42209142446517944, 0.4346879720687866, 0.3241922259...   \n",
       "1178  [0.35291609168052673, -0.2874097526073456, -0.6045865416526794, 0.23958219587802887, 0.192347049...   \n",
       "1179  [0.3085225224494934, 0.0025453902781009674, -0.632075309753418, 0.29504382610321045, 0.351623713...   \n",
       "1180  [0.34148475527763367, -0.018923237919807434, -0.6320880651473999, 0.2847198247909546, 0.26829630...   \n",
       "1181  [0.3085225224494934, 0.0025453902781009674, -0.632075309753418, 0.29504382610321045, 0.351623713...   \n",
       "1182  [0.3085225224494934, 0.0025453902781009674, -0.632075309753418, 0.29504382610321045, 0.351623713...   \n",
       "1183  [0.3085225224494934, 0.0025453902781009674, -0.632075309753418, 0.29504382610321045, 0.351623713...   \n",
       "1184  [0.546505331993103, -0.19667872786521912, -0.7661574482917786, 0.044912151992321014, -0.11970678...   \n",
       "\n",
       "                                                                                           post_expansion  \\\n",
       "1175  I'm rooted on an S3 and debating what ROM I'd like to flash, any and all opinions would be appre...   \n",
       "1176  The user has found a ROM combination that they highly recommend: AOKP paranoid android and CM10 ...   \n",
       "1177  The combination of Paranoid Android and AOKP with CM10 is similar to the concept of PAC, which c...   \n",
       "1178  The person who suggested calling the combination of Paranoid Android, AOKP, and CM10 \"PAC\" think...   \n",
       "1179  This won't help you at all, but I jumped into this thread because I didn't realize you were talk...   \n",
       "1180  The ROM you're considering flashing seems promising, as ParanoidKANGdroid has combined AOKP para...   \n",
       "1181                                                                                                   []   \n",
       "1182                                                                                                   []   \n",
       "1183                                                                                                   []   \n",
       "1184  This won't help you at all, but I jumped into this thread because I didn't realize you were talk...   \n",
       "\n",
       "                                                                                                   claims  \n",
       "1175                                                                                                   []  \n",
       "1176  [\"AOKP paranoid android and CM10 is a recommended ROM combination\", \"It is absolutely genius\", \"...  \n",
       "1177         [\"The combination of Paranoid Android and AOKP with CM10 is similar to the concept of PAC.\"]  \n",
       "1178                                                                                                   []  \n",
       "1179  [\"The LG Optimus One (P500) can run CM10\", \"CM10 is super stable for the LG Optimus One (P500)\",...  \n",
       "1180  [\"The ROM being considered is promising\", \"It combines AOKP paranoid android and CM10 with great...  \n",
       "1181                                                                                                   []  \n",
       "1182                                                                                                   []  \n",
       "1183                                                                                                   []  \n",
       "1184  [\"The S3 has limited support for 4.2 based ROMs\", \"ParanoidKANGdroid is a stable combination of ...  "
      ]
     },
     "execution_count": 102,
     "metadata": {},
     "output_type": "execute_result"
    }
   ],
   "source": [
    "selectedpostshead"
   ]
  },
  {
   "cell_type": "code",
   "execution_count": null,
   "metadata": {},
   "outputs": [],
   "source": []
  }
 ],
 "metadata": {
  "kernelspec": {
   "display_name": "llmdiv",
   "language": "python",
   "name": "python3"
  },
  "language_info": {
   "codemirror_mode": {
    "name": "ipython",
    "version": 3
   },
   "file_extension": ".py",
   "mimetype": "text/x-python",
   "name": "python",
   "nbconvert_exporter": "python",
   "pygments_lexer": "ipython3",
   "version": "3.12.7"
  }
 },
 "nbformat": 4,
 "nbformat_minor": 2
}
