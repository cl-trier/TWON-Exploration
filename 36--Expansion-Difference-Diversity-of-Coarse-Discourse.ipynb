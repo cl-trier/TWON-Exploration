{
 "cells": [
  {
   "cell_type": "code",
   "execution_count": 1,
   "metadata": {},
   "outputs": [
    {
     "name": "stderr",
     "output_type": "stream",
     "text": [
      "\n",
      "A module that was compiled using NumPy 1.x cannot be run in\n",
      "NumPy 2.1.1 as it may crash. To support both 1.x and 2.x\n",
      "versions of NumPy, modules must be compiled with NumPy 2.0.\n",
      "Some module may need to rebuild instead e.g. with 'pybind11>=2.12'.\n",
      "\n",
      "If you are a user of the module, the easiest solution will be to\n",
      "downgrade to 'numpy<2' or try to upgrade the affected module.\n",
      "We expect that some modules will need time to support NumPy 2.\n",
      "\n",
      "Traceback (most recent call last):  File \"<frozen runpy>\", line 198, in _run_module_as_main\n",
      "  File \"<frozen runpy>\", line 88, in _run_code\n",
      "  File \"c:\\Users\\sstolwi\\Github\\llmdiv\\Lib\\site-packages\\ipykernel_launcher.py\", line 18, in <module>\n",
      "    app.launch_new_instance()\n",
      "  File \"c:\\Users\\sstolwi\\Github\\llmdiv\\Lib\\site-packages\\traitlets\\config\\application.py\", line 1075, in launch_instance\n",
      "    app.start()\n",
      "  File \"c:\\Users\\sstolwi\\Github\\llmdiv\\Lib\\site-packages\\ipykernel\\kernelapp.py\", line 739, in start\n",
      "    self.io_loop.start()\n",
      "  File \"c:\\Users\\sstolwi\\Github\\llmdiv\\Lib\\site-packages\\tornado\\platform\\asyncio.py\", line 205, in start\n",
      "    self.asyncio_loop.run_forever()\n",
      "  File \"C:\\Program Files\\WindowsApps\\PythonSoftwareFoundation.Python.3.12_3.12.2032.0_x64__qbz5n2kfra8p0\\Lib\\asyncio\\base_events.py\", line 641, in run_forever\n",
      "    self._run_once()\n",
      "  File \"C:\\Program Files\\WindowsApps\\PythonSoftwareFoundation.Python.3.12_3.12.2032.0_x64__qbz5n2kfra8p0\\Lib\\asyncio\\base_events.py\", line 1986, in _run_once\n",
      "    handle._run()\n",
      "  File \"C:\\Program Files\\WindowsApps\\PythonSoftwareFoundation.Python.3.12_3.12.2032.0_x64__qbz5n2kfra8p0\\Lib\\asyncio\\events.py\", line 88, in _run\n",
      "    self._context.run(self._callback, *self._args)\n",
      "  File \"c:\\Users\\sstolwi\\Github\\llmdiv\\Lib\\site-packages\\ipykernel\\kernelbase.py\", line 545, in dispatch_queue\n",
      "    await self.process_one()\n",
      "  File \"c:\\Users\\sstolwi\\Github\\llmdiv\\Lib\\site-packages\\ipykernel\\kernelbase.py\", line 534, in process_one\n",
      "    await dispatch(*args)\n",
      "  File \"c:\\Users\\sstolwi\\Github\\llmdiv\\Lib\\site-packages\\ipykernel\\kernelbase.py\", line 437, in dispatch_shell\n",
      "    await result\n",
      "  File \"c:\\Users\\sstolwi\\Github\\llmdiv\\Lib\\site-packages\\ipykernel\\ipkernel.py\", line 362, in execute_request\n",
      "    await super().execute_request(stream, ident, parent)\n",
      "  File \"c:\\Users\\sstolwi\\Github\\llmdiv\\Lib\\site-packages\\ipykernel\\kernelbase.py\", line 778, in execute_request\n",
      "    reply_content = await reply_content\n",
      "  File \"c:\\Users\\sstolwi\\Github\\llmdiv\\Lib\\site-packages\\ipykernel\\ipkernel.py\", line 449, in do_execute\n",
      "    res = shell.run_cell(\n",
      "  File \"c:\\Users\\sstolwi\\Github\\llmdiv\\Lib\\site-packages\\ipykernel\\zmqshell.py\", line 549, in run_cell\n",
      "    return super().run_cell(*args, **kwargs)\n",
      "  File \"c:\\Users\\sstolwi\\Github\\llmdiv\\Lib\\site-packages\\IPython\\core\\interactiveshell.py\", line 3075, in run_cell\n",
      "    result = self._run_cell(\n",
      "  File \"c:\\Users\\sstolwi\\Github\\llmdiv\\Lib\\site-packages\\IPython\\core\\interactiveshell.py\", line 3130, in _run_cell\n",
      "    result = runner(coro)\n",
      "  File \"c:\\Users\\sstolwi\\Github\\llmdiv\\Lib\\site-packages\\IPython\\core\\async_helpers.py\", line 128, in _pseudo_sync_runner\n",
      "    coro.send(None)\n",
      "  File \"c:\\Users\\sstolwi\\Github\\llmdiv\\Lib\\site-packages\\IPython\\core\\interactiveshell.py\", line 3334, in run_cell_async\n",
      "    has_raised = await self.run_ast_nodes(code_ast.body, cell_name,\n",
      "  File \"c:\\Users\\sstolwi\\Github\\llmdiv\\Lib\\site-packages\\IPython\\core\\interactiveshell.py\", line 3517, in run_ast_nodes\n",
      "    if await self.run_code(code, result, async_=asy):\n",
      "  File \"c:\\Users\\sstolwi\\Github\\llmdiv\\Lib\\site-packages\\IPython\\core\\interactiveshell.py\", line 3577, in run_code\n",
      "    exec(code_obj, self.user_global_ns, self.user_ns)\n",
      "  File \"C:\\Users\\sstolwi\\AppData\\Local\\Temp\\ipykernel_15560\\2472947157.py\", line 6, in <module>\n",
      "    import src\n",
      "  File \"c:\\Users\\sstolwi\\Github\\TWON-Metrics\\src\\__init__.py\", line 1, in <module>\n",
      "    from .hf_classify import HFClassify\n",
      "  File \"c:\\Users\\sstolwi\\Github\\TWON-Metrics\\src\\hf_classify.py\", line 5, in <module>\n",
      "    import torch\n",
      "  File \"c:\\Users\\sstolwi\\Github\\llmdiv\\Lib\\site-packages\\torch\\__init__.py\", line 1477, in <module>\n",
      "    from .functional import *  # noqa: F403\n",
      "  File \"c:\\Users\\sstolwi\\Github\\llmdiv\\Lib\\site-packages\\torch\\functional.py\", line 9, in <module>\n",
      "    import torch.nn.functional as F\n",
      "  File \"c:\\Users\\sstolwi\\Github\\llmdiv\\Lib\\site-packages\\torch\\nn\\__init__.py\", line 1, in <module>\n",
      "    from .modules import *  # noqa: F403\n",
      "  File \"c:\\Users\\sstolwi\\Github\\llmdiv\\Lib\\site-packages\\torch\\nn\\modules\\__init__.py\", line 35, in <module>\n",
      "    from .transformer import TransformerEncoder, TransformerDecoder, \\\n",
      "  File \"c:\\Users\\sstolwi\\Github\\llmdiv\\Lib\\site-packages\\torch\\nn\\modules\\transformer.py\", line 20, in <module>\n",
      "    device: torch.device = torch.device(torch._C._get_default_device()),  # torch.device('cpu'),\n",
      "c:\\Users\\sstolwi\\Github\\llmdiv\\Lib\\site-packages\\torch\\nn\\modules\\transformer.py:20: UserWarning: Failed to initialize NumPy: _ARRAY_API not found (Triggered internally at ..\\torch\\csrc\\utils\\tensor_numpy.cpp:84.)\n",
      "  device: torch.device = torch.device(torch._C._get_default_device()),  # torch.device('cpu'),\n",
      "c:\\Users\\sstolwi\\Github\\llmdiv\\Lib\\site-packages\\tqdm\\auto.py:21: TqdmWarning: IProgress not found. Please update jupyter and ipywidgets. See https://ipywidgets.readthedocs.io/en/stable/user_install.html\n",
      "  from .autonotebook import tqdm as notebook_tqdm\n"
     ]
    }
   ],
   "source": [
    "import typing\n",
    "\n",
    "import pandas as pd\n",
    "\n",
    "import config\n",
    "import src\n",
    "import requests\n",
    "import tqdm\n",
    "import json\n",
    "import numpy as np\n",
    "import logging\n",
    "\n",
    "#import cltrier_lib as lib\n",
    "\n",
    "import yaml\n",
    "pd.set_option('display.max_colwidth', 100) "
   ]
  },
  {
   "cell_type": "code",
   "execution_count": 2,
   "metadata": {},
   "outputs": [],
   "source": [
    "CFG = config.Config()"
   ]
  },
  {
   "cell_type": "code",
   "execution_count": 3,
   "metadata": {},
   "outputs": [
    {
     "data": {
      "text/html": [
       "<div>\n",
       "<style scoped>\n",
       "    .dataframe tbody tr th:only-of-type {\n",
       "        vertical-align: middle;\n",
       "    }\n",
       "\n",
       "    .dataframe tbody tr th {\n",
       "        vertical-align: top;\n",
       "    }\n",
       "\n",
       "    .dataframe thead th {\n",
       "        text-align: right;\n",
       "    }\n",
       "</style>\n",
       "<table border=\"1\" class=\"dataframe\">\n",
       "  <thead>\n",
       "    <tr style=\"text-align: right;\">\n",
       "      <th></th>\n",
       "      <th>id</th>\n",
       "      <th>body</th>\n",
       "      <th>subreddit</th>\n",
       "      <th>thread_title</th>\n",
       "      <th>majority_link</th>\n",
       "      <th>majority_type</th>\n",
       "      <th>is_first_post</th>\n",
       "      <th>post_depth</th>\n",
       "      <th>author</th>\n",
       "      <th>claim_oplow</th>\n",
       "      <th>claim_optlow_MXBAI</th>\n",
       "    </tr>\n",
       "  </thead>\n",
       "  <tbody>\n",
       "    <tr>\n",
       "      <th>0</th>\n",
       "      <td>t3_1bx6qw</td>\n",
       "      <td></td>\n",
       "      <td>100movies365days</td>\n",
       "      <td>DTX120: #87 - Nashville</td>\n",
       "      <td>none</td>\n",
       "      <td>announcement</td>\n",
       "      <td>True</td>\n",
       "      <td>NaN</td>\n",
       "      <td>None</td>\n",
       "      <td>[]</td>\n",
       "      <td>[0.3085225224494934, 0.0025453902781009674, -0...</td>\n",
       "    </tr>\n",
       "    <tr>\n",
       "      <th>1</th>\n",
       "      <td>t1_c9b2nyd</td>\n",
       "      <td>I've wanted to watch this for a long time. I w...</td>\n",
       "      <td>100movies365days</td>\n",
       "      <td>DTX120: #87 - Nashville</td>\n",
       "      <td>t3_1bx6qw</td>\n",
       "      <td>elaboration</td>\n",
       "      <td>None</td>\n",
       "      <td>1.0</td>\n",
       "      <td>mcgrewf10</td>\n",
       "      <td>[\"The user has wanted to watch something for a...</td>\n",
       "      <td>[0.4254729151725769, -0.01032189279794693, -0....</td>\n",
       "    </tr>\n",
       "    <tr>\n",
       "      <th>2</th>\n",
       "      <td>t1_c9b30i1</td>\n",
       "      <td>You strike me as the type who would appreciate...</td>\n",
       "      <td>100movies365days</td>\n",
       "      <td>DTX120: #87 - Nashville</td>\n",
       "      <td>t1_c9b2nyd</td>\n",
       "      <td>elaboration</td>\n",
       "      <td>None</td>\n",
       "      <td>2.0</td>\n",
       "      <td>None</td>\n",
       "      <td>[\"Magnolia has a similar structure to Altman's...</td>\n",
       "      <td>[0.7148110270500183, -0.15317122638225555, -0....</td>\n",
       "    </tr>\n",
       "    <tr>\n",
       "      <th>3</th>\n",
       "      <td>t1_c9b6sj0</td>\n",
       "      <td>Yeah, I've always heard that Altman was famous...</td>\n",
       "      <td>100movies365days</td>\n",
       "      <td>DTX120: #87 - Nashville</td>\n",
       "      <td>t1_c9b30i1</td>\n",
       "      <td>elaboration</td>\n",
       "      <td>None</td>\n",
       "      <td>3.0</td>\n",
       "      <td>mcgrewf10</td>\n",
       "      <td>[\"Altman is famous for his ensemble casts\", \"T...</td>\n",
       "      <td>[0.7345885634422302, -0.177871972322464, -0.60...</td>\n",
       "    </tr>\n",
       "    <tr>\n",
       "      <th>4</th>\n",
       "      <td>t3_omv7p</td>\n",
       "      <td>Alright guys, little background about myself. ...</td>\n",
       "      <td>100sets</td>\n",
       "      <td>Male, 23 years old. Going for 100 sets!</td>\n",
       "      <td>none</td>\n",
       "      <td>announcement</td>\n",
       "      <td>True</td>\n",
       "      <td>NaN</td>\n",
       "      <td>Keatonus</td>\n",
       "      <td>[\"The writer has had modest success with women...</td>\n",
       "      <td>[0.5479655265808105, -0.197927325963974, -0.42...</td>\n",
       "    </tr>\n",
       "  </tbody>\n",
       "</table>\n",
       "</div>"
      ],
      "text/plain": [
       "           id                                               body  \\\n",
       "0   t3_1bx6qw                                                      \n",
       "1  t1_c9b2nyd  I've wanted to watch this for a long time. I w...   \n",
       "2  t1_c9b30i1  You strike me as the type who would appreciate...   \n",
       "3  t1_c9b6sj0  Yeah, I've always heard that Altman was famous...   \n",
       "4    t3_omv7p  Alright guys, little background about myself. ...   \n",
       "\n",
       "          subreddit                             thread_title majority_link  \\\n",
       "0  100movies365days                  DTX120: #87 - Nashville          none   \n",
       "1  100movies365days                  DTX120: #87 - Nashville     t3_1bx6qw   \n",
       "2  100movies365days                  DTX120: #87 - Nashville    t1_c9b2nyd   \n",
       "3  100movies365days                  DTX120: #87 - Nashville    t1_c9b30i1   \n",
       "4           100sets  Male, 23 years old. Going for 100 sets!          none   \n",
       "\n",
       "  majority_type is_first_post  post_depth     author  \\\n",
       "0  announcement          True         NaN       None   \n",
       "1   elaboration          None         1.0  mcgrewf10   \n",
       "2   elaboration          None         2.0       None   \n",
       "3   elaboration          None         3.0  mcgrewf10   \n",
       "4  announcement          True         NaN   Keatonus   \n",
       "\n",
       "                                         claim_oplow  \\\n",
       "0                                                 []   \n",
       "1  [\"The user has wanted to watch something for a...   \n",
       "2  [\"Magnolia has a similar structure to Altman's...   \n",
       "3  [\"Altman is famous for his ensemble casts\", \"T...   \n",
       "4  [\"The writer has had modest success with women...   \n",
       "\n",
       "                                  claim_optlow_MXBAI  \n",
       "0  [0.3085225224494934, 0.0025453902781009674, -0...  \n",
       "1  [0.4254729151725769, -0.01032189279794693, -0....  \n",
       "2  [0.7148110270500183, -0.15317122638225555, -0....  \n",
       "3  [0.7345885634422302, -0.177871972322464, -0.60...  \n",
       "4  [0.5479655265808105, -0.197927325963974, -0.42...  "
      ]
     },
     "execution_count": 3,
     "metadata": {},
     "output_type": "execute_result"
    }
   ],
   "source": [
    "#load data\n",
    "reddit3000: pd.DataFrame = pd.read_parquet(f'{CFG.report_dir}/reddit3000.parquet')\n",
    "reddit3000.head()"
   ]
  },
  {
   "cell_type": "code",
   "execution_count": 4,
   "metadata": {},
   "outputs": [],
   "source": [
    "#select the rows in the dataset that have the a showName with more than cutoff comments:   \n",
    "cutoff = 40\n",
    "selectedposts = reddit3000[reddit3000['thread_title'].isin(reddit3000['thread_title'].value_counts()[reddit3000['thread_title'].value_counts() >= cutoff].index)]"
   ]
  },
  {
   "cell_type": "code",
   "execution_count": 5,
   "metadata": {},
   "outputs": [
    {
     "data": {
      "text/html": [
       "<div>\n",
       "<style scoped>\n",
       "    .dataframe tbody tr th:only-of-type {\n",
       "        vertical-align: middle;\n",
       "    }\n",
       "\n",
       "    .dataframe tbody tr th {\n",
       "        vertical-align: top;\n",
       "    }\n",
       "\n",
       "    .dataframe thead th {\n",
       "        text-align: right;\n",
       "    }\n",
       "</style>\n",
       "<table border=\"1\" class=\"dataframe\">\n",
       "  <thead>\n",
       "    <tr style=\"text-align: right;\">\n",
       "      <th></th>\n",
       "      <th>id</th>\n",
       "      <th>body</th>\n",
       "      <th>subreddit</th>\n",
       "      <th>thread_title</th>\n",
       "      <th>majority_link</th>\n",
       "      <th>majority_type</th>\n",
       "      <th>is_first_post</th>\n",
       "      <th>post_depth</th>\n",
       "      <th>author</th>\n",
       "      <th>claim_oplow</th>\n",
       "      <th>claim_optlow_MXBAI</th>\n",
       "    </tr>\n",
       "  </thead>\n",
       "  <tbody>\n",
       "    <tr>\n",
       "      <th>1175</th>\n",
       "      <td>t3_17feeu</td>\n",
       "      <td>I'm rooted on an S3 and debating what ROM I'd ...</td>\n",
       "      <td>android</td>\n",
       "      <td>What ROM are you currently running and what do...</td>\n",
       "      <td>none</td>\n",
       "      <td>question</td>\n",
       "      <td>True</td>\n",
       "      <td>NaN</td>\n",
       "      <td>RipperDaVe</td>\n",
       "      <td>[]</td>\n",
       "      <td>[0.3085225224494934, 0.0025453902781009674, -0...</td>\n",
       "    </tr>\n",
       "    <tr>\n",
       "      <th>1176</th>\n",
       "      <td>t1_c84zkny</td>\n",
       "      <td>ParanoidKANGdroid. Has AOKP paranoid android a...</td>\n",
       "      <td>android</td>\n",
       "      <td>What ROM are you currently running and what do...</td>\n",
       "      <td>t3_17feeu</td>\n",
       "      <td>answer</td>\n",
       "      <td>None</td>\n",
       "      <td>1.0</td>\n",
       "      <td>None</td>\n",
       "      <td>[\"AOKP paranoid android and CM10 can be combin...</td>\n",
       "      <td>[0.6152559518814087, -0.22806480526924133, -0....</td>\n",
       "    </tr>\n",
       "    <tr>\n",
       "      <th>1177</th>\n",
       "      <td>t1_c84znti</td>\n",
       "      <td>Isn't this kind of like PAC (Paranoid/AOKP/CM)?</td>\n",
       "      <td>android</td>\n",
       "      <td>What ROM are you currently running and what do...</td>\n",
       "      <td>t1_c84zkny</td>\n",
       "      <td>question</td>\n",
       "      <td>None</td>\n",
       "      <td>2.0</td>\n",
       "      <td>OmegaVesko</td>\n",
       "      <td>[\"This is similar to PAC (Paranoid/AOKP/CM).\"]</td>\n",
       "      <td>[0.4787346422672272, -0.1805042177438736, -0.4...</td>\n",
       "    </tr>\n",
       "    <tr>\n",
       "      <th>1178</th>\n",
       "      <td>t1_c850f55</td>\n",
       "      <td>Omg. That's what it should be called, way cool...</td>\n",
       "      <td>android</td>\n",
       "      <td>What ROM are you currently running and what do...</td>\n",
       "      <td>t1_c84znti</td>\n",
       "      <td>appreciation</td>\n",
       "      <td>None</td>\n",
       "      <td>3.0</td>\n",
       "      <td>None</td>\n",
       "      <td>[\"ParanoidKANGdroid is not as cool as the sugg...</td>\n",
       "      <td>[0.35291609168052673, -0.2874097526073456, -0....</td>\n",
       "    </tr>\n",
       "    <tr>\n",
       "      <th>1179</th>\n",
       "      <td>t1_c850if1</td>\n",
       "      <td>http://forum.xda-developers.com/showthread.php...</td>\n",
       "      <td>android</td>\n",
       "      <td>What ROM are you currently running and what do...</td>\n",
       "      <td>t1_c850f55</td>\n",
       "      <td>elaboration</td>\n",
       "      <td>None</td>\n",
       "      <td>4.0</td>\n",
       "      <td>OmegaVesko</td>\n",
       "      <td>[]</td>\n",
       "      <td>[0.3085225224494934, 0.0025453902781009674, -0...</td>\n",
       "    </tr>\n",
       "  </tbody>\n",
       "</table>\n",
       "</div>"
      ],
      "text/plain": [
       "              id                                               body subreddit  \\\n",
       "1175   t3_17feeu  I'm rooted on an S3 and debating what ROM I'd ...   android   \n",
       "1176  t1_c84zkny  ParanoidKANGdroid. Has AOKP paranoid android a...   android   \n",
       "1177  t1_c84znti    Isn't this kind of like PAC (Paranoid/AOKP/CM)?   android   \n",
       "1178  t1_c850f55  Omg. That's what it should be called, way cool...   android   \n",
       "1179  t1_c850if1  http://forum.xda-developers.com/showthread.php...   android   \n",
       "\n",
       "                                           thread_title majority_link  \\\n",
       "1175  What ROM are you currently running and what do...          none   \n",
       "1176  What ROM are you currently running and what do...     t3_17feeu   \n",
       "1177  What ROM are you currently running and what do...    t1_c84zkny   \n",
       "1178  What ROM are you currently running and what do...    t1_c84znti   \n",
       "1179  What ROM are you currently running and what do...    t1_c850f55   \n",
       "\n",
       "     majority_type is_first_post  post_depth      author  \\\n",
       "1175      question          True         NaN  RipperDaVe   \n",
       "1176        answer          None         1.0        None   \n",
       "1177      question          None         2.0  OmegaVesko   \n",
       "1178  appreciation          None         3.0        None   \n",
       "1179   elaboration          None         4.0  OmegaVesko   \n",
       "\n",
       "                                            claim_oplow  \\\n",
       "1175                                                 []   \n",
       "1176  [\"AOKP paranoid android and CM10 can be combin...   \n",
       "1177     [\"This is similar to PAC (Paranoid/AOKP/CM).\"]   \n",
       "1178  [\"ParanoidKANGdroid is not as cool as the sugg...   \n",
       "1179                                                 []   \n",
       "\n",
       "                                     claim_optlow_MXBAI  \n",
       "1175  [0.3085225224494934, 0.0025453902781009674, -0...  \n",
       "1176  [0.6152559518814087, -0.22806480526924133, -0....  \n",
       "1177  [0.4787346422672272, -0.1805042177438736, -0.4...  \n",
       "1178  [0.35291609168052673, -0.2874097526073456, -0....  \n",
       "1179  [0.3085225224494934, 0.0025453902781009674, -0...  "
      ]
     },
     "execution_count": 5,
     "metadata": {},
     "output_type": "execute_result"
    }
   ],
   "source": [
    "selectedposts.head()"
   ]
  },
  {
   "cell_type": "code",
   "execution_count": 6,
   "metadata": {},
   "outputs": [
    {
     "data": {
      "text/plain": [
       "thread_title\n",
       "What ROM are you currently running and what do you like/dislike about it?          41\n",
       "Get rid of unwanted system apps (adb shell pm hide)                                41\n",
       "If your country has a 30-35 hour work week, what do you do with your free time?    41\n",
       "Name: count, dtype: int64"
      ]
     },
     "execution_count": 6,
     "metadata": {},
     "output_type": "execute_result"
    }
   ],
   "source": [
    "selectedposts['thread_title'].value_counts()"
   ]
  },
  {
   "cell_type": "code",
   "execution_count": 7,
   "metadata": {},
   "outputs": [],
   "source": [
    "#try new Achim approach of first expanding the meaning of the post based on context and then classifying the addition of new information per post:\n"
   ]
  },
  {
   "cell_type": "code",
   "execution_count": 8,
   "metadata": {},
   "outputs": [],
   "source": [
    "SYSTEM_expansion: str = \\\n",
    "    \"\"\"\n",
    "        Instruction:\\nYou verbalize the meaning of a social media post given the preceding comments in the thread. You will be provided with a thread of comments enclosed in chevrons  <..> and a target post enclosed in double chevrons <<...>>.\\nYou respond with the target reply-post, but, if it contains words alluding to the original post, you expand on them so that their meaning is preserved without the preceding comment. Your response is worded as a social media post. If the meaning of the target reply-post is not affected by the context of the original post, you reply with a verbatim copy of the target reply-post.\\\\n\\\\nText:\"\n",
    "\t\"\"\""
   ]
  },
  {
   "cell_type": "code",
   "execution_count": 9,
   "metadata": {},
   "outputs": [],
   "source": [
    "MODEL: str = 'llama3.1:8b-instruct-q6_K' # options: 'gemma:7b-instruct-q6_K', 'gemma2:27b-instruct-q6_K', 'llama3.1:8b-instruct-q6_K', 'llama3.1:70b-instruct-q6_K', 'mistral:7b-instruct-v0.3-q6_K', 'mistral-large:123b-instruct-2407-q6_K', 'mixtral:8x7b-instruct-v0.1-q6_K', 'mixtral:8x22b-instruct-v0.1-q6_K', 'phi3:14b-medium-128k-instruct-q6_K' or 'qwen2:72b-instruct-q6_K'\n"
   ]
  },
  {
   "cell_type": "code",
   "execution_count": 10,
   "metadata": {},
   "outputs": [],
   "source": [
    "options_low = \"\"\"\n",
    "seed: 42\n",
    "temperature: 0.1\n",
    "\"\"\"\n",
    "\n",
    "options_low = yaml.safe_load(options_low)"
   ]
  },
  {
   "cell_type": "code",
   "execution_count": 20,
   "metadata": {},
   "outputs": [
    {
     "data": {
      "text/plain": [
       "{'id': '18fd5568-914f-11ef-b791-b5b8664f6fd3',\n",
       " 'timestamp': '2024-10-23T14:57:17.947611',\n",
       " 'model': 'llama3.1:8b-instruct-q6_K',\n",
       " 'prompt': [{'role': 'system',\n",
       "   'content': '\\n        Instruction:\\nYou verbalize the meaning of a social media post given the preceding comments in the thread. You will be provided with a thread of comments enclosed in chevrons  <..> and a target post enclosed in double chevrons <<...>>.\\nYou respond with the target reply-post, but, if it contains words alluding to the original post, you expand on them so that their meaning is preserved without the preceding comment. Your response is worded as a social media post. If the meaning of the target reply-post is not affected by the context of the original post, you reply with a verbatim copy of the target reply-post.\\\\n\\\\nText:\"\\n\\t'},\n",
       "  {'role': 'user',\n",
       "   'content': '\"Thread\":\\n<[\"I\\'m rooted on an S3 and debating what ROM I\\'d like to flash, any and all opinions would be appreciated, thanks!\\\\n\\\\nEdit: Happy to hear ideas from other phones as well, thanks for the input\", \\'ParanoidKANGdroid. Has AOKP paranoid android and CM10 combined. Absolutely genius. And it is stable! The customization is incredible. On jellybean too.\\\\n\\\\n**EDIT:** link for OP, on the I747 GS3 \\\\n\\\\nhttp://forum.xda-developers.com/showthread.php?t=1944523\\', \"Isn\\'t this kind of like PAC (Paranoid/AOKP/CM)?\", \"Omg. That\\'s what it should be called, way cooler than paranoidKANGdroid.\", \\'http://forum.xda-developers.com/showthread.php?t=2015607\\']>, \"Target reply\":<<[\\'Thanks this looks really good\\']>>'}],\n",
       " 'response': '\"Looks like I\\'ve found the perfect ROM for my S3 - a genius combination of AOKP, Paranoid Android, and CM10 on Jellybean! The customization is incredible and it\\'s surprisingly stable. Thanks to all who shared their opinions and ideas, especially ParanoidKANGdroid for the link!\"'}"
      ]
     },
     "execution_count": 20,
     "metadata": {},
     "output_type": "execute_result"
    }
   ],
   "source": [
    "requests.post(\n",
    "                            'https://inf.cl.uni-trier.de/',\n",
    "                            json={\n",
    "                                'model': MODEL,\n",
    "                                'system': SYSTEM_expansion,\n",
    "                                'prompt': f'\"Thread\":\\n<{selectedposts[\"body\"][:5].to_list()}>, \"Target reply\":<<{selectedposts[\"body\"][5:6].to_list()}>>',\n",
    "                                'options': options_low\n",
    "                                }).json()"
   ]
  },
  {
   "cell_type": "code",
   "execution_count": 22,
   "metadata": {},
   "outputs": [
    {
     "data": {
      "text/plain": [
       "[\"I'm rooted on an S3 and debating what ROM I'd like to flash, any and all opinions would be appreciated, thanks!\\n\\nEdit: Happy to hear ideas from other phones as well, thanks for the input\",\n",
       " 'ParanoidKANGdroid. Has AOKP paranoid android and CM10 combined. Absolutely genius. And it is stable! The customization is incredible. On jellybean too.\\n\\n**EDIT:** link for OP, on the I747 GS3 \\n\\nhttp://forum.xda-developers.com/showthread.php?t=1944523',\n",
       " \"Isn't this kind of like PAC (Paranoid/AOKP/CM)?\",\n",
       " \"Omg. That's what it should be called, way cooler than paranoidKANGdroid.\",\n",
       " 'http://forum.xda-developers.com/showthread.php?t=2015607']"
      ]
     },
     "execution_count": 22,
     "metadata": {},
     "output_type": "execute_result"
    }
   ],
   "source": [
    "selectedposts[\"body\"][:5].to_list()"
   ]
  },
  {
   "cell_type": "code",
   "execution_count": 21,
   "metadata": {},
   "outputs": [
    {
     "data": {
      "text/plain": [
       "['Thanks this looks really good']"
      ]
     },
     "execution_count": 21,
     "metadata": {},
     "output_type": "execute_result"
    }
   ],
   "source": [
    "selectedposts[\"body\"][5:6].to_list()"
   ]
  },
  {
   "cell_type": "code",
   "execution_count": 26,
   "metadata": {},
   "outputs": [
    {
     "ename": "AttributeError",
     "evalue": "'Series' object has no attribute 'as_type'",
     "output_type": "error",
     "traceback": [
      "\u001b[1;31m---------------------------------------------------------------------------\u001b[0m",
      "\u001b[1;31mAttributeError\u001b[0m                            Traceback (most recent call last)",
      "\u001b[1;32m~\\AppData\\Local\\Temp\\ipykernel_15560\\3602997565.py\u001b[0m in \u001b[0;36m?\u001b[1;34m()\u001b[0m\n\u001b[1;32m----> 1\u001b[1;33m \u001b[0mselectedposts\u001b[0m\u001b[1;33m[\u001b[0m\u001b[1;34m'preceding_index'\u001b[0m\u001b[1;33m]\u001b[0m \u001b[1;33m=\u001b[0m \u001b[0mselectedposts\u001b[0m\u001b[1;33m.\u001b[0m\u001b[0mindex\u001b[0m\u001b[1;33m.\u001b[0m\u001b[0mto_series\u001b[0m\u001b[1;33m(\u001b[0m\u001b[1;33m)\u001b[0m\u001b[1;33m.\u001b[0m\u001b[0mshift\u001b[0m\u001b[1;33m(\u001b[0m\u001b[1;36m1\u001b[0m\u001b[1;33m)\u001b[0m\u001b[1;33m.\u001b[0m\u001b[0mas_type\u001b[0m\u001b[1;33m(\u001b[0m\u001b[0mint\u001b[0m\u001b[1;33m)\u001b[0m\u001b[1;33m\u001b[0m\u001b[1;33m\u001b[0m\u001b[0m\n\u001b[0m",
      "\u001b[1;32mc:\\Users\\sstolwi\\Github\\llmdiv\\Lib\\site-packages\\pandas\\core\\generic.py\u001b[0m in \u001b[0;36m?\u001b[1;34m(self, name)\u001b[0m\n\u001b[0;32m   6295\u001b[0m             \u001b[1;32mand\u001b[0m \u001b[0mname\u001b[0m \u001b[1;32mnot\u001b[0m \u001b[1;32min\u001b[0m \u001b[0mself\u001b[0m\u001b[1;33m.\u001b[0m\u001b[0m_accessors\u001b[0m\u001b[1;33m\u001b[0m\u001b[1;33m\u001b[0m\u001b[0m\n\u001b[0;32m   6296\u001b[0m             \u001b[1;32mand\u001b[0m \u001b[0mself\u001b[0m\u001b[1;33m.\u001b[0m\u001b[0m_info_axis\u001b[0m\u001b[1;33m.\u001b[0m\u001b[0m_can_hold_identifiers_and_holds_name\u001b[0m\u001b[1;33m(\u001b[0m\u001b[0mname\u001b[0m\u001b[1;33m)\u001b[0m\u001b[1;33m\u001b[0m\u001b[1;33m\u001b[0m\u001b[0m\n\u001b[0;32m   6297\u001b[0m         \u001b[1;33m)\u001b[0m\u001b[1;33m:\u001b[0m\u001b[1;33m\u001b[0m\u001b[1;33m\u001b[0m\u001b[0m\n\u001b[0;32m   6298\u001b[0m             \u001b[1;32mreturn\u001b[0m \u001b[0mself\u001b[0m\u001b[1;33m[\u001b[0m\u001b[0mname\u001b[0m\u001b[1;33m]\u001b[0m\u001b[1;33m\u001b[0m\u001b[1;33m\u001b[0m\u001b[0m\n\u001b[1;32m-> 6299\u001b[1;33m         \u001b[1;32mreturn\u001b[0m \u001b[0mobject\u001b[0m\u001b[1;33m.\u001b[0m\u001b[0m__getattribute__\u001b[0m\u001b[1;33m(\u001b[0m\u001b[0mself\u001b[0m\u001b[1;33m,\u001b[0m \u001b[0mname\u001b[0m\u001b[1;33m)\u001b[0m\u001b[1;33m\u001b[0m\u001b[1;33m\u001b[0m\u001b[0m\n\u001b[0m",
      "\u001b[1;31mAttributeError\u001b[0m: 'Series' object has no attribute 'as_type'"
     ]
    }
   ],
   "source": [
    "selectedposts['preceding_index'] = selectedposts.index.to_series().shift(1)"
   ]
  },
  {
   "cell_type": "code",
   "execution_count": 37,
   "metadata": {},
   "outputs": [
    {
     "data": {
      "text/plain": [
       "np.int64(1)"
      ]
     },
     "execution_count": 37,
     "metadata": {},
     "output_type": "execute_result"
    }
   ],
   "source": [
    "selectedposts['preceding_index'].isna().sum()"
   ]
  },
  {
   "cell_type": "code",
   "execution_count": 40,
   "metadata": {},
   "outputs": [
    {
     "name": "stderr",
     "output_type": "stream",
     "text": [
      "C:\\Users\\sstolwi\\AppData\\Local\\Temp\\ipykernel_15560\\714106042.py:1: SettingWithCopyWarning: \n",
      "A value is trying to be set on a copy of a slice from a DataFrame\n",
      "\n",
      "See the caveats in the documentation: https://pandas.pydata.org/pandas-docs/stable/user_guide/indexing.html#returning-a-view-versus-a-copy\n",
      "  selectedposts.drop(columns=['preceding_index'], inplace=True)\n"
     ]
    }
   ],
   "source": [
    "selectedposts.drop(columns=['preceding_index'], inplace=True)"
   ]
  },
  {
   "cell_type": "code",
   "execution_count": 42,
   "metadata": {},
   "outputs": [
    {
     "data": {
      "text/html": [
       "<div>\n",
       "<style scoped>\n",
       "    .dataframe tbody tr th:only-of-type {\n",
       "        vertical-align: middle;\n",
       "    }\n",
       "\n",
       "    .dataframe tbody tr th {\n",
       "        vertical-align: top;\n",
       "    }\n",
       "\n",
       "    .dataframe thead th {\n",
       "        text-align: right;\n",
       "    }\n",
       "</style>\n",
       "<table border=\"1\" class=\"dataframe\">\n",
       "  <thead>\n",
       "    <tr style=\"text-align: right;\">\n",
       "      <th></th>\n",
       "      <th>id</th>\n",
       "      <th>body</th>\n",
       "      <th>subreddit</th>\n",
       "      <th>thread_title</th>\n",
       "      <th>majority_link</th>\n",
       "      <th>majority_type</th>\n",
       "      <th>is_first_post</th>\n",
       "      <th>post_depth</th>\n",
       "      <th>author</th>\n",
       "      <th>claim_oplow</th>\n",
       "      <th>claim_optlow_MXBAI</th>\n",
       "    </tr>\n",
       "  </thead>\n",
       "  <tbody>\n",
       "    <tr>\n",
       "      <th>1175</th>\n",
       "      <td>t3_17feeu</td>\n",
       "      <td>I'm rooted on an S3 and debating what ROM I'd ...</td>\n",
       "      <td>android</td>\n",
       "      <td>What ROM are you currently running and what do...</td>\n",
       "      <td>none</td>\n",
       "      <td>question</td>\n",
       "      <td>True</td>\n",
       "      <td>NaN</td>\n",
       "      <td>RipperDaVe</td>\n",
       "      <td>[]</td>\n",
       "      <td>[0.3085225224494934, 0.0025453902781009674, -0...</td>\n",
       "    </tr>\n",
       "    <tr>\n",
       "      <th>1176</th>\n",
       "      <td>t1_c84zkny</td>\n",
       "      <td>ParanoidKANGdroid. Has AOKP paranoid android a...</td>\n",
       "      <td>android</td>\n",
       "      <td>What ROM are you currently running and what do...</td>\n",
       "      <td>t3_17feeu</td>\n",
       "      <td>answer</td>\n",
       "      <td>None</td>\n",
       "      <td>1.0</td>\n",
       "      <td>None</td>\n",
       "      <td>[\"AOKP paranoid android and CM10 can be combin...</td>\n",
       "      <td>[0.6152559518814087, -0.22806480526924133, -0....</td>\n",
       "    </tr>\n",
       "    <tr>\n",
       "      <th>1177</th>\n",
       "      <td>t1_c84znti</td>\n",
       "      <td>Isn't this kind of like PAC (Paranoid/AOKP/CM)?</td>\n",
       "      <td>android</td>\n",
       "      <td>What ROM are you currently running and what do...</td>\n",
       "      <td>t1_c84zkny</td>\n",
       "      <td>question</td>\n",
       "      <td>None</td>\n",
       "      <td>2.0</td>\n",
       "      <td>OmegaVesko</td>\n",
       "      <td>[\"This is similar to PAC (Paranoid/AOKP/CM).\"]</td>\n",
       "      <td>[0.4787346422672272, -0.1805042177438736, -0.4...</td>\n",
       "    </tr>\n",
       "    <tr>\n",
       "      <th>1178</th>\n",
       "      <td>t1_c850f55</td>\n",
       "      <td>Omg. That's what it should be called, way cool...</td>\n",
       "      <td>android</td>\n",
       "      <td>What ROM are you currently running and what do...</td>\n",
       "      <td>t1_c84znti</td>\n",
       "      <td>appreciation</td>\n",
       "      <td>None</td>\n",
       "      <td>3.0</td>\n",
       "      <td>None</td>\n",
       "      <td>[\"ParanoidKANGdroid is not as cool as the sugg...</td>\n",
       "      <td>[0.35291609168052673, -0.2874097526073456, -0....</td>\n",
       "    </tr>\n",
       "    <tr>\n",
       "      <th>1179</th>\n",
       "      <td>t1_c850if1</td>\n",
       "      <td>http://forum.xda-developers.com/showthread.php...</td>\n",
       "      <td>android</td>\n",
       "      <td>What ROM are you currently running and what do...</td>\n",
       "      <td>t1_c850f55</td>\n",
       "      <td>elaboration</td>\n",
       "      <td>None</td>\n",
       "      <td>4.0</td>\n",
       "      <td>OmegaVesko</td>\n",
       "      <td>[]</td>\n",
       "      <td>[0.3085225224494934, 0.0025453902781009674, -0...</td>\n",
       "    </tr>\n",
       "  </tbody>\n",
       "</table>\n",
       "</div>"
      ],
      "text/plain": [
       "              id                                               body subreddit  \\\n",
       "1175   t3_17feeu  I'm rooted on an S3 and debating what ROM I'd ...   android   \n",
       "1176  t1_c84zkny  ParanoidKANGdroid. Has AOKP paranoid android a...   android   \n",
       "1177  t1_c84znti    Isn't this kind of like PAC (Paranoid/AOKP/CM)?   android   \n",
       "1178  t1_c850f55  Omg. That's what it should be called, way cool...   android   \n",
       "1179  t1_c850if1  http://forum.xda-developers.com/showthread.php...   android   \n",
       "\n",
       "                                           thread_title majority_link  \\\n",
       "1175  What ROM are you currently running and what do...          none   \n",
       "1176  What ROM are you currently running and what do...     t3_17feeu   \n",
       "1177  What ROM are you currently running and what do...    t1_c84zkny   \n",
       "1178  What ROM are you currently running and what do...    t1_c84znti   \n",
       "1179  What ROM are you currently running and what do...    t1_c850f55   \n",
       "\n",
       "     majority_type is_first_post  post_depth      author  \\\n",
       "1175      question          True         NaN  RipperDaVe   \n",
       "1176        answer          None         1.0        None   \n",
       "1177      question          None         2.0  OmegaVesko   \n",
       "1178  appreciation          None         3.0        None   \n",
       "1179   elaboration          None         4.0  OmegaVesko   \n",
       "\n",
       "                                            claim_oplow  \\\n",
       "1175                                                 []   \n",
       "1176  [\"AOKP paranoid android and CM10 can be combin...   \n",
       "1177     [\"This is similar to PAC (Paranoid/AOKP/CM).\"]   \n",
       "1178  [\"ParanoidKANGdroid is not as cool as the sugg...   \n",
       "1179                                                 []   \n",
       "\n",
       "                                     claim_optlow_MXBAI  \n",
       "1175  [0.3085225224494934, 0.0025453902781009674, -0...  \n",
       "1176  [0.6152559518814087, -0.22806480526924133, -0....  \n",
       "1177  [0.4787346422672272, -0.1805042177438736, -0.4...  \n",
       "1178  [0.35291609168052673, -0.2874097526073456, -0....  \n",
       "1179  [0.3085225224494934, 0.0025453902781009674, -0...  "
      ]
     },
     "execution_count": 42,
     "metadata": {},
     "output_type": "execute_result"
    }
   ],
   "source": [
    "selectedposts.head()"
   ]
  },
  {
   "cell_type": "code",
   "execution_count": 47,
   "metadata": {},
   "outputs": [
    {
     "ename": "TypeError",
     "evalue": "'DataFrameGroupBy' object does not support item assignment",
     "output_type": "error",
     "traceback": [
      "\u001b[1;31m---------------------------------------------------------------------------\u001b[0m",
      "\u001b[1;31mTypeError\u001b[0m                                 Traceback (most recent call last)",
      "Cell \u001b[1;32mIn[47], line 3\u001b[0m\n\u001b[0;32m      1\u001b[0m GROUPER\u001b[38;5;241m=\u001b[39m\u001b[38;5;124m'\u001b[39m\u001b[38;5;124mthread_title\u001b[39m\u001b[38;5;124m'\u001b[39m\n\u001b[0;32m      2\u001b[0m groupeddata \u001b[38;5;241m=\u001b[39m selectedposts\u001b[38;5;241m.\u001b[39mgroupby(GROUPER)\n\u001b[1;32m----> 3\u001b[0m \u001b[43mgroupeddata\u001b[49m\u001b[43m[\u001b[49m\u001b[38;5;124;43m'\u001b[39;49m\u001b[38;5;124;43mpreceding_index\u001b[39;49m\u001b[38;5;124;43m'\u001b[39;49m\u001b[43m]\u001b[49m \u001b[38;5;241m=\u001b[39m groupeddata\u001b[38;5;241m.\u001b[39mbody\u001b[38;5;241m.\u001b[39mshift(\u001b[38;5;241m1\u001b[39m)\u001b[38;5;241m.\u001b[39mindex\n",
      "\u001b[1;31mTypeError\u001b[0m: 'DataFrameGroupBy' object does not support item assignment"
     ]
    }
   ],
   "source": [
    "GROUPER='thread_title'\n",
    "groupeddata = selectedposts.groupby(GROUPER)\n",
    "groupeddata['preceding_index'] = groupeddata.body.shift(1).index\n"
   ]
  },
  {
   "cell_type": "code",
   "execution_count": 53,
   "metadata": {},
   "outputs": [
    {
     "name": "stderr",
     "output_type": "stream",
     "text": [
      "100%|██████████| 1/1 [00:00<00:00, 942.12it/s]"
     ]
    },
    {
     "name": "stdout",
     "output_type": "stream",
     "text": [
      "1176\n",
      "1175\n",
      "1177\n",
      "1176\n",
      "1178\n",
      "1177\n",
      "1179\n",
      "1178\n"
     ]
    },
    {
     "name": "stderr",
     "output_type": "stream",
     "text": [
      "\n"
     ]
    }
   ],
   "source": [
    "chunked_result: typing.List[pd.DataFrame] = []\n",
    "GROUPER='thread_title'\n",
    "groupeddata = selectedposts[:5].groupby(GROUPER)\n",
    "for group, df in tqdm.tqdm(groupeddata):\n",
    "    df['preceding_index'] = df.index.to_series().shift(1)\n",
    "    for index, row in df.iterrows():\n",
    "        if pd.notna(row['preceding_index']):\n",
    "            threadset = int(row['preceding_index'])\n",
    "            print(index)\n",
    "            print(threadset)"
   ]
  },
  {
   "cell_type": "code",
   "execution_count": 54,
   "metadata": {},
   "outputs": [
    {
     "name": "stderr",
     "output_type": "stream",
     "text": [
      "100%|██████████| 1/1 [00:07<00:00,  7.93s/it]\n"
     ]
    }
   ],
   "source": [
    "#test low temperature claims per comment:\n",
    "chunked_result: typing.List[pd.DataFrame] = []\n",
    "GROUPER='thread_title'\n",
    "groupeddata = selectedposts[:5].groupby(GROUPER)\n",
    "for group, df in tqdm.tqdm(groupeddata):\n",
    "    df['preceding_index'] = df.index.to_series().shift(1)\n",
    "    for index, row in df.iterrows():\n",
    "        if pd.notna(row['preceding_index']):\n",
    "            threadset = int(row['preceding_index'])\n",
    "            try: \n",
    "                chunked_result.append(\n",
    "                    pd.DataFrame(\n",
    "                        data=[\n",
    "                            requests.post(\n",
    "                                'https://inf.cl.uni-trier.de/',\n",
    "                                json={\n",
    "                                    'model': MODEL,\n",
    "                                    'system': SYSTEM_expansion,\n",
    "                                    'prompt': f'\"Thread\":\\n<{df[\"body\"][:threadset].to_list()}>, \"Target reply\":<<{df[\"body\"][threadset:index].to_list()}>>',\n",
    "                                    'options': options_low\n",
    "                                    }).json()['response']                       \n",
    "                        ],\n",
    "                        columns=['post_expansion']\n",
    "                    )\n",
    "                )\n",
    "            except json.JSONDecodeError:\n",
    "                print(\"invalid json response, skipping to next batch\")\n",
    "    "
   ]
  },
  {
   "cell_type": "code",
   "execution_count": 55,
   "metadata": {},
   "outputs": [
    {
     "data": {
      "text/plain": [
       "[                                      post_expansion\n",
       " 0  \"Looks like we have a new contender for the ul...,\n",
       "                                       post_expansion\n",
       " 0  \"Looks like we have a new contender for the ul...,\n",
       "                                       post_expansion\n",
       " 0  \"Looks like we have a new contender for the ul...,\n",
       "                                       post_expansion\n",
       " 0  \"Looks like we have a new contender for the ul...]"
      ]
     },
     "execution_count": 55,
     "metadata": {},
     "output_type": "execute_result"
    }
   ],
   "source": [
    "chunked_result"
   ]
  },
  {
   "cell_type": "code",
   "execution_count": 56,
   "metadata": {},
   "outputs": [
    {
     "name": "stdout",
     "output_type": "stream",
     "text": [
      "                                      post_expansion\n",
      "0  \"Looks like we have a new contender for the ul...\n",
      "1  \"Looks like we have a new contender for the ul...\n",
      "2  \"Looks like we have a new contender for the ul...\n",
      "3  \"Looks like we have a new contender for the ul...\n"
     ]
    }
   ],
   "source": [
    "expanded_posts = pd.concat(chunked_result, ignore_index=True)\n",
    "print(expanded_posts)"
   ]
  },
  {
   "cell_type": "code",
   "execution_count": 59,
   "metadata": {},
   "outputs": [
    {
     "data": {
      "text/plain": [
       "['\"Looks like we have a new contender for the ultimate ROM combination! PAC (Paranoid/AOKP/CM) is indeed a game-changer, offering unparalleled customization and stability on Jellybean. If you\\'re looking to take your S3 experience to the next level, give it a try!\"',\n",
       " '\"Looks like we have a new contender for the ultimate ROM combination! With AOKP\\'s customization and CM10\\'s stability, it\\'s no wonder people are raving about this genius mashup. And with Jellybean support to boot, it\\'s a game-changer for S3 users (and others too!) who want the best of both worlds.\"',\n",
       " '\"Looks like we have a new contender for the ultimate ROM combination! With AOKP\\'s customization and CM10\\'s stability, it\\'s no wonder people are raving about this genius mashup. And with Jellybean support to boot, it\\'s a game-changer for S3 users (and others too!) who want the best of both worlds.\"',\n",
       " '\"Looks like we have a new contender for the ultimate ROM combination! With AOKP\\'s customization and CM10\\'s stability, it\\'s no wonder people are raving about this genius mashup. And with Jellybean support to boot, it\\'s a game-changer for S3 users (and others too!) who want the best of both worlds.\"']"
      ]
     },
     "execution_count": 59,
     "metadata": {},
     "output_type": "execute_result"
    }
   ],
   "source": [
    "expanded_posts.post_expansion.to_list()"
   ]
  },
  {
   "cell_type": "code",
   "execution_count": null,
   "metadata": {},
   "outputs": [],
   "source": []
  }
 ],
 "metadata": {
  "kernelspec": {
   "display_name": "llmdiv",
   "language": "python",
   "name": "python3"
  },
  "language_info": {
   "codemirror_mode": {
    "name": "ipython",
    "version": 3
   },
   "file_extension": ".py",
   "mimetype": "text/x-python",
   "name": "python",
   "nbconvert_exporter": "python",
   "pygments_lexer": "ipython3",
   "version": "3.12.7"
  }
 },
 "nbformat": 4,
 "nbformat_minor": 2
}
