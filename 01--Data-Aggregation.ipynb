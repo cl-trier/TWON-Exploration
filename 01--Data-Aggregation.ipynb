{
 "cells": [
  {
   "cell_type": "code",
   "id": "initial_id",
   "metadata": {
    "collapsed": true,
    "ExecuteTime": {
     "end_time": "2024-05-13T10:26:53.290312Z",
     "start_time": "2024-05-13T10:26:53.287631Z"
    }
   },
   "source": [
    "import pandas as pd\n",
    "\n",
    "import config"
   ],
   "outputs": [],
   "execution_count": 48
  },
  {
   "metadata": {
    "ExecuteTime": {
     "end_time": "2024-05-13T10:26:53.762099Z",
     "start_time": "2024-05-13T10:26:53.757906Z"
    }
   },
   "cell_type": "code",
   "source": "CFG = config.Config()",
   "id": "b6f447fc359a73b3",
   "outputs": [],
   "execution_count": 49
  },
  {
   "metadata": {
    "ExecuteTime": {
     "end_time": "2024-05-13T10:26:54.290902Z",
     "start_time": "2024-05-13T10:26:54.260640Z"
    }
   },
   "cell_type": "code",
   "source": [
    "posts: pd.DataFrame = pd.read_parquet(CFG.processed_files[\"posts\"])\n",
    "comments: pd.DataFrame = pd.read_parquet(CFG.processed_files[\"comments\"])\n",
    "likes: pd.DataFrame = pd.read_parquet(CFG.processed_files[\"likes\"])\n",
    "dislikes: pd.DataFrame = pd.read_parquet(CFG.processed_files[\"dislikes\"])"
   ],
   "id": "4e012cf838edb0fb",
   "outputs": [],
   "execution_count": 50
  },
  {
   "metadata": {
    "ExecuteTime": {
     "end_time": "2024-05-13T10:26:55.909698Z",
     "start_time": "2024-05-13T10:26:55.884482Z"
    }
   },
   "cell_type": "code",
   "source": [
    "user_content: pd.DataFrame = pd.concat([\n",
    "    comments.assign(type=\"comment\").reset_index(\"postId\"),\n",
    "    posts.assign(type=\"post\").reset_index(\"userId\")\n",
    "])\n",
    "posts.to_parquet(CFG.data_dir / \"final\" / \"user_content.parquet\")\n",
    "user_content.head()"
   ],
   "id": "32c1cd4b4dcf17f1",
   "outputs": [
    {
     "data": {
      "text/plain": [
       "                                            postId  \\\n",
       "id                                                   \n",
       "66261d9883ad1b524033b95f  66226af08c2024fabb3cc44c   \n",
       "66261fac83ad1b524033b9b7  662296c6616a4cb7061eaae7   \n",
       "66261cda83ad1b524033b93b  6622a4d5616a4cb7061ead43   \n",
       "66261f0c83ad1b524033b993  6622a983616a4cb7061eae17   \n",
       "6626211283ad1b524033b9f2  6622bc44616a4cb7061eb0f2   \n",
       "\n",
       "                                                                    content  \\\n",
       "id                                                                            \n",
       "66261d9883ad1b524033b95f  Gut gesagt! Vergesst nicht, dass auch wirtscha...   \n",
       "66261fac83ad1b524033b9b7  Richtig gesagt, @Gelber Roboter! Eine ausgewog...   \n",
       "66261cda83ad1b524033b93b  @Gelber Roboter, @Blaues Siegel, @Weißer Hase,...   \n",
       "66261f0c83ad1b524033b993  Couldn't agree more! Global connections and co...   \n",
       "6626211283ad1b524033b9f2  „Ganz meiner Meinung, @Lila Walross und @Blaue...   \n",
       "\n",
       "                                            userId                createdAt  \\\n",
       "id                                                                            \n",
       "66261d9883ad1b524033b95f  661d163cb8beabb58229451c  2024-04-22 08:19:36.535   \n",
       "66261fac83ad1b524033b9b7  661d1646b8beabb582294522  2024-04-22 08:28:28.538   \n",
       "66261cda83ad1b524033b93b  66256b0f7adfe044bf82ae9b  2024-04-22 08:16:26.028   \n",
       "66261f0c83ad1b524033b993  66256b0f7adfe044bf82ae9b  2024-04-22 08:25:48.181   \n",
       "6626211283ad1b524033b9f2  66256a827adfe044bf82ae97  2024-04-22 08:34:26.209   \n",
       "\n",
       "                             type  \n",
       "id                                 \n",
       "66261d9883ad1b524033b95f  comment  \n",
       "66261fac83ad1b524033b9b7  comment  \n",
       "66261cda83ad1b524033b93b  comment  \n",
       "66261f0c83ad1b524033b993  comment  \n",
       "6626211283ad1b524033b9f2  comment  "
      ],
      "text/html": [
       "<div>\n",
       "<style scoped>\n",
       "    .dataframe tbody tr th:only-of-type {\n",
       "        vertical-align: middle;\n",
       "    }\n",
       "\n",
       "    .dataframe tbody tr th {\n",
       "        vertical-align: top;\n",
       "    }\n",
       "\n",
       "    .dataframe thead th {\n",
       "        text-align: right;\n",
       "    }\n",
       "</style>\n",
       "<table border=\"1\" class=\"dataframe\">\n",
       "  <thead>\n",
       "    <tr style=\"text-align: right;\">\n",
       "      <th></th>\n",
       "      <th>postId</th>\n",
       "      <th>content</th>\n",
       "      <th>userId</th>\n",
       "      <th>createdAt</th>\n",
       "      <th>type</th>\n",
       "    </tr>\n",
       "    <tr>\n",
       "      <th>id</th>\n",
       "      <th></th>\n",
       "      <th></th>\n",
       "      <th></th>\n",
       "      <th></th>\n",
       "      <th></th>\n",
       "    </tr>\n",
       "  </thead>\n",
       "  <tbody>\n",
       "    <tr>\n",
       "      <th>66261d9883ad1b524033b95f</th>\n",
       "      <td>66226af08c2024fabb3cc44c</td>\n",
       "      <td>Gut gesagt! Vergesst nicht, dass auch wirtscha...</td>\n",
       "      <td>661d163cb8beabb58229451c</td>\n",
       "      <td>2024-04-22 08:19:36.535</td>\n",
       "      <td>comment</td>\n",
       "    </tr>\n",
       "    <tr>\n",
       "      <th>66261fac83ad1b524033b9b7</th>\n",
       "      <td>662296c6616a4cb7061eaae7</td>\n",
       "      <td>Richtig gesagt, @Gelber Roboter! Eine ausgewog...</td>\n",
       "      <td>661d1646b8beabb582294522</td>\n",
       "      <td>2024-04-22 08:28:28.538</td>\n",
       "      <td>comment</td>\n",
       "    </tr>\n",
       "    <tr>\n",
       "      <th>66261cda83ad1b524033b93b</th>\n",
       "      <td>6622a4d5616a4cb7061ead43</td>\n",
       "      <td>@Gelber Roboter, @Blaues Siegel, @Weißer Hase,...</td>\n",
       "      <td>66256b0f7adfe044bf82ae9b</td>\n",
       "      <td>2024-04-22 08:16:26.028</td>\n",
       "      <td>comment</td>\n",
       "    </tr>\n",
       "    <tr>\n",
       "      <th>66261f0c83ad1b524033b993</th>\n",
       "      <td>6622a983616a4cb7061eae17</td>\n",
       "      <td>Couldn't agree more! Global connections and co...</td>\n",
       "      <td>66256b0f7adfe044bf82ae9b</td>\n",
       "      <td>2024-04-22 08:25:48.181</td>\n",
       "      <td>comment</td>\n",
       "    </tr>\n",
       "    <tr>\n",
       "      <th>6626211283ad1b524033b9f2</th>\n",
       "      <td>6622bc44616a4cb7061eb0f2</td>\n",
       "      <td>„Ganz meiner Meinung, @Lila Walross und @Blaue...</td>\n",
       "      <td>66256a827adfe044bf82ae97</td>\n",
       "      <td>2024-04-22 08:34:26.209</td>\n",
       "      <td>comment</td>\n",
       "    </tr>\n",
       "  </tbody>\n",
       "</table>\n",
       "</div>"
      ]
     },
     "execution_count": 51,
     "metadata": {},
     "output_type": "execute_result"
    }
   ],
   "execution_count": 51
  },
  {
   "metadata": {
    "ExecuteTime": {
     "end_time": "2024-05-13T10:30:02.330589Z",
     "start_time": "2024-05-13T10:30:02.288143Z"
    }
   },
   "cell_type": "code",
   "source": [
    "user_interactions: pd.DataFrame = (\n",
    "    pd.concat([\n",
    "        posts.reset_index()[[\"userId\", \"createdAt\", \"id\"]].assign(action=\"post\"),\n",
    "        comments.reset_index()[[\"userId\", \"createdAt\", \"id\"]].assign(action=\"comment\"),\n",
    "        likes.reset_index()[[\"userId\", \"createdAt\", \"id\"]].assign(action=\"like\"),\n",
    "        dislikes.reset_index()[[\"userId\", \"createdAt\", \"id\"]].assign(action=\"dislike\"),\n",
    "    ])\n",
    "    .pipe(lambda _df: _df.assign(\n",
    "        action=_df[\"action\"].astype(\"category\"),\n",
    "        createdAt=pd.to_datetime(_df[\"createdAt\"]),\n",
    "    ))\n",
    "    .set_index([\"userId\", \"createdAt\"])\n",
    "    .rename(columns={\"id\": \"refId\"})\n",
    ")\n",
    "user_interactions.to_parquet(CFG.data_dir / \"final\" / \"user_interactions.parquet\")\n",
    "user_interactions.head()"
   ],
   "id": "1e511a13a490c02d",
   "outputs": [
    {
     "data": {
      "text/plain": [
       "                                                                     refId  \\\n",
       "userId                   createdAt                                           \n",
       "661d1639b8beabb58229451b 2024-04-21 14:27:33.315  66252255616a4cb7061ee32c   \n",
       "                         2024-04-21 16:27:32.919  66253e74616a4cb7061ee7cc   \n",
       "                         2024-04-21 17:47:32.762  66255134616a4cb7061eeaf4   \n",
       "                         2024-04-23 15:51:11.067  6627d8efa6b56b19b4300ae4   \n",
       "                         2024-04-24 07:11:11.797  6628b08fa6b56b19b4301867   \n",
       "\n",
       "                                                 action  \n",
       "userId                   createdAt                       \n",
       "661d1639b8beabb58229451b 2024-04-21 14:27:33.315   post  \n",
       "                         2024-04-21 16:27:32.919   post  \n",
       "                         2024-04-21 17:47:32.762   post  \n",
       "                         2024-04-23 15:51:11.067   post  \n",
       "                         2024-04-24 07:11:11.797   post  "
      ],
      "text/html": [
       "<div>\n",
       "<style scoped>\n",
       "    .dataframe tbody tr th:only-of-type {\n",
       "        vertical-align: middle;\n",
       "    }\n",
       "\n",
       "    .dataframe tbody tr th {\n",
       "        vertical-align: top;\n",
       "    }\n",
       "\n",
       "    .dataframe thead th {\n",
       "        text-align: right;\n",
       "    }\n",
       "</style>\n",
       "<table border=\"1\" class=\"dataframe\">\n",
       "  <thead>\n",
       "    <tr style=\"text-align: right;\">\n",
       "      <th></th>\n",
       "      <th></th>\n",
       "      <th>refId</th>\n",
       "      <th>action</th>\n",
       "    </tr>\n",
       "    <tr>\n",
       "      <th>userId</th>\n",
       "      <th>createdAt</th>\n",
       "      <th></th>\n",
       "      <th></th>\n",
       "    </tr>\n",
       "  </thead>\n",
       "  <tbody>\n",
       "    <tr>\n",
       "      <th rowspan=\"5\" valign=\"top\">661d1639b8beabb58229451b</th>\n",
       "      <th>2024-04-21 14:27:33.315</th>\n",
       "      <td>66252255616a4cb7061ee32c</td>\n",
       "      <td>post</td>\n",
       "    </tr>\n",
       "    <tr>\n",
       "      <th>2024-04-21 16:27:32.919</th>\n",
       "      <td>66253e74616a4cb7061ee7cc</td>\n",
       "      <td>post</td>\n",
       "    </tr>\n",
       "    <tr>\n",
       "      <th>2024-04-21 17:47:32.762</th>\n",
       "      <td>66255134616a4cb7061eeaf4</td>\n",
       "      <td>post</td>\n",
       "    </tr>\n",
       "    <tr>\n",
       "      <th>2024-04-23 15:51:11.067</th>\n",
       "      <td>6627d8efa6b56b19b4300ae4</td>\n",
       "      <td>post</td>\n",
       "    </tr>\n",
       "    <tr>\n",
       "      <th>2024-04-24 07:11:11.797</th>\n",
       "      <td>6628b08fa6b56b19b4301867</td>\n",
       "      <td>post</td>\n",
       "    </tr>\n",
       "  </tbody>\n",
       "</table>\n",
       "</div>"
      ]
     },
     "execution_count": 57,
     "metadata": {},
     "output_type": "execute_result"
    }
   ],
   "execution_count": 57
  }
 ],
 "metadata": {
  "kernelspec": {
   "display_name": "Python 3",
   "language": "python",
   "name": "python3"
  },
  "language_info": {
   "codemirror_mode": {
    "name": "ipython",
    "version": 2
   },
   "file_extension": ".py",
   "mimetype": "text/x-python",
   "name": "python",
   "nbconvert_exporter": "python",
   "pygments_lexer": "ipython2",
   "version": "2.7.6"
  }
 },
 "nbformat": 4,
 "nbformat_minor": 5
}
