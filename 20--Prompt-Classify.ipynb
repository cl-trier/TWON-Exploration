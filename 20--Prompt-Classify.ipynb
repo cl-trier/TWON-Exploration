{
 "cells": [
  {
   "cell_type": "code",
   "id": "initial_id",
   "metadata": {
    "ExecuteTime": {
     "end_time": "2024-05-15T14:55:04.880562Z",
     "start_time": "2024-05-15T14:55:04.876394Z"
    }
   },
   "source": [
    "import typing\n",
    "\n",
    "import pandas as pd\n",
    "\n",
    "import config\n",
    "import src"
   ],
   "execution_count": 66,
   "outputs": []
  },
  {
   "metadata": {
    "ExecuteTime": {
     "end_time": "2024-05-15T14:55:04.892387Z",
     "start_time": "2024-05-15T14:55:04.882915Z"
    }
   },
   "cell_type": "code",
   "source": "CFG = config.Config()",
   "id": "3d025f8b6b833773",
   "execution_count": 67,
   "outputs": []
  },
  {
   "metadata": {
    "ExecuteTime": {
     "end_time": "2024-05-15T14:55:04.913299Z",
     "start_time": "2024-05-15T14:55:04.894258Z"
    }
   },
   "cell_type": "code",
   "source": [
    "dataset: pd.DataFrame = pd.read_parquet(CFG.final_data_files[\"user_content\"])\n",
    "dataset"
   ],
   "id": "8ad2aee526efc24d",
   "execution_count": 68,
   "outputs": []
  },
  {
   "metadata": {
    "ExecuteTime": {
     "end_time": "2024-05-15T14:55:04.922562Z",
     "start_time": "2024-05-15T14:55:04.915014Z"
    }
   },
   "cell_type": "code",
   "source": [
    "MODEL: str = \"llama3:70b-instruct-q6_K\"\n",
    "CFG.prompt_files.keys()"
   ],
   "id": "cb09a206-f628-4a67-af7a-9cc28cac10c1",
   "execution_count": 69,
   "outputs": []
  },
  {
   "cell_type": "code",
   "id": "c8625db6-d38d-43fa-b8ce-49acc83267da",
   "metadata": {
    "ExecuteTime": {
     "end_time": "2024-05-15T15:32:18.930415Z",
     "start_time": "2024-05-15T14:55:04.923771Z"
    }
   },
   "source": [
    "predictions: typing.Dict[str, pd.Series] = {\n",
    "    label: (\n",
    "        src.PromptClassify\n",
    "        .from_json(path)\n",
    "        (dataset[\"content\"], MODEL)\n",
    "    )\n",
    "    for label, path in CFG.prompt_files.items()\n",
    "}"
   ],
   "execution_count": 70,
   "outputs": []
  },
  {
   "metadata": {
    "ExecuteTime": {
     "end_time": "2024-05-15T15:32:29.087478Z",
     "start_time": "2024-05-15T15:32:29.076700Z"
    }
   },
   "cell_type": "code",
   "source": [
    "dataset_w_pred = dataset.copy()\n",
    "\n",
    "for _, preds in predictions.items():\n",
    "    print(preds.value_counts())\n",
    "    print(\"-\" * 42)\n",
    "    dataset_w_pred = dataset_w_pred.join(preds)\n",
    "    "
   ],
   "id": "0b787956-4e7b-4a22-9749-cf5a1ddb8266",
   "execution_count": 73,
   "outputs": []
  },
  {
   "cell_type": "code",
   "id": "9bd05ded-b29d-4ed5-bf04-dceb14ce0e39",
   "metadata": {
    "ExecuteTime": {
     "end_time": "2024-05-15T15:32:18.965519Z",
     "start_time": "2024-05-15T15:32:18.942627Z"
    }
   },
   "source": [
    "dataset_w_pred.to_json(f'{CFG.report_dir}/dataset.predicted.json', orient=\"records\", force_ascii=False, indent=4)\n",
    "dataset_w_pred"
   ],
   "execution_count": 72,
   "outputs": []
  }
 ],
 "metadata": {
  "kernelspec": {
   "display_name": "Python 3 (ipykernel)",
   "language": "python",
   "name": "python3"
  },
  "language_info": {
   "codemirror_mode": {
    "name": "ipython",
    "version": 3
   },
   "file_extension": ".py",
   "mimetype": "text/x-python",
   "name": "python",
   "nbconvert_exporter": "python",
   "pygments_lexer": "ipython3",
   "version": "3.11.8"
  }
 },
 "nbformat": 4,
 "nbformat_minor": 5
}
