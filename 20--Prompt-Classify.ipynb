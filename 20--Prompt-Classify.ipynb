{
 "cells": [
  {
   "cell_type": "code",
   "execution_count": 6,
   "id": "initial_id",
   "metadata": {
    "ExecuteTime": {
     "end_time": "2024-05-15T14:55:04.880562Z",
     "start_time": "2024-05-15T14:55:04.876394Z"
    }
   },
   "outputs": [],
   "source": [
    "import typing\n",
    "\n",
    "import pandas as pd\n",
    "\n",
    "import config\n",
    "import src"
   ]
  },
  {
   "cell_type": "code",
   "execution_count": 7,
   "id": "3d025f8b6b833773",
   "metadata": {
    "ExecuteTime": {
     "end_time": "2024-05-15T14:55:04.892387Z",
     "start_time": "2024-05-15T14:55:04.882915Z"
    }
   },
   "outputs": [],
   "source": [
    "CFG = config.Config()"
   ]
  },
  {
   "cell_type": "code",
   "execution_count": 8,
   "id": "8ad2aee526efc24d",
   "metadata": {
    "ExecuteTime": {
     "end_time": "2024-05-15T14:55:04.913299Z",
     "start_time": "2024-05-15T14:55:04.894258Z"
    }
   },
   "outputs": [
    {
     "data": {
      "text/html": [
       "<div>\n",
       "<style scoped>\n",
       "    .dataframe tbody tr th:only-of-type {\n",
       "        vertical-align: middle;\n",
       "    }\n",
       "\n",
       "    .dataframe tbody tr th {\n",
       "        vertical-align: top;\n",
       "    }\n",
       "\n",
       "    .dataframe thead th {\n",
       "        text-align: right;\n",
       "    }\n",
       "</style>\n",
       "<table border=\"1\" class=\"dataframe\">\n",
       "  <thead>\n",
       "    <tr style=\"text-align: right;\">\n",
       "      <th></th>\n",
       "      <th>postId</th>\n",
       "      <th>content</th>\n",
       "      <th>userId</th>\n",
       "      <th>createdAt</th>\n",
       "      <th>type</th>\n",
       "      <th>userType</th>\n",
       "    </tr>\n",
       "    <tr>\n",
       "      <th>id</th>\n",
       "      <th></th>\n",
       "      <th></th>\n",
       "      <th></th>\n",
       "      <th></th>\n",
       "      <th></th>\n",
       "      <th></th>\n",
       "    </tr>\n",
       "  </thead>\n",
       "  <tbody>\n",
       "    <tr>\n",
       "      <th>66261d9883ad1b524033b95f</th>\n",
       "      <td>66226af08c2024fabb3cc44c</td>\n",
       "      <td>Gut gesagt! Vergesst nicht, dass auch wirtscha...</td>\n",
       "      <td>661d163cb8beabb58229451c</td>\n",
       "      <td>2024-04-22 08:19:36.535</td>\n",
       "      <td>comment</td>\n",
       "      <td>bot</td>\n",
       "    </tr>\n",
       "    <tr>\n",
       "      <th>66261fac83ad1b524033b9b7</th>\n",
       "      <td>662296c6616a4cb7061eaae7</td>\n",
       "      <td>Richtig gesagt, @Gelber Roboter! Eine ausgewog...</td>\n",
       "      <td>661d1646b8beabb582294522</td>\n",
       "      <td>2024-04-22 08:28:28.538</td>\n",
       "      <td>comment</td>\n",
       "      <td>bot</td>\n",
       "    </tr>\n",
       "    <tr>\n",
       "      <th>66261cda83ad1b524033b93b</th>\n",
       "      <td>6622a4d5616a4cb7061ead43</td>\n",
       "      <td>@Gelber Roboter, @Blaues Siegel, @Weißer Hase,...</td>\n",
       "      <td>66256b0f7adfe044bf82ae9b</td>\n",
       "      <td>2024-04-22 08:16:26.028</td>\n",
       "      <td>comment</td>\n",
       "      <td>bot</td>\n",
       "    </tr>\n",
       "    <tr>\n",
       "      <th>66261f0c83ad1b524033b993</th>\n",
       "      <td>6622a983616a4cb7061eae17</td>\n",
       "      <td>Couldn't agree more! Global connections and co...</td>\n",
       "      <td>66256b0f7adfe044bf82ae9b</td>\n",
       "      <td>2024-04-22 08:25:48.181</td>\n",
       "      <td>comment</td>\n",
       "      <td>bot</td>\n",
       "    </tr>\n",
       "    <tr>\n",
       "      <th>6626211283ad1b524033b9f2</th>\n",
       "      <td>6622bc44616a4cb7061eb0f2</td>\n",
       "      <td>„Ganz meiner Meinung, @Lila Walross und @Blaue...</td>\n",
       "      <td>66256a827adfe044bf82ae97</td>\n",
       "      <td>2024-04-22 08:34:26.209</td>\n",
       "      <td>comment</td>\n",
       "      <td>bot</td>\n",
       "    </tr>\n",
       "    <tr>\n",
       "      <th>...</th>\n",
       "      <td>...</td>\n",
       "      <td>...</td>\n",
       "      <td>...</td>\n",
       "      <td>...</td>\n",
       "      <td>...</td>\n",
       "      <td>...</td>\n",
       "    </tr>\n",
       "    <tr>\n",
       "      <th>662a070537d6395f42ca7bfd</th>\n",
       "      <td>None</td>\n",
       "      <td>Kleiner vermieter Junge noch nicht gefunden</td>\n",
       "      <td>662a070537d6395f42ca7bf9</td>\n",
       "      <td>2024-04-25 07:32:21.584</td>\n",
       "      <td>post</td>\n",
       "      <td>human</td>\n",
       "    </tr>\n",
       "    <tr>\n",
       "      <th>662a12fa37d6395f42ca87fe</th>\n",
       "      <td>None</td>\n",
       "      <td>Lok Leipzig holt Jochen Seitz als Trainer</td>\n",
       "      <td>662a12fa37d6395f42ca87fa</td>\n",
       "      <td>2024-04-25 08:23:22.984</td>\n",
       "      <td>post</td>\n",
       "      <td>human</td>\n",
       "    </tr>\n",
       "    <tr>\n",
       "      <th>662a30f137d6395f42ca99c6</th>\n",
       "      <td>None</td>\n",
       "      <td>Russland droht der USA</td>\n",
       "      <td>662a30f137d6395f42ca99c2</td>\n",
       "      <td>2024-04-25 10:31:13.258</td>\n",
       "      <td>post</td>\n",
       "      <td>human</td>\n",
       "    </tr>\n",
       "    <tr>\n",
       "      <th>662e892b3ae8346ce92c8e85</th>\n",
       "      <td>None</td>\n",
       "      <td>Arian wird vermisst</td>\n",
       "      <td>662e892b3ae8346ce92c8e81</td>\n",
       "      <td>2024-04-28 17:36:43.427</td>\n",
       "      <td>post</td>\n",
       "      <td>human</td>\n",
       "    </tr>\n",
       "    <tr>\n",
       "      <th>662f64083ae8346ce92c9d25</th>\n",
       "      <td>None</td>\n",
       "      <td>Zinsen</td>\n",
       "      <td>662f64073ae8346ce92c9d21</td>\n",
       "      <td>2024-04-29 09:10:32.138</td>\n",
       "      <td>post</td>\n",
       "      <td>human</td>\n",
       "    </tr>\n",
       "  </tbody>\n",
       "</table>\n",
       "<p>1953 rows × 6 columns</p>\n",
       "</div>"
      ],
      "text/plain": [
       "                                            postId  \\\n",
       "id                                                   \n",
       "66261d9883ad1b524033b95f  66226af08c2024fabb3cc44c   \n",
       "66261fac83ad1b524033b9b7  662296c6616a4cb7061eaae7   \n",
       "66261cda83ad1b524033b93b  6622a4d5616a4cb7061ead43   \n",
       "66261f0c83ad1b524033b993  6622a983616a4cb7061eae17   \n",
       "6626211283ad1b524033b9f2  6622bc44616a4cb7061eb0f2   \n",
       "...                                            ...   \n",
       "662a070537d6395f42ca7bfd                      None   \n",
       "662a12fa37d6395f42ca87fe                      None   \n",
       "662a30f137d6395f42ca99c6                      None   \n",
       "662e892b3ae8346ce92c8e85                      None   \n",
       "662f64083ae8346ce92c9d25                      None   \n",
       "\n",
       "                                                                    content  \\\n",
       "id                                                                            \n",
       "66261d9883ad1b524033b95f  Gut gesagt! Vergesst nicht, dass auch wirtscha...   \n",
       "66261fac83ad1b524033b9b7  Richtig gesagt, @Gelber Roboter! Eine ausgewog...   \n",
       "66261cda83ad1b524033b93b  @Gelber Roboter, @Blaues Siegel, @Weißer Hase,...   \n",
       "66261f0c83ad1b524033b993  Couldn't agree more! Global connections and co...   \n",
       "6626211283ad1b524033b9f2  „Ganz meiner Meinung, @Lila Walross und @Blaue...   \n",
       "...                                                                     ...   \n",
       "662a070537d6395f42ca7bfd       Kleiner vermieter Junge noch nicht gefunden    \n",
       "662a12fa37d6395f42ca87fe         Lok Leipzig holt Jochen Seitz als Trainer    \n",
       "662a30f137d6395f42ca99c6                             Russland droht der USA   \n",
       "662e892b3ae8346ce92c8e85                               Arian wird vermisst    \n",
       "662f64083ae8346ce92c9d25                                            Zinsen    \n",
       "\n",
       "                                            userId                createdAt  \\\n",
       "id                                                                            \n",
       "66261d9883ad1b524033b95f  661d163cb8beabb58229451c  2024-04-22 08:19:36.535   \n",
       "66261fac83ad1b524033b9b7  661d1646b8beabb582294522  2024-04-22 08:28:28.538   \n",
       "66261cda83ad1b524033b93b  66256b0f7adfe044bf82ae9b  2024-04-22 08:16:26.028   \n",
       "66261f0c83ad1b524033b993  66256b0f7adfe044bf82ae9b  2024-04-22 08:25:48.181   \n",
       "6626211283ad1b524033b9f2  66256a827adfe044bf82ae97  2024-04-22 08:34:26.209   \n",
       "...                                            ...                      ...   \n",
       "662a070537d6395f42ca7bfd  662a070537d6395f42ca7bf9  2024-04-25 07:32:21.584   \n",
       "662a12fa37d6395f42ca87fe  662a12fa37d6395f42ca87fa  2024-04-25 08:23:22.984   \n",
       "662a30f137d6395f42ca99c6  662a30f137d6395f42ca99c2  2024-04-25 10:31:13.258   \n",
       "662e892b3ae8346ce92c8e85  662e892b3ae8346ce92c8e81  2024-04-28 17:36:43.427   \n",
       "662f64083ae8346ce92c9d25  662f64073ae8346ce92c9d21  2024-04-29 09:10:32.138   \n",
       "\n",
       "                             type userType  \n",
       "id                                          \n",
       "66261d9883ad1b524033b95f  comment      bot  \n",
       "66261fac83ad1b524033b9b7  comment      bot  \n",
       "66261cda83ad1b524033b93b  comment      bot  \n",
       "66261f0c83ad1b524033b993  comment      bot  \n",
       "6626211283ad1b524033b9f2  comment      bot  \n",
       "...                           ...      ...  \n",
       "662a070537d6395f42ca7bfd     post    human  \n",
       "662a12fa37d6395f42ca87fe     post    human  \n",
       "662a30f137d6395f42ca99c6     post    human  \n",
       "662e892b3ae8346ce92c8e85     post    human  \n",
       "662f64083ae8346ce92c9d25     post    human  \n",
       "\n",
       "[1953 rows x 6 columns]"
      ]
     },
     "execution_count": 8,
     "metadata": {},
     "output_type": "execute_result"
    }
   ],
   "source": [
    "dataset: pd.DataFrame = pd.read_parquet(CFG.final_data_files[\"user_content\"])\n",
    "dataset"
   ]
  },
  {
   "cell_type": "code",
   "execution_count": 9,
   "id": "cb09a206-f628-4a67-af7a-9cc28cac10c1",
   "metadata": {
    "ExecuteTime": {
     "end_time": "2024-05-15T14:55:04.922562Z",
     "start_time": "2024-05-15T14:55:04.915014Z"
    }
   },
   "outputs": [
    {
     "data": {
      "text/plain": [
       "dict_keys(['interactivity_acknowledgement', 'political_ideology', 'rationality_external_evidence', 'rationality_topic_relevance', 'political_negativity', 'rationality_background_info', 'rationality_reasoning'])"
      ]
     },
     "execution_count": 9,
     "metadata": {},
     "output_type": "execute_result"
    }
   ],
   "source": [
    "MODEL: str = \"llama3:70b-instruct-q6_K\"\n",
    "CFG.prompt_classify_files.keys()"
   ]
  },
  {
   "cell_type": "code",
   "execution_count": 10,
   "id": "c8625db6-d38d-43fa-b8ce-49acc83267da",
   "metadata": {
    "ExecuteTime": {
     "end_time": "2024-05-15T15:32:18.930415Z",
     "start_time": "2024-05-15T14:55:04.923771Z"
    }
   },
   "outputs": [
    {
     "ename": "AttributeError",
     "evalue": "'Config' object has no attribute 'prompt_files'",
     "output_type": "error",
     "traceback": [
      "\u001b[0;31m---------------------------------------------------------------------------\u001b[0m",
      "\u001b[0;31mAttributeError\u001b[0m                            Traceback (most recent call last)",
      "Cell \u001b[0;32mIn[10], line 7\u001b[0m\n\u001b[1;32m      1\u001b[0m predictions: typing\u001b[38;5;241m.\u001b[39mDict[\u001b[38;5;28mstr\u001b[39m, pd\u001b[38;5;241m.\u001b[39mSeries] \u001b[38;5;241m=\u001b[39m {\n\u001b[1;32m      2\u001b[0m     label: (\n\u001b[1;32m      3\u001b[0m         src\u001b[38;5;241m.\u001b[39mPromptClassify\n\u001b[1;32m      4\u001b[0m         \u001b[38;5;241m.\u001b[39mfrom_json(path)\n\u001b[1;32m      5\u001b[0m         (dataset[\u001b[38;5;124m\"\u001b[39m\u001b[38;5;124mcontent\u001b[39m\u001b[38;5;124m\"\u001b[39m], MODEL)\n\u001b[1;32m      6\u001b[0m     )\n\u001b[0;32m----> 7\u001b[0m     \u001b[38;5;28;01mfor\u001b[39;00m label, path \u001b[38;5;129;01min\u001b[39;00m \u001b[43mCFG\u001b[49m\u001b[38;5;241;43m.\u001b[39;49m\u001b[43mprompt_files\u001b[49m\u001b[38;5;241m.\u001b[39mitems()\n\u001b[1;32m      8\u001b[0m }\n",
      "File \u001b[0;32m~/Library/Caches/pypoetry/virtualenvs/non-package-mode-EkkoOtlv-py3.12/lib/python3.12/site-packages/pydantic/main.py:811\u001b[0m, in \u001b[0;36mBaseModel.__getattr__\u001b[0;34m(self, item)\u001b[0m\n\u001b[1;32m    808\u001b[0m     \u001b[38;5;28;01mreturn\u001b[39;00m \u001b[38;5;28msuper\u001b[39m()\u001b[38;5;241m.\u001b[39m\u001b[38;5;21m__getattribute__\u001b[39m(item)  \u001b[38;5;66;03m# Raises AttributeError if appropriate\u001b[39;00m\n\u001b[1;32m    809\u001b[0m \u001b[38;5;28;01melse\u001b[39;00m:\n\u001b[1;32m    810\u001b[0m     \u001b[38;5;66;03m# this is the current error\u001b[39;00m\n\u001b[0;32m--> 811\u001b[0m     \u001b[38;5;28;01mraise\u001b[39;00m \u001b[38;5;167;01mAttributeError\u001b[39;00m(\u001b[38;5;124mf\u001b[39m\u001b[38;5;124m'\u001b[39m\u001b[38;5;132;01m{\u001b[39;00m\u001b[38;5;28mtype\u001b[39m(\u001b[38;5;28mself\u001b[39m)\u001b[38;5;241m.\u001b[39m\u001b[38;5;18m__name__\u001b[39m\u001b[38;5;132;01m!r}\u001b[39;00m\u001b[38;5;124m object has no attribute \u001b[39m\u001b[38;5;132;01m{\u001b[39;00mitem\u001b[38;5;132;01m!r}\u001b[39;00m\u001b[38;5;124m'\u001b[39m)\n",
      "\u001b[0;31mAttributeError\u001b[0m: 'Config' object has no attribute 'prompt_files'"
     ]
    }
   ],
   "source": [
    "predictions: typing.Dict[str, pd.Series] = {\n",
    "    label: (\n",
    "        src.PromptClassify\n",
    "        .from_json(path)\n",
    "        (dataset[\"content\"], MODEL)\n",
    "    )\n",
    "    for label, path in CFG.prompt_classify_files.items()\n",
    "}"
   ]
  },
  {
   "cell_type": "code",
   "execution_count": 73,
   "id": "0b787956-4e7b-4a22-9749-cf5a1ddb8266",
   "metadata": {
    "ExecuteTime": {
     "end_time": "2024-05-15T15:32:29.087478Z",
     "start_time": "2024-05-15T15:32:29.076700Z"
    }
   },
   "outputs": [],
   "source": [
    "dataset_w_pred = dataset.copy()\n",
    "\n",
    "for _, preds in predictions.items():\n",
    "    print(preds.value_counts())\n",
    "    print(\"-\" * 42)\n",
    "    dataset_w_pred = dataset_w_pred.join(preds)\n",
    "    "
   ]
  },
  {
   "cell_type": "code",
   "execution_count": 72,
   "id": "9bd05ded-b29d-4ed5-bf04-dceb14ce0e39",
   "metadata": {
    "ExecuteTime": {
     "end_time": "2024-05-15T15:32:18.965519Z",
     "start_time": "2024-05-15T15:32:18.942627Z"
    }
   },
   "outputs": [],
   "source": [
    "dataset_w_pred.to_json(f'{CFG.report_dir}/dataset.predicted.json', orient=\"records\", force_ascii=False, indent=4)\n",
    "dataset_w_pred"
   ]
  }
 ],
 "metadata": {
  "kernelspec": {
   "display_name": "Python 3 (ipykernel)",
   "language": "python",
   "name": "python3"
  },
  "language_info": {
   "codemirror_mode": {
    "name": "ipython",
    "version": 3
   },
   "file_extension": ".py",
   "mimetype": "text/x-python",
   "name": "python",
   "nbconvert_exporter": "python",
   "pygments_lexer": "ipython3",
   "version": "3.12.3"
  }
 },
 "nbformat": 4,
 "nbformat_minor": 5
}
