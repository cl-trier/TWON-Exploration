{
 "cells": [
  {
   "cell_type": "code",
   "id": "initial_id",
   "metadata": {
    "ExecuteTime": {
     "end_time": "2024-05-13T11:01:32.747548Z",
     "start_time": "2024-05-13T11:01:32.743212Z"
    }
   },
   "source": [
    "import typing\n",
    "import json\n",
    "\n",
    "import requests\n",
    "\n",
    "import tqdm\n",
    "import pandas as pd\n",
    "\n",
    "import config"
   ],
   "outputs": [],
   "execution_count": 46
  },
  {
   "metadata": {
    "ExecuteTime": {
     "end_time": "2024-05-13T11:01:33.069010Z",
     "start_time": "2024-05-13T11:01:33.064292Z"
    }
   },
   "cell_type": "code",
   "source": "CFG = config.Config()",
   "id": "3d025f8b6b833773",
   "outputs": [],
   "execution_count": 47
  },
  {
   "cell_type": "code",
   "id": "cb09a206-f628-4a67-af7a-9cc28cac10c1",
   "metadata": {
    "ExecuteTime": {
     "end_time": "2024-05-13T11:01:33.444809Z",
     "start_time": "2024-05-13T11:01:33.440320Z"
    }
   },
   "source": [
    "MODEL: str = \"mixtral:8x7b-instruct-v0.1-q6_K\"\n",
    "\n",
    "TASK_NAME: str = \"political_ideology\"\n",
    "TASK_TEMPLATE: str = \\\n",
    "\"\"\"\n",
    "Classify the following message as ideologically liberal (0), ideologically neutral (1), or ideologically conservative (2). Ideology here is defined in the context of the German political system. Messages with no ideological content are classified as neutral. \n",
    "\n",
    "Respond with only the predicted class (0 or 1 or 2) of the request.\n",
    "\n",
    "Text: {text}\n",
    "Class:\n",
    "\"\"\""
   ],
   "outputs": [],
   "execution_count": 48
  },
  {
   "metadata": {
    "ExecuteTime": {
     "end_time": "2024-05-13T11:01:34.158767Z",
     "start_time": "2024-05-13T11:01:34.139755Z"
    }
   },
   "cell_type": "code",
   "source": [
    "user_content: pd.DataFrame = pd.read_parquet(CFG.final_files[\"user_content\"])\n",
    "user_content"
   ],
   "id": "8ad2aee526efc24d",
   "outputs": [
    {
     "data": {
      "text/plain": [
       "                                                                                             content  \\\n",
       "userId                   id                                                                            \n",
       "661d1639b8beabb58229451b 66252255616a4cb7061ee32c  #UkraineKrieg: Beunruhigende Entwicklungen in ...   \n",
       "                         66253e74616a4cb7061ee7cc  Bedauerlich, dass gewaltsame Konflikte weiterh...   \n",
       "                         66255134616a4cb7061eeaf4  Gewalt im Nahen Osten & Ukraine nicht isoliert...   \n",
       "                         6627d8efa6b56b19b4300ae4  Unterstützen wir unsere Verbündeten, respektie...   \n",
       "                         6628b08fa6b56b19b4301867  Geschlossene Tür für Unsicherheit: US-Repräsen...   \n",
       "...                                                                                              ...   \n",
       "662a070537d6395f42ca7bf9 662a070537d6395f42ca7bfd       Kleiner vermieter Junge noch nicht gefunden    \n",
       "662a12fa37d6395f42ca87fa 662a12fa37d6395f42ca87fe         Lok Leipzig holt Jochen Seitz als Trainer    \n",
       "662a30f137d6395f42ca99c2 662a30f137d6395f42ca99c6                             Russland droht der USA   \n",
       "662e892b3ae8346ce92c8e81 662e892b3ae8346ce92c8e85                               Arian wird vermisst    \n",
       "662f64073ae8346ce92c9d21 662f64083ae8346ce92c9d25                                            Zinsen    \n",
       "\n",
       "                                                                 createdAt  \n",
       "userId                   id                                                 \n",
       "661d1639b8beabb58229451b 66252255616a4cb7061ee32c  2024-04-21 14:27:33.315  \n",
       "                         66253e74616a4cb7061ee7cc  2024-04-21 16:27:32.919  \n",
       "                         66255134616a4cb7061eeaf4  2024-04-21 17:47:32.762  \n",
       "                         6627d8efa6b56b19b4300ae4  2024-04-23 15:51:11.067  \n",
       "                         6628b08fa6b56b19b4301867  2024-04-24 07:11:11.797  \n",
       "...                                                                    ...  \n",
       "662a070537d6395f42ca7bf9 662a070537d6395f42ca7bfd  2024-04-25 07:32:21.584  \n",
       "662a12fa37d6395f42ca87fa 662a12fa37d6395f42ca87fe  2024-04-25 08:23:22.984  \n",
       "662a30f137d6395f42ca99c2 662a30f137d6395f42ca99c6  2024-04-25 10:31:13.258  \n",
       "662e892b3ae8346ce92c8e81 662e892b3ae8346ce92c8e85  2024-04-28 17:36:43.427  \n",
       "662f64073ae8346ce92c9d21 662f64083ae8346ce92c9d25  2024-04-29 09:10:32.138  \n",
       "\n",
       "[592 rows x 2 columns]"
      ],
      "text/html": [
       "<div>\n",
       "<style scoped>\n",
       "    .dataframe tbody tr th:only-of-type {\n",
       "        vertical-align: middle;\n",
       "    }\n",
       "\n",
       "    .dataframe tbody tr th {\n",
       "        vertical-align: top;\n",
       "    }\n",
       "\n",
       "    .dataframe thead th {\n",
       "        text-align: right;\n",
       "    }\n",
       "</style>\n",
       "<table border=\"1\" class=\"dataframe\">\n",
       "  <thead>\n",
       "    <tr style=\"text-align: right;\">\n",
       "      <th></th>\n",
       "      <th></th>\n",
       "      <th>content</th>\n",
       "      <th>createdAt</th>\n",
       "    </tr>\n",
       "    <tr>\n",
       "      <th>userId</th>\n",
       "      <th>id</th>\n",
       "      <th></th>\n",
       "      <th></th>\n",
       "    </tr>\n",
       "  </thead>\n",
       "  <tbody>\n",
       "    <tr>\n",
       "      <th rowspan=\"5\" valign=\"top\">661d1639b8beabb58229451b</th>\n",
       "      <th>66252255616a4cb7061ee32c</th>\n",
       "      <td>#UkraineKrieg: Beunruhigende Entwicklungen in ...</td>\n",
       "      <td>2024-04-21 14:27:33.315</td>\n",
       "    </tr>\n",
       "    <tr>\n",
       "      <th>66253e74616a4cb7061ee7cc</th>\n",
       "      <td>Bedauerlich, dass gewaltsame Konflikte weiterh...</td>\n",
       "      <td>2024-04-21 16:27:32.919</td>\n",
       "    </tr>\n",
       "    <tr>\n",
       "      <th>66255134616a4cb7061eeaf4</th>\n",
       "      <td>Gewalt im Nahen Osten &amp; Ukraine nicht isoliert...</td>\n",
       "      <td>2024-04-21 17:47:32.762</td>\n",
       "    </tr>\n",
       "    <tr>\n",
       "      <th>6627d8efa6b56b19b4300ae4</th>\n",
       "      <td>Unterstützen wir unsere Verbündeten, respektie...</td>\n",
       "      <td>2024-04-23 15:51:11.067</td>\n",
       "    </tr>\n",
       "    <tr>\n",
       "      <th>6628b08fa6b56b19b4301867</th>\n",
       "      <td>Geschlossene Tür für Unsicherheit: US-Repräsen...</td>\n",
       "      <td>2024-04-24 07:11:11.797</td>\n",
       "    </tr>\n",
       "    <tr>\n",
       "      <th>...</th>\n",
       "      <th>...</th>\n",
       "      <td>...</td>\n",
       "      <td>...</td>\n",
       "    </tr>\n",
       "    <tr>\n",
       "      <th>662a070537d6395f42ca7bf9</th>\n",
       "      <th>662a070537d6395f42ca7bfd</th>\n",
       "      <td>Kleiner vermieter Junge noch nicht gefunden</td>\n",
       "      <td>2024-04-25 07:32:21.584</td>\n",
       "    </tr>\n",
       "    <tr>\n",
       "      <th>662a12fa37d6395f42ca87fa</th>\n",
       "      <th>662a12fa37d6395f42ca87fe</th>\n",
       "      <td>Lok Leipzig holt Jochen Seitz als Trainer</td>\n",
       "      <td>2024-04-25 08:23:22.984</td>\n",
       "    </tr>\n",
       "    <tr>\n",
       "      <th>662a30f137d6395f42ca99c2</th>\n",
       "      <th>662a30f137d6395f42ca99c6</th>\n",
       "      <td>Russland droht der USA</td>\n",
       "      <td>2024-04-25 10:31:13.258</td>\n",
       "    </tr>\n",
       "    <tr>\n",
       "      <th>662e892b3ae8346ce92c8e81</th>\n",
       "      <th>662e892b3ae8346ce92c8e85</th>\n",
       "      <td>Arian wird vermisst</td>\n",
       "      <td>2024-04-28 17:36:43.427</td>\n",
       "    </tr>\n",
       "    <tr>\n",
       "      <th>662f64073ae8346ce92c9d21</th>\n",
       "      <th>662f64083ae8346ce92c9d25</th>\n",
       "      <td>Zinsen</td>\n",
       "      <td>2024-04-29 09:10:32.138</td>\n",
       "    </tr>\n",
       "  </tbody>\n",
       "</table>\n",
       "<p>592 rows × 2 columns</p>\n",
       "</div>"
      ]
     },
     "execution_count": 49,
     "metadata": {},
     "output_type": "execute_result"
    }
   ],
   "execution_count": 49
  },
  {
   "cell_type": "code",
   "id": "c8625db6-d38d-43fa-b8ce-49acc83267da",
   "metadata": {
    "ExecuteTime": {
     "end_time": "2024-05-13T11:01:35.056327Z",
     "start_time": "2024-05-13T11:01:35.051754Z"
    }
   },
   "source": [
    "predictions: typing.Dict[str, str] = {}"
   ],
   "outputs": [],
   "execution_count": 50
  },
  {
   "cell_type": "code",
   "id": "45e3ec4b-3c61-47b3-be71-ebcfb162a2f2",
   "metadata": {
    "jupyter": {
     "is_executing": true
    },
    "ExecuteTime": {
     "start_time": "2024-05-13T11:01:36.518707Z"
    }
   },
   "source": [
    "for index, row in tqdm.tqdm(user_content.iterrows()):\n",
    "    try: \n",
    "        predictions[index] = requests.post(\n",
    "        'https://inf.cl.uni-trier.de/',\n",
    "        json={\n",
    "            'model': MODEL,\n",
    "            'system': TASK_TEMPLATE,\n",
    "            'prompt': TASK_TEMPLATE.format(text=row.content)\n",
    "        }).json()['response'].strip()\n",
    "            \n",
    "    except json.JSONDecodeError:\n",
    "        print(\"Invalid JSON response, skipping to next sample.\")\n",
    "    "
   ],
   "outputs": [
    {
     "name": "stderr",
     "output_type": "stream",
     "text": [
      "0it [00:00, ?it/s]"
     ]
    }
   ],
   "execution_count": null
  },
  {
   "metadata": {
    "ExecuteTime": {
     "end_time": "2024-05-13T11:01:29.512508Z",
     "start_time": "2024-05-13T11:01:29.508734Z"
    }
   },
   "cell_type": "code",
   "source": "predictions",
   "id": "a8260fb012cee1d9",
   "outputs": [
    {
     "data": {
      "text/plain": [
       "{('661d1639b8beabb58229451b', '66252255616a4cb7061ee32c'): '1'}"
      ]
     },
     "execution_count": 45,
     "metadata": {},
     "output_type": "execute_result"
    }
   ],
   "execution_count": 45
  },
  {
   "metadata": {},
   "cell_type": "code",
   "outputs": [
    {
     "ename": "ValueError",
     "evalue": "cannot join with no overlapping index names",
     "output_type": "error",
     "traceback": [
      "\u001B[0;31m---------------------------------------------------------------------------\u001B[0m",
      "\u001B[0;31mValueError\u001B[0m                                Traceback (most recent call last)",
      "Cell \u001B[0;32mIn[14], line 1\u001B[0m\n\u001B[0;32m----> 1\u001B[0m predicted: pd\u001B[38;5;241m.\u001B[39mDataFrame \u001B[38;5;241m=\u001B[39m \u001B[43muser_content\u001B[49m\u001B[38;5;241;43m.\u001B[39;49m\u001B[43mjoin\u001B[49m\u001B[43m(\u001B[49m\u001B[43mpd\u001B[49m\u001B[38;5;241;43m.\u001B[39;49m\u001B[43mSeries\u001B[49m\u001B[43m(\u001B[49m\u001B[43mpredictions\u001B[49m\u001B[43m,\u001B[49m\u001B[43m \u001B[49m\u001B[43mname\u001B[49m\u001B[38;5;241;43m=\u001B[39;49m\u001B[43mTASK_NAME\u001B[49m\u001B[43m)\u001B[49m\u001B[43m)\u001B[49m\n\u001B[1;32m      2\u001B[0m \u001B[38;5;66;03m# predicted.to_csv(f'{CFG.report_dir}/prediction.{TASK_NAME}.csv')\u001B[39;00m\n\u001B[1;32m      3\u001B[0m predicted\u001B[38;5;241m.\u001B[39mhead()\n",
      "File \u001B[0;32m~/.cache/pypoetry/virtualenvs/twon-metrics-mPb-bK_k-py3.11/lib/python3.11/site-packages/pandas/core/frame.py:10757\u001B[0m, in \u001B[0;36mDataFrame.join\u001B[0;34m(self, other, on, how, lsuffix, rsuffix, sort, validate)\u001B[0m\n\u001B[1;32m  10747\u001B[0m     \u001B[38;5;28;01mif\u001B[39;00m how \u001B[38;5;241m==\u001B[39m \u001B[38;5;124m\"\u001B[39m\u001B[38;5;124mcross\u001B[39m\u001B[38;5;124m\"\u001B[39m:\n\u001B[1;32m  10748\u001B[0m         \u001B[38;5;28;01mreturn\u001B[39;00m merge(\n\u001B[1;32m  10749\u001B[0m             \u001B[38;5;28mself\u001B[39m,\n\u001B[1;32m  10750\u001B[0m             other,\n\u001B[0;32m   (...)\u001B[0m\n\u001B[1;32m  10755\u001B[0m             validate\u001B[38;5;241m=\u001B[39mvalidate,\n\u001B[1;32m  10756\u001B[0m         )\n\u001B[0;32m> 10757\u001B[0m     \u001B[38;5;28;01mreturn\u001B[39;00m \u001B[43mmerge\u001B[49m\u001B[43m(\u001B[49m\n\u001B[1;32m  10758\u001B[0m \u001B[43m        \u001B[49m\u001B[38;5;28;43mself\u001B[39;49m\u001B[43m,\u001B[49m\n\u001B[1;32m  10759\u001B[0m \u001B[43m        \u001B[49m\u001B[43mother\u001B[49m\u001B[43m,\u001B[49m\n\u001B[1;32m  10760\u001B[0m \u001B[43m        \u001B[49m\u001B[43mleft_on\u001B[49m\u001B[38;5;241;43m=\u001B[39;49m\u001B[43mon\u001B[49m\u001B[43m,\u001B[49m\n\u001B[1;32m  10761\u001B[0m \u001B[43m        \u001B[49m\u001B[43mhow\u001B[49m\u001B[38;5;241;43m=\u001B[39;49m\u001B[43mhow\u001B[49m\u001B[43m,\u001B[49m\n\u001B[1;32m  10762\u001B[0m \u001B[43m        \u001B[49m\u001B[43mleft_index\u001B[49m\u001B[38;5;241;43m=\u001B[39;49m\u001B[43mon\u001B[49m\u001B[43m \u001B[49m\u001B[38;5;129;43;01mis\u001B[39;49;00m\u001B[43m \u001B[49m\u001B[38;5;28;43;01mNone\u001B[39;49;00m\u001B[43m,\u001B[49m\n\u001B[1;32m  10763\u001B[0m \u001B[43m        \u001B[49m\u001B[43mright_index\u001B[49m\u001B[38;5;241;43m=\u001B[39;49m\u001B[38;5;28;43;01mTrue\u001B[39;49;00m\u001B[43m,\u001B[49m\n\u001B[1;32m  10764\u001B[0m \u001B[43m        \u001B[49m\u001B[43msuffixes\u001B[49m\u001B[38;5;241;43m=\u001B[39;49m\u001B[43m(\u001B[49m\u001B[43mlsuffix\u001B[49m\u001B[43m,\u001B[49m\u001B[43m \u001B[49m\u001B[43mrsuffix\u001B[49m\u001B[43m)\u001B[49m\u001B[43m,\u001B[49m\n\u001B[1;32m  10765\u001B[0m \u001B[43m        \u001B[49m\u001B[43msort\u001B[49m\u001B[38;5;241;43m=\u001B[39;49m\u001B[43msort\u001B[49m\u001B[43m,\u001B[49m\n\u001B[1;32m  10766\u001B[0m \u001B[43m        \u001B[49m\u001B[43mvalidate\u001B[49m\u001B[38;5;241;43m=\u001B[39;49m\u001B[43mvalidate\u001B[49m\u001B[43m,\u001B[49m\n\u001B[1;32m  10767\u001B[0m \u001B[43m    \u001B[49m\u001B[43m)\u001B[49m\n\u001B[1;32m  10768\u001B[0m \u001B[38;5;28;01melse\u001B[39;00m:\n\u001B[1;32m  10769\u001B[0m     \u001B[38;5;28;01mif\u001B[39;00m on \u001B[38;5;129;01mis\u001B[39;00m \u001B[38;5;129;01mnot\u001B[39;00m \u001B[38;5;28;01mNone\u001B[39;00m:\n",
      "File \u001B[0;32m~/.cache/pypoetry/virtualenvs/twon-metrics-mPb-bK_k-py3.11/lib/python3.11/site-packages/pandas/core/reshape/merge.py:184\u001B[0m, in \u001B[0;36mmerge\u001B[0;34m(left, right, how, on, left_on, right_on, left_index, right_index, sort, suffixes, copy, indicator, validate)\u001B[0m\n\u001B[1;32m    169\u001B[0m \u001B[38;5;28;01melse\u001B[39;00m:\n\u001B[1;32m    170\u001B[0m     op \u001B[38;5;241m=\u001B[39m _MergeOperation(\n\u001B[1;32m    171\u001B[0m         left_df,\n\u001B[1;32m    172\u001B[0m         right_df,\n\u001B[0;32m   (...)\u001B[0m\n\u001B[1;32m    182\u001B[0m         validate\u001B[38;5;241m=\u001B[39mvalidate,\n\u001B[1;32m    183\u001B[0m     )\n\u001B[0;32m--> 184\u001B[0m     \u001B[38;5;28;01mreturn\u001B[39;00m \u001B[43mop\u001B[49m\u001B[38;5;241;43m.\u001B[39;49m\u001B[43mget_result\u001B[49m\u001B[43m(\u001B[49m\u001B[43mcopy\u001B[49m\u001B[38;5;241;43m=\u001B[39;49m\u001B[43mcopy\u001B[49m\u001B[43m)\u001B[49m\n",
      "File \u001B[0;32m~/.cache/pypoetry/virtualenvs/twon-metrics-mPb-bK_k-py3.11/lib/python3.11/site-packages/pandas/core/reshape/merge.py:886\u001B[0m, in \u001B[0;36m_MergeOperation.get_result\u001B[0;34m(self, copy)\u001B[0m\n\u001B[1;32m    883\u001B[0m \u001B[38;5;28;01mif\u001B[39;00m \u001B[38;5;28mself\u001B[39m\u001B[38;5;241m.\u001B[39mindicator:\n\u001B[1;32m    884\u001B[0m     \u001B[38;5;28mself\u001B[39m\u001B[38;5;241m.\u001B[39mleft, \u001B[38;5;28mself\u001B[39m\u001B[38;5;241m.\u001B[39mright \u001B[38;5;241m=\u001B[39m \u001B[38;5;28mself\u001B[39m\u001B[38;5;241m.\u001B[39m_indicator_pre_merge(\u001B[38;5;28mself\u001B[39m\u001B[38;5;241m.\u001B[39mleft, \u001B[38;5;28mself\u001B[39m\u001B[38;5;241m.\u001B[39mright)\n\u001B[0;32m--> 886\u001B[0m join_index, left_indexer, right_indexer \u001B[38;5;241m=\u001B[39m \u001B[38;5;28;43mself\u001B[39;49m\u001B[38;5;241;43m.\u001B[39;49m\u001B[43m_get_join_info\u001B[49m\u001B[43m(\u001B[49m\u001B[43m)\u001B[49m\n\u001B[1;32m    888\u001B[0m result \u001B[38;5;241m=\u001B[39m \u001B[38;5;28mself\u001B[39m\u001B[38;5;241m.\u001B[39m_reindex_and_concat(\n\u001B[1;32m    889\u001B[0m     join_index, left_indexer, right_indexer, copy\u001B[38;5;241m=\u001B[39mcopy\n\u001B[1;32m    890\u001B[0m )\n\u001B[1;32m    891\u001B[0m result \u001B[38;5;241m=\u001B[39m result\u001B[38;5;241m.\u001B[39m__finalize__(\u001B[38;5;28mself\u001B[39m, method\u001B[38;5;241m=\u001B[39m\u001B[38;5;28mself\u001B[39m\u001B[38;5;241m.\u001B[39m_merge_type)\n",
      "File \u001B[0;32m~/.cache/pypoetry/virtualenvs/twon-metrics-mPb-bK_k-py3.11/lib/python3.11/site-packages/pandas/core/reshape/merge.py:1137\u001B[0m, in \u001B[0;36m_MergeOperation._get_join_info\u001B[0;34m(self)\u001B[0m\n\u001B[1;32m   1134\u001B[0m right_ax \u001B[38;5;241m=\u001B[39m \u001B[38;5;28mself\u001B[39m\u001B[38;5;241m.\u001B[39mright\u001B[38;5;241m.\u001B[39mindex\n\u001B[1;32m   1136\u001B[0m \u001B[38;5;28;01mif\u001B[39;00m \u001B[38;5;28mself\u001B[39m\u001B[38;5;241m.\u001B[39mleft_index \u001B[38;5;129;01mand\u001B[39;00m \u001B[38;5;28mself\u001B[39m\u001B[38;5;241m.\u001B[39mright_index \u001B[38;5;129;01mand\u001B[39;00m \u001B[38;5;28mself\u001B[39m\u001B[38;5;241m.\u001B[39mhow \u001B[38;5;241m!=\u001B[39m \u001B[38;5;124m\"\u001B[39m\u001B[38;5;124masof\u001B[39m\u001B[38;5;124m\"\u001B[39m:\n\u001B[0;32m-> 1137\u001B[0m     join_index, left_indexer, right_indexer \u001B[38;5;241m=\u001B[39m \u001B[43mleft_ax\u001B[49m\u001B[38;5;241;43m.\u001B[39;49m\u001B[43mjoin\u001B[49m\u001B[43m(\u001B[49m\n\u001B[1;32m   1138\u001B[0m \u001B[43m        \u001B[49m\u001B[43mright_ax\u001B[49m\u001B[43m,\u001B[49m\u001B[43m \u001B[49m\u001B[43mhow\u001B[49m\u001B[38;5;241;43m=\u001B[39;49m\u001B[38;5;28;43mself\u001B[39;49m\u001B[38;5;241;43m.\u001B[39;49m\u001B[43mhow\u001B[49m\u001B[43m,\u001B[49m\u001B[43m \u001B[49m\u001B[43mreturn_indexers\u001B[49m\u001B[38;5;241;43m=\u001B[39;49m\u001B[38;5;28;43;01mTrue\u001B[39;49;00m\u001B[43m,\u001B[49m\u001B[43m \u001B[49m\u001B[43msort\u001B[49m\u001B[38;5;241;43m=\u001B[39;49m\u001B[38;5;28;43mself\u001B[39;49m\u001B[38;5;241;43m.\u001B[39;49m\u001B[43msort\u001B[49m\n\u001B[1;32m   1139\u001B[0m \u001B[43m    \u001B[49m\u001B[43m)\u001B[49m\n\u001B[1;32m   1141\u001B[0m \u001B[38;5;28;01melif\u001B[39;00m \u001B[38;5;28mself\u001B[39m\u001B[38;5;241m.\u001B[39mright_index \u001B[38;5;129;01mand\u001B[39;00m \u001B[38;5;28mself\u001B[39m\u001B[38;5;241m.\u001B[39mhow \u001B[38;5;241m==\u001B[39m \u001B[38;5;124m\"\u001B[39m\u001B[38;5;124mleft\u001B[39m\u001B[38;5;124m\"\u001B[39m:\n\u001B[1;32m   1142\u001B[0m     join_index, left_indexer, right_indexer \u001B[38;5;241m=\u001B[39m _left_join_on_index(\n\u001B[1;32m   1143\u001B[0m         left_ax, right_ax, \u001B[38;5;28mself\u001B[39m\u001B[38;5;241m.\u001B[39mleft_join_keys, sort\u001B[38;5;241m=\u001B[39m\u001B[38;5;28mself\u001B[39m\u001B[38;5;241m.\u001B[39msort\n\u001B[1;32m   1144\u001B[0m     )\n",
      "File \u001B[0;32m~/.cache/pypoetry/virtualenvs/twon-metrics-mPb-bK_k-py3.11/lib/python3.11/site-packages/pandas/core/indexes/base.py:279\u001B[0m, in \u001B[0;36m_maybe_return_indexers.<locals>.join\u001B[0;34m(self, other, how, level, return_indexers, sort)\u001B[0m\n\u001B[1;32m    269\u001B[0m \u001B[38;5;129m@functools\u001B[39m\u001B[38;5;241m.\u001B[39mwraps(meth)\n\u001B[1;32m    270\u001B[0m \u001B[38;5;28;01mdef\u001B[39;00m \u001B[38;5;21mjoin\u001B[39m(\n\u001B[1;32m    271\u001B[0m     \u001B[38;5;28mself\u001B[39m,\n\u001B[0;32m   (...)\u001B[0m\n\u001B[1;32m    277\u001B[0m     sort: \u001B[38;5;28mbool\u001B[39m \u001B[38;5;241m=\u001B[39m \u001B[38;5;28;01mFalse\u001B[39;00m,\n\u001B[1;32m    278\u001B[0m ):\n\u001B[0;32m--> 279\u001B[0m     join_index, lidx, ridx \u001B[38;5;241m=\u001B[39m \u001B[43mmeth\u001B[49m\u001B[43m(\u001B[49m\u001B[38;5;28;43mself\u001B[39;49m\u001B[43m,\u001B[49m\u001B[43m \u001B[49m\u001B[43mother\u001B[49m\u001B[43m,\u001B[49m\u001B[43m \u001B[49m\u001B[43mhow\u001B[49m\u001B[38;5;241;43m=\u001B[39;49m\u001B[43mhow\u001B[49m\u001B[43m,\u001B[49m\u001B[43m \u001B[49m\u001B[43mlevel\u001B[49m\u001B[38;5;241;43m=\u001B[39;49m\u001B[43mlevel\u001B[49m\u001B[43m,\u001B[49m\u001B[43m \u001B[49m\u001B[43msort\u001B[49m\u001B[38;5;241;43m=\u001B[39;49m\u001B[43msort\u001B[49m\u001B[43m)\u001B[49m\n\u001B[1;32m    280\u001B[0m     \u001B[38;5;28;01mif\u001B[39;00m \u001B[38;5;129;01mnot\u001B[39;00m return_indexers:\n\u001B[1;32m    281\u001B[0m         \u001B[38;5;28;01mreturn\u001B[39;00m join_index\n",
      "File \u001B[0;32m~/.cache/pypoetry/virtualenvs/twon-metrics-mPb-bK_k-py3.11/lib/python3.11/site-packages/pandas/core/indexes/base.py:4615\u001B[0m, in \u001B[0;36mIndex.join\u001B[0;34m(self, other, how, level, return_indexers, sort)\u001B[0m\n\u001B[1;32m   4613\u001B[0m         \u001B[38;5;28;01mpass\u001B[39;00m\n\u001B[1;32m   4614\u001B[0m     \u001B[38;5;28;01melse\u001B[39;00m:\n\u001B[0;32m-> 4615\u001B[0m         \u001B[38;5;28;01mreturn\u001B[39;00m \u001B[38;5;28;43mself\u001B[39;49m\u001B[38;5;241;43m.\u001B[39;49m\u001B[43m_join_multi\u001B[49m\u001B[43m(\u001B[49m\u001B[43mother\u001B[49m\u001B[43m,\u001B[49m\u001B[43m \u001B[49m\u001B[43mhow\u001B[49m\u001B[38;5;241;43m=\u001B[39;49m\u001B[43mhow\u001B[49m\u001B[43m)\u001B[49m\n\u001B[1;32m   4617\u001B[0m \u001B[38;5;66;03m# join on the level\u001B[39;00m\n\u001B[1;32m   4618\u001B[0m \u001B[38;5;28;01mif\u001B[39;00m level \u001B[38;5;129;01mis\u001B[39;00m \u001B[38;5;129;01mnot\u001B[39;00m \u001B[38;5;28;01mNone\u001B[39;00m \u001B[38;5;129;01mand\u001B[39;00m (\u001B[38;5;28mself\u001B[39m\u001B[38;5;241m.\u001B[39m_is_multi \u001B[38;5;129;01mor\u001B[39;00m other\u001B[38;5;241m.\u001B[39m_is_multi):\n",
      "File \u001B[0;32m~/.cache/pypoetry/virtualenvs/twon-metrics-mPb-bK_k-py3.11/lib/python3.11/site-packages/pandas/core/indexes/base.py:4739\u001B[0m, in \u001B[0;36mIndex._join_multi\u001B[0;34m(self, other, how)\u001B[0m\n\u001B[1;32m   4737\u001B[0m \u001B[38;5;66;03m# need at least 1 in common\u001B[39;00m\n\u001B[1;32m   4738\u001B[0m \u001B[38;5;28;01mif\u001B[39;00m \u001B[38;5;129;01mnot\u001B[39;00m overlap:\n\u001B[0;32m-> 4739\u001B[0m     \u001B[38;5;28;01mraise\u001B[39;00m \u001B[38;5;167;01mValueError\u001B[39;00m(\u001B[38;5;124m\"\u001B[39m\u001B[38;5;124mcannot join with no overlapping index names\u001B[39m\u001B[38;5;124m\"\u001B[39m)\n\u001B[1;32m   4741\u001B[0m \u001B[38;5;28;01mif\u001B[39;00m \u001B[38;5;28misinstance\u001B[39m(\u001B[38;5;28mself\u001B[39m, MultiIndex) \u001B[38;5;129;01mand\u001B[39;00m \u001B[38;5;28misinstance\u001B[39m(other, MultiIndex):\n\u001B[1;32m   4742\u001B[0m     \u001B[38;5;66;03m# Drop the non-matching levels from left and right respectively\u001B[39;00m\n\u001B[1;32m   4743\u001B[0m     ldrop_names \u001B[38;5;241m=\u001B[39m \u001B[38;5;28msorted\u001B[39m(self_names \u001B[38;5;241m-\u001B[39m overlap, key\u001B[38;5;241m=\u001B[39mself_names_order)\n",
      "\u001B[0;31mValueError\u001B[0m: cannot join with no overlapping index names"
     ]
    }
   ],
   "execution_count": 14,
   "source": [
    "predicted: pd.DataFrame = user_content.join(pd.Series(predictions, name=TASK_NAME))\n",
    "# predicted.to_csv(f'{CFG.report_dir}/prediction.{TASK_NAME}.csv')\n",
    "predicted.head()"
   ],
   "id": "0b787956-4e7b-4a22-9749-cf5a1ddb8266"
  },
  {
   "cell_type": "code",
   "execution_count": null,
   "id": "9bd05ded-b29d-4ed5-bf04-dceb14ce0e39",
   "metadata": {},
   "outputs": [],
   "source": []
  }
 ],
 "metadata": {
  "kernelspec": {
   "display_name": "Python 3 (ipykernel)",
   "language": "python",
   "name": "python3"
  },
  "language_info": {
   "codemirror_mode": {
    "name": "ipython",
    "version": 3
   },
   "file_extension": ".py",
   "mimetype": "text/x-python",
   "name": "python",
   "nbconvert_exporter": "python",
   "pygments_lexer": "ipython3",
   "version": "3.11.8"
  }
 },
 "nbformat": 4,
 "nbformat_minor": 5
}
