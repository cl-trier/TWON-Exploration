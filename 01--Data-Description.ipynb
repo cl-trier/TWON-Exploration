{
 "cells": [
  {
   "cell_type": "code",
   "id": "initial_id",
   "metadata": {
    "collapsed": true,
    "ExecuteTime": {
     "end_time": "2024-05-13T09:49:49.643192Z",
     "start_time": "2024-05-13T09:49:49.546911Z"
    }
   },
   "source": [
    "import pandas as pd\n",
    "import seaborn as sns\n",
    "import matplotlib as mpl\n",
    "\n",
    "import config"
   ],
   "outputs": [],
   "execution_count": 1
  },
  {
   "metadata": {
    "ExecuteTime": {
     "end_time": "2024-05-13T09:49:49.648218Z",
     "start_time": "2024-05-13T09:49:49.644720Z"
    }
   },
   "cell_type": "code",
   "source": "CFG = config.Config()",
   "id": "b6f447fc359a73b3",
   "outputs": [],
   "execution_count": 2
  },
  {
   "metadata": {
    "ExecuteTime": {
     "end_time": "2024-05-13T09:49:49.703721Z",
     "start_time": "2024-05-13T09:49:49.649129Z"
    }
   },
   "cell_type": "code",
   "source": [
    "posts: pd.DataFrame = pd.read_parquet(CFG.processed_files[\"posts\"])\n",
    "posts.head()"
   ],
   "id": "4e012cf838edb0fb",
   "outputs": [
    {
     "data": {
      "text/plain": [
       "                                                                                             content  \\\n",
       "userId                   id                                                                            \n",
       "661d1639b8beabb58229451b 66252255616a4cb7061ee32c  #UkraineKrieg: Beunruhigende Entwicklungen in ...   \n",
       "                         66253e74616a4cb7061ee7cc  Bedauerlich, dass gewaltsame Konflikte weiterh...   \n",
       "                         66255134616a4cb7061eeaf4  Gewalt im Nahen Osten & Ukraine nicht isoliert...   \n",
       "                         6627d8efa6b56b19b4300ae4  Unterstützen wir unsere Verbündeten, respektie...   \n",
       "                         6628b08fa6b56b19b4301867  Geschlossene Tür für Unsicherheit: US-Repräsen...   \n",
       "\n",
       "                                                                 createdAt  \n",
       "userId                   id                                                 \n",
       "661d1639b8beabb58229451b 66252255616a4cb7061ee32c  2024-04-21 14:27:33.315  \n",
       "                         66253e74616a4cb7061ee7cc  2024-04-21 16:27:32.919  \n",
       "                         66255134616a4cb7061eeaf4  2024-04-21 17:47:32.762  \n",
       "                         6627d8efa6b56b19b4300ae4  2024-04-23 15:51:11.067  \n",
       "                         6628b08fa6b56b19b4301867  2024-04-24 07:11:11.797  "
      ],
      "text/html": [
       "<div>\n",
       "<style scoped>\n",
       "    .dataframe tbody tr th:only-of-type {\n",
       "        vertical-align: middle;\n",
       "    }\n",
       "\n",
       "    .dataframe tbody tr th {\n",
       "        vertical-align: top;\n",
       "    }\n",
       "\n",
       "    .dataframe thead th {\n",
       "        text-align: right;\n",
       "    }\n",
       "</style>\n",
       "<table border=\"1\" class=\"dataframe\">\n",
       "  <thead>\n",
       "    <tr style=\"text-align: right;\">\n",
       "      <th></th>\n",
       "      <th></th>\n",
       "      <th>content</th>\n",
       "      <th>createdAt</th>\n",
       "    </tr>\n",
       "    <tr>\n",
       "      <th>userId</th>\n",
       "      <th>id</th>\n",
       "      <th></th>\n",
       "      <th></th>\n",
       "    </tr>\n",
       "  </thead>\n",
       "  <tbody>\n",
       "    <tr>\n",
       "      <th rowspan=\"5\" valign=\"top\">661d1639b8beabb58229451b</th>\n",
       "      <th>66252255616a4cb7061ee32c</th>\n",
       "      <td>#UkraineKrieg: Beunruhigende Entwicklungen in ...</td>\n",
       "      <td>2024-04-21 14:27:33.315</td>\n",
       "    </tr>\n",
       "    <tr>\n",
       "      <th>66253e74616a4cb7061ee7cc</th>\n",
       "      <td>Bedauerlich, dass gewaltsame Konflikte weiterh...</td>\n",
       "      <td>2024-04-21 16:27:32.919</td>\n",
       "    </tr>\n",
       "    <tr>\n",
       "      <th>66255134616a4cb7061eeaf4</th>\n",
       "      <td>Gewalt im Nahen Osten &amp; Ukraine nicht isoliert...</td>\n",
       "      <td>2024-04-21 17:47:32.762</td>\n",
       "    </tr>\n",
       "    <tr>\n",
       "      <th>6627d8efa6b56b19b4300ae4</th>\n",
       "      <td>Unterstützen wir unsere Verbündeten, respektie...</td>\n",
       "      <td>2024-04-23 15:51:11.067</td>\n",
       "    </tr>\n",
       "    <tr>\n",
       "      <th>6628b08fa6b56b19b4301867</th>\n",
       "      <td>Geschlossene Tür für Unsicherheit: US-Repräsen...</td>\n",
       "      <td>2024-04-24 07:11:11.797</td>\n",
       "    </tr>\n",
       "  </tbody>\n",
       "</table>\n",
       "</div>"
      ]
     },
     "execution_count": 3,
     "metadata": {},
     "output_type": "execute_result"
    }
   ],
   "execution_count": 3
  },
  {
   "metadata": {
    "ExecuteTime": {
     "end_time": "2024-05-13T09:49:49.723254Z",
     "start_time": "2024-05-13T09:49:49.705766Z"
    }
   },
   "cell_type": "code",
   "source": [
    "comments: pd.DataFrame = pd.read_parquet(CFG.processed_files[\"comments\"])\n",
    "comments.head()"
   ],
   "id": "766887ec0f63de7b",
   "outputs": [
    {
     "data": {
      "text/plain": [
       "                                                                                             content  \\\n",
       "postId                   id                                                                            \n",
       "66226af08c2024fabb3cc44c 66261d9883ad1b524033b95f  Gut gesagt! Vergesst nicht, dass auch wirtscha...   \n",
       "662296c6616a4cb7061eaae7 66261fac83ad1b524033b9b7  Richtig gesagt, @Gelber Roboter! Eine ausgewog...   \n",
       "6622a4d5616a4cb7061ead43 66261cda83ad1b524033b93b  @Gelber Roboter, @Blaues Siegel, @Weißer Hase,...   \n",
       "6622a983616a4cb7061eae17 66261f0c83ad1b524033b993  Couldn't agree more! Global connections and co...   \n",
       "6622bc44616a4cb7061eb0f2 6626211283ad1b524033b9f2  „Ganz meiner Meinung, @Lila Walross und @Blaue...   \n",
       "\n",
       "                                                                     userId  \\\n",
       "postId                   id                                                   \n",
       "66226af08c2024fabb3cc44c 66261d9883ad1b524033b95f  661d163cb8beabb58229451c   \n",
       "662296c6616a4cb7061eaae7 66261fac83ad1b524033b9b7  661d1646b8beabb582294522   \n",
       "6622a4d5616a4cb7061ead43 66261cda83ad1b524033b93b  66256b0f7adfe044bf82ae9b   \n",
       "6622a983616a4cb7061eae17 66261f0c83ad1b524033b993  66256b0f7adfe044bf82ae9b   \n",
       "6622bc44616a4cb7061eb0f2 6626211283ad1b524033b9f2  66256a827adfe044bf82ae97   \n",
       "\n",
       "                                                                 createdAt  \n",
       "postId                   id                                                 \n",
       "66226af08c2024fabb3cc44c 66261d9883ad1b524033b95f  2024-04-22 08:19:36.535  \n",
       "662296c6616a4cb7061eaae7 66261fac83ad1b524033b9b7  2024-04-22 08:28:28.538  \n",
       "6622a4d5616a4cb7061ead43 66261cda83ad1b524033b93b  2024-04-22 08:16:26.028  \n",
       "6622a983616a4cb7061eae17 66261f0c83ad1b524033b993  2024-04-22 08:25:48.181  \n",
       "6622bc44616a4cb7061eb0f2 6626211283ad1b524033b9f2  2024-04-22 08:34:26.209  "
      ],
      "text/html": [
       "<div>\n",
       "<style scoped>\n",
       "    .dataframe tbody tr th:only-of-type {\n",
       "        vertical-align: middle;\n",
       "    }\n",
       "\n",
       "    .dataframe tbody tr th {\n",
       "        vertical-align: top;\n",
       "    }\n",
       "\n",
       "    .dataframe thead th {\n",
       "        text-align: right;\n",
       "    }\n",
       "</style>\n",
       "<table border=\"1\" class=\"dataframe\">\n",
       "  <thead>\n",
       "    <tr style=\"text-align: right;\">\n",
       "      <th></th>\n",
       "      <th></th>\n",
       "      <th>content</th>\n",
       "      <th>userId</th>\n",
       "      <th>createdAt</th>\n",
       "    </tr>\n",
       "    <tr>\n",
       "      <th>postId</th>\n",
       "      <th>id</th>\n",
       "      <th></th>\n",
       "      <th></th>\n",
       "      <th></th>\n",
       "    </tr>\n",
       "  </thead>\n",
       "  <tbody>\n",
       "    <tr>\n",
       "      <th>66226af08c2024fabb3cc44c</th>\n",
       "      <th>66261d9883ad1b524033b95f</th>\n",
       "      <td>Gut gesagt! Vergesst nicht, dass auch wirtscha...</td>\n",
       "      <td>661d163cb8beabb58229451c</td>\n",
       "      <td>2024-04-22 08:19:36.535</td>\n",
       "    </tr>\n",
       "    <tr>\n",
       "      <th>662296c6616a4cb7061eaae7</th>\n",
       "      <th>66261fac83ad1b524033b9b7</th>\n",
       "      <td>Richtig gesagt, @Gelber Roboter! Eine ausgewog...</td>\n",
       "      <td>661d1646b8beabb582294522</td>\n",
       "      <td>2024-04-22 08:28:28.538</td>\n",
       "    </tr>\n",
       "    <tr>\n",
       "      <th>6622a4d5616a4cb7061ead43</th>\n",
       "      <th>66261cda83ad1b524033b93b</th>\n",
       "      <td>@Gelber Roboter, @Blaues Siegel, @Weißer Hase,...</td>\n",
       "      <td>66256b0f7adfe044bf82ae9b</td>\n",
       "      <td>2024-04-22 08:16:26.028</td>\n",
       "    </tr>\n",
       "    <tr>\n",
       "      <th>6622a983616a4cb7061eae17</th>\n",
       "      <th>66261f0c83ad1b524033b993</th>\n",
       "      <td>Couldn't agree more! Global connections and co...</td>\n",
       "      <td>66256b0f7adfe044bf82ae9b</td>\n",
       "      <td>2024-04-22 08:25:48.181</td>\n",
       "    </tr>\n",
       "    <tr>\n",
       "      <th>6622bc44616a4cb7061eb0f2</th>\n",
       "      <th>6626211283ad1b524033b9f2</th>\n",
       "      <td>„Ganz meiner Meinung, @Lila Walross und @Blaue...</td>\n",
       "      <td>66256a827adfe044bf82ae97</td>\n",
       "      <td>2024-04-22 08:34:26.209</td>\n",
       "    </tr>\n",
       "  </tbody>\n",
       "</table>\n",
       "</div>"
      ]
     },
     "execution_count": 4,
     "metadata": {},
     "output_type": "execute_result"
    }
   ],
   "execution_count": 4
  },
  {
   "metadata": {
    "ExecuteTime": {
     "end_time": "2024-05-13T09:49:49.740562Z",
     "start_time": "2024-05-13T09:49:49.724517Z"
    }
   },
   "cell_type": "code",
   "source": [
    "likes: pd.DataFrame = pd.read_parquet(CFG.processed_files[\"likes\"])\n",
    "likes.head()"
   ],
   "id": "223af2afca6800d4",
   "outputs": [
    {
     "data": {
      "text/plain": [
       "                                                                 createdAt\n",
       "itemId                   userId                                           \n",
       "66260b4c83ad1b524033b671 661d164ab8beabb582294524  2024-04-22 11:18:13.938\n",
       "                         661d1646b8beabb582294522  2024-04-23 11:59:11.550\n",
       "                         6626a9b9f62e42fb4c5c74b7  2024-04-23 14:29:04.830\n",
       "                         661d1641b8beabb58229451f  2024-04-25 12:45:56.266\n",
       "                         661d163fb8beabb58229451e  2024-04-28 08:31:00.852"
      ],
      "text/html": [
       "<div>\n",
       "<style scoped>\n",
       "    .dataframe tbody tr th:only-of-type {\n",
       "        vertical-align: middle;\n",
       "    }\n",
       "\n",
       "    .dataframe tbody tr th {\n",
       "        vertical-align: top;\n",
       "    }\n",
       "\n",
       "    .dataframe thead th {\n",
       "        text-align: right;\n",
       "    }\n",
       "</style>\n",
       "<table border=\"1\" class=\"dataframe\">\n",
       "  <thead>\n",
       "    <tr style=\"text-align: right;\">\n",
       "      <th></th>\n",
       "      <th></th>\n",
       "      <th>createdAt</th>\n",
       "    </tr>\n",
       "    <tr>\n",
       "      <th>itemId</th>\n",
       "      <th>userId</th>\n",
       "      <th></th>\n",
       "    </tr>\n",
       "  </thead>\n",
       "  <tbody>\n",
       "    <tr>\n",
       "      <th rowspan=\"5\" valign=\"top\">66260b4c83ad1b524033b671</th>\n",
       "      <th>661d164ab8beabb582294524</th>\n",
       "      <td>2024-04-22 11:18:13.938</td>\n",
       "    </tr>\n",
       "    <tr>\n",
       "      <th>661d1646b8beabb582294522</th>\n",
       "      <td>2024-04-23 11:59:11.550</td>\n",
       "    </tr>\n",
       "    <tr>\n",
       "      <th>6626a9b9f62e42fb4c5c74b7</th>\n",
       "      <td>2024-04-23 14:29:04.830</td>\n",
       "    </tr>\n",
       "    <tr>\n",
       "      <th>661d1641b8beabb58229451f</th>\n",
       "      <td>2024-04-25 12:45:56.266</td>\n",
       "    </tr>\n",
       "    <tr>\n",
       "      <th>661d163fb8beabb58229451e</th>\n",
       "      <td>2024-04-28 08:31:00.852</td>\n",
       "    </tr>\n",
       "  </tbody>\n",
       "</table>\n",
       "</div>"
      ]
     },
     "execution_count": 5,
     "metadata": {},
     "output_type": "execute_result"
    }
   ],
   "execution_count": 5
  },
  {
   "metadata": {
    "ExecuteTime": {
     "end_time": "2024-05-13T09:49:49.752993Z",
     "start_time": "2024-05-13T09:49:49.742172Z"
    }
   },
   "cell_type": "code",
   "source": [
    "dislikes: pd.DataFrame = pd.read_parquet(CFG.processed_files[\"dislikes\"])\n",
    "dislikes.head()"
   ],
   "id": "5691ddc51d4e5d89",
   "outputs": [
    {
     "data": {
      "text/plain": [
       "                                                                 createdAt\n",
       "itemId                   userId                                           \n",
       "65e9f1f965b9102926398486 65e9f1c865b910292639845d  2024-03-07 16:57:32.633\n",
       "662612ff83ad1b524033b7af 66278a3cf62e42fb4c5cb401  2024-04-26 06:23:06.411\n",
       "66261b7383ad1b524033b908 66278cb1f62e42fb4c5cb80a  2024-04-23 15:53:30.733\n",
       "6626308783ad1b524033bc19 6627937af62e42fb4c5ccb3e  2024-04-23 11:08:02.447\n",
       "662642d583ad1b524033bec3 66278cb1f62e42fb4c5cb80a  2024-04-23 15:30:57.538"
      ],
      "text/html": [
       "<div>\n",
       "<style scoped>\n",
       "    .dataframe tbody tr th:only-of-type {\n",
       "        vertical-align: middle;\n",
       "    }\n",
       "\n",
       "    .dataframe tbody tr th {\n",
       "        vertical-align: top;\n",
       "    }\n",
       "\n",
       "    .dataframe thead th {\n",
       "        text-align: right;\n",
       "    }\n",
       "</style>\n",
       "<table border=\"1\" class=\"dataframe\">\n",
       "  <thead>\n",
       "    <tr style=\"text-align: right;\">\n",
       "      <th></th>\n",
       "      <th></th>\n",
       "      <th>createdAt</th>\n",
       "    </tr>\n",
       "    <tr>\n",
       "      <th>itemId</th>\n",
       "      <th>userId</th>\n",
       "      <th></th>\n",
       "    </tr>\n",
       "  </thead>\n",
       "  <tbody>\n",
       "    <tr>\n",
       "      <th>65e9f1f965b9102926398486</th>\n",
       "      <th>65e9f1c865b910292639845d</th>\n",
       "      <td>2024-03-07 16:57:32.633</td>\n",
       "    </tr>\n",
       "    <tr>\n",
       "      <th>662612ff83ad1b524033b7af</th>\n",
       "      <th>66278a3cf62e42fb4c5cb401</th>\n",
       "      <td>2024-04-26 06:23:06.411</td>\n",
       "    </tr>\n",
       "    <tr>\n",
       "      <th>66261b7383ad1b524033b908</th>\n",
       "      <th>66278cb1f62e42fb4c5cb80a</th>\n",
       "      <td>2024-04-23 15:53:30.733</td>\n",
       "    </tr>\n",
       "    <tr>\n",
       "      <th>6626308783ad1b524033bc19</th>\n",
       "      <th>6627937af62e42fb4c5ccb3e</th>\n",
       "      <td>2024-04-23 11:08:02.447</td>\n",
       "    </tr>\n",
       "    <tr>\n",
       "      <th>662642d583ad1b524033bec3</th>\n",
       "      <th>66278cb1f62e42fb4c5cb80a</th>\n",
       "      <td>2024-04-23 15:30:57.538</td>\n",
       "    </tr>\n",
       "  </tbody>\n",
       "</table>\n",
       "</div>"
      ]
     },
     "execution_count": 6,
     "metadata": {},
     "output_type": "execute_result"
    }
   ],
   "execution_count": 6
  },
  {
   "metadata": {
    "ExecuteTime": {
     "end_time": "2024-05-13T09:49:49.770384Z",
     "start_time": "2024-05-13T09:49:49.753946Z"
    }
   },
   "cell_type": "code",
   "source": [
    "interactions: pd.Series = (\n",
    "    pd.concat([\n",
    "        posts.reset_index()[[\"userId\"]].assign(action=\"post\"),\n",
    "        comments[[\"userId\"]].assign(action=\"comment\"),\n",
    "        likes.reset_index()[[\"userId\"]].assign(action=\"like\"),\n",
    "        dislikes.reset_index()[[\"userId\"]].assign(action=\"dislike\"),\n",
    "    ])\n",
    "    .value_counts()\n",
    ")\n",
    "interactions.head()"
   ],
   "id": "1e511a13a490c02d",
   "outputs": [
    {
     "data": {
      "text/plain": [
       "userId                    action\n",
       "661d164db8beabb582294526  like      184\n",
       "661d1670b8beabb582294529  like      181\n",
       "661d1641b8beabb58229451f  like      174\n",
       "661d1639b8beabb58229451b  like      168\n",
       "661d164bb8beabb582294525  like      168\n",
       "Name: count, dtype: int64"
      ]
     },
     "execution_count": 7,
     "metadata": {},
     "output_type": "execute_result"
    }
   ],
   "execution_count": 7
  },
  {
   "metadata": {
    "ExecuteTime": {
     "end_time": "2024-05-13T10:00:01.598155Z",
     "start_time": "2024-05-13T09:59:57.981945Z"
    }
   },
   "cell_type": "code",
   "source": [
    "sns.displot(\n",
    "    data=interactions.reset_index(), \n",
    "    x='count', \n",
    "    hue='action', \n",
    "    col='action', \n",
    "    col_wrap=2,\n",
    "    log_scale=True,\n",
    "    kde=True,\n",
    "    rug=True,\n",
    "    legend=None\n",
    ").set(\n",
    "    xlabel=\"log observation count\"\n",
    ")\n",
    "mpl.pyplot.savefig(f'{CFG.report_dir}/plot.hist.user_actions.log.pdf', format='pdf')"
   ],
   "id": "3160284f036a7a87",
   "outputs": [
    {
     "data": {
      "text/plain": [
       "<Figure size 1000x1000 with 4 Axes>"
      ],
      "image/png": "[encoded data removed]"
     },
     "metadata": {},
     "output_type": "display_data"
    }
   ],
   "execution_count": 34
  }
 ],
 "metadata": {
  "kernelspec": {
   "display_name": "Python 3",
   "language": "python",
   "name": "python3"
  },
  "language_info": {
   "codemirror_mode": {
    "name": "ipython",
    "version": 2
   },
   "file_extension": ".py",
   "mimetype": "text/x-python",
   "name": "python",
   "nbconvert_exporter": "python",
   "pygments_lexer": "ipython2",
   "version": "2.7.6"
  }
 },
 "nbformat": 4,
 "nbformat_minor": 5
}
