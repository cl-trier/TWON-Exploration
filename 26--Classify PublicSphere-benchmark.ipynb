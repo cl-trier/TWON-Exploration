{
 "cells": [
  {
   "cell_type": "code",
   "execution_count": 2,
   "id": "initial_id",
   "metadata": {
    "ExecuteTime": {
     "end_time": "2024-05-15T14:55:04.880562Z",
     "start_time": "2024-05-15T14:55:04.876394Z"
    }
   },
   "outputs": [],
   "source": [
    "import typing\n",
    "\n",
    "import pandas as pd\n",
    "\n",
    "import config\n",
    "import src"
   ]
  },
  {
   "cell_type": "code",
   "execution_count": 3,
   "id": "3d025f8b6b833773",
   "metadata": {
    "ExecuteTime": {
     "end_time": "2024-05-15T14:55:04.892387Z",
     "start_time": "2024-05-15T14:55:04.882915Z"
    }
   },
   "outputs": [],
   "source": [
    "CFG = config.Config()"
   ]
  },
  {
   "cell_type": "code",
   "execution_count": 3,
   "id": "8ad2aee526efc24d",
   "metadata": {
    "ExecuteTime": {
     "end_time": "2024-05-15T14:55:04.913299Z",
     "start_time": "2024-05-15T14:55:04.894258Z"
    }
   },
   "outputs": [
    {
     "data": {
      "text/html": [
       "<div>\n",
       "<style scoped>\n",
       "    .dataframe tbody tr th:only-of-type {\n",
       "        vertical-align: middle;\n",
       "    }\n",
       "\n",
       "    .dataframe tbody tr th {\n",
       "        vertical-align: top;\n",
       "    }\n",
       "\n",
       "    .dataframe thead th {\n",
       "        text-align: right;\n",
       "    }\n",
       "</style>\n",
       "<table border=\"1\" class=\"dataframe\">\n",
       "  <thead>\n",
       "    <tr style=\"text-align: right;\">\n",
       "      <th></th>\n",
       "      <th>StartDate</th>\n",
       "      <th>RecordedDate</th>\n",
       "      <th>IPAddress</th>\n",
       "      <th>Finished</th>\n",
       "      <th>Coder</th>\n",
       "      <th>ID</th>\n",
       "      <th>Mark_ID</th>\n",
       "      <th>Genre</th>\n",
       "      <th>topiccode</th>\n",
       "      <th>Platform</th>\n",
       "      <th>...</th>\n",
       "      <th>dislikeCount_video</th>\n",
       "      <th>likeCount_video</th>\n",
       "      <th>date_difference</th>\n",
       "      <th>commentCount_video</th>\n",
       "      <th>replyCount_comment</th>\n",
       "      <th>topic</th>\n",
       "      <th>subscribers</th>\n",
       "      <th>HATELIST_FOCUSED_DUMMY</th>\n",
       "      <th>Time_comment_year</th>\n",
       "      <th>Time_video_year</th>\n",
       "    </tr>\n",
       "  </thead>\n",
       "  <tbody>\n",
       "    <tr>\n",
       "      <th>0</th>\n",
       "      <td>5/30/2021 13:03:17</td>\n",
       "      <td>5/30/2021 13:04:17</td>\n",
       "      <td>62.194.51.29</td>\n",
       "      <td>1</td>\n",
       "      <td>6</td>\n",
       "      <td>UgyPHwv8G0cDE6-wEgl4AaABAg.8_0ZjJKSJty8_0kXGkAd2U</td>\n",
       "      <td>119</td>\n",
       "      <td>0</td>\n",
       "      <td>0</td>\n",
       "      <td>1</td>\n",
       "      <td>...</td>\n",
       "      <td>NaN</td>\n",
       "      <td>NaN</td>\n",
       "      <td>NaN</td>\n",
       "      <td>NaN</td>\n",
       "      <td>NaN</td>\n",
       "      <td>NaN</td>\n",
       "      <td>NaN</td>\n",
       "      <td>0</td>\n",
       "      <td>2017</td>\n",
       "      <td>2017.0</td>\n",
       "    </tr>\n",
       "    <tr>\n",
       "      <th>1</th>\n",
       "      <td>10/11/2021 10:34:05</td>\n",
       "      <td>10/11/2021 10:36:46</td>\n",
       "      <td>213.127.109.191</td>\n",
       "      <td>1</td>\n",
       "      <td>6</td>\n",
       "      <td>Ugx2WXq9UdV8mPPjejJ4AaABAg.8yHCKV0Boe58yYRxEQEF45</td>\n",
       "      <td>282</td>\n",
       "      <td>1</td>\n",
       "      <td>2</td>\n",
       "      <td>1</td>\n",
       "      <td>...</td>\n",
       "      <td>195.0</td>\n",
       "      <td>3817.0</td>\n",
       "      <td>743.0</td>\n",
       "      <td>1748.0</td>\n",
       "      <td>NaN</td>\n",
       "      <td>economy</td>\n",
       "      <td>3630000.0</td>\n",
       "      <td>0</td>\n",
       "      <td>2019</td>\n",
       "      <td>2019.0</td>\n",
       "    </tr>\n",
       "    <tr>\n",
       "      <th>2</th>\n",
       "      <td>9/9/2021 18:49:48</td>\n",
       "      <td>9/9/2021 18:51:32</td>\n",
       "      <td>213.127.110.0</td>\n",
       "      <td>1</td>\n",
       "      <td>6</td>\n",
       "      <td>1110578710648890000</td>\n",
       "      <td>372</td>\n",
       "      <td>2</td>\n",
       "      <td>4</td>\n",
       "      <td>2</td>\n",
       "      <td>...</td>\n",
       "      <td>NaN</td>\n",
       "      <td>NaN</td>\n",
       "      <td>NaN</td>\n",
       "      <td>NaN</td>\n",
       "      <td>NaN</td>\n",
       "      <td>NaN</td>\n",
       "      <td>NaN</td>\n",
       "      <td>0</td>\n",
       "      <td>2019</td>\n",
       "      <td>NaN</td>\n",
       "    </tr>\n",
       "    <tr>\n",
       "      <th>3</th>\n",
       "      <td>6/6/2021 16:12:46</td>\n",
       "      <td>6/6/2021 16:16:16</td>\n",
       "      <td>213.127.76.145</td>\n",
       "      <td>1</td>\n",
       "      <td>6</td>\n",
       "      <td>UgwUPFScjJ0MCeaP2F54AaABAg.8lvp3fc9Euf8lvvgsUgEgV</td>\n",
       "      <td>769</td>\n",
       "      <td>0</td>\n",
       "      <td>0</td>\n",
       "      <td>1</td>\n",
       "      <td>...</td>\n",
       "      <td>NaN</td>\n",
       "      <td>NaN</td>\n",
       "      <td>NaN</td>\n",
       "      <td>NaN</td>\n",
       "      <td>NaN</td>\n",
       "      <td>NaN</td>\n",
       "      <td>NaN</td>\n",
       "      <td>0</td>\n",
       "      <td>2018</td>\n",
       "      <td>2018.0</td>\n",
       "    </tr>\n",
       "    <tr>\n",
       "      <th>4</th>\n",
       "      <td>6/13/2021 13:25:49</td>\n",
       "      <td>6/13/2021 13:27:28</td>\n",
       "      <td>213.127.82.232</td>\n",
       "      <td>1</td>\n",
       "      <td>6</td>\n",
       "      <td>UgwWKCWtSJdFvjGHvTp4AaABAg.8kUC5dGrQ2H8kUDRihE2f3</td>\n",
       "      <td>1206</td>\n",
       "      <td>0</td>\n",
       "      <td>0</td>\n",
       "      <td>1</td>\n",
       "      <td>...</td>\n",
       "      <td>NaN</td>\n",
       "      <td>NaN</td>\n",
       "      <td>NaN</td>\n",
       "      <td>NaN</td>\n",
       "      <td>NaN</td>\n",
       "      <td>NaN</td>\n",
       "      <td>NaN</td>\n",
       "      <td>0</td>\n",
       "      <td>2018</td>\n",
       "      <td>2018.0</td>\n",
       "    </tr>\n",
       "    <tr>\n",
       "      <th>...</th>\n",
       "      <td>...</td>\n",
       "      <td>...</td>\n",
       "      <td>...</td>\n",
       "      <td>...</td>\n",
       "      <td>...</td>\n",
       "      <td>...</td>\n",
       "      <td>...</td>\n",
       "      <td>...</td>\n",
       "      <td>...</td>\n",
       "      <td>...</td>\n",
       "      <td>...</td>\n",
       "      <td>...</td>\n",
       "      <td>...</td>\n",
       "      <td>...</td>\n",
       "      <td>...</td>\n",
       "      <td>...</td>\n",
       "      <td>...</td>\n",
       "      <td>...</td>\n",
       "      <td>...</td>\n",
       "      <td>...</td>\n",
       "      <td>...</td>\n",
       "    </tr>\n",
       "    <tr>\n",
       "      <th>3857</th>\n",
       "      <td>8/19/2021 14:50:13</td>\n",
       "      <td>8/19/2021 14:54:28</td>\n",
       "      <td>62.194.51.29</td>\n",
       "      <td>1</td>\n",
       "      <td>6</td>\n",
       "      <td>1152219467579100000</td>\n",
       "      <td>10000695</td>\n",
       "      <td>0</td>\n",
       "      <td>4</td>\n",
       "      <td>2</td>\n",
       "      <td>...</td>\n",
       "      <td>NaN</td>\n",
       "      <td>NaN</td>\n",
       "      <td>NaN</td>\n",
       "      <td>NaN</td>\n",
       "      <td>NaN</td>\n",
       "      <td>NaN</td>\n",
       "      <td>NaN</td>\n",
       "      <td>0</td>\n",
       "      <td>2019</td>\n",
       "      <td>NaN</td>\n",
       "    </tr>\n",
       "    <tr>\n",
       "      <th>3858</th>\n",
       "      <td>8/19/2021 15:10:27</td>\n",
       "      <td>8/19/2021 15:12:21</td>\n",
       "      <td>62.194.51.29</td>\n",
       "      <td>1</td>\n",
       "      <td>6</td>\n",
       "      <td>1085362296472430000</td>\n",
       "      <td>10007008</td>\n",
       "      <td>1</td>\n",
       "      <td>4</td>\n",
       "      <td>2</td>\n",
       "      <td>...</td>\n",
       "      <td>NaN</td>\n",
       "      <td>NaN</td>\n",
       "      <td>NaN</td>\n",
       "      <td>NaN</td>\n",
       "      <td>NaN</td>\n",
       "      <td>NaN</td>\n",
       "      <td>NaN</td>\n",
       "      <td>0</td>\n",
       "      <td>2019</td>\n",
       "      <td>NaN</td>\n",
       "    </tr>\n",
       "    <tr>\n",
       "      <th>3859</th>\n",
       "      <td>10/6/2021 16:08:39</td>\n",
       "      <td>10/6/2021 16:10:42</td>\n",
       "      <td>213.127.113.113</td>\n",
       "      <td>1</td>\n",
       "      <td>6</td>\n",
       "      <td>UghFY3QJ6nmT_ngCoAEC.7-H0Z7--wxd8goqpaPs-bl</td>\n",
       "      <td>20000102</td>\n",
       "      <td>0</td>\n",
       "      <td>3</td>\n",
       "      <td>1</td>\n",
       "      <td>...</td>\n",
       "      <td>2820.0</td>\n",
       "      <td>12475.0</td>\n",
       "      <td>3803.0</td>\n",
       "      <td>4785.0</td>\n",
       "      <td>NaN</td>\n",
       "      <td>east</td>\n",
       "      <td>6740000.0</td>\n",
       "      <td>0</td>\n",
       "      <td>2018</td>\n",
       "      <td>2010.0</td>\n",
       "    </tr>\n",
       "    <tr>\n",
       "      <th>3860</th>\n",
       "      <td>10/15/2021 18:30:04</td>\n",
       "      <td>10/15/2021 18:35:40</td>\n",
       "      <td>213.127.109.191</td>\n",
       "      <td>1</td>\n",
       "      <td>6</td>\n",
       "      <td>UgyWabsmmnq3zam4DgZ4AaABAg</td>\n",
       "      <td>20000418</td>\n",
       "      <td>2</td>\n",
       "      <td>3</td>\n",
       "      <td>1</td>\n",
       "      <td>...</td>\n",
       "      <td>118.0</td>\n",
       "      <td>31761.0</td>\n",
       "      <td>1531.0</td>\n",
       "      <td>2206.0</td>\n",
       "      <td>0.0</td>\n",
       "      <td>east</td>\n",
       "      <td>6800000.0</td>\n",
       "      <td>0</td>\n",
       "      <td>2018</td>\n",
       "      <td>2015.0</td>\n",
       "    </tr>\n",
       "    <tr>\n",
       "      <th>3861</th>\n",
       "      <td>11/19/2021 17:49:17</td>\n",
       "      <td>11/19/2021 17:51:04</td>\n",
       "      <td>213.127.109.191</td>\n",
       "      <td>1</td>\n",
       "      <td>6</td>\n",
       "      <td>UgwPOHIDyICm10k0Mvx4AaABAg</td>\n",
       "      <td>20001003</td>\n",
       "      <td>0</td>\n",
       "      <td>3</td>\n",
       "      <td>1</td>\n",
       "      <td>...</td>\n",
       "      <td>1358.0</td>\n",
       "      <td>5740.0</td>\n",
       "      <td>2276.0</td>\n",
       "      <td>2887.0</td>\n",
       "      <td>1.0</td>\n",
       "      <td>east</td>\n",
       "      <td>549000.0</td>\n",
       "      <td>0</td>\n",
       "      <td>2018</td>\n",
       "      <td>2018.0</td>\n",
       "    </tr>\n",
       "  </tbody>\n",
       "</table>\n",
       "<p>3862 rows × 79 columns</p>\n",
       "</div>"
      ],
      "text/plain": [
       "                StartDate         RecordedDate        IPAddress  Finished  \\\n",
       "0      5/30/2021 13:03:17   5/30/2021 13:04:17     62.194.51.29         1   \n",
       "1     10/11/2021 10:34:05  10/11/2021 10:36:46  213.127.109.191         1   \n",
       "2       9/9/2021 18:49:48    9/9/2021 18:51:32    213.127.110.0         1   \n",
       "3       6/6/2021 16:12:46    6/6/2021 16:16:16   213.127.76.145         1   \n",
       "4      6/13/2021 13:25:49   6/13/2021 13:27:28   213.127.82.232         1   \n",
       "...                   ...                  ...              ...       ...   \n",
       "3857   8/19/2021 14:50:13   8/19/2021 14:54:28     62.194.51.29         1   \n",
       "3858   8/19/2021 15:10:27   8/19/2021 15:12:21     62.194.51.29         1   \n",
       "3859   10/6/2021 16:08:39   10/6/2021 16:10:42  213.127.113.113         1   \n",
       "3860  10/15/2021 18:30:04  10/15/2021 18:35:40  213.127.109.191         1   \n",
       "3861  11/19/2021 17:49:17  11/19/2021 17:51:04  213.127.109.191         1   \n",
       "\n",
       "      Coder                                                 ID   Mark_ID  \\\n",
       "0         6  UgyPHwv8G0cDE6-wEgl4AaABAg.8_0ZjJKSJty8_0kXGkAd2U       119   \n",
       "1         6  Ugx2WXq9UdV8mPPjejJ4AaABAg.8yHCKV0Boe58yYRxEQEF45       282   \n",
       "2         6                                1110578710648890000       372   \n",
       "3         6  UgwUPFScjJ0MCeaP2F54AaABAg.8lvp3fc9Euf8lvvgsUgEgV       769   \n",
       "4         6  UgwWKCWtSJdFvjGHvTp4AaABAg.8kUC5dGrQ2H8kUDRihE2f3      1206   \n",
       "...     ...                                                ...       ...   \n",
       "3857      6                                1152219467579100000  10000695   \n",
       "3858      6                                1085362296472430000  10007008   \n",
       "3859      6        UghFY3QJ6nmT_ngCoAEC.7-H0Z7--wxd8goqpaPs-bl  20000102   \n",
       "3860      6                         UgyWabsmmnq3zam4DgZ4AaABAg  20000418   \n",
       "3861      6                         UgwPOHIDyICm10k0Mvx4AaABAg  20001003   \n",
       "\n",
       "      Genre  topiccode  Platform  ...  dislikeCount_video likeCount_video  \\\n",
       "0         0          0         1  ...                 NaN             NaN   \n",
       "1         1          2         1  ...               195.0          3817.0   \n",
       "2         2          4         2  ...                 NaN             NaN   \n",
       "3         0          0         1  ...                 NaN             NaN   \n",
       "4         0          0         1  ...                 NaN             NaN   \n",
       "...     ...        ...       ...  ...                 ...             ...   \n",
       "3857      0          4         2  ...                 NaN             NaN   \n",
       "3858      1          4         2  ...                 NaN             NaN   \n",
       "3859      0          3         1  ...              2820.0         12475.0   \n",
       "3860      2          3         1  ...               118.0         31761.0   \n",
       "3861      0          3         1  ...              1358.0          5740.0   \n",
       "\n",
       "      date_difference  commentCount_video  replyCount_comment    topic  \\\n",
       "0                 NaN                 NaN                 NaN      NaN   \n",
       "1               743.0              1748.0                 NaN  economy   \n",
       "2                 NaN                 NaN                 NaN      NaN   \n",
       "3                 NaN                 NaN                 NaN      NaN   \n",
       "4                 NaN                 NaN                 NaN      NaN   \n",
       "...               ...                 ...                 ...      ...   \n",
       "3857              NaN                 NaN                 NaN      NaN   \n",
       "3858              NaN                 NaN                 NaN      NaN   \n",
       "3859           3803.0              4785.0                 NaN     east   \n",
       "3860           1531.0              2206.0                 0.0     east   \n",
       "3861           2276.0              2887.0                 1.0     east   \n",
       "\n",
       "      subscribers  HATELIST_FOCUSED_DUMMY  Time_comment_year Time_video_year  \n",
       "0             NaN                       0               2017          2017.0  \n",
       "1       3630000.0                       0               2019          2019.0  \n",
       "2             NaN                       0               2019             NaN  \n",
       "3             NaN                       0               2018          2018.0  \n",
       "4             NaN                       0               2018          2018.0  \n",
       "...           ...                     ...                ...             ...  \n",
       "3857          NaN                       0               2019             NaN  \n",
       "3858          NaN                       0               2019             NaN  \n",
       "3859    6740000.0                       0               2018          2010.0  \n",
       "3860    6800000.0                       0               2018          2015.0  \n",
       "3861     549000.0                       0               2018          2018.0  \n",
       "\n",
       "[3862 rows x 79 columns]"
      ]
     },
     "execution_count": 3,
     "metadata": {},
     "output_type": "execute_result"
    }
   ],
   "source": [
    "dataset: pd.DataFrame = pd.read_csv('data/publicsphere/full_data.csv')\n",
    "dataset"
   ]
  },
  {
   "cell_type": "code",
   "execution_count": 4,
   "id": "cb09a206-f628-4a67-af7a-9cc28cac10c1",
   "metadata": {
    "ExecuteTime": {
     "end_time": "2024-05-15T14:55:04.922562Z",
     "start_time": "2024-05-15T14:55:04.915014Z"
    }
   },
   "outputs": [
    {
     "data": {
      "text/plain": [
       "dict_keys(['interactivity_acknowledgement', 'political_ideology', 'rationality_external_evidence', 'rationality_topic_relevance', 'political_negativity', 'rationality_background_info', 'rationality_reasoning'])"
      ]
     },
     "execution_count": 4,
     "metadata": {},
     "output_type": "execute_result"
    }
   ],
   "source": [
    "MODEL: str = \"llama3:70b-instruct-q6_K\"\n",
    "CFG.prompt_classify_files.keys()"
   ]
  },
  {
   "cell_type": "code",
   "execution_count": 11,
   "id": "c8625db6-d38d-43fa-b8ce-49acc83267da",
   "metadata": {
    "ExecuteTime": {
     "end_time": "2024-05-15T15:32:18.930415Z",
     "start_time": "2024-05-15T14:55:04.923771Z"
    }
   },
   "outputs": [
    {
     "name": "stderr",
     "output_type": "stream",
     "text": [
      "classifying interactivity_acknowledgement: 100%|██████████| 3862/3862 [43:52<00:00,  1.47it/s]  \n",
      "classifying political_ideology: 100%|██████████| 3862/3862 [42:18<00:00,  1.52it/s]  \n",
      "classifying rationality_external_evidence: 100%|██████████| 3862/3862 [42:38<00:00,  1.51it/s]  \n",
      "classifying rationality_topic_relevance: 100%|██████████| 3862/3862 [43:17<00:00,  1.49it/s]  \n",
      "classifying political_negativity: 100%|██████████| 3862/3862 [40:54<00:00,  1.57it/s]  \n",
      "classifying rationality_background_info: 100%|██████████| 3862/3862 [44:58<00:00,  1.43it/s]  \n",
      "classifying rationality_reasoning: 100%|██████████| 3862/3862 [52:02<00:00,  1.24it/s]  \n"
     ]
    }
   ],
   "source": [
    "predictions: typing.Dict[str, pd.Series] = {\n",
    "    label: (\n",
    "        src.PromptClassify\n",
    "        .from_json(path)\n",
    "        (dataset[\"commentText\"], MODEL)\n",
    "    )\n",
    "    for label, path in CFG.prompt_classify_files.items()\n",
    "}"
   ]
  },
  {
   "cell_type": "code",
   "execution_count": null,
   "id": "e3d65e3d",
   "metadata": {},
   "outputs": [],
   "source": [
    "predictions"
   ]
  },
  {
   "cell_type": "code",
   "execution_count": 12,
   "id": "0b787956-4e7b-4a22-9749-cf5a1ddb8266",
   "metadata": {
    "ExecuteTime": {
     "end_time": "2024-05-15T15:32:29.087478Z",
     "start_time": "2024-05-15T15:32:29.076700Z"
    }
   },
   "outputs": [
    {
     "name": "stdout",
     "output_type": "stream",
     "text": [
      "No     2526\n",
      "Yes    1332\n",
      "Name: interactivity_acknowledgement, dtype: int64\n",
      "------------------------------------------\n",
      "neutral         1750\n",
      "liberal         1325\n",
      "conservative     784\n",
      "Name: political_ideology, dtype: int64\n",
      "------------------------------------------\n",
      "No     3251\n",
      "Yes     600\n",
      "Name: rationality_external_evidence, dtype: int64\n",
      "------------------------------------------\n",
      "Yes    2555\n",
      "No     1303\n",
      "Name: rationality_topic_relevance, dtype: int64\n",
      "------------------------------------------\n",
      "political/negative        2560\n",
      "not political/negative    1297\n",
      "Name: political_negativity, dtype: int64\n",
      "------------------------------------------\n",
      "No     3158\n",
      "Yes     700\n",
      "Name: rationality_background_info, dtype: int64\n",
      "------------------------------------------\n",
      "No     2280\n",
      "Yes    1576\n",
      "Name: rationality_reasoning, dtype: int64\n",
      "------------------------------------------\n"
     ]
    }
   ],
   "source": [
    "dataset_w_pred = dataset.copy()\n",
    "\n",
    "for _, preds in predictions.items():\n",
    "    print(preds.value_counts())\n",
    "    print(\"-\" * 42)\n",
    "    dataset_w_pred = dataset_w_pred.join(preds)\n",
    "    "
   ]
  },
  {
   "cell_type": "code",
   "execution_count": null,
   "id": "9bd05ded-b29d-4ed5-bf04-dceb14ce0e39",
   "metadata": {
    "ExecuteTime": {
     "end_time": "2024-05-15T15:32:18.965519Z",
     "start_time": "2024-05-15T15:32:18.942627Z"
    }
   },
   "outputs": [],
   "source": [
    "dataset_w_pred.to_json(f'{CFG.report_dir}/publicsphere.prompt_classify.json', orient=\"records\", force_ascii=False, indent=4)\n",
    "dataset_w_pred.to_parquet(f'{CFG.report_dir}/publicsphere.prompt_classify.parquet')\n",
    "dataset_w_pred"
   ]
  },
  {
   "cell_type": "code",
   "execution_count": 5,
   "id": "657059b7",
   "metadata": {},
   "outputs": [],
   "source": [
    "MODELS: typing.Tuple[str, str] = [\n",
    "    (\"topics\", \"cardiffnlp/tweet-topic-21-multi\"),\n",
    "    (\"emotions\", \"cardiffnlp/twitter-roberta-base-emotion-multilabel-latest\"),\n",
    "    (\"sentiment\", \"cardiffnlp/twitter-roberta-base-sentiment-latest\"),\n",
    "    (\"irony\", \"cardiffnlp/twitter-roberta-base-irony\"),\n",
    "    (\"offensive\",  \"cardiffnlp/twitter-roberta-base-offensive\"),\n",
    "    (\"hate\", \"cardiffnlp/twitter-roberta-base-hate-latest\")\n",
    "]"
   ]
  },
  {
   "cell_type": "code",
   "execution_count": 4,
   "id": "a445c413",
   "metadata": {},
   "outputs": [],
   "source": [
    "Cardiff_predictions: typing.Dict[str, pd.Series] = {}"
   ]
  },
  {
   "cell_type": "code",
   "execution_count": null,
   "id": "c4761f29",
   "metadata": {},
   "outputs": [],
   "source": [
    "for label, model in MODELS:\n",
    "    classifier = src.HFClassify(slug=model)\n",
    "    Cardiff_predictions[label] = pd.Series(classifier(dataset[\"commentText\"], theta=0.4))"
   ]
  },
  {
   "cell_type": "code",
   "execution_count": 7,
   "id": "416eb83a",
   "metadata": {},
   "outputs": [
    {
     "data": {
      "text/plain": [
       "{'offensive': 0       {offensive, non-offensive}\n",
       " 1       {offensive, non-offensive}\n",
       " 2                  {non-offensive}\n",
       " 3                  {non-offensive}\n",
       " 4                  {non-offensive}\n",
       "                    ...            \n",
       " 3857               {non-offensive}\n",
       " 3858               {non-offensive}\n",
       " 3859               {non-offensive}\n",
       " 3860               {non-offensive}\n",
       " 3861               {non-offensive}\n",
       " Length: 3862, dtype: object}"
      ]
     },
     "execution_count": 7,
     "metadata": {},
     "output_type": "execute_result"
    }
   ],
   "source": [
    "Cardiff_predictions"
   ]
  },
  {
   "cell_type": "code",
   "execution_count": 8,
   "id": "68efb3ee",
   "metadata": {},
   "outputs": [
    {
     "data": {
      "text/plain": [
       "'offensive'"
      ]
     },
     "metadata": {},
     "output_type": "display_data"
    },
    {
     "data": {
      "text/plain": [
       "{non-offensive}               2066\n",
       "{offensive, non-offensive}    1158\n",
       "{offensive}                    638\n",
       "Name: count, dtype: int64"
      ]
     },
     "metadata": {},
     "output_type": "display_data"
    }
   ],
   "source": [
    "for label, series in Cardiff_predictions.items():\n",
    "    display(label)\n",
    "    display(series.value_counts())"
   ]
  },
  {
   "cell_type": "code",
   "execution_count": null,
   "id": "d368b736",
   "metadata": {},
   "outputs": [],
   "source": [
    "dataset_w_pred = pd.read_parquet(f'{CFG.report_dir}/publicsphere.cardiff_prompt_classify.parquet')\n",
    "\n",
    "for labels, preds in Cardiff_predictions.items():\n",
    "    dataset_w_pred_2 = dataset_w_pred.join(preds.rename(labels))\n",
    "\n",
    "dataset_w_pred_2"
   ]
  },
  {
   "cell_type": "code",
   "execution_count": 24,
   "id": "329c3776",
   "metadata": {},
   "outputs": [],
   "source": [
    "dataset_w_pred_2.loc[:, 'offensive'] = dataset_w_pred_2.loc[:, 'offensive'].astype('str').astype('category')"
   ]
  },
  {
   "cell_type": "code",
   "execution_count": 26,
   "id": "f37e500e",
   "metadata": {},
   "outputs": [],
   "source": [
    "dataset_w_pred_2.to_json(f'{CFG.report_dir}/publicsphere.cardiff_prompt_classify_2.json', orient=\"records\", force_ascii=False, indent=4)\n",
    "dataset_w_pred_2.to_parquet(f'{CFG.report_dir}/publicsphere.cardiff_prompt_classify_2.parquet')"
   ]
  },
  {
   "cell_type": "code",
   "execution_count": 7,
   "id": "22e30167",
   "metadata": {},
   "outputs": [],
   "source": [
    "#anonymize:\n",
    "dataset_w_pred_anon = pd.read_parquet(f'{CFG.report_dir}/publicsphere.cardiff_prompt_classify_s.parquet')\n",
    "dataset_w_pred_anon = dataset_w_pred_anon.drop('commentText', axis=1)\n"
   ]
  },
  {
   "cell_type": "code",
   "execution_count": 8,
   "id": "a28a4fc5",
   "metadata": {},
   "outputs": [],
   "source": [
    "dataset_w_pred_anon.to_json(f'{CFG.report_dir}/publicsphere.cardiff_prompt_classify_anon.json', orient=\"records\", force_ascii=False, indent=4)\n",
    "dataset_w_pred_anon.to_parquet(f'{CFG.report_dir}/publicsphere.cardiff_prompt_classify_anon.parquet')"
   ]
  },
  {
   "cell_type": "code",
   "execution_count": null,
   "id": "f548aace",
   "metadata": {},
   "outputs": [],
   "source": []
  }
 ],
 "metadata": {
  "kernelspec": {
   "display_name": "Python 3 (ipykernel)",
   "language": "python",
   "name": "python3"
  },
  "language_info": {
   "codemirror_mode": {
    "name": "ipython",
    "version": 3
   },
   "file_extension": ".py",
   "mimetype": "text/x-python",
   "name": "python",
   "nbconvert_exporter": "python",
   "pygments_lexer": "ipython3",
   "version": "3.12.4"
  }
 },
 "nbformat": 4,
 "nbformat_minor": 5
}
