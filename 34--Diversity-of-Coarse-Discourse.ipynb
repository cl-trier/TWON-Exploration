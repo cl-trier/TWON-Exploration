{
 "cells": [
  {
   "cell_type": "code",
   "execution_count": 1,
   "metadata": {},
   "outputs": [
    {
     "name": "stderr",
     "output_type": "stream",
     "text": [
      "[nltk_data] Downloading package stopwords to\n",
      "[nltk_data]     /home/sstolwijk/nltk_data...\n",
      "[nltk_data]   Package stopwords is already up-to-date!\n",
      "[nltk_data] Downloading package wordnet to\n",
      "[nltk_data]     /home/sstolwijk/nltk_data...\n",
      "[nltk_data]   Package wordnet is already up-to-date!\n",
      "/home/sstolwijk/.local/lib/python3.8/site-packages/tqdm/auto.py:21: TqdmWarning: IProgress not found. Please update jupyter and ipywidgets. See https://ipywidgets.readthedocs.io/en/stable/user_install.html\n",
      "  from .autonotebook import tqdm as notebook_tqdm\n"
     ]
    }
   ],
   "source": [
    "import typing\n",
    "\n",
    "import pandas as pd\n",
    "import nltk\n",
    "from nltk.corpus import stopwords\n",
    "from nltk.stem import WordNetLemmatizer\n",
    "from tqdm import tqdm\n",
    "import re\n",
    "\n",
    "from sklearn.feature_extraction.text import TfidfVectorizer\n",
    "nltk.download('stopwords')\n",
    "nltk.download('wordnet')\n",
    "\n",
    "from sklearn.metrics.pairwise import cosine_similarity\n",
    "import config\n",
    "import src\n",
    "import requests\n",
    "import tqdm\n",
    "import json\n",
    "import numpy as np\n",
    "import logging\n",
    "import torch\n",
    "device = torch.device('cpu')\n",
    "from transformers import AutoTokenizer, AutoModel\n",
    "#import cltrier_lib as lib\n",
    "\n",
    "import yaml"
   ]
  },
  {
   "cell_type": "code",
   "execution_count": 2,
   "metadata": {},
   "outputs": [],
   "source": [
    "CFG = config.Config()"
   ]
  },
  {
   "cell_type": "code",
   "execution_count": 47,
   "metadata": {},
   "outputs": [],
   "source": [
    "pd.set_option('display.max_colwidth', 100) "
   ]
  },
  {
   "cell_type": "code",
   "execution_count": 3,
   "metadata": {},
   "outputs": [
    {
     "data": {
      "text/html": [
       "<div>\n",
       "<style scoped>\n",
       "    .dataframe tbody tr th:only-of-type {\n",
       "        vertical-align: middle;\n",
       "    }\n",
       "\n",
       "    .dataframe tbody tr th {\n",
       "        vertical-align: top;\n",
       "    }\n",
       "\n",
       "    .dataframe thead th {\n",
       "        text-align: right;\n",
       "    }\n",
       "</style>\n",
       "<table border=\"1\" class=\"dataframe\">\n",
       "  <thead>\n",
       "    <tr style=\"text-align: right;\">\n",
       "      <th></th>\n",
       "      <th>id</th>\n",
       "      <th>body</th>\n",
       "      <th>subreddit</th>\n",
       "      <th>thread_title</th>\n",
       "      <th>majority_link</th>\n",
       "      <th>majority_type</th>\n",
       "      <th>is_first_post</th>\n",
       "      <th>post_depth</th>\n",
       "      <th>author</th>\n",
       "    </tr>\n",
       "  </thead>\n",
       "  <tbody>\n",
       "    <tr>\n",
       "      <th>0</th>\n",
       "      <td>t3_1bx6qw</td>\n",
       "      <td>[removed]</td>\n",
       "      <td>100movies365days</td>\n",
       "      <td>DTX120: #87 - Nashville</td>\n",
       "      <td>none</td>\n",
       "      <td>announcement</td>\n",
       "      <td>True</td>\n",
       "      <td>NaN</td>\n",
       "      <td>None</td>\n",
       "    </tr>\n",
       "    <tr>\n",
       "      <th>1</th>\n",
       "      <td>t1_c9b2nyd</td>\n",
       "      <td>I've wanted to watch this for a long time. I w...</td>\n",
       "      <td>100movies365days</td>\n",
       "      <td>DTX120: #87 - Nashville</td>\n",
       "      <td>t3_1bx6qw</td>\n",
       "      <td>elaboration</td>\n",
       "      <td>None</td>\n",
       "      <td>1.0</td>\n",
       "      <td>mcgrewf10</td>\n",
       "    </tr>\n",
       "    <tr>\n",
       "      <th>2</th>\n",
       "      <td>t1_c9b30i1</td>\n",
       "      <td>You strike me as the type who would appreciate...</td>\n",
       "      <td>100movies365days</td>\n",
       "      <td>DTX120: #87 - Nashville</td>\n",
       "      <td>t1_c9b2nyd</td>\n",
       "      <td>elaboration</td>\n",
       "      <td>None</td>\n",
       "      <td>2.0</td>\n",
       "      <td>None</td>\n",
       "    </tr>\n",
       "    <tr>\n",
       "      <th>3</th>\n",
       "      <td>t1_c9b6sj0</td>\n",
       "      <td>Yeah, I've always heard that Altman was famous...</td>\n",
       "      <td>100movies365days</td>\n",
       "      <td>DTX120: #87 - Nashville</td>\n",
       "      <td>t1_c9b30i1</td>\n",
       "      <td>elaboration</td>\n",
       "      <td>None</td>\n",
       "      <td>3.0</td>\n",
       "      <td>mcgrewf10</td>\n",
       "    </tr>\n",
       "    <tr>\n",
       "      <th>4</th>\n",
       "      <td>t3_omv7p</td>\n",
       "      <td>Alright guys, little background about myself. ...</td>\n",
       "      <td>100sets</td>\n",
       "      <td>Male, 23 years old. Going for 100 sets!</td>\n",
       "      <td>none</td>\n",
       "      <td>announcement</td>\n",
       "      <td>True</td>\n",
       "      <td>NaN</td>\n",
       "      <td>Keatonus</td>\n",
       "    </tr>\n",
       "    <tr>\n",
       "      <th>...</th>\n",
       "      <td>...</td>\n",
       "      <td>...</td>\n",
       "      <td>...</td>\n",
       "      <td>...</td>\n",
       "      <td>...</td>\n",
       "      <td>...</td>\n",
       "      <td>...</td>\n",
       "      <td>...</td>\n",
       "      <td>...</td>\n",
       "    </tr>\n",
       "    <tr>\n",
       "      <th>116352</th>\n",
       "      <td>t1_d0mhap4</td>\n",
       "      <td>I didn't notice it until it was too late. What...</td>\n",
       "      <td>zootopia</td>\n",
       "      <td>Frozen 2</td>\n",
       "      <td>t3_48toyo</td>\n",
       "      <td>answer</td>\n",
       "      <td>None</td>\n",
       "      <td>1.0</td>\n",
       "      <td>Portgas</td>\n",
       "    </tr>\n",
       "    <tr>\n",
       "      <th>116353</th>\n",
       "      <td>t1_d0n2wdx</td>\n",
       "      <td>I don't know, it was to quick.\\nI just liked t...</td>\n",
       "      <td>zootopia</td>\n",
       "      <td>Frozen 2</td>\n",
       "      <td>t1_d0mhap4</td>\n",
       "      <td>answer</td>\n",
       "      <td>None</td>\n",
       "      <td>2.0</td>\n",
       "      <td>Pradfanne</td>\n",
       "    </tr>\n",
       "    <tr>\n",
       "      <th>116354</th>\n",
       "      <td>t1_d0msypp</td>\n",
       "      <td>The Frozen parody was on the right edge of the...</td>\n",
       "      <td>zootopia</td>\n",
       "      <td>Frozen 2</td>\n",
       "      <td>t1_d0mhap4</td>\n",
       "      <td>answer</td>\n",
       "      <td>None</td>\n",
       "      <td>2.0</td>\n",
       "      <td>SaucyServine</td>\n",
       "    </tr>\n",
       "    <tr>\n",
       "      <th>116355</th>\n",
       "      <td>t1_d0n4bpa</td>\n",
       "      <td>Much rather see more zootopia.</td>\n",
       "      <td>zootopia</td>\n",
       "      <td>Frozen 2</td>\n",
       "      <td>t3_48toyo</td>\n",
       "      <td>None</td>\n",
       "      <td>None</td>\n",
       "      <td>1.0</td>\n",
       "      <td>Jackofdemons</td>\n",
       "    </tr>\n",
       "    <tr>\n",
       "      <th>116356</th>\n",
       "      <td>t1_d0n92qp</td>\n",
       "      <td>There's a bunch of references in that one scen...</td>\n",
       "      <td>zootopia</td>\n",
       "      <td>Frozen 2</td>\n",
       "      <td>t3_48toyo</td>\n",
       "      <td>elaboration</td>\n",
       "      <td>None</td>\n",
       "      <td>1.0</td>\n",
       "      <td>thawed_caveman</td>\n",
       "    </tr>\n",
       "  </tbody>\n",
       "</table>\n",
       "<p>116357 rows × 9 columns</p>\n",
       "</div>"
      ],
      "text/plain": [
       "                id                                               body  \\\n",
       "0        t3_1bx6qw                                          [removed]   \n",
       "1       t1_c9b2nyd  I've wanted to watch this for a long time. I w...   \n",
       "2       t1_c9b30i1  You strike me as the type who would appreciate...   \n",
       "3       t1_c9b6sj0  Yeah, I've always heard that Altman was famous...   \n",
       "4         t3_omv7p  Alright guys, little background about myself. ...   \n",
       "...            ...                                                ...   \n",
       "116352  t1_d0mhap4  I didn't notice it until it was too late. What...   \n",
       "116353  t1_d0n2wdx  I don't know, it was to quick.\\nI just liked t...   \n",
       "116354  t1_d0msypp  The Frozen parody was on the right edge of the...   \n",
       "116355  t1_d0n4bpa                     Much rather see more zootopia.   \n",
       "116356  t1_d0n92qp  There's a bunch of references in that one scen...   \n",
       "\n",
       "               subreddit                             thread_title  \\\n",
       "0       100movies365days                  DTX120: #87 - Nashville   \n",
       "1       100movies365days                  DTX120: #87 - Nashville   \n",
       "2       100movies365days                  DTX120: #87 - Nashville   \n",
       "3       100movies365days                  DTX120: #87 - Nashville   \n",
       "4                100sets  Male, 23 years old. Going for 100 sets!   \n",
       "...                  ...                                      ...   \n",
       "116352          zootopia                                 Frozen 2   \n",
       "116353          zootopia                                 Frozen 2   \n",
       "116354          zootopia                                 Frozen 2   \n",
       "116355          zootopia                                 Frozen 2   \n",
       "116356          zootopia                                 Frozen 2   \n",
       "\n",
       "       majority_link majority_type is_first_post  post_depth          author  \n",
       "0               none  announcement          True         NaN            None  \n",
       "1          t3_1bx6qw   elaboration          None         1.0       mcgrewf10  \n",
       "2         t1_c9b2nyd   elaboration          None         2.0            None  \n",
       "3         t1_c9b30i1   elaboration          None         3.0       mcgrewf10  \n",
       "4               none  announcement          True         NaN        Keatonus  \n",
       "...              ...           ...           ...         ...             ...  \n",
       "116352     t3_48toyo        answer          None         1.0         Portgas  \n",
       "116353    t1_d0mhap4        answer          None         2.0       Pradfanne  \n",
       "116354    t1_d0mhap4        answer          None         2.0    SaucyServine  \n",
       "116355     t3_48toyo          None          None         1.0    Jackofdemons  \n",
       "116356     t3_48toyo   elaboration          None         1.0  thawed_caveman  \n",
       "\n",
       "[116357 rows x 9 columns]"
      ]
     },
     "execution_count": 3,
     "metadata": {},
     "output_type": "execute_result"
    }
   ],
   "source": [
    "#load data\n",
    "reddit: pd.DataFrame = pd.read_parquet('data/Coarse_discourse_Reddit/redditdata.parquet') \n",
    "reddit"
   ]
  },
  {
   "cell_type": "code",
   "execution_count": 19,
   "metadata": {},
   "outputs": [],
   "source": [
    "#clean empty body, when body is [removed] or [deleted]:\n",
    "reddit['body'] = reddit['body'].replace('[deleted]', '').replace('[removed]', '')"
   ]
  },
  {
   "cell_type": "code",
   "execution_count": 5,
   "metadata": {},
   "outputs": [],
   "source": [
    "#change options to low temperature (0,1) and compare result:\n",
    "options_low = \"\"\"\n",
    "seed: 42\n",
    "temperature: 0.1\n",
    "\"\"\"\n",
    "\n",
    "options_low = yaml.safe_load(options_low)"
   ]
  },
  {
   "cell_type": "code",
   "execution_count": 6,
   "metadata": {},
   "outputs": [],
   "source": [
    "SYSTEM_claim: str = \\\n",
    "    \"\"\"\n",
    "        Instruction:\n",
    "\n",
    "        You are a text annotation assistant. Analyze a collection of social media comments enclosed in chevrons <..>. Identify and list the claims within these comments. Claims can be related to events, issues, opinions or concerns in relation to the specified topic.\n",
    "        Claims are defined as the main assertion or conclusion of an argument.\n",
    "        You summarize each claim into a short simple sentence.\n",
    "\n",
    "        Response format:\n",
    "\n",
    "        You provide only the list of claims, separated by commas, without any additional text or explanations. If no claims can be identified, return an empty list [].\n",
    "\n",
    "        Response format template:\n",
    "        \n",
    "        [\"claim 1\", \"claim 2\", ... \"claim x\"]\n",
    "\t\"\"\""
   ]
  },
  {
   "cell_type": "code",
   "execution_count": 7,
   "metadata": {},
   "outputs": [],
   "source": [
    "MODEL: str = 'llama3.1:70b-instruct-q6_K'  # options: 'gemma:7b-instruct-q6_K', 'gemma2:27b-instruct-q6_K', 'llama3.1:8b-instruct-q6_K', 'llama3.1:70b-instruct-q6_K', 'mistral:7b-instruct-v0.3-q6_K', 'mistral-large:123b-instruct-2407-q6_K', 'mixtral:8x7b-instruct-v0.1-q6_K', 'mixtral:8x22b-instruct-v0.1-q6_K', 'phi3:14b-medium-128k-instruct-q6_K' or 'qwen2:72b-instruct-q6_K'\n"
   ]
  },
  {
   "cell_type": "code",
   "execution_count": 20,
   "metadata": {},
   "outputs": [
    {
     "data": {
      "text/plain": [
       "{'id': '9b17444a-816a-11ef-8a91-0d8e6fdd3d4b',\n",
       " 'timestamp': '2024-10-03T09:33:54.028673',\n",
       " 'model': 'llama3.1:70b-instruct-q6_K',\n",
       " 'prompt': [{'role': 'system',\n",
       "   'content': '\\n        Instruction:\\n\\n        You are a text annotation assistant. Analyze a collection of social media comments enclosed in chevrons <..>. Identify and list the claims within these comments. Claims can be related to events, issues, opinions or concerns in relation to the specified topic.\\n        Claims are defined as the main assertion or conclusion of an argument.\\n        You summarize each claim into a short simple sentence.\\n\\n        Response format:\\n\\n        You provide only the list of claims, separated by commas, without any additional text or explanations. If no claims can be identified, return an empty list [].\\n\\n        Response format template:\\n        \\n        [\"claim 1\", \"claim 2\", ... \"claim x\"]\\n\\t'},\n",
       "  {'role': 'user',\n",
       "   'content': 'The following set of social media posts are replies to a news- or infotainment-post. Check whether your answer only consists of a list of claims. \\n\"Posts\":\\n<You strike me as the type who would appreciate it. I would give it a go. This is also my first Altman film so I didn\\'t really know what to expect, except that people always compare PTA\\'s Boogie Nights and Magnolia as being influenced by Altman. Magnolia is probably the best analog in terms of structure (having no lead character) but it is stylistically very different, much more melodramatic and transparently earnest. >'}],\n",
       " 'response': '[\"Magnolia has a similar structure to Altman\\'s films\", \"Boogie Nights was influenced by Altman\", \"Magnolia is stylistically different from Altman\\'s films\"]'}"
      ]
     },
     "execution_count": 20,
     "metadata": {},
     "output_type": "execute_result"
    }
   ],
   "source": [
    "requests.post(\n",
    "                            'https://inf.cl.uni-trier.de/',\n",
    "                            json={\n",
    "                                'model': MODEL,\n",
    "                                'system': SYSTEM_claim,\n",
    "                                'prompt': f'The following set of social media posts are replies to a news- or infotainment-post. '\n",
    "                                        + f'Check whether your answer only consists of a list of claims. \\n\"Posts\":\\n<{reddit[\"body\"][2]}>',\n",
    "                                'options': options_low\n",
    "                                }).json()"
   ]
  },
  {
   "cell_type": "code",
   "execution_count": 36,
   "metadata": {},
   "outputs": [],
   "source": [
    "#note these reddit comments are not necessarily replies to news or infotainment... perhaps adjust the context?\n",
    "#also they are parsed sequentially not in batches/collections"
   ]
  },
  {
   "cell_type": "code",
   "execution_count": 21,
   "metadata": {},
   "outputs": [],
   "source": [
    "reddit3000=reddit[:3000]"
   ]
  },
  {
   "cell_type": "code",
   "execution_count": 22,
   "metadata": {},
   "outputs": [
    {
     "name": "stderr",
     "output_type": "stream",
     "text": [
      "3000it [1:45:01,  2.10s/it]\n"
     ]
    }
   ],
   "source": [
    "#test low temperature claims per comment:\n",
    "chunked_result: typing.List[pd.DataFrame] = []\n",
    "for index, row in tqdm.tqdm(reddit3000.iterrows()):\n",
    "    try: \n",
    "        chunked_result.append(\n",
    "            pd.DataFrame(\n",
    "                data=[\n",
    "                    requests.post(\n",
    "                        'https://inf.cl.uni-trier.de/',\n",
    "                        json={\n",
    "                            'model': MODEL,\n",
    "                            'system': SYSTEM_claim,\n",
    "                            'prompt': f'The following set of social media posts are replies to a news- or infotainment-post. '\n",
    "                                    + f'Check whether your answer strictly adheres to the specified format. \\n\"Posts\":\\n<{row[\"body\"]}>',\n",
    "                            'options': options_low\n",
    "                            }).json()['response']                       \n",
    "                ],\n",
    "                columns=['claims']\n",
    "            )\n",
    "        )\n",
    "        \n",
    "    except json.JSONDecodeError:\n",
    "        print(\"invalid json response, skipping to next batch\")"
   ]
  },
  {
   "cell_type": "code",
   "execution_count": 23,
   "metadata": {},
   "outputs": [
    {
     "data": {
      "text/plain": [
       "[  claims\n",
       " 0     [],\n",
       "                                                                                                                  claims\n",
       " 0  [\"The user has wanted to watch something for a long time\", \"The country western aspect of something is off-putting\"],\n",
       "                                                                                                                                   claims\n",
       " 0  [\"Magnolia has a similar structure to Altman's films with no lead character\", \"Boogie Nights and Magnolia were influenced by Altman\"],\n",
       "                                                                                   claims\n",
       " 0  [\"Altman is famous for his ensemble casts\", \"The user has never seen an Altman film\"],\n",
       "                                                                                                                                                                                          claims\n",
       " 0  [\"The writer has had modest success with women in the past\", \"The writer lacks killer instinct and extreme alpha attitude\", \"The writer's goal is to approach 100 sets by the end of April\"]]"
      ]
     },
     "execution_count": 23,
     "metadata": {},
     "output_type": "execute_result"
    }
   ],
   "source": [
    "chunked_result[:5]"
   ]
  },
  {
   "cell_type": "code",
   "execution_count": 24,
   "metadata": {},
   "outputs": [
    {
     "name": "stdout",
     "output_type": "stream",
     "text": [
      "                                                                                                                                                                                            claims\n",
      "0                                                                                                                                                                                               []\n",
      "1                                                                             [\"The user has wanted to watch something for a long time\", \"The country western aspect of something is off-putting\"]\n",
      "2                                                            [\"Magnolia has a similar structure to Altman's films with no lead character\", \"Boogie Nights and Magnolia were influenced by Altman\"]\n",
      "3                                                                                                            [\"Altman is famous for his ensemble casts\", \"The user has never seen an Altman film\"]\n",
      "4     [\"The writer has had modest success with women in the past\", \"The writer lacks killer instinct and extreme alpha attitude\", \"The writer's goal is to approach 100 sets by the end of April\"]\n",
      "...                                                                                                                                                                                            ...\n",
      "2995                                                                      [\"The user loves water\", \"The user's second choice is Arnold Palmers\", \"The user's preferred cocktail is Jack and Coke\"]\n",
      "2996                                                                                                                                                                                            []\n",
      "2997                                                                                                                                                                                            []\n",
      "2998                                                                        [\"The user prefers Manhattan and Maker's Mark\", \"The user likes gin & tonic or martini with Hendrick's when it's hot\"]\n",
      "2999                                                                                                                                                                                            []\n",
      "\n",
      "[3000 rows x 1 columns]\n"
     ]
    }
   ],
   "source": [
    "claim_low = pd.concat(chunked_result, ignore_index=True)\n",
    "print(claim_low)"
   ]
  },
  {
   "cell_type": "code",
   "execution_count": 25,
   "metadata": {},
   "outputs": [
    {
     "data": {
      "text/html": [
       "<div>\n",
       "<style scoped>\n",
       "    .dataframe tbody tr th:only-of-type {\n",
       "        vertical-align: middle;\n",
       "    }\n",
       "\n",
       "    .dataframe tbody tr th {\n",
       "        vertical-align: top;\n",
       "    }\n",
       "\n",
       "    .dataframe thead th {\n",
       "        text-align: right;\n",
       "    }\n",
       "</style>\n",
       "<table border=\"1\" class=\"dataframe\">\n",
       "  <thead>\n",
       "    <tr style=\"text-align: right;\">\n",
       "      <th></th>\n",
       "      <th>claims</th>\n",
       "    </tr>\n",
       "  </thead>\n",
       "  <tbody>\n",
       "    <tr>\n",
       "      <th>0</th>\n",
       "      <td>[]</td>\n",
       "    </tr>\n",
       "    <tr>\n",
       "      <th>1</th>\n",
       "      <td>[\"The user has wanted to watch something for a long time\", \"The country western aspect of something is off-putting\"]</td>\n",
       "    </tr>\n",
       "    <tr>\n",
       "      <th>2</th>\n",
       "      <td>[\"Magnolia has a similar structure to Altman's films with no lead character\", \"Boogie Nights and Magnolia were influenced by Altman\"]</td>\n",
       "    </tr>\n",
       "    <tr>\n",
       "      <th>3</th>\n",
       "      <td>[\"Altman is famous for his ensemble casts\", \"The user has never seen an Altman film\"]</td>\n",
       "    </tr>\n",
       "    <tr>\n",
       "      <th>4</th>\n",
       "      <td>[\"The writer has had modest success with women in the past\", \"The writer lacks killer instinct and extreme alpha attitude\", \"The writer's goal is to approach 100 sets by the end of April\"]</td>\n",
       "    </tr>\n",
       "  </tbody>\n",
       "</table>\n",
       "</div>"
      ],
      "text/plain": [
       "                                                                                                                                                                                         claims\n",
       "0                                                                                                                                                                                            []\n",
       "1                                                                          [\"The user has wanted to watch something for a long time\", \"The country western aspect of something is off-putting\"]\n",
       "2                                                         [\"Magnolia has a similar structure to Altman's films with no lead character\", \"Boogie Nights and Magnolia were influenced by Altman\"]\n",
       "3                                                                                                         [\"Altman is famous for his ensemble casts\", \"The user has never seen an Altman film\"]\n",
       "4  [\"The writer has had modest success with women in the past\", \"The writer lacks killer instinct and extreme alpha attitude\", \"The writer's goal is to approach 100 sets by the end of April\"]"
      ]
     },
     "execution_count": 25,
     "metadata": {},
     "output_type": "execute_result"
    }
   ],
   "source": [
    "claim_low.head()"
   ]
  },
  {
   "cell_type": "code",
   "execution_count": 26,
   "metadata": {},
   "outputs": [
    {
     "data": {
      "text/html": [
       "<div>\n",
       "<style scoped>\n",
       "    .dataframe tbody tr th:only-of-type {\n",
       "        vertical-align: middle;\n",
       "    }\n",
       "\n",
       "    .dataframe tbody tr th {\n",
       "        vertical-align: top;\n",
       "    }\n",
       "\n",
       "    .dataframe thead th {\n",
       "        text-align: right;\n",
       "    }\n",
       "</style>\n",
       "<table border=\"1\" class=\"dataframe\">\n",
       "  <thead>\n",
       "    <tr style=\"text-align: right;\">\n",
       "      <th></th>\n",
       "      <th>id</th>\n",
       "      <th>body</th>\n",
       "      <th>subreddit</th>\n",
       "      <th>thread_title</th>\n",
       "      <th>majority_link</th>\n",
       "      <th>majority_type</th>\n",
       "      <th>is_first_post</th>\n",
       "      <th>post_depth</th>\n",
       "      <th>author</th>\n",
       "    </tr>\n",
       "  </thead>\n",
       "  <tbody>\n",
       "    <tr>\n",
       "      <th>0</th>\n",
       "      <td>t3_1bx6qw</td>\n",
       "      <td></td>\n",
       "      <td>100movies365days</td>\n",
       "      <td>DTX120: #87 - Nashville</td>\n",
       "      <td>none</td>\n",
       "      <td>announcement</td>\n",
       "      <td>True</td>\n",
       "      <td>NaN</td>\n",
       "      <td>None</td>\n",
       "    </tr>\n",
       "    <tr>\n",
       "      <th>1</th>\n",
       "      <td>t1_c9b2nyd</td>\n",
       "      <td>I've wanted to watch this for a long time. I was also turned off by the country western aspect.</td>\n",
       "      <td>100movies365days</td>\n",
       "      <td>DTX120: #87 - Nashville</td>\n",
       "      <td>t3_1bx6qw</td>\n",
       "      <td>elaboration</td>\n",
       "      <td>None</td>\n",
       "      <td>1.0</td>\n",
       "      <td>mcgrewf10</td>\n",
       "    </tr>\n",
       "    <tr>\n",
       "      <th>2</th>\n",
       "      <td>t1_c9b30i1</td>\n",
       "      <td>You strike me as the type who would appreciate it. I would give it a go. This is also my first Altman film so I didn't really know what to expect, except that people always compare PTA's Boogie Nights and Magnolia as being influenced by Altman. Magnolia is probably the best analog in terms of structure (having no lead character) but it is stylistically very different, much more melodramatic and transparently earnest.</td>\n",
       "      <td>100movies365days</td>\n",
       "      <td>DTX120: #87 - Nashville</td>\n",
       "      <td>t1_c9b2nyd</td>\n",
       "      <td>elaboration</td>\n",
       "      <td>None</td>\n",
       "      <td>2.0</td>\n",
       "      <td>None</td>\n",
       "    </tr>\n",
       "    <tr>\n",
       "      <th>3</th>\n",
       "      <td>t1_c9b6sj0</td>\n",
       "      <td>Yeah, I've always heard that Altman was famous for his ensemble casts. But I, too, have never seen an Altman.</td>\n",
       "      <td>100movies365days</td>\n",
       "      <td>DTX120: #87 - Nashville</td>\n",
       "      <td>t1_c9b30i1</td>\n",
       "      <td>elaboration</td>\n",
       "      <td>None</td>\n",
       "      <td>3.0</td>\n",
       "      <td>mcgrewf10</td>\n",
       "    </tr>\n",
       "    <tr>\n",
       "      <th>4</th>\n",
       "      <td>t3_omv7p</td>\n",
       "      <td>Alright guys, little background about myself. I'm a good looking, 23 year old male, have had modest success in the past with women, but have decided that modest just isn't good enough anymore.\\n\\nThe problem has never been a lack of attention, or opportunity. It's just been not having the killer instinct and extreme AA, to the point where women will basically EYE FUCK me, and I still don't have the testicular fortitude to say anything unless they say something first.\\n\\nMy goal is to approach 100 sets by the end of April, and hopefully break my AA.</td>\n",
       "      <td>100sets</td>\n",
       "      <td>Male, 23 years old. Going for 100 sets!</td>\n",
       "      <td>none</td>\n",
       "      <td>announcement</td>\n",
       "      <td>True</td>\n",
       "      <td>NaN</td>\n",
       "      <td>Keatonus</td>\n",
       "    </tr>\n",
       "  </tbody>\n",
       "</table>\n",
       "</div>"
      ],
      "text/plain": [
       "           id  \\\n",
       "0   t3_1bx6qw   \n",
       "1  t1_c9b2nyd   \n",
       "2  t1_c9b30i1   \n",
       "3  t1_c9b6sj0   \n",
       "4    t3_omv7p   \n",
       "\n",
       "                                                                                                                                                                                                                                                                                                                                                                                                                                                                                                                                                                         body  \\\n",
       "0                                                                                                                                                                                                                                                                                                                                                                                                                                                                                                                                                                               \n",
       "1                                                                                                                                                                                                                                                                                                                                                                                                                                                                             I've wanted to watch this for a long time. I was also turned off by the country western aspect.   \n",
       "2                                                                                                                                       You strike me as the type who would appreciate it. I would give it a go. This is also my first Altman film so I didn't really know what to expect, except that people always compare PTA's Boogie Nights and Magnolia as being influenced by Altman. Magnolia is probably the best analog in terms of structure (having no lead character) but it is stylistically very different, much more melodramatic and transparently earnest.    \n",
       "3                                                                                                                                                                                                                                                                                                                                                                                                                                                               Yeah, I've always heard that Altman was famous for his ensemble casts. But I, too, have never seen an Altman.   \n",
       "4  Alright guys, little background about myself. I'm a good looking, 23 year old male, have had modest success in the past with women, but have decided that modest just isn't good enough anymore.\\n\\nThe problem has never been a lack of attention, or opportunity. It's just been not having the killer instinct and extreme AA, to the point where women will basically EYE FUCK me, and I still don't have the testicular fortitude to say anything unless they say something first.\\n\\nMy goal is to approach 100 sets by the end of April, and hopefully break my AA.   \n",
       "\n",
       "          subreddit                             thread_title majority_link  \\\n",
       "0  100movies365days                  DTX120: #87 - Nashville          none   \n",
       "1  100movies365days                  DTX120: #87 - Nashville     t3_1bx6qw   \n",
       "2  100movies365days                  DTX120: #87 - Nashville    t1_c9b2nyd   \n",
       "3  100movies365days                  DTX120: #87 - Nashville    t1_c9b30i1   \n",
       "4           100sets  Male, 23 years old. Going for 100 sets!          none   \n",
       "\n",
       "  majority_type is_first_post  post_depth     author  \n",
       "0  announcement          True         NaN       None  \n",
       "1   elaboration          None         1.0  mcgrewf10  \n",
       "2   elaboration          None         2.0       None  \n",
       "3   elaboration          None         3.0  mcgrewf10  \n",
       "4  announcement          True         NaN   Keatonus  "
      ]
     },
     "execution_count": 26,
     "metadata": {},
     "output_type": "execute_result"
    }
   ],
   "source": [
    "reddit3000.head()"
   ]
  },
  {
   "cell_type": "code",
   "execution_count": 27,
   "metadata": {},
   "outputs": [
    {
     "name": "stderr",
     "output_type": "stream",
     "text": [
      "/tmp/ipykernel_1255/2298628496.py:1: SettingWithCopyWarning: \n",
      "A value is trying to be set on a copy of a slice from a DataFrame.\n",
      "Try using .loc[row_indexer,col_indexer] = value instead\n",
      "\n",
      "See the caveats in the documentation: https://pandas.pydata.org/pandas-docs/stable/user_guide/indexing.html#returning-a-view-versus-a-copy\n",
      "  reddit3000.loc[:, \"claim_oplow\"]=claim_low\n"
     ]
    }
   ],
   "source": [
    "reddit3000.loc[:, \"claim_oplow\"] = claim_low"
   ]
  },
  {
   "cell_type": "code",
   "execution_count": 28,
   "metadata": {},
   "outputs": [
    {
     "data": {
      "text/html": [
       "<div>\n",
       "<style scoped>\n",
       "    .dataframe tbody tr th:only-of-type {\n",
       "        vertical-align: middle;\n",
       "    }\n",
       "\n",
       "    .dataframe tbody tr th {\n",
       "        vertical-align: top;\n",
       "    }\n",
       "\n",
       "    .dataframe thead th {\n",
       "        text-align: right;\n",
       "    }\n",
       "</style>\n",
       "<table border=\"1\" class=\"dataframe\">\n",
       "  <thead>\n",
       "    <tr style=\"text-align: right;\">\n",
       "      <th></th>\n",
       "      <th>id</th>\n",
       "      <th>body</th>\n",
       "      <th>subreddit</th>\n",
       "      <th>thread_title</th>\n",
       "      <th>majority_link</th>\n",
       "      <th>majority_type</th>\n",
       "      <th>is_first_post</th>\n",
       "      <th>post_depth</th>\n",
       "      <th>author</th>\n",
       "      <th>claim_oplow</th>\n",
       "    </tr>\n",
       "  </thead>\n",
       "  <tbody>\n",
       "    <tr>\n",
       "      <th>0</th>\n",
       "      <td>t3_1bx6qw</td>\n",
       "      <td></td>\n",
       "      <td>100movies365days</td>\n",
       "      <td>DTX120: #87 - Nashville</td>\n",
       "      <td>none</td>\n",
       "      <td>announcement</td>\n",
       "      <td>True</td>\n",
       "      <td>NaN</td>\n",
       "      <td>None</td>\n",
       "      <td>[]</td>\n",
       "    </tr>\n",
       "    <tr>\n",
       "      <th>1</th>\n",
       "      <td>t1_c9b2nyd</td>\n",
       "      <td>I've wanted to watch this for a long time. I was also turned off by the country western aspect.</td>\n",
       "      <td>100movies365days</td>\n",
       "      <td>DTX120: #87 - Nashville</td>\n",
       "      <td>t3_1bx6qw</td>\n",
       "      <td>elaboration</td>\n",
       "      <td>None</td>\n",
       "      <td>1.0</td>\n",
       "      <td>mcgrewf10</td>\n",
       "      <td>[\"The user has wanted to watch something for a long time\", \"The country western aspect of something is off-putting\"]</td>\n",
       "    </tr>\n",
       "    <tr>\n",
       "      <th>2</th>\n",
       "      <td>t1_c9b30i1</td>\n",
       "      <td>You strike me as the type who would appreciate it. I would give it a go. This is also my first Altman film so I didn't really know what to expect, except that people always compare PTA's Boogie Nights and Magnolia as being influenced by Altman. Magnolia is probably the best analog in terms of structure (having no lead character) but it is stylistically very different, much more melodramatic and transparently earnest.</td>\n",
       "      <td>100movies365days</td>\n",
       "      <td>DTX120: #87 - Nashville</td>\n",
       "      <td>t1_c9b2nyd</td>\n",
       "      <td>elaboration</td>\n",
       "      <td>None</td>\n",
       "      <td>2.0</td>\n",
       "      <td>None</td>\n",
       "      <td>[\"Magnolia has a similar structure to Altman's films with no lead character\", \"Boogie Nights and Magnolia were influenced by Altman\"]</td>\n",
       "    </tr>\n",
       "    <tr>\n",
       "      <th>3</th>\n",
       "      <td>t1_c9b6sj0</td>\n",
       "      <td>Yeah, I've always heard that Altman was famous for his ensemble casts. But I, too, have never seen an Altman.</td>\n",
       "      <td>100movies365days</td>\n",
       "      <td>DTX120: #87 - Nashville</td>\n",
       "      <td>t1_c9b30i1</td>\n",
       "      <td>elaboration</td>\n",
       "      <td>None</td>\n",
       "      <td>3.0</td>\n",
       "      <td>mcgrewf10</td>\n",
       "      <td>[\"Altman is famous for his ensemble casts\", \"The user has never seen an Altman film\"]</td>\n",
       "    </tr>\n",
       "    <tr>\n",
       "      <th>4</th>\n",
       "      <td>t3_omv7p</td>\n",
       "      <td>Alright guys, little background about myself. I'm a good looking, 23 year old male, have had modest success in the past with women, but have decided that modest just isn't good enough anymore.\\n\\nThe problem has never been a lack of attention, or opportunity. It's just been not having the killer instinct and extreme AA, to the point where women will basically EYE FUCK me, and I still don't have the testicular fortitude to say anything unless they say something first.\\n\\nMy goal is to approach 100 sets by the end of April, and hopefully break my AA.</td>\n",
       "      <td>100sets</td>\n",
       "      <td>Male, 23 years old. Going for 100 sets!</td>\n",
       "      <td>none</td>\n",
       "      <td>announcement</td>\n",
       "      <td>True</td>\n",
       "      <td>NaN</td>\n",
       "      <td>Keatonus</td>\n",
       "      <td>[\"The writer has had modest success with women in the past\", \"The writer lacks killer instinct and extreme alpha attitude\", \"The writer's goal is to approach 100 sets by the end of April\"]</td>\n",
       "    </tr>\n",
       "  </tbody>\n",
       "</table>\n",
       "</div>"
      ],
      "text/plain": [
       "           id  \\\n",
       "0   t3_1bx6qw   \n",
       "1  t1_c9b2nyd   \n",
       "2  t1_c9b30i1   \n",
       "3  t1_c9b6sj0   \n",
       "4    t3_omv7p   \n",
       "\n",
       "                                                                                                                                                                                                                                                                                                                                                                                                                                                                                                                                                                         body  \\\n",
       "0                                                                                                                                                                                                                                                                                                                                                                                                                                                                                                                                                                               \n",
       "1                                                                                                                                                                                                                                                                                                                                                                                                                                                                             I've wanted to watch this for a long time. I was also turned off by the country western aspect.   \n",
       "2                                                                                                                                       You strike me as the type who would appreciate it. I would give it a go. This is also my first Altman film so I didn't really know what to expect, except that people always compare PTA's Boogie Nights and Magnolia as being influenced by Altman. Magnolia is probably the best analog in terms of structure (having no lead character) but it is stylistically very different, much more melodramatic and transparently earnest.    \n",
       "3                                                                                                                                                                                                                                                                                                                                                                                                                                                               Yeah, I've always heard that Altman was famous for his ensemble casts. But I, too, have never seen an Altman.   \n",
       "4  Alright guys, little background about myself. I'm a good looking, 23 year old male, have had modest success in the past with women, but have decided that modest just isn't good enough anymore.\\n\\nThe problem has never been a lack of attention, or opportunity. It's just been not having the killer instinct and extreme AA, to the point where women will basically EYE FUCK me, and I still don't have the testicular fortitude to say anything unless they say something first.\\n\\nMy goal is to approach 100 sets by the end of April, and hopefully break my AA.   \n",
       "\n",
       "          subreddit                             thread_title majority_link  \\\n",
       "0  100movies365days                  DTX120: #87 - Nashville          none   \n",
       "1  100movies365days                  DTX120: #87 - Nashville     t3_1bx6qw   \n",
       "2  100movies365days                  DTX120: #87 - Nashville    t1_c9b2nyd   \n",
       "3  100movies365days                  DTX120: #87 - Nashville    t1_c9b30i1   \n",
       "4           100sets  Male, 23 years old. Going for 100 sets!          none   \n",
       "\n",
       "  majority_type is_first_post  post_depth     author  \\\n",
       "0  announcement          True         NaN       None   \n",
       "1   elaboration          None         1.0  mcgrewf10   \n",
       "2   elaboration          None         2.0       None   \n",
       "3   elaboration          None         3.0  mcgrewf10   \n",
       "4  announcement          True         NaN   Keatonus   \n",
       "\n",
       "                                                                                                                                                                                    claim_oplow  \n",
       "0                                                                                                                                                                                            []  \n",
       "1                                                                          [\"The user has wanted to watch something for a long time\", \"The country western aspect of something is off-putting\"]  \n",
       "2                                                         [\"Magnolia has a similar structure to Altman's films with no lead character\", \"Boogie Nights and Magnolia were influenced by Altman\"]  \n",
       "3                                                                                                         [\"Altman is famous for his ensemble casts\", \"The user has never seen an Altman film\"]  \n",
       "4  [\"The writer has had modest success with women in the past\", \"The writer lacks killer instinct and extreme alpha attitude\", \"The writer's goal is to approach 100 sets by the end of April\"]  "
      ]
     },
     "execution_count": 28,
     "metadata": {},
     "output_type": "execute_result"
    }
   ],
   "source": [
    "reddit3000.head()"
   ]
  },
  {
   "cell_type": "code",
   "execution_count": 29,
   "metadata": {},
   "outputs": [
    {
     "data": {
      "text/plain": [
       "0"
      ]
     },
     "execution_count": 29,
     "metadata": {},
     "output_type": "execute_result"
    }
   ],
   "source": [
    "reddit3000.claim_oplow.isna().sum()"
   ]
  },
  {
   "cell_type": "code",
   "execution_count": null,
   "metadata": {},
   "outputs": [],
   "source": [
    "#get MXBAI embeddings for the claims:\n",
    "context = 'claims made in social media replies to a news- or infotainment-post'\n",
    "claim_optlow_MXBAI: typing.Dict[str, np.ndarray] = (\n",
    "    pd.Series(src.SentenceEmbedder()(reddit3000[\"claim_oplow\"], prefix= 'You help me get embeddings for a sentence. I provide you with a context and a sentence and you reply only with that exact sentence. Context = ' + context + '; Sentence: '), name=\"claim_optlow_MXBAI\")\n",
    "    .rename_axis(index=reddit3000.index.names)\n",
    ")\n",
    "claim_optlow_MXBAI.head()"
   ]
  },
  {
   "cell_type": "code",
   "execution_count": null,
   "metadata": {},
   "outputs": [],
   "source": [
    "reddit3000 = reddit3000.join(claim_optlow_MXBAI)\n",
    "reddit3000.to_parquet(f'{CFG.report_dir}/reddit3000.parquet')\n",
    "reddit3000.head()\n"
   ]
  },
  {
   "cell_type": "code",
   "execution_count": 32,
   "metadata": {},
   "outputs": [
    {
     "name": "stdout",
     "output_type": "stream",
     "text": [
      "thread_title\n",
      "If your country has a 30-35 hour work week, what do you do with your free time?                                                                                           41\n",
      "Get rid of unwanted system apps (adb shell pm hide)                                                                                                                       41\n",
      "What ROM are you currently running and what do you like/dislike about it?                                                                                                 41\n",
      "I'm ChrisAcrosstheWorld, Japan's first salaried foreign NINJA -- AMA                                                                                                      39\n",
      "Let's post starting salary offers for new hires of this year in audit, tax, advisory.                                                                                     38\n",
      "Hey AskEngineers, can you give me some hope - what cool things have you done at your job?                                                                                 37\n",
      "Trying to understand why loud music helps with ADHD for me.                                                                                                               36\n",
      "If your roommate was constantly negative and complaining, and you had already tried to make them stop but it didn't work, what would you do?                              35\n",
      "Guys, how do you deal with the dreaded double-stream?                                                                                                                     35\n",
      "What's the name of your LFS in your home town?                                                                                                                            35\n",
      "How should \"you're pretty/hot for a (___)\" comments be received?                                                                                                          33\n",
      "I just read my favorite Alan Watts book. And it wasn't written by Alan Watts.                                                                                             33\n",
      "I'm ready to quit.                                                                                                                                                        32\n",
      "I want to go no contract. What's the best way to do it?                                                                                                                   31\n",
      "Is there any reason auto insurance and/or health insurance rates should be determined by sex? Should both, neither, or one of them have different rates for the sexes?    30\n",
      "Drink of choice?                                                                                                                                                          30\n",
      "What made you smile today?                                                                                                                                                29\n",
      "Hobbies                                                                                                                                                                   29\n",
      "What is your biggest heartache right now?                                                                                                                                 28\n",
      "Anime with a main character who has always been alone?                                                                                                                    28\n",
      "If you could choose a lifetime supply of one thing, what would you choose?                                                                                                25\n",
      "Coke or Pepsi? Why?                                                                                                                                                       25\n",
      "Dodged a bullet... big time.                                                                                                                                              25\n",
      "I wrote a letter to myself to read when I'm feeling stuck in my anxiety. Thought I'd share part of it.                                                                    23\n",
      "12/20 CONFERENCE SEMI-FINALS/FINALS GAME THREAD                                                                                                                           23\n",
      "When'd you realize the tooth fairy, Santa claus, or the Easter bunny was bullshit?                                                                                        22\n",
      "AskMen, I need your help!                                                                                                                                                 22\n",
      "Finally received my Joseon Beautiful Woman Cream, yaaay!!! But...                                                                                                         22\n",
      "Why do all these people hate TouchWiz so much?                                                                                                                            21\n",
      "Should something be done about the majority of answers in threads being jokes?                                                                                            21\n",
      "Name: count, dtype: int64\n"
     ]
    }
   ],
   "source": [
    "print(reddit3000['thread_title'].value_counts().head(30))"
   ]
  },
  {
   "cell_type": "code",
   "execution_count": 33,
   "metadata": {},
   "outputs": [],
   "source": [
    "#select the rows in the dataset that have the a showName with more than cutoff comments:   \n",
    "cutoff = 35\n",
    "selectedposts = reddit3000[reddit3000['thread_title'].isin(reddit3000['thread_title'].value_counts()[reddit3000['thread_title'].value_counts() >= cutoff].index)]"
   ]
  },
  {
   "cell_type": "code",
   "execution_count": 48,
   "metadata": {},
   "outputs": [
    {
     "data": {
      "text/html": [
       "<div>\n",
       "<style scoped>\n",
       "    .dataframe tbody tr th:only-of-type {\n",
       "        vertical-align: middle;\n",
       "    }\n",
       "\n",
       "    .dataframe tbody tr th {\n",
       "        vertical-align: top;\n",
       "    }\n",
       "\n",
       "    .dataframe thead th {\n",
       "        text-align: right;\n",
       "    }\n",
       "</style>\n",
       "<table border=\"1\" class=\"dataframe\">\n",
       "  <thead>\n",
       "    <tr style=\"text-align: right;\">\n",
       "      <th></th>\n",
       "      <th>id</th>\n",
       "      <th>body</th>\n",
       "      <th>subreddit</th>\n",
       "      <th>thread_title</th>\n",
       "      <th>majority_link</th>\n",
       "      <th>majority_type</th>\n",
       "      <th>is_first_post</th>\n",
       "      <th>post_depth</th>\n",
       "      <th>author</th>\n",
       "      <th>claim_oplow</th>\n",
       "      <th>claim_optlow_MXBAI</th>\n",
       "    </tr>\n",
       "  </thead>\n",
       "  <tbody>\n",
       "    <tr>\n",
       "      <th>600</th>\n",
       "      <td>t3_1hrkr9</td>\n",
       "      <td>I have recently noticed that music only works for me if it is very loud. If I go half volume I l...</td>\n",
       "      <td>adhd</td>\n",
       "      <td>Trying to understand why loud music helps with ADHD for me.</td>\n",
       "      <td>none</td>\n",
       "      <td>question</td>\n",
       "      <td>True</td>\n",
       "      <td>NaN</td>\n",
       "      <td>MrDurp</td>\n",
       "      <td>[\"The writer only enjoys music when it's very loud\", \"The writer loses interest in music quickly...</td>\n",
       "      <td>[0.15566717088222504, -0.12680421769618988, -0.5164549946784973, 0.4246806204319, -0.00983746349...</td>\n",
       "    </tr>\n",
       "    <tr>\n",
       "      <th>601</th>\n",
       "      <td>t1_cax7ehx</td>\n",
       "      <td>I don't listen to music very loud, but I do listen to it loud enough that it cancels out noise a...</td>\n",
       "      <td>adhd</td>\n",
       "      <td>Trying to understand why loud music helps with ADHD for me.</td>\n",
       "      <td>t3_1hrkr9</td>\n",
       "      <td>None</td>\n",
       "      <td>None</td>\n",
       "      <td>1.0</td>\n",
       "      <td>ChrisBacon</td>\n",
       "      <td>[\"The writer can concentrate and study with music\", \"The writer cannot concentrate with people t...</td>\n",
       "      <td>[0.2486271858215332, -0.20359307527542114, -0.4116734564304352, 0.3750465214252472, 0.1924118697...</td>\n",
       "    </tr>\n",
       "    <tr>\n",
       "      <th>602</th>\n",
       "      <td>t1_caxg8mm</td>\n",
       "      <td>Is it possibly because the music is predictable, whereas people talking is novel? If hear a new ...</td>\n",
       "      <td>adhd</td>\n",
       "      <td>Trying to understand why loud music helps with ADHD for me.</td>\n",
       "      <td>t1_cax7ehx</td>\n",
       "      <td>None</td>\n",
       "      <td>None</td>\n",
       "      <td>2.0</td>\n",
       "      <td>Sadiew1990</td>\n",
       "      <td>[\"Predictable music can be less distracting than unpredictable music\", \"Familiar songs can stimu...</td>\n",
       "      <td>[0.20179954171180725, -0.0002015717327594757, -0.510717511177063, 0.2707652449607849, -0.0343725...</td>\n",
       "    </tr>\n",
       "    <tr>\n",
       "      <th>603</th>\n",
       "      <td>t1_caxwdza</td>\n",
       "      <td>I think this is pretty spot on, as it's something I've contemplated many times.</td>\n",
       "      <td>adhd</td>\n",
       "      <td>Trying to understand why loud music helps with ADHD for me.</td>\n",
       "      <td>t1_caxg8mm</td>\n",
       "      <td>None</td>\n",
       "      <td>None</td>\n",
       "      <td>3.0</td>\n",
       "      <td>ChrisBacon</td>\n",
       "      <td>[\"This analysis is accurate\"]</td>\n",
       "      <td>[0.3507775664329529, 0.07732725888490677, -0.5983396172523499, 0.24801413714885712, 0.3272857666...</td>\n",
       "    </tr>\n",
       "    <tr>\n",
       "      <th>604</th>\n",
       "      <td>t1_cay1aso</td>\n",
       "      <td>Huh. I have the opposite reaction. If I'm writing an essay, and I'm listening to a song I don't ...</td>\n",
       "      <td>adhd</td>\n",
       "      <td>Trying to understand why loud music helps with ADHD for me.</td>\n",
       "      <td>t1_caxg8mm</td>\n",
       "      <td>None</td>\n",
       "      <td>None</td>\n",
       "      <td>3.0</td>\n",
       "      <td>None</td>\n",
       "      <td>[\"The writer phases out unknown songs while writing an essay\", \"The writer hears lyrics of known...</td>\n",
       "      <td>[0.4403245747089386, -0.1945212483406067, -0.3513432443141937, 0.2210473269224167, 0.22260612249...</td>\n",
       "    </tr>\n",
       "  </tbody>\n",
       "</table>\n",
       "</div>"
      ],
      "text/plain": [
       "             id  \\\n",
       "600   t3_1hrkr9   \n",
       "601  t1_cax7ehx   \n",
       "602  t1_caxg8mm   \n",
       "603  t1_caxwdza   \n",
       "604  t1_cay1aso   \n",
       "\n",
       "                                                                                                    body  \\\n",
       "600  I have recently noticed that music only works for me if it is very loud. If I go half volume I l...   \n",
       "601  I don't listen to music very loud, but I do listen to it loud enough that it cancels out noise a...   \n",
       "602  Is it possibly because the music is predictable, whereas people talking is novel? If hear a new ...   \n",
       "603                     I think this is pretty spot on, as it's something I've contemplated many times.    \n",
       "604  Huh. I have the opposite reaction. If I'm writing an essay, and I'm listening to a song I don't ...   \n",
       "\n",
       "    subreddit                                                 thread_title  \\\n",
       "600      adhd  Trying to understand why loud music helps with ADHD for me.   \n",
       "601      adhd  Trying to understand why loud music helps with ADHD for me.   \n",
       "602      adhd  Trying to understand why loud music helps with ADHD for me.   \n",
       "603      adhd  Trying to understand why loud music helps with ADHD for me.   \n",
       "604      adhd  Trying to understand why loud music helps with ADHD for me.   \n",
       "\n",
       "    majority_link majority_type is_first_post  post_depth      author  \\\n",
       "600          none      question          True         NaN      MrDurp   \n",
       "601     t3_1hrkr9          None          None         1.0  ChrisBacon   \n",
       "602    t1_cax7ehx          None          None         2.0  Sadiew1990   \n",
       "603    t1_caxg8mm          None          None         3.0  ChrisBacon   \n",
       "604    t1_caxg8mm          None          None         3.0        None   \n",
       "\n",
       "                                                                                             claim_oplow  \\\n",
       "600  [\"The writer only enjoys music when it's very loud\", \"The writer loses interest in music quickly...   \n",
       "601  [\"The writer can concentrate and study with music\", \"The writer cannot concentrate with people t...   \n",
       "602  [\"Predictable music can be less distracting than unpredictable music\", \"Familiar songs can stimu...   \n",
       "603                                                                        [\"This analysis is accurate\"]   \n",
       "604  [\"The writer phases out unknown songs while writing an essay\", \"The writer hears lyrics of known...   \n",
       "\n",
       "                                                                                      claim_optlow_MXBAI  \n",
       "600  [0.15566717088222504, -0.12680421769618988, -0.5164549946784973, 0.4246806204319, -0.00983746349...  \n",
       "601  [0.2486271858215332, -0.20359307527542114, -0.4116734564304352, 0.3750465214252472, 0.1924118697...  \n",
       "602  [0.20179954171180725, -0.0002015717327594757, -0.510717511177063, 0.2707652449607849, -0.0343725...  \n",
       "603  [0.3507775664329529, 0.07732725888490677, -0.5983396172523499, 0.24801413714885712, 0.3272857666...  \n",
       "604  [0.4403245747089386, -0.1945212483406067, -0.3513432443141937, 0.2210473269224167, 0.22260612249...  "
      ]
     },
     "execution_count": 48,
     "metadata": {},
     "output_type": "execute_result"
    }
   ],
   "source": [
    "selectedposts.head()"
   ]
  },
  {
   "cell_type": "code",
   "execution_count": 35,
   "metadata": {},
   "outputs": [
    {
     "data": {
      "text/plain": [
       "0"
      ]
     },
     "execution_count": 35,
     "metadata": {},
     "output_type": "execute_result"
    }
   ],
   "source": [
    "selectedposts.claim_optlow_MXBAI.isna().sum()"
   ]
  },
  {
   "cell_type": "code",
   "execution_count": 84,
   "metadata": {},
   "outputs": [],
   "source": [
    "selectedposts = selectedposts.dropna(subset=['claim_optlow_MXBAI'])"
   ]
  },
  {
   "cell_type": "code",
   "execution_count": 37,
   "metadata": {},
   "outputs": [
    {
     "name": "stderr",
     "output_type": "stream",
     "text": [
      "  0%|          | 0/10 [00:00<?, ?it/s]\n",
      "  0%|          | 0/10 [00:00<?, ?it/s]\u001b[A\n",
      "100%|██████████| 10/10 [00:00<00:00, 59.03it/s][A\n",
      " 10%|█         | 1/10 [00:00<00:01,  5.78it/s]"
     ]
    },
    {
     "name": "stdout",
     "output_type": "stream",
     "text": [
      "Get rid of unwanted system apps (adb shell pm hide):Get rid of unwanted system apps (adb shell pm hide):4.73830592394042\n",
      "Get rid of unwanted system apps (adb shell pm hide):Guys, how do you deal with the dreaded double-stream?:6.380127243347456\n",
      "Get rid of unwanted system apps (adb shell pm hide):Hey AskEngineers, can you give me some hope - what cool things have you done at your job?:6.286547061337251\n",
      "Get rid of unwanted system apps (adb shell pm hide):I'm ChrisAcrosstheWorld, Japan's first salaried foreign NINJA -- AMA:4.479606852501545\n",
      "Get rid of unwanted system apps (adb shell pm hide):If your country has a 30-35 hour work week, what do you do with your free time?:6.280382520802147\n",
      "Get rid of unwanted system apps (adb shell pm hide):If your roommate was constantly negative and complaining, and you had already tried to make them stop but it didn't work, what would you do?:5.717101281616605\n",
      "Get rid of unwanted system apps (adb shell pm hide):Let's post starting salary offers for new hires of this year in audit, tax, advisory.:6.226830594878014\n",
      "Get rid of unwanted system apps (adb shell pm hide):Trying to understand why loud music helps with ADHD for me.:6.005503638964132\n",
      "Get rid of unwanted system apps (adb shell pm hide):What ROM are you currently running and what do you like/dislike about it?:5.462740949352444\n",
      "Get rid of unwanted system apps (adb shell pm hide):What's the name of your LFS in your home town?:5.8188963780185725\n"
     ]
    },
    {
     "name": "stderr",
     "output_type": "stream",
     "text": [
      "\n",
      "  0%|          | 0/10 [00:00<?, ?it/s]\u001b[A"
     ]
    },
    {
     "name": "stdout",
     "output_type": "stream",
     "text": [
      "Guys, how do you deal with the dreaded double-stream?:Guys, how do you deal with the dreaded double-stream?:5.819947235546318\n",
      "Guys, how do you deal with the dreaded double-stream?:Hey AskEngineers, can you give me some hope - what cool things have you done at your job?:6.9050352300985995\n",
      "Guys, how do you deal with the dreaded double-stream?:I'm ChrisAcrosstheWorld, Japan's first salaried foreign NINJA -- AMA:5.626086604246866\n",
      "Guys, how do you deal with the dreaded double-stream?:If your country has a 30-35 hour work week, what do you do with your free time?:6.8393780022048425\n",
      "Guys, how do you deal with the dreaded double-stream?:If your roommate was constantly negative and complaining, and you had already tried to make them stop but it didn't work, what would you do?:6.400754932855487\n",
      "Guys, how do you deal with the dreaded double-stream?:Let's post starting salary offers for new hires of this year in audit, tax, advisory.:6.9417086226391325\n",
      "Guys, how do you deal with the dreaded double-stream?:Trying to understand why loud music helps with ADHD for me.:6.572322652959061\n",
      "Guys, how do you deal with the dreaded double-stream?:What ROM are you currently running and what do you like/dislike about it?:6.9776858168925475\n"
     ]
    },
    {
     "name": "stderr",
     "output_type": "stream",
     "text": [
      "\n",
      "100%|██████████| 10/10 [00:00<00:00, 82.44it/s][A\n",
      " 20%|██        | 2/10 [00:00<00:01,  6.90it/s]"
     ]
    },
    {
     "name": "stdout",
     "output_type": "stream",
     "text": [
      "Guys, how do you deal with the dreaded double-stream?:What's the name of your LFS in your home town?:6.462021991661365\n"
     ]
    },
    {
     "name": "stderr",
     "output_type": "stream",
     "text": [
      "\n",
      "  0%|          | 0/10 [00:00<?, ?it/s]\u001b[A"
     ]
    },
    {
     "name": "stdout",
     "output_type": "stream",
     "text": [
      "Hey AskEngineers, can you give me some hope - what cool things have you done at your job?:Hey AskEngineers, can you give me some hope - what cool things have you done at your job?:5.950289728987579\n",
      "Hey AskEngineers, can you give me some hope - what cool things have you done at your job?:I'm ChrisAcrosstheWorld, Japan's first salaried foreign NINJA -- AMA:5.412686872017141\n",
      "Hey AskEngineers, can you give me some hope - what cool things have you done at your job?:If your country has a 30-35 hour work week, what do you do with your free time?:6.471389953613684\n",
      "Hey AskEngineers, can you give me some hope - what cool things have you done at your job?:If your roommate was constantly negative and complaining, and you had already tried to make them stop but it didn't work, what would you do?:6.256509292579371\n",
      "Hey AskEngineers, can you give me some hope - what cool things have you done at your job?:Let's post starting salary offers for new hires of this year in audit, tax, advisory.:6.293934934690962\n",
      "Hey AskEngineers, can you give me some hope - what cool things have you done at your job?:Trying to understand why loud music helps with ADHD for me.:6.358970955340748\n",
      "Hey AskEngineers, can you give me some hope - what cool things have you done at your job?:What ROM are you currently running and what do you like/dislike about it?:6.787043262113635\n"
     ]
    },
    {
     "name": "stderr",
     "output_type": "stream",
     "text": [
      "100%|██████████| 10/10 [00:00<00:00, 115.89it/s]\n"
     ]
    },
    {
     "name": "stdout",
     "output_type": "stream",
     "text": [
      "Hey AskEngineers, can you give me some hope - what cool things have you done at your job?:What's the name of your LFS in your home town?:6.243177684820593\n"
     ]
    },
    {
     "name": "stderr",
     "output_type": "stream",
     "text": [
      "\n",
      "100%|██████████| 10/10 [00:00<00:00, 128.58it/s]\n",
      " 40%|████      | 4/10 [00:00<00:00,  9.13it/s]"
     ]
    },
    {
     "name": "stdout",
     "output_type": "stream",
     "text": [
      "I'm ChrisAcrosstheWorld, Japan's first salaried foreign NINJA -- AMA:I'm ChrisAcrosstheWorld, Japan's first salaried foreign NINJA -- AMA:2.6158378570395118\n",
      "I'm ChrisAcrosstheWorld, Japan's first salaried foreign NINJA -- AMA:If your country has a 30-35 hour work week, what do you do with your free time?:5.401246902383877\n",
      "I'm ChrisAcrosstheWorld, Japan's first salaried foreign NINJA -- AMA:If your roommate was constantly negative and complaining, and you had already tried to make them stop but it didn't work, what would you do?:4.716542804915043\n",
      "I'm ChrisAcrosstheWorld, Japan's first salaried foreign NINJA -- AMA:Let's post starting salary offers for new hires of this year in audit, tax, advisory.:5.118467746709831\n",
      "I'm ChrisAcrosstheWorld, Japan's first salaried foreign NINJA -- AMA:Trying to understand why loud music helps with ADHD for me.:5.195788160925315\n",
      "I'm ChrisAcrosstheWorld, Japan's first salaried foreign NINJA -- AMA:What ROM are you currently running and what do you like/dislike about it?:5.298946936310794\n",
      "I'm ChrisAcrosstheWorld, Japan's first salaried foreign NINJA -- AMA:What's the name of your LFS in your home town?:4.80095742198835\n"
     ]
    },
    {
     "name": "stderr",
     "output_type": "stream",
     "text": [
      "\n",
      "  0%|          | 0/10 [00:00<?, ?it/s]\u001b[A"
     ]
    },
    {
     "name": "stdout",
     "output_type": "stream",
     "text": [
      "If your country has a 30-35 hour work week, what do you do with your free time?:If your country has a 30-35 hour work week, what do you do with your free time?:5.733461308682716\n",
      "If your country has a 30-35 hour work week, what do you do with your free time?:If your roommate was constantly negative and complaining, and you had already tried to make them stop but it didn't work, what would you do?:6.136651755954526\n"
     ]
    },
    {
     "name": "stderr",
     "output_type": "stream",
     "text": [
      "100%|██████████| 10/10 [00:00<00:00, 136.84it/s]\n"
     ]
    },
    {
     "name": "stdout",
     "output_type": "stream",
     "text": [
      "If your country has a 30-35 hour work week, what do you do with your free time?:Let's post starting salary offers for new hires of this year in audit, tax, advisory.:6.232368636233346\n",
      "If your country has a 30-35 hour work week, what do you do with your free time?:Trying to understand why loud music helps with ADHD for me.:6.391428587518043\n",
      "If your country has a 30-35 hour work week, what do you do with your free time?:What ROM are you currently running and what do you like/dislike about it?:6.762421170575918\n",
      "If your country has a 30-35 hour work week, what do you do with your free time?:What's the name of your LFS in your home town?:6.042972663686744\n"
     ]
    },
    {
     "name": "stderr",
     "output_type": "stream",
     "text": [
      "\n",
      "  0%|          | 0/10 [00:00<?, ?it/s]\u001b[A"
     ]
    },
    {
     "name": "stdout",
     "output_type": "stream",
     "text": [
      "If your roommate was constantly negative and complaining, and you had already tried to make them stop but it didn't work, what would you do?:If your roommate was constantly negative and complaining, and you had already tried to make them stop but it didn't work, what would you do?:5.162501747537475\n",
      "If your roommate was constantly negative and complaining, and you had already tried to make them stop but it didn't work, what would you do?:Let's post starting salary offers for new hires of this year in audit, tax, advisory.:6.197796719030575\n",
      "If your roommate was constantly negative and complaining, and you had already tried to make them stop but it didn't work, what would you do?:Trying to understand why loud music helps with ADHD for me.:5.9122712699263404\n",
      "If your roommate was constantly negative and complaining, and you had already tried to make them stop but it didn't work, what would you do?:What ROM are you currently running and what do you like/dislike about it?:6.365883142229456\n"
     ]
    },
    {
     "name": "stderr",
     "output_type": "stream",
     "text": [
      "100%|██████████| 10/10 [00:00<00:00, 195.01it/s]\n",
      " 60%|██████    | 6/10 [00:00<00:00, 11.10it/s]"
     ]
    },
    {
     "name": "stdout",
     "output_type": "stream",
     "text": [
      "If your roommate was constantly negative and complaining, and you had already tried to make them stop but it didn't work, what would you do?:What's the name of your LFS in your home town?:5.875974722794061\n"
     ]
    },
    {
     "name": "stderr",
     "output_type": "stream",
     "text": [
      "\n",
      "100%|██████████| 10/10 [00:00<00:00, 231.18it/s]\n"
     ]
    },
    {
     "name": "stdout",
     "output_type": "stream",
     "text": [
      "Let's post starting salary offers for new hires of this year in audit, tax, advisory.:Let's post starting salary offers for new hires of this year in audit, tax, advisory.:5.325126290126725\n",
      "Let's post starting salary offers for new hires of this year in audit, tax, advisory.:Trying to understand why loud music helps with ADHD for me.:6.562077607126149\n",
      "Let's post starting salary offers for new hires of this year in audit, tax, advisory.:What ROM are you currently running and what do you like/dislike about it?:6.739613659811484\n",
      "Let's post starting salary offers for new hires of this year in audit, tax, advisory.:What's the name of your LFS in your home town?:6.039175947463627\n"
     ]
    },
    {
     "name": "stderr",
     "output_type": "stream",
     "text": [
      "\n",
      "  0%|          | 0/10 [00:00<?, ?it/s]\u001b[A"
     ]
    },
    {
     "name": "stdout",
     "output_type": "stream",
     "text": [
      "Trying to understand why loud music helps with ADHD for me.:Trying to understand why loud music helps with ADHD for me.:4.951910293212966\n",
      "Trying to understand why loud music helps with ADHD for me.:What ROM are you currently running and what do you like/dislike about it?:6.5577245011860725\n"
     ]
    },
    {
     "name": "stderr",
     "output_type": "stream",
     "text": [
      "100%|██████████| 10/10 [00:00<00:00, 305.91it/s]\n"
     ]
    },
    {
     "name": "stdout",
     "output_type": "stream",
     "text": [
      "Trying to understand why loud music helps with ADHD for me.:What's the name of your LFS in your home town?:6.109253310938983\n"
     ]
    },
    {
     "name": "stderr",
     "output_type": "stream",
     "text": [
      "\n",
      "  0%|          | 0/10 [00:00<?, ?it/s]\u001b[A"
     ]
    },
    {
     "name": "stdout",
     "output_type": "stream",
     "text": [
      "What ROM are you currently running and what do you like/dislike about it?:What ROM are you currently running and what do you like/dislike about it?:5.412314982940632\n"
     ]
    },
    {
     "name": "stderr",
     "output_type": "stream",
     "text": [
      "100%|██████████| 10/10 [00:00<00:00, 393.87it/s]\n",
      " 90%|█████████ | 9/10 [00:00<00:00, 15.42it/s]"
     ]
    },
    {
     "name": "stdout",
     "output_type": "stream",
     "text": [
      "What ROM are you currently running and what do you like/dislike about it?:What's the name of your LFS in your home town?:6.332520811622372\n"
     ]
    },
    {
     "name": "stderr",
     "output_type": "stream",
     "text": [
      "\n",
      "100%|██████████| 10/10 [00:00<00:00, 1004.00it/s]\n",
      "100%|██████████| 10/10 [00:00<00:00, 13.37it/s]"
     ]
    },
    {
     "name": "stdout",
     "output_type": "stream",
     "text": [
      "What's the name of your LFS in your home town?:What's the name of your LFS in your home town?:4.902105013902613\n"
     ]
    },
    {
     "name": "stderr",
     "output_type": "stream",
     "text": [
      "\n"
     ]
    }
   ],
   "source": [
    "grouped_data = selectedposts.groupby(\"thread_title\")\n",
    "dist = torch.nn.PairwiseDistance()\n",
    "resultstopic: typing.Dict[typing.Tuple[str, str], float] = {}\n",
    "for model_1, c_1 in tqdm.tqdm(grouped_data['claim_optlow_MXBAI'], total=grouped_data.ngroups):\n",
    "    for model_2, c_2 in tqdm.tqdm(grouped_data['claim_optlow_MXBAI'], total=grouped_data.ngroups):\n",
    "\n",
    "        if (\n",
    "            (model_1, model_2) in resultstopic.keys() or \n",
    "            (model_2, model_1) in resultstopic.keys()\n",
    "        ):\n",
    "            continue\n",
    "\n",
    "        res = sum([\n",
    "            sum(dist(\n",
    "                torch.tensor(np.array(v_1)), \n",
    "                torch.tensor(np.array(c_2.tolist()))\n",
    "                )) / len(c_2)\n",
    "            for v_1 in c_1\n",
    "        ]) / len(c_1)\n",
    "\n",
    "        resultstopic[(model_1, model_2)] = res\n",
    "\n",
    "        print(f'{model_1}:{model_2}:{res.item()}')"
   ]
  },
  {
   "cell_type": "code",
   "execution_count": 38,
   "metadata": {},
   "outputs": [],
   "source": [
    "#select the rows in the dataset that have the a showName with LESS than cutoff comments for increased variance:   \n",
    "cutoff = 5\n",
    "fewselectposts = reddit3000[reddit3000['thread_title'].isin(reddit3000['thread_title'].value_counts()[reddit3000['thread_title'].value_counts() <= cutoff].index)]"
   ]
  },
  {
   "cell_type": "code",
   "execution_count": 39,
   "metadata": {},
   "outputs": [
    {
     "data": {
      "text/plain": [
       "0"
      ]
     },
     "execution_count": 39,
     "metadata": {},
     "output_type": "execute_result"
    }
   ],
   "source": [
    "fewselectposts.claim_optlow_MXBAI.isna().sum()"
   ]
  },
  {
   "cell_type": "code",
   "execution_count": 49,
   "metadata": {},
   "outputs": [
    {
     "data": {
      "text/html": [
       "<div>\n",
       "<style scoped>\n",
       "    .dataframe tbody tr th:only-of-type {\n",
       "        vertical-align: middle;\n",
       "    }\n",
       "\n",
       "    .dataframe tbody tr th {\n",
       "        vertical-align: top;\n",
       "    }\n",
       "\n",
       "    .dataframe thead th {\n",
       "        text-align: right;\n",
       "    }\n",
       "</style>\n",
       "<table border=\"1\" class=\"dataframe\">\n",
       "  <thead>\n",
       "    <tr style=\"text-align: right;\">\n",
       "      <th></th>\n",
       "      <th>id</th>\n",
       "      <th>body</th>\n",
       "      <th>subreddit</th>\n",
       "      <th>thread_title</th>\n",
       "      <th>majority_link</th>\n",
       "      <th>majority_type</th>\n",
       "      <th>is_first_post</th>\n",
       "      <th>post_depth</th>\n",
       "      <th>author</th>\n",
       "      <th>claim_oplow</th>\n",
       "      <th>claim_optlow_MXBAI</th>\n",
       "    </tr>\n",
       "  </thead>\n",
       "  <tbody>\n",
       "    <tr>\n",
       "      <th>0</th>\n",
       "      <td>t3_1bx6qw</td>\n",
       "      <td></td>\n",
       "      <td>100movies365days</td>\n",
       "      <td>DTX120: #87 - Nashville</td>\n",
       "      <td>none</td>\n",
       "      <td>announcement</td>\n",
       "      <td>True</td>\n",
       "      <td>NaN</td>\n",
       "      <td>None</td>\n",
       "      <td>[]</td>\n",
       "      <td>[0.3085225224494934, 0.0025453902781009674, -0.632075309753418, 0.29504382610321045, 0.351623713...</td>\n",
       "    </tr>\n",
       "    <tr>\n",
       "      <th>1</th>\n",
       "      <td>t1_c9b2nyd</td>\n",
       "      <td>I've wanted to watch this for a long time. I was also turned off by the country western aspect.</td>\n",
       "      <td>100movies365days</td>\n",
       "      <td>DTX120: #87 - Nashville</td>\n",
       "      <td>t3_1bx6qw</td>\n",
       "      <td>elaboration</td>\n",
       "      <td>None</td>\n",
       "      <td>1.0</td>\n",
       "      <td>mcgrewf10</td>\n",
       "      <td>[\"The user has wanted to watch something for a long time\", \"The country western aspect of someth...</td>\n",
       "      <td>[0.4254729151725769, -0.01032189279794693, -0.6786631941795349, 0.32541653513908386, 0.298534691...</td>\n",
       "    </tr>\n",
       "    <tr>\n",
       "      <th>2</th>\n",
       "      <td>t1_c9b30i1</td>\n",
       "      <td>You strike me as the type who would appreciate it. I would give it a go. This is also my first A...</td>\n",
       "      <td>100movies365days</td>\n",
       "      <td>DTX120: #87 - Nashville</td>\n",
       "      <td>t1_c9b2nyd</td>\n",
       "      <td>elaboration</td>\n",
       "      <td>None</td>\n",
       "      <td>2.0</td>\n",
       "      <td>None</td>\n",
       "      <td>[\"Magnolia has a similar structure to Altman's films with no lead character\", \"Boogie Nights and...</td>\n",
       "      <td>[0.7148110270500183, -0.15317122638225555, -0.5416110157966614, -0.1810915321111679, -0.36302334...</td>\n",
       "    </tr>\n",
       "    <tr>\n",
       "      <th>3</th>\n",
       "      <td>t1_c9b6sj0</td>\n",
       "      <td>Yeah, I've always heard that Altman was famous for his ensemble casts. But I, too, have never se...</td>\n",
       "      <td>100movies365days</td>\n",
       "      <td>DTX120: #87 - Nashville</td>\n",
       "      <td>t1_c9b30i1</td>\n",
       "      <td>elaboration</td>\n",
       "      <td>None</td>\n",
       "      <td>3.0</td>\n",
       "      <td>mcgrewf10</td>\n",
       "      <td>[\"Altman is famous for his ensemble casts\", \"The user has never seen an Altman film\"]</td>\n",
       "      <td>[0.7345885634422302, -0.177871972322464, -0.609611451625824, -0.0007055625319480896, -0.08616860...</td>\n",
       "    </tr>\n",
       "    <tr>\n",
       "      <th>77</th>\n",
       "      <td>t3_25hor7</td>\n",
       "      <td>To be honest, there aren't really too many ideas for a skill that are so in depth they could be ...</td>\n",
       "      <td>2007scape</td>\n",
       "      <td>New skill?</td>\n",
       "      <td>none</td>\n",
       "      <td>question</td>\n",
       "      <td>True</td>\n",
       "      <td>NaN</td>\n",
       "      <td>GrandmaTitz</td>\n",
       "      <td>[\"Jagex did a great job making the existing skills\", \"There aren't many ideas for a skill that c...</td>\n",
       "      <td>[0.5224913358688354, -0.2205544114112854, -0.7710671424865723, 0.10436008125543594, 0.1284627318...</td>\n",
       "    </tr>\n",
       "  </tbody>\n",
       "</table>\n",
       "</div>"
      ],
      "text/plain": [
       "            id  \\\n",
       "0    t3_1bx6qw   \n",
       "1   t1_c9b2nyd   \n",
       "2   t1_c9b30i1   \n",
       "3   t1_c9b6sj0   \n",
       "77   t3_25hor7   \n",
       "\n",
       "                                                                                                   body  \\\n",
       "0                                                                                                         \n",
       "1       I've wanted to watch this for a long time. I was also turned off by the country western aspect.   \n",
       "2   You strike me as the type who would appreciate it. I would give it a go. This is also my first A...   \n",
       "3   Yeah, I've always heard that Altman was famous for his ensemble casts. But I, too, have never se...   \n",
       "77  To be honest, there aren't really too many ideas for a skill that are so in depth they could be ...   \n",
       "\n",
       "           subreddit             thread_title majority_link majority_type  \\\n",
       "0   100movies365days  DTX120: #87 - Nashville          none  announcement   \n",
       "1   100movies365days  DTX120: #87 - Nashville     t3_1bx6qw   elaboration   \n",
       "2   100movies365days  DTX120: #87 - Nashville    t1_c9b2nyd   elaboration   \n",
       "3   100movies365days  DTX120: #87 - Nashville    t1_c9b30i1   elaboration   \n",
       "77         2007scape               New skill?          none      question   \n",
       "\n",
       "   is_first_post  post_depth       author  \\\n",
       "0           True         NaN         None   \n",
       "1           None         1.0    mcgrewf10   \n",
       "2           None         2.0         None   \n",
       "3           None         3.0    mcgrewf10   \n",
       "77          True         NaN  GrandmaTitz   \n",
       "\n",
       "                                                                                            claim_oplow  \\\n",
       "0                                                                                                    []   \n",
       "1   [\"The user has wanted to watch something for a long time\", \"The country western aspect of someth...   \n",
       "2   [\"Magnolia has a similar structure to Altman's films with no lead character\", \"Boogie Nights and...   \n",
       "3                 [\"Altman is famous for his ensemble casts\", \"The user has never seen an Altman film\"]   \n",
       "77  [\"Jagex did a great job making the existing skills\", \"There aren't many ideas for a skill that c...   \n",
       "\n",
       "                                                                                     claim_optlow_MXBAI  \n",
       "0   [0.3085225224494934, 0.0025453902781009674, -0.632075309753418, 0.29504382610321045, 0.351623713...  \n",
       "1   [0.4254729151725769, -0.01032189279794693, -0.6786631941795349, 0.32541653513908386, 0.298534691...  \n",
       "2   [0.7148110270500183, -0.15317122638225555, -0.5416110157966614, -0.1810915321111679, -0.36302334...  \n",
       "3   [0.7345885634422302, -0.177871972322464, -0.609611451625824, -0.0007055625319480896, -0.08616860...  \n",
       "77  [0.5224913358688354, -0.2205544114112854, -0.7710671424865723, 0.10436008125543594, 0.1284627318...  "
      ]
     },
     "execution_count": 49,
     "metadata": {},
     "output_type": "execute_result"
    }
   ],
   "source": [
    "fewselectposts.head()"
   ]
  },
  {
   "cell_type": "code",
   "execution_count": 41,
   "metadata": {},
   "outputs": [
    {
     "name": "stderr",
     "output_type": "stream",
     "text": [
      "  0%|          | 0/66 [00:00<?, ?it/s]\n",
      "100%|██████████| 66/66 [00:00<00:00, 2387.34it/s]\n"
     ]
    },
    {
     "name": "stdout",
     "output_type": "stream",
     "text": [
      "1-base Protoss Immortal Stalker/Sentry All-in:1-base Protoss Immortal Stalker/Sentry All-in:4.339136787327061\n",
      "1-base Protoss Immortal Stalker/Sentry All-in:A possible solution to \"nerf\" TEAMING:8.589230770748259\n",
      "1-base Protoss Immortal Stalker/Sentry All-in:A598454:9.684909007783705\n",
      "1-base Protoss Immortal Stalker/Sentry All-in:Advice on Arduino Capabilities:9.78963743562481\n",
      "1-base Protoss Immortal Stalker/Sentry All-in:Amd r9 380 driver crashing:10.104427390013619\n",
      "1-base Protoss Immortal Stalker/Sentry All-in:Can I disolve gelatine again once cold?:9.64593702258983\n",
      "1-base Protoss Immortal Stalker/Sentry All-in:Can I kill black demon at lv51?:8.898439491785478\n",
      "1-base Protoss Immortal Stalker/Sentry All-in:Can i recover my corrupted USB?:9.718662791606878\n",
      "1-base Protoss Immortal Stalker/Sentry All-in:Confession bear at khols:9.727718035951195\n",
      "1-base Protoss Immortal Stalker/Sentry All-in:DTX120: #87 - Nashville:10.214850279114373\n",
      "1-base Protoss Immortal Stalker/Sentry All-in:Dear sociologists of Reddit, what do you think of the social changes in a country such as Singapore, that has caused it to be stubborn towards government policies that try to address the declining birthrate in the country.:9.836814127866877\n",
      "1-base Protoss Immortal Stalker/Sentry All-in:Did Asian countries have similar misconceptions of Europe, as Europe had of Asia?:10.098228349850856\n",
      "1-base Protoss Immortal Stalker/Sentry All-in:Does anyone know where I can watch The Thing online for free?:10.139678136028499\n",
      "1-base Protoss Immortal Stalker/Sentry All-in:EMS and USPS?:10.18943871465516\n",
      "1-base Protoss Immortal Stalker/Sentry All-in:Exporting from AutoDesk 2015:9.668346955895485\n",
      "1-base Protoss Immortal Stalker/Sentry All-in:GPU usage fluctuating. Pic inside:9.68393572196171\n",
      "1-base Protoss Immortal Stalker/Sentry All-in:Group Sit - Day 17:9.569282478341892\n",
      "1-base Protoss Immortal Stalker/Sentry All-in:Happy multiplier for xp:9.108093054944188\n",
      "1-base Protoss Immortal Stalker/Sentry All-in:Have you purchased a diamond / engagement ring online? Were you happy with it?:10.104622758372113\n",
      "1-base Protoss Immortal Stalker/Sentry All-in:Help with a diagnosis please!:10.046940352083768\n",
      "1-base Protoss Immortal Stalker/Sentry All-in:How do I beat my anticipatory and flight anxiety?? Also first time Xanax user.:10.066418700415374\n",
      "1-base Protoss Immortal Stalker/Sentry All-in:How does the reset of the world view Texas?:9.54911081407294\n",
      "1-base Protoss Immortal Stalker/Sentry All-in:I need advice on a good comeback:9.522949845338898\n",
      "1-base Protoss Immortal Stalker/Sentry All-in:I played 2007scape when it was first released, what's changed since then?:9.613605078355391\n",
      "1-base Protoss Immortal Stalker/Sentry All-in:I think I known the band, but cant find the fucking song! Help.:10.268979005022096\n",
      "1-base Protoss Immortal Stalker/Sentry All-in:I think my managers are trying to hire based on appearance what can I do to stop it?:9.906805111259363\n",
      "1-base Protoss Immortal Stalker/Sentry All-in:I was wondering if any of these additives caused any false positives for my water tests.:9.796594537115997\n",
      "1-base Protoss Immortal Stalker/Sentry All-in:If you had to make up a story about where babies came from, what you you say?:9.911917269058122\n",
      "1-base Protoss Immortal Stalker/Sentry All-in:Is there a way to get double tap to wake on any android?:10.301565980197203\n",
      "1-base Protoss Immortal Stalker/Sentry All-in:Issue with Android Market...:10.00124517156631\n",
      "1-base Protoss Immortal Stalker/Sentry All-in:New skill?:9.401309760622842\n",
      "1-base Protoss Immortal Stalker/Sentry All-in:Pking with Slayer Helm:8.822686748132663\n",
      "1-base Protoss Immortal Stalker/Sentry All-in:Problems connecting PS3 to LCD monitor via HMDI cable with DVI adapter:10.282660545123939\n",
      "1-base Protoss Immortal Stalker/Sentry All-in:Question about Final Fantasy 7 Story [FF7/CC:FF7 Spoilers]:9.660757930538043\n",
      "1-base Protoss Immortal Stalker/Sentry All-in:Question about young prayer.:10.423720218745741\n",
      "1-base Protoss Immortal Stalker/Sentry All-in:Questions about some braun razors:10.102435311500525\n",
      "1-base Protoss Immortal Stalker/Sentry All-in:Questions about the Galaxy S3:10.277869754826854\n",
      "1-base Protoss Immortal Stalker/Sentry All-in:RCS missing:9.812391014611029\n",
      "1-base Protoss Immortal Stalker/Sentry All-in:Seriously guys come on.:9.597386910288566\n",
      "1-base Protoss Immortal Stalker/Sentry All-in:Since divine didn't pass there's other options.:8.484891322829903\n",
      "1-base Protoss Immortal Stalker/Sentry All-in:Summer volunteer opportunities:9.826429155421799\n",
      "1-base Protoss Immortal Stalker/Sentry All-in:System Settings or the Internet Browser won't launch. Did I brick my N3DS. 9.8-2XU > 9.2-20U:9.786555168576692\n",
      "1-base Protoss Immortal Stalker/Sentry All-in:Things you heard while at the hospital you wish you did not hear?:10.098265582509491\n",
      "1-base Protoss Immortal Stalker/Sentry All-in:This may not be the appropriate place to post this but I'm selling my 42mm Milanese Loop and am willing to hook it up for you!:9.925502051750627\n",
      "1-base Protoss Immortal Stalker/Sentry All-in:Thoboy..:9.75933151308573\n",
      "1-base Protoss Immortal Stalker/Sentry All-in:Undergrad student starting to feel under qualified and overwhelmed:9.716012128581244\n",
      "1-base Protoss Immortal Stalker/Sentry All-in:Vanilla Crayfish:9.842957131776732\n",
      "1-base Protoss Immortal Stalker/Sentry All-in:What do most people do that's completely hypocritical but don't realise it:9.991330408538154\n",
      "1-base Protoss Immortal Stalker/Sentry All-in:What is one thing your significant other has done for you that you can't ever pay them back for?:9.990760278242472\n",
      "1-base Protoss Immortal Stalker/Sentry All-in:What is the most downvoted comment you have ever seen and what did it say?:9.788259054377226\n",
      "1-base Protoss Immortal Stalker/Sentry All-in:What pop culture expression, or any phrase really, are you actually planning on using more often?:9.764617580514699\n",
      "1-base Protoss Immortal Stalker/Sentry All-in:What's a good television show in Latin American Spanish that I could watch online to practice hearing and understanding conversational Spanish?:9.720479592997162\n",
      "1-base Protoss Immortal Stalker/Sentry All-in:What's going on here? Can't choose damaged book.:9.654095813496498\n",
      "1-base Protoss Immortal Stalker/Sentry All-in:What's the worst nightmare you never had?:9.769749309892054\n",
      "1-base Protoss Immortal Stalker/Sentry All-in:Where's the best place to chop yews in f2p?:9.48480906458119\n",
      "1-base Protoss Immortal Stalker/Sentry All-in:Why are people more likely to cut in front of you when driving in traffic, but if they were standing in line, they wouldn't do the same thing?:9.764398499883175\n",
      "1-base Protoss Immortal Stalker/Sentry All-in:Why did the rabbit eat the road?:9.867567931200423\n",
      "1-base Protoss Immortal Stalker/Sentry All-in:Why is China so concerned with having a \"buffer zone\" with the U.S.:9.363750625896103\n",
      "1-base Protoss Immortal Stalker/Sentry All-in:[HELP] Moving a pregnant molly?:9.622363169701075\n",
      "1-base Protoss Immortal Stalker/Sentry All-in:[PF] Strix Zen Archer:8.940586018218145\n",
      "1-base Protoss Immortal Stalker/Sentry All-in:[iPad] When I touch links/subreddits on the iPad screen, it doesn't register in AB:9.933284888471567\n",
      "1-base Protoss Immortal Stalker/Sentry All-in:biomedical innovations class.:9.651330698173211\n",
      "1-base Protoss Immortal Stalker/Sentry All-in:does anyone else have this issue?:10.009183104363219\n",
      "1-base Protoss Immortal Stalker/Sentry All-in:foxy:9.809862905933846\n",
      "1-base Protoss Immortal Stalker/Sentry All-in:rex reclaim:9.59886008365917\n",
      "1-base Protoss Immortal Stalker/Sentry All-in:rs authenticator:9.774594130310716\n"
     ]
    },
    {
     "name": "stderr",
     "output_type": "stream",
     "text": [
      "\n",
      "100%|██████████| 66/66 [00:00<00:00, 2038.74it/s]\n"
     ]
    },
    {
     "name": "stdout",
     "output_type": "stream",
     "text": [
      "A possible solution to \"nerf\" TEAMING:A possible solution to \"nerf\" TEAMING:5.330079973625755\n",
      "A possible solution to \"nerf\" TEAMING:A598454:8.707217159046538\n",
      "A possible solution to \"nerf\" TEAMING:Advice on Arduino Capabilities:9.203460528399933\n",
      "A possible solution to \"nerf\" TEAMING:Amd r9 380 driver crashing:9.148174192045595\n",
      "A possible solution to \"nerf\" TEAMING:Can I disolve gelatine again once cold?:8.885723797658317\n",
      "A possible solution to \"nerf\" TEAMING:Can I kill black demon at lv51?:8.489594677631494\n",
      "A possible solution to \"nerf\" TEAMING:Can i recover my corrupted USB?:8.840144210718261\n",
      "A possible solution to \"nerf\" TEAMING:Confession bear at khols:8.847193228975943\n",
      "A possible solution to \"nerf\" TEAMING:DTX120: #87 - Nashville:9.428430946198299\n",
      "A possible solution to \"nerf\" TEAMING:Dear sociologists of Reddit, what do you think of the social changes in a country such as Singapore, that has caused it to be stubborn towards government policies that try to address the declining birthrate in the country.:9.136132688556174\n",
      "A possible solution to \"nerf\" TEAMING:Did Asian countries have similar misconceptions of Europe, as Europe had of Asia?:9.9508222353762\n",
      "A possible solution to \"nerf\" TEAMING:Does anyone know where I can watch The Thing online for free?:9.266875475710886\n",
      "A possible solution to \"nerf\" TEAMING:EMS and USPS?:9.518279751757433\n",
      "A possible solution to \"nerf\" TEAMING:Exporting from AutoDesk 2015:9.064636953220008\n",
      "A possible solution to \"nerf\" TEAMING:GPU usage fluctuating. Pic inside:8.889935595101289\n",
      "A possible solution to \"nerf\" TEAMING:Group Sit - Day 17:8.586042614899771\n",
      "A possible solution to \"nerf\" TEAMING:Happy multiplier for xp:8.33441197094774\n",
      "A possible solution to \"nerf\" TEAMING:Have you purchased a diamond / engagement ring online? Were you happy with it?:9.556120006513517\n",
      "A possible solution to \"nerf\" TEAMING:Help with a diagnosis please!:9.364877695556874\n",
      "A possible solution to \"nerf\" TEAMING:How do I beat my anticipatory and flight anxiety?? Also first time Xanax user.:9.293333495535753\n",
      "A possible solution to \"nerf\" TEAMING:How does the reset of the world view Texas?:8.689249898272056\n",
      "A possible solution to \"nerf\" TEAMING:I need advice on a good comeback:8.642882699642131\n",
      "A possible solution to \"nerf\" TEAMING:I played 2007scape when it was first released, what's changed since then?:8.801316571382603\n",
      "A possible solution to \"nerf\" TEAMING:I think I known the band, but cant find the fucking song! Help.:9.399291260347479\n",
      "A possible solution to \"nerf\" TEAMING:I think my managers are trying to hire based on appearance what can I do to stop it?:9.023781430449556\n",
      "A possible solution to \"nerf\" TEAMING:I was wondering if any of these additives caused any false positives for my water tests.:9.30928089038844\n",
      "A possible solution to \"nerf\" TEAMING:If you had to make up a story about where babies came from, what you you say?:9.056786105892906\n",
      "A possible solution to \"nerf\" TEAMING:Is there a way to get double tap to wake on any android?:9.373092207621596\n",
      "A possible solution to \"nerf\" TEAMING:Issue with Android Market...:9.216476001373563\n",
      "A possible solution to \"nerf\" TEAMING:New skill?:8.789484748752262\n",
      "A possible solution to \"nerf\" TEAMING:Pking with Slayer Helm:8.287729097419966\n",
      "A possible solution to \"nerf\" TEAMING:Problems connecting PS3 to LCD monitor via HMDI cable with DVI adapter:9.574570128391185\n",
      "A possible solution to \"nerf\" TEAMING:Question about Final Fantasy 7 Story [FF7/CC:FF7 Spoilers]:9.027869104627543\n",
      "A possible solution to \"nerf\" TEAMING:Question about young prayer.:9.68432139608935\n",
      "A possible solution to \"nerf\" TEAMING:Questions about some braun razors:9.563619798901888\n",
      "A possible solution to \"nerf\" TEAMING:Questions about the Galaxy S3:9.49869033542284\n",
      "A possible solution to \"nerf\" TEAMING:RCS missing:8.99651123276831\n",
      "A possible solution to \"nerf\" TEAMING:Seriously guys come on.:8.748908201536647\n",
      "A possible solution to \"nerf\" TEAMING:Since divine didn't pass there's other options.:8.25032736487332\n",
      "A possible solution to \"nerf\" TEAMING:Summer volunteer opportunities:9.20614565509352\n",
      "A possible solution to \"nerf\" TEAMING:System Settings or the Internet Browser won't launch. Did I brick my N3DS. 9.8-2XU > 9.2-20U:8.887614628941787\n",
      "A possible solution to \"nerf\" TEAMING:Things you heard while at the hospital you wish you did not hear?:9.25726108652318\n",
      "A possible solution to \"nerf\" TEAMING:This may not be the appropriate place to post this but I'm selling my 42mm Milanese Loop and am willing to hook it up for you!:9.229057507231044\n",
      "A possible solution to \"nerf\" TEAMING:Thoboy..:8.839397465116537\n",
      "A possible solution to \"nerf\" TEAMING:Undergrad student starting to feel under qualified and overwhelmed:8.943563465541143\n",
      "A possible solution to \"nerf\" TEAMING:Vanilla Crayfish:8.880146902877783\n",
      "A possible solution to \"nerf\" TEAMING:What do most people do that's completely hypocritical but don't realise it:8.87509835957592\n",
      "A possible solution to \"nerf\" TEAMING:What is one thing your significant other has done for you that you can't ever pay them back for?:8.98343263242291\n",
      "A possible solution to \"nerf\" TEAMING:What is the most downvoted comment you have ever seen and what did it say?:8.784028307279854\n",
      "A possible solution to \"nerf\" TEAMING:What pop culture expression, or any phrase really, are you actually planning on using more often?:8.850969608834873\n",
      "A possible solution to \"nerf\" TEAMING:What's a good television show in Latin American Spanish that I could watch online to practice hearing and understanding conversational Spanish?:8.831272679385098\n",
      "A possible solution to \"nerf\" TEAMING:What's going on here? Can't choose damaged book.:8.879273331214785\n",
      "A possible solution to \"nerf\" TEAMING:What's the worst nightmare you never had?:8.780289358513619\n",
      "A possible solution to \"nerf\" TEAMING:Where's the best place to chop yews in f2p?:8.850918255289923\n",
      "A possible solution to \"nerf\" TEAMING:Why are people more likely to cut in front of you when driving in traffic, but if they were standing in line, they wouldn't do the same thing?:8.87102947533305\n",
      "A possible solution to \"nerf\" TEAMING:Why did the rabbit eat the road?:9.146385620312216\n",
      "A possible solution to \"nerf\" TEAMING:Why is China so concerned with having a \"buffer zone\" with the U.S.:9.314878981600279\n",
      "A possible solution to \"nerf\" TEAMING:[HELP] Moving a pregnant molly?:8.989560673266677\n",
      "A possible solution to \"nerf\" TEAMING:[PF] Strix Zen Archer:8.411573534867323\n",
      "A possible solution to \"nerf\" TEAMING:[iPad] When I touch links/subreddits on the iPad screen, it doesn't register in AB:8.964935207836865\n",
      "A possible solution to \"nerf\" TEAMING:biomedical innovations class.:8.829218671029057\n",
      "A possible solution to \"nerf\" TEAMING:does anyone else have this issue?:9.220090273433543\n",
      "A possible solution to \"nerf\" TEAMING:foxy:8.908443996227474\n",
      "A possible solution to \"nerf\" TEAMING:rex reclaim:8.733725332288163\n",
      "A possible solution to \"nerf\" TEAMING:rs authenticator:8.928112445183926\n"
     ]
    },
    {
     "name": "stderr",
     "output_type": "stream",
     "text": [
      "\n",
      "100%|██████████| 66/66 [00:00<00:00, 2476.18it/s]\n"
     ]
    },
    {
     "name": "stdout",
     "output_type": "stream",
     "text": [
      "A598454:A598454:1.4068732571844293\n",
      "A598454:Advice on Arduino Capabilities:4.60553757706805\n",
      "A598454:Amd r9 380 driver crashing:6.838466103751327\n",
      "A598454:Can I disolve gelatine again once cold?:3.4472936989810097\n",
      "A598454:Can I kill black demon at lv51?:5.577444569786065\n",
      "A598454:Can i recover my corrupted USB?:1.94109468044888\n",
      "A598454:Confession bear at khols:2.9477466831605144\n",
      "A598454:DTX120: #87 - Nashville:4.620118137673394\n",
      "A598454:Dear sociologists of Reddit, what do you think of the social changes in a country such as Singapore, that has caused it to be stubborn towards government policies that try to address the declining birthrate in the country.:5.158092801951031\n",
      "A598454:Did Asian countries have similar misconceptions of Europe, as Europe had of Asia?:6.800460433310965\n",
      "A598454:Does anyone know where I can watch The Thing online for free?:4.203601619677991\n",
      "A598454:EMS and USPS?:5.630329787829718\n",
      "A598454:Exporting from AutoDesk 2015:5.377871524975067\n",
      "A598454:GPU usage fluctuating. Pic inside:3.2449864371313892\n",
      "A598454:Group Sit - Day 17:3.5116368931419126\n",
      "A598454:Happy multiplier for xp:4.763682490278837\n",
      "A598454:Have you purchased a diamond / engagement ring online? Were you happy with it?:5.529413736351698\n",
      "A598454:Help with a diagnosis please!:7.055975625793527\n",
      "A598454:How do I beat my anticipatory and flight anxiety?? Also first time Xanax user.:4.695850090766138\n",
      "A598454:How does the reset of the world view Texas?:2.293227281594919\n",
      "A598454:I need advice on a good comeback:3.252635385483667\n",
      "A598454:I played 2007scape when it was first released, what's changed since then?:4.573793630250453\n",
      "A598454:I think I known the band, but cant find the fucking song! Help.:5.049500242739484\n",
      "A598454:I think my managers are trying to hire based on appearance what can I do to stop it?:4.494318493610263\n",
      "A598454:I was wondering if any of these additives caused any false positives for my water tests.:5.916352660866838\n",
      "A598454:If you had to make up a story about where babies came from, what you you say?:4.702266219816453\n",
      "A598454:Is there a way to get double tap to wake on any android?:5.690396286241448\n",
      "A598454:Issue with Android Market...:5.451118783589691\n",
      "A598454:New skill?:5.6667607850206085\n",
      "A598454:Pking with Slayer Helm:7.8751395376811075\n",
      "A598454:Problems connecting PS3 to LCD monitor via HMDI cable with DVI adapter:7.65242776834229\n",
      "A598454:Question about Final Fantasy 7 Story [FF7/CC:FF7 Spoilers]:6.951817790038808\n",
      "A598454:Question about young prayer.:5.662037361997312\n",
      "A598454:Questions about some braun razors:6.319950198431809\n",
      "A598454:Questions about the Galaxy S3:5.2761741358698355\n",
      "A598454:RCS missing:5.086003212078284\n",
      "A598454:Seriously guys come on.:2.246320813695509\n",
      "A598454:Since divine didn't pass there's other options.:7.01572786241365\n",
      "A598454:Summer volunteer opportunities:3.855864743153974\n",
      "A598454:System Settings or the Internet Browser won't launch. Did I brick my N3DS. 9.8-2XU > 9.2-20U:4.028052193448792\n",
      "A598454:Things you heard while at the hospital you wish you did not hear?:6.1751147303133\n",
      "A598454:This may not be the appropriate place to post this but I'm selling my 42mm Milanese Loop and am willing to hook it up for you!:4.475134686463798\n",
      "A598454:Thoboy..:2.6793161782913453\n",
      "A598454:Undergrad student starting to feel under qualified and overwhelmed:4.740348540583693\n",
      "A598454:Vanilla Crayfish:2.4717056058185287\n",
      "A598454:What do most people do that's completely hypocritical but don't realise it:4.470041252127403\n",
      "A598454:What is one thing your significant other has done for you that you can't ever pay them back for?:4.680726427686267\n",
      "A598454:What is the most downvoted comment you have ever seen and what did it say?:3.3562119964711723\n",
      "A598454:What pop culture expression, or any phrase really, are you actually planning on using more often?:2.164216711112866\n",
      "A598454:What's a good television show in Latin American Spanish that I could watch online to practice hearing and understanding conversational Spanish?:1.7843230341467295\n",
      "A598454:What's going on here? Can't choose damaged book.:2.5750014150296687\n",
      "A598454:What's the worst nightmare you never had?:4.006478538608727\n",
      "A598454:Where's the best place to chop yews in f2p?:3.8381007143111767\n",
      "A598454:Why are people more likely to cut in front of you when driving in traffic, but if they were standing in line, they wouldn't do the same thing?:4.278710761140902\n",
      "A598454:Why did the rabbit eat the road?:3.167707684294175\n",
      "A598454:Why is China so concerned with having a \"buffer zone\" with the U.S.:6.344884815424571\n",
      "A598454:[HELP] Moving a pregnant molly?:4.516279018381374\n",
      "A598454:[PF] Strix Zen Archer:4.54187748997094\n",
      "A598454:[iPad] When I touch links/subreddits on the iPad screen, it doesn't register in AB:5.0522915415924095\n",
      "A598454:biomedical innovations class.:3.4464978408998963\n",
      "A598454:does anyone else have this issue?:5.094206844600517\n",
      "A598454:foxy:2.1834107083764325\n",
      "A598454:rex reclaim:0.9379261801281247\n",
      "A598454:rs authenticator:3.6788480216285713\n"
     ]
    },
    {
     "name": "stderr",
     "output_type": "stream",
     "text": [
      "\n",
      "100%|██████████| 66/66 [00:00<00:00, 2119.54it/s]\n",
      "  6%|▌         | 4/66 [00:00<00:01, 31.00it/s]"
     ]
    },
    {
     "name": "stdout",
     "output_type": "stream",
     "text": [
      "Advice on Arduino Capabilities:Advice on Arduino Capabilities:4.564525784219747\n",
      "Advice on Arduino Capabilities:Amd r9 380 driver crashing:7.01665329198475\n",
      "Advice on Arduino Capabilities:Can I disolve gelatine again once cold?:5.386233153049528\n",
      "Advice on Arduino Capabilities:Can I kill black demon at lv51?:6.853997104811309\n",
      "Advice on Arduino Capabilities:Can i recover my corrupted USB?:4.735822764942467\n",
      "Advice on Arduino Capabilities:Confession bear at khols:5.280755679028256\n",
      "Advice on Arduino Capabilities:DTX120: #87 - Nashville:6.379107610128214\n",
      "Advice on Arduino Capabilities:Dear sociologists of Reddit, what do you think of the social changes in a country such as Singapore, that has caused it to be stubborn towards government policies that try to address the declining birthrate in the country.:6.565865120217255\n",
      "Advice on Arduino Capabilities:Did Asian countries have similar misconceptions of Europe, as Europe had of Asia?:7.949541132963766\n",
      "Advice on Arduino Capabilities:Does anyone know where I can watch The Thing online for free?:6.015859480593\n",
      "Advice on Arduino Capabilities:EMS and USPS?:6.680249881257386\n",
      "Advice on Arduino Capabilities:Exporting from AutoDesk 2015:6.022622626618863\n",
      "Advice on Arduino Capabilities:GPU usage fluctuating. Pic inside:5.225306187911781\n",
      "Advice on Arduino Capabilities:Group Sit - Day 17:5.503904956740031\n",
      "Advice on Arduino Capabilities:Happy multiplier for xp:6.3215474799550915\n",
      "Advice on Arduino Capabilities:Have you purchased a diamond / engagement ring online? Were you happy with it?:6.753219011137619\n",
      "Advice on Arduino Capabilities:Help with a diagnosis please!:7.644678972658115\n",
      "Advice on Arduino Capabilities:How do I beat my anticipatory and flight anxiety?? Also first time Xanax user.:6.471790240875473\n",
      "Advice on Arduino Capabilities:How does the reset of the world view Texas?:4.851789981289949\n",
      "Advice on Arduino Capabilities:I need advice on a good comeback:5.46508747646588\n",
      "Advice on Arduino Capabilities:I played 2007scape when it was first released, what's changed since then?:6.371951791130942\n",
      "Advice on Arduino Capabilities:I think I known the band, but cant find the fucking song! Help.:6.65179688845693\n",
      "Advice on Arduino Capabilities:I think my managers are trying to hire based on appearance what can I do to stop it?:6.248851009153396\n",
      "Advice on Arduino Capabilities:I was wondering if any of these additives caused any false positives for my water tests.:6.7370297710300635\n",
      "Advice on Arduino Capabilities:If you had to make up a story about where babies came from, what you you say?:6.213142324990484\n",
      "Advice on Arduino Capabilities:Is there a way to get double tap to wake on any android?:6.149873895794313\n",
      "Advice on Arduino Capabilities:Issue with Android Market...:6.370372622069588\n",
      "Advice on Arduino Capabilities:New skill?:6.807582419418784\n",
      "Advice on Arduino Capabilities:Pking with Slayer Helm:8.41671443486961\n",
      "Advice on Arduino Capabilities:Problems connecting PS3 to LCD monitor via HMDI cable with DVI adapter:7.175553293222838\n",
      "Advice on Arduino Capabilities:Question about Final Fantasy 7 Story [FF7/CC:FF7 Spoilers]:7.812841692765541\n",
      "Advice on Arduino Capabilities:Question about young prayer.:7.097486823278468\n",
      "Advice on Arduino Capabilities:Questions about some braun razors:6.821036419458542\n",
      "Advice on Arduino Capabilities:Questions about the Galaxy S3:6.20839230374641\n",
      "Advice on Arduino Capabilities:RCS missing:6.601650308169866\n",
      "Advice on Arduino Capabilities:Seriously guys come on.:4.849197177462382\n",
      "Advice on Arduino Capabilities:Since divine didn't pass there's other options.:7.803219456250396\n",
      "Advice on Arduino Capabilities:Summer volunteer opportunities:5.819402467411485\n",
      "Advice on Arduino Capabilities:System Settings or the Internet Browser won't launch. Did I brick my N3DS. 9.8-2XU > 9.2-20U:5.752427540856083\n",
      "Advice on Arduino Capabilities:Things you heard while at the hospital you wish you did not hear?:7.11488757082576\n",
      "Advice on Arduino Capabilities:This may not be the appropriate place to post this but I'm selling my 42mm Milanese Loop and am willing to hook it up for you!:5.8746998439780125\n",
      "Advice on Arduino Capabilities:Thoboy..:5.124740779126579\n",
      "Advice on Arduino Capabilities:Undergrad student starting to feel under qualified and overwhelmed:6.263983356374214\n",
      "Advice on Arduino Capabilities:Vanilla Crayfish:5.0552958401658\n",
      "Advice on Arduino Capabilities:What do most people do that's completely hypocritical but don't realise it:6.377019241290229\n",
      "Advice on Arduino Capabilities:What is one thing your significant other has done for you that you can't ever pay them back for?:6.415801289243954\n",
      "Advice on Arduino Capabilities:What is the most downvoted comment you have ever seen and what did it say?:5.558607932809865\n",
      "Advice on Arduino Capabilities:What pop culture expression, or any phrase really, are you actually planning on using more often?:4.890761418790024\n",
      "Advice on Arduino Capabilities:What's a good television show in Latin American Spanish that I could watch online to practice hearing and understanding conversational Spanish?:4.667699957177544\n",
      "Advice on Arduino Capabilities:What's going on here? Can't choose damaged book.:5.064576712880466\n",
      "Advice on Arduino Capabilities:What's the worst nightmare you never had?:5.848274892336577\n",
      "Advice on Arduino Capabilities:Where's the best place to chop yews in f2p?:5.8483649995502285\n",
      "Advice on Arduino Capabilities:Why are people more likely to cut in front of you when driving in traffic, but if they were standing in line, they wouldn't do the same thing?:5.949095558471647\n",
      "Advice on Arduino Capabilities:Why did the rabbit eat the road?:5.486581501543803\n",
      "Advice on Arduino Capabilities:Why is China so concerned with having a \"buffer zone\" with the U.S.:7.3372780858433115\n",
      "Advice on Arduino Capabilities:[HELP] Moving a pregnant molly?:6.167417234027916\n",
      "Advice on Arduino Capabilities:[PF] Strix Zen Archer:6.03784602293954\n",
      "Advice on Arduino Capabilities:[iPad] When I touch links/subreddits on the iPad screen, it doesn't register in AB:6.081785969619732\n",
      "Advice on Arduino Capabilities:biomedical innovations class.:5.4528834046565295\n",
      "Advice on Arduino Capabilities:does anyone else have this issue?:5.972843804799207\n",
      "Advice on Arduino Capabilities:foxy:4.961426348272164\n",
      "Advice on Arduino Capabilities:rex reclaim:4.214892161067959\n",
      "Advice on Arduino Capabilities:rs authenticator:5.768574493778395\n"
     ]
    },
    {
     "name": "stderr",
     "output_type": "stream",
     "text": [
      "\n",
      "100%|██████████| 66/66 [00:00<00:00, 2584.58it/s]\n"
     ]
    },
    {
     "name": "stdout",
     "output_type": "stream",
     "text": [
      "Amd r9 380 driver crashing:Amd r9 380 driver crashing:4.319327903182127\n",
      "Amd r9 380 driver crashing:Can I disolve gelatine again once cold?:6.962299732050456\n",
      "Amd r9 380 driver crashing:Can I kill black demon at lv51?:7.660123639142345\n",
      "Amd r9 380 driver crashing:Can i recover my corrupted USB?:6.777762279541674\n",
      "Amd r9 380 driver crashing:Confession bear at khols:6.962979369360587\n",
      "Amd r9 380 driver crashing:DTX120: #87 - Nashville:7.7368952862630795\n",
      "Amd r9 380 driver crashing:Dear sociologists of Reddit, what do you think of the social changes in a country such as Singapore, that has caused it to be stubborn towards government policies that try to address the declining birthrate in the country.:7.733583637668049\n",
      "Amd r9 380 driver crashing:Did Asian countries have similar misconceptions of Europe, as Europe had of Asia?:9.151014394041232\n",
      "Amd r9 380 driver crashing:Does anyone know where I can watch The Thing online for free?:7.250754052577664\n",
      "Amd r9 380 driver crashing:EMS and USPS?:7.695474036345326\n",
      "Amd r9 380 driver crashing:Exporting from AutoDesk 2015:6.619967626294873\n",
      "Amd r9 380 driver crashing:GPU usage fluctuating. Pic inside:6.319294762454248\n",
      "Amd r9 380 driver crashing:Group Sit - Day 17:6.975141255983237\n",
      "Amd r9 380 driver crashing:Happy multiplier for xp:7.3962045549949345\n",
      "Amd r9 380 driver crashing:Have you purchased a diamond / engagement ring online? Were you happy with it?:7.976023892654164\n",
      "Amd r9 380 driver crashing:Help with a diagnosis please!:8.106044847819113\n",
      "Amd r9 380 driver crashing:How do I beat my anticipatory and flight anxiety?? Also first time Xanax user.:7.656320413080858\n",
      "Amd r9 380 driver crashing:How does the reset of the world view Texas?:6.774948469636856\n",
      "Amd r9 380 driver crashing:I need advice on a good comeback:7.05922624972556\n",
      "Amd r9 380 driver crashing:I played 2007scape when it was first released, what's changed since then?:7.4772498645629115\n",
      "Amd r9 380 driver crashing:I think I known the band, but cant find the fucking song! Help.:7.920694237401104\n",
      "Amd r9 380 driver crashing:I think my managers are trying to hire based on appearance what can I do to stop it?:7.5100709873360305\n",
      "Amd r9 380 driver crashing:I was wondering if any of these additives caused any false positives for my water tests.:7.8005026803918\n",
      "Amd r9 380 driver crashing:If you had to make up a story about where babies came from, what you you say?:7.663723680728868\n",
      "Amd r9 380 driver crashing:Is there a way to get double tap to wake on any android?:7.085114862968039\n",
      "Amd r9 380 driver crashing:Issue with Android Market...:7.139589522039003\n",
      "Amd r9 380 driver crashing:New skill?:7.892143516889563\n",
      "Amd r9 380 driver crashing:Pking with Slayer Helm:8.432125303311624\n",
      "Amd r9 380 driver crashing:Problems connecting PS3 to LCD monitor via HMDI cable with DVI adapter:6.534810045895409\n",
      "Amd r9 380 driver crashing:Question about Final Fantasy 7 Story [FF7/CC:FF7 Spoilers]:7.9506372844326805\n",
      "Amd r9 380 driver crashing:Question about young prayer.:8.401490730927026\n",
      "Amd r9 380 driver crashing:Questions about some braun razors:7.604789614514731\n",
      "Amd r9 380 driver crashing:Questions about the Galaxy S3:7.187924422492603\n",
      "Amd r9 380 driver crashing:RCS missing:7.6966466258736235\n",
      "Amd r9 380 driver crashing:Seriously guys come on.:6.720685561118493\n",
      "Amd r9 380 driver crashing:Since divine didn't pass there's other options.:8.29562886258913\n",
      "Amd r9 380 driver crashing:Summer volunteer opportunities:7.526055609714292\n",
      "Amd r9 380 driver crashing:System Settings or the Internet Browser won't launch. Did I brick my N3DS. 9.8-2XU > 9.2-20U:6.832052717447067\n",
      "Amd r9 380 driver crashing:Things you heard while at the hospital you wish you did not hear?:7.668956845848175\n",
      "Amd r9 380 driver crashing:This may not be the appropriate place to post this but I'm selling my 42mm Milanese Loop and am willing to hook it up for you!:7.157618353607907\n",
      "Amd r9 380 driver crashing:Thoboy..:6.87247629325103\n",
      "Amd r9 380 driver crashing:Undergrad student starting to feel under qualified and overwhelmed:7.47410993238865\n",
      "Amd r9 380 driver crashing:Vanilla Crayfish:7.02402737007651\n",
      "Amd r9 380 driver crashing:What do most people do that's completely hypocritical but don't realise it:7.5535435139175835\n",
      "Amd r9 380 driver crashing:What is one thing your significant other has done for you that you can't ever pay them back for?:7.5992665004419875\n",
      "Amd r9 380 driver crashing:What is the most downvoted comment you have ever seen and what did it say?:7.088247521358974\n",
      "Amd r9 380 driver crashing:What pop culture expression, or any phrase really, are you actually planning on using more often?:6.915564623597021\n",
      "Amd r9 380 driver crashing:What's a good television show in Latin American Spanish that I could watch online to practice hearing and understanding conversational Spanish?:6.819358386756697\n",
      "Amd r9 380 driver crashing:What's going on here? Can't choose damaged book.:6.949521032024817\n",
      "Amd r9 380 driver crashing:What's the worst nightmare you never had?:7.019220626335684\n",
      "Amd r9 380 driver crashing:Where's the best place to chop yews in f2p?:7.296328002798099\n",
      "Amd r9 380 driver crashing:Why are people more likely to cut in front of you when driving in traffic, but if they were standing in line, they wouldn't do the same thing?:7.227874785913723\n",
      "Amd r9 380 driver crashing:Why did the rabbit eat the road?:7.133072334348957\n",
      "Amd r9 380 driver crashing:Why is China so concerned with having a \"buffer zone\" with the U.S.:8.365309951096826\n",
      "Amd r9 380 driver crashing:[HELP] Moving a pregnant molly?:7.5962564596967646\n",
      "Amd r9 380 driver crashing:[PF] Strix Zen Archer:7.201270762335007\n",
      "Amd r9 380 driver crashing:[iPad] When I touch links/subreddits on the iPad screen, it doesn't register in AB:6.641278004179462\n",
      "Amd r9 380 driver crashing:biomedical innovations class.:7.156161548410868\n",
      "Amd r9 380 driver crashing:does anyone else have this issue?:6.9054344361451765\n",
      "Amd r9 380 driver crashing:foxy:7.012280567504947\n",
      "Amd r9 380 driver crashing:rex reclaim:6.661277058776898\n",
      "Amd r9 380 driver crashing:rs authenticator:7.077778583006562\n"
     ]
    },
    {
     "name": "stderr",
     "output_type": "stream",
     "text": [
      "\n",
      "100%|██████████| 66/66 [00:00<00:00, 1683.99it/s]\n"
     ]
    },
    {
     "name": "stdout",
     "output_type": "stream",
     "text": [
      "Can I disolve gelatine again once cold?:Can I disolve gelatine again once cold?:3.392285304261737\n",
      "Can I disolve gelatine again once cold?:Can I kill black demon at lv51?:6.155420815080513\n",
      "Can I disolve gelatine again once cold?:Can i recover my corrupted USB?:3.5378422097543494\n",
      "Can I disolve gelatine again once cold?:Confession bear at khols:4.183942595538377\n",
      "Can I disolve gelatine again once cold?:DTX120: #87 - Nashville:5.382976674223274\n",
      "Can I disolve gelatine again once cold?:Dear sociologists of Reddit, what do you think of the social changes in a country such as Singapore, that has caused it to be stubborn towards government policies that try to address the declining birthrate in the country.:5.689549111917619\n",
      "Can I disolve gelatine again once cold?:Did Asian countries have similar misconceptions of Europe, as Europe had of Asia?:7.375479020588185\n",
      "Can I disolve gelatine again once cold?:Does anyone know where I can watch The Thing online for free?:5.089615635253219\n",
      "Can I disolve gelatine again once cold?:EMS and USPS?:6.117074168043942\n",
      "Can I disolve gelatine again once cold?:Exporting from AutoDesk 2015:5.544147036464243\n",
      "Can I disolve gelatine again once cold?:GPU usage fluctuating. Pic inside:4.279894755053542\n",
      "Can I disolve gelatine again once cold?:Group Sit - Day 17:4.365835076803544\n",
      "Can I disolve gelatine again once cold?:Happy multiplier for xp:5.706537516337124\n",
      "Can I disolve gelatine again once cold?:Have you purchased a diamond / engagement ring online? Were you happy with it?:6.079456443579319\n",
      "Can I disolve gelatine again once cold?:Help with a diagnosis please!:6.657528811815878\n",
      "Can I disolve gelatine again once cold?:How do I beat my anticipatory and flight anxiety?? Also first time Xanax user.:5.471073553806167\n",
      "Can I disolve gelatine again once cold?:How does the reset of the world view Texas?:3.63915795891772\n",
      "Can I disolve gelatine again once cold?:I need advice on a good comeback:4.377831825869682\n",
      "Can I disolve gelatine again once cold?:I played 2007scape when it was first released, what's changed since then?:5.409845035370606\n",
      "Can I disolve gelatine again once cold?:I think I known the band, but cant find the fucking song! Help.:5.7690033942339864\n",
      "Can I disolve gelatine again once cold?:I think my managers are trying to hire based on appearance what can I do to stop it?:5.362827068655967\n",
      "Can I disolve gelatine again once cold?:I was wondering if any of these additives caused any false positives for my water tests.:5.675843892082044\n",
      "Can I disolve gelatine again once cold?:If you had to make up a story about where babies came from, what you you say?:5.360481429699398\n",
      "Can I disolve gelatine again once cold?:Is there a way to get double tap to wake on any android?:6.071983066148387\n",
      "Can I disolve gelatine again once cold?:Issue with Android Market...:5.785269767022778\n",
      "Can I disolve gelatine again once cold?:New skill?:6.294097594839161\n",
      "Can I disolve gelatine again once cold?:Pking with Slayer Helm:8.033374848531048\n",
      "Can I disolve gelatine again once cold?:Problems connecting PS3 to LCD monitor via HMDI cable with DVI adapter:7.64734464884927\n",
      "Can I disolve gelatine again once cold?:Question about Final Fantasy 7 Story [FF7/CC:FF7 Spoilers]:7.190029389257029\n",
      "Can I disolve gelatine again once cold?:Question about young prayer.:6.262258529462111\n",
      "Can I disolve gelatine again once cold?:Questions about some braun razors:6.3567442035176684\n",
      "Can I disolve gelatine again once cold?:Questions about the Galaxy S3:5.872027123607267\n",
      "Can I disolve gelatine again once cold?:RCS missing:5.553536473227416\n",
      "Can I disolve gelatine again once cold?:Seriously guys come on.:3.5979878259807356\n",
      "Can I disolve gelatine again once cold?:Since divine didn't pass there's other options.:7.27197615181713\n",
      "Can I disolve gelatine again once cold?:Summer volunteer opportunities:4.864713412291179\n",
      "Can I disolve gelatine again once cold?:System Settings or the Internet Browser won't launch. Did I brick my N3DS. 9.8-2XU > 9.2-20U:5.022580199505718\n",
      "Can I disolve gelatine again once cold?:Things you heard while at the hospital you wish you did not hear?:6.337035476814552\n",
      "Can I disolve gelatine again once cold?:This may not be the appropriate place to post this but I'm selling my 42mm Milanese Loop and am willing to hook it up for you!:5.103106613481907\n",
      "Can I disolve gelatine again once cold?:Thoboy..:3.9143161333374925\n",
      "Can I disolve gelatine again once cold?:Undergrad student starting to feel under qualified and overwhelmed:5.440924657840223\n",
      "Can I disolve gelatine again once cold?:Vanilla Crayfish:3.8779202857609043\n",
      "Can I disolve gelatine again once cold?:What do most people do that's completely hypocritical but don't realise it:5.362115080291908\n",
      "Can I disolve gelatine again once cold?:What is one thing your significant other has done for you that you can't ever pay them back for?:5.461075951469903\n",
      "Can I disolve gelatine again once cold?:What is the most downvoted comment you have ever seen and what did it say?:4.514973442024872\n",
      "Can I disolve gelatine again once cold?:What pop culture expression, or any phrase really, are you actually planning on using more often?:3.7085181496355135\n",
      "Can I disolve gelatine again once cold?:What's a good television show in Latin American Spanish that I could watch online to practice hearing and understanding conversational Spanish?:3.4723965215802735\n",
      "Can I disolve gelatine again once cold?:What's going on here? Can't choose damaged book.:3.934077130171363\n",
      "Can I disolve gelatine again once cold?:What's the worst nightmare you never had?:4.812059432144008\n",
      "Can I disolve gelatine again once cold?:Where's the best place to chop yews in f2p?:4.917174314765395\n",
      "Can I disolve gelatine again once cold?:Why are people more likely to cut in front of you when driving in traffic, but if they were standing in line, they wouldn't do the same thing?:5.009007752606993\n",
      "Can I disolve gelatine again once cold?:Why did the rabbit eat the road?:4.350539837131988\n",
      "Can I disolve gelatine again once cold?:Why is China so concerned with having a \"buffer zone\" with the U.S.:6.5667509030968265\n",
      "Can I disolve gelatine again once cold?:[HELP] Moving a pregnant molly?:5.105977718381572\n",
      "Can I disolve gelatine again once cold?:[PF] Strix Zen Archer:5.257253091214222\n",
      "Can I disolve gelatine again once cold?:[iPad] When I touch links/subreddits on the iPad screen, it doesn't register in AB:5.367286735142483\n",
      "Can I disolve gelatine again once cold?:biomedical innovations class.:4.410123292042583\n",
      "Can I disolve gelatine again once cold?:does anyone else have this issue?:5.8489815480605785\n",
      "Can I disolve gelatine again once cold?:foxy:3.8145258397424557\n",
      "Can I disolve gelatine again once cold?:rex reclaim:2.9556111418241082\n",
      "Can I disolve gelatine again once cold?:rs authenticator:4.964649396413128\n"
     ]
    },
    {
     "name": "stderr",
     "output_type": "stream",
     "text": [
      "\n",
      "  0%|          | 0/66 [00:00<?, ?it/s]\u001b[A"
     ]
    },
    {
     "name": "stdout",
     "output_type": "stream",
     "text": [
      "Can I kill black demon at lv51?:Can I kill black demon at lv51?:4.6811912754322575\n"
     ]
    },
    {
     "name": "stderr",
     "output_type": "stream",
     "text": [
      "100%|██████████| 66/66 [00:00<00:00, 2209.41it/s]\n"
     ]
    },
    {
     "name": "stdout",
     "output_type": "stream",
     "text": [
      "Can I kill black demon at lv51?:Can i recover my corrupted USB?:5.671625287720047\n",
      "Can I kill black demon at lv51?:Confession bear at khols:6.03735599143737\n",
      "Can I kill black demon at lv51?:DTX120: #87 - Nashville:6.848762637846211\n",
      "Can I kill black demon at lv51?:Dear sociologists of Reddit, what do you think of the social changes in a country such as Singapore, that has caused it to be stubborn towards government policies that try to address the declining birthrate in the country.:7.1392229853729265\n",
      "Can I kill black demon at lv51?:Did Asian countries have similar misconceptions of Europe, as Europe had of Asia?:8.377621665808771\n",
      "Can I kill black demon at lv51?:Does anyone know where I can watch The Thing online for free?:6.613085359596698\n",
      "Can I kill black demon at lv51?:EMS and USPS?:7.314702728634623\n",
      "Can I kill black demon at lv51?:Exporting from AutoDesk 2015:6.997790049392604\n",
      "Can I kill black demon at lv51?:GPU usage fluctuating. Pic inside:6.193952605776123\n",
      "Can I kill black demon at lv51?:Group Sit - Day 17:5.963087819085204\n",
      "Can I kill black demon at lv51?:Happy multiplier for xp:6.402266806165246\n",
      "Can I kill black demon at lv51?:Have you purchased a diamond / engagement ring online? Were you happy with it?:7.243135570649149\n",
      "Can I kill black demon at lv51?:Help with a diagnosis please!:7.655466189140441\n",
      "Can I kill black demon at lv51?:How do I beat my anticipatory and flight anxiety?? Also first time Xanax user.:6.8825764614380045\n",
      "Can I kill black demon at lv51?:How does the reset of the world view Texas?:5.679544895201262\n",
      "Can I kill black demon at lv51?:I need advice on a good comeback:5.962907849987689\n",
      "Can I kill black demon at lv51?:I played 2007scape when it was first released, what's changed since then?:6.4188699158026905\n",
      "Can I kill black demon at lv51?:I think I known the band, but cant find the fucking song! Help.:7.096239861765215\n",
      "Can I kill black demon at lv51?:I think my managers are trying to hire based on appearance what can I do to stop it?:6.727329447565332\n",
      "Can I kill black demon at lv51?:I was wondering if any of these additives caused any false positives for my water tests.:7.132665596710839\n",
      "Can I kill black demon at lv51?:If you had to make up a story about where babies came from, what you you say?:6.808814079436547\n",
      "Can I kill black demon at lv51?:Is there a way to get double tap to wake on any android?:7.2761762712884845\n",
      "Can I kill black demon at lv51?:Issue with Android Market...:7.106231289889226\n",
      "Can I kill black demon at lv51?:New skill?:6.434348603564347\n",
      "Can I kill black demon at lv51?:Pking with Slayer Helm:6.525693659602112\n",
      "Can I kill black demon at lv51?:Problems connecting PS3 to LCD monitor via HMDI cable with DVI adapter:8.135688442781634\n",
      "Can I kill black demon at lv51?:Question about Final Fantasy 7 Story [FF7/CC:FF7 Spoilers]:7.118731553541515\n",
      "Can I kill black demon at lv51?:Question about young prayer.:7.469320719025281\n",
      "Can I kill black demon at lv51?:Questions about some braun razors:7.5068178160474135\n",
      "Can I kill black demon at lv51?:Questions about the Galaxy S3:7.171884009267382\n",
      "Can I kill black demon at lv51?:RCS missing:6.8125821064948155\n",
      "Can I kill black demon at lv51?:Seriously guys come on.:5.623450802348655\n",
      "Can I kill black demon at lv51?:Since divine didn't pass there's other options.:6.704967239300345\n",
      "Can I kill black demon at lv51?:Summer volunteer opportunities:6.294927060278788\n",
      "Can I kill black demon at lv51?:System Settings or the Internet Browser won't launch. Did I brick my N3DS. 9.8-2XU > 9.2-20U:6.428293011795107\n",
      "Can I kill black demon at lv51?:Things you heard while at the hospital you wish you did not hear?:7.279989112796477\n",
      "Can I kill black demon at lv51?:This may not be the appropriate place to post this but I'm selling my 42mm Milanese Loop and am willing to hook it up for you!:6.790844811348004\n",
      "Can I kill black demon at lv51?:Thoboy..:5.896445403850216\n",
      "Can I kill black demon at lv51?:Undergrad student starting to feel under qualified and overwhelmed:6.723294136542298\n",
      "Can I kill black demon at lv51?:Vanilla Crayfish:5.974365233100334\n",
      "Can I kill black demon at lv51?:What do most people do that's completely hypocritical but don't realise it:6.73986077466366\n",
      "Can I kill black demon at lv51?:What is one thing your significant other has done for you that you can't ever pay them back for?:6.901973301815329\n",
      "Can I kill black demon at lv51?:What is the most downvoted comment you have ever seen and what did it say?:6.149870190254932\n",
      "Can I kill black demon at lv51?:What pop culture expression, or any phrase really, are you actually planning on using more often?:5.761366969253158\n",
      "Can I kill black demon at lv51?:What's a good television show in Latin American Spanish that I could watch online to practice hearing and understanding conversational Spanish?:5.546358706807472\n",
      "Can I kill black demon at lv51?:What's going on here? Can't choose damaged book.:5.806500377758189\n",
      "Can I kill black demon at lv51?:What's the worst nightmare you never had?:6.081966241986093\n",
      "Can I kill black demon at lv51?:Where's the best place to chop yews in f2p?:5.824475228014518\n",
      "Can I kill black demon at lv51?:Why are people more likely to cut in front of you when driving in traffic, but if they were standing in line, they wouldn't do the same thing?:6.501662773768286\n",
      "Can I kill black demon at lv51?:Why did the rabbit eat the road?:6.192923142346339\n",
      "Can I kill black demon at lv51?:Why is China so concerned with having a \"buffer zone\" with the U.S.:7.568316478806864\n",
      "Can I kill black demon at lv51?:[HELP] Moving a pregnant molly?:6.604837637413681\n",
      "Can I kill black demon at lv51?:[PF] Strix Zen Archer:5.815931880336359\n",
      "Can I kill black demon at lv51?:[iPad] When I touch links/subreddits on the iPad screen, it doesn't register in AB:6.72037161060886\n",
      "Can I kill black demon at lv51?:biomedical innovations class.:6.207080467013881\n",
      "Can I kill black demon at lv51?:does anyone else have this issue?:6.924883889694263\n",
      "Can I kill black demon at lv51?:foxy:5.832358805711161\n",
      "Can I kill black demon at lv51?:rex reclaim:5.325636552797912\n",
      "Can I kill black demon at lv51?:rs authenticator:6.162824147384711\n"
     ]
    },
    {
     "name": "stderr",
     "output_type": "stream",
     "text": [
      "\n",
      "100%|██████████| 66/66 [00:00<00:00, 2756.64it/s]\n",
      " 12%|█▏        | 8/66 [00:00<00:01, 30.84it/s]"
     ]
    },
    {
     "name": "stdout",
     "output_type": "stream",
     "text": [
      "Can i recover my corrupted USB?:Can i recover my corrupted USB?:1.7464383823829945\n",
      "Can i recover my corrupted USB?:Confession bear at khols:3.1081262047596487\n",
      "Can i recover my corrupted USB?:DTX120: #87 - Nashville:4.712054886880772\n",
      "Can i recover my corrupted USB?:Dear sociologists of Reddit, what do you think of the social changes in a country such as Singapore, that has caused it to be stubborn towards government policies that try to address the declining birthrate in the country.:5.257664611697914\n",
      "Can i recover my corrupted USB?:Did Asian countries have similar misconceptions of Europe, as Europe had of Asia?:6.894530285001181\n",
      "Can i recover my corrupted USB?:Does anyone know where I can watch The Thing online for free?:4.399852929686985\n",
      "Can i recover my corrupted USB?:EMS and USPS?:5.935368825552323\n",
      "Can i recover my corrupted USB?:Exporting from AutoDesk 2015:5.421183095198314\n",
      "Can i recover my corrupted USB?:GPU usage fluctuating. Pic inside:3.350851820062257\n",
      "Can i recover my corrupted USB?:Group Sit - Day 17:3.697748875935032\n",
      "Can i recover my corrupted USB?:Happy multiplier for xp:4.928760006661547\n",
      "Can i recover my corrupted USB?:Have you purchased a diamond / engagement ring online? Were you happy with it?:5.728994085185372\n",
      "Can i recover my corrupted USB?:Help with a diagnosis please!:6.918073301575298\n",
      "Can i recover my corrupted USB?:How do I beat my anticipatory and flight anxiety?? Also first time Xanax user.:4.773002286632575\n",
      "Can i recover my corrupted USB?:How does the reset of the world view Texas?:2.4566376144116004\n",
      "Can i recover my corrupted USB?:I need advice on a good comeback:3.485043655057579\n",
      "Can i recover my corrupted USB?:I played 2007scape when it was first released, what's changed since then?:4.710849896091277\n",
      "Can i recover my corrupted USB?:I think I known the band, but cant find the fucking song! Help.:5.17613778268842\n",
      "Can i recover my corrupted USB?:I think my managers are trying to hire based on appearance what can I do to stop it?:4.623689713485876\n",
      "Can i recover my corrupted USB?:I was wondering if any of these additives caused any false positives for my water tests.:5.898326578397982\n",
      "Can i recover my corrupted USB?:If you had to make up a story about where babies came from, what you you say?:4.7949776315693144\n",
      "Can i recover my corrupted USB?:Is there a way to get double tap to wake on any android?:5.857771499403484\n",
      "Can i recover my corrupted USB?:Issue with Android Market...:5.738993526946141\n",
      "Can i recover my corrupted USB?:New skill?:5.809100291387163\n",
      "Can i recover my corrupted USB?:Pking with Slayer Helm:7.873317078091354\n",
      "Can i recover my corrupted USB?:Problems connecting PS3 to LCD monitor via HMDI cable with DVI adapter:7.626071114440877\n",
      "Can i recover my corrupted USB?:Question about Final Fantasy 7 Story [FF7/CC:FF7 Spoilers]:7.036039584566298\n",
      "Can i recover my corrupted USB?:Question about young prayer.:5.745268083372147\n",
      "Can i recover my corrupted USB?:Questions about some braun razors:6.353276516896658\n",
      "Can i recover my corrupted USB?:Questions about the Galaxy S3:5.4271293392434385\n",
      "Can i recover my corrupted USB?:RCS missing:5.11588866334635\n",
      "Can i recover my corrupted USB?:Seriously guys come on.:2.400654295761995\n",
      "Can i recover my corrupted USB?:Since divine didn't pass there's other options.:7.129109627066286\n",
      "Can i recover my corrupted USB?:Summer volunteer opportunities:3.9239271073341015\n",
      "Can i recover my corrupted USB?:System Settings or the Internet Browser won't launch. Did I brick my N3DS. 9.8-2XU > 9.2-20U:4.228622158056498\n",
      "Can i recover my corrupted USB?:Things you heard while at the hospital you wish you did not hear?:6.014255959208206\n",
      "Can i recover my corrupted USB?:This may not be the appropriate place to post this but I'm selling my 42mm Milanese Loop and am willing to hook it up for you!:4.678236232406425\n",
      "Can i recover my corrupted USB?:Thoboy..:2.882014460761722\n",
      "Can i recover my corrupted USB?:Undergrad student starting to feel under qualified and overwhelmed:4.840794868455551\n",
      "Can i recover my corrupted USB?:Vanilla Crayfish:2.711603198361926\n",
      "Can i recover my corrupted USB?:What do most people do that's completely hypocritical but don't realise it:4.609981729853857\n",
      "Can i recover my corrupted USB?:What is one thing your significant other has done for you that you can't ever pay them back for?:4.803048738618358\n",
      "Can i recover my corrupted USB?:What is the most downvoted comment you have ever seen and what did it say?:3.5405322011551066\n",
      "Can i recover my corrupted USB?:What pop culture expression, or any phrase really, are you actually planning on using more often?:2.311626024391697\n",
      "Can i recover my corrupted USB?:What's a good television show in Latin American Spanish that I could watch online to practice hearing and understanding conversational Spanish?:1.9875762433631905\n",
      "Can i recover my corrupted USB?:What's going on here? Can't choose damaged book.:2.7743761027866976\n",
      "Can i recover my corrupted USB?:What's the worst nightmare you never had?:4.092429111230009\n",
      "Can i recover my corrupted USB?:Where's the best place to chop yews in f2p?:4.016567982013084\n",
      "Can i recover my corrupted USB?:Why are people more likely to cut in front of you when driving in traffic, but if they were standing in line, they wouldn't do the same thing?:4.434256220541574\n",
      "Can i recover my corrupted USB?:Why did the rabbit eat the road?:3.3028854849470393\n",
      "Can i recover my corrupted USB?:Why is China so concerned with having a \"buffer zone\" with the U.S.:6.451271455311167\n",
      "Can i recover my corrupted USB?:[HELP] Moving a pregnant molly?:4.584479863276952\n",
      "Can i recover my corrupted USB?:[PF] Strix Zen Archer:4.644296662158895\n",
      "Can i recover my corrupted USB?:[iPad] When I touch links/subreddits on the iPad screen, it doesn't register in AB:5.229565728333384\n",
      "Can i recover my corrupted USB?:biomedical innovations class.:3.5739619785526875\n",
      "Can i recover my corrupted USB?:does anyone else have this issue?:5.3352720130877715\n",
      "Can i recover my corrupted USB?:foxy:2.3722033279110826\n",
      "Can i recover my corrupted USB?:rex reclaim:1.1643029283700566\n",
      "Can i recover my corrupted USB?:rs authenticator:3.969368890340208\n"
     ]
    },
    {
     "name": "stderr",
     "output_type": "stream",
     "text": [
      "\n",
      "  0%|          | 0/66 [00:00<?, ?it/s]\u001b[A"
     ]
    },
    {
     "name": "stdout",
     "output_type": "stream",
     "text": [
      "Confession bear at khols:Confession bear at khols:3.1334372376171893\n",
      "Confession bear at khols:DTX120: #87 - Nashville:5.169407589401865\n",
      "Confession bear at khols:Dear sociologists of Reddit, what do you think of the social changes in a country such as Singapore, that has caused it to be stubborn towards government policies that try to address the declining birthrate in the country.:5.647728112629608\n",
      "Confession bear at khols:Did Asian countries have similar misconceptions of Europe, as Europe had of Asia?:7.241445974750596\n",
      "Confession bear at khols:Does anyone know where I can watch The Thing online for free?:4.83445531872131\n",
      "Confession bear at khols:EMS and USPS?:5.842379318938798\n",
      "Confession bear at khols:Exporting from AutoDesk 2015:5.621955257200481\n",
      "Confession bear at khols:GPU usage fluctuating. Pic inside:4.1662546174158495\n",
      "Confession bear at khols:Group Sit - Day 17:4.16893732899475\n",
      "Confession bear at khols:Happy multiplier for xp:5.518204385866565\n",
      "Confession bear at khols:Have you purchased a diamond / engagement ring online? Were you happy with it?:5.81609817563394\n",
      "Confession bear at khols:Help with a diagnosis please!:7.154702644728641\n",
      "Confession bear at khols:How do I beat my anticipatory and flight anxiety?? Also first time Xanax user.:5.376164252665022\n",
      "Confession bear at khols:How does the reset of the world view Texas?:3.265442838268801\n",
      "Confession bear at khols:I need advice on a good comeback:4.001428406247113\n",
      "Confession bear at khols:I played 2007scape when it was first released, what's changed since then?:5.113544556096219\n",
      "Confession bear at khols:I think I known the band, but cant find the fucking song! Help.:5.575506924449777\n",
      "Confession bear at khols:I think my managers are trying to hire based on appearance what can I do to stop it?:4.815465113450948\n"
     ]
    },
    {
     "name": "stderr",
     "output_type": "stream",
     "text": [
      "100%|██████████| 66/66 [00:00<00:00, 2743.49it/s]\n"
     ]
    },
    {
     "name": "stdout",
     "output_type": "stream",
     "text": [
      "Confession bear at khols:I was wondering if any of these additives caused any false positives for my water tests.:6.082330710111259\n",
      "Confession bear at khols:If you had to make up a story about where babies came from, what you you say?:5.260676606131664\n",
      "Confession bear at khols:Is there a way to get double tap to wake on any android?:6.154380756069071\n",
      "Confession bear at khols:Issue with Android Market...:5.794690510202807\n",
      "Confession bear at khols:New skill?:6.157474010875356\n",
      "Confession bear at khols:Pking with Slayer Helm:7.9045112191313045\n",
      "Confession bear at khols:Problems connecting PS3 to LCD monitor via HMDI cable with DVI adapter:7.662465083833444\n",
      "Confession bear at khols:Question about Final Fantasy 7 Story [FF7/CC:FF7 Spoilers]:7.147598154837144\n",
      "Confession bear at khols:Question about young prayer.:6.163906222830796\n",
      "Confession bear at khols:Questions about some braun razors:6.364229698763947\n",
      "Confession bear at khols:Questions about the Galaxy S3:5.8305747659742995\n",
      "Confession bear at khols:RCS missing:5.52814094509629\n",
      "Confession bear at khols:Seriously guys come on.:3.2383701209343223\n",
      "Confession bear at khols:Since divine didn't pass there's other options.:7.209418723785714\n",
      "Confession bear at khols:Summer volunteer opportunities:4.626765331823449\n",
      "Confession bear at khols:System Settings or the Internet Browser won't launch. Did I brick my N3DS. 9.8-2XU > 9.2-20U:4.7941570964770195\n",
      "Confession bear at khols:Things you heard while at the hospital you wish you did not hear?:6.265118500602901\n",
      "Confession bear at khols:This may not be the appropriate place to post this but I'm selling my 42mm Milanese Loop and am willing to hook it up for you!:4.924362115721946\n",
      "Confession bear at khols:Thoboy..:3.619410767533316\n",
      "Confession bear at khols:Undergrad student starting to feel under qualified and overwhelmed:4.901253241327634\n",
      "Confession bear at khols:Vanilla Crayfish:3.5498327627678203\n",
      "Confession bear at khols:What do most people do that's completely hypocritical but don't realise it:4.948069959541495\n",
      "Confession bear at khols:What is one thing your significant other has done for you that you can't ever pay them back for?:5.338207083515843\n",
      "Confession bear at khols:What is the most downvoted comment you have ever seen and what did it say?:4.10978168894141\n",
      "Confession bear at khols:What pop culture expression, or any phrase really, are you actually planning on using more often?:3.2798471225777366\n",
      "Confession bear at khols:What's a good television show in Latin American Spanish that I could watch online to practice hearing and understanding conversational Spanish?:3.012118626470517\n",
      "Confession bear at khols:What's going on here? Can't choose damaged book.:3.581773451266524\n",
      "Confession bear at khols:What's the worst nightmare you never had?:4.5143001608195545\n",
      "Confession bear at khols:Where's the best place to chop yews in f2p?:4.599141258853956\n",
      "Confession bear at khols:Why are people more likely to cut in front of you when driving in traffic, but if they were standing in line, they wouldn't do the same thing?:4.7751457535409365\n",
      "Confession bear at khols:Why did the rabbit eat the road?:4.074328503874937\n",
      "Confession bear at khols:Why is China so concerned with having a \"buffer zone\" with the U.S.:6.610102086630537\n",
      "Confession bear at khols:[HELP] Moving a pregnant molly?:5.0916557409644\n",
      "Confession bear at khols:[PF] Strix Zen Archer:5.055672736231493\n",
      "Confession bear at khols:[iPad] When I touch links/subreddits on the iPad screen, it doesn't register in AB:5.410757161928345\n",
      "Confession bear at khols:biomedical innovations class.:4.246160829069025\n",
      "Confession bear at khols:does anyone else have this issue?:5.705763964319867\n",
      "Confession bear at khols:foxy:3.337922642332132\n",
      "Confession bear at khols:rex reclaim:2.364538518429303\n",
      "Confession bear at khols:rs authenticator:4.547386956588571\n"
     ]
    },
    {
     "name": "stderr",
     "output_type": "stream",
     "text": [
      "\n",
      "  0%|          | 0/66 [00:00<?, ?it/s]\u001b[A"
     ]
    },
    {
     "name": "stdout",
     "output_type": "stream",
     "text": [
      "DTX120: #87 - Nashville:DTX120: #87 - Nashville:4.312773152373333\n",
      "DTX120: #87 - Nashville:Dear sociologists of Reddit, what do you think of the social changes in a country such as Singapore, that has caused it to be stubborn towards government policies that try to address the declining birthrate in the country.:6.5971930328055315\n",
      "DTX120: #87 - Nashville:Did Asian countries have similar misconceptions of Europe, as Europe had of Asia?:7.993136537435671\n",
      "DTX120: #87 - Nashville:Does anyone know where I can watch The Thing online for free?:5.335928931040691\n",
      "DTX120: #87 - Nashville:EMS and USPS?:6.73337930344572\n",
      "DTX120: #87 - Nashville:Exporting from AutoDesk 2015:6.492478861378521\n",
      "DTX120: #87 - Nashville:GPU usage fluctuating. Pic inside:5.547796092655752\n",
      "DTX120: #87 - Nashville:Group Sit - Day 17:5.052596512430213\n",
      "DTX120: #87 - Nashville:Happy multiplier for xp:6.601368677428061\n",
      "DTX120: #87 - Nashville:Have you purchased a diamond / engagement ring online? Were you happy with it?:6.7046214108198185\n",
      "DTX120: #87 - Nashville:Help with a diagnosis please!:7.654104027226679\n",
      "DTX120: #87 - Nashville:How do I beat my anticipatory and flight anxiety?? Also first time Xanax user.:6.426830070701762\n",
      "DTX120: #87 - Nashville:How does the reset of the world view Texas?:4.686571107736027\n",
      "DTX120: #87 - Nashville:I need advice on a good comeback:5.206789034249087\n",
      "DTX120: #87 - Nashville:I played 2007scape when it was first released, what's changed since then?:6.242793958234696\n",
      "DTX120: #87 - Nashville:I think I known the band, but cant find the fucking song! Help.:6.265835922638595\n",
      "DTX120: #87 - Nashville:I think my managers are trying to hire based on appearance what can I do to stop it?:6.132345879998605\n",
      "DTX120: #87 - Nashville:I was wondering if any of these additives caused any false positives for my water tests.:6.721931551790661\n",
      "DTX120: #87 - Nashville:If you had to make up a story about where babies came from, what you you say?:6.163712111193728\n",
      "DTX120: #87 - Nashville:Is there a way to get double tap to wake on any android?:6.870793321146952\n",
      "DTX120: #87 - Nashville:Issue with Android Market...:6.579481533538914\n",
      "DTX120: #87 - Nashville:New skill?:7.050360460929898\n",
      "DTX120: #87 - Nashville:Pking with Slayer Helm:8.494934471924072\n"
     ]
    },
    {
     "name": "stderr",
     "output_type": "stream",
     "text": [
      "100%|██████████| 66/66 [00:00<00:00, 2747.36it/s]\n"
     ]
    },
    {
     "name": "stdout",
     "output_type": "stream",
     "text": [
      "DTX120: #87 - Nashville:Problems connecting PS3 to LCD monitor via HMDI cable with DVI adapter:7.970323627921157\n",
      "DTX120: #87 - Nashville:Question about Final Fantasy 7 Story [FF7/CC:FF7 Spoilers]:7.607734416355012\n",
      "DTX120: #87 - Nashville:Question about young prayer.:6.684040508527614\n",
      "DTX120: #87 - Nashville:Questions about some braun razors:7.015121162829777\n",
      "DTX120: #87 - Nashville:Questions about the Galaxy S3:6.691650752821872\n",
      "DTX120: #87 - Nashville:RCS missing:6.4446794025851855\n",
      "DTX120: #87 - Nashville:Seriously guys come on.:4.650589608075743\n",
      "DTX120: #87 - Nashville:Since divine didn't pass there's other options.:7.884803812267772\n",
      "DTX120: #87 - Nashville:Summer volunteer opportunities:5.7102625342926885\n",
      "DTX120: #87 - Nashville:System Settings or the Internet Browser won't launch. Did I brick my N3DS. 9.8-2XU > 9.2-20U:5.990967872057119\n",
      "DTX120: #87 - Nashville:Things you heard while at the hospital you wish you did not hear?:6.785120794370244\n",
      "DTX120: #87 - Nashville:This may not be the appropriate place to post this but I'm selling my 42mm Milanese Loop and am willing to hook it up for you!:5.92662701005276\n",
      "DTX120: #87 - Nashville:Thoboy..:4.885296880444112\n",
      "DTX120: #87 - Nashville:Undergrad student starting to feel under qualified and overwhelmed:6.252004278188719\n",
      "DTX120: #87 - Nashville:Vanilla Crayfish:4.9506729885630065\n",
      "DTX120: #87 - Nashville:What do most people do that's completely hypocritical but don't realise it:6.067329152938076\n",
      "DTX120: #87 - Nashville:What is one thing your significant other has done for you that you can't ever pay them back for?:6.05415750045076\n",
      "DTX120: #87 - Nashville:What is the most downvoted comment you have ever seen and what did it say?:5.331662791953548\n",
      "DTX120: #87 - Nashville:What pop culture expression, or any phrase really, are you actually planning on using more often?:4.595451375722417\n",
      "DTX120: #87 - Nashville:What's a good television show in Latin American Spanish that I could watch online to practice hearing and understanding conversational Spanish?:4.446017241039116\n",
      "DTX120: #87 - Nashville:What's going on here? Can't choose damaged book.:4.919378013331345\n",
      "DTX120: #87 - Nashville:What's the worst nightmare you never had?:5.506832515663961\n",
      "DTX120: #87 - Nashville:Where's the best place to chop yews in f2p?:5.770348941223949\n",
      "DTX120: #87 - Nashville:Why are people more likely to cut in front of you when driving in traffic, but if they were standing in line, they wouldn't do the same thing?:5.81207354448155\n",
      "DTX120: #87 - Nashville:Why did the rabbit eat the road?:5.285203066273003\n",
      "DTX120: #87 - Nashville:Why is China so concerned with having a \"buffer zone\" with the U.S.:7.131719371523048\n",
      "DTX120: #87 - Nashville:[HELP] Moving a pregnant molly?:5.995549713014723\n",
      "DTX120: #87 - Nashville:[PF] Strix Zen Archer:5.9953395326833085\n",
      "DTX120: #87 - Nashville:[iPad] When I touch links/subreddits on the iPad screen, it doesn't register in AB:6.27953895885042\n",
      "DTX120: #87 - Nashville:biomedical innovations class.:5.433013294751645\n",
      "DTX120: #87 - Nashville:does anyone else have this issue?:6.703759114350097\n",
      "DTX120: #87 - Nashville:foxy:4.9155458015852345\n",
      "DTX120: #87 - Nashville:rex reclaim:4.243268129952795\n",
      "DTX120: #87 - Nashville:rs authenticator:5.825915137098031\n"
     ]
    },
    {
     "name": "stderr",
     "output_type": "stream",
     "text": [
      "\n",
      "  0%|          | 0/66 [00:00<?, ?it/s]\u001b[A"
     ]
    },
    {
     "name": "stdout",
     "output_type": "stream",
     "text": [
      "Dear sociologists of Reddit, what do you think of the social changes in a country such as Singapore, that has caused it to be stubborn towards government policies that try to address the declining birthrate in the country.:Dear sociologists of Reddit, what do you think of the social changes in a country such as Singapore, that has caused it to be stubborn towards government policies that try to address the declining birthrate in the country.:4.714095916229389\n",
      "Dear sociologists of Reddit, what do you think of the social changes in a country such as Singapore, that has caused it to be stubborn towards government policies that try to address the declining birthrate in the country.:Did Asian countries have similar misconceptions of Europe, as Europe had of Asia?:7.896204672756495\n",
      "Dear sociologists of Reddit, what do you think of the social changes in a country such as Singapore, that has caused it to be stubborn towards government policies that try to address the declining birthrate in the country.:Does anyone know where I can watch The Thing online for free?:6.315355959440908\n",
      "Dear sociologists of Reddit, what do you think of the social changes in a country such as Singapore, that has caused it to be stubborn towards government policies that try to address the declining birthrate in the country.:EMS and USPS?:6.914044573765217\n",
      "Dear sociologists of Reddit, what do you think of the social changes in a country such as Singapore, that has caused it to be stubborn towards government policies that try to address the declining birthrate in the country.:Exporting from AutoDesk 2015:6.761143977831909\n",
      "Dear sociologists of Reddit, what do you think of the social changes in a country such as Singapore, that has caused it to be stubborn towards government policies that try to address the declining birthrate in the country.:GPU usage fluctuating. Pic inside:5.861480154695651\n",
      "Dear sociologists of Reddit, what do you think of the social changes in a country such as Singapore, that has caused it to be stubborn towards government policies that try to address the declining birthrate in the country.:Group Sit - Day 17:5.657022822984799\n",
      "Dear sociologists of Reddit, what do you think of the social changes in a country such as Singapore, that has caused it to be stubborn towards government policies that try to address the declining birthrate in the country.:Happy multiplier for xp:6.784549494909635\n",
      "Dear sociologists of Reddit, what do you think of the social changes in a country such as Singapore, that has caused it to be stubborn towards government policies that try to address the declining birthrate in the country.:Have you purchased a diamond / engagement ring online? Were you happy with it?:6.904888920950896\n",
      "Dear sociologists of Reddit, what do you think of the social changes in a country such as Singapore, that has caused it to be stubborn towards government policies that try to address the declining birthrate in the country.:Help with a diagnosis please!:7.411158964464926\n",
      "Dear sociologists of Reddit, what do you think of the social changes in a country such as Singapore, that has caused it to be stubborn towards government policies that try to address the declining birthrate in the country.:How do I beat my anticipatory and flight anxiety?? Also first time Xanax user.:6.4691613564519175\n",
      "Dear sociologists of Reddit, what do you think of the social changes in a country such as Singapore, that has caused it to be stubborn towards government policies that try to address the declining birthrate in the country.:How does the reset of the world view Texas?:5.123133705904934\n",
      "Dear sociologists of Reddit, what do you think of the social changes in a country such as Singapore, that has caused it to be stubborn towards government policies that try to address the declining birthrate in the country.:I need advice on a good comeback:5.677054046119513\n",
      "Dear sociologists of Reddit, what do you think of the social changes in a country such as Singapore, that has caused it to be stubborn towards government policies that try to address the declining birthrate in the country.:I played 2007scape when it was first released, what's changed since then?:6.581223219089277\n",
      "Dear sociologists of Reddit, what do you think of the social changes in a country such as Singapore, that has caused it to be stubborn towards government policies that try to address the declining birthrate in the country.:I think I known the band, but cant find the fucking song! Help.:6.8698494951308415\n",
      "Dear sociologists of Reddit, what do you think of the social changes in a country such as Singapore, that has caused it to be stubborn towards government policies that try to address the declining birthrate in the country.:I think my managers are trying to hire based on appearance what can I do to stop it?:6.305708727633936\n",
      "Dear sociologists of Reddit, what do you think of the social changes in a country such as Singapore, that has caused it to be stubborn towards government policies that try to address the declining birthrate in the country.:I was wondering if any of these additives caused any false positives for my water tests.:6.770465460516742\n",
      "Dear sociologists of Reddit, what do you think of the social changes in a country such as Singapore, that has caused it to be stubborn towards government policies that try to address the declining birthrate in the country.:If you had to make up a story about where babies came from, what you you say?:5.890059754963602\n",
      "Dear sociologists of Reddit, what do you think of the social changes in a country such as Singapore, that has caused it to be stubborn towards government policies that try to address the declining birthrate in the country.:Is there a way to get double tap to wake on any android?:7.236277656762708\n",
      "Dear sociologists of Reddit, what do you think of the social changes in a country such as Singapore, that has caused it to be stubborn towards government policies that try to address the declining birthrate in the country.:Issue with Android Market...:6.758527158803089\n",
      "Dear sociologists of Reddit, what do you think of the social changes in a country such as Singapore, that has caused it to be stubborn towards government policies that try to address the declining birthrate in the country.:New skill?:7.253874133149802\n",
      "Dear sociologists of Reddit, what do you think of the social changes in a country such as Singapore, that has caused it to be stubborn towards government policies that try to address the declining birthrate in the country.:Pking with Slayer Helm:8.666624058153062\n",
      "Dear sociologists of Reddit, what do you think of the social changes in a country such as Singapore, that has caused it to be stubborn towards government policies that try to address the declining birthrate in the country.:Problems connecting PS3 to LCD monitor via HMDI cable with DVI adapter:8.303413198751052\n",
      "Dear sociologists of Reddit, what do you think of the social changes in a country such as Singapore, that has caused it to be stubborn towards government policies that try to address the declining birthrate in the country.:Question about Final Fantasy 7 Story [FF7/CC:FF7 Spoilers]:8.064945058930196\n",
      "Dear sociologists of Reddit, what do you think of the social changes in a country such as Singapore, that has caused it to be stubborn towards government policies that try to address the declining birthrate in the country.:Question about young prayer.:7.242196109848834\n",
      "Dear sociologists of Reddit, what do you think of the social changes in a country such as Singapore, that has caused it to be stubborn towards government policies that try to address the declining birthrate in the country.:Questions about some braun razors:7.2783469652995665\n",
      "Dear sociologists of Reddit, what do you think of the social changes in a country such as Singapore, that has caused it to be stubborn towards government policies that try to address the declining birthrate in the country.:Questions about the Galaxy S3:7.047183368578972\n",
      "Dear sociologists of Reddit, what do you think of the social changes in a country such as Singapore, that has caused it to be stubborn towards government policies that try to address the declining birthrate in the country.:RCS missing:6.547675800134771\n",
      "Dear sociologists of Reddit, what do you think of the social changes in a country such as Singapore, that has caused it to be stubborn towards government policies that try to address the declining birthrate in the country.:Seriously guys come on.:5.1984399036658475\n",
      "Dear sociologists of Reddit, what do you think of the social changes in a country such as Singapore, that has caused it to be stubborn towards government policies that try to address the declining birthrate in the country.:Since divine didn't pass there's other options.:7.909671787001142\n",
      "Dear sociologists of Reddit, what do you think of the social changes in a country such as Singapore, that has caused it to be stubborn towards government policies that try to address the declining birthrate in the country.:Summer volunteer opportunities:6.102536595837472\n",
      "Dear sociologists of Reddit, what do you think of the social changes in a country such as Singapore, that has caused it to be stubborn towards government policies that try to address the declining birthrate in the country.:System Settings or the Internet Browser won't launch. Did I brick my N3DS. 9.8-2XU > 9.2-20U:6.393028009310389\n",
      "Dear sociologists of Reddit, what do you think of the social changes in a country such as Singapore, that has caused it to be stubborn towards government policies that try to address the declining birthrate in the country.:Things you heard while at the hospital you wish you did not hear?:6.968285510836516\n",
      "Dear sociologists of Reddit, what do you think of the social changes in a country such as Singapore, that has caused it to be stubborn towards government policies that try to address the declining birthrate in the country.:This may not be the appropriate place to post this but I'm selling my 42mm Milanese Loop and am willing to hook it up for you!:6.392931175733574\n",
      "Dear sociologists of Reddit, what do you think of the social changes in a country such as Singapore, that has caused it to be stubborn towards government policies that try to address the declining birthrate in the country.:Thoboy..:5.466828599703215\n",
      "Dear sociologists of Reddit, what do you think of the social changes in a country such as Singapore, that has caused it to be stubborn towards government policies that try to address the declining birthrate in the country.:Undergrad student starting to feel under qualified and overwhelmed:6.399696900700734\n",
      "Dear sociologists of Reddit, what do you think of the social changes in a country such as Singapore, that has caused it to be stubborn towards government policies that try to address the declining birthrate in the country.:Vanilla Crayfish:5.473912304961775\n"
     ]
    },
    {
     "name": "stderr",
     "output_type": "stream",
     "text": [
      "100%|██████████| 66/66 [00:00<00:00, 2385.49it/s]\n"
     ]
    },
    {
     "name": "stdout",
     "output_type": "stream",
     "text": [
      "Dear sociologists of Reddit, what do you think of the social changes in a country such as Singapore, that has caused it to be stubborn towards government policies that try to address the declining birthrate in the country.:What do most people do that's completely hypocritical but don't realise it:6.224245551304364\n",
      "Dear sociologists of Reddit, what do you think of the social changes in a country such as Singapore, that has caused it to be stubborn towards government policies that try to address the declining birthrate in the country.:What is one thing your significant other has done for you that you can't ever pay them back for?:6.384255537880097\n",
      "Dear sociologists of Reddit, what do you think of the social changes in a country such as Singapore, that has caused it to be stubborn towards government policies that try to address the declining birthrate in the country.:What is the most downvoted comment you have ever seen and what did it say?:5.759258822851736\n",
      "Dear sociologists of Reddit, what do you think of the social changes in a country such as Singapore, that has caused it to be stubborn towards government policies that try to address the declining birthrate in the country.:What pop culture expression, or any phrase really, are you actually planning on using more often?:5.371286831886087\n",
      "Dear sociologists of Reddit, what do you think of the social changes in a country such as Singapore, that has caused it to be stubborn towards government policies that try to address the declining birthrate in the country.:What's a good television show in Latin American Spanish that I could watch online to practice hearing and understanding conversational Spanish?:5.213830429405635\n",
      "Dear sociologists of Reddit, what do you think of the social changes in a country such as Singapore, that has caused it to be stubborn towards government policies that try to address the declining birthrate in the country.:What's going on here? Can't choose damaged book.:5.494848041908634\n",
      "Dear sociologists of Reddit, what do you think of the social changes in a country such as Singapore, that has caused it to be stubborn towards government policies that try to address the declining birthrate in the country.:What's the worst nightmare you never had?:5.968388407510891\n",
      "Dear sociologists of Reddit, what do you think of the social changes in a country such as Singapore, that has caused it to be stubborn towards government policies that try to address the declining birthrate in the country.:Where's the best place to chop yews in f2p?:6.113922657626487\n",
      "Dear sociologists of Reddit, what do you think of the social changes in a country such as Singapore, that has caused it to be stubborn towards government policies that try to address the declining birthrate in the country.:Why are people more likely to cut in front of you when driving in traffic, but if they were standing in line, they wouldn't do the same thing?:6.164062331213714\n",
      "Dear sociologists of Reddit, what do you think of the social changes in a country such as Singapore, that has caused it to be stubborn towards government policies that try to address the declining birthrate in the country.:Why did the rabbit eat the road?:5.772376481298462\n",
      "Dear sociologists of Reddit, what do you think of the social changes in a country such as Singapore, that has caused it to be stubborn towards government policies that try to address the declining birthrate in the country.:Why is China so concerned with having a \"buffer zone\" with the U.S.:7.038589824894442\n",
      "Dear sociologists of Reddit, what do you think of the social changes in a country such as Singapore, that has caused it to be stubborn towards government policies that try to address the declining birthrate in the country.:[HELP] Moving a pregnant molly?:6.037057554855918\n",
      "Dear sociologists of Reddit, what do you think of the social changes in a country such as Singapore, that has caused it to be stubborn towards government policies that try to address the declining birthrate in the country.:[PF] Strix Zen Archer:6.480987846716457\n",
      "Dear sociologists of Reddit, what do you think of the social changes in a country such as Singapore, that has caused it to be stubborn towards government policies that try to address the declining birthrate in the country.:[iPad] When I touch links/subreddits on the iPad screen, it doesn't register in AB:6.565224110218726\n",
      "Dear sociologists of Reddit, what do you think of the social changes in a country such as Singapore, that has caused it to be stubborn towards government policies that try to address the declining birthrate in the country.:biomedical innovations class.:5.672198756747873\n",
      "Dear sociologists of Reddit, what do you think of the social changes in a country such as Singapore, that has caused it to be stubborn towards government policies that try to address the declining birthrate in the country.:does anyone else have this issue?:6.8783914967170405\n",
      "Dear sociologists of Reddit, what do you think of the social changes in a country such as Singapore, that has caused it to be stubborn towards government policies that try to address the declining birthrate in the country.:foxy:5.419083190724282\n",
      "Dear sociologists of Reddit, what do you think of the social changes in a country such as Singapore, that has caused it to be stubborn towards government policies that try to address the declining birthrate in the country.:rex reclaim:4.855013819827526\n",
      "Dear sociologists of Reddit, what do you think of the social changes in a country such as Singapore, that has caused it to be stubborn towards government policies that try to address the declining birthrate in the country.:rs authenticator:6.254287426239444\n"
     ]
    },
    {
     "name": "stderr",
     "output_type": "stream",
     "text": [
      "\n",
      "  0%|          | 0/66 [00:00<?, ?it/s]\u001b[A"
     ]
    },
    {
     "name": "stdout",
     "output_type": "stream",
     "text": [
      "Did Asian countries have similar misconceptions of Europe, as Europe had of Asia?:Did Asian countries have similar misconceptions of Europe, as Europe had of Asia?:5.837853476763122\n",
      "Did Asian countries have similar misconceptions of Europe, as Europe had of Asia?:Does anyone know where I can watch The Thing online for free?:7.938500274877376\n",
      "Did Asian countries have similar misconceptions of Europe, as Europe had of Asia?:EMS and USPS?:8.57116367623721\n",
      "Did Asian countries have similar misconceptions of Europe, as Europe had of Asia?:Exporting from AutoDesk 2015:8.235519031015636\n",
      "Did Asian countries have similar misconceptions of Europe, as Europe had of Asia?:GPU usage fluctuating. Pic inside:7.463576544955753\n",
      "Did Asian countries have similar misconceptions of Europe, as Europe had of Asia?:Group Sit - Day 17:7.456451879281116\n",
      "Did Asian countries have similar misconceptions of Europe, as Europe had of Asia?:Happy multiplier for xp:8.101194319914484\n",
      "Did Asian countries have similar misconceptions of Europe, as Europe had of Asia?:Have you purchased a diamond / engagement ring online? Were you happy with it?:8.232309438429885\n",
      "Did Asian countries have similar misconceptions of Europe, as Europe had of Asia?:Help with a diagnosis please!:8.902020446974786\n",
      "Did Asian countries have similar misconceptions of Europe, as Europe had of Asia?:How do I beat my anticipatory and flight anxiety?? Also first time Xanax user.:8.105804534230748\n",
      "Did Asian countries have similar misconceptions of Europe, as Europe had of Asia?:How does the reset of the world view Texas?:6.808645127270707\n",
      "Did Asian countries have similar misconceptions of Europe, as Europe had of Asia?:I need advice on a good comeback:7.35505864345453\n",
      "Did Asian countries have similar misconceptions of Europe, as Europe had of Asia?:I played 2007scape when it was first released, what's changed since then?:8.034489233020905\n",
      "Did Asian countries have similar misconceptions of Europe, as Europe had of Asia?:I think I known the band, but cant find the fucking song! Help.:8.338203686338785\n",
      "Did Asian countries have similar misconceptions of Europe, as Europe had of Asia?:I think my managers are trying to hire based on appearance what can I do to stop it?:7.8834202784994645\n",
      "Did Asian countries have similar misconceptions of Europe, as Europe had of Asia?:I was wondering if any of these additives caused any false positives for my water tests.:8.608345381402357\n",
      "Did Asian countries have similar misconceptions of Europe, as Europe had of Asia?:If you had to make up a story about where babies came from, what you you say?:7.898327869045816\n",
      "Did Asian countries have similar misconceptions of Europe, as Europe had of Asia?:Is there a way to get double tap to wake on any android?:8.718316008670898\n",
      "Did Asian countries have similar misconceptions of Europe, as Europe had of Asia?:Issue with Android Market...:8.42927089868037\n",
      "Did Asian countries have similar misconceptions of Europe, as Europe had of Asia?:New skill?:8.493001889095126\n",
      "Did Asian countries have similar misconceptions of Europe, as Europe had of Asia?:Pking with Slayer Helm:9.533234231900298\n",
      "Did Asian countries have similar misconceptions of Europe, as Europe had of Asia?:Problems connecting PS3 to LCD monitor via HMDI cable with DVI adapter:9.454195111124037\n",
      "Did Asian countries have similar misconceptions of Europe, as Europe had of Asia?:Question about Final Fantasy 7 Story [FF7/CC:FF7 Spoilers]:9.07895638570454\n",
      "Did Asian countries have similar misconceptions of Europe, as Europe had of Asia?:Question about young prayer.:8.507927218516421\n",
      "Did Asian countries have similar misconceptions of Europe, as Europe had of Asia?:Questions about some braun razors:8.751976798282575\n",
      "Did Asian countries have similar misconceptions of Europe, as Europe had of Asia?:Questions about the Galaxy S3:8.424966541173431\n",
      "Did Asian countries have similar misconceptions of Europe, as Europe had of Asia?:RCS missing:8.174423779057085\n",
      "Did Asian countries have similar misconceptions of Europe, as Europe had of Asia?:Seriously guys come on.:6.926724258969223\n",
      "Did Asian countries have similar misconceptions of Europe, as Europe had of Asia?:Since divine didn't pass there's other options.:8.99758810701824\n",
      "Did Asian countries have similar misconceptions of Europe, as Europe had of Asia?:Summer volunteer opportunities:7.425960351213192\n",
      "Did Asian countries have similar misconceptions of Europe, as Europe had of Asia?:System Settings or the Internet Browser won't launch. Did I brick my N3DS. 9.8-2XU > 9.2-20U:7.850030983085934\n",
      "Did Asian countries have similar misconceptions of Europe, as Europe had of Asia?:Things you heard while at the hospital you wish you did not hear?:8.579140253761755\n",
      "Did Asian countries have similar misconceptions of Europe, as Europe had of Asia?:This may not be the appropriate place to post this but I'm selling my 42mm Milanese Loop and am willing to hook it up for you!:7.929160986780656\n",
      "Did Asian countries have similar misconceptions of Europe, as Europe had of Asia?:Thoboy..:7.223449276277878\n",
      "Did Asian countries have similar misconceptions of Europe, as Europe had of Asia?:Undergrad student starting to feel under qualified and overwhelmed:8.022096668755031\n",
      "Did Asian countries have similar misconceptions of Europe, as Europe had of Asia?:Vanilla Crayfish:7.147592387170046\n",
      "Did Asian countries have similar misconceptions of Europe, as Europe had of Asia?:What do most people do that's completely hypocritical but don't realise it:7.792756352324815\n",
      "Did Asian countries have similar misconceptions of Europe, as Europe had of Asia?:What is one thing your significant other has done for you that you can't ever pay them back for?:7.949509500268917\n",
      "Did Asian countries have similar misconceptions of Europe, as Europe had of Asia?:What is the most downvoted comment you have ever seen and what did it say?:7.345255725562407\n",
      "Did Asian countries have similar misconceptions of Europe, as Europe had of Asia?:What pop culture expression, or any phrase really, are you actually planning on using more often?:6.994644613827038\n",
      "Did Asian countries have similar misconceptions of Europe, as Europe had of Asia?:What's a good television show in Latin American Spanish that I could watch online to practice hearing and understanding conversational Spanish?:6.866101259147147\n",
      "Did Asian countries have similar misconceptions of Europe, as Europe had of Asia?:What's going on here? Can't choose damaged book.:7.181377832534005\n",
      "Did Asian countries have similar misconceptions of Europe, as Europe had of Asia?:What's the worst nightmare you never had?:7.566964898620852\n",
      "Did Asian countries have similar misconceptions of Europe, as Europe had of Asia?:Where's the best place to chop yews in f2p?:7.686006155979297\n",
      "Did Asian countries have similar misconceptions of Europe, as Europe had of Asia?:Why are people more likely to cut in front of you when driving in traffic, but if they were standing in line, they wouldn't do the same thing?:7.775539396706613\n",
      "Did Asian countries have similar misconceptions of Europe, as Europe had of Asia?:Why did the rabbit eat the road?:7.443805983873105\n",
      "Did Asian countries have similar misconceptions of Europe, as Europe had of Asia?:Why is China so concerned with having a \"buffer zone\" with the U.S.:7.503862532166594\n",
      "Did Asian countries have similar misconceptions of Europe, as Europe had of Asia?:[HELP] Moving a pregnant molly?:7.913684742642462\n",
      "Did Asian countries have similar misconceptions of Europe, as Europe had of Asia?:[PF] Strix Zen Archer:7.880881930260446\n"
     ]
    },
    {
     "name": "stderr",
     "output_type": "stream",
     "text": [
      "100%|██████████| 66/66 [00:00<00:00, 3475.46it/s]\n",
      " 18%|█▊        | 12/66 [00:00<00:01, 33.67it/s]"
     ]
    },
    {
     "name": "stdout",
     "output_type": "stream",
     "text": [
      "Did Asian countries have similar misconceptions of Europe, as Europe had of Asia?:[iPad] When I touch links/subreddits on the iPad screen, it doesn't register in AB:8.19947268339543\n",
      "Did Asian countries have similar misconceptions of Europe, as Europe had of Asia?:biomedical innovations class.:7.476221595721603\n",
      "Did Asian countries have similar misconceptions of Europe, as Europe had of Asia?:does anyone else have this issue?:8.406052242601577\n",
      "Did Asian countries have similar misconceptions of Europe, as Europe had of Asia?:foxy:6.97895727768027\n",
      "Did Asian countries have similar misconceptions of Europe, as Europe had of Asia?:rex reclaim:6.458016667000272\n",
      "Did Asian countries have similar misconceptions of Europe, as Europe had of Asia?:rs authenticator:7.802852088517919\n"
     ]
    },
    {
     "name": "stderr",
     "output_type": "stream",
     "text": [
      "\n",
      "100%|██████████| 66/66 [00:00<00:00, 3019.99it/s]\n"
     ]
    },
    {
     "name": "stdout",
     "output_type": "stream",
     "text": [
      "Does anyone know where I can watch The Thing online for free?:Does anyone know where I can watch The Thing online for free?:4.115488675314849\n",
      "Does anyone know where I can watch The Thing online for free?:EMS and USPS?:6.195343152737603\n",
      "Does anyone know where I can watch The Thing online for free?:Exporting from AutoDesk 2015:6.122374122236404\n",
      "Does anyone know where I can watch The Thing online for free?:GPU usage fluctuating. Pic inside:5.158868095030766\n",
      "Does anyone know where I can watch The Thing online for free?:Group Sit - Day 17:4.791603626594043\n",
      "Does anyone know where I can watch The Thing online for free?:Happy multiplier for xp:6.338137906376478\n",
      "Does anyone know where I can watch The Thing online for free?:Have you purchased a diamond / engagement ring online? Were you happy with it?:6.413144816356411\n",
      "Does anyone know where I can watch The Thing online for free?:Help with a diagnosis please!:7.353763986220855\n",
      "Does anyone know where I can watch The Thing online for free?:How do I beat my anticipatory and flight anxiety?? Also first time Xanax user.:6.1323171779637295\n",
      "Does anyone know where I can watch The Thing online for free?:How does the reset of the world view Texas?:4.41393700365533\n",
      "Does anyone know where I can watch The Thing online for free?:I need advice on a good comeback:4.901726183359125\n",
      "Does anyone know where I can watch The Thing online for free?:I played 2007scape when it was first released, what's changed since then?:5.897517756304564\n",
      "Does anyone know where I can watch The Thing online for free?:I think I known the band, but cant find the fucking song! Help.:6.094581149529699\n",
      "Does anyone know where I can watch The Thing online for free?:I think my managers are trying to hire based on appearance what can I do to stop it?:5.900495669924547\n",
      "Does anyone know where I can watch The Thing online for free?:I was wondering if any of these additives caused any false positives for my water tests.:6.473244266057739\n",
      "Does anyone know where I can watch The Thing online for free?:If you had to make up a story about where babies came from, what you you say?:5.901834151184644\n",
      "Does anyone know where I can watch The Thing online for free?:Is there a way to get double tap to wake on any android?:6.517142121020631\n",
      "Does anyone know where I can watch The Thing online for free?:Issue with Android Market...:6.0998795914436155\n",
      "Does anyone know where I can watch The Thing online for free?:New skill?:6.818705232407715\n",
      "Does anyone know where I can watch The Thing online for free?:Pking with Slayer Helm:8.266651332484283\n",
      "Does anyone know where I can watch The Thing online for free?:Problems connecting PS3 to LCD monitor via HMDI cable with DVI adapter:7.520745370506409\n",
      "Does anyone know where I can watch The Thing online for free?:Question about Final Fantasy 7 Story [FF7/CC:FF7 Spoilers]:7.366008782389299\n",
      "Does anyone know where I can watch The Thing online for free?:Question about young prayer.:6.6635399419268175\n",
      "Does anyone know where I can watch The Thing online for free?:Questions about some braun razors:6.684480016298964\n",
      "Does anyone know where I can watch The Thing online for free?:Questions about the Galaxy S3:6.247707894836154\n",
      "Does anyone know where I can watch The Thing online for free?:RCS missing:6.162831915878973\n",
      "Does anyone know where I can watch The Thing online for free?:Seriously guys come on.:4.334983270581497\n",
      "Does anyone know where I can watch The Thing online for free?:Since divine didn't pass there's other options.:7.648905750044511\n",
      "Does anyone know where I can watch The Thing online for free?:Summer volunteer opportunities:5.520577804310055\n",
      "Does anyone know where I can watch The Thing online for free?:System Settings or the Internet Browser won't launch. Did I brick my N3DS. 9.8-2XU > 9.2-20U:5.544564814546823\n",
      "Does anyone know where I can watch The Thing online for free?:Things you heard while at the hospital you wish you did not hear?:6.59097690500259\n",
      "Does anyone know where I can watch The Thing online for free?:This may not be the appropriate place to post this but I'm selling my 42mm Milanese Loop and am willing to hook it up for you!:5.553969231993937\n",
      "Does anyone know where I can watch The Thing online for free?:Thoboy..:4.559264936802679\n",
      "Does anyone know where I can watch The Thing online for free?:Undergrad student starting to feel under qualified and overwhelmed:6.005049891259505\n",
      "Does anyone know where I can watch The Thing online for free?:Vanilla Crayfish:4.551368509217622\n",
      "Does anyone know where I can watch The Thing online for free?:What do most people do that's completely hypocritical but don't realise it:5.811742238097921\n",
      "Does anyone know where I can watch The Thing online for free?:What is one thing your significant other has done for you that you can't ever pay them back for?:5.805599969889866\n",
      "Does anyone know where I can watch The Thing online for free?:What is the most downvoted comment you have ever seen and what did it say?:5.056227478874598\n",
      "Does anyone know where I can watch The Thing online for free?:What pop culture expression, or any phrase really, are you actually planning on using more often?:4.348282022042744\n",
      "Does anyone know where I can watch The Thing online for free?:What's a good television show in Latin American Spanish that I could watch online to practice hearing and understanding conversational Spanish?:4.096641015568689\n",
      "Does anyone know where I can watch The Thing online for free?:What's going on here? Can't choose damaged book.:4.545521102583626\n",
      "Does anyone know where I can watch The Thing online for free?:What's the worst nightmare you never had?:5.312658980052772\n",
      "Does anyone know where I can watch The Thing online for free?:Where's the best place to chop yews in f2p?:5.496406628130473\n",
      "Does anyone know where I can watch The Thing online for free?:Why are people more likely to cut in front of you when driving in traffic, but if they were standing in line, they wouldn't do the same thing?:5.494953979826654\n",
      "Does anyone know where I can watch The Thing online for free?:Why did the rabbit eat the road?:5.05475135167699\n",
      "Does anyone know where I can watch The Thing online for free?:Why is China so concerned with having a \"buffer zone\" with the U.S.:7.051027020602308\n",
      "Does anyone know where I can watch The Thing online for free?:[HELP] Moving a pregnant molly?:5.796249754063815\n",
      "Does anyone know where I can watch The Thing online for free?:[PF] Strix Zen Archer:5.786695094241697\n",
      "Does anyone know where I can watch The Thing online for free?:[iPad] When I touch links/subreddits on the iPad screen, it doesn't register in AB:5.804779779656043\n",
      "Does anyone know where I can watch The Thing online for free?:biomedical innovations class.:5.125190678981171\n",
      "Does anyone know where I can watch The Thing online for free?:does anyone else have this issue?:6.093213112946421\n",
      "Does anyone know where I can watch The Thing online for free?:foxy:4.593534904850975\n",
      "Does anyone know where I can watch The Thing online for free?:rex reclaim:3.885324729885879\n",
      "Does anyone know where I can watch The Thing online for free?:rs authenticator:5.335626954500522\n"
     ]
    },
    {
     "name": "stderr",
     "output_type": "stream",
     "text": [
      "\n",
      "  0%|          | 0/66 [00:00<?, ?it/s]\u001b[A"
     ]
    },
    {
     "name": "stdout",
     "output_type": "stream",
     "text": [
      "EMS and USPS?:EMS and USPS?:3.3927358892844715\n",
      "EMS and USPS?:Exporting from AutoDesk 2015:6.551964344237881\n",
      "EMS and USPS?:GPU usage fluctuating. Pic inside:6.409214810305126\n",
      "EMS and USPS?:Group Sit - Day 17:5.745736051057883\n",
      "EMS and USPS?:Happy multiplier for xp:7.2520550091275595\n",
      "EMS and USPS?:Have you purchased a diamond / engagement ring online? Were you happy with it?:6.581163414594794\n",
      "EMS and USPS?:Help with a diagnosis please!:7.530021349994662\n",
      "EMS and USPS?:How do I beat my anticipatory and flight anxiety?? Also first time Xanax user.:7.01752971422869\n",
      "EMS and USPS?:How does the reset of the world view Texas?:5.744189166691277\n",
      "EMS and USPS?:I need advice on a good comeback:6.073077630877563\n",
      "EMS and USPS?:I played 2007scape when it was first released, what's changed since then?:6.7292538265867785\n",
      "EMS and USPS?:I think I known the band, but cant find the fucking song! Help.:6.918580686041765\n",
      "EMS and USPS?:I think my managers are trying to hire based on appearance what can I do to stop it?:6.589164499361416\n",
      "EMS and USPS?:I was wondering if any of these additives caused any false positives for my water tests.:6.775668458376046\n",
      "EMS and USPS?:If you had to make up a story about where babies came from, what you you say?:6.4341719285446874\n",
      "EMS and USPS?:Is there a way to get double tap to wake on any android?:6.785645765599014\n",
      "EMS and USPS?:Issue with Android Market...:6.059539754758598\n",
      "EMS and USPS?:New skill?:7.5884886344839515\n",
      "EMS and USPS?:Pking with Slayer Helm:8.50417589452119\n",
      "EMS and USPS?:Problems connecting PS3 to LCD monitor via HMDI cable with DVI adapter:8.060429833037038\n",
      "EMS and USPS?:Question about Final Fantasy 7 Story [FF7/CC:FF7 Spoilers]:8.09235791620097\n",
      "EMS and USPS?:Question about young prayer.:7.52591594151731\n",
      "EMS and USPS?:Questions about some braun razors:6.919289916848437\n",
      "EMS and USPS?:Questions about the Galaxy S3:6.7760381754424355\n",
      "EMS and USPS?:RCS missing:6.817387057591673\n",
      "EMS and USPS?:Seriously guys come on.:5.638843873686648\n",
      "EMS and USPS?:Since divine didn't pass there's other options.:7.958627981378557\n",
      "EMS and USPS?:Summer volunteer opportunities:6.612449135167933\n",
      "EMS and USPS?:System Settings or the Internet Browser won't launch. Did I brick my N3DS. 9.8-2XU > 9.2-20U:6.557310459725112\n"
     ]
    },
    {
     "name": "stderr",
     "output_type": "stream",
     "text": [
      "100%|██████████| 66/66 [00:00<00:00, 2966.81it/s]\n"
     ]
    },
    {
     "name": "stdout",
     "output_type": "stream",
     "text": [
      "EMS and USPS?:Things you heard while at the hospital you wish you did not hear?:7.0826608958399495\n",
      "EMS and USPS?:This may not be the appropriate place to post this but I'm selling my 42mm Milanese Loop and am willing to hook it up for you!:5.85661616936744\n",
      "EMS and USPS?:Thoboy..:5.848146244260022\n",
      "EMS and USPS?:Undergrad student starting to feel under qualified and overwhelmed:6.371029320775803\n",
      "EMS and USPS?:Vanilla Crayfish:5.872169987203726\n",
      "EMS and USPS?:What do most people do that's completely hypocritical but don't realise it:6.890640007336456\n",
      "EMS and USPS?:What is one thing your significant other has done for you that you can't ever pay them back for?:6.827371964782514\n",
      "EMS and USPS?:What is the most downvoted comment you have ever seen and what did it say?:6.30769404035788\n",
      "EMS and USPS?:What pop culture expression, or any phrase really, are you actually planning on using more often?:6.019961379770356\n",
      "EMS and USPS?:What's a good television show in Latin American Spanish that I could watch online to practice hearing and understanding conversational Spanish?:5.744784970892418\n",
      "EMS and USPS?:What's going on here? Can't choose damaged book.:5.730734545664466\n",
      "EMS and USPS?:What's the worst nightmare you never had?:6.20482563284053\n",
      "EMS and USPS?:Where's the best place to chop yews in f2p?:6.443667657042103\n",
      "EMS and USPS?:Why are people more likely to cut in front of you when driving in traffic, but if they were standing in line, they wouldn't do the same thing?:6.097768363566389\n",
      "EMS and USPS?:Why did the rabbit eat the road?:6.227117288510117\n",
      "EMS and USPS?:Why is China so concerned with having a \"buffer zone\" with the U.S.:7.520484657519788\n",
      "EMS and USPS?:[HELP] Moving a pregnant molly?:6.619501584480867\n",
      "EMS and USPS?:[PF] Strix Zen Archer:6.4688451223723735\n",
      "EMS and USPS?:[iPad] When I touch links/subreddits on the iPad screen, it doesn't register in AB:6.192997985266399\n",
      "EMS and USPS?:biomedical innovations class.:6.263660037493117\n",
      "EMS and USPS?:does anyone else have this issue?:6.470270605525019\n",
      "EMS and USPS?:foxy:6.169523550597318\n",
      "EMS and USPS?:rex reclaim:5.6867573599970935\n",
      "EMS and USPS?:rs authenticator:5.951624036358891\n"
     ]
    },
    {
     "name": "stderr",
     "output_type": "stream",
     "text": [
      "\n",
      "  0%|          | 0/66 [00:00<?, ?it/s]\u001b[A"
     ]
    },
    {
     "name": "stdout",
     "output_type": "stream",
     "text": [
      "Exporting from AutoDesk 2015:Exporting from AutoDesk 2015:3.998035946088952\n",
      "Exporting from AutoDesk 2015:GPU usage fluctuating. Pic inside:5.61103719256929\n",
      "Exporting from AutoDesk 2015:Group Sit - Day 17:5.5639467696106095\n",
      "Exporting from AutoDesk 2015:Happy multiplier for xp:6.7081502642974495\n",
      "Exporting from AutoDesk 2015:Have you purchased a diamond / engagement ring online? Were you happy with it?:6.802193438598752\n",
      "Exporting from AutoDesk 2015:Help with a diagnosis please!:7.307823702792941\n",
      "Exporting from AutoDesk 2015:How do I beat my anticipatory and flight anxiety?? Also first time Xanax user.:6.737527850930636\n",
      "Exporting from AutoDesk 2015:How does the reset of the world view Texas?:5.372666767571412\n",
      "Exporting from AutoDesk 2015:I need advice on a good comeback:5.736538059329343\n",
      "Exporting from AutoDesk 2015:I played 2007scape when it was first released, what's changed since then?:6.473136270419937\n",
      "Exporting from AutoDesk 2015:I think I known the band, but cant find the fucking song! Help.:6.809392789031346\n",
      "Exporting from AutoDesk 2015:I think my managers are trying to hire based on appearance what can I do to stop it?:6.434306456841808\n",
      "Exporting from AutoDesk 2015:I was wondering if any of these additives caused any false positives for my water tests.:6.522051312660457\n",
      "Exporting from AutoDesk 2015:If you had to make up a story about where babies came from, what you you say?:6.520819450220256\n",
      "Exporting from AutoDesk 2015:Is there a way to get double tap to wake on any android?:6.224107576134826\n",
      "Exporting from AutoDesk 2015:Issue with Android Market...:6.162200088112691\n",
      "Exporting from AutoDesk 2015:New skill?:6.986901184938216\n",
      "Exporting from AutoDesk 2015:Pking with Slayer Helm:8.210329593847703\n",
      "Exporting from AutoDesk 2015:Problems connecting PS3 to LCD monitor via HMDI cable with DVI adapter:7.087641047745566\n",
      "Exporting from AutoDesk 2015:Question about Final Fantasy 7 Story [FF7/CC:FF7 Spoilers]:7.557335830860637\n",
      "Exporting from AutoDesk 2015:Question about young prayer.:7.3041542107249295\n",
      "Exporting from AutoDesk 2015:Questions about some braun razors:6.563790419935641\n",
      "Exporting from AutoDesk 2015:Questions about the Galaxy S3:6.360122894123591\n",
      "Exporting from AutoDesk 2015:RCS missing:6.687585700892018\n",
      "Exporting from AutoDesk 2015:Seriously guys come on.:5.315123377638986\n",
      "Exporting from AutoDesk 2015:Since divine didn't pass there's other options.:7.622113174275702\n",
      "Exporting from AutoDesk 2015:Summer volunteer opportunities:6.263840317270822\n",
      "Exporting from AutoDesk 2015:System Settings or the Internet Browser won't launch. Did I brick my N3DS. 9.8-2XU > 9.2-20U:5.950779349467784\n",
      "Exporting from AutoDesk 2015:Things you heard while at the hospital you wish you did not hear?:7.016138486675535\n",
      "Exporting from AutoDesk 2015:This may not be the appropriate place to post this but I'm selling my 42mm Milanese Loop and am willing to hook it up for you!:5.77514066394579\n",
      "Exporting from AutoDesk 2015:Thoboy..:5.447481984157601\n",
      "Exporting from AutoDesk 2015:Undergrad student starting to feel under qualified and overwhelmed:6.2600262553251165\n",
      "Exporting from AutoDesk 2015:Vanilla Crayfish:5.62215446247043\n",
      "Exporting from AutoDesk 2015:What do most people do that's completely hypocritical but don't realise it:6.484763962195675\n",
      "Exporting from AutoDesk 2015:What is one thing your significant other has done for you that you can't ever pay them back for?:6.573694763466809\n",
      "Exporting from AutoDesk 2015:What is the most downvoted comment you have ever seen and what did it say?:5.892490459680278\n",
      "Exporting from AutoDesk 2015:What pop culture expression, or any phrase really, are you actually planning on using more often?:5.54637742296037\n",
      "Exporting from AutoDesk 2015:What's a good television show in Latin American Spanish that I could watch online to practice hearing and understanding conversational Spanish?:5.395002103430849\n",
      "Exporting from AutoDesk 2015:What's going on here? Can't choose damaged book.:5.481346974247926\n",
      "Exporting from AutoDesk 2015:What's the worst nightmare you never had?:5.998168081165714\n",
      "Exporting from AutoDesk 2015:Where's the best place to chop yews in f2p?:6.205257766407767\n",
      "Exporting from AutoDesk 2015:Why are people more likely to cut in front of you when driving in traffic, but if they were standing in line, they wouldn't do the same thing?:6.031301073790817\n",
      "Exporting from AutoDesk 2015:Why did the rabbit eat the road?:5.874847906218223\n",
      "Exporting from AutoDesk 2015:Why is China so concerned with having a \"buffer zone\" with the U.S.:7.354585724157307\n",
      "Exporting from AutoDesk 2015:[HELP] Moving a pregnant molly?:6.290039115512449\n",
      "Exporting from AutoDesk 2015:[PF] Strix Zen Archer:6.049871202493353\n",
      "Exporting from AutoDesk 2015:[iPad] When I touch links/subreddits on the iPad screen, it doesn't register in AB:5.596332497825676\n"
     ]
    },
    {
     "name": "stderr",
     "output_type": "stream",
     "text": [
      "100%|██████████| 66/66 [00:00<00:00, 3022.46it/s]\n"
     ]
    },
    {
     "name": "stdout",
     "output_type": "stream",
     "text": [
      "Exporting from AutoDesk 2015:biomedical innovations class.:5.7988883198080945\n",
      "Exporting from AutoDesk 2015:does anyone else have this issue?:6.4303500004339185\n",
      "Exporting from AutoDesk 2015:foxy:5.695031985112434\n",
      "Exporting from AutoDesk 2015:rex reclaim:5.17800022872514\n",
      "Exporting from AutoDesk 2015:rs authenticator:6.003499973824425\n"
     ]
    },
    {
     "name": "stderr",
     "output_type": "stream",
     "text": [
      "\n",
      "  0%|          | 0/66 [00:00<?, ?it/s]\u001b[A"
     ]
    },
    {
     "name": "stdout",
     "output_type": "stream",
     "text": [
      "GPU usage fluctuating. Pic inside:GPU usage fluctuating. Pic inside:3.6682125383313027\n",
      "GPU usage fluctuating. Pic inside:Group Sit - Day 17:4.592696043772516\n",
      "GPU usage fluctuating. Pic inside:Happy multiplier for xp:5.511088432791004\n",
      "GPU usage fluctuating. Pic inside:Have you purchased a diamond / engagement ring online? Were you happy with it?:6.345667833278851\n",
      "GPU usage fluctuating. Pic inside:Help with a diagnosis please!:7.179766098161927\n",
      "GPU usage fluctuating. Pic inside:How do I beat my anticipatory and flight anxiety?? Also first time Xanax user.:5.51096892998307\n",
      "GPU usage fluctuating. Pic inside:How does the reset of the world view Texas?:3.6100093060567957\n",
      "GPU usage fluctuating. Pic inside:I need advice on a good comeback:4.474936193234049\n",
      "GPU usage fluctuating. Pic inside:I played 2007scape when it was first released, what's changed since then?:5.474667672557947\n",
      "GPU usage fluctuating. Pic inside:I think I known the band, but cant find the fucking song! Help.:5.948928156428861\n",
      "GPU usage fluctuating. Pic inside:I think my managers are trying to hire based on appearance what can I do to stop it?:5.450453500544462\n",
      "GPU usage fluctuating. Pic inside:I was wondering if any of these additives caused any false positives for my water tests.:6.2136634290408335\n",
      "GPU usage fluctuating. Pic inside:If you had to make up a story about where babies came from, what you you say?:5.580713776619975\n",
      "GPU usage fluctuating. Pic inside:Is there a way to get double tap to wake on any android?:6.071916331031195\n",
      "GPU usage fluctuating. Pic inside:Issue with Android Market...:6.048868599158818\n",
      "GPU usage fluctuating. Pic inside:New skill?:6.306870373465807\n",
      "GPU usage fluctuating. Pic inside:Pking with Slayer Helm:8.085201939471483\n",
      "GPU usage fluctuating. Pic inside:Problems connecting PS3 to LCD monitor via HMDI cable with DVI adapter:7.22084718591209\n",
      "GPU usage fluctuating. Pic inside:Question about Final Fantasy 7 Story [FF7/CC:FF7 Spoilers]:7.311739900735174\n",
      "GPU usage fluctuating. Pic inside:Question about young prayer.:6.459188485234003\n",
      "GPU usage fluctuating. Pic inside:Questions about some braun razors:6.597851682936351\n",
      "GPU usage fluctuating. Pic inside:Questions about the Galaxy S3:5.7659728617667465\n",
      "GPU usage fluctuating. Pic inside:RCS missing:5.80692601209534\n",
      "GPU usage fluctuating. Pic inside:Seriously guys come on.:3.5851549461663135\n",
      "GPU usage fluctuating. Pic inside:Since divine didn't pass there's other options.:7.436918660031367\n",
      "GPU usage fluctuating. Pic inside:Summer volunteer opportunities:4.891978136541086\n",
      "GPU usage fluctuating. Pic inside:System Settings or the Internet Browser won't launch. Did I brick my N3DS. 9.8-2XU > 9.2-20U:4.907136656220956\n",
      "GPU usage fluctuating. Pic inside:Things you heard while at the hospital you wish you did not hear?:6.593033417833402\n",
      "GPU usage fluctuating. Pic inside:This may not be the appropriate place to post this but I'm selling my 42mm Milanese Loop and am willing to hook it up for you!:5.303940663489638\n",
      "GPU usage fluctuating. Pic inside:Thoboy..:3.9571782949085637\n",
      "GPU usage fluctuating. Pic inside:Undergrad student starting to feel under qualified and overwhelmed:5.560577476065433\n",
      "GPU usage fluctuating. Pic inside:Vanilla Crayfish:3.868008007323739\n",
      "GPU usage fluctuating. Pic inside:What do most people do that's completely hypocritical but don't realise it:5.430983195496357\n",
      "GPU usage fluctuating. Pic inside:What is one thing your significant other has done for you that you can't ever pay them back for?:5.598169125000239\n",
      "GPU usage fluctuating. Pic inside:What is the most downvoted comment you have ever seen and what did it say?:4.501697124542895\n",
      "GPU usage fluctuating. Pic inside:What pop culture expression, or any phrase really, are you actually planning on using more often?:3.528339663878442\n",
      "GPU usage fluctuating. Pic inside:What's a good television show in Latin American Spanish that I could watch online to practice hearing and understanding conversational Spanish?:3.2957473385800014\n",
      "GPU usage fluctuating. Pic inside:What's going on here? Can't choose damaged book.:3.92877401406059\n",
      "GPU usage fluctuating. Pic inside:What's the worst nightmare you never had?:4.9276559486229115\n",
      "GPU usage fluctuating. Pic inside:Where's the best place to chop yews in f2p?:4.886066024852609\n",
      "GPU usage fluctuating. Pic inside:Why are people more likely to cut in front of you when driving in traffic, but if they were standing in line, they wouldn't do the same thing?:5.168267701317844\n",
      "GPU usage fluctuating. Pic inside:Why did the rabbit eat the road?:4.301435150871742\n",
      "GPU usage fluctuating. Pic inside:Why is China so concerned with having a \"buffer zone\" with the U.S.:6.92928709243637\n",
      "GPU usage fluctuating. Pic inside:[HELP] Moving a pregnant molly?:5.36576809701958\n"
     ]
    },
    {
     "name": "stderr",
     "output_type": "stream",
     "text": [
      "100%|██████████| 66/66 [00:00<00:00, 2573.65it/s]\n",
      " 24%|██▍       | 16/66 [00:00<00:01, 35.55it/s]"
     ]
    },
    {
     "name": "stdout",
     "output_type": "stream",
     "text": [
      "GPU usage fluctuating. Pic inside:[PF] Strix Zen Archer:5.33218140743155\n",
      "GPU usage fluctuating. Pic inside:[iPad] When I touch links/subreddits on the iPad screen, it doesn't register in AB:5.523968776364494\n",
      "GPU usage fluctuating. Pic inside:biomedical innovations class.:4.501058415251181\n",
      "GPU usage fluctuating. Pic inside:does anyone else have this issue?:5.60833129524355\n",
      "GPU usage fluctuating. Pic inside:foxy:3.6117528045944667\n",
      "GPU usage fluctuating. Pic inside:rex reclaim:2.614538712857054\n",
      "GPU usage fluctuating. Pic inside:rs authenticator:4.778480097325767\n"
     ]
    },
    {
     "name": "stderr",
     "output_type": "stream",
     "text": [
      "\n",
      "  0%|          | 0/66 [00:00<?, ?it/s]\u001b[A"
     ]
    },
    {
     "name": "stdout",
     "output_type": "stream",
     "text": [
      "Group Sit - Day 17:Group Sit - Day 17:3.2497583554385714\n",
      "Group Sit - Day 17:Happy multiplier for xp:5.70553282895142\n",
      "Group Sit - Day 17:Have you purchased a diamond / engagement ring online? Were you happy with it?:5.958225305599768\n",
      "Group Sit - Day 17:Help with a diagnosis please!:6.964104149127648\n",
      "Group Sit - Day 17:How do I beat my anticipatory and flight anxiety?? Also first time Xanax user.:5.488878301520526\n",
      "Group Sit - Day 17:How does the reset of the world view Texas?:3.6233602420761857\n",
      "Group Sit - Day 17:I need advice on a good comeback:4.0892186061145495\n",
      "Group Sit - Day 17:I played 2007scape when it was first released, what's changed since then?:5.145694833646065\n",
      "Group Sit - Day 17:I think I known the band, but cant find the fucking song! Help.:5.403971104178369\n",
      "Group Sit - Day 17:I think my managers are trying to hire based on appearance what can I do to stop it?:5.149609154090915\n",
      "Group Sit - Day 17:I was wondering if any of these additives caused any false positives for my water tests.:5.957225862696295\n",
      "Group Sit - Day 17:If you had to make up a story about where babies came from, what you you say?:5.314114453126422\n",
      "Group Sit - Day 17:Is there a way to get double tap to wake on any android?:5.906259616411873\n",
      "Group Sit - Day 17:Issue with Android Market...:5.575904120516928\n",
      "Group Sit - Day 17:New skill?:6.1393954348448085\n",
      "Group Sit - Day 17:Pking with Slayer Helm:7.817729444465341\n",
      "Group Sit - Day 17:Problems connecting PS3 to LCD monitor via HMDI cable with DVI adapter:7.562038770098124\n",
      "Group Sit - Day 17:Question about Final Fantasy 7 Story [FF7/CC:FF7 Spoilers]:6.976687077711944\n",
      "Group Sit - Day 17:Question about young prayer.:6.083563508767574\n",
      "Group Sit - Day 17:Questions about some braun razors:6.34366468013034\n",
      "Group Sit - Day 17:Questions about the Galaxy S3:5.777193550387627\n",
      "Group Sit - Day 17:RCS missing:5.624739333699646\n",
      "Group Sit - Day 17:Seriously guys come on.:3.4537714281648233\n",
      "Group Sit - Day 17:Since divine didn't pass there's other options.:7.077407057169786\n",
      "Group Sit - Day 17:Summer volunteer opportunities:4.874396002591039\n",
      "Group Sit - Day 17:System Settings or the Internet Browser won't launch. Did I brick my N3DS. 9.8-2XU > 9.2-20U:5.1154700316117\n",
      "Group Sit - Day 17:Things you heard while at the hospital you wish you did not hear?:6.133469625796627\n",
      "Group Sit - Day 17:This may not be the appropriate place to post this but I'm selling my 42mm Milanese Loop and am willing to hook it up for you!:5.106663801230157\n",
      "Group Sit - Day 17:Thoboy..:3.788861967848129\n",
      "Group Sit - Day 17:Undergrad student starting to feel under qualified and overwhelmed:5.133861241692501\n",
      "Group Sit - Day 17:Vanilla Crayfish:3.9076257189864534\n",
      "Group Sit - Day 17:What do most people do that's completely hypocritical but don't realise it:5.151323037109963\n",
      "Group Sit - Day 17:What is one thing your significant other has done for you that you can't ever pay them back for?:5.0267403355039235\n",
      "Group Sit - Day 17:What is the most downvoted comment you have ever seen and what did it say?:4.464615902083199\n",
      "Group Sit - Day 17:What pop culture expression, or any phrase really, are you actually planning on using more often?:3.8423651048350904\n",
      "Group Sit - Day 17:What's a good television show in Latin American Spanish that I could watch online to practice hearing and understanding conversational Spanish?:3.466598823438293\n",
      "Group Sit - Day 17:What's going on here? Can't choose damaged book.:3.8406236492797463\n",
      "Group Sit - Day 17:What's the worst nightmare you never had?:4.529150476152781\n",
      "Group Sit - Day 17:Where's the best place to chop yews in f2p?:4.854511973618175\n"
     ]
    },
    {
     "name": "stderr",
     "output_type": "stream",
     "text": [
      "100%|██████████| 66/66 [00:00<00:00, 2587.50it/s]\n"
     ]
    },
    {
     "name": "stdout",
     "output_type": "stream",
     "text": [
      "Group Sit - Day 17:Why are people more likely to cut in front of you when driving in traffic, but if they were standing in line, they wouldn't do the same thing?:4.857378120509937\n",
      "Group Sit - Day 17:Why did the rabbit eat the road?:4.436862571661214\n",
      "Group Sit - Day 17:Why is China so concerned with having a \"buffer zone\" with the U.S.:6.4322363991756974\n",
      "Group Sit - Day 17:[HELP] Moving a pregnant molly?:5.169622699115114\n",
      "Group Sit - Day 17:[PF] Strix Zen Archer:4.948916585437706\n",
      "Group Sit - Day 17:[iPad] When I touch links/subreddits on the iPad screen, it doesn't register in AB:5.110070017903228\n",
      "Group Sit - Day 17:biomedical innovations class.:4.3625395751211125\n",
      "Group Sit - Day 17:does anyone else have this issue?:5.687834921628895\n",
      "Group Sit - Day 17:foxy:3.990787032846081\n",
      "Group Sit - Day 17:rex reclaim:3.1967781743712296\n",
      "Group Sit - Day 17:rs authenticator:4.739081271470378\n"
     ]
    },
    {
     "name": "stderr",
     "output_type": "stream",
     "text": [
      "\n",
      "  0%|          | 0/66 [00:00<?, ?it/s]\u001b[A"
     ]
    },
    {
     "name": "stdout",
     "output_type": "stream",
     "text": [
      "Happy multiplier for xp:Happy multiplier for xp:5.297831055319403\n",
      "Happy multiplier for xp:Have you purchased a diamond / engagement ring online? Were you happy with it?:7.03729222311488\n",
      "Happy multiplier for xp:Help with a diagnosis please!:7.762909139382505\n",
      "Happy multiplier for xp:How do I beat my anticipatory and flight anxiety?? Also first time Xanax user.:6.5493562203161435\n",
      "Happy multiplier for xp:How does the reset of the world view Texas?:5.087237534885532\n",
      "Happy multiplier for xp:I need advice on a good comeback:5.616710610305171\n",
      "Happy multiplier for xp:I played 2007scape when it was first released, what's changed since then?:6.171396378887906\n",
      "Happy multiplier for xp:I think I known the band, but cant find the fucking song! Help.:6.8797723718466415\n",
      "Happy multiplier for xp:I think my managers are trying to hire based on appearance what can I do to stop it?:6.454844329466795\n",
      "Happy multiplier for xp:I was wondering if any of these additives caused any false positives for my water tests.:7.067597263433635\n",
      "Happy multiplier for xp:If you had to make up a story about where babies came from, what you you say?:6.539872389271844\n",
      "Happy multiplier for xp:Is there a way to get double tap to wake on any android?:6.984949575553102\n",
      "Happy multiplier for xp:Issue with Android Market...:6.917405859129201\n",
      "Happy multiplier for xp:New skill?:6.598157830687732\n",
      "Happy multiplier for xp:Pking with Slayer Helm:7.629795846044461\n",
      "Happy multiplier for xp:Problems connecting PS3 to LCD monitor via HMDI cable with DVI adapter:7.985574078432189\n",
      "Happy multiplier for xp:Question about Final Fantasy 7 Story [FF7/CC:FF7 Spoilers]:7.605321008418547\n",
      "Happy multiplier for xp:Question about young prayer.:7.285849611690554\n",
      "Happy multiplier for xp:Questions about some braun razors:7.349038141612868\n",
      "Happy multiplier for xp:Questions about the Galaxy S3:6.870401546447598\n",
      "Happy multiplier for xp:RCS missing:6.654617346500272\n",
      "Happy multiplier for xp:Seriously guys come on.:5.030126821411227\n",
      "Happy multiplier for xp:Since divine didn't pass there's other options.:7.2489809988478395\n",
      "Happy multiplier for xp:Summer volunteer opportunities:5.925562152855498\n",
      "Happy multiplier for xp:System Settings or the Internet Browser won't launch. Did I brick my N3DS. 9.8-2XU > 9.2-20U:5.978179587930614\n",
      "Happy multiplier for xp:Things you heard while at the hospital you wish you did not hear?:7.443418282403852\n",
      "Happy multiplier for xp:This may not be the appropriate place to post this but I'm selling my 42mm Milanese Loop and am willing to hook it up for you!:6.3328192678544255\n",
      "Happy multiplier for xp:Thoboy..:5.30959096808979\n",
      "Happy multiplier for xp:Undergrad student starting to feel under qualified and overwhelmed:6.579008830926545\n",
      "Happy multiplier for xp:Vanilla Crayfish:5.285645181102396\n",
      "Happy multiplier for xp:What do most people do that's completely hypocritical but don't realise it:6.397952429399803\n",
      "Happy multiplier for xp:What is one thing your significant other has done for you that you can't ever pay them back for?:6.603037418159181\n",
      "Happy multiplier for xp:What is the most downvoted comment you have ever seen and what did it say?:5.663071085355348\n",
      "Happy multiplier for xp:What pop culture expression, or any phrase really, are you actually planning on using more often?:5.0594045207792835\n",
      "Happy multiplier for xp:What's a good television show in Latin American Spanish that I could watch online to practice hearing and understanding conversational Spanish?:4.861685919032647\n",
      "Happy multiplier for xp:What's going on here? Can't choose damaged book.:5.280428170648227\n"
     ]
    },
    {
     "name": "stderr",
     "output_type": "stream",
     "text": [
      "100%|██████████| 66/66 [00:00<00:00, 2576.23it/s]\n"
     ]
    },
    {
     "name": "stdout",
     "output_type": "stream",
     "text": [
      "Happy multiplier for xp:What's the worst nightmare you never had?:6.026606469340647\n",
      "Happy multiplier for xp:Where's the best place to chop yews in f2p?:5.74886431415075\n",
      "Happy multiplier for xp:Why are people more likely to cut in front of you when driving in traffic, but if they were standing in line, they wouldn't do the same thing?:6.248077545827135\n",
      "Happy multiplier for xp:Why did the rabbit eat the road?:5.664626303768874\n",
      "Happy multiplier for xp:Why is China so concerned with having a \"buffer zone\" with the U.S.:7.58932535376608\n",
      "Happy multiplier for xp:[HELP] Moving a pregnant molly?:6.225932975337616\n",
      "Happy multiplier for xp:[PF] Strix Zen Archer:6.00678302286957\n",
      "Happy multiplier for xp:[iPad] When I touch links/subreddits on the iPad screen, it doesn't register in AB:6.683204296432623\n",
      "Happy multiplier for xp:biomedical innovations class.:5.765390417230419\n",
      "Happy multiplier for xp:does anyone else have this issue?:6.7184298672738425\n",
      "Happy multiplier for xp:foxy:5.096986195193376\n",
      "Happy multiplier for xp:rex reclaim:4.373820169663398\n",
      "Happy multiplier for xp:rs authenticator:5.864755227986041\n"
     ]
    },
    {
     "name": "stderr",
     "output_type": "stream",
     "text": [
      "\n",
      "  0%|          | 0/66 [00:00<?, ?it/s]\u001b[A"
     ]
    },
    {
     "name": "stdout",
     "output_type": "stream",
     "text": [
      "Have you purchased a diamond / engagement ring online? Were you happy with it?:Have you purchased a diamond / engagement ring online? Were you happy with it?:4.204887422736405\n",
      "Have you purchased a diamond / engagement ring online? Were you happy with it?:Help with a diagnosis please!:7.673253348642158\n",
      "Have you purchased a diamond / engagement ring online? Were you happy with it?:How do I beat my anticipatory and flight anxiety?? Also first time Xanax user.:6.814529930325515\n",
      "Have you purchased a diamond / engagement ring online? Were you happy with it?:How does the reset of the world view Texas?:5.725165178348222\n",
      "Have you purchased a diamond / engagement ring online? Were you happy with it?:I need advice on a good comeback:6.107280682380548\n",
      "Have you purchased a diamond / engagement ring online? Were you happy with it?:I played 2007scape when it was first released, what's changed since then?:6.779170714430822\n",
      "Have you purchased a diamond / engagement ring online? Were you happy with it?:I think I known the band, but cant find the fucking song! Help.:7.0091583328030875\n",
      "Have you purchased a diamond / engagement ring online? Were you happy with it?:I think my managers are trying to hire based on appearance what can I do to stop it?:6.641914304291757\n",
      "Have you purchased a diamond / engagement ring online? Were you happy with it?:I was wondering if any of these additives caused any false positives for my water tests.:7.007108396499341\n",
      "Have you purchased a diamond / engagement ring online? Were you happy with it?:If you had to make up a story about where babies came from, what you you say?:6.449513702242044\n",
      "Have you purchased a diamond / engagement ring online? Were you happy with it?:Is there a way to get double tap to wake on any android?:7.518069220487931\n",
      "Have you purchased a diamond / engagement ring online? Were you happy with it?:Issue with Android Market...:6.767030652776027\n",
      "Have you purchased a diamond / engagement ring online? Were you happy with it?:New skill?:7.323286179314553\n",
      "Have you purchased a diamond / engagement ring online? Were you happy with it?:Pking with Slayer Helm:8.158644308195624\n",
      "Have you purchased a diamond / engagement ring online? Were you happy with it?:Problems connecting PS3 to LCD monitor via HMDI cable with DVI adapter:8.212301387665244\n",
      "Have you purchased a diamond / engagement ring online? Were you happy with it?:Question about Final Fantasy 7 Story [FF7/CC:FF7 Spoilers]:8.221923593130395\n",
      "Have you purchased a diamond / engagement ring online? Were you happy with it?:Question about young prayer.:7.35092877502408\n",
      "Have you purchased a diamond / engagement ring online? Were you happy with it?:Questions about some braun razors:6.683517285491114\n",
      "Have you purchased a diamond / engagement ring online? Were you happy with it?:Questions about the Galaxy S3:7.193642419790827\n",
      "Have you purchased a diamond / engagement ring online? Were you happy with it?:RCS missing:7.050988782120622\n",
      "Have you purchased a diamond / engagement ring online? Were you happy with it?:Seriously guys come on.:5.672404930905657\n",
      "Have you purchased a diamond / engagement ring online? Were you happy with it?:Since divine didn't pass there's other options.:7.651935163384534\n",
      "Have you purchased a diamond / engagement ring online? Were you happy with it?:Summer volunteer opportunities:6.247172936751626\n",
      "Have you purchased a diamond / engagement ring online? Were you happy with it?:System Settings or the Internet Browser won't launch. Did I brick my N3DS. 9.8-2XU > 9.2-20U:6.648257503869855\n",
      "Have you purchased a diamond / engagement ring online? Were you happy with it?:Things you heard while at the hospital you wish you did not hear?:7.311195716890543\n",
      "Have you purchased a diamond / engagement ring online? Were you happy with it?:This may not be the appropriate place to post this but I'm selling my 42mm Milanese Loop and am willing to hook it up for you!:5.568375198128682\n",
      "Have you purchased a diamond / engagement ring online? Were you happy with it?:Thoboy..:5.822434675644949\n",
      "Have you purchased a diamond / engagement ring online? Were you happy with it?:Undergrad student starting to feel under qualified and overwhelmed:6.758289337087757\n",
      "Have you purchased a diamond / engagement ring online? Were you happy with it?:Vanilla Crayfish:5.770993330348109\n",
      "Have you purchased a diamond / engagement ring online? Were you happy with it?:What do most people do that's completely hypocritical but don't realise it:6.7866289551813015\n",
      "Have you purchased a diamond / engagement ring online? Were you happy with it?:What is one thing your significant other has done for you that you can't ever pay them back for?:6.487969058704207\n",
      "Have you purchased a diamond / engagement ring online? Were you happy with it?:What is the most downvoted comment you have ever seen and what did it say?:6.195277147061036\n",
      "Have you purchased a diamond / engagement ring online? Were you happy with it?:What pop culture expression, or any phrase really, are you actually planning on using more often?:5.7721138897619095\n",
      "Have you purchased a diamond / engagement ring online? Were you happy with it?:What's a good television show in Latin American Spanish that I could watch online to practice hearing and understanding conversational Spanish?:5.579831956767058\n",
      "Have you purchased a diamond / engagement ring online? Were you happy with it?:What's going on here? Can't choose damaged book.:5.750489297044585\n",
      "Have you purchased a diamond / engagement ring online? Were you happy with it?:What's the worst nightmare you never had?:6.387007270026805\n",
      "Have you purchased a diamond / engagement ring online? Were you happy with it?:Where's the best place to chop yews in f2p?:6.374057812969811\n",
      "Have you purchased a diamond / engagement ring online? Were you happy with it?:Why are people more likely to cut in front of you when driving in traffic, but if they were standing in line, they wouldn't do the same thing?:6.317665455543752\n",
      "Have you purchased a diamond / engagement ring online? Were you happy with it?:Why did the rabbit eat the road?:6.245182270759607\n",
      "Have you purchased a diamond / engagement ring online? Were you happy with it?:Why is China so concerned with having a \"buffer zone\" with the U.S.:7.631094919927018\n"
     ]
    },
    {
     "name": "stderr",
     "output_type": "stream",
     "text": [
      "100%|██████████| 66/66 [00:00<00:00, 2653.40it/s]\n"
     ]
    },
    {
     "name": "stdout",
     "output_type": "stream",
     "text": [
      "Have you purchased a diamond / engagement ring online? Were you happy with it?:[HELP] Moving a pregnant molly?:6.556964021138034\n",
      "Have you purchased a diamond / engagement ring online? Were you happy with it?:[PF] Strix Zen Archer:6.53395060498228\n",
      "Have you purchased a diamond / engagement ring online? Were you happy with it?:[iPad] When I touch links/subreddits on the iPad screen, it doesn't register in AB:6.814830139302893\n",
      "Have you purchased a diamond / engagement ring online? Were you happy with it?:biomedical innovations class.:6.233473248491895\n",
      "Have you purchased a diamond / engagement ring online? Were you happy with it?:does anyone else have this issue?:7.143242798653384\n",
      "Have you purchased a diamond / engagement ring online? Were you happy with it?:foxy:5.881046667488041\n",
      "Have you purchased a diamond / engagement ring online? Were you happy with it?:rex reclaim:5.3653808936855665\n",
      "Have you purchased a diamond / engagement ring online? Were you happy with it?:rs authenticator:6.470359964427598\n"
     ]
    },
    {
     "name": "stderr",
     "output_type": "stream",
     "text": [
      "\n",
      "  0%|          | 0/66 [00:00<?, ?it/s]\u001b[A"
     ]
    },
    {
     "name": "stdout",
     "output_type": "stream",
     "text": [
      "Help with a diagnosis please!:Help with a diagnosis please!:3.4016071495890343\n",
      "Help with a diagnosis please!:How do I beat my anticipatory and flight anxiety?? Also first time Xanax user.:7.346419849400508\n",
      "Help with a diagnosis please!:How does the reset of the world view Texas?:6.891473803901765\n",
      "Help with a diagnosis please!:I need advice on a good comeback:7.146617173619637\n",
      "Help with a diagnosis please!:I played 2007scape when it was first released, what's changed since then?:7.654732106945425\n",
      "Help with a diagnosis please!:I think I known the band, but cant find the fucking song! Help.:7.8138241888138635\n",
      "Help with a diagnosis please!:I think my managers are trying to hire based on appearance what can I do to stop it?:7.717122148970918\n",
      "Help with a diagnosis please!:I was wondering if any of these additives caused any false positives for my water tests.:5.823144254097469\n",
      "Help with a diagnosis please!:If you had to make up a story about where babies came from, what you you say?:7.125425394179269\n",
      "Help with a diagnosis please!:Is there a way to get double tap to wake on any android?:7.7269562519950785\n",
      "Help with a diagnosis please!:Issue with Android Market...:7.4506056516445796\n",
      "Help with a diagnosis please!:New skill?:8.006939878269387\n",
      "Help with a diagnosis please!:Pking with Slayer Helm:8.622128201355228\n",
      "Help with a diagnosis please!:Problems connecting PS3 to LCD monitor via HMDI cable with DVI adapter:8.485800952491086\n",
      "Help with a diagnosis please!:Question about Final Fantasy 7 Story [FF7/CC:FF7 Spoilers]:8.545474731534549\n",
      "Help with a diagnosis please!:Question about young prayer.:8.084850654988077\n",
      "Help with a diagnosis please!:Questions about some braun razors:7.303095038741682\n",
      "Help with a diagnosis please!:Questions about the Galaxy S3:7.648570814642106\n",
      "Help with a diagnosis please!:RCS missing:6.198053236082238\n",
      "Help with a diagnosis please!:Seriously guys come on.:6.827725125576602\n",
      "Help with a diagnosis please!:Since divine didn't pass there's other options.:8.382794140618095\n",
      "Help with a diagnosis please!:Summer volunteer opportunities:7.222929206604277\n",
      "Help with a diagnosis please!:System Settings or the Internet Browser won't launch. Did I brick my N3DS. 9.8-2XU > 9.2-20U:7.5427199135469\n",
      "Help with a diagnosis please!:Things you heard while at the hospital you wish you did not hear?:7.108402248123896\n",
      "Help with a diagnosis please!:This may not be the appropriate place to post this but I'm selling my 42mm Milanese Loop and am willing to hook it up for you!:7.214166010248729\n",
      "Help with a diagnosis please!:Thoboy..:7.09849981707033\n",
      "Help with a diagnosis please!:Undergrad student starting to feel under qualified and overwhelmed:7.522817540847441\n",
      "Help with a diagnosis please!:Vanilla Crayfish:7.066366493961359\n",
      "Help with a diagnosis please!:What do most people do that's completely hypocritical but don't realise it:7.355267493576387\n",
      "Help with a diagnosis please!:What is one thing your significant other has done for you that you can't ever pay them back for?:7.437531436453485\n",
      "Help with a diagnosis please!:What is the most downvoted comment you have ever seen and what did it say?:7.036165293296578\n",
      "Help with a diagnosis please!:What pop culture expression, or any phrase really, are you actually planning on using more often?:7.060288304887367\n",
      "Help with a diagnosis please!:What's a good television show in Latin American Spanish that I could watch online to practice hearing and understanding conversational Spanish?:7.00404167315863\n",
      "Help with a diagnosis please!:What's going on here? Can't choose damaged book.:7.065708104830197\n",
      "Help with a diagnosis please!:What's the worst nightmare you never had?:6.936972161829896\n"
     ]
    },
    {
     "name": "stderr",
     "output_type": "stream",
     "text": [
      "100%|██████████| 66/66 [00:00<00:00, 3242.60it/s]\n",
      " 30%|███       | 20/66 [00:00<00:01, 36.23it/s]"
     ]
    },
    {
     "name": "stdout",
     "output_type": "stream",
     "text": [
      "Help with a diagnosis please!:Where's the best place to chop yews in f2p?:7.292066389923868\n",
      "Help with a diagnosis please!:Why are people more likely to cut in front of you when driving in traffic, but if they were standing in line, they wouldn't do the same thing?:7.37266849467793\n",
      "Help with a diagnosis please!:Why did the rabbit eat the road?:7.300022172862312\n",
      "Help with a diagnosis please!:Why is China so concerned with having a \"buffer zone\" with the U.S.:8.149154723555379\n",
      "Help with a diagnosis please!:[HELP] Moving a pregnant molly?:5.803114269031239\n",
      "Help with a diagnosis please!:[PF] Strix Zen Archer:7.374808728430901\n",
      "Help with a diagnosis please!:[iPad] When I touch links/subreddits on the iPad screen, it doesn't register in AB:6.952467510341126\n",
      "Help with a diagnosis please!:biomedical innovations class.:6.966574603194115\n",
      "Help with a diagnosis please!:does anyone else have this issue?:7.612936322668226\n",
      "Help with a diagnosis please!:foxy:7.204341430136621\n",
      "Help with a diagnosis please!:rex reclaim:6.949342334324461\n",
      "Help with a diagnosis please!:rs authenticator:7.314895670664195\n"
     ]
    },
    {
     "name": "stderr",
     "output_type": "stream",
     "text": [
      "\n",
      "  0%|          | 0/66 [00:00<?, ?it/s]\u001b[A"
     ]
    },
    {
     "name": "stdout",
     "output_type": "stream",
     "text": [
      "How do I beat my anticipatory and flight anxiety?? Also first time Xanax user.:How do I beat my anticipatory and flight anxiety?? Also first time Xanax user.:4.433577047680693\n",
      "How do I beat my anticipatory and flight anxiety?? Also first time Xanax user.:How does the reset of the world view Texas?:4.8892619259045045\n",
      "How do I beat my anticipatory and flight anxiety?? Also first time Xanax user.:I need advice on a good comeback:5.499812533701404\n",
      "How do I beat my anticipatory and flight anxiety?? Also first time Xanax user.:I played 2007scape when it was first released, what's changed since then?:6.439226157817467\n",
      "How do I beat my anticipatory and flight anxiety?? Also first time Xanax user.:I think I known the band, but cant find the fucking song! Help.:6.6528808004469315\n",
      "How do I beat my anticipatory and flight anxiety?? Also first time Xanax user.:I think my managers are trying to hire based on appearance what can I do to stop it?:6.29541036870926\n",
      "How do I beat my anticipatory and flight anxiety?? Also first time Xanax user.:I was wondering if any of these additives caused any false positives for my water tests.:6.799852425443274\n",
      "How do I beat my anticipatory and flight anxiety?? Also first time Xanax user.:If you had to make up a story about where babies came from, what you you say?:6.248480756087196\n",
      "How do I beat my anticipatory and flight anxiety?? Also first time Xanax user.:Is there a way to get double tap to wake on any android?:6.921730024228173\n",
      "How do I beat my anticipatory and flight anxiety?? Also first time Xanax user.:Issue with Android Market...:6.901087470470206\n",
      "How do I beat my anticipatory and flight anxiety?? Also first time Xanax user.:New skill?:7.204023355163779\n",
      "How do I beat my anticipatory and flight anxiety?? Also first time Xanax user.:Pking with Slayer Helm:8.52951575633723\n",
      "How do I beat my anticipatory and flight anxiety?? Also first time Xanax user.:Problems connecting PS3 to LCD monitor via HMDI cable with DVI adapter:8.268631275452893\n",
      "How do I beat my anticipatory and flight anxiety?? Also first time Xanax user.:Question about Final Fantasy 7 Story [FF7/CC:FF7 Spoilers]:7.933474418756387\n",
      "How do I beat my anticipatory and flight anxiety?? Also first time Xanax user.:Question about young prayer.:7.023251428709836\n",
      "How do I beat my anticipatory and flight anxiety?? Also first time Xanax user.:Questions about some braun razors:7.162202256306808\n",
      "How do I beat my anticipatory and flight anxiety?? Also first time Xanax user.:Questions about the Galaxy S3:6.71915470733408\n",
      "How do I beat my anticipatory and flight anxiety?? Also first time Xanax user.:RCS missing:6.433272692408619\n",
      "How do I beat my anticipatory and flight anxiety?? Also first time Xanax user.:Seriously guys come on.:4.846077371118385\n",
      "How do I beat my anticipatory and flight anxiety?? Also first time Xanax user.:Since divine didn't pass there's other options.:7.974708349412668\n",
      "How do I beat my anticipatory and flight anxiety?? Also first time Xanax user.:Summer volunteer opportunities:5.975719793096372\n",
      "How do I beat my anticipatory and flight anxiety?? Also first time Xanax user.:System Settings or the Internet Browser won't launch. Did I brick my N3DS. 9.8-2XU > 9.2-20U:6.136346797548201\n",
      "How do I beat my anticipatory and flight anxiety?? Also first time Xanax user.:Things you heard while at the hospital you wish you did not hear?:6.861603717581881\n",
      "How do I beat my anticipatory and flight anxiety?? Also first time Xanax user.:This may not be the appropriate place to post this but I'm selling my 42mm Milanese Loop and am willing to hook it up for you!:6.283503937007957\n",
      "How do I beat my anticipatory and flight anxiety?? Also first time Xanax user.:Thoboy..:5.227119831773388\n",
      "How do I beat my anticipatory and flight anxiety?? Also first time Xanax user.:Undergrad student starting to feel under qualified and overwhelmed:6.378566765241841\n",
      "How do I beat my anticipatory and flight anxiety?? Also first time Xanax user.:Vanilla Crayfish:5.083096458744838\n",
      "How do I beat my anticipatory and flight anxiety?? Also first time Xanax user.:What do most people do that's completely hypocritical but don't realise it:6.195746368825661\n",
      "How do I beat my anticipatory and flight anxiety?? Also first time Xanax user.:What is one thing your significant other has done for you that you can't ever pay them back for?:5.760866785366003\n",
      "How do I beat my anticipatory and flight anxiety?? Also first time Xanax user.:What is the most downvoted comment you have ever seen and what did it say?:5.582401972585269\n",
      "How do I beat my anticipatory and flight anxiety?? Also first time Xanax user.:What pop culture expression, or any phrase really, are you actually planning on using more often?:4.901547874569845\n",
      "How do I beat my anticipatory and flight anxiety?? Also first time Xanax user.:What's a good television show in Latin American Spanish that I could watch online to practice hearing and understanding conversational Spanish?:4.708658421605973\n",
      "How do I beat my anticipatory and flight anxiety?? Also first time Xanax user.:What's going on here? Can't choose damaged book.:5.111844571109797\n"
     ]
    },
    {
     "name": "stderr",
     "output_type": "stream",
     "text": [
      "100%|██████████| 66/66 [00:00<00:00, 2856.36it/s]\n"
     ]
    },
    {
     "name": "stdout",
     "output_type": "stream",
     "text": [
      "How do I beat my anticipatory and flight anxiety?? Also first time Xanax user.:What's the worst nightmare you never had?:5.687877623000549\n",
      "How do I beat my anticipatory and flight anxiety?? Also first time Xanax user.:Where's the best place to chop yews in f2p?:6.030732532464949\n",
      "How do I beat my anticipatory and flight anxiety?? Also first time Xanax user.:Why are people more likely to cut in front of you when driving in traffic, but if they were standing in line, they wouldn't do the same thing?:5.925417762318073\n",
      "How do I beat my anticipatory and flight anxiety?? Also first time Xanax user.:Why did the rabbit eat the road?:5.477508352665192\n",
      "How do I beat my anticipatory and flight anxiety?? Also first time Xanax user.:Why is China so concerned with having a \"buffer zone\" with the U.S.:7.499262964050994\n",
      "How do I beat my anticipatory and flight anxiety?? Also first time Xanax user.:[HELP] Moving a pregnant molly?:6.214419776179406\n",
      "How do I beat my anticipatory and flight anxiety?? Also first time Xanax user.:[PF] Strix Zen Archer:6.256160203146993\n",
      "How do I beat my anticipatory and flight anxiety?? Also first time Xanax user.:[iPad] When I touch links/subreddits on the iPad screen, it doesn't register in AB:6.424609756223013\n",
      "How do I beat my anticipatory and flight anxiety?? Also first time Xanax user.:biomedical innovations class.:5.2341462795305\n",
      "How do I beat my anticipatory and flight anxiety?? Also first time Xanax user.:does anyone else have this issue?:6.7228032900061\n",
      "How do I beat my anticipatory and flight anxiety?? Also first time Xanax user.:foxy:5.000801775327977\n",
      "How do I beat my anticipatory and flight anxiety?? Also first time Xanax user.:rex reclaim:4.256021859874699\n",
      "How do I beat my anticipatory and flight anxiety?? Also first time Xanax user.:rs authenticator:5.960836310168603\n"
     ]
    },
    {
     "name": "stderr",
     "output_type": "stream",
     "text": [
      "\n",
      "  0%|          | 0/66 [00:00<?, ?it/s]\u001b[A"
     ]
    },
    {
     "name": "stdout",
     "output_type": "stream",
     "text": [
      "How does the reset of the world view Texas?:How does the reset of the world view Texas?:2.300025560345469\n",
      "How does the reset of the world view Texas?:I need advice on a good comeback:3.4944193393309426\n",
      "How does the reset of the world view Texas?:I played 2007scape when it was first released, what's changed since then?:4.7758408267761725\n",
      "How does the reset of the world view Texas?:I think I known the band, but cant find the fucking song! Help.:5.1702772870460585\n",
      "How does the reset of the world view Texas?:I think my managers are trying to hire based on appearance what can I do to stop it?:4.631562389924391\n",
      "How does the reset of the world view Texas?:I was wondering if any of these additives caused any false positives for my water tests.:5.813333521918473\n",
      "How does the reset of the world view Texas?:If you had to make up a story about where babies came from, what you you say?:4.805104516181379\n",
      "How does the reset of the world view Texas?:Is there a way to get double tap to wake on any android?:5.788296261798751\n",
      "How does the reset of the world view Texas?:Issue with Android Market...:5.56677420528591\n",
      "How does the reset of the world view Texas?:New skill?:5.786126669963801\n",
      "How does the reset of the world view Texas?:Pking with Slayer Helm:7.830986568194566\n",
      "How does the reset of the world view Texas?:Problems connecting PS3 to LCD monitor via HMDI cable with DVI adapter:7.495467023830149\n",
      "How does the reset of the world view Texas?:Question about Final Fantasy 7 Story [FF7/CC:FF7 Spoilers]:6.950931702344869\n",
      "How does the reset of the world view Texas?:Question about young prayer.:5.705827617768016\n",
      "How does the reset of the world view Texas?:Questions about some braun razors:6.273549172399403\n",
      "How does the reset of the world view Texas?:Questions about the Galaxy S3:5.4130816007064535\n",
      "How does the reset of the world view Texas?:RCS missing:5.109455681952623\n",
      "How does the reset of the world view Texas?:Seriously guys come on.:2.6184993351174746\n",
      "How does the reset of the world view Texas?:Since divine didn't pass there's other options.:7.0112114407444635\n",
      "How does the reset of the world view Texas?:Summer volunteer opportunities:4.089305542238747\n",
      "How does the reset of the world view Texas?:System Settings or the Internet Browser won't launch. Did I brick my N3DS. 9.8-2XU > 9.2-20U:4.352360671786903\n",
      "How does the reset of the world view Texas?:Things you heard while at the hospital you wish you did not hear?:6.039758128337559\n",
      "How does the reset of the world view Texas?:This may not be the appropriate place to post this but I'm selling my 42mm Milanese Loop and am willing to hook it up for you!:4.681736413083344\n",
      "How does the reset of the world view Texas?:Thoboy..:3.03095203442338\n",
      "How does the reset of the world view Texas?:Undergrad student starting to feel under qualified and overwhelmed:4.828565570662052\n",
      "How does the reset of the world view Texas?:Vanilla Crayfish:2.945874984894311\n",
      "How does the reset of the world view Texas?:What do most people do that's completely hypocritical but don't realise it:4.569846203234221\n",
      "How does the reset of the world view Texas?:What is one thing your significant other has done for you that you can't ever pay them back for?:4.843254744840716\n",
      "How does the reset of the world view Texas?:What is the most downvoted comment you have ever seen and what did it say?:3.618130260311081\n",
      "How does the reset of the world view Texas?:What pop culture expression, or any phrase really, are you actually planning on using more often?:2.656313282385467\n"
     ]
    },
    {
     "name": "stderr",
     "output_type": "stream",
     "text": [
      "100%|██████████| 66/66 [00:00<00:00, 2862.50it/s]\n"
     ]
    },
    {
     "name": "stdout",
     "output_type": "stream",
     "text": [
      "How does the reset of the world view Texas?:What's a good television show in Latin American Spanish that I could watch online to practice hearing and understanding conversational Spanish?:2.3193410771265097\n",
      "How does the reset of the world view Texas?:What's going on here? Can't choose damaged book.:2.9908396351620015\n",
      "How does the reset of the world view Texas?:What's the worst nightmare you never had?:4.120771756900119\n",
      "How does the reset of the world view Texas?:Where's the best place to chop yews in f2p?:4.108613660777033\n",
      "How does the reset of the world view Texas?:Why are people more likely to cut in front of you when driving in traffic, but if they were standing in line, they wouldn't do the same thing?:4.380807004030378\n",
      "How does the reset of the world view Texas?:Why did the rabbit eat the road?:3.442632885760201\n",
      "How does the reset of the world view Texas?:Why is China so concerned with having a \"buffer zone\" with the U.S.:6.151728487440805\n",
      "How does the reset of the world view Texas?:[HELP] Moving a pregnant molly?:4.6326275685655025\n",
      "How does the reset of the world view Texas?:[PF] Strix Zen Archer:4.673917358616419\n",
      "How does the reset of the world view Texas?:[iPad] When I touch links/subreddits on the iPad screen, it doesn't register in AB:5.079710687977907\n",
      "How does the reset of the world view Texas?:biomedical innovations class.:3.6960234180631537\n",
      "How does the reset of the world view Texas?:does anyone else have this issue?:5.32134754819908\n",
      "How does the reset of the world view Texas?:foxy:2.7054571784343726\n",
      "How does the reset of the world view Texas?:rex reclaim:1.6292948173724757\n",
      "How does the reset of the world view Texas?:rs authenticator:4.1266935358510155\n"
     ]
    },
    {
     "name": "stderr",
     "output_type": "stream",
     "text": [
      "\n",
      "  0%|          | 0/66 [00:00<?, ?it/s]\u001b[A"
     ]
    },
    {
     "name": "stdout",
     "output_type": "stream",
     "text": [
      "I need advice on a good comeback:I need advice on a good comeback:2.998533059787416\n",
      "I need advice on a good comeback:I played 2007scape when it was first released, what's changed since then?:5.424289054018271\n",
      "I need advice on a good comeback:I think I known the band, but cant find the fucking song! Help.:5.55853643103986\n",
      "I need advice on a good comeback:I think my managers are trying to hire based on appearance what can I do to stop it?:5.019191403274954\n",
      "I need advice on a good comeback:I was wondering if any of these additives caused any false positives for my water tests.:6.175400635177095\n",
      "I need advice on a good comeback:If you had to make up a story about where babies came from, what you you say?:5.378673800867487\n",
      "I need advice on a good comeback:Is there a way to get double tap to wake on any android?:6.118578455947638\n",
      "I need advice on a good comeback:Issue with Android Market...:5.922585455257359\n",
      "I need advice on a good comeback:New skill?:6.123487688107831\n",
      "I need advice on a good comeback:Pking with Slayer Helm:7.721400267385912\n",
      "I need advice on a good comeback:Problems connecting PS3 to LCD monitor via HMDI cable with DVI adapter:7.72523894578282\n",
      "I need advice on a good comeback:Question about Final Fantasy 7 Story [FF7/CC:FF7 Spoilers]:7.135970434291721\n",
      "I need advice on a good comeback:Question about young prayer.:6.198411334023858\n",
      "I need advice on a good comeback:Questions about some braun razors:6.4445257200862835\n",
      "I need advice on a good comeback:Questions about the Galaxy S3:5.937826261975621\n",
      "I need advice on a good comeback:RCS missing:5.462732341370872\n",
      "I need advice on a good comeback:Seriously guys come on.:3.447539278189631\n",
      "I need advice on a good comeback:Since divine didn't pass there's other options.:7.103366279900503\n",
      "I need advice on a good comeback:Summer volunteer opportunities:4.908895746899416\n",
      "I need advice on a good comeback:System Settings or the Internet Browser won't launch. Did I brick my N3DS. 9.8-2XU > 9.2-20U:4.986467114805976\n",
      "I need advice on a good comeback:Things you heard while at the hospital you wish you did not hear?:6.190204163827327\n",
      "I need advice on a good comeback:This may not be the appropriate place to post this but I'm selling my 42mm Milanese Loop and am willing to hook it up for you!:5.251920562631648\n",
      "I need advice on a good comeback:Thoboy..:3.6831765192628887\n",
      "I need advice on a good comeback:Undergrad student starting to feel under qualified and overwhelmed:5.220835780097146\n",
      "I need advice on a good comeback:Vanilla Crayfish:3.7573772983596667\n",
      "I need advice on a good comeback:What do most people do that's completely hypocritical but don't realise it:4.6757481444359\n",
      "I need advice on a good comeback:What is one thing your significant other has done for you that you can't ever pay them back for?:5.170040508314587\n",
      "I need advice on a good comeback:What is the most downvoted comment you have ever seen and what did it say?:4.039394941302238\n",
      "I need advice on a good comeback:What pop culture expression, or any phrase really, are you actually planning on using more often?:3.621952911987857\n",
      "I need advice on a good comeback:What's a good television show in Latin American Spanish that I could watch online to practice hearing and understanding conversational Spanish?:3.3188723801089637\n",
      "I need advice on a good comeback:What's going on here? Can't choose damaged book.:3.7529487808049784\n",
      "I need advice on a good comeback:What's the worst nightmare you never had?:4.5744412947428135\n",
      "I need advice on a good comeback:Where's the best place to chop yews in f2p?:4.766687737099629\n",
      "I need advice on a good comeback:Why are people more likely to cut in front of you when driving in traffic, but if they were standing in line, they wouldn't do the same thing?:4.680139607760157\n"
     ]
    },
    {
     "name": "stderr",
     "output_type": "stream",
     "text": [
      "100%|██████████| 66/66 [00:00<00:00, 3351.58it/s]\n"
     ]
    },
    {
     "name": "stdout",
     "output_type": "stream",
     "text": [
      "I need advice on a good comeback:Why did the rabbit eat the road?:4.242628830694505\n",
      "I need advice on a good comeback:Why is China so concerned with having a \"buffer zone\" with the U.S.:6.455839759546182\n",
      "I need advice on a good comeback:[HELP] Moving a pregnant molly?:5.1239458864821525\n",
      "I need advice on a good comeback:[PF] Strix Zen Archer:4.903981400358821\n",
      "I need advice on a good comeback:[iPad] When I touch links/subreddits on the iPad screen, it doesn't register in AB:5.438257708698832\n",
      "I need advice on a good comeback:biomedical innovations class.:4.357492536713643\n",
      "I need advice on a good comeback:does anyone else have this issue?:5.809550235010141\n",
      "I need advice on a good comeback:foxy:3.659120235001836\n",
      "I need advice on a good comeback:rex reclaim:2.8576569107169907\n",
      "I need advice on a good comeback:rs authenticator:4.682841975974057\n"
     ]
    },
    {
     "name": "stderr",
     "output_type": "stream",
     "text": [
      "\n",
      "  0%|          | 0/66 [00:00<?, ?it/s]\u001b[A"
     ]
    },
    {
     "name": "stdout",
     "output_type": "stream",
     "text": [
      "I played 2007scape when it was first released, what's changed since then?:I played 2007scape when it was first released, what's changed since then?:4.810721964901773\n",
      "I played 2007scape when it was first released, what's changed since then?:I think I known the band, but cant find the fucking song! Help.:6.40895266141311\n",
      "I played 2007scape when it was first released, what's changed since then?:I think my managers are trying to hire based on appearance what can I do to stop it?:6.100627117551564\n",
      "I played 2007scape when it was first released, what's changed since then?:I was wondering if any of these additives caused any false positives for my water tests.:6.841196079098245\n",
      "I played 2007scape when it was first released, what's changed since then?:If you had to make up a story about where babies came from, what you you say?:6.289221795933027\n",
      "I played 2007scape when it was first released, what's changed since then?:Is there a way to get double tap to wake on any android?:6.891114126708477\n",
      "I played 2007scape when it was first released, what's changed since then?:Issue with Android Market...:6.3621027847332385\n",
      "I played 2007scape when it was first released, what's changed since then?:New skill?:6.62789877445855\n",
      "I played 2007scape when it was first released, what's changed since then?:Pking with Slayer Helm:7.696792854164414\n",
      "I played 2007scape when it was first released, what's changed since then?:Problems connecting PS3 to LCD monitor via HMDI cable with DVI adapter:8.133686603191457\n",
      "I played 2007scape when it was first released, what's changed since then?:Question about Final Fantasy 7 Story [FF7/CC:FF7 Spoilers]:7.424297903330754\n",
      "I played 2007scape when it was first released, what's changed since then?:Question about young prayer.:6.951636611137625\n",
      "I played 2007scape when it was first released, what's changed since then?:Questions about some braun razors:7.212915098195541\n",
      "I played 2007scape when it was first released, what's changed since then?:Questions about the Galaxy S3:6.653124156445055\n",
      "I played 2007scape when it was first released, what's changed since then?:RCS missing:6.5093881973787315\n",
      "I played 2007scape when it was first released, what's changed since then?:Seriously guys come on.:4.609503710256466\n",
      "I played 2007scape when it was first released, what's changed since then?:Since divine didn't pass there's other options.:7.2571927666426195\n",
      "I played 2007scape when it was first released, what's changed since then?:Summer volunteer opportunities:5.67386777194769\n",
      "I played 2007scape when it was first released, what's changed since then?:System Settings or the Internet Browser won't launch. Did I brick my N3DS. 9.8-2XU > 9.2-20U:5.8627202284901205\n",
      "I played 2007scape when it was first released, what's changed since then?:Things you heard while at the hospital you wish you did not hear?:7.067924640291124\n",
      "I played 2007scape when it was first released, what's changed since then?:This may not be the appropriate place to post this but I'm selling my 42mm Milanese Loop and am willing to hook it up for you!:6.039069877709457\n",
      "I played 2007scape when it was first released, what's changed since then?:Thoboy..:4.929859174351369\n",
      "I played 2007scape when it was first released, what's changed since then?:Undergrad student starting to feel under qualified and overwhelmed:6.134061156471807\n",
      "I played 2007scape when it was first released, what's changed since then?:Vanilla Crayfish:5.026080829807406\n",
      "I played 2007scape when it was first released, what's changed since then?:What do most people do that's completely hypocritical but don't realise it:6.228721463413395\n",
      "I played 2007scape when it was first released, what's changed since then?:What is one thing your significant other has done for you that you can't ever pay them back for?:6.312560148382696\n",
      "I played 2007scape when it was first released, what's changed since then?:What is the most downvoted comment you have ever seen and what did it say?:5.498007848325319\n",
      "I played 2007scape when it was first released, what's changed since then?:What pop culture expression, or any phrase really, are you actually planning on using more often?:4.868801861446089\n",
      "I played 2007scape when it was first released, what's changed since then?:What's a good television show in Latin American Spanish that I could watch online to practice hearing and understanding conversational Spanish?:4.587839728264459\n",
      "I played 2007scape when it was first released, what's changed since then?:What's going on here? Can't choose damaged book.:5.012384156365481\n",
      "I played 2007scape when it was first released, what's changed since then?:What's the worst nightmare you never had?:5.5695779450243705\n",
      "I played 2007scape when it was first released, what's changed since then?:Where's the best place to chop yews in f2p?:5.542543437886753\n",
      "I played 2007scape when it was first released, what's changed since then?:Why are people more likely to cut in front of you when driving in traffic, but if they were standing in line, they wouldn't do the same thing?:5.967987555054344\n",
      "I played 2007scape when it was first released, what's changed since then?:Why did the rabbit eat the road?:5.449400352930926\n",
      "I played 2007scape when it was first released, what's changed since then?:Why is China so concerned with having a \"buffer zone\" with the U.S.:7.305373625587416\n",
      "I played 2007scape when it was first released, what's changed since then?:[HELP] Moving a pregnant molly?:6.108698753444881\n"
     ]
    },
    {
     "name": "stderr",
     "output_type": "stream",
     "text": [
      "100%|██████████| 66/66 [00:00<00:00, 3590.50it/s]\n"
     ]
    },
    {
     "name": "stdout",
     "output_type": "stream",
     "text": [
      "I played 2007scape when it was first released, what's changed since then?:[PF] Strix Zen Archer:5.9435893925829255\n",
      "I played 2007scape when it was first released, what's changed since then?:[iPad] When I touch links/subreddits on the iPad screen, it doesn't register in AB:6.159944974277023\n",
      "I played 2007scape when it was first released, what's changed since then?:biomedical innovations class.:5.4919479927709425\n",
      "I played 2007scape when it was first released, what's changed since then?:does anyone else have this issue?:6.532759361964553\n",
      "I played 2007scape when it was first released, what's changed since then?:foxy:4.952902818773001\n",
      "I played 2007scape when it was first released, what's changed since then?:rex reclaim:4.219749695664292\n",
      "I played 2007scape when it was first released, what's changed since then?:rs authenticator:5.564460501657052\n"
     ]
    },
    {
     "name": "stderr",
     "output_type": "stream",
     "text": [
      "\n",
      "  0%|          | 0/66 [00:00<?, ?it/s]\u001b[A"
     ]
    },
    {
     "name": "stdout",
     "output_type": "stream",
     "text": [
      "I think I known the band, but cant find the fucking song! Help.:I think I known the band, but cant find the fucking song! Help.:4.598623191904315\n",
      "I think I known the band, but cant find the fucking song! Help.:I think my managers are trying to hire based on appearance what can I do to stop it?:6.533913642457202\n",
      "I think I known the band, but cant find the fucking song! Help.:I was wondering if any of these additives caused any false positives for my water tests.:7.049591181167524\n",
      "I think I known the band, but cant find the fucking song! Help.:If you had to make up a story about where babies came from, what you you say?:6.474797187728943\n",
      "I think I known the band, but cant find the fucking song! Help.:Is there a way to get double tap to wake on any android?:7.093147289783829\n",
      "I think I known the band, but cant find the fucking song! Help.:Issue with Android Market...:6.882761967543762\n",
      "I think I known the band, but cant find the fucking song! Help.:New skill?:7.270044041272487\n",
      "I think I known the band, but cant find the fucking song! Help.:Pking with Slayer Helm:8.549203903339848\n",
      "I think I known the band, but cant find the fucking song! Help.:Problems connecting PS3 to LCD monitor via HMDI cable with DVI adapter:8.324330638669819\n",
      "I think I known the band, but cant find the fucking song! Help.:Question about Final Fantasy 7 Story [FF7/CC:FF7 Spoilers]:7.818639784101846\n",
      "I think I known the band, but cant find the fucking song! Help.:Question about young prayer.:5.478327117593767\n",
      "I think I known the band, but cant find the fucking song! Help.:Questions about some braun razors:7.399780985450382\n",
      "I think I known the band, but cant find the fucking song! Help.:Questions about the Galaxy S3:6.991462897526783\n",
      "I think I known the band, but cant find the fucking song! Help.:RCS missing:6.789523980083561\n",
      "I think I known the band, but cant find the fucking song! Help.:Seriously guys come on.:5.0600522471695\n",
      "I think I known the band, but cant find the fucking song! Help.:Since divine didn't pass there's other options.:8.078282653201125\n",
      "I think I known the band, but cant find the fucking song! Help.:Summer volunteer opportunities:6.086137968802027\n",
      "I think I known the band, but cant find the fucking song! Help.:System Settings or the Internet Browser won't launch. Did I brick my N3DS. 9.8-2XU > 9.2-20U:6.357556213976116\n",
      "I think I known the band, but cant find the fucking song! Help.:Things you heard while at the hospital you wish you did not hear?:7.128783050522715\n",
      "I think I known the band, but cant find the fucking song! Help.:This may not be the appropriate place to post this but I'm selling my 42mm Milanese Loop and am willing to hook it up for you!:6.203798150237344\n",
      "I think I known the band, but cant find the fucking song! Help.:Thoboy..:5.24028894633233\n",
      "I think I known the band, but cant find the fucking song! Help.:Undergrad student starting to feel under qualified and overwhelmed:6.547931677095161\n",
      "I think I known the band, but cant find the fucking song! Help.:Vanilla Crayfish:5.419808908962194\n",
      "I think I known the band, but cant find the fucking song! Help.:What do most people do that's completely hypocritical but don't realise it:6.453677954364497\n",
      "I think I known the band, but cant find the fucking song! Help.:What is one thing your significant other has done for you that you can't ever pay them back for?:6.228525284357495\n",
      "I think I known the band, but cant find the fucking song! Help.:What is the most downvoted comment you have ever seen and what did it say?:5.776525350116228\n",
      "I think I known the band, but cant find the fucking song! Help.:What pop culture expression, or any phrase really, are you actually planning on using more often?:5.255673641155626\n",
      "I think I known the band, but cant find the fucking song! Help.:What's a good television show in Latin American Spanish that I could watch online to practice hearing and understanding conversational Spanish?:5.045791617810925\n",
      "I think I known the band, but cant find the fucking song! Help.:What's going on here? Can't choose damaged book.:5.4308785662536705\n",
      "I think I known the band, but cant find the fucking song! Help.:What's the worst nightmare you never had?:5.813682863470949\n",
      "I think I known the band, but cant find the fucking song! Help.:Where's the best place to chop yews in f2p?:6.160595729999802\n",
      "I think I known the band, but cant find the fucking song! Help.:Why are people more likely to cut in front of you when driving in traffic, but if they were standing in line, they wouldn't do the same thing?:6.147540213023012\n",
      "I think I known the band, but cant find the fucking song! Help.:Why did the rabbit eat the road?:5.7945149020419535\n",
      "I think I known the band, but cant find the fucking song! Help.:Why is China so concerned with having a \"buffer zone\" with the U.S.:7.489033085099244\n",
      "I think I known the band, but cant find the fucking song! Help.:[HELP] Moving a pregnant molly?:6.466527259411099\n",
      "I think I known the band, but cant find the fucking song! Help.:[PF] Strix Zen Archer:6.438766988569974\n",
      "I think I known the band, but cant find the fucking song! Help.:[iPad] When I touch links/subreddits on the iPad screen, it doesn't register in AB:6.4320987698836785\n",
      "I think I known the band, but cant find the fucking song! Help.:biomedical innovations class.:5.769849438716897\n",
      "I think I known the band, but cant find the fucking song! Help.:does anyone else have this issue?:6.842392170800219\n",
      "I think I known the band, but cant find the fucking song! Help.:foxy:5.381179934245033\n",
      "I think I known the band, but cant find the fucking song! Help.:rex reclaim:4.765282160755995\n"
     ]
    },
    {
     "name": "stderr",
     "output_type": "stream",
     "text": [
      "100%|██████████| 66/66 [00:00<00:00, 3044.97it/s]\n",
      " 38%|███▊      | 25/66 [00:00<00:01, 38.25it/s]"
     ]
    },
    {
     "name": "stdout",
     "output_type": "stream",
     "text": [
      "I think I known the band, but cant find the fucking song! Help.:rs authenticator:6.075902360700521\n"
     ]
    },
    {
     "name": "stderr",
     "output_type": "stream",
     "text": [
      "\n",
      "  0%|          | 0/66 [00:00<?, ?it/s]\u001b[A"
     ]
    },
    {
     "name": "stdout",
     "output_type": "stream",
     "text": [
      "I think my managers are trying to hire based on appearance what can I do to stop it?:I think my managers are trying to hire based on appearance what can I do to stop it?:4.772049911963854\n",
      "I think my managers are trying to hire based on appearance what can I do to stop it?:I was wondering if any of these additives caused any false positives for my water tests.:6.836525800697624\n",
      "I think my managers are trying to hire based on appearance what can I do to stop it?:If you had to make up a story about where babies came from, what you you say?:6.142405371945467\n",
      "I think my managers are trying to hire based on appearance what can I do to stop it?:Is there a way to get double tap to wake on any android?:6.89359263885891\n",
      "I think my managers are trying to hire based on appearance what can I do to stop it?:Issue with Android Market...:6.566018134574895\n",
      "I think my managers are trying to hire based on appearance what can I do to stop it?:New skill?:6.837806659415302\n"
     ]
    },
    {
     "name": "stderr",
     "output_type": "stream",
     "text": [
      "100%|██████████| 66/66 [00:00<00:00, 3006.64it/s]"
     ]
    },
    {
     "name": "stdout",
     "output_type": "stream",
     "text": [
      "I think my managers are trying to hire based on appearance what can I do to stop it?:Pking with Slayer Helm:8.26099812546935\n",
      "I think my managers are trying to hire based on appearance what can I do to stop it?:Problems connecting PS3 to LCD monitor via HMDI cable with DVI adapter:8.163385095762798\n",
      "I think my managers are trying to hire based on appearance what can I do to stop it?:Question about Final Fantasy 7 Story [FF7/CC:FF7 Spoilers]:7.766261175168777\n",
      "I think my managers are trying to hire based on appearance what can I do to stop it?:Question about young prayer.:7.056913594332547\n",
      "I think my managers are trying to hire based on appearance what can I do to stop it?:Questions about some braun razors:6.9985925735349666\n",
      "I think my managers are trying to hire based on appearance what can I do to stop it?:Questions about the Galaxy S3:6.715518230139374\n",
      "I think my managers are trying to hire based on appearance what can I do to stop it?:RCS missing:6.35789968277498\n",
      "I think my managers are trying to hire based on appearance what can I do to stop it?:Seriously guys come on.:4.596092195037821\n",
      "I think my managers are trying to hire based on appearance what can I do to stop it?:Since divine didn't pass there's other options.:7.723513006355245\n",
      "I think my managers are trying to hire based on appearance what can I do to stop it?:Summer volunteer opportunities:5.76946514801266\n",
      "I think my managers are trying to hire based on appearance what can I do to stop it?:System Settings or the Internet Browser won't launch. Did I brick my N3DS. 9.8-2XU > 9.2-20U:5.939692840858546\n",
      "I think my managers are trying to hire based on appearance what can I do to stop it?:Things you heard while at the hospital you wish you did not hear?:6.86695526704928\n",
      "I think my managers are trying to hire based on appearance what can I do to stop it?:This may not be the appropriate place to post this but I'm selling my 42mm Milanese Loop and am willing to hook it up for you!:6.021315284319738\n",
      "I think my managers are trying to hire based on appearance what can I do to stop it?:Thoboy..:4.898974863099712\n",
      "I think my managers are trying to hire based on appearance what can I do to stop it?:Undergrad student starting to feel under qualified and overwhelmed:5.358969084135711\n",
      "I think my managers are trying to hire based on appearance what can I do to stop it?:Vanilla Crayfish:4.968247487019211\n",
      "I think my managers are trying to hire based on appearance what can I do to stop it?:What do most people do that's completely hypocritical but don't realise it:5.7899701794170655\n",
      "I think my managers are trying to hire based on appearance what can I do to stop it?:What is one thing your significant other has done for you that you can't ever pay them back for?:6.110639294587093\n",
      "I think my managers are trying to hire based on appearance what can I do to stop it?:What is the most downvoted comment you have ever seen and what did it say?:5.230279069322501\n",
      "I think my managers are trying to hire based on appearance what can I do to stop it?:What pop culture expression, or any phrase really, are you actually planning on using more often?:4.769247825516856\n",
      "I think my managers are trying to hire based on appearance what can I do to stop it?:What's a good television show in Latin American Spanish that I could watch online to practice hearing and understanding conversational Spanish?:4.5577915642227405\n",
      "I think my managers are trying to hire based on appearance what can I do to stop it?:What's going on here? Can't choose damaged book.:4.911273061090812\n",
      "I think my managers are trying to hire based on appearance what can I do to stop it?:What's the worst nightmare you never had?:5.467605277484442\n",
      "I think my managers are trying to hire based on appearance what can I do to stop it?:Where's the best place to chop yews in f2p?:5.707101366919413\n",
      "I think my managers are trying to hire based on appearance what can I do to stop it?:Why are people more likely to cut in front of you when driving in traffic, but if they were standing in line, they wouldn't do the same thing?:5.623963297723673\n",
      "I think my managers are trying to hire based on appearance what can I do to stop it?:Why did the rabbit eat the road?:5.336038674083609\n",
      "I think my managers are trying to hire based on appearance what can I do to stop it?:Why is China so concerned with having a \"buffer zone\" with the U.S.:7.191953085935789\n",
      "I think my managers are trying to hire based on appearance what can I do to stop it?:[HELP] Moving a pregnant molly?:6.043897135249928\n",
      "I think my managers are trying to hire based on appearance what can I do to stop it?:[PF] Strix Zen Archer:5.945942901546486\n",
      "I think my managers are trying to hire based on appearance what can I do to stop it?:[iPad] When I touch links/subreddits on the iPad screen, it doesn't register in AB:6.289061773039338\n",
      "I think my managers are trying to hire based on appearance what can I do to stop it?:biomedical innovations class.:5.345042595515995\n",
      "I think my managers are trying to hire based on appearance what can I do to stop it?:does anyone else have this issue?:6.640021656029224\n",
      "I think my managers are trying to hire based on appearance what can I do to stop it?:foxy:4.786807374567226\n",
      "I think my managers are trying to hire based on appearance what can I do to stop it?:rex reclaim:4.122218863008973\n",
      "I think my managers are trying to hire based on appearance what can I do to stop it?:rs authenticator:5.721087748331813\n"
     ]
    },
    {
     "name": "stderr",
     "output_type": "stream",
     "text": [
      "\n",
      "\n",
      "  0%|          | 0/66 [00:00<?, ?it/s]\u001b[A"
     ]
    },
    {
     "name": "stdout",
     "output_type": "stream",
     "text": [
      "I was wondering if any of these additives caused any false positives for my water tests.:I was wondering if any of these additives caused any false positives for my water tests.:4.08810605090469\n",
      "I was wondering if any of these additives caused any false positives for my water tests.:If you had to make up a story about where babies came from, what you you say?:6.570648544720312\n",
      "I was wondering if any of these additives caused any false positives for my water tests.:Is there a way to get double tap to wake on any android?:7.067785930177118\n",
      "I was wondering if any of these additives caused any false positives for my water tests.:Issue with Android Market...:6.656140436821036\n",
      "I was wondering if any of these additives caused any false positives for my water tests.:New skill?:7.352282535289389\n",
      "I was wondering if any of these additives caused any false positives for my water tests.:Pking with Slayer Helm:8.446090009153602\n",
      "I was wondering if any of these additives caused any false positives for my water tests.:Problems connecting PS3 to LCD monitor via HMDI cable with DVI adapter:7.9235910833773175\n",
      "I was wondering if any of these additives caused any false positives for my water tests.:Question about Final Fantasy 7 Story [FF7/CC:FF7 Spoilers]:7.98168902095306\n",
      "I was wondering if any of these additives caused any false positives for my water tests.:Question about young prayer.:7.452904862840033\n",
      "I was wondering if any of these additives caused any false positives for my water tests.:Questions about some braun razors:6.617618305334841\n",
      "I was wondering if any of these additives caused any false positives for my water tests.:Questions about the Galaxy S3:6.966045339790969\n",
      "I was wondering if any of these additives caused any false positives for my water tests.:RCS missing:6.2171086245972464\n",
      "I was wondering if any of these additives caused any false positives for my water tests.:Seriously guys come on.:5.767994705145731\n",
      "I was wondering if any of these additives caused any false positives for my water tests.:Since divine didn't pass there's other options.:7.772838238656959\n",
      "I was wondering if any of these additives caused any false positives for my water tests.:Summer volunteer opportunities:6.452517903929532\n",
      "I was wondering if any of these additives caused any false positives for my water tests.:System Settings or the Internet Browser won't launch. Did I brick my N3DS. 9.8-2XU > 9.2-20U:6.647264902109811\n",
      "I was wondering if any of these additives caused any false positives for my water tests.:Things you heard while at the hospital you wish you did not hear?:6.994974208941575\n",
      "I was wondering if any of these additives caused any false positives for my water tests.:This may not be the appropriate place to post this but I'm selling my 42mm Milanese Loop and am willing to hook it up for you!:6.248237783450492\n",
      "I was wondering if any of these additives caused any false positives for my water tests.:Thoboy..:5.975507140558047\n",
      "I was wondering if any of these additives caused any false positives for my water tests.:Undergrad student starting to feel under qualified and overwhelmed:6.721852576804014\n",
      "I was wondering if any of these additives caused any false positives for my water tests.:Vanilla Crayfish:6.040558281281035\n",
      "I was wondering if any of these additives caused any false positives for my water tests.:What do most people do that's completely hypocritical but don't realise it:6.7301707707775105\n",
      "I was wondering if any of these additives caused any false positives for my water tests.:What is one thing your significant other has done for you that you can't ever pay them back for?:6.886909228294128\n",
      "I was wondering if any of these additives caused any false positives for my water tests.:What is the most downvoted comment you have ever seen and what did it say?:6.292971481674966\n",
      "I was wondering if any of these additives caused any false positives for my water tests.:What pop culture expression, or any phrase really, are you actually planning on using more often?:6.0095624960936345\n",
      "I was wondering if any of these additives caused any false positives for my water tests.:What's a good television show in Latin American Spanish that I could watch online to practice hearing and understanding conversational Spanish?:5.848945548072448\n",
      "I was wondering if any of these additives caused any false positives for my water tests.:What's going on here? Can't choose damaged book.:5.935235581324898\n"
     ]
    },
    {
     "name": "stderr",
     "output_type": "stream",
     "text": [
      "100%|██████████| 66/66 [00:00<00:00, 3095.88it/s]\n"
     ]
    },
    {
     "name": "stdout",
     "output_type": "stream",
     "text": [
      "I was wondering if any of these additives caused any false positives for my water tests.:What's the worst nightmare you never had?:6.399133117511623\n",
      "I was wondering if any of these additives caused any false positives for my water tests.:Where's the best place to chop yews in f2p?:6.512063765674702\n",
      "I was wondering if any of these additives caused any false positives for my water tests.:Why are people more likely to cut in front of you when driving in traffic, but if they were standing in line, they wouldn't do the same thing?:6.393268124869984\n",
      "I was wondering if any of these additives caused any false positives for my water tests.:Why did the rabbit eat the road?:6.278110883018034\n",
      "I was wondering if any of these additives caused any false positives for my water tests.:Why is China so concerned with having a \"buffer zone\" with the U.S.:7.540192343065668\n",
      "I was wondering if any of these additives caused any false positives for my water tests.:[HELP] Moving a pregnant molly?:5.654526745601219\n",
      "I was wondering if any of these additives caused any false positives for my water tests.:[PF] Strix Zen Archer:6.572078895805864\n",
      "I was wondering if any of these additives caused any false positives for my water tests.:[iPad] When I touch links/subreddits on the iPad screen, it doesn't register in AB:6.532837088509932\n",
      "I was wondering if any of these additives caused any false positives for my water tests.:biomedical innovations class.:6.0456659901054195\n",
      "I was wondering if any of these additives caused any false positives for my water tests.:does anyone else have this issue?:6.950130056948078\n",
      "I was wondering if any of these additives caused any false positives for my water tests.:foxy:6.176060344283574\n",
      "I was wondering if any of these additives caused any false positives for my water tests.:rex reclaim:5.751580697175946\n",
      "I was wondering if any of these additives caused any false positives for my water tests.:rs authenticator:6.582619199723355\n"
     ]
    },
    {
     "name": "stderr",
     "output_type": "stream",
     "text": [
      "\n",
      "  0%|          | 0/66 [00:00<?, ?it/s]\u001b[A"
     ]
    },
    {
     "name": "stdout",
     "output_type": "stream",
     "text": [
      "If you had to make up a story about where babies came from, what you you say?:If you had to make up a story about where babies came from, what you you say?:4.4814374972054924\n",
      "If you had to make up a story about where babies came from, what you you say?:Is there a way to get double tap to wake on any android?:6.82381714375516\n",
      "If you had to make up a story about where babies came from, what you you say?:Issue with Android Market...:6.515905829727705\n",
      "If you had to make up a story about where babies came from, what you you say?:New skill?:7.0020973924428205\n",
      "If you had to make up a story about where babies came from, what you you say?:Pking with Slayer Helm:8.507468935013804\n",
      "If you had to make up a story about where babies came from, what you you say?:Problems connecting PS3 to LCD monitor via HMDI cable with DVI adapter:8.122145331318267\n",
      "If you had to make up a story about where babies came from, what you you say?:Question about Final Fantasy 7 Story [FF7/CC:FF7 Spoilers]:7.813328807974991\n",
      "If you had to make up a story about where babies came from, what you you say?:Question about young prayer.:6.8028460892942535\n",
      "If you had to make up a story about where babies came from, what you you say?:Questions about some braun razors:7.013968843572056\n",
      "If you had to make up a story about where babies came from, what you you say?:Questions about the Galaxy S3:6.664025874508699\n",
      "If you had to make up a story about where babies came from, what you you say?:RCS missing:6.196385815707439\n",
      "If you had to make up a story about where babies came from, what you you say?:Seriously guys come on.:4.814237371435024\n",
      "If you had to make up a story about where babies came from, what you you say?:Since divine didn't pass there's other options.:7.7670575450896\n",
      "If you had to make up a story about where babies came from, what you you say?:Summer volunteer opportunities:5.724888390152437\n",
      "If you had to make up a story about where babies came from, what you you say?:System Settings or the Internet Browser won't launch. Did I brick my N3DS. 9.8-2XU > 9.2-20U:6.033487185784582\n",
      "If you had to make up a story about where babies came from, what you you say?:Things you heard while at the hospital you wish you did not hear?:6.544934655930653\n",
      "If you had to make up a story about where babies came from, what you you say?:This may not be the appropriate place to post this but I'm selling my 42mm Milanese Loop and am willing to hook it up for you!:5.988985318549933\n",
      "If you had to make up a story about where babies came from, what you you say?:Thoboy..:5.085303807673693\n",
      "If you had to make up a story about where babies came from, what you you say?:Undergrad student starting to feel under qualified and overwhelmed:6.189997914981737\n",
      "If you had to make up a story about where babies came from, what you you say?:Vanilla Crayfish:4.971449015049757\n",
      "If you had to make up a story about where babies came from, what you you say?:What do most people do that's completely hypocritical but don't realise it:6.05926270348431\n"
     ]
    },
    {
     "name": "stderr",
     "output_type": "stream",
     "text": [
      "100%|██████████| 66/66 [00:00<00:00, 3798.93it/s]\n"
     ]
    },
    {
     "name": "stdout",
     "output_type": "stream",
     "text": [
      "If you had to make up a story about where babies came from, what you you say?:What is one thing your significant other has done for you that you can't ever pay them back for?:5.778416672938985\n",
      "If you had to make up a story about where babies came from, what you you say?:What is the most downvoted comment you have ever seen and what did it say?:5.3739196881617985\n",
      "If you had to make up a story about where babies came from, what you you say?:What pop culture expression, or any phrase really, are you actually planning on using more often?:4.8878712271222575\n",
      "If you had to make up a story about where babies came from, what you you say?:What's a good television show in Latin American Spanish that I could watch online to practice hearing and understanding conversational Spanish?:4.712717092781279\n",
      "If you had to make up a story about where babies came from, what you you say?:What's going on here? Can't choose damaged book.:5.061926323358556\n",
      "If you had to make up a story about where babies came from, what you you say?:What's the worst nightmare you never had?:5.635268744752006\n",
      "If you had to make up a story about where babies came from, what you you say?:Where's the best place to chop yews in f2p?:5.850075493602311\n",
      "If you had to make up a story about where babies came from, what you you say?:Why are people more likely to cut in front of you when driving in traffic, but if they were standing in line, they wouldn't do the same thing?:5.827075410324216\n",
      "If you had to make up a story about where babies came from, what you you say?:Why did the rabbit eat the road?:5.432247487179421\n",
      "If you had to make up a story about where babies came from, what you you say?:Why is China so concerned with having a \"buffer zone\" with the U.S.:7.076571002557646\n",
      "If you had to make up a story about where babies came from, what you you say?:[HELP] Moving a pregnant molly?:5.627749390007606\n",
      "If you had to make up a story about where babies came from, what you you say?:[PF] Strix Zen Archer:6.1173126743686055\n",
      "If you had to make up a story about where babies came from, what you you say?:[iPad] When I touch links/subreddits on the iPad screen, it doesn't register in AB:6.366917012443255\n",
      "If you had to make up a story about where babies came from, what you you say?:biomedical innovations class.:5.40480139729092\n",
      "If you had to make up a story about where babies came from, what you you say?:does anyone else have this issue?:6.617198022916085\n",
      "If you had to make up a story about where babies came from, what you you say?:foxy:4.955593688377033\n",
      "If you had to make up a story about where babies came from, what you you say?:rex reclaim:4.383794766743787\n",
      "If you had to make up a story about where babies came from, what you you say?:rs authenticator:5.90845078977228\n"
     ]
    },
    {
     "name": "stderr",
     "output_type": "stream",
     "text": [
      "\n",
      "  0%|          | 0/66 [00:00<?, ?it/s]\u001b[A"
     ]
    },
    {
     "name": "stdout",
     "output_type": "stream",
     "text": [
      "Is there a way to get double tap to wake on any android?:Is there a way to get double tap to wake on any android?:3.7593989918062576\n",
      "Is there a way to get double tap to wake on any android?:Issue with Android Market...:5.67886293193403\n",
      "Is there a way to get double tap to wake on any android?:New skill?:7.3844171798807094\n",
      "Is there a way to get double tap to wake on any android?:Pking with Slayer Helm:8.681752686409506\n",
      "Is there a way to get double tap to wake on any android?:Problems connecting PS3 to LCD monitor via HMDI cable with DVI adapter:7.404515566954608\n",
      "Is there a way to get double tap to wake on any android?:Question about Final Fantasy 7 Story [FF7/CC:FF7 Spoilers]:7.821899971526233\n",
      "Is there a way to get double tap to wake on any android?:Question about young prayer.:7.5391661176228695\n",
      "Is there a way to get double tap to wake on any android?:Questions about some braun razors:7.274007835023902\n",
      "Is there a way to get double tap to wake on any android?:Questions about the Galaxy S3:5.254418845222284\n",
      "Is there a way to get double tap to wake on any android?:RCS missing:7.0377271409955515\n",
      "Is there a way to get double tap to wake on any android?:Seriously guys come on.:5.717394714634604\n",
      "Is there a way to get double tap to wake on any android?:Since divine didn't pass there's other options.:8.15251810136285\n",
      "Is there a way to get double tap to wake on any android?:Summer volunteer opportunities:6.7714192283010135\n",
      "Is there a way to get double tap to wake on any android?:System Settings or the Internet Browser won't launch. Did I brick my N3DS. 9.8-2XU > 9.2-20U:6.259503345267648\n",
      "Is there a way to get double tap to wake on any android?:Things you heard while at the hospital you wish you did not hear?:7.292466782737009\n",
      "Is there a way to get double tap to wake on any android?:This may not be the appropriate place to post this but I'm selling my 42mm Milanese Loop and am willing to hook it up for you!:6.4614789176229435\n",
      "Is there a way to get double tap to wake on any android?:Thoboy..:5.851451028815928\n",
      "Is there a way to get double tap to wake on any android?:Undergrad student starting to feel under qualified and overwhelmed:6.847964095413616\n",
      "Is there a way to get double tap to wake on any android?:Vanilla Crayfish:5.936657018357661\n",
      "Is there a way to get double tap to wake on any android?:What do most people do that's completely hypocritical but don't realise it:7.0121531493074745\n",
      "Is there a way to get double tap to wake on any android?:What is one thing your significant other has done for you that you can't ever pay them back for?:6.9810538574964\n",
      "Is there a way to get double tap to wake on any android?:What is the most downvoted comment you have ever seen and what did it say?:6.417975569002282\n",
      "Is there a way to get double tap to wake on any android?:What pop culture expression, or any phrase really, are you actually planning on using more often?:5.98100080782056\n",
      "Is there a way to get double tap to wake on any android?:What's a good television show in Latin American Spanish that I could watch online to practice hearing and understanding conversational Spanish?:5.752221959981023\n",
      "Is there a way to get double tap to wake on any android?:What's going on here? Can't choose damaged book.:5.828641867568768\n"
     ]
    },
    {
     "name": "stderr",
     "output_type": "stream",
     "text": [
      "100%|██████████| 66/66 [00:00<00:00, 3255.99it/s]\n"
     ]
    },
    {
     "name": "stdout",
     "output_type": "stream",
     "text": [
      "Is there a way to get double tap to wake on any android?:What's the worst nightmare you never had?:6.396647728538467\n",
      "Is there a way to get double tap to wake on any android?:Where's the best place to chop yews in f2p?:6.668992427179612\n",
      "Is there a way to get double tap to wake on any android?:Why are people more likely to cut in front of you when driving in traffic, but if they were standing in line, they wouldn't do the same thing?:6.476822665382153\n",
      "Is there a way to get double tap to wake on any android?:Why did the rabbit eat the road?:6.30891689428212\n",
      "Is there a way to get double tap to wake on any android?:Why is China so concerned with having a \"buffer zone\" with the U.S.:7.733839737782645\n",
      "Is there a way to get double tap to wake on any android?:[HELP] Moving a pregnant molly?:6.78159274852992\n",
      "Is there a way to get double tap to wake on any android?:[PF] Strix Zen Archer:6.523904891906985\n",
      "Is there a way to get double tap to wake on any android?:[iPad] When I touch links/subreddits on the iPad screen, it doesn't register in AB:5.354664498302438\n",
      "Is there a way to get double tap to wake on any android?:biomedical innovations class.:6.134756514299726\n",
      "Is there a way to get double tap to wake on any android?:does anyone else have this issue?:5.956667421117639\n",
      "Is there a way to get double tap to wake on any android?:foxy:6.098420141461776\n",
      "Is there a way to get double tap to wake on any android?:rex reclaim:5.592892544775957\n",
      "Is there a way to get double tap to wake on any android?:rs authenticator:6.197143491126032\n"
     ]
    },
    {
     "name": "stderr",
     "output_type": "stream",
     "text": [
      "\n",
      "  0%|          | 0/66 [00:00<?, ?it/s]\u001b[A"
     ]
    },
    {
     "name": "stdout",
     "output_type": "stream",
     "text": [
      "Issue with Android Market...:Issue with Android Market...:4.163973738973716\n",
      "Issue with Android Market...:New skill?:7.262534987117371\n",
      "Issue with Android Market...:Pking with Slayer Helm:8.517236701458762\n",
      "Issue with Android Market...:Problems connecting PS3 to LCD monitor via HMDI cable with DVI adapter:7.551922820389922\n",
      "Issue with Android Market...:Question about Final Fantasy 7 Story [FF7/CC:FF7 Spoilers]:7.714556818165013\n",
      "Issue with Android Market...:Question about young prayer.:7.4738681434732985\n",
      "Issue with Android Market...:Questions about some braun razors:6.905756627951435\n",
      "Issue with Android Market...:Questions about the Galaxy S3:5.731412229731627\n",
      "Issue with Android Market...:RCS missing:6.797077720998496\n",
      "Issue with Android Market...:Seriously guys come on.:5.464840769651243\n",
      "Issue with Android Market...:Since divine didn't pass there's other options.:7.77743466659081\n",
      "Issue with Android Market...:Summer volunteer opportunities:6.466022292150571\n",
      "Issue with Android Market...:System Settings or the Internet Browser won't launch. Did I brick my N3DS. 9.8-2XU > 9.2-20U:6.074830223647036\n",
      "Issue with Android Market...:Things you heard while at the hospital you wish you did not hear?:7.106630350520659\n",
      "Issue with Android Market...:This may not be the appropriate place to post this but I'm selling my 42mm Milanese Loop and am willing to hook it up for you!:5.848268610175631\n",
      "Issue with Android Market...:Thoboy..:5.582556795708443\n",
      "Issue with Android Market...:Undergrad student starting to feel under qualified and overwhelmed:6.474912569710997\n",
      "Issue with Android Market...:Vanilla Crayfish:5.75766266635091\n",
      "Issue with Android Market...:What do most people do that's completely hypocritical but don't realise it:6.7082990970619445\n",
      "Issue with Android Market...:What is one thing your significant other has done for you that you can't ever pay them back for?:6.776197489955194\n",
      "Issue with Android Market...:What is the most downvoted comment you have ever seen and what did it say?:6.146656017757978\n",
      "Issue with Android Market...:What pop culture expression, or any phrase really, are you actually planning on using more often?:5.854521484413306\n",
      "Issue with Android Market...:What's a good television show in Latin American Spanish that I could watch online to practice hearing and understanding conversational Spanish?:5.563667492751573\n",
      "Issue with Android Market...:What's going on here? Can't choose damaged book.:5.645376745127849\n",
      "Issue with Android Market...:What's the worst nightmare you never had?:6.145521726834174\n",
      "Issue with Android Market...:Where's the best place to chop yews in f2p?:6.284988141270692\n",
      "Issue with Android Market...:Why are people more likely to cut in front of you when driving in traffic, but if they were standing in line, they wouldn't do the same thing?:6.163569012152136\n",
      "Issue with Android Market...:Why did the rabbit eat the road?:6.097710076923696\n",
      "Issue with Android Market...:Why is China so concerned with having a \"buffer zone\" with the U.S.:7.344248853476515\n",
      "Issue with Android Market...:[HELP] Moving a pregnant molly?:6.51270985211288\n",
      "Issue with Android Market...:[PF] Strix Zen Archer:6.288796234104291\n",
      "Issue with Android Market...:[iPad] When I touch links/subreddits on the iPad screen, it doesn't register in AB:5.457860237781702\n"
     ]
    },
    {
     "name": "stderr",
     "output_type": "stream",
     "text": [
      "100%|██████████| 66/66 [00:00<00:00, 3393.62it/s]"
     ]
    },
    {
     "name": "stdout",
     "output_type": "stream",
     "text": [
      "Issue with Android Market...:biomedical innovations class.:5.945221861819997\n",
      "Issue with Android Market...:does anyone else have this issue?:6.010769749437224\n",
      "Issue with Android Market...:foxy:5.945975875390281\n",
      "Issue with Android Market...:rex reclaim:5.4463794684470574\n",
      "Issue with Android Market...:rs authenticator:5.84157569711669\n"
     ]
    },
    {
     "name": "stderr",
     "output_type": "stream",
     "text": [
      "\n",
      " 45%|████▌     | 30/66 [00:00<00:00, 40.09it/s]\n",
      "  0%|          | 0/66 [00:00<?, ?it/s]\u001b[A"
     ]
    },
    {
     "name": "stdout",
     "output_type": "stream",
     "text": [
      "New skill?:New skill?:5.477190035294845\n",
      "New skill?:Pking with Slayer Helm:7.157521489516779\n",
      "New skill?:Problems connecting PS3 to LCD monitor via HMDI cable with DVI adapter:8.407462552515954\n",
      "New skill?:Question about Final Fantasy 7 Story [FF7/CC:FF7 Spoilers]:7.7759186990168105\n",
      "New skill?:Question about young prayer.:7.5062177396665515\n",
      "New skill?:Questions about some braun razors:7.616652635318632\n",
      "New skill?:Questions about the Galaxy S3:7.378431797754322\n",
      "New skill?:RCS missing:7.180609957476612\n",
      "New skill?:Seriously guys come on.:5.789223272517292\n",
      "New skill?:Since divine didn't pass there's other options.:7.100636448105223\n",
      "New skill?:Summer volunteer opportunities:6.438771526286724\n",
      "New skill?:System Settings or the Internet Browser won't launch. Did I brick my N3DS. 9.8-2XU > 9.2-20U:6.625103437669556\n",
      "New skill?:Things you heard while at the hospital you wish you did not hear?:7.717920248483507\n",
      "New skill?:This may not be the appropriate place to post this but I'm selling my 42mm Milanese Loop and am willing to hook it up for you!:6.8170105094098385\n",
      "New skill?:Thoboy..:5.97340408215627\n",
      "New skill?:Undergrad student starting to feel under qualified and overwhelmed:6.826755043496841\n",
      "New skill?:Vanilla Crayfish:6.05991101387904\n"
     ]
    },
    {
     "name": "stderr",
     "output_type": "stream",
     "text": [
      "100%|██████████| 66/66 [00:00<00:00, 3576.82it/s]\n"
     ]
    },
    {
     "name": "stdout",
     "output_type": "stream",
     "text": [
      "New skill?:What do most people do that's completely hypocritical but don't realise it:6.858683588046897\n",
      "New skill?:What is one thing your significant other has done for you that you can't ever pay them back for?:7.105782514107814\n",
      "New skill?:What is the most downvoted comment you have ever seen and what did it say?:6.237294205974736\n",
      "New skill?:What pop culture expression, or any phrase really, are you actually planning on using more often?:5.885107748431452\n",
      "New skill?:What's a good television show in Latin American Spanish that I could watch online to practice hearing and understanding conversational Spanish?:5.703792281715752\n",
      "New skill?:What's going on here? Can't choose damaged book.:5.962435373452502\n",
      "New skill?:What's the worst nightmare you never had?:6.4660416270529115\n",
      "New skill?:Where's the best place to chop yews in f2p?:6.101595773319092\n",
      "New skill?:Why are people more likely to cut in front of you when driving in traffic, but if they were standing in line, they wouldn't do the same thing?:6.68852978181219\n",
      "New skill?:Why did the rabbit eat the road?:6.321608553927018\n",
      "New skill?:Why is China so concerned with having a \"buffer zone\" with the U.S.:7.894079454227992\n",
      "New skill?:[HELP] Moving a pregnant molly?:6.736136448090899\n",
      "New skill?:[PF] Strix Zen Archer:6.336667035355623\n",
      "New skill?:[iPad] When I touch links/subreddits on the iPad screen, it doesn't register in AB:6.9600593173285645\n",
      "New skill?:biomedical innovations class.:6.307288591392256\n",
      "New skill?:does anyone else have this issue?:7.221091712553327\n",
      "New skill?:foxy:5.897764231109022\n",
      "New skill?:rex reclaim:5.394927240574211\n",
      "New skill?:rs authenticator:6.217594367972725\n"
     ]
    },
    {
     "name": "stderr",
     "output_type": "stream",
     "text": [
      "\n",
      "  0%|          | 0/66 [00:00<?, ?it/s]\u001b[A"
     ]
    },
    {
     "name": "stdout",
     "output_type": "stream",
     "text": [
      "Pking with Slayer Helm:Pking with Slayer Helm:4.09714456904939\n",
      "Pking with Slayer Helm:Problems connecting PS3 to LCD monitor via HMDI cable with DVI adapter:8.79355246314202\n",
      "Pking with Slayer Helm:Question about Final Fantasy 7 Story [FF7/CC:FF7 Spoilers]:8.200645722331023\n",
      "Pking with Slayer Helm:Question about young prayer.:8.759181880691973\n",
      "Pking with Slayer Helm:Questions about some braun razors:8.40046041585072\n",
      "Pking with Slayer Helm:Questions about the Galaxy S3:8.724824751333081\n",
      "Pking with Slayer Helm:RCS missing:8.312867025119235\n",
      "Pking with Slayer Helm:Seriously guys come on.:7.781853286887488\n",
      "Pking with Slayer Helm:Since divine didn't pass there's other options.:6.480961394873988\n",
      "Pking with Slayer Helm:Summer volunteer opportunities:8.053314674838084\n",
      "Pking with Slayer Helm:System Settings or the Internet Browser won't launch. Did I brick my N3DS. 9.8-2XU > 9.2-20U:8.128359220963382\n",
      "Pking with Slayer Helm:Things you heard while at the hospital you wish you did not hear?:8.446987133199283\n",
      "Pking with Slayer Helm:This may not be the appropriate place to post this but I'm selling my 42mm Milanese Loop and am willing to hook it up for you!:8.041282478618669\n",
      "Pking with Slayer Helm:Thoboy..:7.9021195394603625\n",
      "Pking with Slayer Helm:Undergrad student starting to feel under qualified and overwhelmed:8.300076992642772\n",
      "Pking with Slayer Helm:Vanilla Crayfish:8.024709877254626\n",
      "Pking with Slayer Helm:What do most people do that's completely hypocritical but don't realise it:8.200767156632086\n",
      "Pking with Slayer Helm:What is one thing your significant other has done for you that you can't ever pay them back for?:8.530613995745156\n",
      "Pking with Slayer Helm:What is the most downvoted comment you have ever seen and what did it say?:7.946255612152898\n",
      "Pking with Slayer Helm:What pop culture expression, or any phrase really, are you actually planning on using more often?:7.868493585618426\n",
      "Pking with Slayer Helm:What's a good television show in Latin American Spanish that I could watch online to practice hearing and understanding conversational Spanish?:7.832504928525648\n",
      "Pking with Slayer Helm:What's going on here? Can't choose damaged book.:7.880466137161527\n",
      "Pking with Slayer Helm:What's the worst nightmare you never had?:7.70420367642186\n",
      "Pking with Slayer Helm:Where's the best place to chop yews in f2p?:7.368379317605636\n",
      "Pking with Slayer Helm:Why are people more likely to cut in front of you when driving in traffic, but if they were standing in line, they wouldn't do the same thing?:7.971582177879645\n",
      "Pking with Slayer Helm:Why did the rabbit eat the road?:8.226595835525881\n",
      "Pking with Slayer Helm:Why is China so concerned with having a \"buffer zone\" with the U.S.:8.87272620770258\n",
      "Pking with Slayer Helm:[HELP] Moving a pregnant molly?:8.219278798540184\n",
      "Pking with Slayer Helm:[PF] Strix Zen Archer:7.138804515742766\n",
      "Pking with Slayer Helm:[iPad] When I touch links/subreddits on the iPad screen, it doesn't register in AB:8.160851994268944\n"
     ]
    },
    {
     "name": "stderr",
     "output_type": "stream",
     "text": [
      "100%|██████████| 66/66 [00:00<00:00, 4175.20it/s]\n"
     ]
    },
    {
     "name": "stdout",
     "output_type": "stream",
     "text": [
      "Pking with Slayer Helm:biomedical innovations class.:8.121682559079858\n",
      "Pking with Slayer Helm:does anyone else have this issue?:8.393445087141716\n",
      "Pking with Slayer Helm:foxy:7.990505429015\n",
      "Pking with Slayer Helm:rex reclaim:7.817157469538708\n",
      "Pking with Slayer Helm:rs authenticator:7.704811226263269\n"
     ]
    },
    {
     "name": "stderr",
     "output_type": "stream",
     "text": [
      "\n",
      "  0%|          | 0/66 [00:00<?, ?it/s]\u001b[A"
     ]
    },
    {
     "name": "stdout",
     "output_type": "stream",
     "text": [
      "Problems connecting PS3 to LCD monitor via HMDI cable with DVI adapter:Problems connecting PS3 to LCD monitor via HMDI cable with DVI adapter:3.8558896574073795\n",
      "Problems connecting PS3 to LCD monitor via HMDI cable with DVI adapter:Question about Final Fantasy 7 Story [FF7/CC:FF7 Spoilers]:8.077017962425671\n",
      "Problems connecting PS3 to LCD monitor via HMDI cable with DVI adapter:Question about young prayer.:8.64985101422194\n",
      "Problems connecting PS3 to LCD monitor via HMDI cable with DVI adapter:Questions about some braun razors:7.767693899846587\n",
      "Problems connecting PS3 to LCD monitor via HMDI cable with DVI adapter:Questions about the Galaxy S3:7.246697027926805\n"
     ]
    },
    {
     "name": "stderr",
     "output_type": "stream",
     "text": [
      "100%|██████████| 66/66 [00:00<00:00, 4496.23it/s]\n"
     ]
    },
    {
     "name": "stdout",
     "output_type": "stream",
     "text": [
      "Problems connecting PS3 to LCD monitor via HMDI cable with DVI adapter:RCS missing:8.237362494175077\n",
      "Problems connecting PS3 to LCD monitor via HMDI cable with DVI adapter:Seriously guys come on.:7.540151348570325\n",
      "Problems connecting PS3 to LCD monitor via HMDI cable with DVI adapter:Since divine didn't pass there's other options.:8.524753985530229\n",
      "Problems connecting PS3 to LCD monitor via HMDI cable with DVI adapter:Summer volunteer opportunities:8.09650334876833\n",
      "Problems connecting PS3 to LCD monitor via HMDI cable with DVI adapter:System Settings or the Internet Browser won't launch. Did I brick my N3DS. 9.8-2XU > 9.2-20U:7.300764931973614\n",
      "Problems connecting PS3 to LCD monitor via HMDI cable with DVI adapter:Things you heard while at the hospital you wish you did not hear?:8.118386800777692\n",
      "Problems connecting PS3 to LCD monitor via HMDI cable with DVI adapter:This may not be the appropriate place to post this but I'm selling my 42mm Milanese Loop and am willing to hook it up for you!:7.416990538900577\n",
      "Problems connecting PS3 to LCD monitor via HMDI cable with DVI adapter:Thoboy..:7.551021074073186\n",
      "Problems connecting PS3 to LCD monitor via HMDI cable with DVI adapter:Undergrad student starting to feel under qualified and overwhelmed:8.065239015390379\n",
      "Problems connecting PS3 to LCD monitor via HMDI cable with DVI adapter:Vanilla Crayfish:7.728678248581988\n",
      "Problems connecting PS3 to LCD monitor via HMDI cable with DVI adapter:What do most people do that's completely hypocritical but don't realise it:8.165104290400327\n",
      "Problems connecting PS3 to LCD monitor via HMDI cable with DVI adapter:What is one thing your significant other has done for you that you can't ever pay them back for?:8.150290163240301\n",
      "Problems connecting PS3 to LCD monitor via HMDI cable with DVI adapter:What is the most downvoted comment you have ever seen and what did it say?:7.7558636508814125\n",
      "Problems connecting PS3 to LCD monitor via HMDI cable with DVI adapter:What pop culture expression, or any phrase really, are you actually planning on using more often?:7.560075746813313\n",
      "Problems connecting PS3 to LCD monitor via HMDI cable with DVI adapter:What's a good television show in Latin American Spanish that I could watch online to practice hearing and understanding conversational Spanish?:7.495729750420432\n",
      "Problems connecting PS3 to LCD monitor via HMDI cable with DVI adapter:What's going on here? Can't choose damaged book.:7.589896492514365\n",
      "Problems connecting PS3 to LCD monitor via HMDI cable with DVI adapter:What's the worst nightmare you never had?:7.783900250600119\n",
      "Problems connecting PS3 to LCD monitor via HMDI cable with DVI adapter:Where's the best place to chop yews in f2p?:8.020814557324272\n",
      "Problems connecting PS3 to LCD monitor via HMDI cable with DVI adapter:Why are people more likely to cut in front of you when driving in traffic, but if they were standing in line, they wouldn't do the same thing?:7.778962559348509\n",
      "Problems connecting PS3 to LCD monitor via HMDI cable with DVI adapter:Why did the rabbit eat the road?:7.836951445784862\n",
      "Problems connecting PS3 to LCD monitor via HMDI cable with DVI adapter:Why is China so concerned with having a \"buffer zone\" with the U.S.:8.584226548909665\n",
      "Problems connecting PS3 to LCD monitor via HMDI cable with DVI adapter:[HELP] Moving a pregnant molly?:8.01261261725125\n",
      "Problems connecting PS3 to LCD monitor via HMDI cable with DVI adapter:[PF] Strix Zen Archer:7.874031303756137\n",
      "Problems connecting PS3 to LCD monitor via HMDI cable with DVI adapter:[iPad] When I touch links/subreddits on the iPad screen, it doesn't register in AB:7.239014341978484\n",
      "Problems connecting PS3 to LCD monitor via HMDI cable with DVI adapter:biomedical innovations class.:7.738208661856842\n",
      "Problems connecting PS3 to LCD monitor via HMDI cable with DVI adapter:does anyone else have this issue?:7.017646496699067\n",
      "Problems connecting PS3 to LCD monitor via HMDI cable with DVI adapter:foxy:7.767008541110825\n",
      "Problems connecting PS3 to LCD monitor via HMDI cable with DVI adapter:rex reclaim:7.514523200540143\n",
      "Problems connecting PS3 to LCD monitor via HMDI cable with DVI adapter:rs authenticator:7.833165733926579\n"
     ]
    },
    {
     "name": "stderr",
     "output_type": "stream",
     "text": [
      "\n",
      "  0%|          | 0/66 [00:00<?, ?it/s]\u001b[A"
     ]
    },
    {
     "name": "stdout",
     "output_type": "stream",
     "text": [
      "Question about Final Fantasy 7 Story [FF7/CC:FF7 Spoilers]:Question about Final Fantasy 7 Story [FF7/CC:FF7 Spoilers]:4.666407576855011\n",
      "Question about Final Fantasy 7 Story [FF7/CC:FF7 Spoilers]:Question about young prayer.:8.201543351102366\n",
      "Question about Final Fantasy 7 Story [FF7/CC:FF7 Spoilers]:Questions about some braun razors:8.201134710658131\n",
      "Question about Final Fantasy 7 Story [FF7/CC:FF7 Spoilers]:Questions about the Galaxy S3:7.906920793925307\n",
      "Question about Final Fantasy 7 Story [FF7/CC:FF7 Spoilers]:RCS missing:7.968093896064137\n",
      "Question about Final Fantasy 7 Story [FF7/CC:FF7 Spoilers]:Seriously guys come on.:6.835311145647243\n",
      "Question about Final Fantasy 7 Story [FF7/CC:FF7 Spoilers]:Since divine didn't pass there's other options.:7.717745209709845\n",
      "Question about Final Fantasy 7 Story [FF7/CC:FF7 Spoilers]:Summer volunteer opportunities:7.544057199482303\n",
      "Question about Final Fantasy 7 Story [FF7/CC:FF7 Spoilers]:System Settings or the Internet Browser won't launch. Did I brick my N3DS. 9.8-2XU > 9.2-20U:6.881829001912425\n",
      "Question about Final Fantasy 7 Story [FF7/CC:FF7 Spoilers]:Things you heard while at the hospital you wish you did not hear?:8.041952531126936\n",
      "Question about Final Fantasy 7 Story [FF7/CC:FF7 Spoilers]:This may not be the appropriate place to post this but I'm selling my 42mm Milanese Loop and am willing to hook it up for you!:7.6494160469410915\n",
      "Question about Final Fantasy 7 Story [FF7/CC:FF7 Spoilers]:Thoboy..:7.0438963423398375\n",
      "Question about Final Fantasy 7 Story [FF7/CC:FF7 Spoilers]:Undergrad student starting to feel under qualified and overwhelmed:7.698401538013735\n"
     ]
    },
    {
     "name": "stderr",
     "output_type": "stream",
     "text": [
      "100%|██████████| 66/66 [00:00<00:00, 4611.51it/s]\n"
     ]
    },
    {
     "name": "stdout",
     "output_type": "stream",
     "text": [
      "Question about Final Fantasy 7 Story [FF7/CC:FF7 Spoilers]:Vanilla Crayfish:7.156327835479157\n",
      "Question about Final Fantasy 7 Story [FF7/CC:FF7 Spoilers]:What do most people do that's completely hypocritical but don't realise it:7.735265781220022\n",
      "Question about Final Fantasy 7 Story [FF7/CC:FF7 Spoilers]:What is one thing your significant other has done for you that you can't ever pay them back for?:7.7886844824752135\n",
      "Question about Final Fantasy 7 Story [FF7/CC:FF7 Spoilers]:What is the most downvoted comment you have ever seen and what did it say?:7.333466373867214\n",
      "Question about Final Fantasy 7 Story [FF7/CC:FF7 Spoilers]:What pop culture expression, or any phrase really, are you actually planning on using more often?:7.058877368753674\n",
      "Question about Final Fantasy 7 Story [FF7/CC:FF7 Spoilers]:What's a good television show in Latin American Spanish that I could watch online to practice hearing and understanding conversational Spanish?:6.919249972893129\n",
      "Question about Final Fantasy 7 Story [FF7/CC:FF7 Spoilers]:What's going on here? Can't choose damaged book.:6.949854843476098\n",
      "Question about Final Fantasy 7 Story [FF7/CC:FF7 Spoilers]:What's the worst nightmare you never had?:7.251072448183144\n",
      "Question about Final Fantasy 7 Story [FF7/CC:FF7 Spoilers]:Where's the best place to chop yews in f2p?:7.442040087501281\n",
      "Question about Final Fantasy 7 Story [FF7/CC:FF7 Spoilers]:Why are people more likely to cut in front of you when driving in traffic, but if they were standing in line, they wouldn't do the same thing?:7.613642412043917\n",
      "Question about Final Fantasy 7 Story [FF7/CC:FF7 Spoilers]:Why did the rabbit eat the road?:7.385397148280431\n",
      "Question about Final Fantasy 7 Story [FF7/CC:FF7 Spoilers]:Why is China so concerned with having a \"buffer zone\" with the U.S.:8.243314614597988\n",
      "Question about Final Fantasy 7 Story [FF7/CC:FF7 Spoilers]:[HELP] Moving a pregnant molly?:7.703911589700471\n",
      "Question about Final Fantasy 7 Story [FF7/CC:FF7 Spoilers]:[PF] Strix Zen Archer:7.1206913446935545\n",
      "Question about Final Fantasy 7 Story [FF7/CC:FF7 Spoilers]:[iPad] When I touch links/subreddits on the iPad screen, it doesn't register in AB:7.541170894372148\n",
      "Question about Final Fantasy 7 Story [FF7/CC:FF7 Spoilers]:biomedical innovations class.:7.256241641250761\n",
      "Question about Final Fantasy 7 Story [FF7/CC:FF7 Spoilers]:does anyone else have this issue?:7.842429509940093\n",
      "Question about Final Fantasy 7 Story [FF7/CC:FF7 Spoilers]:foxy:7.128906788359337\n",
      "Question about Final Fantasy 7 Story [FF7/CC:FF7 Spoilers]:rex reclaim:6.825862757254475\n",
      "Question about Final Fantasy 7 Story [FF7/CC:FF7 Spoilers]:rs authenticator:7.508122927773207\n"
     ]
    },
    {
     "name": "stderr",
     "output_type": "stream",
     "text": [
      "\n",
      "  0%|          | 0/66 [00:00<?, ?it/s]\u001b[A"
     ]
    },
    {
     "name": "stdout",
     "output_type": "stream",
     "text": [
      "Question about young prayer.:Question about young prayer.:4.152928036202609\n",
      "Question about young prayer.:Questions about some braun razors:7.690242903927435\n",
      "Question about young prayer.:Questions about the Galaxy S3:7.44987936949118\n",
      "Question about young prayer.:RCS missing:7.21138011793348\n",
      "Question about young prayer.:Seriously guys come on.:5.748076738150364\n",
      "Question about young prayer.:Since divine didn't pass there's other options.:8.263716661451362\n",
      "Question about young prayer.:Summer volunteer opportunities:6.505363734287886\n",
      "Question about young prayer.:System Settings or the Internet Browser won't launch. Did I brick my N3DS. 9.8-2XU > 9.2-20U:6.883599299472614\n",
      "Question about young prayer.:Things you heard while at the hospital you wish you did not hear?:7.650591494837974\n",
      "Question about young prayer.:This may not be the appropriate place to post this but I'm selling my 42mm Milanese Loop and am willing to hook it up for you!:6.696233584373353\n",
      "Question about young prayer.:Thoboy..:5.8170657517781645\n",
      "Question about young prayer.:Undergrad student starting to feel under qualified and overwhelmed:7.11460240357232\n",
      "Question about young prayer.:Vanilla Crayfish:5.9740370092718225\n",
      "Question about young prayer.:What do most people do that's completely hypocritical but don't realise it:6.878489595137226\n",
      "Question about young prayer.:What is one thing your significant other has done for you that you can't ever pay them back for?:6.673075857236001\n",
      "Question about young prayer.:What is the most downvoted comment you have ever seen and what did it say?:6.234383408791358\n",
      "Question about young prayer.:What pop culture expression, or any phrase really, are you actually planning on using more often?:5.7820669340721516\n",
      "Question about young prayer.:What's a good television show in Latin American Spanish that I could watch online to practice hearing and understanding conversational Spanish?:5.639261972990851\n",
      "Question about young prayer.:What's going on here? Can't choose damaged book.:5.9960356283651075\n",
      "Question about young prayer.:What's the worst nightmare you never had?:6.414031336321463\n",
      "Question about young prayer.:Where's the best place to chop yews in f2p?:6.624157658449247\n",
      "Question about young prayer.:Why are people more likely to cut in front of you when driving in traffic, but if they were standing in line, they wouldn't do the same thing?:6.707167317974864\n",
      "Question about young prayer.:Why did the rabbit eat the road?:6.331846687010834\n",
      "Question about young prayer.:Why is China so concerned with having a \"buffer zone\" with the U.S.:7.801446249847185\n",
      "Question about young prayer.:[HELP] Moving a pregnant molly?:6.850978258769522\n",
      "Question about young prayer.:[PF] Strix Zen Archer:6.999574370470821\n",
      "Question about young prayer.:[iPad] When I touch links/subreddits on the iPad screen, it doesn't register in AB:7.13401839390316\n",
      "Question about young prayer.:biomedical innovations class.:6.314204078573767\n",
      "Question about young prayer.:does anyone else have this issue?:7.4767422971028505\n",
      "Question about young prayer.:foxy:5.7503773417490756\n"
     ]
    },
    {
     "name": "stderr",
     "output_type": "stream",
     "text": [
      "100%|██████████| 66/66 [00:00<00:00, 4399.27it/s]\n"
     ]
    },
    {
     "name": "stdout",
     "output_type": "stream",
     "text": [
      "Question about young prayer.:rex reclaim:5.324181863135344\n",
      "Question about young prayer.:rs authenticator:6.672601456655988\n"
     ]
    },
    {
     "name": "stderr",
     "output_type": "stream",
     "text": [
      "\n",
      "100%|██████████| 66/66 [00:00<00:00, 4328.69it/s]\n",
      " 55%|█████▍    | 36/66 [00:00<00:00, 44.58it/s]"
     ]
    },
    {
     "name": "stdout",
     "output_type": "stream",
     "text": [
      "Questions about some braun razors:Questions about some braun razors:4.620626205912911\n",
      "Questions about some braun razors:Questions about the Galaxy S3:7.228292185981393\n",
      "Questions about some braun razors:RCS missing:7.159777179655512\n",
      "Questions about some braun razors:Seriously guys come on.:6.237864970501581\n",
      "Questions about some braun razors:Since divine didn't pass there's other options.:7.810027522436333\n",
      "Questions about some braun razors:Summer volunteer opportunities:6.960081328646821\n",
      "Questions about some braun razors:System Settings or the Internet Browser won't launch. Did I brick my N3DS. 9.8-2XU > 9.2-20U:6.8889509106562645\n",
      "Questions about some braun razors:Things you heard while at the hospital you wish you did not hear?:7.284768579185121\n",
      "Questions about some braun razors:This may not be the appropriate place to post this but I'm selling my 42mm Milanese Loop and am willing to hook it up for you!:6.092120746956466\n",
      "Questions about some braun razors:Thoboy..:6.328977708204763\n",
      "Questions about some braun razors:Undergrad student starting to feel under qualified and overwhelmed:7.092037950899827\n",
      "Questions about some braun razors:Vanilla Crayfish:6.4511400910341745\n",
      "Questions about some braun razors:What do most people do that's completely hypocritical but don't realise it:6.98795045505536\n",
      "Questions about some braun razors:What is one thing your significant other has done for you that you can't ever pay them back for?:7.115324407512084\n",
      "Questions about some braun razors:What is the most downvoted comment you have ever seen and what did it say?:6.542244912844121\n",
      "Questions about some braun razors:What pop culture expression, or any phrase really, are you actually planning on using more often?:6.362784633467551\n",
      "Questions about some braun razors:What's a good television show in Latin American Spanish that I could watch online to practice hearing and understanding conversational Spanish?:6.251452722518686\n",
      "Questions about some braun razors:What's going on here? Can't choose damaged book.:6.296952818146702\n",
      "Questions about some braun razors:What's the worst nightmare you never had?:6.607893233253842\n",
      "Questions about some braun razors:Where's the best place to chop yews in f2p?:6.852087227910104\n",
      "Questions about some braun razors:Why are people more likely to cut in front of you when driving in traffic, but if they were standing in line, they wouldn't do the same thing?:6.611520573805616\n",
      "Questions about some braun razors:Why did the rabbit eat the road?:6.7212036440904495\n",
      "Questions about some braun razors:Why is China so concerned with having a \"buffer zone\" with the U.S.:7.8307237619433705\n",
      "Questions about some braun razors:[HELP] Moving a pregnant molly?:6.844341271163977\n",
      "Questions about some braun razors:[PF] Strix Zen Archer:6.677916324145284\n",
      "Questions about some braun razors:[iPad] When I touch links/subreddits on the iPad screen, it doesn't register in AB:6.888332132040955\n",
      "Questions about some braun razors:biomedical innovations class.:6.569436773328346\n",
      "Questions about some braun razors:does anyone else have this issue?:7.271390047097467\n",
      "Questions about some braun razors:foxy:6.565613151987361\n",
      "Questions about some braun razors:rex reclaim:6.2100383118819895\n",
      "Questions about some braun razors:rs authenticator:6.9500030332135925\n"
     ]
    },
    {
     "name": "stderr",
     "output_type": "stream",
     "text": [
      "\n",
      "  0%|          | 0/66 [00:00<?, ?it/s]\u001b[A"
     ]
    },
    {
     "name": "stdout",
     "output_type": "stream",
     "text": [
      "Questions about the Galaxy S3:Questions about the Galaxy S3:4.485437046449002\n",
      "Questions about the Galaxy S3:RCS missing:6.888217393259055\n",
      "Questions about the Galaxy S3:Seriously guys come on.:5.357226036479816\n",
      "Questions about the Galaxy S3:Since divine didn't pass there's other options.:8.103895442787557\n",
      "Questions about the Galaxy S3:Summer volunteer opportunities:6.395126561656079\n",
      "Questions about the Galaxy S3:System Settings or the Internet Browser won't launch. Did I brick my N3DS. 9.8-2XU > 9.2-20U:6.086966354765211\n",
      "Questions about the Galaxy S3:Things you heard while at the hospital you wish you did not hear?:7.263514710159313\n",
      "Questions about the Galaxy S3:This may not be the appropriate place to post this but I'm selling my 42mm Milanese Loop and am willing to hook it up for you!:6.267416645633092\n",
      "Questions about the Galaxy S3:Thoboy..:5.549222020513975\n",
      "Questions about the Galaxy S3:Undergrad student starting to feel under qualified and overwhelmed:6.723527624624852\n",
      "Questions about the Galaxy S3:Vanilla Crayfish:5.597273165682071\n",
      "Questions about the Galaxy S3:What do most people do that's completely hypocritical but don't realise it:6.811098071430431\n",
      "Questions about the Galaxy S3:What is one thing your significant other has done for you that you can't ever pay them back for?:6.772880691312929\n"
     ]
    },
    {
     "name": "stderr",
     "output_type": "stream",
     "text": [
      "100%|██████████| 66/66 [00:00<00:00, 4013.57it/s]"
     ]
    },
    {
     "name": "stdout",
     "output_type": "stream",
     "text": [
      "Questions about the Galaxy S3:What is the most downvoted comment you have ever seen and what did it say?:6.107099441741903\n",
      "Questions about the Galaxy S3:What pop culture expression, or any phrase really, are you actually planning on using more often?:5.541958701408598\n",
      "Questions about the Galaxy S3:What's a good television show in Latin American Spanish that I could watch online to practice hearing and understanding conversational Spanish?:5.285396303864827\n",
      "Questions about the Galaxy S3:What's going on here? Can't choose damaged book.:5.506713986174151\n",
      "Questions about the Galaxy S3:What's the worst nightmare you never had?:6.273578556784568\n",
      "Questions about the Galaxy S3:Where's the best place to chop yews in f2p?:6.388346008446453\n",
      "Questions about the Galaxy S3:Why are people more likely to cut in front of you when driving in traffic, but if they were standing in line, they wouldn't do the same thing?:6.284470362625569\n",
      "Questions about the Galaxy S3:Why did the rabbit eat the road?:5.973369971135836\n",
      "Questions about the Galaxy S3:Why is China so concerned with having a \"buffer zone\" with the U.S.:7.599270569953165\n",
      "Questions about the Galaxy S3:[HELP] Moving a pregnant molly?:6.606500048258271\n",
      "Questions about the Galaxy S3:[PF] Strix Zen Archer:6.517257860872775\n",
      "Questions about the Galaxy S3:[iPad] When I touch links/subreddits on the iPad screen, it doesn't register in AB:5.4161434805005815\n",
      "Questions about the Galaxy S3:biomedical innovations class.:5.9378113506330195\n",
      "Questions about the Galaxy S3:does anyone else have this issue?:5.827091161870121\n",
      "Questions about the Galaxy S3:foxy:5.657556231774814\n",
      "Questions about the Galaxy S3:rex reclaim:5.025467406880025\n",
      "Questions about the Galaxy S3:rs authenticator:6.008719947712359\n"
     ]
    },
    {
     "name": "stderr",
     "output_type": "stream",
     "text": [
      "\n",
      "\n",
      "  0%|          | 0/66 [00:00<?, ?it/s]\u001b[A"
     ]
    },
    {
     "name": "stdout",
     "output_type": "stream",
     "text": [
      "RCS missing:RCS missing:4.886192201250845\n",
      "RCS missing:Seriously guys come on.:5.097908065604642\n",
      "RCS missing:Since divine didn't pass there's other options.:7.880190896630134\n",
      "RCS missing:Summer volunteer opportunities:6.076215249043835\n",
      "RCS missing:System Settings or the Internet Browser won't launch. Did I brick my N3DS. 9.8-2XU > 9.2-20U:6.311165731095412\n",
      "RCS missing:Things you heard while at the hospital you wish you did not hear?:6.833356366372199\n",
      "RCS missing:This may not be the appropriate place to post this but I'm selling my 42mm Milanese Loop and am willing to hook it up for you!:6.318511926865659\n",
      "RCS missing:Thoboy..:5.394035057473768\n",
      "RCS missing:Undergrad student starting to feel under qualified and overwhelmed:6.387885087538718\n",
      "RCS missing:Vanilla Crayfish:5.347723817476468\n",
      "RCS missing:What do most people do that's completely hypocritical but don't realise it:5.993097887462926\n",
      "RCS missing:What is one thing your significant other has done for you that you can't ever pay them back for?:6.400809824113104\n",
      "RCS missing:What is the most downvoted comment you have ever seen and what did it say?:5.525472390925832\n",
      "RCS missing:What pop culture expression, or any phrase really, are you actually planning on using more often?:5.252986241953125\n",
      "RCS missing:What's a good television show in Latin American Spanish that I could watch online to practice hearing and understanding conversational Spanish?:5.069982600503605\n",
      "RCS missing:What's going on here? Can't choose damaged book.:5.397233851837487\n"
     ]
    },
    {
     "name": "stderr",
     "output_type": "stream",
     "text": [
      "100%|██████████| 66/66 [00:00<00:00, 4210.12it/s]\n"
     ]
    },
    {
     "name": "stdout",
     "output_type": "stream",
     "text": [
      "RCS missing:What's the worst nightmare you never had?:5.693274417889386\n",
      "RCS missing:Where's the best place to chop yews in f2p?:5.917064843286907\n",
      "RCS missing:Why are people more likely to cut in front of you when driving in traffic, but if they were standing in line, they wouldn't do the same thing?:5.986708970165806\n",
      "RCS missing:Why did the rabbit eat the road?:5.714271028514501\n",
      "RCS missing:Why is China so concerned with having a \"buffer zone\" with the U.S.:7.31647671685877\n",
      "RCS missing:[HELP] Moving a pregnant molly?:5.342935244403085\n",
      "RCS missing:[PF] Strix Zen Archer:6.162612838093802\n",
      "RCS missing:[iPad] When I touch links/subreddits on the iPad screen, it doesn't register in AB:6.434156067783588\n",
      "RCS missing:biomedical innovations class.:5.68745734903636\n",
      "RCS missing:does anyone else have this issue?:6.813629505417076\n",
      "RCS missing:foxy:5.3506666320013805\n",
      "RCS missing:rex reclaim:4.760041566650222\n",
      "RCS missing:rs authenticator:6.02558961386949\n"
     ]
    },
    {
     "name": "stderr",
     "output_type": "stream",
     "text": [
      "\n",
      "  0%|          | 0/66 [00:00<?, ?it/s]\u001b[A"
     ]
    },
    {
     "name": "stdout",
     "output_type": "stream",
     "text": [
      "Seriously guys come on.:Seriously guys come on.:2.0824969777628537\n",
      "Seriously guys come on.:Since divine didn't pass there's other options.:6.994068397823253\n",
      "Seriously guys come on.:Summer volunteer opportunities:4.0857171655630875\n",
      "Seriously guys come on.:System Settings or the Internet Browser won't launch. Did I brick my N3DS. 9.8-2XU > 9.2-20U:4.348059807449261\n",
      "Seriously guys come on.:Things you heard while at the hospital you wish you did not hear?:5.912987968575009\n",
      "Seriously guys come on.:This may not be the appropriate place to post this but I'm selling my 42mm Milanese Loop and am willing to hook it up for you!:4.654783388855812\n",
      "Seriously guys come on.:Thoboy..:2.880483698837873\n",
      "Seriously guys come on.:Undergrad student starting to feel under qualified and overwhelmed:4.762730357204218\n",
      "Seriously guys come on.:Vanilla Crayfish:2.886422663757853\n",
      "Seriously guys come on.:What do most people do that's completely hypocritical but don't realise it:4.603395420039425\n",
      "Seriously guys come on.:What is one thing your significant other has done for you that you can't ever pay them back for?:4.701209297921196\n",
      "Seriously guys come on.:What is the most downvoted comment you have ever seen and what did it say?:3.626884669829669\n",
      "Seriously guys come on.:What pop culture expression, or any phrase really, are you actually planning on using more often?:2.621127850849624\n",
      "Seriously guys come on.:What's a good television show in Latin American Spanish that I could watch online to practice hearing and understanding conversational Spanish?:2.2729993651064304\n",
      "Seriously guys come on.:What's going on here? Can't choose damaged book.:2.8827536431599086\n",
      "Seriously guys come on.:What's the worst nightmare you never had?:3.9627447168232672\n",
      "Seriously guys come on.:Where's the best place to chop yews in f2p?:4.096580701222626\n",
      "Seriously guys come on.:Why are people more likely to cut in front of you when driving in traffic, but if they were standing in line, they wouldn't do the same thing?:4.367989052930755\n",
      "Seriously guys come on.:Why did the rabbit eat the road?:3.4602406151069207\n"
     ]
    },
    {
     "name": "stderr",
     "output_type": "stream",
     "text": [
      "100%|██████████| 66/66 [00:00<00:00, 4840.26it/s]"
     ]
    },
    {
     "name": "stdout",
     "output_type": "stream",
     "text": [
      "Seriously guys come on.:Why is China so concerned with having a \"buffer zone\" with the U.S.:6.279058504915055\n",
      "Seriously guys come on.:[HELP] Moving a pregnant molly?:4.556316169539111\n",
      "Seriously guys come on.:[PF] Strix Zen Archer:4.588182782344317\n",
      "Seriously guys come on.:[iPad] When I touch links/subreddits on the iPad screen, it doesn't register in AB:4.925895474590961\n",
      "Seriously guys come on.:biomedical innovations class.:3.6594243340737878\n",
      "Seriously guys come on.:does anyone else have this issue?:5.253406235524031\n",
      "Seriously guys come on.:foxy:2.71466130508134\n",
      "Seriously guys come on.:rex reclaim:1.636288257477245\n",
      "Seriously guys come on.:rs authenticator:3.9880350651114753\n"
     ]
    },
    {
     "name": "stderr",
     "output_type": "stream",
     "text": [
      "\n",
      "\n",
      "  0%|          | 0/66 [00:00<?, ?it/s]\u001b[A"
     ]
    },
    {
     "name": "stdout",
     "output_type": "stream",
     "text": [
      "Since divine didn't pass there's other options.:Since divine didn't pass there's other options.:5.148769845023168\n",
      "Since divine didn't pass there's other options.:Summer volunteer opportunities:7.54447767321059\n",
      "Since divine didn't pass there's other options.:System Settings or the Internet Browser won't launch. Did I brick my N3DS. 9.8-2XU > 9.2-20U:7.412381959979606\n",
      "Since divine didn't pass there's other options.:Things you heard while at the hospital you wish you did not hear?:8.24619918557931\n",
      "Since divine didn't pass there's other options.:This may not be the appropriate place to post this but I'm selling my 42mm Milanese Loop and am willing to hook it up for you!:7.326926323557338\n",
      "Since divine didn't pass there's other options.:Thoboy..:7.087093845149113\n",
      "Since divine didn't pass there's other options.:Undergrad student starting to feel under qualified and overwhelmed:7.759854585585909\n",
      "Since divine didn't pass there's other options.:Vanilla Crayfish:7.185736741293181\n",
      "Since divine didn't pass there's other options.:What do most people do that's completely hypocritical but don't realise it:7.646677303448859\n",
      "Since divine didn't pass there's other options.:What is one thing your significant other has done for you that you can't ever pay them back for?:7.900155471771747\n",
      "Since divine didn't pass there's other options.:What is the most downvoted comment you have ever seen and what did it say?:7.291341210058082\n",
      "Since divine didn't pass there's other options.:What pop culture expression, or any phrase really, are you actually planning on using more often?:7.192046527350922\n",
      "Since divine didn't pass there's other options.:What's a good television show in Latin American Spanish that I could watch online to practice hearing and understanding conversational Spanish?:7.016504813791085\n"
     ]
    },
    {
     "name": "stderr",
     "output_type": "stream",
     "text": [
      "100%|██████████| 66/66 [00:00<00:00, 5524.77it/s]\n"
     ]
    },
    {
     "name": "stdout",
     "output_type": "stream",
     "text": [
      "Since divine didn't pass there's other options.:What's going on here? Can't choose damaged book.:7.006703936176084\n",
      "Since divine didn't pass there's other options.:What's the worst nightmare you never had?:7.386326649682866\n",
      "Since divine didn't pass there's other options.:Where's the best place to chop yews in f2p?:7.136320360975624\n",
      "Since divine didn't pass there's other options.:Why are people more likely to cut in front of you when driving in traffic, but if they were standing in line, they wouldn't do the same thing?:7.470011017943248\n",
      "Since divine didn't pass there's other options.:Why did the rabbit eat the road?:7.499239773864359\n",
      "Since divine didn't pass there's other options.:Why is China so concerned with having a \"buffer zone\" with the U.S.:8.31330891995092\n",
      "Since divine didn't pass there's other options.:[HELP] Moving a pregnant molly?:7.60642503948832\n",
      "Since divine didn't pass there's other options.:[PF] Strix Zen Archer:6.791825230199895\n",
      "Since divine didn't pass there's other options.:[iPad] When I touch links/subreddits on the iPad screen, it doesn't register in AB:7.648292462577016\n",
      "Since divine didn't pass there's other options.:biomedical innovations class.:7.325467529950937\n",
      "Since divine didn't pass there's other options.:does anyone else have this issue?:7.986844550814371\n",
      "Since divine didn't pass there's other options.:foxy:7.15180998939392\n",
      "Since divine didn't pass there's other options.:rex reclaim:6.9210354158329075\n",
      "Since divine didn't pass there's other options.:rs authenticator:7.351447337985073\n"
     ]
    },
    {
     "name": "stderr",
     "output_type": "stream",
     "text": [
      "\n",
      "  0%|          | 0/66 [00:00<?, ?it/s]\u001b[A"
     ]
    },
    {
     "name": "stdout",
     "output_type": "stream",
     "text": [
      "Summer volunteer opportunities:Summer volunteer opportunities:4.088580550532361\n",
      "Summer volunteer opportunities:System Settings or the Internet Browser won't launch. Did I brick my N3DS. 9.8-2XU > 9.2-20U:5.532033793714621\n",
      "Summer volunteer opportunities:Things you heard while at the hospital you wish you did not hear?:6.800196786306407\n",
      "Summer volunteer opportunities:This may not be the appropriate place to post this but I'm selling my 42mm Milanese Loop and am willing to hook it up for you!:5.638091780362053\n",
      "Summer volunteer opportunities:Thoboy..:4.460707518418156\n",
      "Summer volunteer opportunities:Undergrad student starting to feel under qualified and overwhelmed:5.848504236398421\n",
      "Summer volunteer opportunities:Vanilla Crayfish:4.373838305481016\n",
      "Summer volunteer opportunities:What do most people do that's completely hypocritical but don't realise it:5.8057035050013575\n",
      "Summer volunteer opportunities:What is one thing your significant other has done for you that you can't ever pay them back for?:5.854974736700905\n",
      "Summer volunteer opportunities:What is the most downvoted comment you have ever seen and what did it say?:4.908531965003534\n",
      "Summer volunteer opportunities:What pop culture expression, or any phrase really, are you actually planning on using more often?:4.091434085922027\n",
      "Summer volunteer opportunities:What's a good television show in Latin American Spanish that I could watch online to practice hearing and understanding conversational Spanish?:3.8642275929023353\n",
      "Summer volunteer opportunities:What's going on here? Can't choose damaged book.:4.376394136780544\n",
      "Summer volunteer opportunities:What's the worst nightmare you never had?:5.2406710941753465\n",
      "Summer volunteer opportunities:Where's the best place to chop yews in f2p?:5.104398017648905\n",
      "Summer volunteer opportunities:Why are people more likely to cut in front of you when driving in traffic, but if they were standing in line, they wouldn't do the same thing?:5.551579349437871\n"
     ]
    },
    {
     "name": "stderr",
     "output_type": "stream",
     "text": [
      "100%|██████████| 66/66 [00:00<00:00, 5676.81it/s]\n"
     ]
    },
    {
     "name": "stdout",
     "output_type": "stream",
     "text": [
      "Summer volunteer opportunities:Why did the rabbit eat the road?:4.760461923622103\n",
      "Summer volunteer opportunities:Why is China so concerned with having a \"buffer zone\" with the U.S.:6.9735473736044336\n",
      "Summer volunteer opportunities:[HELP] Moving a pregnant molly?:5.479356897947934\n",
      "Summer volunteer opportunities:[PF] Strix Zen Archer:5.728494654814847\n",
      "Summer volunteer opportunities:[iPad] When I touch links/subreddits on the iPad screen, it doesn't register in AB:6.1270586565155725\n",
      "Summer volunteer opportunities:biomedical innovations class.:4.968773944002323\n",
      "Summer volunteer opportunities:does anyone else have this issue?:6.3227323281000976\n",
      "Summer volunteer opportunities:foxy:4.18276404869113\n",
      "Summer volunteer opportunities:rex reclaim:3.3348926392560245\n",
      "Summer volunteer opportunities:rs authenticator:5.261349470277909\n"
     ]
    },
    {
     "name": "stderr",
     "output_type": "stream",
     "text": [
      "\n",
      "  0%|          | 0/66 [00:00<?, ?it/s]\u001b[A"
     ]
    },
    {
     "name": "stdout",
     "output_type": "stream",
     "text": [
      "System Settings or the Internet Browser won't launch. Did I brick my N3DS. 9.8-2XU > 9.2-20U:System Settings or the Internet Browser won't launch. Did I brick my N3DS. 9.8-2XU > 9.2-20U:4.552693836332773\n",
      "System Settings or the Internet Browser won't launch. Did I brick my N3DS. 9.8-2XU > 9.2-20U:Things you heard while at the hospital you wish you did not hear?:6.9685896229247435\n",
      "System Settings or the Internet Browser won't launch. Did I brick my N3DS. 9.8-2XU > 9.2-20U:This may not be the appropriate place to post this but I'm selling my 42mm Milanese Loop and am willing to hook it up for you!:5.628808516088511\n",
      "System Settings or the Internet Browser won't launch. Did I brick my N3DS. 9.8-2XU > 9.2-20U:Thoboy..:4.600404558741447\n",
      "System Settings or the Internet Browser won't launch. Did I brick my N3DS. 9.8-2XU > 9.2-20U:Undergrad student starting to feel under qualified and overwhelmed:6.065738599731721\n",
      "System Settings or the Internet Browser won't launch. Did I brick my N3DS. 9.8-2XU > 9.2-20U:Vanilla Crayfish:4.548056046723599\n",
      "System Settings or the Internet Browser won't launch. Did I brick my N3DS. 9.8-2XU > 9.2-20U:What do most people do that's completely hypocritical but don't realise it:5.921129028937294\n",
      "System Settings or the Internet Browser won't launch. Did I brick my N3DS. 9.8-2XU > 9.2-20U:What is one thing your significant other has done for you that you can't ever pay them back for?:6.115841590517313\n",
      "System Settings or the Internet Browser won't launch. Did I brick my N3DS. 9.8-2XU > 9.2-20U:What is the most downvoted comment you have ever seen and what did it say?:5.058328744435984\n",
      "System Settings or the Internet Browser won't launch. Did I brick my N3DS. 9.8-2XU > 9.2-20U:What pop culture expression, or any phrase really, are you actually planning on using more often?:4.371048157488154\n",
      "System Settings or the Internet Browser won't launch. Did I brick my N3DS. 9.8-2XU > 9.2-20U:What's a good television show in Latin American Spanish that I could watch online to practice hearing and understanding conversational Spanish?:4.1269858705268705\n",
      "System Settings or the Internet Browser won't launch. Did I brick my N3DS. 9.8-2XU > 9.2-20U:What's going on here? Can't choose damaged book.:4.5712071800083525\n",
      "System Settings or the Internet Browser won't launch. Did I brick my N3DS. 9.8-2XU > 9.2-20U:What's the worst nightmare you never had?:5.5191666171512574\n",
      "System Settings or the Internet Browser won't launch. Did I brick my N3DS. 9.8-2XU > 9.2-20U:Where's the best place to chop yews in f2p?:5.471084918491909\n",
      "System Settings or the Internet Browser won't launch. Did I brick my N3DS. 9.8-2XU > 9.2-20U:Why are people more likely to cut in front of you when driving in traffic, but if they were standing in line, they wouldn't do the same thing?:5.684807982236723\n",
      "System Settings or the Internet Browser won't launch. Did I brick my N3DS. 9.8-2XU > 9.2-20U:Why did the rabbit eat the road?:5.0020092961475555\n",
      "System Settings or the Internet Browser won't launch. Did I brick my N3DS. 9.8-2XU > 9.2-20U:Why is China so concerned with having a \"buffer zone\" with the U.S.:7.195522075507088\n"
     ]
    },
    {
     "name": "stderr",
     "output_type": "stream",
     "text": [
      "100%|██████████| 66/66 [00:00<00:00, 4740.95it/s]\n"
     ]
    },
    {
     "name": "stdout",
     "output_type": "stream",
     "text": [
      "System Settings or the Internet Browser won't launch. Did I brick my N3DS. 9.8-2XU > 9.2-20U:[HELP] Moving a pregnant molly?:5.878927360248502\n",
      "System Settings or the Internet Browser won't launch. Did I brick my N3DS. 9.8-2XU > 9.2-20U:[PF] Strix Zen Archer:5.683486889907095\n",
      "System Settings or the Internet Browser won't launch. Did I brick my N3DS. 9.8-2XU > 9.2-20U:[iPad] When I touch links/subreddits on the iPad screen, it doesn't register in AB:5.826832205304224\n",
      "System Settings or the Internet Browser won't launch. Did I brick my N3DS. 9.8-2XU > 9.2-20U:biomedical innovations class.:5.140933299678378\n",
      "System Settings or the Internet Browser won't launch. Did I brick my N3DS. 9.8-2XU > 9.2-20U:does anyone else have this issue?:5.96340214653894\n",
      "System Settings or the Internet Browser won't launch. Did I brick my N3DS. 9.8-2XU > 9.2-20U:foxy:4.415577389092841\n",
      "System Settings or the Internet Browser won't launch. Did I brick my N3DS. 9.8-2XU > 9.2-20U:rex reclaim:3.5958174724302063\n",
      "System Settings or the Internet Browser won't launch. Did I brick my N3DS. 9.8-2XU > 9.2-20U:rs authenticator:5.357870198413471\n"
     ]
    },
    {
     "name": "stderr",
     "output_type": "stream",
     "text": [
      "\n",
      "100%|██████████| 66/66 [00:00<00:00, 5379.30it/s]\n",
      " 65%|██████▌   | 43/66 [00:01<00:00, 49.85it/s]"
     ]
    },
    {
     "name": "stdout",
     "output_type": "stream",
     "text": [
      "Things you heard while at the hospital you wish you did not hear?:Things you heard while at the hospital you wish you did not hear?:5.164975711776821\n",
      "Things you heard while at the hospital you wish you did not hear?:This may not be the appropriate place to post this but I'm selling my 42mm Milanese Loop and am willing to hook it up for you!:6.835854738933722\n",
      "Things you heard while at the hospital you wish you did not hear?:Thoboy..:6.177695596160599\n",
      "Things you heard while at the hospital you wish you did not hear?:Undergrad student starting to feel under qualified and overwhelmed:6.778322379958365\n",
      "Things you heard while at the hospital you wish you did not hear?:Vanilla Crayfish:6.293629236906277\n",
      "Things you heard while at the hospital you wish you did not hear?:What do most people do that's completely hypocritical but don't realise it:6.693622911432489\n",
      "Things you heard while at the hospital you wish you did not hear?:What is one thing your significant other has done for you that you can't ever pay them back for?:6.528213949433605\n",
      "Things you heard while at the hospital you wish you did not hear?:What is the most downvoted comment you have ever seen and what did it say?:6.288668259533713\n",
      "Things you heard while at the hospital you wish you did not hear?:What pop culture expression, or any phrase really, are you actually planning on using more often?:6.041828386602681\n",
      "Things you heard while at the hospital you wish you did not hear?:What's a good television show in Latin American Spanish that I could watch online to practice hearing and understanding conversational Spanish?:6.031205904684378\n",
      "Things you heard while at the hospital you wish you did not hear?:What's going on here? Can't choose damaged book.:6.25534971500863\n",
      "Things you heard while at the hospital you wish you did not hear?:What's the worst nightmare you never had?:6.066406856002333\n",
      "Things you heard while at the hospital you wish you did not hear?:Where's the best place to chop yews in f2p?:6.775912665308907\n",
      "Things you heard while at the hospital you wish you did not hear?:Why are people more likely to cut in front of you when driving in traffic, but if they were standing in line, they wouldn't do the same thing?:6.5073655532184365\n",
      "Things you heard while at the hospital you wish you did not hear?:Why did the rabbit eat the road?:6.504482911136708\n",
      "Things you heard while at the hospital you wish you did not hear?:Why is China so concerned with having a \"buffer zone\" with the U.S.:7.659031540043111\n",
      "Things you heard while at the hospital you wish you did not hear?:[HELP] Moving a pregnant molly?:6.689165891605943\n",
      "Things you heard while at the hospital you wish you did not hear?:[PF] Strix Zen Archer:6.765091685095942\n",
      "Things you heard while at the hospital you wish you did not hear?:[iPad] When I touch links/subreddits on the iPad screen, it doesn't register in AB:6.726482495316593\n",
      "Things you heard while at the hospital you wish you did not hear?:biomedical innovations class.:6.383589883493428\n",
      "Things you heard while at the hospital you wish you did not hear?:does anyone else have this issue?:7.154335554687006\n",
      "Things you heard while at the hospital you wish you did not hear?:foxy:6.330907208842769\n",
      "Things you heard while at the hospital you wish you did not hear?:rex reclaim:5.980920221601791\n",
      "Things you heard while at the hospital you wish you did not hear?:rs authenticator:6.785728813987457\n"
     ]
    },
    {
     "name": "stderr",
     "output_type": "stream",
     "text": [
      "\n",
      "  0%|          | 0/66 [00:00<?, ?it/s]\u001b[A"
     ]
    },
    {
     "name": "stdout",
     "output_type": "stream",
     "text": [
      "This may not be the appropriate place to post this but I'm selling my 42mm Milanese Loop and am willing to hook it up for you!:This may not be the appropriate place to post this but I'm selling my 42mm Milanese Loop and am willing to hook it up for you!:3.875221053980948\n",
      "This may not be the appropriate place to post this but I'm selling my 42mm Milanese Loop and am willing to hook it up for you!:Thoboy..:4.801786982149909\n",
      "This may not be the appropriate place to post this but I'm selling my 42mm Milanese Loop and am willing to hook it up for you!:Undergrad student starting to feel under qualified and overwhelmed:6.119879380178675\n",
      "This may not be the appropriate place to post this but I'm selling my 42mm Milanese Loop and am willing to hook it up for you!:Vanilla Crayfish:4.835988380110389\n",
      "This may not be the appropriate place to post this but I'm selling my 42mm Milanese Loop and am willing to hook it up for you!:What do most people do that's completely hypocritical but don't realise it:6.123492941402958\n",
      "This may not be the appropriate place to post this but I'm selling my 42mm Milanese Loop and am willing to hook it up for you!:What is one thing your significant other has done for you that you can't ever pay them back for?:6.152824062494185\n",
      "This may not be the appropriate place to post this but I'm selling my 42mm Milanese Loop and am willing to hook it up for you!:What is the most downvoted comment you have ever seen and what did it say?:5.371905229212956\n",
      "This may not be the appropriate place to post this but I'm selling my 42mm Milanese Loop and am willing to hook it up for you!:What pop culture expression, or any phrase really, are you actually planning on using more often?:4.778012626345859\n",
      "This may not be the appropriate place to post this but I'm selling my 42mm Milanese Loop and am willing to hook it up for you!:What's a good television show in Latin American Spanish that I could watch online to practice hearing and understanding conversational Spanish?:4.533527026112138\n",
      "This may not be the appropriate place to post this but I'm selling my 42mm Milanese Loop and am willing to hook it up for you!:What's going on here? Can't choose damaged book.:4.809998360217398\n",
      "This may not be the appropriate place to post this but I'm selling my 42mm Milanese Loop and am willing to hook it up for you!:What's the worst nightmare you never had?:5.579956697981677\n"
     ]
    },
    {
     "name": "stderr",
     "output_type": "stream",
     "text": [
      "100%|██████████| 66/66 [00:00<00:00, 6258.46it/s]\n"
     ]
    },
    {
     "name": "stdout",
     "output_type": "stream",
     "text": [
      "This may not be the appropriate place to post this but I'm selling my 42mm Milanese Loop and am willing to hook it up for you!:Where's the best place to chop yews in f2p?:5.625487514197742\n",
      "This may not be the appropriate place to post this but I'm selling my 42mm Milanese Loop and am willing to hook it up for you!:Why are people more likely to cut in front of you when driving in traffic, but if they were standing in line, they wouldn't do the same thing?:5.554486837915076\n",
      "This may not be the appropriate place to post this but I'm selling my 42mm Milanese Loop and am willing to hook it up for you!:Why did the rabbit eat the road?:5.288267569016908\n",
      "This may not be the appropriate place to post this but I'm selling my 42mm Milanese Loop and am willing to hook it up for you!:Why is China so concerned with having a \"buffer zone\" with the U.S.:7.077721402674571\n",
      "This may not be the appropriate place to post this but I'm selling my 42mm Milanese Loop and am willing to hook it up for you!:[HELP] Moving a pregnant molly?:5.840388405502095\n",
      "This may not be the appropriate place to post this but I'm selling my 42mm Milanese Loop and am willing to hook it up for you!:[PF] Strix Zen Archer:5.760568310676646\n",
      "This may not be the appropriate place to post this but I'm selling my 42mm Milanese Loop and am willing to hook it up for you!:[iPad] When I touch links/subreddits on the iPad screen, it doesn't register in AB:5.936846853207084\n",
      "This may not be the appropriate place to post this but I'm selling my 42mm Milanese Loop and am willing to hook it up for you!:biomedical innovations class.:5.330597984325806\n",
      "This may not be the appropriate place to post this but I'm selling my 42mm Milanese Loop and am willing to hook it up for you!:does anyone else have this issue?:6.295619531715241\n",
      "This may not be the appropriate place to post this but I'm selling my 42mm Milanese Loop and am willing to hook it up for you!:foxy:4.932654709828757\n",
      "This may not be the appropriate place to post this but I'm selling my 42mm Milanese Loop and am willing to hook it up for you!:rex reclaim:4.232984265626856\n",
      "This may not be the appropriate place to post this but I'm selling my 42mm Milanese Loop and am willing to hook it up for you!:rs authenticator:5.630730520897133\n"
     ]
    },
    {
     "name": "stderr",
     "output_type": "stream",
     "text": [
      "\n",
      "  0%|          | 0/66 [00:00<?, ?it/s]\u001b[A"
     ]
    },
    {
     "name": "stdout",
     "output_type": "stream",
     "text": [
      "Thoboy..:Thoboy..:2.7614182466824326\n",
      "Thoboy..:Undergrad student starting to feel under qualified and overwhelmed:5.07939477506942\n",
      "Thoboy..:Vanilla Crayfish:3.287185508527793\n",
      "Thoboy..:What do most people do that's completely hypocritical but don't realise it:4.868989453171269\n",
      "Thoboy..:What is one thing your significant other has done for you that you can't ever pay them back for?:5.044078246757597\n",
      "Thoboy..:What is the most downvoted comment you have ever seen and what did it say?:3.9203083834290866\n",
      "Thoboy..:What pop culture expression, or any phrase really, are you actually planning on using more often?:3.0869710543633553\n",
      "Thoboy..:What's a good television show in Latin American Spanish that I could watch online to practice hearing and understanding conversational Spanish?:2.7221046910545845\n",
      "Thoboy..:What's going on here? Can't choose damaged book.:3.2945194190421296\n",
      "Thoboy..:What's the worst nightmare you never had?:4.372643308716861\n"
     ]
    },
    {
     "name": "stderr",
     "output_type": "stream",
     "text": [
      "100%|██████████| 66/66 [00:00<00:00, 5312.20it/s]\n"
     ]
    },
    {
     "name": "stdout",
     "output_type": "stream",
     "text": [
      "Thoboy..:Where's the best place to chop yews in f2p?:4.390568710984389\n",
      "Thoboy..:Why are people more likely to cut in front of you when driving in traffic, but if they were standing in line, they wouldn't do the same thing?:4.638767867190022\n",
      "Thoboy..:Why did the rabbit eat the road?:3.790091792595041\n",
      "Thoboy..:Why is China so concerned with having a \"buffer zone\" with the U.S.:6.459211394272627\n",
      "Thoboy..:[HELP] Moving a pregnant molly?:4.897738534492538\n",
      "Thoboy..:[PF] Strix Zen Archer:4.854210888137923\n",
      "Thoboy..:[iPad] When I touch links/subreddits on the iPad screen, it doesn't register in AB:5.149314831920577\n",
      "Thoboy..:biomedical innovations class.:4.004648074791113\n",
      "Thoboy..:does anyone else have this issue?:5.462827382881868\n",
      "Thoboy..:foxy:3.1279636675612785\n",
      "Thoboy..:rex reclaim:2.1560255764951632\n",
      "Thoboy..:rs authenticator:4.3319556127599625\n"
     ]
    },
    {
     "name": "stderr",
     "output_type": "stream",
     "text": [
      "\n",
      "  0%|          | 0/66 [00:00<?, ?it/s]\u001b[A"
     ]
    },
    {
     "name": "stdout",
     "output_type": "stream",
     "text": [
      "Undergrad student starting to feel under qualified and overwhelmed:Undergrad student starting to feel under qualified and overwhelmed:3.5228761709807173\n",
      "Undergrad student starting to feel under qualified and overwhelmed:Vanilla Crayfish:5.15243404608423\n",
      "Undergrad student starting to feel under qualified and overwhelmed:What do most people do that's completely hypocritical but don't realise it:5.934832717272476\n",
      "Undergrad student starting to feel under qualified and overwhelmed:What is one thing your significant other has done for you that you can't ever pay them back for?:6.162343893377881\n",
      "Undergrad student starting to feel under qualified and overwhelmed:What is the most downvoted comment you have ever seen and what did it say?:5.448662074382623\n",
      "Undergrad student starting to feel under qualified and overwhelmed:What pop culture expression, or any phrase really, are you actually planning on using more often?:5.024413939133256\n",
      "Undergrad student starting to feel under qualified and overwhelmed:What's a good television show in Latin American Spanish that I could watch online to practice hearing and understanding conversational Spanish?:4.802327362117923\n",
      "Undergrad student starting to feel under qualified and overwhelmed:What's going on here? Can't choose damaged book.:5.068845840371542\n",
      "Undergrad student starting to feel under qualified and overwhelmed:What's the worst nightmare you never had?:5.559965690680683\n",
      "Undergrad student starting to feel under qualified and overwhelmed:Where's the best place to chop yews in f2p?:5.841347278734094\n",
      "Undergrad student starting to feel under qualified and overwhelmed:Why are people more likely to cut in front of you when driving in traffic, but if they were standing in line, they wouldn't do the same thing?:5.742433819917453\n"
     ]
    },
    {
     "name": "stderr",
     "output_type": "stream",
     "text": [
      "100%|██████████| 66/66 [00:00<00:00, 6686.73it/s]\n"
     ]
    },
    {
     "name": "stdout",
     "output_type": "stream",
     "text": [
      "Undergrad student starting to feel under qualified and overwhelmed:Why did the rabbit eat the road?:5.540929184926869\n",
      "Undergrad student starting to feel under qualified and overwhelmed:Why is China so concerned with having a \"buffer zone\" with the U.S.:7.260674947458007\n",
      "Undergrad student starting to feel under qualified and overwhelmed:[HELP] Moving a pregnant molly?:6.037093371527581\n",
      "Undergrad student starting to feel under qualified and overwhelmed:[PF] Strix Zen Archer:5.990226729058943\n",
      "Undergrad student starting to feel under qualified and overwhelmed:[iPad] When I touch links/subreddits on the iPad screen, it doesn't register in AB:6.189956254609282\n",
      "Undergrad student starting to feel under qualified and overwhelmed:biomedical innovations class.:5.443613471622513\n",
      "Undergrad student starting to feel under qualified and overwhelmed:does anyone else have this issue?:6.540802166987222\n",
      "Undergrad student starting to feel under qualified and overwhelmed:foxy:5.115018639953263\n",
      "Undergrad student starting to feel under qualified and overwhelmed:rex reclaim:4.411709624003713\n",
      "Undergrad student starting to feel under qualified and overwhelmed:rs authenticator:5.703124039645916\n"
     ]
    },
    {
     "name": "stderr",
     "output_type": "stream",
     "text": [
      "\n",
      "100%|██████████| 66/66 [00:00<00:00, 6180.63it/s]"
     ]
    },
    {
     "name": "stdout",
     "output_type": "stream",
     "text": [
      "Vanilla Crayfish:Vanilla Crayfish:2.6955861327821666\n",
      "Vanilla Crayfish:What do most people do that's completely hypocritical but don't realise it:4.839110187175495\n",
      "Vanilla Crayfish:What is one thing your significant other has done for you that you can't ever pay them back for?:4.971452192816281\n",
      "Vanilla Crayfish:What is the most downvoted comment you have ever seen and what did it say?:3.874892496407738\n",
      "Vanilla Crayfish:What pop culture expression, or any phrase really, are you actually planning on using more often?:2.8653159920262006\n",
      "Vanilla Crayfish:What's a good television show in Latin American Spanish that I could watch online to practice hearing and understanding conversational Spanish?:2.545452578939625\n",
      "Vanilla Crayfish:What's going on here? Can't choose damaged book.:3.1835355186140895\n",
      "Vanilla Crayfish:What's the worst nightmare you never had?:4.447500134500764\n",
      "Vanilla Crayfish:Where's the best place to chop yews in f2p?:4.418724846826367\n",
      "Vanilla Crayfish:Why are people more likely to cut in front of you when driving in traffic, but if they were standing in line, they wouldn't do the same thing?:4.643167981548428\n",
      "Vanilla Crayfish:Why did the rabbit eat the road?:3.742093164746604\n",
      "Vanilla Crayfish:Why is China so concerned with having a \"buffer zone\" with the U.S.:6.546773511106309\n",
      "Vanilla Crayfish:[HELP] Moving a pregnant molly?:4.841067200025897\n",
      "Vanilla Crayfish:[PF] Strix Zen Archer:4.961732180130602\n",
      "Vanilla Crayfish:[iPad] When I touch links/subreddits on the iPad screen, it doesn't register in AB:5.317511014973806\n",
      "Vanilla Crayfish:biomedical innovations class.:3.9646999405987615\n",
      "Vanilla Crayfish:does anyone else have this issue?:5.503384258545418\n",
      "Vanilla Crayfish:foxy:2.9211174342698576\n",
      "Vanilla Crayfish:rex reclaim:1.87004886184219\n",
      "Vanilla Crayfish:rs authenticator:4.314340260821615\n"
     ]
    },
    {
     "name": "stderr",
     "output_type": "stream",
     "text": [
      "\n",
      "\n",
      "  0%|          | 0/66 [00:00<?, ?it/s]\u001b[A"
     ]
    },
    {
     "name": "stdout",
     "output_type": "stream",
     "text": [
      "What do most people do that's completely hypocritical but don't realise it:What do most people do that's completely hypocritical but don't realise it:4.3054671930838175\n",
      "What do most people do that's completely hypocritical but don't realise it:What is one thing your significant other has done for you that you can't ever pay them back for?:5.823666126193601\n",
      "What do most people do that's completely hypocritical but don't realise it:What is the most downvoted comment you have ever seen and what did it say?:4.82548436388938\n",
      "What do most people do that's completely hypocritical but don't realise it:What pop culture expression, or any phrase really, are you actually planning on using more often?:4.699113017379693\n",
      "What do most people do that's completely hypocritical but don't realise it:What's a good television show in Latin American Spanish that I could watch online to practice hearing and understanding conversational Spanish?:4.485137068552046\n",
      "What do most people do that's completely hypocritical but don't realise it:What's going on here? Can't choose damaged book.:4.932486011348919\n",
      "What do most people do that's completely hypocritical but don't realise it:What's the worst nightmare you never had?:5.377329317911173\n",
      "What do most people do that's completely hypocritical but don't realise it:Where's the best place to chop yews in f2p?:5.673516397353528\n",
      "What do most people do that's completely hypocritical but don't realise it:Why are people more likely to cut in front of you when driving in traffic, but if they were standing in line, they wouldn't do the same thing?:5.405986701246469\n",
      "What do most people do that's completely hypocritical but don't realise it:Why did the rabbit eat the road?:5.271981702335175\n",
      "What do most people do that's completely hypocritical but don't realise it:Why is China so concerned with having a \"buffer zone\" with the U.S.:7.114652295046285\n",
      "What do most people do that's completely hypocritical but don't realise it:[HELP] Moving a pregnant molly?:5.812958163873732\n",
      "What do most people do that's completely hypocritical but don't realise it:[PF] Strix Zen Archer:5.876284186004912\n"
     ]
    },
    {
     "name": "stderr",
     "output_type": "stream",
     "text": [
      "100%|██████████| 66/66 [00:00<00:00, 7337.75it/s]\n"
     ]
    },
    {
     "name": "stdout",
     "output_type": "stream",
     "text": [
      "What do most people do that's completely hypocritical but don't realise it:[iPad] When I touch links/subreddits on the iPad screen, it doesn't register in AB:6.372410055842083\n",
      "What do most people do that's completely hypocritical but don't realise it:biomedical innovations class.:5.348540978935451\n",
      "What do most people do that's completely hypocritical but don't realise it:does anyone else have this issue?:6.648693948010403\n",
      "What do most people do that's completely hypocritical but don't realise it:foxy:4.666714210391037\n",
      "What do most people do that's completely hypocritical but don't realise it:rex reclaim:4.082425132509232\n",
      "What do most people do that's completely hypocritical but don't realise it:rs authenticator:5.681518348553539\n"
     ]
    },
    {
     "name": "stderr",
     "output_type": "stream",
     "text": [
      "\n",
      "  0%|          | 0/66 [00:00<?, ?it/s]\u001b[A"
     ]
    },
    {
     "name": "stdout",
     "output_type": "stream",
     "text": [
      "What is one thing your significant other has done for you that you can't ever pay them back for?:What is one thing your significant other has done for you that you can't ever pay them back for?:3.9183916759283823\n",
      "What is one thing your significant other has done for you that you can't ever pay them back for?:What is the most downvoted comment you have ever seen and what did it say?:5.288538096174536\n",
      "What is one thing your significant other has done for you that you can't ever pay them back for?:What pop culture expression, or any phrase really, are you actually planning on using more often?:4.832938772424735\n"
     ]
    },
    {
     "name": "stderr",
     "output_type": "stream",
     "text": [
      "100%|██████████| 66/66 [00:00<00:00, 7285.04it/s]\n"
     ]
    },
    {
     "name": "stdout",
     "output_type": "stream",
     "text": [
      "What is one thing your significant other has done for you that you can't ever pay them back for?:What's a good television show in Latin American Spanish that I could watch online to practice hearing and understanding conversational Spanish?:4.648562707372049\n",
      "What is one thing your significant other has done for you that you can't ever pay them back for?:What's going on here? Can't choose damaged book.:5.044599399901347\n",
      "What is one thing your significant other has done for you that you can't ever pay them back for?:What's the worst nightmare you never had?:5.412502576686613\n",
      "What is one thing your significant other has done for you that you can't ever pay them back for?:Where's the best place to chop yews in f2p?:6.006213598372318\n",
      "What is one thing your significant other has done for you that you can't ever pay them back for?:Why are people more likely to cut in front of you when driving in traffic, but if they were standing in line, they wouldn't do the same thing?:5.688952239685618\n",
      "What is one thing your significant other has done for you that you can't ever pay them back for?:Why did the rabbit eat the road?:5.454938171791484\n",
      "What is one thing your significant other has done for you that you can't ever pay them back for?:Why is China so concerned with having a \"buffer zone\" with the U.S.:7.26232193646863\n",
      "What is one thing your significant other has done for you that you can't ever pay them back for?:[HELP] Moving a pregnant molly?:5.971301611259249\n",
      "What is one thing your significant other has done for you that you can't ever pay them back for?:[PF] Strix Zen Archer:6.072426284488188\n",
      "What is one thing your significant other has done for you that you can't ever pay them back for?:[iPad] When I touch links/subreddits on the iPad screen, it doesn't register in AB:6.30451248061579\n",
      "What is one thing your significant other has done for you that you can't ever pay them back for?:biomedical innovations class.:5.305605648220522\n",
      "What is one thing your significant other has done for you that you can't ever pay them back for?:does anyone else have this issue?:6.688313796972303\n",
      "What is one thing your significant other has done for you that you can't ever pay them back for?:foxy:4.93660897466042\n",
      "What is one thing your significant other has done for you that you can't ever pay them back for?:rex reclaim:4.359374791837239\n",
      "What is one thing your significant other has done for you that you can't ever pay them back for?:rs authenticator:5.896047768252605\n"
     ]
    },
    {
     "name": "stderr",
     "output_type": "stream",
     "text": [
      "\n",
      "100%|██████████| 66/66 [00:00<00:00, 7233.45it/s]"
     ]
    },
    {
     "name": "stdout",
     "output_type": "stream",
     "text": [
      "What is the most downvoted comment you have ever seen and what did it say?:What is the most downvoted comment you have ever seen and what did it say?:3.46018036941204\n",
      "What is the most downvoted comment you have ever seen and what did it say?:What pop culture expression, or any phrase really, are you actually planning on using more often?:3.6143057943518784\n",
      "What is the most downvoted comment you have ever seen and what did it say?:What's a good television show in Latin American Spanish that I could watch online to practice hearing and understanding conversational Spanish?:3.409557577636325\n",
      "What is the most downvoted comment you have ever seen and what did it say?:What's going on here? Can't choose damaged book.:3.9362571060074756\n",
      "What is the most downvoted comment you have ever seen and what did it say?:What's the worst nightmare you never had?:4.714932537219498\n",
      "What is the most downvoted comment you have ever seen and what did it say?:Where's the best place to chop yews in f2p?:4.835621040615523\n",
      "What is the most downvoted comment you have ever seen and what did it say?:Why are people more likely to cut in front of you when driving in traffic, but if they were standing in line, they wouldn't do the same thing?:4.939868824588482\n",
      "What is the most downvoted comment you have ever seen and what did it say?:Why did the rabbit eat the road?:4.322399999965333\n",
      "What is the most downvoted comment you have ever seen and what did it say?:Why is China so concerned with having a \"buffer zone\" with the U.S.:6.704527688981\n",
      "What is the most downvoted comment you have ever seen and what did it say?:[HELP] Moving a pregnant molly?:5.150969468480794\n",
      "What is the most downvoted comment you have ever seen and what did it say?:[PF] Strix Zen Archer:5.2638118565967265\n",
      "What is the most downvoted comment you have ever seen and what did it say?:[iPad] When I touch links/subreddits on the iPad screen, it doesn't register in AB:5.697246277090881\n",
      "What is the most downvoted comment you have ever seen and what did it say?:biomedical innovations class.:4.5464786943010616\n",
      "What is the most downvoted comment you have ever seen and what did it say?:does anyone else have this issue?:5.966185920058101\n",
      "What is the most downvoted comment you have ever seen and what did it say?:foxy:3.506896060126517\n",
      "What is the most downvoted comment you have ever seen and what did it say?:rex reclaim:2.8558415300510296\n",
      "What is the most downvoted comment you have ever seen and what did it say?:rs authenticator:4.818160848849646\n"
     ]
    },
    {
     "name": "stderr",
     "output_type": "stream",
     "text": [
      "\n",
      "\n",
      "  0%|          | 0/66 [00:00<?, ?it/s]\u001b[A"
     ]
    },
    {
     "name": "stdout",
     "output_type": "stream",
     "text": [
      "What pop culture expression, or any phrase really, are you actually planning on using more often?:What pop culture expression, or any phrase really, are you actually planning on using more often?:2.108139320707991\n",
      "What pop culture expression, or any phrase really, are you actually planning on using more often?:What's a good television show in Latin American Spanish that I could watch online to practice hearing and understanding conversational Spanish?:2.194487045924566\n",
      "What pop culture expression, or any phrase really, are you actually planning on using more often?:What's going on here? Can't choose damaged book.:2.97770135593406\n",
      "What pop culture expression, or any phrase really, are you actually planning on using more often?:What's the worst nightmare you never had?:4.145478560842723\n",
      "What pop culture expression, or any phrase really, are you actually planning on using more often?:Where's the best place to chop yews in f2p?:4.167881420117273\n",
      "What pop culture expression, or any phrase really, are you actually planning on using more often?:Why are people more likely to cut in front of you when driving in traffic, but if they were standing in line, they wouldn't do the same thing?:4.518565490522655\n",
      "What pop culture expression, or any phrase really, are you actually planning on using more often?:Why did the rabbit eat the road?:3.4640838987651197\n",
      "What pop culture expression, or any phrase really, are you actually planning on using more often?:Why is China so concerned with having a \"buffer zone\" with the U.S.:6.53791063333649\n"
     ]
    },
    {
     "name": "stderr",
     "output_type": "stream",
     "text": [
      "100%|██████████| 66/66 [00:00<00:00, 7816.80it/s]\n",
      " 77%|███████▋  | 51/66 [00:01<00:00, 58.23it/s]"
     ]
    },
    {
     "name": "stdout",
     "output_type": "stream",
     "text": [
      "What pop culture expression, or any phrase really, are you actually planning on using more often?:[HELP] Moving a pregnant molly?:4.675894611427615\n",
      "What pop culture expression, or any phrase really, are you actually planning on using more often?:[PF] Strix Zen Archer:4.810865565198245\n",
      "What pop culture expression, or any phrase really, are you actually planning on using more often?:[iPad] When I touch links/subreddits on the iPad screen, it doesn't register in AB:5.364403200686051\n",
      "What pop culture expression, or any phrase really, are you actually planning on using more often?:biomedical innovations class.:3.7745580885049277\n",
      "What pop culture expression, or any phrase really, are you actually planning on using more often?:does anyone else have this issue?:5.413768422545084\n",
      "What pop culture expression, or any phrase really, are you actually planning on using more often?:foxy:2.5436219584183166\n",
      "What pop culture expression, or any phrase really, are you actually planning on using more often?:rex reclaim:1.4054368639849109\n",
      "What pop culture expression, or any phrase really, are you actually planning on using more often?:rs authenticator:4.1223149299978985\n"
     ]
    },
    {
     "name": "stderr",
     "output_type": "stream",
     "text": [
      "\n",
      "  0%|          | 0/66 [00:00<?, ?it/s]\u001b[A"
     ]
    },
    {
     "name": "stdout",
     "output_type": "stream",
     "text": [
      "What's a good television show in Latin American Spanish that I could watch online to practice hearing and understanding conversational Spanish?:What's a good television show in Latin American Spanish that I could watch online to practice hearing and understanding conversational Spanish?:1.586015187267452\n",
      "What's a good television show in Latin American Spanish that I could watch online to practice hearing and understanding conversational Spanish?:What's going on here? Can't choose damaged book.:2.6276397636362887\n",
      "What's a good television show in Latin American Spanish that I could watch online to practice hearing and understanding conversational Spanish?:What's the worst nightmare you never had?:3.971252650188619\n",
      "What's a good television show in Latin American Spanish that I could watch online to practice hearing and understanding conversational Spanish?:Where's the best place to chop yews in f2p?:3.899926534787464\n",
      "What's a good television show in Latin American Spanish that I could watch online to practice hearing and understanding conversational Spanish?:Why are people more likely to cut in front of you when driving in traffic, but if they were standing in line, they wouldn't do the same thing?:4.311125907578231\n",
      "What's a good television show in Latin American Spanish that I could watch online to practice hearing and understanding conversational Spanish?:Why did the rabbit eat the road?:3.175465162913462\n",
      "What's a good television show in Latin American Spanish that I could watch online to practice hearing and understanding conversational Spanish?:Why is China so concerned with having a \"buffer zone\" with the U.S.:6.362328962857692\n",
      "What's a good television show in Latin American Spanish that I could watch online to practice hearing and understanding conversational Spanish?:[HELP] Moving a pregnant molly?:4.518332583766994\n",
      "What's a good television show in Latin American Spanish that I could watch online to practice hearing and understanding conversational Spanish?:[PF] Strix Zen Archer:4.568593525585918\n",
      "What's a good television show in Latin American Spanish that I could watch online to practice hearing and understanding conversational Spanish?:[iPad] When I touch links/subreddits on the iPad screen, it doesn't register in AB:5.0723154733665385\n",
      "What's a good television show in Latin American Spanish that I could watch online to practice hearing and understanding conversational Spanish?:biomedical innovations class.:3.4947543608798073\n"
     ]
    },
    {
     "name": "stderr",
     "output_type": "stream",
     "text": [
      "100%|██████████| 66/66 [00:00<00:00, 8410.02it/s]\n"
     ]
    },
    {
     "name": "stdout",
     "output_type": "stream",
     "text": [
      "What's a good television show in Latin American Spanish that I could watch online to practice hearing and understanding conversational Spanish?:does anyone else have this issue?:5.135569196828975\n",
      "What's a good television show in Latin American Spanish that I could watch online to practice hearing and understanding conversational Spanish?:foxy:2.2745952314629556\n",
      "What's a good television show in Latin American Spanish that I could watch online to practice hearing and understanding conversational Spanish?:rex reclaim:1.0573541448827417\n",
      "What's a good television show in Latin American Spanish that I could watch online to practice hearing and understanding conversational Spanish?:rs authenticator:3.8130507594358893\n"
     ]
    },
    {
     "name": "stderr",
     "output_type": "stream",
     "text": [
      "\n",
      "  0%|          | 0/66 [00:00<?, ?it/s]\u001b[A"
     ]
    },
    {
     "name": "stdout",
     "output_type": "stream",
     "text": [
      "What's going on here? Can't choose damaged book.:What's going on here? Can't choose damaged book.:2.5881284002833373\n",
      "What's going on here? Can't choose damaged book.:What's the worst nightmare you never had?:4.441166937487431\n",
      "What's going on here? Can't choose damaged book.:Where's the best place to chop yews in f2p?:4.4142078277178065\n",
      "What's going on here? Can't choose damaged book.:Why are people more likely to cut in front of you when driving in traffic, but if they were standing in line, they wouldn't do the same thing?:4.642939610913491\n",
      "What's going on here? Can't choose damaged book.:Why did the rabbit eat the road?:3.7426763076133858\n"
     ]
    },
    {
     "name": "stderr",
     "output_type": "stream",
     "text": [
      "100%|██████████| 66/66 [00:00<00:00, 8953.78it/s]\n"
     ]
    },
    {
     "name": "stdout",
     "output_type": "stream",
     "text": [
      "What's going on here? Can't choose damaged book.:Why is China so concerned with having a \"buffer zone\" with the U.S.:6.537082005159198\n",
      "What's going on here? Can't choose damaged book.:[HELP] Moving a pregnant molly?:4.843652376916117\n",
      "What's going on here? Can't choose damaged book.:[PF] Strix Zen Archer:4.8088859209435855\n",
      "What's going on here? Can't choose damaged book.:[iPad] When I touch links/subreddits on the iPad screen, it doesn't register in AB:5.142660842247655\n",
      "What's going on here? Can't choose damaged book.:biomedical innovations class.:3.959999447810204\n",
      "What's going on here? Can't choose damaged book.:does anyone else have this issue?:5.490821998529736\n",
      "What's going on here? Can't choose damaged book.:foxy:3.043872552117938\n",
      "What's going on here? Can't choose damaged book.:rex reclaim:2.022789060551581\n",
      "What's going on here? Can't choose damaged book.:rs authenticator:4.266900621995533\n"
     ]
    },
    {
     "name": "stderr",
     "output_type": "stream",
     "text": [
      "\n",
      "  0%|          | 0/66 [00:00<?, ?it/s]\u001b[A"
     ]
    },
    {
     "name": "stdout",
     "output_type": "stream",
     "text": [
      "What's the worst nightmare you never had?:What's the worst nightmare you never had?:3.8149709547322246\n",
      "What's the worst nightmare you never had?:Where's the best place to chop yews in f2p?:5.0951239070745835\n",
      "What's the worst nightmare you never had?:Why are people more likely to cut in front of you when driving in traffic, but if they were standing in line, they wouldn't do the same thing?:5.206033110626911\n",
      "What's the worst nightmare you never had?:Why did the rabbit eat the road?:4.804008180339661\n",
      "What's the worst nightmare you never had?:Why is China so concerned with having a \"buffer zone\" with the U.S.:6.747503155561266\n"
     ]
    },
    {
     "name": "stderr",
     "output_type": "stream",
     "text": [
      "100%|██████████| 66/66 [00:00<00:00, 9100.07it/s]\n"
     ]
    },
    {
     "name": "stdout",
     "output_type": "stream",
     "text": [
      "What's the worst nightmare you never had?:[HELP] Moving a pregnant molly?:5.441066457337111\n",
      "What's the worst nightmare you never had?:[PF] Strix Zen Archer:5.383113061041211\n",
      "What's the worst nightmare you never had?:[iPad] When I touch links/subreddits on the iPad screen, it doesn't register in AB:5.660900459866101\n",
      "What's the worst nightmare you never had?:biomedical innovations class.:4.847818369811383\n",
      "What's the worst nightmare you never had?:does anyone else have this issue?:6.101932529204652\n",
      "What's the worst nightmare you never had?:foxy:4.347902199820289\n",
      "What's the worst nightmare you never had?:rex reclaim:3.6258989087523315\n",
      "What's the worst nightmare you never had?:rs authenticator:5.163780946191379\n"
     ]
    },
    {
     "name": "stderr",
     "output_type": "stream",
     "text": [
      "\n",
      "  0%|          | 0/66 [00:00<?, ?it/s]\u001b[A"
     ]
    },
    {
     "name": "stdout",
     "output_type": "stream",
     "text": [
      "Where's the best place to chop yews in f2p?:Where's the best place to chop yews in f2p?:4.244458512061292\n"
     ]
    },
    {
     "name": "stderr",
     "output_type": "stream",
     "text": [
      "100%|██████████| 66/66 [00:00<00:00, 8212.66it/s]\n"
     ]
    },
    {
     "name": "stdout",
     "output_type": "stream",
     "text": [
      "Where's the best place to chop yews in f2p?:Why are people more likely to cut in front of you when driving in traffic, but if they were standing in line, they wouldn't do the same thing?:5.423980157565447\n",
      "Where's the best place to chop yews in f2p?:Why did the rabbit eat the road?:4.78227148480309\n",
      "Where's the best place to chop yews in f2p?:Why is China so concerned with having a \"buffer zone\" with the U.S.:6.952782717980119\n",
      "Where's the best place to chop yews in f2p?:[HELP] Moving a pregnant molly?:5.555163702448873\n",
      "Where's the best place to chop yews in f2p?:[PF] Strix Zen Archer:5.406848924950001\n",
      "Where's the best place to chop yews in f2p?:[iPad] When I touch links/subreddits on the iPad screen, it doesn't register in AB:5.9616014077002095\n",
      "Where's the best place to chop yews in f2p?:biomedical innovations class.:5.00624174256473\n",
      "Where's the best place to chop yews in f2p?:does anyone else have this issue?:6.1738965630891744\n",
      "Where's the best place to chop yews in f2p?:foxy:4.253276111992093\n",
      "Where's the best place to chop yews in f2p?:rex reclaim:3.4130452436258913\n",
      "Where's the best place to chop yews in f2p?:rs authenticator:5.001695050846278\n"
     ]
    },
    {
     "name": "stderr",
     "output_type": "stream",
     "text": [
      "\n",
      "  0%|          | 0/66 [00:00<?, ?it/s]\u001b[A"
     ]
    },
    {
     "name": "stdout",
     "output_type": "stream",
     "text": [
      "Why are people more likely to cut in front of you when driving in traffic, but if they were standing in line, they wouldn't do the same thing?:Why are people more likely to cut in front of you when driving in traffic, but if they were standing in line, they wouldn't do the same thing?:4.385090712404262\n",
      "Why are people more likely to cut in front of you when driving in traffic, but if they were standing in line, they wouldn't do the same thing?:Why did the rabbit eat the road?:4.967296832802954\n",
      "Why are people more likely to cut in front of you when driving in traffic, but if they were standing in line, they wouldn't do the same thing?:Why is China so concerned with having a \"buffer zone\" with the U.S.:6.859095757449995\n",
      "Why are people more likely to cut in front of you when driving in traffic, but if they were standing in line, they wouldn't do the same thing?:[HELP] Moving a pregnant molly?:5.755886173243697\n",
      "Why are people more likely to cut in front of you when driving in traffic, but if they were standing in line, they wouldn't do the same thing?:[PF] Strix Zen Archer:5.639727104084942\n",
      "Why are people more likely to cut in front of you when driving in traffic, but if they were standing in line, they wouldn't do the same thing?:[iPad] When I touch links/subreddits on the iPad screen, it doesn't register in AB:5.8856698299332155\n",
      "Why are people more likely to cut in front of you when driving in traffic, but if they were standing in line, they wouldn't do the same thing?:biomedical innovations class.:5.091576124851253\n"
     ]
    },
    {
     "name": "stderr",
     "output_type": "stream",
     "text": [
      "100%|██████████| 66/66 [00:00<00:00, 9184.91it/s]\n"
     ]
    },
    {
     "name": "stdout",
     "output_type": "stream",
     "text": [
      "Why are people more likely to cut in front of you when driving in traffic, but if they were standing in line, they wouldn't do the same thing?:does anyone else have this issue?:6.170386188830945\n",
      "Why are people more likely to cut in front of you when driving in traffic, but if they were standing in line, they wouldn't do the same thing?:foxy:4.632848007587119\n",
      "Why are people more likely to cut in front of you when driving in traffic, but if they were standing in line, they wouldn't do the same thing?:rex reclaim:3.9762179636977075\n",
      "Why are people more likely to cut in front of you when driving in traffic, but if they were standing in line, they wouldn't do the same thing?:rs authenticator:5.4486688330803865\n"
     ]
    },
    {
     "name": "stderr",
     "output_type": "stream",
     "text": [
      "\n",
      "  0%|          | 0/66 [00:00<?, ?it/s]\u001b[A"
     ]
    },
    {
     "name": "stdout",
     "output_type": "stream",
     "text": [
      "Why did the rabbit eat the road?:Why did the rabbit eat the road?:3.417604701434563\n",
      "Why did the rabbit eat the road?:Why is China so concerned with having a \"buffer zone\" with the U.S.:6.742471094894856\n",
      "Why did the rabbit eat the road?:[HELP] Moving a pregnant molly?:5.20878923572948\n",
      "Why did the rabbit eat the road?:[PF] Strix Zen Archer:5.31372954271565\n",
      "Why did the rabbit eat the road?:[iPad] When I touch links/subreddits on the iPad screen, it doesn't register in AB:5.712209536807357\n",
      "Why did the rabbit eat the road?:biomedical innovations class.:4.408281429982045\n",
      "Why did the rabbit eat the road?:does anyone else have this issue?:5.836816917229678\n",
      "Why did the rabbit eat the road?:foxy:3.5206901176275984\n"
     ]
    },
    {
     "name": "stderr",
     "output_type": "stream",
     "text": [
      "100%|██████████| 66/66 [00:00<00:00, 11189.33it/s]\n"
     ]
    },
    {
     "name": "stdout",
     "output_type": "stream",
     "text": [
      "Why did the rabbit eat the road?:rex reclaim:2.5680211862632296\n",
      "Why did the rabbit eat the road?:rs authenticator:4.819979562197463\n"
     ]
    },
    {
     "name": "stderr",
     "output_type": "stream",
     "text": [
      "\n",
      "  0%|          | 0/66 [00:00<?, ?it/s]\u001b[A"
     ]
    },
    {
     "name": "stdout",
     "output_type": "stream",
     "text": [
      "Why is China so concerned with having a \"buffer zone\" with the U.S.:Why is China so concerned with having a \"buffer zone\" with the U.S.:5.148385650908383\n",
      "Why is China so concerned with having a \"buffer zone\" with the U.S.:[HELP] Moving a pregnant molly?:7.085344277388935\n",
      "Why is China so concerned with having a \"buffer zone\" with the U.S.:[PF] Strix Zen Archer:6.907847167170397\n"
     ]
    },
    {
     "name": "stderr",
     "output_type": "stream",
     "text": [
      "100%|██████████| 66/66 [00:00<00:00, 12274.38it/s]\n"
     ]
    },
    {
     "name": "stdout",
     "output_type": "stream",
     "text": [
      "Why is China so concerned with having a \"buffer zone\" with the U.S.:[iPad] When I touch links/subreddits on the iPad screen, it doesn't register in AB:7.275621110670123\n",
      "Why is China so concerned with having a \"buffer zone\" with the U.S.:biomedical innovations class.:6.711967578544343\n",
      "Why is China so concerned with having a \"buffer zone\" with the U.S.:does anyone else have this issue?:7.582050090415613\n",
      "Why is China so concerned with having a \"buffer zone\" with the U.S.:foxy:6.609595638230209\n",
      "Why is China so concerned with having a \"buffer zone\" with the U.S.:rex reclaim:6.214375426938824\n",
      "Why is China so concerned with having a \"buffer zone\" with the U.S.:rs authenticator:7.212372687694186\n"
     ]
    },
    {
     "name": "stderr",
     "output_type": "stream",
     "text": [
      "\n",
      "  0%|          | 0/66 [00:00<?, ?it/s]\u001b[A"
     ]
    },
    {
     "name": "stdout",
     "output_type": "stream",
     "text": [
      "[HELP] Moving a pregnant molly?:[HELP] Moving a pregnant molly?:3.820786499341329\n",
      "[HELP] Moving a pregnant molly?:[PF] Strix Zen Archer:5.858368807368696\n",
      "[HELP] Moving a pregnant molly?:[iPad] When I touch links/subreddits on the iPad screen, it doesn't register in AB:6.213593044457616\n"
     ]
    },
    {
     "name": "stderr",
     "output_type": "stream",
     "text": [
      "100%|██████████| 66/66 [00:00<00:00, 13412.67it/s]"
     ]
    },
    {
     "name": "stdout",
     "output_type": "stream",
     "text": [
      "[HELP] Moving a pregnant molly?:biomedical innovations class.:5.250089246473079\n",
      "[HELP] Moving a pregnant molly?:does anyone else have this issue?:6.546509261399666\n",
      "[HELP] Moving a pregnant molly?:foxy:4.805545674146584\n",
      "[HELP] Moving a pregnant molly?:rex reclaim:4.1409853545240445\n",
      "[HELP] Moving a pregnant molly?:rs authenticator:5.660270359103707\n"
     ]
    },
    {
     "name": "stderr",
     "output_type": "stream",
     "text": [
      "\n",
      "\n",
      "  0%|          | 0/66 [00:00<?, ?it/s]\u001b[A"
     ]
    },
    {
     "name": "stdout",
     "output_type": "stream",
     "text": [
      "[PF] Strix Zen Archer:[PF] Strix Zen Archer:4.235123009182535\n",
      "[PF] Strix Zen Archer:[iPad] When I touch links/subreddits on the iPad screen, it doesn't register in AB:5.976960669343132\n",
      "[PF] Strix Zen Archer:biomedical innovations class.:5.302501342575565\n",
      "[PF] Strix Zen Archer:does anyone else have this issue?:6.388929332844085\n",
      "[PF] Strix Zen Archer:foxy:4.909612877101898\n"
     ]
    },
    {
     "name": "stderr",
     "output_type": "stream",
     "text": [
      "100%|██████████| 66/66 [00:00<00:00, 12038.45it/s]\n"
     ]
    },
    {
     "name": "stdout",
     "output_type": "stream",
     "text": [
      "[PF] Strix Zen Archer:rex reclaim:4.2532694218227896\n",
      "[PF] Strix Zen Archer:rs authenticator:5.449345524529392\n"
     ]
    },
    {
     "name": "stderr",
     "output_type": "stream",
     "text": [
      "\n",
      "  0%|          | 0/66 [00:00<?, ?it/s]\u001b[A"
     ]
    },
    {
     "name": "stdout",
     "output_type": "stream",
     "text": [
      "[iPad] When I touch links/subreddits on the iPad screen, it doesn't register in AB:[iPad] When I touch links/subreddits on the iPad screen, it doesn't register in AB:3.494350899431643\n",
      "[iPad] When I touch links/subreddits on the iPad screen, it doesn't register in AB:biomedical innovations class.:5.546341776323377\n",
      "[iPad] When I touch links/subreddits on the iPad screen, it doesn't register in AB:does anyone else have this issue?:5.549492000724539\n",
      "[iPad] When I touch links/subreddits on the iPad screen, it doesn't register in AB:foxy:5.50685771263499\n",
      "[iPad] When I touch links/subreddits on the iPad screen, it doesn't register in AB:rex reclaim:4.920907612319951\n"
     ]
    },
    {
     "name": "stderr",
     "output_type": "stream",
     "text": [
      "100%|██████████| 66/66 [00:00<00:00, 16497.26it/s]\n"
     ]
    },
    {
     "name": "stdout",
     "output_type": "stream",
     "text": [
      "[iPad] When I touch links/subreddits on the iPad screen, it doesn't register in AB:rs authenticator:5.392727122896449\n"
     ]
    },
    {
     "name": "stderr",
     "output_type": "stream",
     "text": [
      "\n",
      "100%|██████████| 66/66 [00:00<00:00, 16618.09it/s]\n"
     ]
    },
    {
     "name": "stdout",
     "output_type": "stream",
     "text": [
      "biomedical innovations class.:biomedical innovations class.:3.870429544897746\n",
      "biomedical innovations class.:does anyone else have this issue?:5.881675947096018\n",
      "biomedical innovations class.:foxy:3.8332862480116114\n",
      "biomedical innovations class.:rex reclaim:2.963728493485963\n",
      "biomedical innovations class.:rs authenticator:4.95886865788626\n"
     ]
    },
    {
     "name": "stderr",
     "output_type": "stream",
     "text": [
      "\n",
      "100%|██████████| 66/66 [00:00<00:00, 21564.54it/s]\n",
      " 95%|█████████▌| 63/66 [00:01<00:00, 75.57it/s]"
     ]
    },
    {
     "name": "stdout",
     "output_type": "stream",
     "text": [
      "does anyone else have this issue?:does anyone else have this issue?:4.243066510742386\n",
      "does anyone else have this issue?:foxy:5.540487270144439\n",
      "does anyone else have this issue?:rex reclaim:4.86049599208232\n",
      "does anyone else have this issue?:rs authenticator:5.637726685875878\n"
     ]
    },
    {
     "name": "stderr",
     "output_type": "stream",
     "text": [
      "\n",
      "100%|██████████| 66/66 [00:00<00:00, 24825.04it/s]\n"
     ]
    },
    {
     "name": "stdout",
     "output_type": "stream",
     "text": [
      "foxy:foxy:2.1299322937534133\n",
      "foxy:rex reclaim:1.4199655186338807\n",
      "foxy:rs authenticator:4.183780275087434\n"
     ]
    },
    {
     "name": "stderr",
     "output_type": "stream",
     "text": [
      "\n",
      "100%|██████████| 66/66 [00:00<00:00, 32582.87it/s]\n"
     ]
    },
    {
     "name": "stdout",
     "output_type": "stream",
     "text": [
      "rex reclaim:rex reclaim:3.1999999999999965e-05\n",
      "rex reclaim:rs authenticator:3.3178896673343474\n"
     ]
    },
    {
     "name": "stderr",
     "output_type": "stream",
     "text": [
      "\n",
      "100%|██████████| 66/66 [00:00<00:00, 36366.80it/s]"
     ]
    },
    {
     "name": "stdout",
     "output_type": "stream",
     "text": [
      "rs authenticator:rs authenticator:4.021004786027182\n"
     ]
    },
    {
     "name": "stderr",
     "output_type": "stream",
     "text": [
      "\n",
      "100%|██████████| 66/66 [00:01<00:00, 52.81it/s]\n"
     ]
    }
   ],
   "source": [
    "grouped_data = fewselectposts.groupby(\"thread_title\")\n",
    "dist = torch.nn.PairwiseDistance()\n",
    "resultstopic: typing.Dict[typing.Tuple[str, str], float] = {}\n",
    "for model_1, c_1 in tqdm.tqdm(grouped_data['claim_optlow_MXBAI'], total=grouped_data.ngroups):\n",
    "    for model_2, c_2 in tqdm.tqdm(grouped_data['claim_optlow_MXBAI'], total=grouped_data.ngroups):\n",
    "\n",
    "        if (\n",
    "            (model_1, model_2) in resultstopic.keys() or \n",
    "            (model_2, model_1) in resultstopic.keys()\n",
    "        ):\n",
    "            continue\n",
    "\n",
    "        res = sum([\n",
    "            sum(dist(\n",
    "                torch.tensor(np.array(v_1)), \n",
    "                torch.tensor(np.array(c_2.tolist()))\n",
    "                )) / len(c_2)\n",
    "            for v_1 in c_1\n",
    "        ]) / len(c_1)\n",
    "\n",
    "        resultstopic[(model_1, model_2)] = res\n",
    "\n",
    "        print(f'{model_1}:{model_2}:{res.item()}')"
   ]
  },
  {
   "cell_type": "code",
   "execution_count": null,
   "metadata": {},
   "outputs": [],
   "source": [
    "#somewhat higher variance, but not much...."
   ]
  },
  {
   "cell_type": "code",
   "execution_count": 90,
   "metadata": {},
   "outputs": [],
   "source": [
    "reddit3000.to_parquet(f'{CFG.report_dir}/reddit3000.parquet')"
   ]
  },
  {
   "cell_type": "code",
   "execution_count": 8,
   "metadata": {},
   "outputs": [],
   "source": [
    "reddit3000= pd.read_parquet(f'{CFG.report_dir}/reddit3000.parquet') "
   ]
  },
  {
   "cell_type": "code",
   "execution_count": 44,
   "metadata": {},
   "outputs": [
    {
     "data": {
      "text/html": [
       "<div>\n",
       "<style scoped>\n",
       "    .dataframe tbody tr th:only-of-type {\n",
       "        vertical-align: middle;\n",
       "    }\n",
       "\n",
       "    .dataframe tbody tr th {\n",
       "        vertical-align: top;\n",
       "    }\n",
       "\n",
       "    .dataframe thead th {\n",
       "        text-align: right;\n",
       "    }\n",
       "</style>\n",
       "<table border=\"1\" class=\"dataframe\">\n",
       "  <thead>\n",
       "    <tr style=\"text-align: right;\">\n",
       "      <th></th>\n",
       "      <th>id</th>\n",
       "      <th>body</th>\n",
       "      <th>subreddit</th>\n",
       "      <th>thread_title</th>\n",
       "      <th>majority_link</th>\n",
       "      <th>majority_type</th>\n",
       "      <th>is_first_post</th>\n",
       "      <th>post_depth</th>\n",
       "      <th>author</th>\n",
       "      <th>claim_oplow</th>\n",
       "      <th>claim_optlow_MXBAI</th>\n",
       "    </tr>\n",
       "  </thead>\n",
       "  <tbody>\n",
       "    <tr>\n",
       "      <th>0</th>\n",
       "      <td>t3_1bx6qw</td>\n",
       "      <td></td>\n",
       "      <td>100movies365days</td>\n",
       "      <td>DTX120: #87 - Nashville</td>\n",
       "      <td>none</td>\n",
       "      <td>announcement</td>\n",
       "      <td>True</td>\n",
       "      <td>NaN</td>\n",
       "      <td>None</td>\n",
       "      <td>[]</td>\n",
       "      <td>[0.3085225224494934, 0.0025453902781009674, -0.632075309753418, 0.29504382610321045, 0.351623713...</td>\n",
       "    </tr>\n",
       "    <tr>\n",
       "      <th>1</th>\n",
       "      <td>t1_c9b2nyd</td>\n",
       "      <td>I've wanted to watch this for a long time. I was also turned off by the country western aspect.</td>\n",
       "      <td>100movies365days</td>\n",
       "      <td>DTX120: #87 - Nashville</td>\n",
       "      <td>t3_1bx6qw</td>\n",
       "      <td>elaboration</td>\n",
       "      <td>None</td>\n",
       "      <td>1.0</td>\n",
       "      <td>mcgrewf10</td>\n",
       "      <td>[\"The user has wanted to watch something for a long time\", \"The country western aspect of someth...</td>\n",
       "      <td>[0.4254729151725769, -0.01032189279794693, -0.6786631941795349, 0.32541653513908386, 0.298534691...</td>\n",
       "    </tr>\n",
       "    <tr>\n",
       "      <th>2</th>\n",
       "      <td>t1_c9b30i1</td>\n",
       "      <td>You strike me as the type who would appreciate it. I would give it a go. This is also my first A...</td>\n",
       "      <td>100movies365days</td>\n",
       "      <td>DTX120: #87 - Nashville</td>\n",
       "      <td>t1_c9b2nyd</td>\n",
       "      <td>elaboration</td>\n",
       "      <td>None</td>\n",
       "      <td>2.0</td>\n",
       "      <td>None</td>\n",
       "      <td>[\"Magnolia has a similar structure to Altman's films with no lead character\", \"Boogie Nights and...</td>\n",
       "      <td>[0.7148110270500183, -0.15317122638225555, -0.5416110157966614, -0.1810915321111679, -0.36302334...</td>\n",
       "    </tr>\n",
       "    <tr>\n",
       "      <th>3</th>\n",
       "      <td>t1_c9b6sj0</td>\n",
       "      <td>Yeah, I've always heard that Altman was famous for his ensemble casts. But I, too, have never se...</td>\n",
       "      <td>100movies365days</td>\n",
       "      <td>DTX120: #87 - Nashville</td>\n",
       "      <td>t1_c9b30i1</td>\n",
       "      <td>elaboration</td>\n",
       "      <td>None</td>\n",
       "      <td>3.0</td>\n",
       "      <td>mcgrewf10</td>\n",
       "      <td>[\"Altman is famous for his ensemble casts\", \"The user has never seen an Altman film\"]</td>\n",
       "      <td>[0.7345885634422302, -0.177871972322464, -0.609611451625824, -0.0007055625319480896, -0.08616860...</td>\n",
       "    </tr>\n",
       "    <tr>\n",
       "      <th>4</th>\n",
       "      <td>t3_omv7p</td>\n",
       "      <td>Alright guys, little background about myself. I'm a good looking, 23 year old male, have had mod...</td>\n",
       "      <td>100sets</td>\n",
       "      <td>Male, 23 years old. Going for 100 sets!</td>\n",
       "      <td>none</td>\n",
       "      <td>announcement</td>\n",
       "      <td>True</td>\n",
       "      <td>NaN</td>\n",
       "      <td>Keatonus</td>\n",
       "      <td>[\"The writer has had modest success with women in the past\", \"The writer lacks killer instinct a...</td>\n",
       "      <td>[0.5479655265808105, -0.197927325963974, -0.4277328550815582, 0.18708674609661102, 0.06689110398...</td>\n",
       "    </tr>\n",
       "  </tbody>\n",
       "</table>\n",
       "</div>"
      ],
      "text/plain": [
       "           id  \\\n",
       "0   t3_1bx6qw   \n",
       "1  t1_c9b2nyd   \n",
       "2  t1_c9b30i1   \n",
       "3  t1_c9b6sj0   \n",
       "4    t3_omv7p   \n",
       "\n",
       "                                                                                                  body  \\\n",
       "0                                                                                                        \n",
       "1      I've wanted to watch this for a long time. I was also turned off by the country western aspect.   \n",
       "2  You strike me as the type who would appreciate it. I would give it a go. This is also my first A...   \n",
       "3  Yeah, I've always heard that Altman was famous for his ensemble casts. But I, too, have never se...   \n",
       "4  Alright guys, little background about myself. I'm a good looking, 23 year old male, have had mod...   \n",
       "\n",
       "          subreddit                             thread_title majority_link  \\\n",
       "0  100movies365days                  DTX120: #87 - Nashville          none   \n",
       "1  100movies365days                  DTX120: #87 - Nashville     t3_1bx6qw   \n",
       "2  100movies365days                  DTX120: #87 - Nashville    t1_c9b2nyd   \n",
       "3  100movies365days                  DTX120: #87 - Nashville    t1_c9b30i1   \n",
       "4           100sets  Male, 23 years old. Going for 100 sets!          none   \n",
       "\n",
       "  majority_type is_first_post  post_depth     author  \\\n",
       "0  announcement          True         NaN       None   \n",
       "1   elaboration          None         1.0  mcgrewf10   \n",
       "2   elaboration          None         2.0       None   \n",
       "3   elaboration          None         3.0  mcgrewf10   \n",
       "4  announcement          True         NaN   Keatonus   \n",
       "\n",
       "                                                                                           claim_oplow  \\\n",
       "0                                                                                                   []   \n",
       "1  [\"The user has wanted to watch something for a long time\", \"The country western aspect of someth...   \n",
       "2  [\"Magnolia has a similar structure to Altman's films with no lead character\", \"Boogie Nights and...   \n",
       "3                [\"Altman is famous for his ensemble casts\", \"The user has never seen an Altman film\"]   \n",
       "4  [\"The writer has had modest success with women in the past\", \"The writer lacks killer instinct a...   \n",
       "\n",
       "                                                                                    claim_optlow_MXBAI  \n",
       "0  [0.3085225224494934, 0.0025453902781009674, -0.632075309753418, 0.29504382610321045, 0.351623713...  \n",
       "1  [0.4254729151725769, -0.01032189279794693, -0.6786631941795349, 0.32541653513908386, 0.298534691...  \n",
       "2  [0.7148110270500183, -0.15317122638225555, -0.5416110157966614, -0.1810915321111679, -0.36302334...  \n",
       "3  [0.7345885634422302, -0.177871972322464, -0.609611451625824, -0.0007055625319480896, -0.08616860...  \n",
       "4  [0.5479655265808105, -0.197927325963974, -0.4277328550815582, 0.18708674609661102, 0.06689110398...  "
      ]
     },
     "execution_count": 44,
     "metadata": {},
     "output_type": "execute_result"
    }
   ],
   "source": [
    "reddit3000.head()"
   ]
  },
  {
   "cell_type": "code",
   "execution_count": 45,
   "metadata": {},
   "outputs": [
    {
     "data": {
      "text/html": [
       "<div>\n",
       "<style scoped>\n",
       "    .dataframe tbody tr th:only-of-type {\n",
       "        vertical-align: middle;\n",
       "    }\n",
       "\n",
       "    .dataframe tbody tr th {\n",
       "        vertical-align: top;\n",
       "    }\n",
       "\n",
       "    .dataframe thead th {\n",
       "        text-align: right;\n",
       "    }\n",
       "</style>\n",
       "<table border=\"1\" class=\"dataframe\">\n",
       "  <thead>\n",
       "    <tr style=\"text-align: right;\">\n",
       "      <th></th>\n",
       "      <th>body</th>\n",
       "      <th>claim_oplow</th>\n",
       "    </tr>\n",
       "  </thead>\n",
       "  <tbody>\n",
       "    <tr>\n",
       "      <th>0</th>\n",
       "      <td></td>\n",
       "      <td>[]</td>\n",
       "    </tr>\n",
       "    <tr>\n",
       "      <th>1</th>\n",
       "      <td>I've wanted to watch this for a long time. I was also turned off by the country western aspect.</td>\n",
       "      <td>[\"The user has wanted to watch something for a long time\", \"The country western aspect of something is off-putting\"]</td>\n",
       "    </tr>\n",
       "    <tr>\n",
       "      <th>2</th>\n",
       "      <td>You strike me as the type who would appreciate it. I would give it a go. This is also my first Altman film so I didn't really know what to expect, except that people always compare PTA's Boogie Nights and Magnolia as being influenced by Altman. Magnolia is probably the best analog in terms of structure (having no lead character) but it is stylistically very different, much more melodramatic and transparently earnest.</td>\n",
       "      <td>[\"Magnolia has a similar structure to Altman's films with no lead character\", \"Boogie Nights and Magnolia were influenced by Altman\"]</td>\n",
       "    </tr>\n",
       "    <tr>\n",
       "      <th>3</th>\n",
       "      <td>Yeah, I've always heard that Altman was famous for his ensemble casts. But I, too, have never seen an Altman.</td>\n",
       "      <td>[\"Altman is famous for his ensemble casts\", \"The user has never seen an Altman film\"]</td>\n",
       "    </tr>\n",
       "  </tbody>\n",
       "</table>\n",
       "</div>"
      ],
      "text/plain": [
       "                                                                                                                                                                                                                                                                                                                                                                                                                                    body  \\\n",
       "0                                                                                                                                                                                                                                                                                                                                                                                                                                          \n",
       "1                                                                                                                                                                                                                                                                                                                                        I've wanted to watch this for a long time. I was also turned off by the country western aspect.   \n",
       "2  You strike me as the type who would appreciate it. I would give it a go. This is also my first Altman film so I didn't really know what to expect, except that people always compare PTA's Boogie Nights and Magnolia as being influenced by Altman. Magnolia is probably the best analog in terms of structure (having no lead character) but it is stylistically very different, much more melodramatic and transparently earnest.    \n",
       "3                                                                                                                                                                                                                                                                                                                          Yeah, I've always heard that Altman was famous for his ensemble casts. But I, too, have never seen an Altman.   \n",
       "\n",
       "                                                                                                                             claim_oplow  \n",
       "0                                                                                                                                     []  \n",
       "1                   [\"The user has wanted to watch something for a long time\", \"The country western aspect of something is off-putting\"]  \n",
       "2  [\"Magnolia has a similar structure to Altman's films with no lead character\", \"Boogie Nights and Magnolia were influenced by Altman\"]  \n",
       "3                                                  [\"Altman is famous for his ensemble casts\", \"The user has never seen an Altman film\"]  "
      ]
     },
     "execution_count": 45,
     "metadata": {},
     "output_type": "execute_result"
    }
   ],
   "source": [
    "pd.set_option('display.max_colwidth', None) \n",
    "reddit3000.loc[:3, ['body', 'claim_oplow']]"
   ]
  },
  {
   "cell_type": "code",
   "execution_count": null,
   "metadata": {},
   "outputs": [],
   "source": []
  }
 ],
 "metadata": {
  "kernelspec": {
   "display_name": "llmdiv",
   "language": "python",
   "name": "python3"
  },
  "language_info": {
   "codemirror_mode": {
    "name": "ipython",
    "version": 3
   },
   "file_extension": ".py",
   "mimetype": "text/x-python",
   "name": "python",
   "nbconvert_exporter": "python",
   "pygments_lexer": "ipython3",
   "version": "3.12.7"
  }
 },
 "nbformat": 4,
 "nbformat_minor": 4
}
